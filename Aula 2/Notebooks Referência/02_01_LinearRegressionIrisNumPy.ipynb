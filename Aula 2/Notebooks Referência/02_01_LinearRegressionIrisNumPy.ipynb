{
 "cells": [
  {
   "cell_type": "markdown",
   "metadata": {
    "id": "iSTEskpMk-_X"
   },
   "source": [
    "# Regressão Linear com NumPy"
   ]
  },
  {
   "cell_type": "markdown",
   "metadata": {
    "id": "asVk4PQQk-_l"
   },
   "source": [
    "## Objetivos deste experimento"
   ]
  },
  {
   "cell_type": "markdown",
   "metadata": {
    "id": "LE_V8v9Sk-_n"
   },
   "source": [
    "Este exemplo utiliza regressão linear para estimar o comprimento das sépalas da íris a partir do seu comprimento das pétalas.\n",
    "Utiliza-se programação totalmente NumPy com:\n",
    "- o **cálculo do gradiente**, \n",
    "- a **função de perda** e\n",
    "- a atualização dos parâmetros são feitos de forma explícita.\n",
    "- A rede é criada com uma camada como uma classe"
   ]
  },
  {
   "cell_type": "markdown",
   "metadata": {
    "id": "Uqd3Aq2vk_A3"
   },
   "source": [
    "<img src='https://raw.githubusercontent.com/robertoalotufo/files/master/figures/RegressaoLinear_Otimizacao.png' width='500'></a>"
   ]
  },
  {
   "cell_type": "markdown",
   "metadata": {
    "id": "1TT7e9D9k_A4"
   },
   "source": [
    "## Importação dos pacotes"
   ]
  },
  {
   "cell_type": "code",
   "execution_count": 4,
   "metadata": {
    "ExecuteTime": {
     "end_time": "2019-11-20T22:47:23.895483Z",
     "start_time": "2019-11-20T22:47:23.081272Z"
    },
    "id": "nkAr_Opbk_A6"
   },
   "outputs": [],
   "source": [
    "%matplotlib inline\n",
    "import matplotlib.pyplot as plt   # para plotting\n",
    "\n",
    "from sklearn.datasets import load_iris  # para carregar dataset\n",
    "\n",
    "import numpy as np  # processamento matricial\n",
    "\n",
    "np.random.seed(1234)"
   ]
  },
  {
   "cell_type": "markdown",
   "metadata": {
    "id": "WQX2yXoXk_BC"
   },
   "source": [
    "## Dataset"
   ]
  },
  {
   "cell_type": "markdown",
   "metadata": {
    "id": "c1bcmKjjk_BD"
   },
   "source": [
    "### Leitura dos dados"
   ]
  },
  {
   "cell_type": "code",
   "execution_count": 5,
   "metadata": {
    "ExecuteTime": {
     "end_time": "2019-11-20T22:47:23.928287Z",
     "start_time": "2019-11-20T22:47:23.898205Z"
    },
    "colab": {
     "base_uri": "https://localhost:8080/"
    },
    "id": "qUU-sUWek_BE",
    "outputId": "4a485e3a-e1c3-49e4-be16-8bca3e997334"
   },
   "outputs": [
    {
     "name": "stdout",
     "output_type": "stream",
     "text": [
      "x_train.shape: (50, 1) float64\n",
      "y_train.shape: (50, 1) float64\n",
      "x_train[:5]:\n",
      " [[7. ]\n",
      " [6.4]\n",
      " [6.9]\n",
      " [5.5]\n",
      " [6.5]]\n",
      "y_train[:5]:\n",
      " [[4.7]\n",
      " [4.5]\n",
      " [4.9]\n",
      " [4. ]\n",
      " [4.6]]\n"
     ]
    }
   ],
   "source": [
    "iris = load_iris()\n",
    "data = iris.data[iris.target==1,::2]  # comprimento das sépalas e pétalas, indices 0 e 2\n",
    "\n",
    "x_train = data[:,0:1]\n",
    "y_train = data[:,1:2]\n",
    "\n",
    "n_samples = x_train.shape[0]\n",
    "print('x_train.shape:',x_train.shape, x_train.dtype)\n",
    "print('y_train.shape:',y_train.shape, y_train.dtype)\n",
    "\n",
    "print('x_train[:5]:\\n', x_train[:5])\n",
    "print('y_train[:5]:\\n', y_train[:5])"
   ]
  },
  {
   "cell_type": "code",
   "execution_count": 6,
   "metadata": {
    "id": "rGFWuJ50mx_N"
   },
   "outputs": [
    {
     "data": {
      "text/plain": [
       "[(array([7.]), array([4.7])),\n",
       " (array([6.4]), array([4.5])),\n",
       " (array([6.9]), array([4.9])),\n",
       " (array([5.5]), array([4.])),\n",
       " (array([6.5]), array([4.6])),\n",
       " (array([5.7]), array([4.5])),\n",
       " (array([6.3]), array([4.7])),\n",
       " (array([4.9]), array([3.3])),\n",
       " (array([6.6]), array([4.6])),\n",
       " (array([5.2]), array([3.9])),\n",
       " (array([5.]), array([3.5])),\n",
       " (array([5.9]), array([4.2])),\n",
       " (array([6.]), array([4.])),\n",
       " (array([6.1]), array([4.7])),\n",
       " (array([5.6]), array([3.6])),\n",
       " (array([6.7]), array([4.4])),\n",
       " (array([5.6]), array([4.5])),\n",
       " (array([5.8]), array([4.1])),\n",
       " (array([6.2]), array([4.5])),\n",
       " (array([5.6]), array([3.9])),\n",
       " (array([5.9]), array([4.8])),\n",
       " (array([6.1]), array([4.])),\n",
       " (array([6.3]), array([4.9])),\n",
       " (array([6.1]), array([4.7])),\n",
       " (array([6.4]), array([4.3])),\n",
       " (array([6.6]), array([4.4])),\n",
       " (array([6.8]), array([4.8])),\n",
       " (array([6.7]), array([5.])),\n",
       " (array([6.]), array([4.5])),\n",
       " (array([5.7]), array([3.5])),\n",
       " (array([5.5]), array([3.8])),\n",
       " (array([5.5]), array([3.7])),\n",
       " (array([5.8]), array([3.9])),\n",
       " (array([6.]), array([5.1])),\n",
       " (array([5.4]), array([4.5])),\n",
       " (array([6.]), array([4.5])),\n",
       " (array([6.7]), array([4.7])),\n",
       " (array([6.3]), array([4.4])),\n",
       " (array([5.6]), array([4.1])),\n",
       " (array([5.5]), array([4.])),\n",
       " (array([5.5]), array([4.4])),\n",
       " (array([6.1]), array([4.6])),\n",
       " (array([5.8]), array([4.])),\n",
       " (array([5.]), array([3.3])),\n",
       " (array([5.6]), array([4.2])),\n",
       " (array([5.7]), array([4.2])),\n",
       " (array([5.7]), array([4.2])),\n",
       " (array([6.2]), array([4.3])),\n",
       " (array([5.1]), array([3.])),\n",
       " (array([5.7]), array([4.1]))]"
      ]
     },
     "execution_count": 6,
     "metadata": {},
     "output_type": "execute_result"
    }
   ],
   "source": [
    "out = [(x_i, y_i) for x_i, y_i in zip(x_train, y_train)]\n",
    "out"
   ]
  },
  {
   "cell_type": "code",
   "execution_count": 7,
   "metadata": {
    "id": "6pT0ww9wnNDr"
   },
   "outputs": [],
   "source": [
    "out = []\n",
    "for x_i, y_i in zip(x_train, y_train):\n",
    "  out.append((x_i, y_i))"
   ]
  },
  {
   "cell_type": "code",
   "execution_count": 8,
   "metadata": {
    "colab": {
     "base_uri": "https://localhost:8080/"
    },
    "id": "fwkCmbUSn0sx",
    "outputId": "5cd806d0-a1b0-4d37-ea20-c8708f3053e9"
   },
   "outputs": [
    {
     "data": {
      "text/plain": [
       "array([[7. , 4.7],\n",
       "       [6.4, 4.5],\n",
       "       [6.9, 4.9],\n",
       "       [5.5, 4. ],\n",
       "       [6.5, 4.6],\n",
       "       [5.7, 4.5],\n",
       "       [6.3, 4.7],\n",
       "       [4.9, 3.3],\n",
       "       [6.6, 4.6],\n",
       "       [5.2, 3.9],\n",
       "       [5. , 3.5],\n",
       "       [5.9, 4.2],\n",
       "       [6. , 4. ],\n",
       "       [6.1, 4.7],\n",
       "       [5.6, 3.6],\n",
       "       [6.7, 4.4],\n",
       "       [5.6, 4.5],\n",
       "       [5.8, 4.1],\n",
       "       [6.2, 4.5],\n",
       "       [5.6, 3.9],\n",
       "       [5.9, 4.8],\n",
       "       [6.1, 4. ],\n",
       "       [6.3, 4.9],\n",
       "       [6.1, 4.7],\n",
       "       [6.4, 4.3],\n",
       "       [6.6, 4.4],\n",
       "       [6.8, 4.8],\n",
       "       [6.7, 5. ],\n",
       "       [6. , 4.5],\n",
       "       [5.7, 3.5],\n",
       "       [5.5, 3.8],\n",
       "       [5.5, 3.7],\n",
       "       [5.8, 3.9],\n",
       "       [6. , 5.1],\n",
       "       [5.4, 4.5],\n",
       "       [6. , 4.5],\n",
       "       [6.7, 4.7],\n",
       "       [6.3, 4.4],\n",
       "       [5.6, 4.1],\n",
       "       [5.5, 4. ],\n",
       "       [5.5, 4.4],\n",
       "       [6.1, 4.6],\n",
       "       [5.8, 4. ],\n",
       "       [5. , 3.3],\n",
       "       [5.6, 4.2],\n",
       "       [5.7, 4.2],\n",
       "       [5.7, 4.2],\n",
       "       [6.2, 4.3],\n",
       "       [5.1, 3. ],\n",
       "       [5.7, 4.1]])"
      ]
     },
     "execution_count": 8,
     "metadata": {},
     "output_type": "execute_result"
    }
   ],
   "source": [
    "np.concatenate([x_train, y_train], axis=1)"
   ]
  },
  {
   "cell_type": "markdown",
   "metadata": {
    "id": "-fYOi6vBk_BJ"
   },
   "source": [
    "### Normalização dos dados"
   ]
  },
  {
   "cell_type": "code",
   "execution_count": 9,
   "metadata": {
    "ExecuteTime": {
     "end_time": "2019-11-20T22:47:23.943887Z",
     "start_time": "2019-11-20T22:47:23.932371Z"
    },
    "id": "_57JEIR1k_BJ"
   },
   "outputs": [],
   "source": [
    "xt_min = x_train.min()\n",
    "xt_max = x_train.max()\n",
    "x_train_n = (x_train - xt_min)/(xt_max - xt_min)\n",
    "\n",
    "yt_min = y_train.min()\n",
    "yt_max = y_train.max()\n",
    "y_train_n = (y_train - yt_min)/(yt_max - yt_min)"
   ]
  },
  {
   "cell_type": "code",
   "execution_count": 10,
   "metadata": {
    "ExecuteTime": {
     "end_time": "2019-11-20T22:47:24.396991Z",
     "start_time": "2019-11-20T22:47:23.948900Z"
    },
    "colab": {
     "base_uri": "https://localhost:8080/",
     "height": 296
    },
    "id": "fY0-Fk8Qk_BN",
    "outputId": "85a09c0b-c344-472a-bee8-1fdfa212fe0a"
   },
   "outputs": [
    {
     "data": {
      "text/plain": [
       "Text(0, 0.5, 'Comprimento petalas')"
      ]
     },
     "execution_count": 10,
     "metadata": {},
     "output_type": "execute_result"
    },
    {
     "data": {
      "image/png": "[encoded data removed]",
      "text/plain": [
       "<Figure size 432x288 with 1 Axes>"
      ]
     },
     "metadata": {
      "needs_background": "light"
     },
     "output_type": "display_data"
    }
   ],
   "source": [
    "plt.scatter(x_train_n,y_train_n)\n",
    "plt.xlabel('Comprimento sepalas')\n",
    "plt.ylabel('Comprimento petalas')"
   ]
  },
  {
   "cell_type": "markdown",
   "metadata": {
    "id": "sE533YSLk_BQ"
   },
   "source": [
    "## Modelo da rede"
   ]
  },
  {
   "cell_type": "markdown",
   "metadata": {
    "id": "0tjJVC8Qk_BR"
   },
   "source": [
    "### Reta de ajuste"
   ]
  },
  {
   "cell_type": "markdown",
   "metadata": {
    "id": "JG5GX0Jqk_BS"
   },
   "source": [
    "A equação da reta no plano necessita de dois parâmetros, aqui denominados $w_0$ (*bias*) e inclinação $w_1$. Veja figura:\n",
    "\n",
    "\n",
    "<img src=\"https://raw.githubusercontent.com/robertoalotufo/files/master/figures/linhareta.png\" width=\"300pt\">\n",
    "\n",
    "A reta de ajuste será dada por:\n",
    "\n",
    "$$ \\hat{y} = w_0 + w_1 x $$\n",
    "\n",
    "onde \n",
    "* $w_1$ é o coeficiente angular da reta e \n",
    "* $w_0$ é a interseção do eixo vertical quando x é igual a zero, também denominado de *bias*.\n",
    "* $x$ é a variável de entrada (comprimento das sépalas) e \n",
    "* $\\hat{y}$ é a predição (comprimento estimado das pétalas)."
   ]
  },
  {
   "cell_type": "markdown",
   "metadata": {
    "id": "-0C3zAKxk_BT"
   },
   "source": [
    "### Linear Regression Model"
   ]
  },
  {
   "cell_type": "markdown",
   "metadata": {
    "id": "yCG8jvwdk_BU"
   },
   "source": [
    "<img src='https://raw.githubusercontent.com/robertoalotufo/files/master//figures/RegressaoLinearNeuronio.png' width='400'></a>"
   ]
  },
  {
   "cell_type": "markdown",
   "metadata": {
    "id": "l0p186f5k_BV"
   },
   "source": [
    "### Formulação matricial do neurônio"
   ]
  },
  {
   "cell_type": "markdown",
   "metadata": {
    "id": "SqV4Hf7Jk_BW"
   },
   "source": [
    "* $\\mathbf{w} = [w_0 \\ w_1]$ é vetor linha de parâmetros e \n",
    "* $\\mathbf{x} = [1 \\ x_0] $ é vetor linha de uma amostra (com *bias*).\n",
    "\n",
    "$$ \\hat{y} = 1 w_0 + x_0 w_1 $$\n",
    "\n",
    "$$ [\\hat{y}] = [1 \\ x_0] \\begin{bmatrix} w_0 \\\\ w_1 \\end{bmatrix} $$\n",
    "\n",
    "$$ \\mathbf{\\hat{y}} = \\mathbf{x} \\mathbf{w^T} $$"
   ]
  },
  {
   "cell_type": "markdown",
   "metadata": {
    "id": "-5U9Bi17k_BX"
   },
   "source": [
    "### Fazendo o predict de várias amostras"
   ]
  },
  {
   "cell_type": "markdown",
   "metadata": {
    "id": "DJl-UgB5k_BY"
   },
   "source": [
    "$$ \\begin{matrix} \n",
    "\\begin{bmatrix}\n",
    "\\hat{y}_0\\\\ \n",
    "\\hat{y}_1\\\\\n",
    "\\\\\n",
    "\\hat{y}_{M-1} \n",
    "\\end{bmatrix} &=& \\begin{bmatrix}\n",
    "1 & x_0 \\\\ \n",
    "1 & x_1\\\\\n",
    "\\\\ \n",
    "1 & x_{M-1} \\\\ \n",
    "\\end{bmatrix}\n",
    "&\n",
    "\\begin{bmatrix}\n",
    "w_0\\\\ \n",
    "w_1\n",
    "\\end{bmatrix} \\\\\n",
    "(M,1) & & (M,2) & (2,1) \\\\\n",
    "\\end{matrix} $$"
   ]
  },
  {
   "cell_type": "markdown",
   "metadata": {
    "id": "5ZVpwvhJk_BZ"
   },
   "source": [
    "### Preenchendo x com coluna de 1's para bias"
   ]
  },
  {
   "cell_type": "code",
   "execution_count": 11,
   "metadata": {
    "ExecuteTime": {
     "end_time": "2019-11-20T22:47:24.407867Z",
     "start_time": "2019-11-20T22:47:24.400560Z"
    },
    "id": "o36ewtv4k_Ba"
   },
   "outputs": [],
   "source": [
    "x_train_bias = np.hstack([np.ones(shape=(n_samples,1)), x_train_n])"
   ]
  },
  {
   "cell_type": "markdown",
   "metadata": {
    "id": "2m54b7-Kk_Bd"
   },
   "source": [
    "### Classe com o modelo da rede"
   ]
  },
  {
   "cell_type": "code",
   "execution_count": 12,
   "metadata": {
    "ExecuteTime": {
     "end_time": "2019-11-20T22:47:24.420543Z",
     "start_time": "2019-11-20T22:47:24.413964Z"
    },
    "id": "I6LO9z7Sk_Bf"
   },
   "outputs": [],
   "source": [
    "class Net():\n",
    "    def __init__(self, n_in, n_out):\n",
    "        self.w = np.random.uniform(-0.1,0.1,(n_out,n_in)) #inicialização dos parâmetros\n",
    "        print(f'w inicial: {self.w}')\n",
    "\n",
    "    def forward(self, x_bias):\n",
    "        return x_bias.dot(self.w.T)"
   ]
  },
  {
   "cell_type": "markdown",
   "metadata": {
    "id": "KCtYj4wYk_Bi"
   },
   "source": [
    "### Criando a rede, instanciando o objeto model"
   ]
  },
  {
   "cell_type": "code",
   "execution_count": 13,
   "metadata": {
    "ExecuteTime": {
     "end_time": "2019-11-20T22:47:24.432191Z",
     "start_time": "2019-11-20T22:47:24.424599Z"
    },
    "colab": {
     "base_uri": "https://localhost:8080/"
    },
    "id": "9BoqX7Lyk_Bj",
    "outputId": "af2b90a3-8f23-4e86-b26c-865a655fec86"
   },
   "outputs": [
    {
     "name": "stdout",
     "output_type": "stream",
     "text": [
      "w inicial: [[-0.06169611  0.02442175]]\n"
     ]
    }
   ],
   "source": [
    "model = Net(2,1) # duas entradas (1 + x0) e uma saída y_pred"
   ]
  },
  {
   "cell_type": "markdown",
   "metadata": {
    "id": "fTQRV7k5k_Bm"
   },
   "source": [
    "### Testando o predict da rede (mesmo sem treiná-la)"
   ]
  },
  {
   "cell_type": "code",
   "execution_count": 14,
   "metadata": {
    "ExecuteTime": {
     "end_time": "2019-11-20T22:47:24.473067Z",
     "start_time": "2019-11-20T22:47:24.454298Z"
    },
    "colab": {
     "base_uri": "https://localhost:8080/"
    },
    "id": "PAdN-1Z9k_Bn",
    "outputId": "dcd9cffa-56a3-41d0-fc39-47ac085ee644"
   },
   "outputs": [
    {
     "data": {
      "text/plain": [
       "array([[-0.09602795],\n",
       "       [ 0.0661236 ],\n",
       "       [-0.06857828],\n",
       "       [-0.05573871]])"
      ]
     },
     "execution_count": 14,
     "metadata": {},
     "output_type": "execute_result"
    }
   ],
   "source": [
    "xin = np.random.randn(4,2) # 4 amostras, 2 entradas (1 + x0)\n",
    "ypred = model.forward(xin)\n",
    "ypred"
   ]
  },
  {
   "cell_type": "markdown",
   "metadata": {
    "id": "Pa3UAVfOk_Br"
   },
   "source": [
    "## Treinamento via gradiente descendente"
   ]
  },
  {
   "cell_type": "markdown",
   "metadata": {
    "id": "JwTVyZEyk_Br"
   },
   "source": [
    "Função de perda:\n",
    "$$ J(\\hat{y_i},y_i) = \\frac{1}{M} \\sum_{i=0}^{M-1} (\\hat{y_i} - y_i)^2 $$"
   ]
  },
  {
   "cell_type": "markdown",
   "metadata": {
    "ExecuteTime": {
     "end_time": "2017-10-05T14:05:06.244776",
     "start_time": "2017-10-05T14:05:06.240743"
    },
    "id": "4-lRtR1ik_Bs"
   },
   "source": [
    "Gradiente:\n",
    "$$\\mathbf{\\nabla{J_w}} = \\frac{2}{M}\\mathbf{x^T}(\\mathbf{x w^T} - \\mathbf{y}) $$"
   ]
  },
  {
   "cell_type": "markdown",
   "metadata": {
    "ExecuteTime": {
     "end_time": "2017-10-05T14:06:17.929718",
     "start_time": "2017-10-05T14:06:17.925519"
    },
    "id": "tyYuAnVEk_Bt"
   },
   "source": [
    "Atualização dos parâmetros pelo gradiente descendente:\n",
    "$$ \\mathbf{w} = \\mathbf{w} − \\eta (\\mathbf{\\nabla J_w})^T $$"
   ]
  },
  {
   "cell_type": "markdown",
   "metadata": {
    "id": "_SCuhsrTk_Bu"
   },
   "source": [
    "### Laço de treinamento"
   ]
  },
  {
   "cell_type": "code",
   "execution_count": 21,
   "metadata": {
    "ExecuteTime": {
     "end_time": "2019-11-20T22:47:24.512030Z",
     "start_time": "2019-11-20T22:47:24.481323Z"
    },
    "id": "FhC8PyjAk_Bv",
    "scrolled": false
   },
   "outputs": [
    {
     "name": "stdout",
     "output_type": "stream",
     "text": [
      "w inicial: [[ 0.00061663 -0.09724631]]\n",
      "Epoch[1/1000], loss: 0.476608\n",
      "Epoch[2/1000], loss: 0.474399\n",
      "Epoch[3/1000], loss: 0.472202\n",
      "Epoch[4/1000], loss: 0.470015\n",
      "Epoch[5/1000], loss: 0.467839\n",
      "Epoch[6/1000], loss: 0.465675\n",
      "Epoch[7/1000], loss: 0.463521\n",
      "Epoch[8/1000], loss: 0.461378\n",
      "Epoch[9/1000], loss: 0.459245\n",
      "Epoch[10/1000], loss: 0.457124\n",
      "Epoch[11/1000], loss: 0.455013\n",
      "Epoch[12/1000], loss: 0.452912\n",
      "Epoch[13/1000], loss: 0.450822\n",
      "Epoch[14/1000], loss: 0.448743\n",
      "Epoch[15/1000], loss: 0.446673\n",
      "Epoch[16/1000], loss: 0.444615\n",
      "Epoch[17/1000], loss: 0.442566\n",
      "Epoch[18/1000], loss: 0.440528\n",
      "Epoch[19/1000], loss: 0.438500\n",
      "Epoch[20/1000], loss: 0.436482\n",
      "Epoch[21/1000], loss: 0.434475\n",
      "Epoch[22/1000], loss: 0.432477\n",
      "Epoch[23/1000], loss: 0.430490\n",
      "Epoch[24/1000], loss: 0.428512\n",
      "Epoch[25/1000], loss: 0.426544\n",
      "Epoch[26/1000], loss: 0.424586\n",
      "Epoch[27/1000], loss: 0.422638\n",
      "Epoch[28/1000], loss: 0.420700\n",
      "Epoch[29/1000], loss: 0.418771\n",
      "Epoch[30/1000], loss: 0.416852\n",
      "Epoch[31/1000], loss: 0.414943\n",
      "Epoch[32/1000], loss: 0.413043\n",
      "Epoch[33/1000], loss: 0.411153\n",
      "Epoch[34/1000], loss: 0.409272\n",
      "Epoch[35/1000], loss: 0.407400\n",
      "Epoch[36/1000], loss: 0.405538\n",
      "Epoch[37/1000], loss: 0.403686\n",
      "Epoch[38/1000], loss: 0.401842\n",
      "Epoch[39/1000], loss: 0.400008\n",
      "Epoch[40/1000], loss: 0.398183\n",
      "Epoch[41/1000], loss: 0.396367\n",
      "Epoch[42/1000], loss: 0.394560\n",
      "Epoch[43/1000], loss: 0.392763\n",
      "Epoch[44/1000], loss: 0.390974\n",
      "Epoch[45/1000], loss: 0.389194\n",
      "Epoch[46/1000], loss: 0.387423\n",
      "Epoch[47/1000], loss: 0.385661\n",
      "Epoch[48/1000], loss: 0.383908\n",
      "Epoch[49/1000], loss: 0.382164\n",
      "Epoch[50/1000], loss: 0.380428\n",
      "Epoch[51/1000], loss: 0.378701\n",
      "Epoch[52/1000], loss: 0.376983\n",
      "Epoch[53/1000], loss: 0.375273\n",
      "Epoch[54/1000], loss: 0.373572\n",
      "Epoch[55/1000], loss: 0.371879\n",
      "Epoch[56/1000], loss: 0.370195\n",
      "Epoch[57/1000], loss: 0.368519\n",
      "Epoch[58/1000], loss: 0.366852\n",
      "Epoch[59/1000], loss: 0.365193\n",
      "Epoch[60/1000], loss: 0.363542\n",
      "Epoch[61/1000], loss: 0.361900\n",
      "Epoch[62/1000], loss: 0.360266\n",
      "Epoch[63/1000], loss: 0.358640\n",
      "Epoch[64/1000], loss: 0.357022\n",
      "Epoch[65/1000], loss: 0.355412\n",
      "Epoch[66/1000], loss: 0.353810\n",
      "Epoch[67/1000], loss: 0.352217\n",
      "Epoch[68/1000], loss: 0.350631\n",
      "Epoch[69/1000], loss: 0.349053\n",
      "Epoch[70/1000], loss: 0.347483\n",
      "Epoch[71/1000], loss: 0.345921\n",
      "Epoch[72/1000], loss: 0.344367\n",
      "Epoch[73/1000], loss: 0.342821\n",
      "Epoch[74/1000], loss: 0.341282\n",
      "Epoch[75/1000], loss: 0.339751\n",
      "Epoch[76/1000], loss: 0.338228\n",
      "Epoch[77/1000], loss: 0.336712\n",
      "Epoch[78/1000], loss: 0.335204\n",
      "Epoch[79/1000], loss: 0.333703\n",
      "Epoch[80/1000], loss: 0.332210\n",
      "Epoch[81/1000], loss: 0.330725\n",
      "Epoch[82/1000], loss: 0.329247\n",
      "Epoch[83/1000], loss: 0.327776\n",
      "Epoch[84/1000], loss: 0.326312\n",
      "Epoch[85/1000], loss: 0.324856\n",
      "Epoch[86/1000], loss: 0.323408\n",
      "Epoch[87/1000], loss: 0.321966\n",
      "Epoch[88/1000], loss: 0.320532\n",
      "Epoch[89/1000], loss: 0.319105\n",
      "Epoch[90/1000], loss: 0.317685\n",
      "Epoch[91/1000], loss: 0.316272\n",
      "Epoch[92/1000], loss: 0.314866\n",
      "Epoch[93/1000], loss: 0.313467\n",
      "Epoch[94/1000], loss: 0.312076\n",
      "Epoch[95/1000], loss: 0.310691\n",
      "Epoch[96/1000], loss: 0.309313\n",
      "Epoch[97/1000], loss: 0.307942\n",
      "Epoch[98/1000], loss: 0.306578\n",
      "Epoch[99/1000], loss: 0.305221\n",
      "Epoch[100/1000], loss: 0.303870\n",
      "Epoch[101/1000], loss: 0.302527\n",
      "Epoch[102/1000], loss: 0.301190\n",
      "Epoch[103/1000], loss: 0.299859\n",
      "Epoch[104/1000], loss: 0.298536\n",
      "Epoch[105/1000], loss: 0.297219\n",
      "Epoch[106/1000], loss: 0.295908\n",
      "Epoch[107/1000], loss: 0.294604\n",
      "Epoch[108/1000], loss: 0.293307\n",
      "Epoch[109/1000], loss: 0.292016\n",
      "Epoch[110/1000], loss: 0.290732\n",
      "Epoch[111/1000], loss: 0.289454\n",
      "Epoch[112/1000], loss: 0.288182\n",
      "Epoch[113/1000], loss: 0.286917\n",
      "Epoch[114/1000], loss: 0.285658\n",
      "Epoch[115/1000], loss: 0.284406\n",
      "Epoch[116/1000], loss: 0.283160\n",
      "Epoch[117/1000], loss: 0.281919\n",
      "Epoch[118/1000], loss: 0.280686\n",
      "Epoch[119/1000], loss: 0.279458\n",
      "Epoch[120/1000], loss: 0.278236\n",
      "Epoch[121/1000], loss: 0.277021\n",
      "Epoch[122/1000], loss: 0.275812\n",
      "Epoch[123/1000], loss: 0.274608\n",
      "Epoch[124/1000], loss: 0.273411\n",
      "Epoch[125/1000], loss: 0.272220\n",
      "Epoch[126/1000], loss: 0.271034\n",
      "Epoch[127/1000], loss: 0.269855\n",
      "Epoch[128/1000], loss: 0.268682\n",
      "Epoch[129/1000], loss: 0.267514\n",
      "Epoch[130/1000], loss: 0.266352\n",
      "Epoch[131/1000], loss: 0.265196\n",
      "Epoch[132/1000], loss: 0.264046\n",
      "Epoch[133/1000], loss: 0.262902\n",
      "Epoch[134/1000], loss: 0.261763\n",
      "Epoch[135/1000], loss: 0.260630\n",
      "Epoch[136/1000], loss: 0.259503\n",
      "Epoch[137/1000], loss: 0.258381\n",
      "Epoch[138/1000], loss: 0.257265\n",
      "Epoch[139/1000], loss: 0.256154\n",
      "Epoch[140/1000], loss: 0.255049\n",
      "Epoch[141/1000], loss: 0.253950\n",
      "Epoch[142/1000], loss: 0.252856\n",
      "Epoch[143/1000], loss: 0.251768\n",
      "Epoch[144/1000], loss: 0.250685\n",
      "Epoch[145/1000], loss: 0.249607\n",
      "Epoch[146/1000], loss: 0.248535\n",
      "Epoch[147/1000], loss: 0.247468\n",
      "Epoch[148/1000], loss: 0.246407\n",
      "Epoch[149/1000], loss: 0.245351\n",
      "Epoch[150/1000], loss: 0.244300\n",
      "Epoch[151/1000], loss: 0.243254\n",
      "Epoch[152/1000], loss: 0.242214\n",
      "Epoch[153/1000], loss: 0.241178\n",
      "Epoch[154/1000], loss: 0.240148\n",
      "Epoch[155/1000], loss: 0.239124\n",
      "Epoch[156/1000], loss: 0.238104\n",
      "Epoch[157/1000], loss: 0.237089\n",
      "Epoch[158/1000], loss: 0.236080\n",
      "Epoch[159/1000], loss: 0.235075\n",
      "Epoch[160/1000], loss: 0.234076\n",
      "Epoch[161/1000], loss: 0.233081\n",
      "Epoch[162/1000], loss: 0.232092\n",
      "Epoch[163/1000], loss: 0.231107\n",
      "Epoch[164/1000], loss: 0.230127\n",
      "Epoch[165/1000], loss: 0.229153\n",
      "Epoch[166/1000], loss: 0.228183\n",
      "Epoch[167/1000], loss: 0.227218\n",
      "Epoch[168/1000], loss: 0.226257\n",
      "Epoch[169/1000], loss: 0.225302\n",
      "Epoch[170/1000], loss: 0.224351\n",
      "Epoch[171/1000], loss: 0.223406\n",
      "Epoch[172/1000], loss: 0.222465\n",
      "Epoch[173/1000], loss: 0.221528\n",
      "Epoch[174/1000], loss: 0.220596\n",
      "Epoch[175/1000], loss: 0.219669\n",
      "Epoch[176/1000], loss: 0.218747\n",
      "Epoch[177/1000], loss: 0.217829\n",
      "Epoch[178/1000], loss: 0.216916\n",
      "Epoch[179/1000], loss: 0.216007\n",
      "Epoch[180/1000], loss: 0.215103\n",
      "Epoch[181/1000], loss: 0.214203\n",
      "Epoch[182/1000], loss: 0.213308\n",
      "Epoch[183/1000], loss: 0.212418\n",
      "Epoch[184/1000], loss: 0.211531\n",
      "Epoch[185/1000], loss: 0.210650\n",
      "Epoch[186/1000], loss: 0.209772\n",
      "Epoch[187/1000], loss: 0.208899\n",
      "Epoch[188/1000], loss: 0.208031\n",
      "Epoch[189/1000], loss: 0.207166\n",
      "Epoch[190/1000], loss: 0.206307\n",
      "Epoch[191/1000], loss: 0.205451\n",
      "Epoch[192/1000], loss: 0.204600\n",
      "Epoch[193/1000], loss: 0.203752\n",
      "Epoch[194/1000], loss: 0.202910\n",
      "Epoch[195/1000], loss: 0.202071\n",
      "Epoch[196/1000], loss: 0.201236\n",
      "Epoch[197/1000], loss: 0.200406\n",
      "Epoch[198/1000], loss: 0.199580\n",
      "Epoch[199/1000], loss: 0.198758\n",
      "Epoch[200/1000], loss: 0.197940\n",
      "Epoch[201/1000], loss: 0.197126\n",
      "Epoch[202/1000], loss: 0.196317\n",
      "Epoch[203/1000], loss: 0.195511\n",
      "Epoch[204/1000], loss: 0.194709\n",
      "Epoch[205/1000], loss: 0.193912\n",
      "Epoch[206/1000], loss: 0.193118\n",
      "Epoch[207/1000], loss: 0.192328\n",
      "Epoch[208/1000], loss: 0.191542\n",
      "Epoch[209/1000], loss: 0.190761\n",
      "Epoch[210/1000], loss: 0.189983\n",
      "Epoch[211/1000], loss: 0.189209\n",
      "Epoch[212/1000], loss: 0.188438\n",
      "Epoch[213/1000], loss: 0.187672\n",
      "Epoch[214/1000], loss: 0.186910\n",
      "Epoch[215/1000], loss: 0.186151\n",
      "Epoch[216/1000], loss: 0.185396\n",
      "Epoch[217/1000], loss: 0.184645\n",
      "Epoch[218/1000], loss: 0.183898\n",
      "Epoch[219/1000], loss: 0.183154\n",
      "Epoch[220/1000], loss: 0.182414\n",
      "Epoch[221/1000], loss: 0.181678\n",
      "Epoch[222/1000], loss: 0.180945\n",
      "Epoch[223/1000], loss: 0.180216\n",
      "Epoch[224/1000], loss: 0.179491\n",
      "Epoch[225/1000], loss: 0.178770\n",
      "Epoch[226/1000], loss: 0.178052\n",
      "Epoch[227/1000], loss: 0.177337\n",
      "Epoch[228/1000], loss: 0.176626\n",
      "Epoch[229/1000], loss: 0.175919\n",
      "Epoch[230/1000], loss: 0.175215\n",
      "Epoch[231/1000], loss: 0.174515\n",
      "Epoch[232/1000], loss: 0.173818\n",
      "Epoch[233/1000], loss: 0.173125\n",
      "Epoch[234/1000], loss: 0.172435\n",
      "Epoch[235/1000], loss: 0.171749\n",
      "Epoch[236/1000], loss: 0.171066\n",
      "Epoch[237/1000], loss: 0.170386\n",
      "Epoch[238/1000], loss: 0.169710\n",
      "Epoch[239/1000], loss: 0.169037\n",
      "Epoch[240/1000], loss: 0.168368\n",
      "Epoch[241/1000], loss: 0.167702\n",
      "Epoch[242/1000], loss: 0.167039\n",
      "Epoch[243/1000], loss: 0.166380\n",
      "Epoch[244/1000], loss: 0.165724\n",
      "Epoch[245/1000], loss: 0.165071\n",
      "Epoch[246/1000], loss: 0.164421\n",
      "Epoch[247/1000], loss: 0.163775\n",
      "Epoch[248/1000], loss: 0.163132\n",
      "Epoch[249/1000], loss: 0.162492\n",
      "Epoch[250/1000], loss: 0.161855\n",
      "Epoch[251/1000], loss: 0.161222\n",
      "Epoch[252/1000], loss: 0.160592\n",
      "Epoch[253/1000], loss: 0.159964\n",
      "Epoch[254/1000], loss: 0.159340\n",
      "Epoch[255/1000], loss: 0.158719\n",
      "Epoch[256/1000], loss: 0.158101\n",
      "Epoch[257/1000], loss: 0.157487\n",
      "Epoch[258/1000], loss: 0.156875\n",
      "Epoch[259/1000], loss: 0.156266\n",
      "Epoch[260/1000], loss: 0.155661\n",
      "Epoch[261/1000], loss: 0.155058\n",
      "Epoch[262/1000], loss: 0.154459\n",
      "Epoch[263/1000], loss: 0.153862\n",
      "Epoch[264/1000], loss: 0.153268\n",
      "Epoch[265/1000], loss: 0.152678\n",
      "Epoch[266/1000], loss: 0.152090\n",
      "Epoch[267/1000], loss: 0.151505\n",
      "Epoch[268/1000], loss: 0.150923\n",
      "Epoch[269/1000], loss: 0.150345\n",
      "Epoch[270/1000], loss: 0.149769\n",
      "Epoch[271/1000], loss: 0.149195\n",
      "Epoch[272/1000], loss: 0.148625\n",
      "Epoch[273/1000], loss: 0.148058\n",
      "Epoch[274/1000], loss: 0.147493\n",
      "Epoch[275/1000], loss: 0.146931\n",
      "Epoch[276/1000], loss: 0.146372\n",
      "Epoch[277/1000], loss: 0.145816\n",
      "Epoch[278/1000], loss: 0.145263\n",
      "Epoch[279/1000], loss: 0.144712\n",
      "Epoch[280/1000], loss: 0.144164\n",
      "Epoch[281/1000], loss: 0.143619\n",
      "Epoch[282/1000], loss: 0.143076\n",
      "Epoch[283/1000], loss: 0.142536\n",
      "Epoch[284/1000], loss: 0.141999\n",
      "Epoch[285/1000], loss: 0.141465\n",
      "Epoch[286/1000], loss: 0.140933\n",
      "Epoch[287/1000], loss: 0.140404\n",
      "Epoch[288/1000], loss: 0.139878\n",
      "Epoch[289/1000], loss: 0.139354\n",
      "Epoch[290/1000], loss: 0.138833\n",
      "Epoch[291/1000], loss: 0.138314\n",
      "Epoch[292/1000], loss: 0.137798\n",
      "Epoch[293/1000], loss: 0.137285\n",
      "Epoch[294/1000], loss: 0.136774\n",
      "Epoch[295/1000], loss: 0.136266\n",
      "Epoch[296/1000], loss: 0.135760\n",
      "Epoch[297/1000], loss: 0.135257\n",
      "Epoch[298/1000], loss: 0.134756\n",
      "Epoch[299/1000], loss: 0.134258\n",
      "Epoch[300/1000], loss: 0.133762\n",
      "Epoch[301/1000], loss: 0.133269\n",
      "Epoch[302/1000], loss: 0.132778\n",
      "Epoch[303/1000], loss: 0.132289\n",
      "Epoch[304/1000], loss: 0.131803\n",
      "Epoch[305/1000], loss: 0.131320\n",
      "Epoch[306/1000], loss: 0.130839\n",
      "Epoch[307/1000], loss: 0.130360\n",
      "Epoch[308/1000], loss: 0.129884\n",
      "Epoch[309/1000], loss: 0.129410\n",
      "Epoch[310/1000], loss: 0.128938\n",
      "Epoch[311/1000], loss: 0.128469\n",
      "Epoch[312/1000], loss: 0.128002\n",
      "Epoch[313/1000], loss: 0.127537\n",
      "Epoch[314/1000], loss: 0.127075\n",
      "Epoch[315/1000], loss: 0.126615\n",
      "Epoch[316/1000], loss: 0.126158\n",
      "Epoch[317/1000], loss: 0.125702\n",
      "Epoch[318/1000], loss: 0.125249\n",
      "Epoch[319/1000], loss: 0.124798\n",
      "Epoch[320/1000], loss: 0.124350\n",
      "Epoch[321/1000], loss: 0.123903\n",
      "Epoch[322/1000], loss: 0.123459\n",
      "Epoch[323/1000], loss: 0.123017\n",
      "Epoch[324/1000], loss: 0.122578\n",
      "Epoch[325/1000], loss: 0.122140\n",
      "Epoch[326/1000], loss: 0.121705\n",
      "Epoch[327/1000], loss: 0.121272\n",
      "Epoch[328/1000], loss: 0.120841\n",
      "Epoch[329/1000], loss: 0.120412\n",
      "Epoch[330/1000], loss: 0.119985\n",
      "Epoch[331/1000], loss: 0.119560\n",
      "Epoch[332/1000], loss: 0.119138\n",
      "Epoch[333/1000], loss: 0.118718\n",
      "Epoch[334/1000], loss: 0.118299\n",
      "Epoch[335/1000], loss: 0.117883\n",
      "Epoch[336/1000], loss: 0.117469\n",
      "Epoch[337/1000], loss: 0.117057\n",
      "Epoch[338/1000], loss: 0.116647\n",
      "Epoch[339/1000], loss: 0.116239\n",
      "Epoch[340/1000], loss: 0.115833\n",
      "Epoch[341/1000], loss: 0.115429\n",
      "Epoch[342/1000], loss: 0.115027\n",
      "Epoch[343/1000], loss: 0.114627\n",
      "Epoch[344/1000], loss: 0.114229\n",
      "Epoch[345/1000], loss: 0.113833\n",
      "Epoch[346/1000], loss: 0.113440\n",
      "Epoch[347/1000], loss: 0.113048\n",
      "Epoch[348/1000], loss: 0.112658\n",
      "Epoch[349/1000], loss: 0.112269\n",
      "Epoch[350/1000], loss: 0.111883\n",
      "Epoch[351/1000], loss: 0.111499\n",
      "Epoch[352/1000], loss: 0.111117\n",
      "Epoch[353/1000], loss: 0.110736\n",
      "Epoch[354/1000], loss: 0.110358\n",
      "Epoch[355/1000], loss: 0.109981\n",
      "Epoch[356/1000], loss: 0.109606\n",
      "Epoch[357/1000], loss: 0.109233\n",
      "Epoch[358/1000], loss: 0.108862\n",
      "Epoch[359/1000], loss: 0.108493\n",
      "Epoch[360/1000], loss: 0.108126\n",
      "Epoch[361/1000], loss: 0.107760\n",
      "Epoch[362/1000], loss: 0.107397\n",
      "Epoch[363/1000], loss: 0.107035\n",
      "Epoch[364/1000], loss: 0.106675\n",
      "Epoch[365/1000], loss: 0.106316\n",
      "Epoch[366/1000], loss: 0.105960\n",
      "Epoch[367/1000], loss: 0.105605\n",
      "Epoch[368/1000], loss: 0.105252\n",
      "Epoch[369/1000], loss: 0.104901\n",
      "Epoch[370/1000], loss: 0.104552\n",
      "Epoch[371/1000], loss: 0.104204\n",
      "Epoch[372/1000], loss: 0.103858\n",
      "Epoch[373/1000], loss: 0.103514\n",
      "Epoch[374/1000], loss: 0.103171\n",
      "Epoch[375/1000], loss: 0.102830\n",
      "Epoch[376/1000], loss: 0.102491\n",
      "Epoch[377/1000], loss: 0.102153\n",
      "Epoch[378/1000], loss: 0.101818\n",
      "Epoch[379/1000], loss: 0.101484\n",
      "Epoch[380/1000], loss: 0.101151\n",
      "Epoch[381/1000], loss: 0.100820\n",
      "Epoch[382/1000], loss: 0.100491\n",
      "Epoch[383/1000], loss: 0.100164\n",
      "Epoch[384/1000], loss: 0.099838\n",
      "Epoch[385/1000], loss: 0.099513\n",
      "Epoch[386/1000], loss: 0.099191\n",
      "Epoch[387/1000], loss: 0.098870\n",
      "Epoch[388/1000], loss: 0.098550\n",
      "Epoch[389/1000], loss: 0.098232\n",
      "Epoch[390/1000], loss: 0.097916\n",
      "Epoch[391/1000], loss: 0.097601\n",
      "Epoch[392/1000], loss: 0.097288\n",
      "Epoch[393/1000], loss: 0.096977\n",
      "Epoch[394/1000], loss: 0.096667\n",
      "Epoch[395/1000], loss: 0.096358\n",
      "Epoch[396/1000], loss: 0.096051\n",
      "Epoch[397/1000], loss: 0.095746\n",
      "Epoch[398/1000], loss: 0.095442\n",
      "Epoch[399/1000], loss: 0.095139\n",
      "Epoch[400/1000], loss: 0.094839\n",
      "Epoch[401/1000], loss: 0.094539\n",
      "Epoch[402/1000], loss: 0.094241\n",
      "Epoch[403/1000], loss: 0.093945\n",
      "Epoch[404/1000], loss: 0.093650\n",
      "Epoch[405/1000], loss: 0.093356\n",
      "Epoch[406/1000], loss: 0.093064\n",
      "Epoch[407/1000], loss: 0.092774\n",
      "Epoch[408/1000], loss: 0.092484\n",
      "Epoch[409/1000], loss: 0.092197\n",
      "Epoch[410/1000], loss: 0.091911\n",
      "Epoch[411/1000], loss: 0.091626\n",
      "Epoch[412/1000], loss: 0.091342\n",
      "Epoch[413/1000], loss: 0.091060\n",
      "Epoch[414/1000], loss: 0.090780\n",
      "Epoch[415/1000], loss: 0.090500\n",
      "Epoch[416/1000], loss: 0.090222\n",
      "Epoch[417/1000], loss: 0.089946\n",
      "Epoch[418/1000], loss: 0.089671\n",
      "Epoch[419/1000], loss: 0.089397\n",
      "Epoch[420/1000], loss: 0.089125\n",
      "Epoch[421/1000], loss: 0.088854\n",
      "Epoch[422/1000], loss: 0.088584\n",
      "Epoch[423/1000], loss: 0.088316\n",
      "Epoch[424/1000], loss: 0.088049\n",
      "Epoch[425/1000], loss: 0.087783\n",
      "Epoch[426/1000], loss: 0.087519\n",
      "Epoch[427/1000], loss: 0.087256\n",
      "Epoch[428/1000], loss: 0.086994\n",
      "Epoch[429/1000], loss: 0.086734\n",
      "Epoch[430/1000], loss: 0.086474\n",
      "Epoch[431/1000], loss: 0.086217\n",
      "Epoch[432/1000], loss: 0.085960\n",
      "Epoch[433/1000], loss: 0.085705\n",
      "Epoch[434/1000], loss: 0.085451\n",
      "Epoch[435/1000], loss: 0.085198\n",
      "Epoch[436/1000], loss: 0.084946\n",
      "Epoch[437/1000], loss: 0.084696\n",
      "Epoch[438/1000], loss: 0.084447\n",
      "Epoch[439/1000], loss: 0.084199\n",
      "Epoch[440/1000], loss: 0.083953\n",
      "Epoch[441/1000], loss: 0.083707\n",
      "Epoch[442/1000], loss: 0.083463\n",
      "Epoch[443/1000], loss: 0.083220\n",
      "Epoch[444/1000], loss: 0.082979\n",
      "Epoch[445/1000], loss: 0.082738\n",
      "Epoch[446/1000], loss: 0.082499\n",
      "Epoch[447/1000], loss: 0.082261\n",
      "Epoch[448/1000], loss: 0.082024\n",
      "Epoch[449/1000], loss: 0.081788\n",
      "Epoch[450/1000], loss: 0.081553\n",
      "Epoch[451/1000], loss: 0.081320\n",
      "Epoch[452/1000], loss: 0.081088\n",
      "Epoch[453/1000], loss: 0.080856\n",
      "Epoch[454/1000], loss: 0.080627\n",
      "Epoch[455/1000], loss: 0.080398\n",
      "Epoch[456/1000], loss: 0.080170\n",
      "Epoch[457/1000], loss: 0.079943\n",
      "Epoch[458/1000], loss: 0.079718\n",
      "Epoch[459/1000], loss: 0.079494\n",
      "Epoch[460/1000], loss: 0.079270\n",
      "Epoch[461/1000], loss: 0.079048\n",
      "Epoch[462/1000], loss: 0.078827\n",
      "Epoch[463/1000], loss: 0.078607\n",
      "Epoch[464/1000], loss: 0.078388\n",
      "Epoch[465/1000], loss: 0.078171\n",
      "Epoch[466/1000], loss: 0.077954\n",
      "Epoch[467/1000], loss: 0.077738\n",
      "Epoch[468/1000], loss: 0.077524\n",
      "Epoch[469/1000], loss: 0.077310\n",
      "Epoch[470/1000], loss: 0.077098\n",
      "Epoch[471/1000], loss: 0.076887\n",
      "Epoch[472/1000], loss: 0.076676\n",
      "Epoch[473/1000], loss: 0.076467\n",
      "Epoch[474/1000], loss: 0.076259\n",
      "Epoch[475/1000], loss: 0.076052\n",
      "Epoch[476/1000], loss: 0.075846\n",
      "Epoch[477/1000], loss: 0.075640\n",
      "Epoch[478/1000], loss: 0.075436\n",
      "Epoch[479/1000], loss: 0.075233\n",
      "Epoch[480/1000], loss: 0.075031\n",
      "Epoch[481/1000], loss: 0.074830\n",
      "Epoch[482/1000], loss: 0.074630\n",
      "Epoch[483/1000], loss: 0.074431\n",
      "Epoch[484/1000], loss: 0.074233\n",
      "Epoch[485/1000], loss: 0.074035\n",
      "Epoch[486/1000], loss: 0.073839\n",
      "Epoch[487/1000], loss: 0.073644\n",
      "Epoch[488/1000], loss: 0.073450\n",
      "Epoch[489/1000], loss: 0.073256\n",
      "Epoch[490/1000], loss: 0.073064\n",
      "Epoch[491/1000], loss: 0.072873\n",
      "Epoch[492/1000], loss: 0.072682\n",
      "Epoch[493/1000], loss: 0.072493\n",
      "Epoch[494/1000], loss: 0.072304\n",
      "Epoch[495/1000], loss: 0.072117\n",
      "Epoch[496/1000], loss: 0.071930\n",
      "Epoch[497/1000], loss: 0.071744\n",
      "Epoch[498/1000], loss: 0.071559\n",
      "Epoch[499/1000], loss: 0.071375\n",
      "Epoch[500/1000], loss: 0.071192\n",
      "Epoch[501/1000], loss: 0.071010\n",
      "Epoch[502/1000], loss: 0.070829\n",
      "Epoch[503/1000], loss: 0.070649\n",
      "Epoch[504/1000], loss: 0.070469\n",
      "Epoch[505/1000], loss: 0.070291\n",
      "Epoch[506/1000], loss: 0.070113\n",
      "Epoch[507/1000], loss: 0.069936\n",
      "Epoch[508/1000], loss: 0.069760\n",
      "Epoch[509/1000], loss: 0.069585\n",
      "Epoch[510/1000], loss: 0.069411\n",
      "Epoch[511/1000], loss: 0.069238\n",
      "Epoch[512/1000], loss: 0.069065\n",
      "Epoch[513/1000], loss: 0.068894\n",
      "Epoch[514/1000], loss: 0.068723\n",
      "Epoch[515/1000], loss: 0.068553\n",
      "Epoch[516/1000], loss: 0.068384\n",
      "Epoch[517/1000], loss: 0.068216\n",
      "Epoch[518/1000], loss: 0.068048\n",
      "Epoch[519/1000], loss: 0.067882\n",
      "Epoch[520/1000], loss: 0.067716\n",
      "Epoch[521/1000], loss: 0.067551\n",
      "Epoch[522/1000], loss: 0.067387\n",
      "Epoch[523/1000], loss: 0.067223\n",
      "Epoch[524/1000], loss: 0.067061\n",
      "Epoch[525/1000], loss: 0.066899\n",
      "Epoch[526/1000], loss: 0.066738\n",
      "Epoch[527/1000], loss: 0.066578\n",
      "Epoch[528/1000], loss: 0.066419\n",
      "Epoch[529/1000], loss: 0.066260\n",
      "Epoch[530/1000], loss: 0.066103\n",
      "Epoch[531/1000], loss: 0.065946\n",
      "Epoch[532/1000], loss: 0.065789\n",
      "Epoch[533/1000], loss: 0.065634\n",
      "Epoch[534/1000], loss: 0.065479\n",
      "Epoch[535/1000], loss: 0.065325\n",
      "Epoch[536/1000], loss: 0.065172\n",
      "Epoch[537/1000], loss: 0.065020\n",
      "Epoch[538/1000], loss: 0.064868\n",
      "Epoch[539/1000], loss: 0.064717\n",
      "Epoch[540/1000], loss: 0.064567\n",
      "Epoch[541/1000], loss: 0.064418\n",
      "Epoch[542/1000], loss: 0.064269\n",
      "Epoch[543/1000], loss: 0.064121\n",
      "Epoch[544/1000], loss: 0.063974\n",
      "Epoch[545/1000], loss: 0.063827\n",
      "Epoch[546/1000], loss: 0.063682\n",
      "Epoch[547/1000], loss: 0.063537\n",
      "Epoch[548/1000], loss: 0.063392\n",
      "Epoch[549/1000], loss: 0.063249\n",
      "Epoch[550/1000], loss: 0.063106\n",
      "Epoch[551/1000], loss: 0.062963\n",
      "Epoch[552/1000], loss: 0.062822\n",
      "Epoch[553/1000], loss: 0.062681\n",
      "Epoch[554/1000], loss: 0.062541\n",
      "Epoch[555/1000], loss: 0.062402\n",
      "Epoch[556/1000], loss: 0.062263\n",
      "Epoch[557/1000], loss: 0.062125\n",
      "Epoch[558/1000], loss: 0.061987\n",
      "Epoch[559/1000], loss: 0.061851\n",
      "Epoch[560/1000], loss: 0.061715\n",
      "Epoch[561/1000], loss: 0.061579\n",
      "Epoch[562/1000], loss: 0.061445\n",
      "Epoch[563/1000], loss: 0.061311\n",
      "Epoch[564/1000], loss: 0.061177\n",
      "Epoch[565/1000], loss: 0.061044\n",
      "Epoch[566/1000], loss: 0.060912\n",
      "Epoch[567/1000], loss: 0.060781\n",
      "Epoch[568/1000], loss: 0.060650\n",
      "Epoch[569/1000], loss: 0.060520\n",
      "Epoch[570/1000], loss: 0.060391\n",
      "Epoch[571/1000], loss: 0.060262\n",
      "Epoch[572/1000], loss: 0.060133\n",
      "Epoch[573/1000], loss: 0.060006\n",
      "Epoch[574/1000], loss: 0.059879\n",
      "Epoch[575/1000], loss: 0.059753\n",
      "Epoch[576/1000], loss: 0.059627\n",
      "Epoch[577/1000], loss: 0.059502\n",
      "Epoch[578/1000], loss: 0.059377\n",
      "Epoch[579/1000], loss: 0.059253\n",
      "Epoch[580/1000], loss: 0.059130\n",
      "Epoch[581/1000], loss: 0.059008\n",
      "Epoch[582/1000], loss: 0.058885\n",
      "Epoch[583/1000], loss: 0.058764\n",
      "Epoch[584/1000], loss: 0.058643\n",
      "Epoch[585/1000], loss: 0.058523\n",
      "Epoch[586/1000], loss: 0.058403\n",
      "Epoch[587/1000], loss: 0.058284\n",
      "Epoch[588/1000], loss: 0.058166\n",
      "Epoch[589/1000], loss: 0.058048\n",
      "Epoch[590/1000], loss: 0.057930\n",
      "Epoch[591/1000], loss: 0.057814\n",
      "Epoch[592/1000], loss: 0.057697\n",
      "Epoch[593/1000], loss: 0.057582\n",
      "Epoch[594/1000], loss: 0.057467\n",
      "Epoch[595/1000], loss: 0.057352\n",
      "Epoch[596/1000], loss: 0.057238\n",
      "Epoch[597/1000], loss: 0.057125\n",
      "Epoch[598/1000], loss: 0.057012\n",
      "Epoch[599/1000], loss: 0.056900\n",
      "Epoch[600/1000], loss: 0.056788\n",
      "Epoch[601/1000], loss: 0.056677\n",
      "Epoch[602/1000], loss: 0.056566\n",
      "Epoch[603/1000], loss: 0.056456\n",
      "Epoch[604/1000], loss: 0.056347\n",
      "Epoch[605/1000], loss: 0.056238\n",
      "Epoch[606/1000], loss: 0.056129\n",
      "Epoch[607/1000], loss: 0.056021\n",
      "Epoch[608/1000], loss: 0.055914\n",
      "Epoch[609/1000], loss: 0.055807\n",
      "Epoch[610/1000], loss: 0.055701\n",
      "Epoch[611/1000], loss: 0.055595\n",
      "Epoch[612/1000], loss: 0.055489\n",
      "Epoch[613/1000], loss: 0.055385\n",
      "Epoch[614/1000], loss: 0.055280\n",
      "Epoch[615/1000], loss: 0.055177\n",
      "Epoch[616/1000], loss: 0.055073\n",
      "Epoch[617/1000], loss: 0.054971\n",
      "Epoch[618/1000], loss: 0.054868\n",
      "Epoch[619/1000], loss: 0.054767\n",
      "Epoch[620/1000], loss: 0.054665\n",
      "Epoch[621/1000], loss: 0.054564\n",
      "Epoch[622/1000], loss: 0.054464\n",
      "Epoch[623/1000], loss: 0.054364\n",
      "Epoch[624/1000], loss: 0.054265\n",
      "Epoch[625/1000], loss: 0.054166\n",
      "Epoch[626/1000], loss: 0.054068\n",
      "Epoch[627/1000], loss: 0.053970\n",
      "Epoch[628/1000], loss: 0.053873\n",
      "Epoch[629/1000], loss: 0.053776\n",
      "Epoch[630/1000], loss: 0.053679\n",
      "Epoch[631/1000], loss: 0.053583\n",
      "Epoch[632/1000], loss: 0.053488\n",
      "Epoch[633/1000], loss: 0.053393\n",
      "Epoch[634/1000], loss: 0.053298\n",
      "Epoch[635/1000], loss: 0.053204\n",
      "Epoch[636/1000], loss: 0.053111\n",
      "Epoch[637/1000], loss: 0.053017\n",
      "Epoch[638/1000], loss: 0.052925\n",
      "Epoch[639/1000], loss: 0.052832\n",
      "Epoch[640/1000], loss: 0.052741\n",
      "Epoch[641/1000], loss: 0.052649\n",
      "Epoch[642/1000], loss: 0.052558\n",
      "Epoch[643/1000], loss: 0.052468\n",
      "Epoch[644/1000], loss: 0.052378\n",
      "Epoch[645/1000], loss: 0.052288\n",
      "Epoch[646/1000], loss: 0.052199\n",
      "Epoch[647/1000], loss: 0.052110\n",
      "Epoch[648/1000], loss: 0.052022\n",
      "Epoch[649/1000], loss: 0.051934\n",
      "Epoch[650/1000], loss: 0.051847\n",
      "Epoch[651/1000], loss: 0.051760\n",
      "Epoch[652/1000], loss: 0.051673\n",
      "Epoch[653/1000], loss: 0.051587\n",
      "Epoch[654/1000], loss: 0.051501\n",
      "Epoch[655/1000], loss: 0.051416\n",
      "Epoch[656/1000], loss: 0.051331\n",
      "Epoch[657/1000], loss: 0.051246\n",
      "Epoch[658/1000], loss: 0.051162\n",
      "Epoch[659/1000], loss: 0.051079\n",
      "Epoch[660/1000], loss: 0.050995\n",
      "Epoch[661/1000], loss: 0.050912\n",
      "Epoch[662/1000], loss: 0.050830\n",
      "Epoch[663/1000], loss: 0.050748\n",
      "Epoch[664/1000], loss: 0.050666\n",
      "Epoch[665/1000], loss: 0.050585\n",
      "Epoch[666/1000], loss: 0.050504\n",
      "Epoch[667/1000], loss: 0.050424\n",
      "Epoch[668/1000], loss: 0.050344\n",
      "Epoch[669/1000], loss: 0.050264\n",
      "Epoch[670/1000], loss: 0.050184\n",
      "Epoch[671/1000], loss: 0.050106\n",
      "Epoch[672/1000], loss: 0.050027\n",
      "Epoch[673/1000], loss: 0.049949\n",
      "Epoch[674/1000], loss: 0.049871\n",
      "Epoch[675/1000], loss: 0.049794\n",
      "Epoch[676/1000], loss: 0.049717\n",
      "Epoch[677/1000], loss: 0.049640\n",
      "Epoch[678/1000], loss: 0.049564\n",
      "Epoch[679/1000], loss: 0.049488\n",
      "Epoch[680/1000], loss: 0.049412\n",
      "Epoch[681/1000], loss: 0.049337\n",
      "Epoch[682/1000], loss: 0.049262\n",
      "Epoch[683/1000], loss: 0.049188\n",
      "Epoch[684/1000], loss: 0.049114\n",
      "Epoch[685/1000], loss: 0.049040\n",
      "Epoch[686/1000], loss: 0.048967\n",
      "Epoch[687/1000], loss: 0.048893\n",
      "Epoch[688/1000], loss: 0.048821\n",
      "Epoch[689/1000], loss: 0.048749\n",
      "Epoch[690/1000], loss: 0.048677\n",
      "Epoch[691/1000], loss: 0.048605\n",
      "Epoch[692/1000], loss: 0.048534\n",
      "Epoch[693/1000], loss: 0.048463\n",
      "Epoch[694/1000], loss: 0.048392\n",
      "Epoch[695/1000], loss: 0.048322\n",
      "Epoch[696/1000], loss: 0.048252\n",
      "Epoch[697/1000], loss: 0.048182\n",
      "Epoch[698/1000], loss: 0.048113\n",
      "Epoch[699/1000], loss: 0.048044\n",
      "Epoch[700/1000], loss: 0.047976\n",
      "Epoch[701/1000], loss: 0.047908\n",
      "Epoch[702/1000], loss: 0.047840\n",
      "Epoch[703/1000], loss: 0.047772\n",
      "Epoch[704/1000], loss: 0.047705\n",
      "Epoch[705/1000], loss: 0.047638\n",
      "Epoch[706/1000], loss: 0.047571\n",
      "Epoch[707/1000], loss: 0.047505\n",
      "Epoch[708/1000], loss: 0.047439\n",
      "Epoch[709/1000], loss: 0.047373\n",
      "Epoch[710/1000], loss: 0.047308\n",
      "Epoch[711/1000], loss: 0.047243\n",
      "Epoch[712/1000], loss: 0.047178\n",
      "Epoch[713/1000], loss: 0.047114\n",
      "Epoch[714/1000], loss: 0.047050\n",
      "Epoch[715/1000], loss: 0.046986\n",
      "Epoch[716/1000], loss: 0.046923\n",
      "Epoch[717/1000], loss: 0.046860\n",
      "Epoch[718/1000], loss: 0.046797\n",
      "Epoch[719/1000], loss: 0.046734\n",
      "Epoch[720/1000], loss: 0.046672\n",
      "Epoch[721/1000], loss: 0.046610\n",
      "Epoch[722/1000], loss: 0.046548\n",
      "Epoch[723/1000], loss: 0.046487\n",
      "Epoch[724/1000], loss: 0.046426\n",
      "Epoch[725/1000], loss: 0.046365\n",
      "Epoch[726/1000], loss: 0.046305\n",
      "Epoch[727/1000], loss: 0.046245\n",
      "Epoch[728/1000], loss: 0.046185\n",
      "Epoch[729/1000], loss: 0.046125\n",
      "Epoch[730/1000], loss: 0.046066\n",
      "Epoch[731/1000], loss: 0.046007\n",
      "Epoch[732/1000], loss: 0.045948\n",
      "Epoch[733/1000], loss: 0.045890\n",
      "Epoch[734/1000], loss: 0.045831\n",
      "Epoch[735/1000], loss: 0.045773\n",
      "Epoch[736/1000], loss: 0.045716\n",
      "Epoch[737/1000], loss: 0.045659\n",
      "Epoch[738/1000], loss: 0.045601\n",
      "Epoch[739/1000], loss: 0.045545\n",
      "Epoch[740/1000], loss: 0.045488\n",
      "Epoch[741/1000], loss: 0.045432\n",
      "Epoch[742/1000], loss: 0.045376\n",
      "Epoch[743/1000], loss: 0.045320\n",
      "Epoch[744/1000], loss: 0.045265\n",
      "Epoch[745/1000], loss: 0.045210\n",
      "Epoch[746/1000], loss: 0.045155\n",
      "Epoch[747/1000], loss: 0.045100\n",
      "Epoch[748/1000], loss: 0.045046\n",
      "Epoch[749/1000], loss: 0.044991\n",
      "Epoch[750/1000], loss: 0.044938\n",
      "Epoch[751/1000], loss: 0.044884\n",
      "Epoch[752/1000], loss: 0.044831\n",
      "Epoch[753/1000], loss: 0.044778\n",
      "Epoch[754/1000], loss: 0.044725\n",
      "Epoch[755/1000], loss: 0.044672\n",
      "Epoch[756/1000], loss: 0.044620\n",
      "Epoch[757/1000], loss: 0.044568\n",
      "Epoch[758/1000], loss: 0.044516\n",
      "Epoch[759/1000], loss: 0.044464\n",
      "Epoch[760/1000], loss: 0.044413\n",
      "Epoch[761/1000], loss: 0.044362\n",
      "Epoch[762/1000], loss: 0.044311\n",
      "Epoch[763/1000], loss: 0.044260\n",
      "Epoch[764/1000], loss: 0.044210\n",
      "Epoch[765/1000], loss: 0.044160\n",
      "Epoch[766/1000], loss: 0.044110\n",
      "Epoch[767/1000], loss: 0.044060\n",
      "Epoch[768/1000], loss: 0.044011\n",
      "Epoch[769/1000], loss: 0.043962\n",
      "Epoch[770/1000], loss: 0.043913\n",
      "Epoch[771/1000], loss: 0.043864\n",
      "Epoch[772/1000], loss: 0.043815\n",
      "Epoch[773/1000], loss: 0.043767\n",
      "Epoch[774/1000], loss: 0.043719\n",
      "Epoch[775/1000], loss: 0.043671\n",
      "Epoch[776/1000], loss: 0.043624\n",
      "Epoch[777/1000], loss: 0.043576\n",
      "Epoch[778/1000], loss: 0.043529\n",
      "Epoch[779/1000], loss: 0.043482\n",
      "Epoch[780/1000], loss: 0.043436\n",
      "Epoch[781/1000], loss: 0.043389\n",
      "Epoch[782/1000], loss: 0.043343\n",
      "Epoch[783/1000], loss: 0.043297\n",
      "Epoch[784/1000], loss: 0.043251\n",
      "Epoch[785/1000], loss: 0.043206\n",
      "Epoch[786/1000], loss: 0.043160\n",
      "Epoch[787/1000], loss: 0.043115\n",
      "Epoch[788/1000], loss: 0.043070\n",
      "Epoch[789/1000], loss: 0.043025\n",
      "Epoch[790/1000], loss: 0.042981\n",
      "Epoch[791/1000], loss: 0.042937\n",
      "Epoch[792/1000], loss: 0.042893\n",
      "Epoch[793/1000], loss: 0.042849\n",
      "Epoch[794/1000], loss: 0.042805\n",
      "Epoch[795/1000], loss: 0.042762\n",
      "Epoch[796/1000], loss: 0.042718\n",
      "Epoch[797/1000], loss: 0.042675\n",
      "Epoch[798/1000], loss: 0.042632\n",
      "Epoch[799/1000], loss: 0.042590\n",
      "Epoch[800/1000], loss: 0.042547\n",
      "Epoch[801/1000], loss: 0.042505\n",
      "Epoch[802/1000], loss: 0.042463\n",
      "Epoch[803/1000], loss: 0.042421\n",
      "Epoch[804/1000], loss: 0.042380\n",
      "Epoch[805/1000], loss: 0.042338\n",
      "Epoch[806/1000], loss: 0.042297\n",
      "Epoch[807/1000], loss: 0.042256\n",
      "Epoch[808/1000], loss: 0.042215\n",
      "Epoch[809/1000], loss: 0.042174\n",
      "Epoch[810/1000], loss: 0.042134\n",
      "Epoch[811/1000], loss: 0.042094\n",
      "Epoch[812/1000], loss: 0.042053\n",
      "Epoch[813/1000], loss: 0.042013\n",
      "Epoch[814/1000], loss: 0.041974\n",
      "Epoch[815/1000], loss: 0.041934\n",
      "Epoch[816/1000], loss: 0.041895\n",
      "Epoch[817/1000], loss: 0.041856\n",
      "Epoch[818/1000], loss: 0.041817\n",
      "Epoch[819/1000], loss: 0.041778\n",
      "Epoch[820/1000], loss: 0.041739\n",
      "Epoch[821/1000], loss: 0.041701\n",
      "Epoch[822/1000], loss: 0.041663\n",
      "Epoch[823/1000], loss: 0.041625\n",
      "Epoch[824/1000], loss: 0.041587\n",
      "Epoch[825/1000], loss: 0.041549\n",
      "Epoch[826/1000], loss: 0.041511\n",
      "Epoch[827/1000], loss: 0.041474\n",
      "Epoch[828/1000], loss: 0.041437\n",
      "Epoch[829/1000], loss: 0.041400\n",
      "Epoch[830/1000], loss: 0.041363\n",
      "Epoch[831/1000], loss: 0.041326\n",
      "Epoch[832/1000], loss: 0.041290\n",
      "Epoch[833/1000], loss: 0.041254\n",
      "Epoch[834/1000], loss: 0.041217\n",
      "Epoch[835/1000], loss: 0.041181\n",
      "Epoch[836/1000], loss: 0.041146\n",
      "Epoch[837/1000], loss: 0.041110\n",
      "Epoch[838/1000], loss: 0.041074\n",
      "Epoch[839/1000], loss: 0.041039\n",
      "Epoch[840/1000], loss: 0.041004\n",
      "Epoch[841/1000], loss: 0.040969\n",
      "Epoch[842/1000], loss: 0.040934\n",
      "Epoch[843/1000], loss: 0.040899\n",
      "Epoch[844/1000], loss: 0.040865\n",
      "Epoch[845/1000], loss: 0.040831\n",
      "Epoch[846/1000], loss: 0.040796\n",
      "Epoch[847/1000], loss: 0.040762\n",
      "Epoch[848/1000], loss: 0.040729\n",
      "Epoch[849/1000], loss: 0.040695\n",
      "Epoch[850/1000], loss: 0.040661\n",
      "Epoch[851/1000], loss: 0.040628\n",
      "Epoch[852/1000], loss: 0.040595\n",
      "Epoch[853/1000], loss: 0.040562\n",
      "Epoch[854/1000], loss: 0.040529\n",
      "Epoch[855/1000], loss: 0.040496\n",
      "Epoch[856/1000], loss: 0.040463\n",
      "Epoch[857/1000], loss: 0.040431\n",
      "Epoch[858/1000], loss: 0.040398\n",
      "Epoch[859/1000], loss: 0.040366\n",
      "Epoch[860/1000], loss: 0.040334\n",
      "Epoch[861/1000], loss: 0.040302\n",
      "Epoch[862/1000], loss: 0.040271\n",
      "Epoch[863/1000], loss: 0.040239\n",
      "Epoch[864/1000], loss: 0.040208\n",
      "Epoch[865/1000], loss: 0.040176\n",
      "Epoch[866/1000], loss: 0.040145\n",
      "Epoch[867/1000], loss: 0.040114\n",
      "Epoch[868/1000], loss: 0.040083\n",
      "Epoch[869/1000], loss: 0.040053\n",
      "Epoch[870/1000], loss: 0.040022\n",
      "Epoch[871/1000], loss: 0.039992\n",
      "Epoch[872/1000], loss: 0.039961\n",
      "Epoch[873/1000], loss: 0.039931\n",
      "Epoch[874/1000], loss: 0.039901\n",
      "Epoch[875/1000], loss: 0.039871\n",
      "Epoch[876/1000], loss: 0.039842\n",
      "Epoch[877/1000], loss: 0.039812\n",
      "Epoch[878/1000], loss: 0.039783\n",
      "Epoch[879/1000], loss: 0.039753\n",
      "Epoch[880/1000], loss: 0.039724\n",
      "Epoch[881/1000], loss: 0.039695\n",
      "Epoch[882/1000], loss: 0.039666\n",
      "Epoch[883/1000], loss: 0.039637\n",
      "Epoch[884/1000], loss: 0.039609\n",
      "Epoch[885/1000], loss: 0.039580\n",
      "Epoch[886/1000], loss: 0.039552\n",
      "Epoch[887/1000], loss: 0.039523\n",
      "Epoch[888/1000], loss: 0.039495\n",
      "Epoch[889/1000], loss: 0.039467\n",
      "Epoch[890/1000], loss: 0.039439\n",
      "Epoch[891/1000], loss: 0.039412\n",
      "Epoch[892/1000], loss: 0.039384\n",
      "Epoch[893/1000], loss: 0.039357\n",
      "Epoch[894/1000], loss: 0.039329\n",
      "Epoch[895/1000], loss: 0.039302\n",
      "Epoch[896/1000], loss: 0.039275\n",
      "Epoch[897/1000], loss: 0.039248\n",
      "Epoch[898/1000], loss: 0.039221\n",
      "Epoch[899/1000], loss: 0.039194\n",
      "Epoch[900/1000], loss: 0.039168\n",
      "Epoch[901/1000], loss: 0.039141\n",
      "Epoch[902/1000], loss: 0.039115\n",
      "Epoch[903/1000], loss: 0.039088\n",
      "Epoch[904/1000], loss: 0.039062\n",
      "Epoch[905/1000], loss: 0.039036\n",
      "Epoch[906/1000], loss: 0.039010\n",
      "Epoch[907/1000], loss: 0.038985\n",
      "Epoch[908/1000], loss: 0.038959\n",
      "Epoch[909/1000], loss: 0.038933\n",
      "Epoch[910/1000], loss: 0.038908\n",
      "Epoch[911/1000], loss: 0.038883\n",
      "Epoch[912/1000], loss: 0.038857\n",
      "Epoch[913/1000], loss: 0.038832\n",
      "Epoch[914/1000], loss: 0.038807\n",
      "Epoch[915/1000], loss: 0.038782\n",
      "Epoch[916/1000], loss: 0.038758\n",
      "Epoch[917/1000], loss: 0.038733\n",
      "Epoch[918/1000], loss: 0.038708\n",
      "Epoch[919/1000], loss: 0.038684\n",
      "Epoch[920/1000], loss: 0.038660\n",
      "Epoch[921/1000], loss: 0.038636\n",
      "Epoch[922/1000], loss: 0.038611\n",
      "Epoch[923/1000], loss: 0.038587\n",
      "Epoch[924/1000], loss: 0.038564\n",
      "Epoch[925/1000], loss: 0.038540\n",
      "Epoch[926/1000], loss: 0.038516\n",
      "Epoch[927/1000], loss: 0.038493\n",
      "Epoch[928/1000], loss: 0.038469\n",
      "Epoch[929/1000], loss: 0.038446\n",
      "Epoch[930/1000], loss: 0.038423\n",
      "Epoch[931/1000], loss: 0.038399\n",
      "Epoch[932/1000], loss: 0.038376\n",
      "Epoch[933/1000], loss: 0.038354\n",
      "Epoch[934/1000], loss: 0.038331\n",
      "Epoch[935/1000], loss: 0.038308\n",
      "Epoch[936/1000], loss: 0.038285\n",
      "Epoch[937/1000], loss: 0.038263\n",
      "Epoch[938/1000], loss: 0.038240\n",
      "Epoch[939/1000], loss: 0.038218\n",
      "Epoch[940/1000], loss: 0.038196\n",
      "Epoch[941/1000], loss: 0.038174\n",
      "Epoch[942/1000], loss: 0.038152\n",
      "Epoch[943/1000], loss: 0.038130\n",
      "Epoch[944/1000], loss: 0.038108\n",
      "Epoch[945/1000], loss: 0.038086\n",
      "Epoch[946/1000], loss: 0.038065\n",
      "Epoch[947/1000], loss: 0.038043\n",
      "Epoch[948/1000], loss: 0.038022\n",
      "Epoch[949/1000], loss: 0.038000\n",
      "Epoch[950/1000], loss: 0.037979\n",
      "Epoch[951/1000], loss: 0.037958\n",
      "Epoch[952/1000], loss: 0.037937\n",
      "Epoch[953/1000], loss: 0.037916\n",
      "Epoch[954/1000], loss: 0.037895\n",
      "Epoch[955/1000], loss: 0.037874\n",
      "Epoch[956/1000], loss: 0.037854\n",
      "Epoch[957/1000], loss: 0.037833\n",
      "Epoch[958/1000], loss: 0.037813\n",
      "Epoch[959/1000], loss: 0.037792\n",
      "Epoch[960/1000], loss: 0.037772\n",
      "Epoch[961/1000], loss: 0.037752\n",
      "Epoch[962/1000], loss: 0.037732\n",
      "Epoch[963/1000], loss: 0.037712\n",
      "Epoch[964/1000], loss: 0.037692\n",
      "Epoch[965/1000], loss: 0.037672\n",
      "Epoch[966/1000], loss: 0.037652\n",
      "Epoch[967/1000], loss: 0.037632\n",
      "Epoch[968/1000], loss: 0.037613\n",
      "Epoch[969/1000], loss: 0.037593\n",
      "Epoch[970/1000], loss: 0.037574\n",
      "Epoch[971/1000], loss: 0.037554\n",
      "Epoch[972/1000], loss: 0.037535\n",
      "Epoch[973/1000], loss: 0.037516\n",
      "Epoch[974/1000], loss: 0.037497\n",
      "Epoch[975/1000], loss: 0.037478\n",
      "Epoch[976/1000], loss: 0.037459\n",
      "Epoch[977/1000], loss: 0.037440\n",
      "Epoch[978/1000], loss: 0.037421\n",
      "Epoch[979/1000], loss: 0.037403\n",
      "Epoch[980/1000], loss: 0.037384\n",
      "Epoch[981/1000], loss: 0.037365\n",
      "Epoch[982/1000], loss: 0.037347\n",
      "Epoch[983/1000], loss: 0.037329\n",
      "Epoch[984/1000], loss: 0.037310\n",
      "Epoch[985/1000], loss: 0.037292\n",
      "Epoch[986/1000], loss: 0.037274\n",
      "Epoch[987/1000], loss: 0.037256\n",
      "Epoch[988/1000], loss: 0.037238\n",
      "Epoch[989/1000], loss: 0.037220\n",
      "Epoch[990/1000], loss: 0.037202\n",
      "Epoch[991/1000], loss: 0.037185\n",
      "Epoch[992/1000], loss: 0.037167\n",
      "Epoch[993/1000], loss: 0.037150\n",
      "Epoch[994/1000], loss: 0.037132\n",
      "Epoch[995/1000], loss: 0.037115\n",
      "Epoch[996/1000], loss: 0.037097\n",
      "Epoch[997/1000], loss: 0.037080\n",
      "Epoch[998/1000], loss: 0.037063\n",
      "Epoch[999/1000], loss: 0.037046\n",
      "Epoch[1000/1000], loss: 0.037029\n"
     ]
    }
   ],
   "source": [
    "num_epochs = 1000\n",
    "learning_rate = 0.001\n",
    "model = Net(2,1) # duas entradas (1 + x0) e uma saída y_pred\n",
    "for epoch in range(num_epochs):\n",
    "\n",
    "    # forward - predict\n",
    "    y_pred = model.forward(x_train_bias)\n",
    "\n",
    "    #loss cálculo da função de perda\n",
    "    loss = np.square(y_pred - y_train_n).mean()\n",
    "    \n",
    "    # cálculo do gradiente pelas derivadas parciais\n",
    "    w_grad = (2.0/n_samples) * (x_train_bias.T).dot(x_train_bias.dot(model.w.T) - y_train_n)\n",
    "    # gradiente descendente\n",
    "    model.w = model.w - learning_rate * w_grad.T\n",
    "    \n",
    "    # verbose\n",
    "    if (epoch+1) % 1 == 0:\n",
    "        print('Epoch[{}/{}], loss: {:.6f}'\n",
    "              .format(epoch+1, num_epochs, loss))"
   ]
  },
  {
   "cell_type": "markdown",
   "metadata": {
    "id": "XgTbOP-6k_By"
   },
   "source": [
    "## Avaliação"
   ]
  },
  {
   "cell_type": "markdown",
   "metadata": {
    "id": "tL5p3dMTk_Bz"
   },
   "source": [
    "### Predict"
   ]
  },
  {
   "cell_type": "code",
   "execution_count": 16,
   "metadata": {
    "ExecuteTime": {
     "end_time": "2019-11-20T22:47:24.784977Z",
     "start_time": "2019-11-20T22:47:24.516871Z"
    },
    "colab": {
     "base_uri": "https://localhost:8080/",
     "height": 282
    },
    "id": "nEb3kgyzk_B0",
    "outputId": "387b9377-28b4-4777-ed81-6ac87df7c551"
   },
   "outputs": [
    {
     "data": {
      "text/plain": [
       "[<matplotlib.lines.Line2D at 0x7f264a8c02b0>]"
      ]
     },
     "execution_count": 16,
     "metadata": {},
     "output_type": "execute_result"
    },
    {
     "data": {
      "image/png": "[encoded data removed]",
      "text/plain": [
       "<Figure size 432x288 with 1 Axes>"
      ]
     },
     "metadata": {
      "needs_background": "light"
     },
     "output_type": "display_data"
    }
   ],
   "source": [
    "y_pred = model.forward(x_train_bias)\n",
    "plt.plot(x_train_n, y_train_n, 'ro', label='Original data')\n",
    "plt.plot(x_train_n, y_pred, 'kx-', label='Fitting Line')"
   ]
  },
  {
   "cell_type": "markdown",
   "metadata": {
    "id": "BZDHVCoyk_B2"
   },
   "source": [
    "### Parâmetros treinados"
   ]
  },
  {
   "cell_type": "code",
   "execution_count": 17,
   "metadata": {
    "ExecuteTime": {
     "end_time": "2019-11-20T22:47:24.803083Z",
     "start_time": "2019-11-20T22:47:24.791342Z"
    },
    "colab": {
     "base_uri": "https://localhost:8080/"
    },
    "id": "5p4dWQiNk_B4",
    "outputId": "f6b66f9b-ac95-4dc5-d2b5-b55128635314"
   },
   "outputs": [
    {
     "name": "stdout",
     "output_type": "stream",
     "text": [
      "[[0.42175485 0.28940008]]\n"
     ]
    }
   ],
   "source": [
    "print(model.w)"
   ]
  },
  {
   "cell_type": "markdown",
   "metadata": {
    "id": "FjlrslvAk_B8"
   },
   "source": [
    "### Avaliação do modelo"
   ]
  },
  {
   "cell_type": "code",
   "execution_count": 18,
   "metadata": {
    "ExecuteTime": {
     "end_time": "2019-11-20T22:47:24.815986Z",
     "start_time": "2019-11-20T22:47:24.806566Z"
    },
    "colab": {
     "base_uri": "https://localhost:8080/"
    },
    "id": "FGkskjjWk_B9",
    "outputId": "54debf57-0a09-496b-c391-a85066f40852"
   },
   "outputs": [
    {
     "data": {
      "text/plain": [
       "0.03176273227476974"
      ]
     },
     "execution_count": 18,
     "metadata": {},
     "output_type": "execute_result"
    }
   ],
   "source": [
    "loss = np.square(y_pred - y_train_n).mean()\n",
    "loss"
   ]
  },
  {
   "cell_type": "markdown",
   "metadata": {
    "id": "kK-XzZxdk_CD"
   },
   "source": [
    "### Valor ótimo, solução analítica"
   ]
  },
  {
   "cell_type": "markdown",
   "metadata": {
    "id": "ArADsRyXk_CE"
   },
   "source": [
    "$$  \\mathbf{w} =(\\mathbf{x^T} \\mathbf{x})^{−1}\\mathbf{x^T} \\mathbf{y} $$"
   ]
  },
  {
   "cell_type": "code",
   "execution_count": 19,
   "metadata": {
    "ExecuteTime": {
     "end_time": "2019-11-20T22:47:24.835201Z",
     "start_time": "2019-11-20T22:47:24.820832Z"
    },
    "colab": {
     "base_uri": "https://localhost:8080/"
    },
    "id": "xpTQxO2ak_CF",
    "outputId": "a5cfe3f4-9ff1-4f25-aa85-bf3e089ebfb9"
   },
   "outputs": [
    {
     "name": "stdout",
     "output_type": "stream",
     "text": [
      "[[0.26134159 0.68646976]]\n"
     ]
    }
   ],
   "source": [
    "x = x_train_bias\n",
    "y = y_train_n\n",
    "w_opt = (np.linalg.inv((x.T).dot(x)).dot(x.T)).dot(y)\n",
    "print(w_opt.T)"
   ]
  },
  {
   "cell_type": "markdown",
   "metadata": {
    "id": "-7cwaIe7k_CJ"
   },
   "source": [
    "# Exercícios"
   ]
  },
  {
   "cell_type": "markdown",
   "metadata": {
    "id": "wKnoZ7zNk_CK"
   },
   "source": [
    "## Questões"
   ]
  },
  {
   "cell_type": "markdown",
   "metadata": {
    "id": "fkAWk0DIk_CL"
   },
   "source": [
    "1. Quantos parâmetros são treinados nesse modelo?\n",
    "2. Qual é o número de atributos de entrada para a rede?\n",
    "3. Qual é o número de saídas da rede?\n",
    "4. Suponha que eu tenha agora 5 mil amostras para fazer a predição. Qual é o shape da matriz de entrada? \n",
    "   Qual é o shape do matriz de saída?"
   ]
  },
  {
   "cell_type": "markdown",
   "metadata": {
    "id": "McnRU5uPk_CM"
   },
   "source": [
    "## Atividades"
   ]
  },
  {
   "cell_type": "markdown",
   "metadata": {
    "id": "28Dn5Ohkk_CN"
   },
   "source": [
    "1. Modifique o laço do treinamento via gradiente descendente para guardar em uma lista, o valor da perda no final\n",
    "   de cada época. Após o treinamento, plote o valor da perda em função da época.\n",
    "2. Calcule o valor da perda (MSE) da rede com os parâmetros inicializados, sem serem treinados.\n",
    "3. Coloque os valores dos pesos da solução ótima analítica no modelo da rede e calcule o valor da perda (MSE) e\n",
    "   compare com o valor da perda obtida pelo método da otimização via gradiente descendente."
   ]
  },
  {
   "cell_type": "markdown",
   "metadata": {
    "collapsed": true,
    "id": "74fkhQOyk_CO"
   },
   "source": [
    "# Aprendizados"
   ]
  },
  {
   "cell_type": "code",
   "execution_count": null,
   "metadata": {
    "id": "9dpMdiI5k_CP"
   },
   "outputs": [],
   "source": []
  }
 ],
 "metadata": {
  "colab": {
   "collapsed_sections": [],
   "name": "02_01_LinearRegressionIrisNumPy.ipynb",
   "provenance": []
  },
  "kernelspec": {
   "display_name": "Python 3",
   "language": "python",
   "name": "python3"
  },
  "language_info": {
   "codemirror_mode": {
    "name": "ipython",
    "version": 3
   },
   "file_extension": ".py",
   "mimetype": "text/x-python",
   "name": "python",
   "nbconvert_exporter": "python",
   "pygments_lexer": "ipython3",
   "version": "3.9.2"
  },
  "toc": {
   "base_numbering": 1,
   "nav_menu": {},
   "number_sections": true,
   "sideBar": true,
   "skip_h1_title": false,
   "title_cell": "Table of Contents",
   "title_sidebar": "Contents",
   "toc_cell": false,
   "toc_position": {},
   "toc_section_display": "block",
   "toc_window_display": false
  },
  "varInspector": {
   "cols": {
    "lenName": 16,
    "lenType": 16,
    "lenVar": 40
   },
   "kernels_config": {
    "python": {
     "delete_cmd_postfix": "",
     "delete_cmd_prefix": "del ",
     "library": "var_list.py",
     "varRefreshCmd": "print(var_dic_list())"
    },
    "r": {
     "delete_cmd_postfix": ") ",
     "delete_cmd_prefix": "rm(",
     "library": "var_list.r",
     "varRefreshCmd": "cat(var_dic_list()) "
    }
   },
   "types_to_exclude": [
    "module",
    "function",
    "builtin_function_or_method",
    "instance",
    "_Feature"
   ],
   "window_display": false
  }
 },
 "nbformat": 4,
 "nbformat_minor": 1
}
