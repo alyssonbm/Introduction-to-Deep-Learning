{
 "cells": [
  {
   "cell_type": "markdown",
   "metadata": {
    "id": "iSTEskpMk-_X"
   },
   "source": [
    "# Regressão Linear com NumPy"
   ]
  },
  {
   "cell_type": "markdown",
   "metadata": {
    "id": "asVk4PQQk-_l"
   },
   "source": [
    "## Objetivos deste experimento"
   ]
  },
  {
   "cell_type": "markdown",
   "metadata": {
    "id": "LE_V8v9Sk-_n"
   },
   "source": [
    "Este exemplo utiliza regressão linear para estimar o comprimento das sépalas da íris a partir do seu comprimento das pétalas.\n",
    "Utiliza-se programação totalmente NumPy com:\n",
    "- o **cálculo do gradiente**, \n",
    "- a **função de perda** e\n",
    "- a atualização dos parâmetros são feitos de forma explícita.\n",
    "- A rede é criada com uma camada como uma classe"
   ]
  },
  {
   "cell_type": "markdown",
   "metadata": {
    "id": "Uqd3Aq2vk_A3"
   },
   "source": [
    "<img src='https://raw.githubusercontent.com/robertoalotufo/files/master/figures/RegressaoLinear_Otimizacao.png' width='500'></a>"
   ]
  },
  {
   "cell_type": "markdown",
   "metadata": {
    "id": "1TT7e9D9k_A4"
   },
   "source": [
    "## Importação dos pacotes"
   ]
  },
  {
   "cell_type": "code",
   "execution_count": 109,
   "metadata": {
    "ExecuteTime": {
     "end_time": "2019-11-20T22:47:23.895483Z",
     "start_time": "2019-11-20T22:47:23.081272Z"
    },
    "executionInfo": {
     "elapsed": 598,
     "status": "ok",
     "timestamp": 1616679335975,
     "user": {
      "displayName": "Rodrigo Frassetto Nogueira",
      "photoUrl": "https://lh3.googleusercontent.com/a-/AOh14Gg3u3pg5apXOSHpsrJ5MK3O6Ft12ftrebHDtzos=s64",
      "userId": "04931245259548677246"
     },
     "user_tz": 180
    },
    "id": "nkAr_Opbk_A6"
   },
   "outputs": [],
   "source": [
    "%matplotlib inline\n",
    "import matplotlib.pyplot as plt   # para plotting\n",
    "\n",
    "from sklearn.datasets import load_iris  # para carregar dataset\n",
    "\n",
    "import numpy as np  # processamento matricial\n",
    "\n",
    "np.random.seed(1234)"
   ]
  },
  {
   "cell_type": "markdown",
   "metadata": {
    "id": "WQX2yXoXk_BC"
   },
   "source": [
    "## Dataset"
   ]
  },
  {
   "cell_type": "markdown",
   "metadata": {
    "id": "c1bcmKjjk_BD"
   },
   "source": [
    "### Leitura dos dados"
   ]
  },
  {
   "cell_type": "code",
   "execution_count": 110,
   "metadata": {
    "ExecuteTime": {
     "end_time": "2019-11-20T22:47:23.928287Z",
     "start_time": "2019-11-20T22:47:23.898205Z"
    },
    "colab": {
     "base_uri": "https://localhost:8080/"
    },
    "executionInfo": {
     "elapsed": 607,
     "status": "ok",
     "timestamp": 1616679469693,
     "user": {
      "displayName": "Rodrigo Frassetto Nogueira",
      "photoUrl": "https://lh3.googleusercontent.com/a-/AOh14Gg3u3pg5apXOSHpsrJ5MK3O6Ft12ftrebHDtzos=s64",
      "userId": "04931245259548677246"
     },
     "user_tz": 180
    },
    "id": "qUU-sUWek_BE",
    "outputId": "4a485e3a-e1c3-49e4-be16-8bca3e997334"
   },
   "outputs": [
    {
     "name": "stdout",
     "output_type": "stream",
     "text": [
      "x_train.shape: (50, 1) float64\n",
      "y_train.shape: (50, 1) float64\n",
      "x_train[:5]:\n",
      " [[7. ]\n",
      " [6.4]\n",
      " [6.9]\n",
      " [5.5]\n",
      " [6.5]]\n",
      "y_train[:5]:\n",
      " [[4.7]\n",
      " [4.5]\n",
      " [4.9]\n",
      " [4. ]\n",
      " [4.6]]\n"
     ]
    }
   ],
   "source": [
    "iris = load_iris()\n",
    "data = iris.data[iris.target==1,::2]  # comprimento das sépalas e pétalas, indices 0 e 2\n",
    "\n",
    "x_train = data[:,0:1]\n",
    "y_train = data[:,1:2]\n",
    "\n",
    "n_samples = x_train.shape[0]\n",
    "print('x_train.shape:',x_train.shape, x_train.dtype)\n",
    "print('y_train.shape:',y_train.shape, y_train.dtype)\n",
    "\n",
    "print('x_train[:5]:\\n', x_train[:5])\n",
    "print('y_train[:5]:\\n', y_train[:5])"
   ]
  },
  {
   "cell_type": "code",
   "execution_count": 111,
   "metadata": {
    "id": "rGFWuJ50mx_N"
   },
   "outputs": [
    {
     "data": {
      "text/plain": [
       "[(array([7.]), array([4.7])),\n",
       " (array([6.4]), array([4.5])),\n",
       " (array([6.9]), array([4.9])),\n",
       " (array([5.5]), array([4.])),\n",
       " (array([6.5]), array([4.6])),\n",
       " (array([5.7]), array([4.5])),\n",
       " (array([6.3]), array([4.7])),\n",
       " (array([4.9]), array([3.3])),\n",
       " (array([6.6]), array([4.6])),\n",
       " (array([5.2]), array([3.9])),\n",
       " (array([5.]), array([3.5])),\n",
       " (array([5.9]), array([4.2])),\n",
       " (array([6.]), array([4.])),\n",
       " (array([6.1]), array([4.7])),\n",
       " (array([5.6]), array([3.6])),\n",
       " (array([6.7]), array([4.4])),\n",
       " (array([5.6]), array([4.5])),\n",
       " (array([5.8]), array([4.1])),\n",
       " (array([6.2]), array([4.5])),\n",
       " (array([5.6]), array([3.9])),\n",
       " (array([5.9]), array([4.8])),\n",
       " (array([6.1]), array([4.])),\n",
       " (array([6.3]), array([4.9])),\n",
       " (array([6.1]), array([4.7])),\n",
       " (array([6.4]), array([4.3])),\n",
       " (array([6.6]), array([4.4])),\n",
       " (array([6.8]), array([4.8])),\n",
       " (array([6.7]), array([5.])),\n",
       " (array([6.]), array([4.5])),\n",
       " (array([5.7]), array([3.5])),\n",
       " (array([5.5]), array([3.8])),\n",
       " (array([5.5]), array([3.7])),\n",
       " (array([5.8]), array([3.9])),\n",
       " (array([6.]), array([5.1])),\n",
       " (array([5.4]), array([4.5])),\n",
       " (array([6.]), array([4.5])),\n",
       " (array([6.7]), array([4.7])),\n",
       " (array([6.3]), array([4.4])),\n",
       " (array([5.6]), array([4.1])),\n",
       " (array([5.5]), array([4.])),\n",
       " (array([5.5]), array([4.4])),\n",
       " (array([6.1]), array([4.6])),\n",
       " (array([5.8]), array([4.])),\n",
       " (array([5.]), array([3.3])),\n",
       " (array([5.6]), array([4.2])),\n",
       " (array([5.7]), array([4.2])),\n",
       " (array([5.7]), array([4.2])),\n",
       " (array([6.2]), array([4.3])),\n",
       " (array([5.1]), array([3.])),\n",
       " (array([5.7]), array([4.1]))]"
      ]
     },
     "execution_count": 111,
     "metadata": {},
     "output_type": "execute_result"
    }
   ],
   "source": [
    "out = [(x_i, y_i) for x_i, y_i in zip(x_train, y_train)]\n",
    "out"
   ]
  },
  {
   "cell_type": "code",
   "execution_count": 112,
   "metadata": {
    "id": "6pT0ww9wnNDr"
   },
   "outputs": [],
   "source": [
    "out = []\n",
    "for x_i, y_i in zip(x_train, y_train):\n",
    "  out.append((x_i, y_i))"
   ]
  },
  {
   "cell_type": "code",
   "execution_count": 113,
   "metadata": {
    "colab": {
     "base_uri": "https://localhost:8080/"
    },
    "executionInfo": {
     "elapsed": 632,
     "status": "ok",
     "timestamp": 1616679823062,
     "user": {
      "displayName": "Rodrigo Frassetto Nogueira",
      "photoUrl": "https://lh3.googleusercontent.com/a-/AOh14Gg3u3pg5apXOSHpsrJ5MK3O6Ft12ftrebHDtzos=s64",
      "userId": "04931245259548677246"
     },
     "user_tz": 180
    },
    "id": "fwkCmbUSn0sx",
    "outputId": "5cd806d0-a1b0-4d37-ea20-c8708f3053e9"
   },
   "outputs": [
    {
     "data": {
      "text/plain": [
       "array([[7. , 4.7],\n",
       "       [6.4, 4.5],\n",
       "       [6.9, 4.9],\n",
       "       [5.5, 4. ],\n",
       "       [6.5, 4.6],\n",
       "       [5.7, 4.5],\n",
       "       [6.3, 4.7],\n",
       "       [4.9, 3.3],\n",
       "       [6.6, 4.6],\n",
       "       [5.2, 3.9],\n",
       "       [5. , 3.5],\n",
       "       [5.9, 4.2],\n",
       "       [6. , 4. ],\n",
       "       [6.1, 4.7],\n",
       "       [5.6, 3.6],\n",
       "       [6.7, 4.4],\n",
       "       [5.6, 4.5],\n",
       "       [5.8, 4.1],\n",
       "       [6.2, 4.5],\n",
       "       [5.6, 3.9],\n",
       "       [5.9, 4.8],\n",
       "       [6.1, 4. ],\n",
       "       [6.3, 4.9],\n",
       "       [6.1, 4.7],\n",
       "       [6.4, 4.3],\n",
       "       [6.6, 4.4],\n",
       "       [6.8, 4.8],\n",
       "       [6.7, 5. ],\n",
       "       [6. , 4.5],\n",
       "       [5.7, 3.5],\n",
       "       [5.5, 3.8],\n",
       "       [5.5, 3.7],\n",
       "       [5.8, 3.9],\n",
       "       [6. , 5.1],\n",
       "       [5.4, 4.5],\n",
       "       [6. , 4.5],\n",
       "       [6.7, 4.7],\n",
       "       [6.3, 4.4],\n",
       "       [5.6, 4.1],\n",
       "       [5.5, 4. ],\n",
       "       [5.5, 4.4],\n",
       "       [6.1, 4.6],\n",
       "       [5.8, 4. ],\n",
       "       [5. , 3.3],\n",
       "       [5.6, 4.2],\n",
       "       [5.7, 4.2],\n",
       "       [5.7, 4.2],\n",
       "       [6.2, 4.3],\n",
       "       [5.1, 3. ],\n",
       "       [5.7, 4.1]])"
      ]
     },
     "execution_count": 113,
     "metadata": {},
     "output_type": "execute_result"
    }
   ],
   "source": [
    "np.concatenate([x_train, y_train], axis=1)"
   ]
  },
  {
   "cell_type": "markdown",
   "metadata": {
    "id": "-fYOi6vBk_BJ"
   },
   "source": [
    "### Normalização dos dados"
   ]
  },
  {
   "cell_type": "code",
   "execution_count": 114,
   "metadata": {
    "ExecuteTime": {
     "end_time": "2019-11-20T22:47:23.943887Z",
     "start_time": "2019-11-20T22:47:23.932371Z"
    },
    "executionInfo": {
     "elapsed": 694,
     "status": "ok",
     "timestamp": 1616680211777,
     "user": {
      "displayName": "Rodrigo Frassetto Nogueira",
      "photoUrl": "https://lh3.googleusercontent.com/a-/AOh14Gg3u3pg5apXOSHpsrJ5MK3O6Ft12ftrebHDtzos=s64",
      "userId": "04931245259548677246"
     },
     "user_tz": 180
    },
    "id": "_57JEIR1k_BJ"
   },
   "outputs": [],
   "source": [
    "xt_min = x_train.min()\n",
    "xt_max = x_train.max()\n",
    "x_train_n = (x_train - xt_min)/(xt_max - xt_min)\n",
    "\n",
    "yt_min = y_train.min()\n",
    "yt_max = y_train.max()\n",
    "y_train_n = (y_train - yt_min)/(yt_max - yt_min)"
   ]
  },
  {
   "cell_type": "code",
   "execution_count": 115,
   "metadata": {
    "ExecuteTime": {
     "end_time": "2019-11-20T22:47:24.396991Z",
     "start_time": "2019-11-20T22:47:23.948900Z"
    },
    "colab": {
     "base_uri": "https://localhost:8080/",
     "height": 296
    },
    "executionInfo": {
     "elapsed": 659,
     "status": "ok",
     "timestamp": 1616680218727,
     "user": {
      "displayName": "Rodrigo Frassetto Nogueira",
      "photoUrl": "https://lh3.googleusercontent.com/a-/AOh14Gg3u3pg5apXOSHpsrJ5MK3O6Ft12ftrebHDtzos=s64",
      "userId": "04931245259548677246"
     },
     "user_tz": 180
    },
    "id": "fY0-Fk8Qk_BN",
    "outputId": "85a09c0b-c344-472a-bee8-1fdfa212fe0a"
   },
   "outputs": [
    {
     "data": {
      "text/plain": [
       "Text(0, 0.5, 'Comprimento petalas')"
      ]
     },
     "execution_count": 115,
     "metadata": {},
     "output_type": "execute_result"
    },
    {
     "data": {
      "image/png": "[encoded data removed]",
      "text/plain": [
       "<Figure size 432x288 with 1 Axes>"
      ]
     },
     "metadata": {
      "needs_background": "light"
     },
     "output_type": "display_data"
    }
   ],
   "source": [
    "plt.scatter(x_train_n,y_train_n)\n",
    "plt.xlabel('Comprimento sepalas')\n",
    "plt.ylabel('Comprimento petalas')"
   ]
  },
  {
   "cell_type": "markdown",
   "metadata": {
    "id": "sE533YSLk_BQ"
   },
   "source": [
    "## Modelo da rede"
   ]
  },
  {
   "cell_type": "markdown",
   "metadata": {
    "id": "0tjJVC8Qk_BR"
   },
   "source": [
    "### Reta de ajuste"
   ]
  },
  {
   "cell_type": "markdown",
   "metadata": {
    "id": "JG5GX0Jqk_BS"
   },
   "source": [
    "A equação da reta no plano necessita de dois parâmetros, aqui denominados $w_0$ (*bias*) e inclinação $w_1$. Veja figura:\n",
    "\n",
    "\n",
    "<img src=\"https://raw.githubusercontent.com/robertoalotufo/files/master/figures/linhareta.png\" width=\"300pt\">\n",
    "\n",
    "A reta de ajuste será dada por:\n",
    "\n",
    "$$ \\hat{y} = w_0 + w_1 x $$\n",
    "\n",
    "onde \n",
    "* $w_1$ é o coeficiente angular da reta e \n",
    "* $w_0$ é a interseção do eixo vertical quando x é igual a zero, também denominado de *bias*.\n",
    "* $x$ é a variável de entrada (comprimento das sépalas) e \n",
    "* $\\hat{y}$ é a predição (comprimento estimado das pétalas)."
   ]
  },
  {
   "cell_type": "markdown",
   "metadata": {
    "id": "-0C3zAKxk_BT"
   },
   "source": [
    "### Linear Regression Model"
   ]
  },
  {
   "cell_type": "markdown",
   "metadata": {
    "id": "yCG8jvwdk_BU"
   },
   "source": [
    "<img src='https://raw.githubusercontent.com/robertoalotufo/files/master//figures/RegressaoLinearNeuronio.png' width='400'></a>"
   ]
  },
  {
   "cell_type": "markdown",
   "metadata": {
    "id": "l0p186f5k_BV"
   },
   "source": [
    "### Formulação matricial do neurônio"
   ]
  },
  {
   "cell_type": "markdown",
   "metadata": {
    "id": "SqV4Hf7Jk_BW"
   },
   "source": [
    "* $\\mathbf{w} = [w_0 \\ w_1]$ é vetor linha de parâmetros e \n",
    "* $\\mathbf{x} = [1 \\ x_0] $ é vetor linha de uma amostra (com *bias*).\n",
    "\n",
    "$$ \\hat{y} = 1 w_0 + x_0 w_1 $$\n",
    "\n",
    "$$ [\\hat{y}] = [1 \\ x_0] \\begin{bmatrix} w_0 \\\\ w_1 \\end{bmatrix} $$\n",
    "\n",
    "$$ \\mathbf{\\hat{y}} = \\mathbf{x} \\mathbf{w^T} $$"
   ]
  },
  {
   "cell_type": "markdown",
   "metadata": {
    "id": "-5U9Bi17k_BX"
   },
   "source": [
    "### Fazendo o predict de várias amostras"
   ]
  },
  {
   "cell_type": "markdown",
   "metadata": {
    "id": "DJl-UgB5k_BY"
   },
   "source": [
    "$$ \\begin{matrix} \n",
    "\\begin{bmatrix}\n",
    "\\hat{y}_0\\\\ \n",
    "\\hat{y}_1\\\\\n",
    "\\\\\n",
    "\\hat{y}_{M-1} \n",
    "\\end{bmatrix} &=& \\begin{bmatrix}\n",
    "1 & x_0 \\\\ \n",
    "1 & x_1\\\\\n",
    "\\\\ \n",
    "1 & x_{M-1} \\\\ \n",
    "\\end{bmatrix}\n",
    "&\n",
    "\\begin{bmatrix}\n",
    "w_0\\\\ \n",
    "w_1\n",
    "\\end{bmatrix} \\\\\n",
    "(M,1) & & (M,2) & (2,1) \\\\\n",
    "\\end{matrix} $$"
   ]
  },
  {
   "cell_type": "markdown",
   "metadata": {
    "id": "5ZVpwvhJk_BZ"
   },
   "source": [
    "### Preenchendo x com coluna de 1's para bias"
   ]
  },
  {
   "cell_type": "code",
   "execution_count": 116,
   "metadata": {
    "ExecuteTime": {
     "end_time": "2019-11-20T22:47:24.407867Z",
     "start_time": "2019-11-20T22:47:24.400560Z"
    },
    "executionInfo": {
     "elapsed": 722,
     "status": "ok",
     "timestamp": 1616680487749,
     "user": {
      "displayName": "Rodrigo Frassetto Nogueira",
      "photoUrl": "https://lh3.googleusercontent.com/a-/AOh14Gg3u3pg5apXOSHpsrJ5MK3O6Ft12ftrebHDtzos=s64",
      "userId": "04931245259548677246"
     },
     "user_tz": 180
    },
    "id": "o36ewtv4k_Ba"
   },
   "outputs": [],
   "source": [
    "x_train_bias = np.hstack([np.ones(shape=(n_samples,1)), x_train_n])"
   ]
  },
  {
   "cell_type": "markdown",
   "metadata": {
    "id": "2m54b7-Kk_Bd"
   },
   "source": [
    "### Classe com o modelo da rede"
   ]
  },
  {
   "cell_type": "code",
   "execution_count": 117,
   "metadata": {
    "ExecuteTime": {
     "end_time": "2019-11-20T22:47:24.420543Z",
     "start_time": "2019-11-20T22:47:24.413964Z"
    },
    "executionInfo": {
     "elapsed": 390,
     "status": "ok",
     "timestamp": 1616680941508,
     "user": {
      "displayName": "Rodrigo Frassetto Nogueira",
      "photoUrl": "https://lh3.googleusercontent.com/a-/AOh14Gg3u3pg5apXOSHpsrJ5MK3O6Ft12ftrebHDtzos=s64",
      "userId": "04931245259548677246"
     },
     "user_tz": 180
    },
    "id": "I6LO9z7Sk_Bf"
   },
   "outputs": [],
   "source": [
    "class Net():\n",
    "    def __init__(self, n_in, n_out):\n",
    "        self.w = np.random.uniform(-0.1,0.1,(n_out,n_in)) #inicialização dos parâmetros\n",
    "        print(f'w inicial: {self.w}')\n",
    "\n",
    "    def forward(self, x_bias):\n",
    "        return x_bias.dot(self.w.T)"
   ]
  },
  {
   "cell_type": "markdown",
   "metadata": {
    "id": "KCtYj4wYk_Bi"
   },
   "source": [
    "### Criando a rede, instanciando o objeto model"
   ]
  },
  {
   "cell_type": "code",
   "execution_count": 118,
   "metadata": {
    "ExecuteTime": {
     "end_time": "2019-11-20T22:47:24.432191Z",
     "start_time": "2019-11-20T22:47:24.424599Z"
    },
    "colab": {
     "base_uri": "https://localhost:8080/"
    },
    "executionInfo": {
     "elapsed": 609,
     "status": "ok",
     "timestamp": 1616681366392,
     "user": {
      "displayName": "Rodrigo Frassetto Nogueira",
      "photoUrl": "https://lh3.googleusercontent.com/a-/AOh14Gg3u3pg5apXOSHpsrJ5MK3O6Ft12ftrebHDtzos=s64",
      "userId": "04931245259548677246"
     },
     "user_tz": 180
    },
    "id": "9BoqX7Lyk_Bj",
    "outputId": "af2b90a3-8f23-4e86-b26c-865a655fec86"
   },
   "outputs": [
    {
     "name": "stdout",
     "output_type": "stream",
     "text": [
      "w inicial: [[-0.06169611  0.02442175]]\n"
     ]
    }
   ],
   "source": [
    "model = Net(2,1) # duas entradas (1 + x0) e uma saída y_pred"
   ]
  },
  {
   "cell_type": "markdown",
   "metadata": {
    "id": "fTQRV7k5k_Bm"
   },
   "source": [
    "### Testando o predict da rede (mesmo sem treiná-la)"
   ]
  },
  {
   "cell_type": "code",
   "execution_count": 119,
   "metadata": {
    "ExecuteTime": {
     "end_time": "2019-11-20T22:47:24.473067Z",
     "start_time": "2019-11-20T22:47:24.454298Z"
    },
    "colab": {
     "base_uri": "https://localhost:8080/"
    },
    "executionInfo": {
     "elapsed": 912,
     "status": "ok",
     "timestamp": 1616681368226,
     "user": {
      "displayName": "Rodrigo Frassetto Nogueira",
      "photoUrl": "https://lh3.googleusercontent.com/a-/AOh14Gg3u3pg5apXOSHpsrJ5MK3O6Ft12ftrebHDtzos=s64",
      "userId": "04931245259548677246"
     },
     "user_tz": 180
    },
    "id": "PAdN-1Z9k_Bn",
    "outputId": "dcd9cffa-56a3-41d0-fc39-47ac085ee644"
   },
   "outputs": [
    {
     "data": {
      "text/plain": [
       "array([[-0.09602795],\n",
       "       [ 0.0661236 ],\n",
       "       [-0.06857828],\n",
       "       [-0.05573871]])"
      ]
     },
     "execution_count": 119,
     "metadata": {},
     "output_type": "execute_result"
    }
   ],
   "source": [
    "xin = np.random.randn(4,2) # 4 amostras, 2 entradas (1 + x0)\n",
    "ypred = model.forward(xin)\n",
    "ypred"
   ]
  },
  {
   "cell_type": "markdown",
   "metadata": {
    "id": "Pa3UAVfOk_Br"
   },
   "source": [
    "## Treinamento via gradiente descendente"
   ]
  },
  {
   "cell_type": "markdown",
   "metadata": {
    "id": "JwTVyZEyk_Br"
   },
   "source": [
    "Função de perda:\n",
    "$$ J(\\hat{y_i},y_i) = \\frac{1}{M} \\sum_{i=0}^{M-1} (\\hat{y_i} - y_i)^2 $$"
   ]
  },
  {
   "cell_type": "markdown",
   "metadata": {
    "ExecuteTime": {
     "end_time": "2017-10-05T14:05:06.244776",
     "start_time": "2017-10-05T14:05:06.240743"
    },
    "id": "4-lRtR1ik_Bs"
   },
   "source": [
    "Gradiente:\n",
    "$$\\mathbf{\\nabla{J_w}} = \\frac{2}{M}\\mathbf{x^T}(\\mathbf{x w^T} - \\mathbf{y}) $$"
   ]
  },
  {
   "cell_type": "markdown",
   "metadata": {
    "ExecuteTime": {
     "end_time": "2017-10-05T14:06:17.929718",
     "start_time": "2017-10-05T14:06:17.925519"
    },
    "id": "tyYuAnVEk_Bt"
   },
   "source": [
    "Atualização dos parâmetros pelo gradiente descendente:\n",
    "$$ \\mathbf{w} = \\mathbf{w} − \\eta (\\mathbf{\\nabla J_w})^T $$"
   ]
  },
  {
   "cell_type": "markdown",
   "metadata": {
    "id": "_SCuhsrTk_Bu"
   },
   "source": [
    "### Laço de treinamento"
   ]
  },
  {
   "cell_type": "code",
   "execution_count": 120,
   "metadata": {
    "ExecuteTime": {
     "end_time": "2019-11-20T22:47:24.512030Z",
     "start_time": "2019-11-20T22:47:24.481323Z"
    },
    "id": "FhC8PyjAk_Bv",
    "scrolled": false
   },
   "outputs": [
    {
     "name": "stdout",
     "output_type": "stream",
     "text": [
      "w inicial: [[0.03669259 0.04254041]]\n",
      "Epoch[100/1000], loss: 0.218747\n",
      "Epoch[200/1000], loss: 0.144497\n",
      "Epoch[300/1000], loss: 0.099516\n",
      "Epoch[400/1000], loss: 0.072240\n",
      "Epoch[500/1000], loss: 0.055674\n",
      "Epoch[600/1000], loss: 0.045587\n",
      "Epoch[700/1000], loss: 0.039419\n",
      "Epoch[800/1000], loss: 0.035624\n",
      "Epoch[900/1000], loss: 0.033264\n",
      "Epoch[1000/1000], loss: 0.031775\n"
     ]
    }
   ],
   "source": [
    "num_epochs = 1000\n",
    "learning_rate = 0.001\n",
    "model = Net(2,1) # duas entradas (1 + x0) e uma saída y_pred\n",
    "for epoch in range(num_epochs):\n",
    "\n",
    "    # forward - predict\n",
    "    y_pred = model.forward(x_train_bias)\n",
    "\n",
    "    #loss cálculo da função de perda\n",
    "    loss = np.square(y_pred - y_train_n).mean()\n",
    "    \n",
    "    # cálculo do gradiente pelas derivadas parciais\n",
    "    w_grad = (2.0/n_samples) * (x_train_bias.T).dot(x_train_bias.dot(model.w.T) - y_train_n)\n",
    "    \n",
    "    # gradiente descendente\n",
    "    model.w = model.w - learning_rate * w_grad.T\n",
    "    \n",
    "    # verbose\n",
    "    if (epoch+1) % 100 == 0:\n",
    "        print('Epoch[{}/{}], loss: {:.6f}'\n",
    "              .format(epoch+1, num_epochs, loss))"
   ]
  },
  {
   "cell_type": "markdown",
   "metadata": {
    "id": "XgTbOP-6k_By"
   },
   "source": [
    "## Avaliação"
   ]
  },
  {
   "cell_type": "markdown",
   "metadata": {
    "id": "tL5p3dMTk_Bz"
   },
   "source": [
    "### Predict"
   ]
  },
  {
   "cell_type": "code",
   "execution_count": 121,
   "metadata": {
    "ExecuteTime": {
     "end_time": "2019-11-20T22:47:24.784977Z",
     "start_time": "2019-11-20T22:47:24.516871Z"
    },
    "colab": {
     "base_uri": "https://localhost:8080/",
     "height": 282
    },
    "executionInfo": {
     "elapsed": 639,
     "status": "ok",
     "timestamp": 1616682028226,
     "user": {
      "displayName": "Rodrigo Frassetto Nogueira",
      "photoUrl": "https://lh3.googleusercontent.com/a-/AOh14Gg3u3pg5apXOSHpsrJ5MK3O6Ft12ftrebHDtzos=s64",
      "userId": "04931245259548677246"
     },
     "user_tz": 180
    },
    "id": "nEb3kgyzk_B0",
    "outputId": "387b9377-28b4-4777-ed81-6ac87df7c551"
   },
   "outputs": [
    {
     "data": {
      "text/plain": [
       "[<matplotlib.lines.Line2D at 0x7fe7a249a1f0>]"
      ]
     },
     "execution_count": 121,
     "metadata": {},
     "output_type": "execute_result"
    },
    {
     "data": {
      "image/png": "[encoded data removed]",
      "text/plain": [
       "<Figure size 432x288 with 1 Axes>"
      ]
     },
     "metadata": {
      "needs_background": "light"
     },
     "output_type": "display_data"
    }
   ],
   "source": [
    "y_pred = model.forward(x_train_bias)\n",
    "plt.plot(x_train_n, y_train_n, 'ro', label='Original data')\n",
    "plt.plot(x_train_n, y_pred, 'kx-', label='Fitting Line')"
   ]
  },
  {
   "cell_type": "markdown",
   "metadata": {
    "id": "BZDHVCoyk_B2"
   },
   "source": [
    "### Parâmetros treinados"
   ]
  },
  {
   "cell_type": "code",
   "execution_count": 122,
   "metadata": {
    "ExecuteTime": {
     "end_time": "2019-11-20T22:47:24.803083Z",
     "start_time": "2019-11-20T22:47:24.791342Z"
    },
    "colab": {
     "base_uri": "https://localhost:8080/"
    },
    "executionInfo": {
     "elapsed": 753,
     "status": "ok",
     "timestamp": 1616682049670,
     "user": {
      "displayName": "Rodrigo Frassetto Nogueira",
      "photoUrl": "https://lh3.googleusercontent.com/a-/AOh14Gg3u3pg5apXOSHpsrJ5MK3O6Ft12ftrebHDtzos=s64",
      "userId": "04931245259548677246"
     },
     "user_tz": 180
    },
    "id": "5p4dWQiNk_B4",
    "outputId": "f6b66f9b-ac95-4dc5-d2b5-b55128635314"
   },
   "outputs": [
    {
     "name": "stdout",
     "output_type": "stream",
     "text": [
      "[[0.42175485 0.28940008]]\n"
     ]
    }
   ],
   "source": [
    "print(model.w)"
   ]
  },
  {
   "cell_type": "markdown",
   "metadata": {
    "id": "FjlrslvAk_B8"
   },
   "source": [
    "### Avaliação do modelo"
   ]
  },
  {
   "cell_type": "code",
   "execution_count": 123,
   "metadata": {
    "ExecuteTime": {
     "end_time": "2019-11-20T22:47:24.815986Z",
     "start_time": "2019-11-20T22:47:24.806566Z"
    },
    "colab": {
     "base_uri": "https://localhost:8080/"
    },
    "executionInfo": {
     "elapsed": 737,
     "status": "ok",
     "timestamp": 1616681960537,
     "user": {
      "displayName": "Rodrigo Frassetto Nogueira",
      "photoUrl": "https://lh3.googleusercontent.com/a-/AOh14Gg3u3pg5apXOSHpsrJ5MK3O6Ft12ftrebHDtzos=s64",
      "userId": "04931245259548677246"
     },
     "user_tz": 180
    },
    "id": "FGkskjjWk_B9",
    "outputId": "54debf57-0a09-496b-c391-a85066f40852"
   },
   "outputs": [
    {
     "data": {
      "text/plain": [
       "0.03176273227476974"
      ]
     },
     "execution_count": 123,
     "metadata": {},
     "output_type": "execute_result"
    }
   ],
   "source": [
    "loss = np.square(y_pred - y_train_n).mean()\n",
    "loss"
   ]
  },
  {
   "cell_type": "markdown",
   "metadata": {
    "id": "kK-XzZxdk_CD"
   },
   "source": [
    "### Valor ótimo, solução analítica"
   ]
  },
  {
   "cell_type": "markdown",
   "metadata": {
    "id": "ArADsRyXk_CE"
   },
   "source": [
    "$$  \\mathbf{w} =(\\mathbf{x^T} \\mathbf{x})^{−1}\\mathbf{x^T} \\mathbf{y} $$"
   ]
  },
  {
   "cell_type": "code",
   "execution_count": 124,
   "metadata": {
    "ExecuteTime": {
     "end_time": "2019-11-20T22:47:24.835201Z",
     "start_time": "2019-11-20T22:47:24.820832Z"
    },
    "colab": {
     "base_uri": "https://localhost:8080/"
    },
    "executionInfo": {
     "elapsed": 614,
     "status": "ok",
     "timestamp": 1616681973784,
     "user": {
      "displayName": "Rodrigo Frassetto Nogueira",
      "photoUrl": "https://lh3.googleusercontent.com/a-/AOh14Gg3u3pg5apXOSHpsrJ5MK3O6Ft12ftrebHDtzos=s64",
      "userId": "04931245259548677246"
     },
     "user_tz": 180
    },
    "id": "xpTQxO2ak_CF",
    "outputId": "a5cfe3f4-9ff1-4f25-aa85-bf3e089ebfb9"
   },
   "outputs": [
    {
     "name": "stdout",
     "output_type": "stream",
     "text": [
      "[[0.26134159 0.68646976]]\n"
     ]
    }
   ],
   "source": [
    "x = x_train_bias\n",
    "y = y_train_n\n",
    "w_opt = (np.linalg.inv((x.T).dot(x)).dot(x.T)).dot(y)\n",
    "print(w_opt.T)"
   ]
  },
  {
   "cell_type": "markdown",
   "metadata": {
    "id": "-7cwaIe7k_CJ"
   },
   "source": [
    "# Exercícios"
   ]
  },
  {
   "cell_type": "markdown",
   "metadata": {
    "id": "wKnoZ7zNk_CK"
   },
   "source": [
    "## Questões"
   ]
  },
  {
   "cell_type": "markdown",
   "metadata": {
    "id": "fkAWk0DIk_CL"
   },
   "source": [
    "1. Quantos parâmetros são treinados nesse modelo?\n",
    "2. Qual é o número de atributos de entrada para a rede?\n",
    "3. Qual é o número de saídas da rede?\n",
    "4. Suponha que eu tenha agora 5 mil amostras para fazer a predição. Qual é o shape da matriz de entrada? \n",
    "   Qual é o shape do matriz de saída?"
   ]
  },
  {
   "cell_type": "markdown",
   "metadata": {
    "id": "McnRU5uPk_CM"
   },
   "source": [
    "## Atividades"
   ]
  },
  {
   "cell_type": "markdown",
   "metadata": {
    "id": "28Dn5Ohkk_CN"
   },
   "source": [
    "1. Modifique o laço do treinamento via gradiente descendente para guardar em uma lista, o valor da perda no final\n",
    "   de cada época. Após o treinamento, plote o valor da perda em função da época.\n",
    "2. Calcule o valor da perda (MSE) da rede com os parâmetros inicializados, sem serem treinados.\n",
    "3. Coloque os valores dos pesos da solução ótima analítica no modelo da rede e calcule o valor da perda (MSE) e\n",
    "   compare com o valor da perda obtida pelo método da otimização via gradiente descendente."
   ]
  },
  {
   "cell_type": "markdown",
   "metadata": {},
   "source": [
    "## 1 Answers."
   ]
  },
  {
   "cell_type": "code",
   "execution_count": 125,
   "metadata": {},
   "outputs": [
    {
     "name": "stdout",
     "output_type": "stream",
     "text": [
      "w inicial: [[-0.02594985  0.01223924]]\n",
      "Epoch[10/1000] - loss: 0.28494731668435724\n",
      "Epoch[20/1000] - loss: 0.1836280947822334\n",
      "Epoch[30/1000] - loss: 0.12262825618834512\n",
      "Epoch[40/1000] - loss: 0.08587573956048479\n",
      "Epoch[50/1000] - loss: 0.0637056177091719\n",
      "Epoch[60/1000] - loss: 0.05030588129124043\n",
      "Epoch[70/1000] - loss: 0.04218146590610617\n",
      "Epoch[80/1000] - loss: 0.03723059783689252\n",
      "Epoch[90/1000] - loss: 0.03418935639076645\n",
      "Epoch[100/1000] - loss: 0.03229766255890485\n",
      "Epoch[110/1000] - loss: 0.031098421953459656\n",
      "Epoch[120/1000] - loss: 0.030316739804275614\n",
      "Epoch[130/1000] - loss: 0.029787287129608347\n",
      "Epoch[140/1000] - loss: 0.02941062251969078\n",
      "Epoch[150/1000] - loss: 0.029126926320630405\n",
      "Epoch[160/1000] - loss: 0.02890020573074938\n",
      "Epoch[170/1000] - loss: 0.028708796559431354\n",
      "Epoch[180/1000] - loss: 0.02853965147157706\n",
      "Epoch[190/1000] - loss: 0.028384905227781695\n",
      "Epoch[200/1000] - loss: 0.028239809191490797\n",
      "Epoch[210/1000] - loss: 0.028101489242258065\n",
      "Epoch[220/1000] - loss: 0.027968198842750466\n",
      "Epoch[230/1000] - loss: 0.02783886986559784\n",
      "Epoch[240/1000] - loss: 0.027712842477653626\n",
      "Epoch[250/1000] - loss: 0.02758970270019275\n",
      "Epoch[260/1000] - loss: 0.027469184719936535\n",
      "Epoch[270/1000] - loss: 0.027351112137973272\n",
      "Epoch[280/1000] - loss: 0.027235362634017216\n",
      "Epoch[290/1000] - loss: 0.027121846711544877\n",
      "Epoch[300/1000] - loss: 0.027010494910547272\n",
      "Epoch[310/1000] - loss: 0.02690125011237212\n",
      "Epoch[320/1000] - loss: 0.02679406290678846\n",
      "Epoch[330/1000] - loss: 0.026688888800614926\n",
      "Epoch[340/1000] - loss: 0.026585686533868808\n",
      "Epoch[350/1000] - loss: 0.026484417062019153\n",
      "Epoch[360/1000] - loss: 0.026385042938896687\n",
      "Epoch[370/1000] - loss: 0.026287527940632698\n",
      "Epoch[380/1000] - loss: 0.026191836834633327\n",
      "Epoch[390/1000] - loss: 0.026097935235861777\n",
      "Epoch[400/1000] - loss: 0.026005789515712658\n",
      "Epoch[410/1000] - loss: 0.025915366742600244\n",
      "Epoch[420/1000] - loss: 0.025826634641704222\n",
      "Epoch[430/1000] - loss: 0.025739561566320387\n",
      "Epoch[440/1000] - loss: 0.025654116476272967\n",
      "Epoch[450/1000] - loss: 0.02557026892065484\n",
      "Epoch[460/1000] - loss: 0.02548798902325065\n",
      "Epoch[470/1000] - loss: 0.025407247469651294\n",
      "Epoch[480/1000] - loss: 0.02532801549546296\n",
      "Epoch[490/1000] - loss: 0.025250264875249687\n",
      "Epoch[500/1000] - loss: 0.02517396791199127\n",
      "Epoch[510/1000] - loss: 0.025099097426923865\n",
      "Epoch[520/1000] - loss: 0.025025626749682138\n",
      "Epoch[530/1000] - loss: 0.024953529708692815\n",
      "Epoch[540/1000] - loss: 0.024882780621788204\n",
      "Epoch[550/1000] - loss: 0.024813354287019463\n",
      "Epoch[560/1000] - loss: 0.024745225973656252\n",
      "Epoch[570/1000] - loss: 0.024678371413363386\n",
      "Epoch[580/1000] - loss: 0.024612766791547783\n",
      "Epoch[590/1000] - loss: 0.02454838873887032\n",
      "Epoch[600/1000] - loss: 0.024485214322918333\n",
      "Epoch[610/1000] - loss: 0.024423221040034943\n",
      "Epoch[620/1000] - loss: 0.024362386807301805\n",
      "Epoch[630/1000] - loss: 0.024302689954672222\n",
      "Epoch[640/1000] - loss: 0.02424410921725156\n",
      "Epoch[650/1000] - loss: 0.024186623727722126\n",
      "Epoch[660/1000] - loss: 0.024130213008909794\n",
      "Epoch[670/1000] - loss: 0.024074856966489647\n",
      "Epoch[680/1000] - loss: 0.02402053588182803\n",
      "Epoch[690/1000] - loss: 0.023967230404958472\n",
      "Epoch[700/1000] - loss: 0.023914921547688886\n",
      "Epoch[710/1000] - loss: 0.02386359067683773\n",
      "Epoch[720/1000] - loss: 0.02381321950759653\n",
      "Epoch[730/1000] - loss: 0.02376379009701666\n",
      "Epoch[740/1000] - loss: 0.023715284837617655\n",
      "Epoch[750/1000] - loss: 0.02366768645111532\n",
      "Epoch[760/1000] - loss: 0.02362097798226681\n",
      "Epoch[770/1000] - loss: 0.02357514279283105\n",
      "Epoch[780/1000] - loss: 0.023530164555641848\n",
      "Epoch[790/1000] - loss: 0.023486027248791994\n",
      "Epoch[800/1000] - loss: 0.023442715149925943\n",
      "Epoch[810/1000] - loss: 0.023400212830639373\n",
      "Epoch[820/1000] - loss: 0.023358505150983304\n",
      "Epoch[830/1000] - loss: 0.02331757725407102\n",
      "Epoch[840/1000] - loss: 0.023277414560785848\n",
      "Epoch[850/1000] - loss: 0.023238002764587887\n",
      "Epoch[860/1000] - loss: 0.02319932782641775\n",
      "Epoch[870/1000] - loss: 0.023161375969695707\n",
      "Epoch[880/1000] - loss: 0.023124133675414212\n",
      "Epoch[890/1000] - loss: 0.023087587677322278\n",
      "Epoch[900/1000] - loss: 0.023051724957199808\n",
      "Epoch[910/1000] - loss: 0.023016532740220343\n",
      "Epoch[920/1000] - loss: 0.022981998490400453\n",
      "Epoch[930/1000] - loss: 0.022948109906134277\n",
      "Epoch[940/1000] - loss: 0.022914854915811477\n",
      "Epoch[950/1000] - loss: 0.02288222167351715\n",
      "Epoch[960/1000] - loss: 0.022850198554812167\n",
      "Epoch[970/1000] - loss: 0.022818774152592355\n",
      "Epoch[980/1000] - loss: 0.02278793727302513\n",
      "Epoch[990/1000] - loss: 0.02275767693156209\n",
      "Epoch[1000/1000] - loss: 0.022727982349026142\n"
     ]
    }
   ],
   "source": [
    "model = Net(2,1)\n",
    "\n",
    "num_epochs = 1000\n",
    "learn_rating = 0.01\n",
    "loss_list = []\n",
    "\n",
    "for epoch in range(num_epochs):\n",
    "    y_pred = model.forward(x_train_bias)\n",
    "    loss = np.square(y_pred - y_train_n).mean()\n",
    "    w_grad = (2.0/n_samples) * (x_train_bias.T).dot(x_train_bias.dot(model.w.T) - y_train_n)\n",
    "    model.w = model.w - learn_rating * w_grad.T\n",
    "    loss_list.append((loss,epoch))\n",
    "    \n",
    "\n",
    "    if(epoch+1) % 10 == 0:\n",
    "        print('Epoch[{}/{}] - loss: {}'.format(epoch+1,num_epochs,loss))\n",
    "\n"
   ]
  },
  {
   "cell_type": "markdown",
   "metadata": {},
   "source": [
    "## 2 Answer"
   ]
  },
  {
   "cell_type": "code",
   "execution_count": 126,
   "metadata": {},
   "outputs": [
    {
     "data": {
      "text/plain": [
       "[<matplotlib.lines.Line2D at 0x7fe7a243d070>]"
      ]
     },
     "execution_count": 126,
     "metadata": {},
     "output_type": "execute_result"
    },
    {
     "data": {
      "image/png": "[encoded data removed]",
      "text/plain": [
       "<Figure size 432x288 with 1 Axes>"
      ]
     },
     "metadata": {
      "needs_background": "light"
     },
     "output_type": "display_data"
    }
   ],
   "source": [
    "plt.plot(loss_list[1],loss_list[0])"
   ]
  },
  {
   "cell_type": "code",
   "execution_count": 127,
   "metadata": {},
   "outputs": [
    {
     "name": "stdout",
     "output_type": "stream",
     "text": [
      "w inicial: [[ 0.00061663 -0.09724631]]\n"
     ]
    },
    {
     "data": {
      "text/plain": [
       "0.47660782116551287"
      ]
     },
     "execution_count": 127,
     "metadata": {},
     "output_type": "execute_result"
    }
   ],
   "source": [
    "model = Net(2,1)\n",
    "y_pred = model.forward(x_train_bias)\n",
    "loss_begin = np.square(y_pred - y_train_n).mean() \n",
    "loss_begin"
   ]
  },
  {
   "cell_type": "markdown",
   "metadata": {},
   "source": [
    "## 3 Answer\n",
    "Coloque os valores dos pesos da solução ótima analítica no modelo da rede e calcule o valor da perda (MSE) e compare com o valor da perda obtida pelo método da otimização via gradiente descendente."
   ]
  },
  {
   "cell_type": "code",
   "execution_count": 128,
   "metadata": {},
   "outputs": [
    {
     "name": "stdout",
     "output_type": "stream",
     "text": [
      "w inicial: [[0.05456532 0.07652824]]\n",
      "Loss Treino: 0.022727982349026142 | Loss Opt: 0.021169424119097165 | LossT-LossOpt: 0.0015585582299289767\n"
     ]
    }
   ],
   "source": [
    "model = Net(2,1)\n",
    "model.w = w_opt.T\n",
    "y_pred = model.forward(x_train_bias)\n",
    "loss_opt = np.square(y_pred - y_train_n).mean() \n",
    "print('Loss Treino: {} | Loss Opt: {} | LossT-LossOpt: {}'.format(loss,loss_opt,loss-loss_opt))"
   ]
  },
  {
   "cell_type": "markdown",
   "metadata": {
    "collapsed": true,
    "id": "74fkhQOyk_CO"
   },
   "source": [
    "# Aprendizados"
   ]
  },
  {
   "cell_type": "code",
   "execution_count": null,
   "metadata": {
    "id": "9dpMdiI5k_CP"
   },
   "outputs": [],
   "source": []
  }
 ],
 "metadata": {
  "colab": {
   "collapsed_sections": [],
   "name": "LinearRegressionIrisNumPy.ipynb",
   "provenance": [
    {
     "file_id": "https://github.com/robertoalotufo/rnap/blob/master/PyTorch/LinearRegressionIrisNumPy.ipynb",
     "timestamp": 1616526353511
    }
   ]
  },
  "kernelspec": {
   "display_name": "Python 3",
   "language": "python",
   "name": "python3"
  },
  "language_info": {
   "codemirror_mode": {
    "name": "ipython",
    "version": 3
   },
   "file_extension": ".py",
   "mimetype": "text/x-python",
   "name": "python",
   "nbconvert_exporter": "python",
   "pygments_lexer": "ipython3",
   "version": "3.9.2"
  },
  "toc": {
   "base_numbering": 1,
   "nav_menu": {},
   "number_sections": true,
   "sideBar": true,
   "skip_h1_title": false,
   "title_cell": "Table of Contents",
   "title_sidebar": "Contents",
   "toc_cell": false,
   "toc_position": {},
   "toc_section_display": "block",
   "toc_window_display": false
  },
  "varInspector": {
   "cols": {
    "lenName": 16,
    "lenType": 16,
    "lenVar": 40
   },
   "kernels_config": {
    "python": {
     "delete_cmd_postfix": "",
     "delete_cmd_prefix": "del ",
     "library": "var_list.py",
     "varRefreshCmd": "print(var_dic_list())"
    },
    "r": {
     "delete_cmd_postfix": ") ",
     "delete_cmd_prefix": "rm(",
     "library": "var_list.r",
     "varRefreshCmd": "cat(var_dic_list()) "
    }
   },
   "types_to_exclude": [
    "module",
    "function",
    "builtin_function_or_method",
    "instance",
    "_Feature"
   ],
   "window_display": false
  }
 },
 "nbformat": 4,
 "nbformat_minor": 1
}
