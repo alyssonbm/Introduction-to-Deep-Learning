{
 "cells": [
  {
   "cell_type": "code",
   "execution_count": 1,
   "metadata": {
    "ExecuteTime": {
     "end_time": "2019-12-11T00:22:32.738841Z",
     "start_time": "2019-12-11T00:22:32.723834Z"
    },
    "colab": {
     "base_uri": "https://localhost:8080/",
     "height": 34
    },
    "executionInfo": {
     "elapsed": 3591,
     "status": "ok",
     "timestamp": 1576024733521,
     "user": {
      "displayName": "Roberto Lotufo",
      "photoUrl": "https://lh3.googleusercontent.com/a-/AAuE7mAo8mNkCwYHBAV6lSJd0DmUs3TylYJJcHpvSYSJKg=s64",
      "userId": "00857172468435692304"
     },
     "user_tz": 180
    },
    "id": "l0mBrDu8Cb5a",
    "outputId": "092897d1-7a82-484e-9b82-7ddefbfff42a"
   },
   "outputs": [],
   "source": [
    "# Este trecho é para harmonizar a execução com ou sem o Google Colab e o Drive com arquivos sincronizado\n",
    "try:\n",
    "    from google.colab import drive\n",
    "    drive.mount('/content/gdrive', force_remount=True)\n",
    "    root_dir = \"/content/gdrive/My Drive/\"\n",
    "    base_dir = root_dir + 'Colab Notebooks/rnap/PyTorch/'\n",
    "    import sys\n",
    "    if base_dir not in sys.path:\n",
    "        sys.path.append(base_dir)\n",
    "except ImportError:\n",
    "    base_dir = \"\""
   ]
  },
  {
   "cell_type": "markdown",
   "metadata": {
    "id": "B5_ZRWRfCZtI"
   },
   "source": [
    "# PyTorch: Gradientes e Grafo Computacional"
   ]
  },
  {
   "cell_type": "markdown",
   "metadata": {
    "id": "mQcJKilSCZtO"
   },
   "source": [
    "## Objetivos"
   ]
  },
  {
   "cell_type": "markdown",
   "metadata": {
    "id": "OFWv6Mi-CZtQ"
   },
   "source": [
    "Este notebook introduz \n",
    "- o conceito de autograd do PyTorch,\n",
    "- uma interpretação numérica intuitiva do gradiente, e o\n",
    "- grafo computacional, utilizado para o cálculo automático do gradiente de uma função."
   ]
  },
  {
   "cell_type": "markdown",
   "metadata": {
    "id": "BIlQdKAuCZtR"
   },
   "source": [
    "Um dos principais fundamentos para que o PyTorch seja adequado para deep learning é a sua habilidade de\n",
    "calcular o gradiente automaticamente a partir da expressões definidas. Essa facilidade é implementada\n",
    "pelo tensor através do cálculo automático do gradiente pela construção dinâmica do grafo computacional."
   ]
  },
  {
   "cell_type": "markdown",
   "metadata": {
    "id": "ZF_-dJ2nCZtT"
   },
   "source": [
    "## Grafo computacional"
   ]
  },
  {
   "cell_type": "markdown",
   "metadata": {
    "id": "jboejVQMCZtU"
   },
   "source": [
    "```\n",
    "    y_pred = x * w\n",
    "    e = y_pred - y\n",
    "    e2 = e**2\n",
    "    J = e2.sum()\n",
    "```"
   ]
  },
  {
   "cell_type": "markdown",
   "metadata": {
    "id": "KeeEBKl4CZtV"
   },
   "source": [
    "<img src=\"https://raw.githubusercontent.com/robertoalotufo/files/master/figures/GrafoComputacional.png\" width=\"600pt\"/>"
   ]
  },
  {
   "cell_type": "markdown",
   "metadata": {
    "id": "8yZun7wrCZtX"
   },
   "source": [
    "Para conhecer com maior profundidade a diferenciação automática usando grafo computacional, veja esta nota de aula:\n",
    "http://www.cs.toronto.edu/~rgrosse/courses/csc421_2019/readings/L06%20Automatic%20Differentiation.pdf\n",
    "\n",
    "Para entender melhor o funcionamento do grafo computacional do PyTorch, recomenda-se leitura em:\n",
    "\n",
    "- https://pytorch.org/docs/stable/autograd.html\n",
    "- https://pytorch.org/docs/stable/notes/autograd.html"
   ]
  },
  {
   "cell_type": "code",
   "execution_count": 2,
   "metadata": {
    "ExecuteTime": {
     "end_time": "2019-12-11T00:23:00.431853Z",
     "start_time": "2019-12-11T00:23:00.414813Z"
    },
    "id": "HlT2d-4fCZtZ"
   },
   "outputs": [],
   "source": [
    "import torch"
   ]
  },
  {
   "cell_type": "code",
   "execution_count": 3,
   "metadata": {
    "ExecuteTime": {
     "end_time": "2019-12-11T00:23:00.863228Z",
     "start_time": "2019-12-11T00:23:00.844457Z"
    },
    "colab": {
     "base_uri": "https://localhost:8080/",
     "height": 34
    },
    "executionInfo": {
     "elapsed": 3492,
     "status": "ok",
     "timestamp": 1576024733528,
     "user": {
      "displayName": "Roberto Lotufo",
      "photoUrl": "https://lh3.googleusercontent.com/a-/AAuE7mAo8mNkCwYHBAV6lSJd0DmUs3TylYJJcHpvSYSJKg=s64",
      "userId": "00857172468435692304"
     },
     "user_tz": 180
    },
    "id": "xX0QwUduCZtf",
    "outputId": "458d8421-2dde-45db-c510-5b75128feef5"
   },
   "outputs": [
    {
     "data": {
      "text/plain": [
       "'1.8.1+cu102'"
      ]
     },
     "execution_count": 3,
     "metadata": {},
     "output_type": "execute_result"
    }
   ],
   "source": [
    "torch.__version__"
   ]
  },
  {
   "cell_type": "markdown",
   "metadata": {
    "id": "vsqzALS4CZtl"
   },
   "source": [
    "## Se um tensor possui .requires_grad=True"
   ]
  },
  {
   "cell_type": "code",
   "execution_count": 4,
   "metadata": {
    "ExecuteTime": {
     "end_time": "2019-09-29T03:07:22.117010Z",
     "start_time": "2019-09-29T03:07:22.041861Z"
    },
    "colab": {
     "base_uri": "https://localhost:8080/",
     "height": 34
    },
    "executionInfo": {
     "elapsed": 3441,
     "status": "ok",
     "timestamp": 1576024733529,
     "user": {
      "displayName": "Roberto Lotufo",
      "photoUrl": "https://lh3.googleusercontent.com/a-/AAuE7mAo8mNkCwYHBAV6lSJd0DmUs3TylYJJcHpvSYSJKg=s64",
      "userId": "00857172468435692304"
     },
     "user_tz": 180
    },
    "id": "foaAb94aCZtm",
    "outputId": "11d769f1-31b2-4e03-fd72-bf262b27ea39"
   },
   "outputs": [
    {
     "data": {
      "text/plain": [
       "tensor([0., 2., 4., 6.])"
      ]
     },
     "execution_count": 4,
     "metadata": {},
     "output_type": "execute_result"
    }
   ],
   "source": [
    "y = 2 * torch.arange(0,4).float()\n",
    "y"
   ]
  },
  {
   "cell_type": "code",
   "execution_count": 5,
   "metadata": {
    "ExecuteTime": {
     "end_time": "2019-09-29T03:07:28.610934Z",
     "start_time": "2019-09-29T03:07:28.598223Z"
    },
    "colab": {
     "base_uri": "https://localhost:8080/",
     "height": 34
    },
    "executionInfo": {
     "elapsed": 3411,
     "status": "ok",
     "timestamp": 1576024733530,
     "user": {
      "displayName": "Roberto Lotufo",
      "photoUrl": "https://lh3.googleusercontent.com/a-/AAuE7mAo8mNkCwYHBAV6lSJd0DmUs3TylYJJcHpvSYSJKg=s64",
      "userId": "00857172468435692304"
     },
     "user_tz": 180
    },
    "id": "no6SdSyICZtr",
    "outputId": "84b1e193-6526-4ec8-ef9e-db4541063669"
   },
   "outputs": [
    {
     "data": {
      "text/plain": [
       "tensor([0., 1., 2., 3.])"
      ]
     },
     "execution_count": 5,
     "metadata": {},
     "output_type": "execute_result"
    }
   ],
   "source": [
    "x = torch.arange(0,4).float(); x"
   ]
  },
  {
   "cell_type": "code",
   "execution_count": 6,
   "metadata": {
    "ExecuteTime": {
     "end_time": "2019-09-29T03:07:31.523762Z",
     "start_time": "2019-09-29T03:07:31.497683Z"
    },
    "colab": {
     "base_uri": "https://localhost:8080/",
     "height": 34
    },
    "executionInfo": {
     "elapsed": 3388,
     "status": "ok",
     "timestamp": 1576024733531,
     "user": {
      "displayName": "Roberto Lotufo",
      "photoUrl": "https://lh3.googleusercontent.com/a-/AAuE7mAo8mNkCwYHBAV6lSJd0DmUs3TylYJJcHpvSYSJKg=s64",
      "userId": "00857172468435692304"
     },
     "user_tz": 180
    },
    "id": "eL_i1mwGCZtw",
    "outputId": "4b39ed14-a0fe-4a51-f41b-56780aabcac8"
   },
   "outputs": [
    {
     "data": {
      "text/plain": [
       "tensor([1.], requires_grad=True)"
      ]
     },
     "execution_count": 6,
     "metadata": {},
     "output_type": "execute_result"
    }
   ],
   "source": [
    "w = torch.ones(1,requires_grad=True); w"
   ]
  },
  {
   "cell_type": "markdown",
   "metadata": {
    "id": "qjEl-0l7CZt0"
   },
   "source": [
    "## Cálculo automático do gradiente da função perda J"
   ]
  },
  {
   "cell_type": "markdown",
   "metadata": {
    "id": "8pUh-SCnCZt1"
   },
   "source": [
    "Seja a expressão: $$ J = \\sum ((x  w) - y)^2 $$\n",
    "\n",
    "Queremos calcular a derivada de $J$ em relação a $w$."
   ]
  },
  {
   "cell_type": "markdown",
   "metadata": {
    "id": "eMwwVtJ1CZt2"
   },
   "source": [
    "### Montagem do grafo computacional"
   ]
  },
  {
   "cell_type": "code",
   "execution_count": 7,
   "metadata": {
    "ExecuteTime": {
     "end_time": "2019-09-29T03:07:36.290122Z",
     "start_time": "2019-09-29T03:07:36.273229Z"
    },
    "colab": {
     "base_uri": "https://localhost:8080/",
     "height": 34
    },
    "executionInfo": {
     "elapsed": 3355,
     "status": "ok",
     "timestamp": 1576024733531,
     "user": {
      "displayName": "Roberto Lotufo",
      "photoUrl": "https://lh3.googleusercontent.com/a-/AAuE7mAo8mNkCwYHBAV6lSJd0DmUs3TylYJJcHpvSYSJKg=s64",
      "userId": "00857172468435692304"
     },
     "user_tz": 180
    },
    "id": "zp2aK4YhCZt3",
    "outputId": "29ce6a8f-d308-4737-9c24-2dbff33c9202"
   },
   "outputs": [
    {
     "data": {
      "text/plain": [
       "tensor(14., grad_fn=<SumBackward0>)"
      ]
     },
     "execution_count": 7,
     "metadata": {},
     "output_type": "execute_result"
    }
   ],
   "source": [
    "# predict (forward)\n",
    "y_pred = x * w\n",
    "\n",
    "# cálculo da perda J: loss\n",
    "e = y_pred - y\n",
    "e2 = e.pow(2)\n",
    "J = e2.sum()\n",
    "J"
   ]
  },
  {
   "cell_type": "markdown",
   "metadata": {
    "id": "XC96wB7PCZt8"
   },
   "source": [
    "## Auto grad - processa o grafo computacional backwards"
   ]
  },
  {
   "cell_type": "markdown",
   "metadata": {
    "ExecuteTime": {
     "end_time": "2017-10-04T15:55:45.308858",
     "start_time": "2017-10-04T15:55:45.304654"
    },
    "id": "kKbf4D0CCZt-"
   },
   "source": [
    "O `backward()` varre o grafo computacional a partir da variável a ele associada e calcula o gradiente para todos os tensores que possuem o atributo `requires_grad` como verdadeiro.\n",
    "O `backward()` destroi o grafo após sua execução. Isso é intrínsico ao PyTorch pelo fato dele ser uma rede dinâmica."
   ]
  },
  {
   "cell_type": "code",
   "execution_count": 8,
   "metadata": {
    "ExecuteTime": {
     "end_time": "2019-09-29T03:07:40.267334Z",
     "start_time": "2019-09-29T03:07:40.247422Z"
    },
    "colab": {
     "base_uri": "https://localhost:8080/",
     "height": 34
    },
    "executionInfo": {
     "elapsed": 3321,
     "status": "ok",
     "timestamp": 1576024733532,
     "user": {
      "displayName": "Roberto Lotufo",
      "photoUrl": "https://lh3.googleusercontent.com/a-/AAuE7mAo8mNkCwYHBAV6lSJd0DmUs3TylYJJcHpvSYSJKg=s64",
      "userId": "00857172468435692304"
     },
     "user_tz": 180
    },
    "id": "Z1lnkb0GCZt_",
    "outputId": "6cb5c74b-ece8-4397-9870-2f7f6581491e"
   },
   "outputs": [
    {
     "name": "stdout",
     "output_type": "stream",
     "text": [
      "tensor([-28.])\n"
     ]
    }
   ],
   "source": [
    "J.backward()\n",
    "print(w.grad)"
   ]
  },
  {
   "cell_type": "code",
   "execution_count": 9,
   "metadata": {
    "ExecuteTime": {
     "end_time": "2019-09-29T03:07:42.637508Z",
     "start_time": "2019-09-29T03:07:42.627818Z"
    },
    "id": "NJWgpQbICZuD"
   },
   "outputs": [],
   "source": [
    "w.grad.data.zero_();"
   ]
  },
  {
   "cell_type": "markdown",
   "metadata": {
    "id": "j-HTDCpBCZuH"
   },
   "source": [
    "## Interpretação do Gradiente"
   ]
  },
  {
   "cell_type": "markdown",
   "metadata": {
    "id": "aQCUPkozCZuI"
   },
   "source": [
    "O gradiente de uma variável final (J) com respeito à outra variável de entrada (w) pode ser interpretado como o quanto a variável final J vai aumentar se houver um pequeno aumento na variável de entrada (w).\n",
    "Por exemplo suponha que o gradiente seja 28. Isto significa se aumentarmos a variável w de 0.001, então J vai aumentar de 0.028."
   ]
  },
  {
   "cell_type": "code",
   "execution_count": 10,
   "metadata": {
    "ExecuteTime": {
     "end_time": "2019-09-29T03:07:46.287734Z",
     "start_time": "2019-09-29T03:07:46.276014Z"
    },
    "colab": {
     "base_uri": "https://localhost:8080/",
     "height": 34
    },
    "executionInfo": {
     "elapsed": 3292,
     "status": "ok",
     "timestamp": 1576024733534,
     "user": {
      "displayName": "Roberto Lotufo",
      "photoUrl": "https://lh3.googleusercontent.com/a-/AAuE7mAo8mNkCwYHBAV6lSJd0DmUs3TylYJJcHpvSYSJKg=s64",
      "userId": "00857172468435692304"
     },
     "user_tz": 180
    },
    "id": "VNUws23uCZuK",
    "outputId": "d14a3be0-bfb5-41f1-8484-5e7a9f1a4026"
   },
   "outputs": [
    {
     "data": {
      "text/plain": [
       "tensor(13.9720, grad_fn=<SumBackward0>)"
      ]
     },
     "execution_count": 10,
     "metadata": {},
     "output_type": "execute_result"
    }
   ],
   "source": [
    "eps = 0.001\n",
    "y_pred = x * (w+eps)\n",
    "J_new = (y_pred - y).pow(2).sum()\n",
    "J_new"
   ]
  },
  {
   "cell_type": "code",
   "execution_count": 11,
   "metadata": {
    "ExecuteTime": {
     "end_time": "2019-09-29T03:07:49.279766Z",
     "start_time": "2019-09-29T03:07:49.267111Z"
    },
    "colab": {
     "base_uri": "https://localhost:8080/",
     "height": 34
    },
    "executionInfo": {
     "elapsed": 3275,
     "status": "ok",
     "timestamp": 1576024733535,
     "user": {
      "displayName": "Roberto Lotufo",
      "photoUrl": "https://lh3.googleusercontent.com/a-/AAuE7mAo8mNkCwYHBAV6lSJd0DmUs3TylYJJcHpvSYSJKg=s64",
      "userId": "00857172468435692304"
     },
     "user_tz": 180
    },
    "id": "iYghg1bnCZuP",
    "outputId": "a6a4bddc-81f2-40de-d5d1-ddbddbdcdea6"
   },
   "outputs": [
    {
     "name": "stdout",
     "output_type": "stream",
     "text": [
      "-0.027988434\n"
     ]
    }
   ],
   "source": [
    "print((J_new - J).data.numpy())"
   ]
  },
  {
   "cell_type": "markdown",
   "metadata": {
    "id": "Zlm30rdnCZuT"
   },
   "source": [
    "## Back propagation"
   ]
  },
  {
   "cell_type": "markdown",
   "metadata": {
    "id": "GREsFSQWCZuU"
   },
   "source": [
    "Uma forma equivalente explícita de calcular o gradiente é fazendo o processamento do backpropagation no grafo computacional, de forma explícita.\n",
    "Apenas como ilustração."
   ]
  },
  {
   "cell_type": "code",
   "execution_count": 12,
   "metadata": {
    "ExecuteTime": {
     "end_time": "2019-09-29T03:07:52.889088Z",
     "start_time": "2019-09-29T03:07:52.861404Z"
    },
    "colab": {
     "base_uri": "https://localhost:8080/",
     "height": 85
    },
    "executionInfo": {
     "elapsed": 3264,
     "status": "ok",
     "timestamp": 1576024733536,
     "user": {
      "displayName": "Roberto Lotufo",
      "photoUrl": "https://lh3.googleusercontent.com/a-/AAuE7mAo8mNkCwYHBAV6lSJd0DmUs3TylYJJcHpvSYSJKg=s64",
      "userId": "00857172468435692304"
     },
     "user_tz": 180
    },
    "id": "JYmJImp2CZuW",
    "outputId": "bc2f5fe2-7e09-4f02-a1bd-f7685d66be05",
    "scrolled": false
   },
   "outputs": [
    {
     "name": "stdout",
     "output_type": "stream",
     "text": [
      "1.0\n",
      "[1. 1. 1. 1.]\n",
      "[ 0. -2. -4. -6.]\n",
      "-28.0\n"
     ]
    }
   ],
   "source": [
    "import numpy as np\n",
    "\n",
    "dJ = 1.\n",
    "de2 = dJ * np.ones((4,))\n",
    "de = de2 * 2 * e.data.numpy()\n",
    "dy_pred = de\n",
    "dw = (dy_pred * x.data.numpy()).sum()\n",
    "print(dJ)\n",
    "print(de2)\n",
    "print(de)\n",
    "print(dw)\n"
   ]
  },
  {
   "cell_type": "markdown",
   "metadata": {
    "id": "r6-bQzqsCZuZ"
   },
   "source": [
    "## Visualizando o grafo computacional"
   ]
  },
  {
   "cell_type": "code",
   "execution_count": 16,
   "metadata": {
    "ExecuteTime": {
     "end_time": "2019-09-29T03:07:55.440538Z",
     "start_time": "2019-09-29T03:07:55.419663Z"
    },
    "id": "pjGruWPTCZub"
   },
   "outputs": [
    {
     "ename": "ModuleNotFoundError",
     "evalue": "No module named 'lib'",
     "output_type": "error",
     "traceback": [
      "\u001b[0;31m---------------------------------------------------------------------------\u001b[0m",
      "\u001b[0;31mModuleNotFoundError\u001b[0m                       Traceback (most recent call last)",
      "\u001b[0;32m<ipython-input-16-cd6299392e36>\u001b[0m in \u001b[0;36m<module>\u001b[0;34m\u001b[0m\n\u001b[0;32m----> 1\u001b[0;31m \u001b[0;32mimport\u001b[0m \u001b[0mlib\u001b[0m\u001b[0;34m.\u001b[0m\u001b[0mpytorch_visualize\u001b[0m \u001b[0;32mas\u001b[0m \u001b[0mptviz\u001b[0m\u001b[0;34m\u001b[0m\u001b[0;34m\u001b[0m\u001b[0m\n\u001b[0m",
      "\u001b[0;31mModuleNotFoundError\u001b[0m: No module named 'lib'"
     ]
    }
   ],
   "source": [
    "import lib.pytorch_visualize as ptviz"
   ]
  },
  {
   "cell_type": "code",
   "execution_count": 15,
   "metadata": {
    "ExecuteTime": {
     "end_time": "2019-09-29T03:07:56.829863Z",
     "start_time": "2019-09-29T03:07:56.003452Z"
    },
    "colab": {
     "base_uri": "https://localhost:8080/",
     "height": 381
    },
    "executionInfo": {
     "elapsed": 3218,
     "status": "ok",
     "timestamp": 1576024733540,
     "user": {
      "displayName": "Roberto Lotufo",
      "photoUrl": "https://lh3.googleusercontent.com/a-/AAuE7mAo8mNkCwYHBAV6lSJd0DmUs3TylYJJcHpvSYSJKg=s64",
      "userId": "00857172468435692304"
     },
     "user_tz": 180
    },
    "id": "Lbi_GDjWCZuf",
    "outputId": "4c59ca33-0c4b-437c-f675-bd9e9c623f1c"
   },
   "outputs": [
    {
     "ename": "NameError",
     "evalue": "name 'ptviz' is not defined",
     "output_type": "error",
     "traceback": [
      "\u001b[0;31m---------------------------------------------------------------------------\u001b[0m",
      "\u001b[0;31mNameError\u001b[0m                                 Traceback (most recent call last)",
      "\u001b[0;32m<ipython-input-15-54069f7ba7ed>\u001b[0m in \u001b[0;36m<module>\u001b[0;34m\u001b[0m\n\u001b[1;32m      1\u001b[0m \u001b[0mJ\u001b[0m \u001b[0;34m=\u001b[0m \u001b[0;34m(\u001b[0m\u001b[0;34m(\u001b[0m\u001b[0mw\u001b[0m \u001b[0;34m*\u001b[0m \u001b[0mx\u001b[0m\u001b[0;34m)\u001b[0m \u001b[0;34m-\u001b[0m \u001b[0my\u001b[0m\u001b[0;34m)\u001b[0m\u001b[0;34m.\u001b[0m\u001b[0mpow\u001b[0m\u001b[0;34m(\u001b[0m\u001b[0;36m2\u001b[0m\u001b[0;34m)\u001b[0m\u001b[0;34m.\u001b[0m\u001b[0msum\u001b[0m\u001b[0;34m(\u001b[0m\u001b[0;34m)\u001b[0m\u001b[0;34m\u001b[0m\u001b[0;34m\u001b[0m\u001b[0m\n\u001b[1;32m      2\u001b[0m \u001b[0mp\u001b[0m \u001b[0;34m=\u001b[0m \u001b[0;34m{\u001b[0m\u001b[0;34m'w'\u001b[0m\u001b[0;34m:\u001b[0m\u001b[0mw\u001b[0m\u001b[0;34m}\u001b[0m \u001b[0;31m# dicionário de parâmetros\u001b[0m\u001b[0;34m\u001b[0m\u001b[0;34m\u001b[0m\u001b[0m\n\u001b[0;32m----> 3\u001b[0;31m \u001b[0mout\u001b[0m \u001b[0;34m=\u001b[0m \u001b[0mptviz\u001b[0m\u001b[0;34m.\u001b[0m\u001b[0mmake_dot\u001b[0m\u001b[0;34m(\u001b[0m\u001b[0mJ\u001b[0m\u001b[0;34m,\u001b[0m\u001b[0mparams\u001b[0m\u001b[0;34m=\u001b[0m\u001b[0mp\u001b[0m\u001b[0;34m)\u001b[0m\u001b[0;34m\u001b[0m\u001b[0;34m\u001b[0m\u001b[0m\n\u001b[0m\u001b[1;32m      4\u001b[0m \u001b[0mout\u001b[0m\u001b[0;34m\u001b[0m\u001b[0;34m\u001b[0m\u001b[0m\n",
      "\u001b[0;31mNameError\u001b[0m: name 'ptviz' is not defined"
     ]
    }
   ],
   "source": [
    "J = ((w * x) - y).pow(2).sum()\n",
    "p = {'w':w} # dicionário de parâmetros\n",
    "out = ptviz.make_dot(J,params=p)\n",
    "out"
   ]
  },
  {
   "cell_type": "markdown",
   "metadata": {
    "collapsed": true,
    "id": "YNAx30ZLCZuj"
   },
   "source": [
    "# Exercícios"
   ]
  },
  {
   "cell_type": "markdown",
   "metadata": {
    "id": "MlXNtxkcCZul"
   },
   "source": [
    "## Questões"
   ]
  },
  {
   "cell_type": "markdown",
   "metadata": {
    "id": "iNKXUk0sCZum"
   },
   "source": [
    "1. O que acontece com o grafo computacional após execução do `backward()`?"
   ]
  },
  {
   "cell_type": "markdown",
   "metadata": {
    "id": "E6j-baKjCZuo"
   },
   "source": [
    "## Atividades"
   ]
  },
  {
   "cell_type": "markdown",
   "metadata": {
    "ExecuteTime": {
     "end_time": "2017-10-06T22:02:17.474843Z",
     "start_time": "2017-10-06T22:02:17.468865Z"
    },
    "id": "Q5Bt9WgkCZup"
   },
   "source": [
    "1. Execute um passo de atualização do valor de w, pelo \n",
    "gradiente descendente. Utilize um fator de aprendizado (*learning rate*) de 0.1 \n",
    "para atualizar o `w`. Após, recalcule a função de perda:\n",
    "\n",
    "    - w = w - lr * w.grad.data\n",
    "    - execute a célula 1.3.1 e verifique o quanto que a perda J diminuiu\n",
    "    \n",
    "2. No trecho abaixo, uma rede bastante conhecida, `resnet18` contendo 18 camadas \n",
    "   é criada, tendo\n",
    "   como entrada `xin`, resultando na saída `y`.\n",
    "   \n",
    "   Descomente a linha que cria a vizualização do grafo computacional e execute a\n",
    "   célula para visualizar o grafo computacional da rede `resnet18`:"
   ]
  },
  {
   "cell_type": "code",
   "execution_count": null,
   "metadata": {
    "ExecuteTime": {
     "end_time": "2018-08-20T20:50:44.237197Z",
     "start_time": "2018-08-20T20:50:42.973384Z"
    },
    "id": "EW8421kUCZur",
    "scrolled": true
   },
   "outputs": [],
   "source": [
    "from torchvision import models\n",
    "xin = torch.randn(1,3,224,224)\n",
    "resnet18 = models.resnet18()\n",
    "y = resnet18(xin)"
   ]
  },
  {
   "cell_type": "code",
   "execution_count": null,
   "metadata": {
    "ExecuteTime": {
     "end_time": "2018-08-20T20:50:45.193614Z",
     "start_time": "2018-08-20T20:50:44.240694Z"
    },
    "colab": {
     "base_uri": "https://localhost:8080/",
     "height": 1000
    },
    "executionInfo": {
     "elapsed": 4068,
     "status": "ok",
     "timestamp": 1576024734404,
     "user": {
      "displayName": "Roberto Lotufo",
      "photoUrl": "https://lh3.googleusercontent.com/a-/AAuE7mAo8mNkCwYHBAV6lSJd0DmUs3TylYJJcHpvSYSJKg=s64",
      "userId": "00857172468435692304"
     },
     "user_tz": 180
    },
    "id": "bLttNV2dCZuz",
    "outputId": "1f70c993-7275-43d1-bb70-802bee433c1d"
   },
   "outputs": [],
   "source": [
    "g = ptviz.make_dot(y, dict(resnet18.named_parameters()))\n",
    "g"
   ]
  },
  {
   "cell_type": "markdown",
   "metadata": {
    "heading_collapsed": true,
    "id": "DnmWK8nhCZu4"
   },
   "source": [
    "# Aprendizados com este notebook"
   ]
  },
  {
   "cell_type": "code",
   "execution_count": null,
   "metadata": {
    "hidden": true,
    "id": "62nZAfUoCZu5"
   },
   "outputs": [],
   "source": []
  }
 ],
 "metadata": {
  "colab": {
   "collapsed_sections": [],
   "name": "PyTorch_Variaveis_Gradientes.ipynb",
   "provenance": [
    {
     "file_id": "https://github.com/robertoalotufo/rnap/blob/master/PyTorch/PyTorch_Variaveis_Gradientes.ipynb",
     "timestamp": 1616526734182
    }
   ],
   "toc_visible": true
  },
  "kernelspec": {
   "display_name": "Python 3",
   "language": "python",
   "name": "python3"
  },
  "language_info": {
   "codemirror_mode": {
    "name": "ipython",
    "version": 3
   },
   "file_extension": ".py",
   "mimetype": "text/x-python",
   "name": "python",
   "nbconvert_exporter": "python",
   "pygments_lexer": "ipython3",
   "version": "3.9.2"
  },
  "toc": {
   "base_numbering": 1,
   "nav_menu": {
    "height": "117px",
    "width": "252px"
   },
   "number_sections": true,
   "sideBar": true,
   "skip_h1_title": false,
   "title_cell": "Table of Contents",
   "title_sidebar": "Contents",
   "toc_cell": false,
   "toc_position": {},
   "toc_section_display": "block",
   "toc_window_display": false
  },
  "varInspector": {
   "cols": {
    "lenName": 16,
    "lenType": 16,
    "lenVar": 40
   },
   "kernels_config": {
    "python": {
     "delete_cmd_postfix": "",
     "delete_cmd_prefix": "del ",
     "library": "var_list.py",
     "varRefreshCmd": "print(var_dic_list())"
    },
    "r": {
     "delete_cmd_postfix": ") ",
     "delete_cmd_prefix": "rm(",
     "library": "var_list.r",
     "varRefreshCmd": "cat(var_dic_list()) "
    }
   },
   "types_to_exclude": [
    "module",
    "function",
    "builtin_function_or_method",
    "instance",
    "_Feature"
   ],
   "window_display": false
  }
 },
 "nbformat": 4,
 "nbformat_minor": 1
}
