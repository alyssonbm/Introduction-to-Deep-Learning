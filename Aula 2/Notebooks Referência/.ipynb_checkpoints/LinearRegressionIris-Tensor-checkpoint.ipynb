{
 "cells": [
  {
   "cell_type": "markdown",
   "metadata": {
    "id": "fZev1wET8cWh"
   },
   "source": [
    "# Exercício Regressão Linear com PyTorch (Solução)"
   ]
  },
  {
   "cell_type": "markdown",
   "metadata": {
    "ExecuteTime": {
     "end_time": "2017-11-23T20:26:31.045355Z",
     "start_time": "2017-11-23T20:26:31.038008Z"
    },
    "id": "3GYz1CHW8cWi"
   },
   "source": [
    "Este notebook é a solução do exercício do notebook:\n",
    "- [LinearRegressionIris-Tensor.ipynb](LinearRegressionIris-Tensor.ipynb)\n",
    "\n",
    "Procure fazer o exercício sem olhar a solução, apenas venha olhar após tentar\n",
    "a solução por vários minutos."
   ]
  },
  {
   "cell_type": "markdown",
   "metadata": {
    "id": "Dc_so3Eh8cWi"
   },
   "source": [
    "## Importação dos pacotes"
   ]
  },
  {
   "cell_type": "code",
   "execution_count": 15,
   "metadata": {
    "ExecuteTime": {
     "end_time": "2019-11-20T22:46:48.856390Z",
     "start_time": "2019-11-20T22:46:47.144306Z"
    },
    "executionInfo": {
     "elapsed": 4575,
     "status": "ok",
     "timestamp": 1616682197317,
     "user": {
      "displayName": "Rodrigo Frassetto Nogueira",
      "photoUrl": "https://lh3.googleusercontent.com/a-/AOh14Gg3u3pg5apXOSHpsrJ5MK3O6Ft12ftrebHDtzos=s64",
      "userId": "04931245259548677246"
     },
     "user_tz": 180
    },
    "id": "nOTDBcw58cWi"
   },
   "outputs": [],
   "source": [
    "%matplotlib inline\n",
    "import torch\n",
    "\n",
    "import matplotlib.pyplot as plt\n",
    "from sklearn.datasets import load_iris\n",
    "\n",
    "torch.manual_seed(1234)\n",
    "import numpy as np\n",
    "np.random.seed(1234)\n"
   ]
  },
  {
   "cell_type": "markdown",
   "metadata": {
    "id": "reEEkIkg8cWj"
   },
   "source": [
    "## Dataset"
   ]
  },
  {
   "cell_type": "markdown",
   "metadata": {
    "id": "v3FvZRr78cWj"
   },
   "source": [
    "### Leitura dos dados"
   ]
  },
  {
   "cell_type": "code",
   "execution_count": 16,
   "metadata": {
    "ExecuteTime": {
     "end_time": "2019-11-20T22:46:48.883309Z",
     "start_time": "2019-11-20T22:46:48.859394Z"
    },
    "colab": {
     "base_uri": "https://localhost:8080/"
    },
    "executionInfo": {
     "elapsed": 611,
     "status": "ok",
     "timestamp": 1616682226815,
     "user": {
      "displayName": "Rodrigo Frassetto Nogueira",
      "photoUrl": "https://lh3.googleusercontent.com/a-/AOh14Gg3u3pg5apXOSHpsrJ5MK3O6Ft12ftrebHDtzos=s64",
      "userId": "04931245259548677246"
     },
     "user_tz": 180
    },
    "id": "2vdLqHUg8cWj",
    "outputId": "d95f8314-92dd-4f48-fc5a-528b3e0e4fec"
   },
   "outputs": [
    {
     "name": "stdout",
     "output_type": "stream",
     "text": [
      "x_train.shape: torch.Size([50, 1]) <class 'torch.Tensor'>\n",
      "y_train.shape: torch.Size([50, 1]) <class 'torch.Tensor'>\n",
      "x_train[:5]:\n",
      " tensor([[7.0000],\n",
      "        [6.4000],\n",
      "        [6.9000],\n",
      "        [5.5000],\n",
      "        [6.5000]])\n",
      "y_train[:5]:\n",
      " tensor([[4.7000],\n",
      "        [4.5000],\n",
      "        [4.9000],\n",
      "        [4.0000],\n",
      "        [4.6000]])\n"
     ]
    }
   ],
   "source": [
    "iris = load_iris()\n",
    "data = iris.data[iris.target==1,::2]  # comprimento das sépalas e pétalas, indices 0 e 2\n",
    "\n",
    "x_train = torch.FloatTensor(data[:,0:1])\n",
    "y_train = torch.FloatTensor(data[:,1:2])\n",
    "\n",
    "n_samples = x_train.size(0)\n",
    "print('x_train.shape:',x_train.shape, type(x_train))\n",
    "print('y_train.shape:',y_train.shape, type(y_train))\n",
    "\n",
    "print('x_train[:5]:\\n', x_train[:5])\n",
    "print('y_train[:5]:\\n', y_train[:5])"
   ]
  },
  {
   "cell_type": "markdown",
   "metadata": {
    "id": "SNy-kMne8cWk"
   },
   "source": [
    "### Normalização dos dados"
   ]
  },
  {
   "cell_type": "code",
   "execution_count": 17,
   "metadata": {
    "ExecuteTime": {
     "end_time": "2019-11-20T22:46:48.903070Z",
     "start_time": "2019-11-20T22:46:48.888361Z"
    },
    "executionInfo": {
     "elapsed": 590,
     "status": "ok",
     "timestamp": 1616682284247,
     "user": {
      "displayName": "Rodrigo Frassetto Nogueira",
      "photoUrl": "https://lh3.googleusercontent.com/a-/AOh14Gg3u3pg5apXOSHpsrJ5MK3O6Ft12ftrebHDtzos=s64",
      "userId": "04931245259548677246"
     },
     "user_tz": 180
    },
    "id": "36o1CTzw8cWl"
   },
   "outputs": [],
   "source": [
    "xt_min = x_train.min()\n",
    "xt_max = x_train.max()\n",
    "x_train_n = (x_train - xt_min)/(xt_max - xt_min)\n",
    "\n",
    "yt_min = y_train.min()\n",
    "yt_max = y_train.max()\n",
    "y_train_n = (y_train - yt_min)/(yt_max - yt_min)"
   ]
  },
  {
   "cell_type": "code",
   "execution_count": 18,
   "metadata": {
    "ExecuteTime": {
     "end_time": "2019-11-20T22:46:49.246143Z",
     "start_time": "2019-11-20T22:46:48.906362Z"
    },
    "colab": {
     "base_uri": "https://localhost:8080/",
     "height": 296
    },
    "executionInfo": {
     "elapsed": 829,
     "status": "ok",
     "timestamp": 1616682287536,
     "user": {
      "displayName": "Rodrigo Frassetto Nogueira",
      "photoUrl": "https://lh3.googleusercontent.com/a-/AOh14Gg3u3pg5apXOSHpsrJ5MK3O6Ft12ftrebHDtzos=s64",
      "userId": "04931245259548677246"
     },
     "user_tz": 180
    },
    "id": "luv5J3w68cWl",
    "outputId": "0b447807-70e8-4b3b-89bb-ceebca0ac073"
   },
   "outputs": [
    {
     "data": {
      "text/plain": [
       "Text(0, 0.5, 'Comprimento petalas')"
      ]
     },
     "execution_count": 18,
     "metadata": {},
     "output_type": "execute_result"
    },
    {
     "data": {
      "image/png": "[encoded data removed]",
      "text/plain": [
       "<Figure size 432x288 with 1 Axes>"
      ]
     },
     "metadata": {
      "needs_background": "light"
     },
     "output_type": "display_data"
    }
   ],
   "source": [
    "plt.scatter(x_train_n,y_train_n)\n",
    "plt.xlabel('Comprimento sepalas')\n",
    "plt.ylabel('Comprimento petalas')"
   ]
  },
  {
   "cell_type": "markdown",
   "metadata": {
    "id": "R0r1O2hu8cWm"
   },
   "source": [
    "### Exercício 1 - criação do `x_train_bias`"
   ]
  },
  {
   "cell_type": "markdown",
   "metadata": {
    "id": "XLN31WLc8cWm"
   },
   "source": [
    "faça o `x_train_bias` ser uma matriz com zeros na primeira coluna e x_train na segunda coluna.\n",
    "\n",
    "Dica: você pode precisar da função [torch.cat](http://pytorch.org/docs/master/torch.html#torch.cat) e [torch.ones](http://pytorch.org/docs/master/torch.html#torch.ones)."
   ]
  },
  {
   "cell_type": "code",
   "execution_count": 19,
   "metadata": {
    "ExecuteTime": {
     "end_time": "2019-11-20T22:46:49.262252Z",
     "start_time": "2019-11-20T22:46:49.251529Z"
    },
    "colab": {
     "base_uri": "https://localhost:8080/"
    },
    "executionInfo": {
     "elapsed": 593,
     "status": "ok",
     "timestamp": 1616682313018,
     "user": {
      "displayName": "Rodrigo Frassetto Nogueira",
      "photoUrl": "https://lh3.googleusercontent.com/a-/AOh14Gg3u3pg5apXOSHpsrJ5MK3O6Ft12ftrebHDtzos=s64",
      "userId": "04931245259548677246"
     },
     "user_tz": 180
    },
    "id": "vt1FAhJh8cWm",
    "outputId": "451cbaad-d072-495d-fca2-962958151cbc"
   },
   "outputs": [
    {
     "name": "stdout",
     "output_type": "stream",
     "text": [
      "torch.Size([50, 2])\n"
     ]
    }
   ],
   "source": [
    "x_train_bias = torch.cat((torch.ones(n_samples, 1), x_train_n), dim=1)\n",
    "print(x_train_bias.size())"
   ]
  },
  {
   "cell_type": "markdown",
   "metadata": {
    "id": "yHdXhbmo8cWm"
   },
   "source": [
    "## Modelo da rede"
   ]
  },
  {
   "cell_type": "markdown",
   "metadata": {
    "id": "8C8HS0z68cWn"
   },
   "source": [
    "### Definição da classe"
   ]
  },
  {
   "cell_type": "code",
   "execution_count": 20,
   "metadata": {
    "ExecuteTime": {
     "end_time": "2019-11-20T22:46:49.273946Z",
     "start_time": "2019-11-20T22:46:49.265312Z"
    },
    "executionInfo": {
     "elapsed": 371,
     "status": "ok",
     "timestamp": 1616682825302,
     "user": {
      "displayName": "Rodrigo Frassetto Nogueira",
      "photoUrl": "https://lh3.googleusercontent.com/a-/AOh14Gg3u3pg5apXOSHpsrJ5MK3O6Ft12ftrebHDtzos=s64",
      "userId": "04931245259548677246"
     },
     "user_tz": 180
    },
    "id": "-pyfEmbL8cWn"
   },
   "outputs": [],
   "source": [
    "class Net():\n",
    "    def __init__(self, n_in, n_out):\n",
    "        self.w = torch.Tensor(n_out, n_in)\n",
    "        \n",
    "        self.w.uniform_(-0.1,0.1) #inicialização dos parâmetros\n",
    "\n",
    "    \n",
    "    def forward(self, x_bias):\n",
    "        return x_bias.matmul(self.w.t())\n",
    "    "
   ]
  },
  {
   "cell_type": "markdown",
   "metadata": {
    "id": "nvnX3My68cWn"
   },
   "source": [
    "### Instanciando a rede"
   ]
  },
  {
   "cell_type": "code",
   "execution_count": 21,
   "metadata": {
    "ExecuteTime": {
     "end_time": "2019-11-20T22:46:49.284830Z",
     "start_time": "2019-11-20T22:46:49.276283Z"
    },
    "colab": {
     "base_uri": "https://localhost:8080/"
    },
    "executionInfo": {
     "elapsed": 874,
     "status": "ok",
     "timestamp": 1616682826575,
     "user": {
      "displayName": "Rodrigo Frassetto Nogueira",
      "photoUrl": "https://lh3.googleusercontent.com/a-/AOh14Gg3u3pg5apXOSHpsrJ5MK3O6Ft12ftrebHDtzos=s64",
      "userId": "04931245259548677246"
     },
     "user_tz": 180
    },
    "id": "lEFbCV8L8cWn",
    "outputId": "e761757d-4755-4c8b-b0d6-cd0ea02f1ad8"
   },
   "outputs": [
    {
     "data": {
      "text/plain": [
       "tensor([[-0.0942, -0.0196]])"
      ]
     },
     "execution_count": 21,
     "metadata": {},
     "output_type": "execute_result"
    }
   ],
   "source": [
    "model = Net(2,1)\n",
    "model.w"
   ]
  },
  {
   "cell_type": "markdown",
   "metadata": {
    "id": "n1WzTLPS8cWn"
   },
   "source": [
    "### Testando o predict da rede"
   ]
  },
  {
   "cell_type": "code",
   "execution_count": 22,
   "metadata": {
    "ExecuteTime": {
     "end_time": "2019-11-20T22:46:49.306578Z",
     "start_time": "2019-11-20T22:46:49.290032Z"
    },
    "colab": {
     "base_uri": "https://localhost:8080/"
    },
    "executionInfo": {
     "elapsed": 615,
     "status": "ok",
     "timestamp": 1616682827762,
     "user": {
      "displayName": "Rodrigo Frassetto Nogueira",
      "photoUrl": "https://lh3.googleusercontent.com/a-/AOh14Gg3u3pg5apXOSHpsrJ5MK3O6Ft12ftrebHDtzos=s64",
      "userId": "04931245259548677246"
     },
     "user_tz": 180
    },
    "id": "UejhkCMs8cWo",
    "outputId": "76be7dcd-c0d7-4c62-a7df-7f729985f898"
   },
   "outputs": [
    {
     "data": {
      "text/plain": [
       "tensor([[-0.1034],\n",
       "        [ 0.0705],\n",
       "        [-0.0052],\n",
       "        [-0.0229]])"
      ]
     },
     "execution_count": 22,
     "metadata": {},
     "output_type": "execute_result"
    }
   ],
   "source": [
    "#model.forward(torch.ones((4,2)))\n",
    "model.forward(torch.randn(4,2))"
   ]
  },
  {
   "cell_type": "markdown",
   "metadata": {
    "id": "tCoQtBz68cWo"
   },
   "source": [
    "## Treinamento"
   ]
  },
  {
   "cell_type": "markdown",
   "metadata": {
    "id": "_ZGEqAVJ8cWo"
   },
   "source": [
    "### Exercício 2 - Treinamento"
   ]
  },
  {
   "cell_type": "markdown",
   "metadata": {
    "id": "WjbKAxbW8cWp"
   },
   "source": [
    "Refaça o código de treinamento da rede, mas agora utilizando somente Tensores do PyTorch. Faça o mesmo procedimento que o notebook [LinearRegressionIrisNumPy](LinearRegressionIrisNumPy.ipynb). Para consultar as operações disponíveis no PyTorch use a [documentação do PyTorch](http://pytorch.org/docs/master/torch.html).\n",
    "\n",
    "Funções que podem ser úteis:\n",
    "- torch.t\n",
    "- torch.mean\n",
    "- torch.matmul"
   ]
  },
  {
   "cell_type": "code",
   "execution_count": 23,
   "metadata": {
    "ExecuteTime": {
     "end_time": "2019-11-20T22:46:49.389400Z",
     "start_time": "2019-11-20T22:46:49.323274Z"
    },
    "colab": {
     "base_uri": "https://localhost:8080/"
    },
    "executionInfo": {
     "elapsed": 586,
     "status": "ok",
     "timestamp": 1616682830495,
     "user": {
      "displayName": "Rodrigo Frassetto Nogueira",
      "photoUrl": "https://lh3.googleusercontent.com/a-/AOh14Gg3u3pg5apXOSHpsrJ5MK3O6Ft12ftrebHDtzos=s64",
      "userId": "04931245259548677246"
     },
     "user_tz": 180
    },
    "id": "QB6hnJ928cWp",
    "outputId": "eba28635-a3e3-44ca-e5e9-28741fca9edc",
    "scrolled": false
   },
   "outputs": [
    {
     "name": "stdout",
     "output_type": "stream",
     "text": [
      "Epoch[10/1000], loss: 0.290172\n",
      "Epoch[20/1000], loss: 0.186106\n",
      "Epoch[30/1000], loss: 0.123467\n",
      "Epoch[40/1000], loss: 0.085741\n",
      "Epoch[50/1000], loss: 0.062997\n",
      "Epoch[60/1000], loss: 0.049264\n",
      "Epoch[70/1000], loss: 0.040951\n",
      "Epoch[80/1000], loss: 0.035898\n",
      "Epoch[90/1000], loss: 0.032806\n",
      "Epoch[100/1000], loss: 0.030895\n",
      "Epoch[110/1000], loss: 0.029695\n",
      "Epoch[120/1000], loss: 0.028923\n",
      "Epoch[130/1000], loss: 0.028409\n",
      "Epoch[140/1000], loss: 0.028053\n",
      "Epoch[150/1000], loss: 0.027791\n",
      "Epoch[160/1000], loss: 0.027587\n",
      "Epoch[170/1000], loss: 0.027419\n",
      "Epoch[180/1000], loss: 0.027273\n",
      "Epoch[190/1000], loss: 0.027141\n",
      "Epoch[200/1000], loss: 0.027019\n",
      "Epoch[210/1000], loss: 0.026904\n",
      "Epoch[220/1000], loss: 0.026793\n",
      "Epoch[230/1000], loss: 0.026685\n",
      "Epoch[240/1000], loss: 0.026581\n",
      "Epoch[250/1000], loss: 0.026479\n",
      "Epoch[260/1000], loss: 0.026379\n",
      "Epoch[270/1000], loss: 0.026281\n",
      "Epoch[280/1000], loss: 0.026186\n",
      "Epoch[290/1000], loss: 0.026092\n",
      "Epoch[300/1000], loss: 0.026000\n",
      "Epoch[310/1000], loss: 0.025909\n",
      "Epoch[320/1000], loss: 0.025821\n",
      "Epoch[330/1000], loss: 0.025734\n",
      "Epoch[340/1000], loss: 0.025648\n",
      "Epoch[350/1000], loss: 0.025565\n",
      "Epoch[360/1000], loss: 0.025482\n",
      "Epoch[370/1000], loss: 0.025402\n",
      "Epoch[380/1000], loss: 0.025323\n",
      "Epoch[390/1000], loss: 0.025245\n",
      "Epoch[400/1000], loss: 0.025169\n",
      "Epoch[410/1000], loss: 0.025094\n",
      "Epoch[420/1000], loss: 0.025021\n",
      "Epoch[430/1000], loss: 0.024949\n",
      "Epoch[440/1000], loss: 0.024878\n",
      "Epoch[450/1000], loss: 0.024809\n",
      "Epoch[460/1000], loss: 0.024741\n",
      "Epoch[470/1000], loss: 0.024674\n",
      "Epoch[480/1000], loss: 0.024608\n",
      "Epoch[490/1000], loss: 0.024544\n",
      "Epoch[500/1000], loss: 0.024481\n",
      "Epoch[510/1000], loss: 0.024419\n",
      "Epoch[520/1000], loss: 0.024358\n",
      "Epoch[530/1000], loss: 0.024299\n",
      "Epoch[540/1000], loss: 0.024240\n",
      "Epoch[550/1000], loss: 0.024183\n",
      "Epoch[560/1000], loss: 0.024126\n",
      "Epoch[570/1000], loss: 0.024071\n",
      "Epoch[580/1000], loss: 0.024017\n",
      "Epoch[590/1000], loss: 0.023964\n",
      "Epoch[600/1000], loss: 0.023911\n",
      "Epoch[610/1000], loss: 0.023860\n",
      "Epoch[620/1000], loss: 0.023810\n",
      "Epoch[630/1000], loss: 0.023760\n",
      "Epoch[640/1000], loss: 0.023712\n",
      "Epoch[650/1000], loss: 0.023664\n",
      "Epoch[660/1000], loss: 0.023618\n",
      "Epoch[670/1000], loss: 0.023572\n",
      "Epoch[680/1000], loss: 0.023527\n",
      "Epoch[690/1000], loss: 0.023483\n",
      "Epoch[700/1000], loss: 0.023440\n",
      "Epoch[710/1000], loss: 0.023397\n",
      "Epoch[720/1000], loss: 0.023356\n",
      "Epoch[730/1000], loss: 0.023315\n",
      "Epoch[740/1000], loss: 0.023275\n",
      "Epoch[750/1000], loss: 0.023235\n",
      "Epoch[760/1000], loss: 0.023197\n",
      "Epoch[770/1000], loss: 0.023159\n",
      "Epoch[780/1000], loss: 0.023122\n",
      "Epoch[790/1000], loss: 0.023085\n",
      "Epoch[800/1000], loss: 0.023049\n",
      "Epoch[810/1000], loss: 0.023014\n",
      "Epoch[820/1000], loss: 0.022980\n",
      "Epoch[830/1000], loss: 0.022946\n",
      "Epoch[840/1000], loss: 0.022913\n",
      "Epoch[850/1000], loss: 0.022880\n",
      "Epoch[860/1000], loss: 0.022848\n",
      "Epoch[870/1000], loss: 0.022817\n",
      "Epoch[880/1000], loss: 0.022786\n",
      "Epoch[890/1000], loss: 0.022756\n",
      "Epoch[900/1000], loss: 0.022726\n",
      "Epoch[910/1000], loss: 0.022697\n",
      "Epoch[920/1000], loss: 0.022668\n",
      "Epoch[930/1000], loss: 0.022640\n",
      "Epoch[940/1000], loss: 0.022613\n",
      "Epoch[950/1000], loss: 0.022586\n",
      "Epoch[960/1000], loss: 0.022559\n",
      "Epoch[970/1000], loss: 0.022533\n",
      "Epoch[980/1000], loss: 0.022508\n",
      "Epoch[990/1000], loss: 0.022483\n",
      "Epoch[1000/1000], loss: 0.022458\n"
     ]
    }
   ],
   "source": [
    "num_epochs = 1000\n",
    "learning_rate = 0.01\n",
    "\n",
    "model = Net(2,1)\n",
    "\n",
    "for epoch in range(num_epochs):\n",
    "    # forward - predict\n",
    "    y_pred = model.forward(x_train_bias)\n",
    "\n",
    "    #loss cálculo da função de perda\n",
    "    loss = ((y_pred - y_train_n)**2).mean()\n",
    "    \n",
    "    # cálculo do gradiente pelas derivadas parciais\n",
    "    weight_grad = (2.0/n_samples) * x_train_bias.t().matmul(x_train_bias.matmul(model.w.t()) - y_train_n)\n",
    "    #print(weight_grad)\n",
    "    # gradiente descendente\n",
    "    model.w = model.w - learning_rate * weight_grad.t()\n",
    "    \n",
    "    # verbose\n",
    "    if (epoch+1) % 10 == 0:\n",
    "        print('Epoch[{}/{}], loss: {:.6f}'\n",
    "              .format(epoch+1, num_epochs, loss))"
   ]
  },
  {
   "cell_type": "markdown",
   "metadata": {
    "id": "QfwXDHcI8cWp"
   },
   "source": [
    "## Avaliação"
   ]
  },
  {
   "cell_type": "markdown",
   "metadata": {
    "id": "leogXdyT8cWp"
   },
   "source": [
    "### Predict"
   ]
  },
  {
   "cell_type": "code",
   "execution_count": 24,
   "metadata": {
    "ExecuteTime": {
     "end_time": "2019-11-20T22:46:49.667653Z",
     "start_time": "2019-11-20T22:46:49.394321Z"
    },
    "colab": {
     "base_uri": "https://localhost:8080/",
     "height": 265
    },
    "executionInfo": {
     "elapsed": 4994,
     "status": "ok",
     "timestamp": 1616668720210,
     "user": {
      "displayName": "Rodrigo Frassetto Nogueira",
      "photoUrl": "https://lh3.googleusercontent.com/a-/AOh14Gg3u3pg5apXOSHpsrJ5MK3O6Ft12ftrebHDtzos=s64",
      "userId": "04931245259548677246"
     },
     "user_tz": 180
    },
    "id": "FVC8dFsL8cWq",
    "outputId": "2a465a6e-4e2e-4d6c-e646-86c8a8b82947"
   },
   "outputs": [
    {
     "data": {
      "image/png": "[encoded data removed]",
      "text/plain": [
       "<Figure size 432x288 with 1 Axes>"
      ]
     },
     "metadata": {
      "needs_background": "light"
     },
     "output_type": "display_data"
    }
   ],
   "source": [
    "y_pred = model.forward(x_train_bias)\n",
    "plt.plot(x_train_n, y_train_n, 'ro', label='Original data')\n",
    "plt.plot(x_train_n, y_pred, 'kx-', label='Fitting Line')\n",
    "plt.show()"
   ]
  },
  {
   "cell_type": "markdown",
   "metadata": {
    "id": "i6Z6SFts8cWq"
   },
   "source": [
    "### Parâmetro treinado"
   ]
  },
  {
   "cell_type": "code",
   "execution_count": 25,
   "metadata": {
    "ExecuteTime": {
     "end_time": "2019-11-20T22:46:49.682058Z",
     "start_time": "2019-11-20T22:46:49.670830Z"
    },
    "colab": {
     "base_uri": "https://localhost:8080/"
    },
    "executionInfo": {
     "elapsed": 4986,
     "status": "ok",
     "timestamp": 1616668720212,
     "user": {
      "displayName": "Rodrigo Frassetto Nogueira",
      "photoUrl": "https://lh3.googleusercontent.com/a-/AOh14Gg3u3pg5apXOSHpsrJ5MK3O6Ft12ftrebHDtzos=s64",
      "userId": "04931245259548677246"
     },
     "user_tz": 180
    },
    "id": "t9swCIu78cWq",
    "outputId": "7da4b9bd-3fff-46e5-d039-62fde54ec27b"
   },
   "outputs": [
    {
     "name": "stdout",
     "output_type": "stream",
     "text": [
      "tensor([[0.3373, 0.5398]])\n"
     ]
    }
   ],
   "source": [
    "print(model.w)"
   ]
  },
  {
   "cell_type": "markdown",
   "metadata": {
    "ExecuteTime": {
     "end_time": "2019-11-20T22:24:08.282942Z",
     "start_time": "2019-11-20T22:24:08.269952Z"
    },
    "id": "dP-Rf6VW8cWq"
   },
   "source": [
    "### Avaliação da perda"
   ]
  },
  {
   "cell_type": "code",
   "execution_count": 26,
   "metadata": {
    "ExecuteTime": {
     "end_time": "2019-11-20T22:46:49.698052Z",
     "start_time": "2019-11-20T22:46:49.686288Z"
    },
    "colab": {
     "base_uri": "https://localhost:8080/"
    },
    "executionInfo": {
     "elapsed": 4978,
     "status": "ok",
     "timestamp": 1616668720213,
     "user": {
      "displayName": "Rodrigo Frassetto Nogueira",
      "photoUrl": "https://lh3.googleusercontent.com/a-/AOh14Gg3u3pg5apXOSHpsrJ5MK3O6Ft12ftrebHDtzos=s64",
      "userId": "04931245259548677246"
     },
     "user_tz": 180
    },
    "id": "lsnUGIu08cWr",
    "outputId": "01fd73cf-8a59-4d53-9d34-4cf0531ce965"
   },
   "outputs": [
    {
     "data": {
      "text/plain": [
       "tensor(0.0225)"
      ]
     },
     "execution_count": 26,
     "metadata": {},
     "output_type": "execute_result"
    }
   ],
   "source": [
    "loss = ((y_pred - y_train_n)**2).mean()\n",
    "loss"
   ]
  },
  {
   "cell_type": "markdown",
   "metadata": {
    "id": "hv1S0pkS8cWr"
   },
   "source": [
    "### Valor ótimo, solução analítica"
   ]
  },
  {
   "cell_type": "code",
   "execution_count": 27,
   "metadata": {
    "ExecuteTime": {
     "end_time": "2019-11-20T22:46:49.797866Z",
     "start_time": "2019-11-20T22:46:49.720640Z"
    },
    "colab": {
     "base_uri": "https://localhost:8080/"
    },
    "executionInfo": {
     "elapsed": 4977,
     "status": "ok",
     "timestamp": 1616668720221,
     "user": {
      "displayName": "Rodrigo Frassetto Nogueira",
      "photoUrl": "https://lh3.googleusercontent.com/a-/AOh14Gg3u3pg5apXOSHpsrJ5MK3O6Ft12ftrebHDtzos=s64",
      "userId": "04931245259548677246"
     },
     "user_tz": 180
    },
    "id": "z-IQKtcX8cWr",
    "outputId": "a9fbd9c0-1174-4a61-897a-1e3801363ed0"
   },
   "outputs": [
    {
     "name": "stdout",
     "output_type": "stream",
     "text": [
      "tensor([[0.2613, 0.6865]])\n"
     ]
    }
   ],
   "source": [
    "x_bias = x_train_bias\n",
    "y = y_train_n\n",
    "w_opt = (torch.inverse(x_bias.t().mm(x_bias)).mm(x_bias.t())).mm(y)\n",
    "print(w_opt.t())"
   ]
  },
  {
   "cell_type": "markdown",
   "metadata": {
    "collapsed": true,
    "id": "lVosiueC8cWr"
   },
   "source": [
    "## Exercício"
   ]
  },
  {
   "cell_type": "markdown",
   "metadata": {
    "id": "ca236_RO8cWs"
   },
   "source": [
    "Observe que o valor final da perda não foi exatamente o mesmo que feito pelo notebook utilizando NumPy. \n",
    "Modifique este notebook para que seu resultado seja estritamente igual ao do NumPy."
   ]
  },
  {
   "cell_type": "code",
   "execution_count": null,
   "metadata": {
    "id": "SOcSY0ip8cWs"
   },
   "outputs": [],
   "source": []
  }
 ],
 "metadata": {
  "colab": {
   "name": "LinearRegressionIris-Tensor.ipynb",
   "provenance": [
    {
     "file_id": "1OPRdWZFYcPj4Xxh8tGbdEO9EDxlr2fic",
     "timestamp": 1616668393251
    }
   ]
  },
  "kernelspec": {
   "display_name": "Python 3",
   "language": "python",
   "name": "python3"
  },
  "language_info": {
   "codemirror_mode": {
    "name": "ipython",
    "version": 3
   },
   "file_extension": ".py",
   "mimetype": "text/x-python",
   "name": "python",
   "nbconvert_exporter": "python",
   "pygments_lexer": "ipython3",
   "version": "3.9.2"
  },
  "toc": {
   "base_numbering": 1,
   "nav_menu": {},
   "number_sections": true,
   "sideBar": true,
   "skip_h1_title": false,
   "title_cell": "Table of Contents",
   "title_sidebar": "Contents",
   "toc_cell": false,
   "toc_position": {},
   "toc_section_display": "block",
   "toc_window_display": false
  },
  "varInspector": {
   "cols": {
    "lenName": 16,
    "lenType": 16,
    "lenVar": 40
   },
   "kernels_config": {
    "python": {
     "delete_cmd_postfix": "",
     "delete_cmd_prefix": "del ",
     "library": "var_list.py",
     "varRefreshCmd": "print(var_dic_list())"
    },
    "r": {
     "delete_cmd_postfix": ") ",
     "delete_cmd_prefix": "rm(",
     "library": "var_list.r",
     "varRefreshCmd": "cat(var_dic_list()) "
    }
   },
   "types_to_exclude": [
    "module",
    "function",
    "builtin_function_or_method",
    "instance",
    "_Feature"
   ],
   "window_display": false
  }
 },
 "nbformat": 4,
 "nbformat_minor": 1
}
