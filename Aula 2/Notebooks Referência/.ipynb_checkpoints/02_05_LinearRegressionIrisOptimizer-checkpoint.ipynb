{
 "cells": [
  {
   "cell_type": "markdown",
   "metadata": {
    "id": "yDFSVvI7NT1U"
   },
   "source": [
    "# Regressão Linear com PyTorch"
   ]
  },
  {
   "cell_type": "markdown",
   "metadata": {
    "id": "0sDlsVeVNT1X"
   },
   "source": [
    "## Objetivos"
   ]
  },
  {
   "cell_type": "markdown",
   "metadata": {
    "id": "9sD2qXp3NT1Y"
   },
   "source": [
    "Este exemplo utiliza regressão linear para estimar o comprimento das sépalas da íris a partir do seu comprimento das pétalas.\n",
    "Utiliza-se:\n",
    "- a função de perda MSE do PyTorch, \n",
    "- treinamento dos parâmetros via gradiente descendente usando o otimizador.\n",
    "- A rede é criada com uma camada nn.Linear()"
   ]
  },
  {
   "cell_type": "markdown",
   "metadata": {
    "id": "9ppjgVtXNT1Z"
   },
   "source": [
    "## Importação dos pacotes"
   ]
  },
  {
   "cell_type": "code",
   "execution_count": 1,
   "metadata": {
    "ExecuteTime": {
     "end_time": "2018-05-21T21:57:25.181423Z",
     "start_time": "2018-05-21T21:57:23.565949Z"
    },
    "colab": {
     "base_uri": "https://localhost:8080/"
    },
    "id": "rFuEapkaNT1a",
    "outputId": "eada6e1c-ca43-4a02-e72c-39291a4fcde7"
   },
   "outputs": [
    {
     "data": {
      "text/plain": [
       "<torch._C.Generator at 0x7f5042064f90>"
      ]
     },
     "execution_count": 1,
     "metadata": {},
     "output_type": "execute_result"
    }
   ],
   "source": [
    "%matplotlib inline\n",
    "import torch\n",
    "from torch import nn, optim\n",
    "import numpy as np\n",
    "import matplotlib.pyplot as plt\n",
    "from sklearn.datasets import load_iris\n",
    "\n",
    "torch.manual_seed(1234)"
   ]
  },
  {
   "cell_type": "markdown",
   "metadata": {
    "id": "DHwXwDAANT1f"
   },
   "source": [
    "## Leitura dos dados"
   ]
  },
  {
   "cell_type": "code",
   "execution_count": 2,
   "metadata": {
    "ExecuteTime": {
     "end_time": "2018-05-21T21:57:25.208000Z",
     "start_time": "2018-05-21T21:57:25.184353Z"
    },
    "colab": {
     "base_uri": "https://localhost:8080/"
    },
    "id": "lnf_oGRpNT1g",
    "outputId": "99c025b1-fd5a-4725-d2c5-939020adcc20"
   },
   "outputs": [
    {
     "name": "stdout",
     "output_type": "stream",
     "text": [
      "x_train.shape: torch.Size([50, 1]) torch.float32\n",
      "y_train.shape: torch.Size([50, 1]) torch.float32\n",
      "x_train[:5]:\n",
      " tensor([[7.0000],\n",
      "        [6.4000],\n",
      "        [6.9000],\n",
      "        [5.5000],\n",
      "        [6.5000]])\n",
      "y_train[:5]:\n",
      " tensor([[4.7000],\n",
      "        [4.5000],\n",
      "        [4.9000],\n",
      "        [4.0000],\n",
      "        [4.6000]])\n"
     ]
    }
   ],
   "source": [
    "iris = load_iris()\n",
    "data = iris.data[iris.target==1,::2]  # comprimento das sépalas e pétalas, indices 0 e 2\n",
    "\n",
    "x_train = torch.FloatTensor(data[:,0:1])\n",
    "y_train = torch.FloatTensor(data[:,1:2])\n",
    "\n",
    "n_samples = x_train.shape[0]\n",
    "print('x_train.shape:',x_train.shape, x_train.dtype)\n",
    "print('y_train.shape:',y_train.shape, y_train.dtype)\n",
    "\n",
    "print('x_train[:5]:\\n', x_train[:5])\n",
    "print('y_train[:5]:\\n', y_train[:5])"
   ]
  },
  {
   "cell_type": "markdown",
   "metadata": {
    "id": "DE_SfPFQNT1j"
   },
   "source": [
    "### Normalização dos dados"
   ]
  },
  {
   "cell_type": "code",
   "execution_count": 3,
   "metadata": {
    "ExecuteTime": {
     "end_time": "2018-05-21T21:57:25.217876Z",
     "start_time": "2018-05-21T21:57:25.210628Z"
    },
    "id": "FvJX3DgYNT1k"
   },
   "outputs": [],
   "source": [
    "xt_min = x_train.min()\n",
    "xt_max = x_train.max()\n",
    "x_train_n = (x_train - xt_min)/(xt_max - xt_min)\n",
    "\n",
    "yt_min = y_train.min()\n",
    "yt_max = y_train.max()\n",
    "y_train_n = (y_train - yt_min)/(yt_max - yt_min)\n"
   ]
  },
  {
   "cell_type": "code",
   "execution_count": 4,
   "metadata": {
    "ExecuteTime": {
     "end_time": "2018-05-21T21:57:25.227753Z",
     "start_time": "2018-05-21T21:57:25.221365Z"
    },
    "id": "EJT_QxkJNT1m"
   },
   "outputs": [],
   "source": [
    "x_train_bias = torch.cat([torch.ones(size=(n_samples,1)), x_train_n],dim=1)"
   ]
  },
  {
   "cell_type": "code",
   "execution_count": 5,
   "metadata": {
    "ExecuteTime": {
     "end_time": "2018-05-21T21:57:25.238318Z",
     "start_time": "2018-05-21T21:57:25.230195Z"
    },
    "colab": {
     "base_uri": "https://localhost:8080/"
    },
    "id": "RCOou7BzNT1p",
    "outputId": "be993767-5f52-4f2d-a965-8a365cc96263"
   },
   "outputs": [
    {
     "data": {
      "text/plain": [
       "torch.Size([50, 2])"
      ]
     },
     "execution_count": 5,
     "metadata": {},
     "output_type": "execute_result"
    }
   ],
   "source": [
    "x_train_bias.shape"
   ]
  },
  {
   "cell_type": "markdown",
   "metadata": {
    "id": "YZ0JMp-WNT1r"
   },
   "source": [
    "## Criação do modelo da rede"
   ]
  },
  {
   "cell_type": "code",
   "execution_count": 6,
   "metadata": {
    "ExecuteTime": {
     "end_time": "2018-05-21T21:57:25.262851Z",
     "start_time": "2018-05-21T21:57:25.241172Z"
    },
    "id": "SGNipjpmNT1s"
   },
   "outputs": [],
   "source": [
    "model = torch.nn.Linear(2, 1, bias=False)"
   ]
  },
  {
   "cell_type": "markdown",
   "metadata": {
    "id": "CjQzwgWbNT1v"
   },
   "source": [
    "### Verificando a inicialização dos parâmetros"
   ]
  },
  {
   "cell_type": "code",
   "execution_count": 7,
   "metadata": {
    "ExecuteTime": {
     "end_time": "2018-05-21T21:57:25.302308Z",
     "start_time": "2018-05-21T21:57:25.272089Z"
    },
    "colab": {
     "base_uri": "https://localhost:8080/"
    },
    "id": "0E9hEtDFNT1v",
    "outputId": "9a3c929e-0f7a-4e69-a5bc-97456044bae3"
   },
   "outputs": [
    {
     "data": {
      "text/plain": [
       "tensor([[-0.6661, -0.1387]])"
      ]
     },
     "execution_count": 7,
     "metadata": {},
     "output_type": "execute_result"
    }
   ],
   "source": [
    "#model.weight.data = torch.zeros(1,2)\n",
    "#torch.nn.init.uniform(model.weight.data, -0.1, 0.1)\n",
    "model.weight.data"
   ]
  },
  {
   "cell_type": "markdown",
   "metadata": {
    "id": "7U4FWmi4NT1y"
   },
   "source": [
    "### Testando o predict da rede"
   ]
  },
  {
   "cell_type": "code",
   "execution_count": 8,
   "metadata": {
    "ExecuteTime": {
     "end_time": "2018-05-21T21:57:25.539865Z",
     "start_time": "2018-05-21T21:57:25.335554Z"
    },
    "colab": {
     "base_uri": "https://localhost:8080/"
    },
    "id": "k3IJGXc5NT1z",
    "outputId": "9d5b04ca-e31d-4359-d18e-98240cdf20df"
   },
   "outputs": [
    {
     "data": {
      "text/plain": [
       "tensor([[-0.8049],\n",
       "        [-0.8049],\n",
       "        [-0.8049],\n",
       "        [-0.8049],\n",
       "        [-0.8049]], grad_fn=<MmBackward>)"
      ]
     },
     "execution_count": 8,
     "metadata": {},
     "output_type": "execute_result"
    }
   ],
   "source": [
    "model(torch.ones((5,2)))"
   ]
  },
  {
   "cell_type": "markdown",
   "metadata": {
    "id": "NeOl_iIANT11"
   },
   "source": [
    "## Treinamento"
   ]
  },
  {
   "cell_type": "markdown",
   "metadata": {
    "id": "1weXR-zSNT12"
   },
   "source": [
    "### Definindo função de perda e otimizador"
   ]
  },
  {
   "cell_type": "code",
   "execution_count": 9,
   "metadata": {
    "ExecuteTime": {
     "end_time": "2018-05-21T21:57:25.551065Z",
     "start_time": "2018-05-21T21:57:25.543991Z"
    },
    "id": "0jXJc2eXNT12"
   },
   "outputs": [],
   "source": [
    "criterion = nn.MSELoss()\n",
    "optimizer = optim.SGD(model.parameters(), lr=0.5)"
   ]
  },
  {
   "cell_type": "code",
   "execution_count": 10,
   "metadata": {
    "colab": {
     "base_uri": "https://localhost:8080/"
    },
    "id": "vFfROEh80-Gs",
    "outputId": "f91f8474-600f-4d84-b702-d7262e699f82"
   },
   "outputs": [
    {
     "data": {
      "text/plain": [
       "[Parameter containing:\n",
       " tensor([[-0.6661, -0.1387]], requires_grad=True)]"
      ]
     },
     "execution_count": 10,
     "metadata": {},
     "output_type": "execute_result"
    }
   ],
   "source": [
    "list(model.parameters())"
   ]
  },
  {
   "cell_type": "code",
   "execution_count": 11,
   "metadata": {
    "colab": {
     "base_uri": "https://localhost:8080/"
    },
    "id": "7GHqbMci1Mj4",
    "outputId": "a3023f50-2622-41eb-b24d-5e359f1e3726"
   },
   "outputs": [
    {
     "data": {
      "text/plain": [
       "{'weight': Parameter containing:\n",
       " tensor([[-0.6661, -0.1387]], requires_grad=True)}"
      ]
     },
     "execution_count": 11,
     "metadata": {},
     "output_type": "execute_result"
    }
   ],
   "source": [
    "dict(model.named_parameters())"
   ]
  },
  {
   "cell_type": "markdown",
   "metadata": {
    "id": "ej2JXNI9NT15"
   },
   "source": [
    "### Laço de treinamento"
   ]
  },
  {
   "cell_type": "code",
   "execution_count": 12,
   "metadata": {
    "ExecuteTime": {
     "end_time": "2018-05-21T21:57:25.594648Z",
     "start_time": "2018-05-21T21:57:25.556073Z"
    },
    "colab": {
     "base_uri": "https://localhost:8080/"
    },
    "id": "EMJ-RL49NT15",
    "outputId": "a4e9bccd-8c0b-4af6-d212-55f18ddea923",
    "scrolled": false
   },
   "outputs": [
    {
     "name": "stdout",
     "output_type": "stream",
     "text": [
      "Epoch[20/100], loss: 0.021875\n",
      "Epoch[40/100], loss: 0.021272\n",
      "Epoch[60/100], loss: 0.021184\n",
      "Epoch[80/100], loss: 0.021172\n",
      "Epoch[100/100], loss: 0.021170\n"
     ]
    }
   ],
   "source": [
    "num_epochs = 100\n",
    "for epoch in range(num_epochs):\n",
    "    inputs = x_train_bias\n",
    "    target = y_train_n\n",
    "\n",
    "    # forward - predict\n",
    "    out = model(inputs)\n",
    "\n",
    "    #loss cálculo da função de perda\n",
    "    loss = criterion(out, target)\n",
    "    \n",
    "    # backward e otimizador\n",
    "    optimizer.zero_grad()\n",
    "    loss.backward()\n",
    "    optimizer.step()\n",
    "    \n",
    "    # verbose\n",
    "    if (epoch+1) % 20 == 0:\n",
    "        print('Epoch[{}/{}], loss: {:.6f}'\n",
    "              .format(epoch+1, num_epochs, loss.item()))"
   ]
  },
  {
   "cell_type": "markdown",
   "metadata": {
    "id": "qJCOXtFyNT18"
   },
   "source": [
    "## Avaliação"
   ]
  },
  {
   "cell_type": "code",
   "execution_count": 13,
   "metadata": {
    "ExecuteTime": {
     "end_time": "2018-05-21T21:57:26.193530Z",
     "start_time": "2018-05-21T21:57:25.597294Z"
    },
    "colab": {
     "base_uri": "https://localhost:8080/",
     "height": 265
    },
    "id": "-YXO1sVDNT18",
    "outputId": "2be04556-2f4e-4e00-86c4-40afae8c1861"
   },
   "outputs": [
    {
     "data": {
      "image/png": "[encoded data removed]",
      "text/plain": [
       "<Figure size 432x288 with 1 Axes>"
      ]
     },
     "metadata": {
      "needs_background": "light"
     },
     "output_type": "display_data"
    }
   ],
   "source": [
    "y_pred = model(x_train_bias)\n",
    "plt.plot(x_train_n, y_train_n,     'ro',  label='Original data')\n",
    "plt.plot(x_train_n, y_pred.data, 'kx-', label='Fitting Line')\n",
    "plt.show()"
   ]
  },
  {
   "cell_type": "markdown",
   "metadata": {
    "collapsed": true,
    "id": "zBWTwhv0NT1_"
   },
   "source": [
    "# Exercícios"
   ]
  },
  {
   "cell_type": "markdown",
   "metadata": {
    "id": "xTsZMnDkNT2A"
   },
   "source": [
    "- 1) Calcule o valor da função de custo (MSE) depois da rede treinada, utilizando a\n",
    "   função `criterion` utilizada no laço de treinamento."
   ]
  },
  {
   "cell_type": "markdown",
   "metadata": {
    "id": "DIleoEEcNT2A"
   },
   "source": [
    "- 2) Faça igual o exercício do notebook anterior, de plotar um gráfico scatterplot para\n",
    "   mostrar a evolução dos parâmetros durante o treinamento pelo gradiente descendente."
   ]
  },
  {
   "cell_type": "markdown",
   "metadata": {
    "collapsed": true,
    "id": "WWP7kc__NT2B"
   },
   "source": [
    "- 3) Procure sobrepor a função de perda neste gráfico. (exercício mais difícil)."
   ]
  },
  {
   "cell_type": "markdown",
   "metadata": {
    "id": "AzcLAaORNT2C"
   },
   "source": [
    "# Aprendizados"
   ]
  },
  {
   "cell_type": "code",
   "execution_count": null,
   "metadata": {
    "id": "9bns2ZyINT2D"
   },
   "outputs": [],
   "source": []
  }
 ],
 "metadata": {
  "colab": {
   "collapsed_sections": [],
   "name": "02_05_LinearRegressionIrisOptimizer.ipynb",
   "provenance": []
  },
  "kernelspec": {
   "display_name": "Python 3",
   "language": "python",
   "name": "python3"
  },
  "language_info": {
   "codemirror_mode": {
    "name": "ipython",
    "version": 3
   },
   "file_extension": ".py",
   "mimetype": "text/x-python",
   "name": "python",
   "nbconvert_exporter": "python",
   "pygments_lexer": "ipython3",
   "version": "3.9.2"
  },
  "toc": {
   "nav_menu": {},
   "number_sections": true,
   "sideBar": true,
   "skip_h1_title": false,
   "toc_cell": false,
   "toc_position": {},
   "toc_section_display": "block",
   "toc_window_display": false
  },
  "varInspector": {
   "cols": {
    "lenName": 16,
    "lenType": 16,
    "lenVar": 40
   },
   "kernels_config": {
    "python": {
     "delete_cmd_postfix": "",
     "delete_cmd_prefix": "del ",
     "library": "var_list.py",
     "varRefreshCmd": "print(var_dic_list())"
    },
    "r": {
     "delete_cmd_postfix": ") ",
     "delete_cmd_prefix": "rm(",
     "library": "var_list.r",
     "varRefreshCmd": "cat(var_dic_list()) "
    }
   },
   "types_to_exclude": [
    "module",
    "function",
    "builtin_function_or_method",
    "instance",
    "_Feature"
   ],
   "window_display": false
  }
 },
 "nbformat": 4,
 "nbformat_minor": 1
}
