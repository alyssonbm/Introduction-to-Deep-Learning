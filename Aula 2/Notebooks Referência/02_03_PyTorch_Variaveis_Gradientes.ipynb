{
  "nbformat": 4,
  "nbformat_minor": 0,
  "metadata": {
    "colab": {
      "name": "02_03_PyTorch_Variaveis_Gradientes.ipynb",
      "provenance": [],
      "collapsed_sections": []
    },
    "kernelspec": {
      "display_name": "Python 3",
      "language": "python",
      "name": "python3"
    },
    "language_info": {
      "codemirror_mode": {
        "name": "ipython",
        "version": 3
      },
      "file_extension": ".py",
      "mimetype": "text/x-python",
      "name": "python",
      "nbconvert_exporter": "python",
      "pygments_lexer": "ipython3",
      "version": "3.6.5"
    },
    "toc": {
      "base_numbering": 1,
      "nav_menu": {
        "height": "117px",
        "width": "252px"
      },
      "number_sections": true,
      "sideBar": true,
      "skip_h1_title": false,
      "title_cell": "Table of Contents",
      "title_sidebar": "Contents",
      "toc_cell": false,
      "toc_position": {},
      "toc_section_display": "block",
      "toc_window_display": false
    },
    "varInspector": {
      "cols": {
        "lenName": 16,
        "lenType": 16,
        "lenVar": 40
      },
      "kernels_config": {
        "python": {
          "delete_cmd_postfix": "",
          "delete_cmd_prefix": "del ",
          "library": "var_list.py",
          "varRefreshCmd": "print(var_dic_list())"
        },
        "r": {
          "delete_cmd_postfix": ") ",
          "delete_cmd_prefix": "rm(",
          "library": "var_list.r",
          "varRefreshCmd": "cat(var_dic_list()) "
        }
      },
      "types_to_exclude": [
        "module",
        "function",
        "builtin_function_or_method",
        "instance",
        "_Feature"
      ],
      "window_display": false
    }
  },
  "cells": [
    {
      "cell_type": "markdown",
      "metadata": {
        "id": "B5_ZRWRfCZtI"
      },
      "source": [
        "# PyTorch: Gradientes e Grafo Computacional"
      ]
    },
    {
      "cell_type": "markdown",
      "metadata": {
        "id": "mQcJKilSCZtO"
      },
      "source": [
        "## Objetivos"
      ]
    },
    {
      "cell_type": "markdown",
      "metadata": {
        "id": "OFWv6Mi-CZtQ"
      },
      "source": [
        "Este notebook introduz \n",
        "- o conceito de autograd do PyTorch,\n",
        "- uma interpretação numérica intuitiva do gradiente, e o\n",
        "- grafo computacional, utilizado para o cálculo automático do gradiente de uma função."
      ]
    },
    {
      "cell_type": "markdown",
      "metadata": {
        "id": "BIlQdKAuCZtR"
      },
      "source": [
        "Um dos principais fundamentos para que o PyTorch seja adequado para deep learning é a sua habilidade de\n",
        "calcular o gradiente automaticamente a partir da expressões definidas. Essa facilidade é implementada\n",
        "pelo tensor através do cálculo automático do gradiente pela construção dinâmica do grafo computacional."
      ]
    },
    {
      "cell_type": "markdown",
      "metadata": {
        "id": "ZF_-dJ2nCZtT"
      },
      "source": [
        "## Grafo computacional"
      ]
    },
    {
      "cell_type": "markdown",
      "metadata": {
        "id": "jboejVQMCZtU"
      },
      "source": [
        "```\n",
        "    y_pred = x * w\n",
        "    e = y_pred - y\n",
        "    e2 = e**2\n",
        "    J = e2.sum()\n",
        "```"
      ]
    },
    {
      "cell_type": "markdown",
      "metadata": {
        "id": "KeeEBKl4CZtV"
      },
      "source": [
        "<img src=\"https://raw.githubusercontent.com/robertoalotufo/files/master/figures/GrafoComputacional.png\" width=\"600pt\"/>"
      ]
    },
    {
      "cell_type": "markdown",
      "metadata": {
        "id": "8yZun7wrCZtX"
      },
      "source": [
        "Para conhecer com maior profundidade a diferenciação automática usando grafo computacional, veja esta nota de aula:\n",
        "http://www.cs.toronto.edu/~rgrosse/courses/csc421_2019/readings/L06%20Automatic%20Differentiation.pdf\n",
        "\n",
        "Para entender melhor o funcionamento do grafo computacional do PyTorch, recomenda-se leitura em:\n",
        "\n",
        "- https://pytorch.org/docs/stable/autograd.html\n",
        "- https://pytorch.org/docs/stable/notes/autograd.html"
      ]
    },
    {
      "cell_type": "code",
      "metadata": {
        "ExecuteTime": {
          "end_time": "2019-12-11T00:23:00.431853Z",
          "start_time": "2019-12-11T00:23:00.414813Z"
        },
        "id": "HlT2d-4fCZtZ"
      },
      "source": [
        "import torch"
      ],
      "execution_count": null,
      "outputs": []
    },
    {
      "cell_type": "code",
      "metadata": {
        "ExecuteTime": {
          "end_time": "2019-12-11T00:23:00.863228Z",
          "start_time": "2019-12-11T00:23:00.844457Z"
        },
        "colab": {
          "base_uri": "https://localhost:8080/",
          "height": 35
        },
        "id": "xX0QwUduCZtf",
        "outputId": "56ad498b-d9c6-4c78-a98c-f7358a6cafca"
      },
      "source": [
        "torch.__version__"
      ],
      "execution_count": null,
      "outputs": [
        {
          "output_type": "execute_result",
          "data": {
            "application/vnd.google.colaboratory.intrinsic+json": {
              "type": "string"
            },
            "text/plain": [
              "'1.8.1+cu101'"
            ]
          },
          "metadata": {
            "tags": []
          },
          "execution_count": 5
        }
      ]
    },
    {
      "cell_type": "markdown",
      "metadata": {
        "id": "vsqzALS4CZtl"
      },
      "source": [
        "## Se um tensor possui .requires_grad=True"
      ]
    },
    {
      "cell_type": "code",
      "metadata": {
        "ExecuteTime": {
          "end_time": "2019-09-29T03:07:22.117010Z",
          "start_time": "2019-09-29T03:07:22.041861Z"
        },
        "colab": {
          "base_uri": "https://localhost:8080/"
        },
        "id": "foaAb94aCZtm",
        "outputId": "2fb9c27d-bd77-4fd9-c8d9-422bcca4582c"
      },
      "source": [
        "y = 2 * torch.arange(0,4).float()\n",
        "y"
      ],
      "execution_count": null,
      "outputs": [
        {
          "output_type": "execute_result",
          "data": {
            "text/plain": [
              "tensor([0., 2., 4., 6.])"
            ]
          },
          "metadata": {
            "tags": []
          },
          "execution_count": 6
        }
      ]
    },
    {
      "cell_type": "code",
      "metadata": {
        "ExecuteTime": {
          "end_time": "2019-09-29T03:07:28.610934Z",
          "start_time": "2019-09-29T03:07:28.598223Z"
        },
        "colab": {
          "base_uri": "https://localhost:8080/"
        },
        "id": "no6SdSyICZtr",
        "outputId": "3db2341d-af1d-40f8-b02e-bf224901f446"
      },
      "source": [
        "x = torch.arange(0,4).float(); x"
      ],
      "execution_count": null,
      "outputs": [
        {
          "output_type": "execute_result",
          "data": {
            "text/plain": [
              "tensor([0., 1., 2., 3.])"
            ]
          },
          "metadata": {
            "tags": []
          },
          "execution_count": 7
        }
      ]
    },
    {
      "cell_type": "code",
      "metadata": {
        "ExecuteTime": {
          "end_time": "2019-09-29T03:07:31.523762Z",
          "start_time": "2019-09-29T03:07:31.497683Z"
        },
        "colab": {
          "base_uri": "https://localhost:8080/"
        },
        "id": "eL_i1mwGCZtw",
        "outputId": "e0b97263-e2a8-4d49-a2d7-e0b6ef5ee723"
      },
      "source": [
        "w = torch.ones(1,requires_grad=True); w"
      ],
      "execution_count": null,
      "outputs": [
        {
          "output_type": "execute_result",
          "data": {
            "text/plain": [
              "tensor([1.], requires_grad=True)"
            ]
          },
          "metadata": {
            "tags": []
          },
          "execution_count": 8
        }
      ]
    },
    {
      "cell_type": "markdown",
      "metadata": {
        "id": "qjEl-0l7CZt0"
      },
      "source": [
        "## Cálculo automático do gradiente da função perda J"
      ]
    },
    {
      "cell_type": "markdown",
      "metadata": {
        "id": "8pUh-SCnCZt1"
      },
      "source": [
        "Seja a expressão: $$ J = \\sum ((x  w) - y)^2 $$\n",
        "\n",
        "Queremos calcular a derivada de $J$ em relação a $w$."
      ]
    },
    {
      "cell_type": "markdown",
      "metadata": {
        "id": "eMwwVtJ1CZt2"
      },
      "source": [
        "### Montagem do grafo computacional"
      ]
    },
    {
      "cell_type": "code",
      "metadata": {
        "ExecuteTime": {
          "end_time": "2019-09-29T03:07:36.290122Z",
          "start_time": "2019-09-29T03:07:36.273229Z"
        },
        "colab": {
          "base_uri": "https://localhost:8080/"
        },
        "id": "zp2aK4YhCZt3",
        "outputId": "f41effd3-e8b3-4247-b127-ff541ea58020"
      },
      "source": [
        "# predict (forward)\n",
        "y_pred = x * w\n",
        "\n",
        "# cálculo da perda J: loss\n",
        "e = y_pred - y\n",
        "e2 = e.pow(2)\n",
        "J = e2.sum()\n",
        "J"
      ],
      "execution_count": null,
      "outputs": [
        {
          "output_type": "execute_result",
          "data": {
            "text/plain": [
              "tensor(14., grad_fn=<SumBackward0>)"
            ]
          },
          "metadata": {
            "tags": []
          },
          "execution_count": 9
        }
      ]
    },
    {
      "cell_type": "markdown",
      "metadata": {
        "id": "XC96wB7PCZt8"
      },
      "source": [
        "## Auto grad - processa o grafo computacional backwards"
      ]
    },
    {
      "cell_type": "markdown",
      "metadata": {
        "ExecuteTime": {
          "end_time": "2017-10-04T15:55:45.308858",
          "start_time": "2017-10-04T15:55:45.304654"
        },
        "id": "kKbf4D0CCZt-"
      },
      "source": [
        "O `backward()` varre o grafo computacional a partir da variável a ele associada e calcula o gradiente para todos os tensores que possuem o atributo `requires_grad` como verdadeiro.\n",
        "O `backward()` destroi o grafo após sua execução. Isso é intrínsico ao PyTorch pelo fato dele ser uma rede dinâmica."
      ]
    },
    {
      "cell_type": "code",
      "metadata": {
        "ExecuteTime": {
          "end_time": "2019-09-29T03:07:40.267334Z",
          "start_time": "2019-09-29T03:07:40.247422Z"
        },
        "colab": {
          "base_uri": "https://localhost:8080/"
        },
        "id": "Z1lnkb0GCZt_",
        "outputId": "420bcfb2-5f07-4c28-b6fa-325a0c3aeacd"
      },
      "source": [
        "J.backward()\n",
        "print(w.grad)"
      ],
      "execution_count": null,
      "outputs": [
        {
          "output_type": "stream",
          "text": [
            "tensor([-28.])\n"
          ],
          "name": "stdout"
        }
      ]
    },
    {
      "cell_type": "code",
      "metadata": {
        "ExecuteTime": {
          "end_time": "2019-09-29T03:07:42.637508Z",
          "start_time": "2019-09-29T03:07:42.627818Z"
        },
        "id": "NJWgpQbICZuD"
      },
      "source": [
        "w.grad.data.zero_();"
      ],
      "execution_count": null,
      "outputs": []
    },
    {
      "cell_type": "markdown",
      "metadata": {
        "id": "j-HTDCpBCZuH"
      },
      "source": [
        "## Interpretação do Gradiente"
      ]
    },
    {
      "cell_type": "markdown",
      "metadata": {
        "id": "aQCUPkozCZuI"
      },
      "source": [
        "O gradiente de uma variável final (J) com respeito à outra variável de entrada (w) pode ser interpretado como o quanto a variável final J vai aumentar se houver um pequeno aumento na variável de entrada (w).\n",
        "Por exemplo suponha que o gradiente seja 28. Isto significa se aumentarmos a variável w de 0.001, então J vai aumentar de 0.028."
      ]
    },
    {
      "cell_type": "code",
      "metadata": {
        "ExecuteTime": {
          "end_time": "2019-09-29T03:07:46.287734Z",
          "start_time": "2019-09-29T03:07:46.276014Z"
        },
        "colab": {
          "base_uri": "https://localhost:8080/"
        },
        "id": "VNUws23uCZuK",
        "outputId": "d0138291-7087-4e20-d494-02ae1b95f7f7"
      },
      "source": [
        "eps = 0.001\n",
        "y_pred = x * (w+eps)\n",
        "J_new = (y_pred - y).pow(2).sum()\n",
        "J_new"
      ],
      "execution_count": null,
      "outputs": [
        {
          "output_type": "execute_result",
          "data": {
            "text/plain": [
              "tensor(13.9720, grad_fn=<SumBackward0>)"
            ]
          },
          "metadata": {
            "tags": []
          },
          "execution_count": 12
        }
      ]
    },
    {
      "cell_type": "code",
      "metadata": {
        "ExecuteTime": {
          "end_time": "2019-09-29T03:07:49.279766Z",
          "start_time": "2019-09-29T03:07:49.267111Z"
        },
        "colab": {
          "base_uri": "https://localhost:8080/"
        },
        "id": "iYghg1bnCZuP",
        "outputId": "dafcb9f5-4437-4718-dc44-17889037e443"
      },
      "source": [
        "print((J_new - J).data.numpy())"
      ],
      "execution_count": null,
      "outputs": [
        {
          "output_type": "stream",
          "text": [
            "-0.027988434\n"
          ],
          "name": "stdout"
        }
      ]
    },
    {
      "cell_type": "markdown",
      "metadata": {
        "id": "Zlm30rdnCZuT"
      },
      "source": [
        "## Back propagation"
      ]
    },
    {
      "cell_type": "markdown",
      "metadata": {
        "id": "GREsFSQWCZuU"
      },
      "source": [
        "Uma forma equivalente explícita de calcular o gradiente é fazendo o processamento do backpropagation no grafo computacional, de forma explícita.\n",
        "Apenas como ilustração."
      ]
    },
    {
      "cell_type": "code",
      "metadata": {
        "ExecuteTime": {
          "end_time": "2019-09-29T03:07:52.889088Z",
          "start_time": "2019-09-29T03:07:52.861404Z"
        },
        "colab": {
          "base_uri": "https://localhost:8080/"
        },
        "id": "JYmJImp2CZuW",
        "scrolled": false,
        "outputId": "edc1d328-26f7-4b79-9b26-39ef23f1604e"
      },
      "source": [
        "import numpy as np\n",
        "\n",
        "dJ = 1.\n",
        "de2 = dJ * np.ones((4,))\n",
        "de = de2 * 2 * e.data.numpy()\n",
        "dy_pred = de\n",
        "dw = (dy_pred * x.data.numpy()).sum()\n",
        "print(dJ)\n",
        "print(de2)\n",
        "print(de)\n",
        "print(dw)\n"
      ],
      "execution_count": null,
      "outputs": [
        {
          "output_type": "stream",
          "text": [
            "1.0\n",
            "[1. 1. 1. 1.]\n",
            "[ 0. -2. -4. -6.]\n",
            "-28.0\n"
          ],
          "name": "stdout"
        }
      ]
    },
    {
      "cell_type": "markdown",
      "metadata": {
        "id": "r6-bQzqsCZuZ"
      },
      "source": [
        "## Visualizando o grafo computacional"
      ]
    },
    {
      "cell_type": "code",
      "metadata": {
        "ExecuteTime": {
          "end_time": "2019-09-29T03:07:55.440538Z",
          "start_time": "2019-09-29T03:07:55.419663Z"
        },
        "id": "pjGruWPTCZub",
        "colab": {
          "base_uri": "https://localhost:8080/"
        },
        "outputId": "74b8e657-5620-4dc2-fe09-68c9ec48e84e"
      },
      "source": [
        "!pip install torchviz\n",
        "import torchviz"
      ],
      "execution_count": null,
      "outputs": [
        {
          "output_type": "stream",
          "text": [
            "Requirement already satisfied: torchviz in /usr/local/lib/python3.7/dist-packages (0.0.2)\n",
            "Requirement already satisfied: graphviz in /usr/local/lib/python3.7/dist-packages (from torchviz) (0.10.1)\n",
            "Requirement already satisfied: torch in /usr/local/lib/python3.7/dist-packages (from torchviz) (1.8.1+cu101)\n",
            "Requirement already satisfied: typing-extensions in /usr/local/lib/python3.7/dist-packages (from torch->torchviz) (3.7.4.3)\n",
            "Requirement already satisfied: numpy in /usr/local/lib/python3.7/dist-packages (from torch->torchviz) (1.19.5)\n"
          ],
          "name": "stdout"
        }
      ]
    },
    {
      "cell_type": "code",
      "metadata": {
        "ExecuteTime": {
          "end_time": "2019-09-29T03:07:56.829863Z",
          "start_time": "2019-09-29T03:07:56.003452Z"
        },
        "colab": {
          "base_uri": "https://localhost:8080/",
          "height": 527
        },
        "id": "Lbi_GDjWCZuf",
        "outputId": "4b9171eb-fe4b-43ee-ca21-c9a257b3ee2e"
      },
      "source": [
        "J = ((w * x) - y).pow(2).sum()\n",
        "p = {'w':w} # dicionário de parâmetros\n",
        "out = torchviz.make_dot(J,params=p)\n",
        "out"
      ],
      "execution_count": null,
      "outputs": [
        {
          "output_type": "execute_result",
          "data": {
            "text/plain": [
              "<graphviz.dot.Digraph at 0x7fb5349adfd0>"
            ],
            "image/svg+xml": "<?xml version=\"1.0\" encoding=\"UTF-8\" standalone=\"no\"?>\n<!DOCTYPE svg PUBLIC \"-//W3C//DTD SVG 1.1//EN\"\n \"http://www.w3.org/Graphics/SVG/1.1/DTD/svg11.dtd\">\n<!-- Generated by graphviz version 2.40.1 (20161225.0304)\n -->\n<!-- Title: %3 Pages: 1 -->\n<svg width=\"109pt\" height=\"380pt\"\n viewBox=\"0.00 0.00 109.00 380.00\" xmlns=\"http://www.w3.org/2000/svg\" xmlns:xlink=\"http://www.w3.org/1999/xlink\">\n<g id=\"graph0\" class=\"graph\" transform=\"scale(1 1) rotate(0) translate(4 376)\">\n<title>%3</title>\n<polygon fill=\"#ffffff\" stroke=\"transparent\" points=\"-4,4 -4,-376 105,-376 105,4 -4,4\"/>\n<!-- 140416248450576 -->\n<g id=\"node1\" class=\"node\">\n<title>140416248450576</title>\n<polygon fill=\"#caff70\" stroke=\"#000000\" points=\"77.5,-31 23.5,-31 23.5,0 77.5,0 77.5,-31\"/>\n<text text-anchor=\"middle\" x=\"50.5\" y=\"-7\" font-family=\"monospace\" font-size=\"10.00\" fill=\"#000000\"> ()</text>\n</g>\n<!-- 140416248369680 -->\n<g id=\"node2\" class=\"node\">\n<title>140416248369680</title>\n<polygon fill=\"#d3d3d3\" stroke=\"#000000\" points=\"95,-86 6,-86 6,-67 95,-67 95,-86\"/>\n<text text-anchor=\"middle\" x=\"50.5\" y=\"-74\" font-family=\"monospace\" font-size=\"10.00\" fill=\"#000000\">SumBackward0</text>\n</g>\n<!-- 140416248369680&#45;&gt;140416248450576 -->\n<g id=\"edge6\" class=\"edge\">\n<title>140416248369680&#45;&gt;140416248450576</title>\n<path fill=\"none\" stroke=\"#000000\" d=\"M50.5,-66.9688C50.5,-60.1289 50.5,-50.5621 50.5,-41.5298\"/>\n<polygon fill=\"#000000\" stroke=\"#000000\" points=\"54.0001,-41.3678 50.5,-31.3678 47.0001,-41.3678 54.0001,-41.3678\"/>\n</g>\n<!-- 140416248371280 -->\n<g id=\"node3\" class=\"node\">\n<title>140416248371280</title>\n<polygon fill=\"#d3d3d3\" stroke=\"#000000\" points=\"95,-141 6,-141 6,-122 95,-122 95,-141\"/>\n<text text-anchor=\"middle\" x=\"50.5\" y=\"-129\" font-family=\"monospace\" font-size=\"10.00\" fill=\"#000000\">PowBackward0</text>\n</g>\n<!-- 140416248371280&#45;&gt;140416248369680 -->\n<g id=\"edge1\" class=\"edge\">\n<title>140416248371280&#45;&gt;140416248369680</title>\n<path fill=\"none\" stroke=\"#000000\" d=\"M50.5,-121.9197C50.5,-114.9083 50.5,-105.1442 50.5,-96.4652\"/>\n<polygon fill=\"#000000\" stroke=\"#000000\" points=\"54.0001,-96.3408 50.5,-86.3408 47.0001,-96.3409 54.0001,-96.3408\"/>\n</g>\n<!-- 140416248371536 -->\n<g id=\"node4\" class=\"node\">\n<title>140416248371536</title>\n<polygon fill=\"#d3d3d3\" stroke=\"#000000\" points=\"95,-196 6,-196 6,-177 95,-177 95,-196\"/>\n<text text-anchor=\"middle\" x=\"50.5\" y=\"-184\" font-family=\"monospace\" font-size=\"10.00\" fill=\"#000000\">SubBackward0</text>\n</g>\n<!-- 140416248371536&#45;&gt;140416248371280 -->\n<g id=\"edge2\" class=\"edge\">\n<title>140416248371536&#45;&gt;140416248371280</title>\n<path fill=\"none\" stroke=\"#000000\" d=\"M50.5,-176.9197C50.5,-169.9083 50.5,-160.1442 50.5,-151.4652\"/>\n<polygon fill=\"#000000\" stroke=\"#000000\" points=\"54.0001,-151.3408 50.5,-141.3408 47.0001,-151.3409 54.0001,-151.3408\"/>\n</g>\n<!-- 140416248370064 -->\n<g id=\"node5\" class=\"node\">\n<title>140416248370064</title>\n<polygon fill=\"#d3d3d3\" stroke=\"#000000\" points=\"95,-251 6,-251 6,-232 95,-232 95,-251\"/>\n<text text-anchor=\"middle\" x=\"50.5\" y=\"-239\" font-family=\"monospace\" font-size=\"10.00\" fill=\"#000000\">MulBackward0</text>\n</g>\n<!-- 140416248370064&#45;&gt;140416248371536 -->\n<g id=\"edge3\" class=\"edge\">\n<title>140416248370064&#45;&gt;140416248371536</title>\n<path fill=\"none\" stroke=\"#000000\" d=\"M50.5,-231.9197C50.5,-224.9083 50.5,-215.1442 50.5,-206.4652\"/>\n<polygon fill=\"#000000\" stroke=\"#000000\" points=\"54.0001,-206.3408 50.5,-196.3408 47.0001,-206.3409 54.0001,-206.3408\"/>\n</g>\n<!-- 140416248369296 -->\n<g id=\"node6\" class=\"node\">\n<title>140416248369296</title>\n<polygon fill=\"#d3d3d3\" stroke=\"#000000\" points=\"101,-306 0,-306 0,-287 101,-287 101,-306\"/>\n<text text-anchor=\"middle\" x=\"50.5\" y=\"-294\" font-family=\"monospace\" font-size=\"10.00\" fill=\"#000000\">AccumulateGrad</text>\n</g>\n<!-- 140416248369296&#45;&gt;140416248370064 -->\n<g id=\"edge4\" class=\"edge\">\n<title>140416248369296&#45;&gt;140416248370064</title>\n<path fill=\"none\" stroke=\"#000000\" d=\"M50.5,-286.9197C50.5,-279.9083 50.5,-270.1442 50.5,-261.4652\"/>\n<polygon fill=\"#000000\" stroke=\"#000000\" points=\"54.0001,-261.3408 50.5,-251.3408 47.0001,-261.3409 54.0001,-261.3408\"/>\n</g>\n<!-- 140416248621168 -->\n<g id=\"node7\" class=\"node\">\n<title>140416248621168</title>\n<polygon fill=\"#add8e6\" stroke=\"#000000\" points=\"77.5,-372 23.5,-372 23.5,-342 77.5,-342 77.5,-372\"/>\n<text text-anchor=\"middle\" x=\"50.5\" y=\"-360\" font-family=\"monospace\" font-size=\"10.00\" fill=\"#000000\">w</text>\n<text text-anchor=\"middle\" x=\"50.5\" y=\"-349\" font-family=\"monospace\" font-size=\"10.00\" fill=\"#000000\"> (1)</text>\n</g>\n<!-- 140416248621168&#45;&gt;140416248369296 -->\n<g id=\"edge5\" class=\"edge\">\n<title>140416248621168&#45;&gt;140416248369296</title>\n<path fill=\"none\" stroke=\"#000000\" d=\"M50.5,-341.7333C50.5,-334.0322 50.5,-324.5977 50.5,-316.3414\"/>\n<polygon fill=\"#000000\" stroke=\"#000000\" points=\"54.0001,-316.0864 50.5,-306.0864 47.0001,-316.0864 54.0001,-316.0864\"/>\n</g>\n</g>\n</svg>\n"
          },
          "metadata": {
            "tags": []
          },
          "execution_count": 18
        }
      ]
    },
    {
      "cell_type": "markdown",
      "metadata": {
        "collapsed": true,
        "id": "YNAx30ZLCZuj"
      },
      "source": [
        "# Exercícios"
      ]
    },
    {
      "cell_type": "markdown",
      "metadata": {
        "id": "MlXNtxkcCZul"
      },
      "source": [
        "## Questões"
      ]
    },
    {
      "cell_type": "markdown",
      "metadata": {
        "id": "iNKXUk0sCZum"
      },
      "source": [
        "1. O que acontece com o grafo computacional após execução do `backward()`?"
      ]
    },
    {
      "cell_type": "markdown",
      "metadata": {
        "id": "E6j-baKjCZuo"
      },
      "source": [
        "## Atividades"
      ]
    },
    {
      "cell_type": "markdown",
      "metadata": {
        "ExecuteTime": {
          "end_time": "2017-10-06T22:02:17.474843Z",
          "start_time": "2017-10-06T22:02:17.468865Z"
        },
        "id": "Q5Bt9WgkCZup"
      },
      "source": [
        "1. Execute um passo de atualização do valor de w, pelo \n",
        "gradiente descendente. Utilize um fator de aprendizado (*learning rate*) de 0.1 \n",
        "para atualizar o `w`. Após, recalcule a função de perda:\n",
        "\n",
        "    - w = w - lr * w.grad.data\n",
        "    - execute a célula 1.3.1 e verifique o quanto que a perda J diminuiu\n",
        "    \n",
        "2. No trecho abaixo, uma rede bastante conhecida, `resnet18` contendo 18 camadas \n",
        "   é criada, tendo\n",
        "   como entrada `xin`, resultando na saída `y`.\n",
        "   \n",
        "   Descomente a linha que cria a vizualização do grafo computacional e execute a\n",
        "   célula para visualizar o grafo computacional da rede `resnet18`:"
      ]
    },
    {
      "cell_type": "code",
      "metadata": {
        "ExecuteTime": {
          "end_time": "2018-08-20T20:50:44.237197Z",
          "start_time": "2018-08-20T20:50:42.973384Z"
        },
        "id": "EW8421kUCZur",
        "scrolled": true
      },
      "source": [
        "from torchvision import models\n",
        "xin = torch.randn(1,3,224,224)\n",
        "resnet18 = models.resnet18()\n",
        "y = resnet18(xin)"
      ],
      "execution_count": null,
      "outputs": []
    },
    {
      "cell_type": "code",
      "metadata": {
        "ExecuteTime": {
          "end_time": "2018-08-20T20:50:45.193614Z",
          "start_time": "2018-08-20T20:50:44.240694Z"
        },
        "id": "bLttNV2dCZuz"
      },
      "source": [
        "g = torchviz.make_dot(y, dict(resnet18.named_parameters()))\n",
        "g"
      ],
      "execution_count": null,
      "outputs": []
    },
    {
      "cell_type": "markdown",
      "metadata": {
        "heading_collapsed": true,
        "id": "DnmWK8nhCZu4"
      },
      "source": [
        "# Aprendizados com este notebook"
      ]
    },
    {
      "cell_type": "code",
      "metadata": {
        "hidden": true,
        "id": "62nZAfUoCZu5"
      },
      "source": [
        ""
      ],
      "execution_count": null,
      "outputs": []
    }
  ]
}