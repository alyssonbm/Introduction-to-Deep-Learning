{
  "nbformat": 4,
  "nbformat_minor": 0,
  "metadata": {
    "kernelspec": {
      "display_name": "Python 3",
      "language": "python",
      "name": "python3"
    },
    "language_info": {
      "codemirror_mode": {
        "name": "ipython",
        "version": 3
      },
      "file_extension": ".py",
      "mimetype": "text/x-python",
      "name": "python",
      "nbconvert_exporter": "python",
      "pygments_lexer": "ipython3",
      "version": "3.6.5"
    },
    "toc": {
      "nav_menu": {},
      "number_sections": true,
      "sideBar": true,
      "skip_h1_title": false,
      "toc_cell": false,
      "toc_position": {},
      "toc_section_display": "block",
      "toc_window_display": false
    },
    "varInspector": {
      "cols": {
        "lenName": 16,
        "lenType": 16,
        "lenVar": 40
      },
      "kernels_config": {
        "python": {
          "delete_cmd_postfix": "",
          "delete_cmd_prefix": "del ",
          "library": "var_list.py",
          "varRefreshCmd": "print(var_dic_list())"
        },
        "r": {
          "delete_cmd_postfix": ") ",
          "delete_cmd_prefix": "rm(",
          "library": "var_list.r",
          "varRefreshCmd": "cat(var_dic_list()) "
        }
      },
      "types_to_exclude": [
        "module",
        "function",
        "builtin_function_or_method",
        "instance",
        "_Feature"
      ],
      "window_display": false
    },
    "colab": {
      "name": "02_04_LinearRegressionIrisPyTorch.ipynb",
      "provenance": [],
      "collapsed_sections": []
    }
  },
  "cells": [
    {
      "cell_type": "markdown",
      "metadata": {
        "id": "cmVXd-RUI-pK"
      },
      "source": [
        "# Regressão Linear com PyTorch"
      ]
    },
    {
      "cell_type": "markdown",
      "metadata": {
        "id": "I44wzQ5CI-pS"
      },
      "source": [
        "## Objetivo"
      ]
    },
    {
      "cell_type": "markdown",
      "metadata": {
        "id": "4zk_xC7ZI-pi"
      },
      "source": [
        "Este exemplo utiliza regressão linear para estimar o comprimento das sépalas da íris a partir do seu comprimento das pétalas.\n",
        "Utiliza-se \n",
        "- o cálculo do gradiente automático do PyTorch, porém \n",
        "- a função de perda e \n",
        "- atualização dos parâmetros é feita de forma explícita.\n",
        "- A rede é criada com uma camada nn.Linear()"
      ]
    },
    {
      "cell_type": "markdown",
      "metadata": {
        "id": "nk9rMkGjI-po"
      },
      "source": [
        "<img src='https://raw.githubusercontent.com/robertoalotufo/files/master/figures/RegressaoLinear_Otimizacao.png' width=\"500\"></a>"
      ]
    },
    {
      "cell_type": "markdown",
      "metadata": {
        "id": "jEozHjfQI-pw"
      },
      "source": [
        "## Importação dos pacotes"
      ]
    },
    {
      "cell_type": "code",
      "metadata": {
        "ExecuteTime": {
          "end_time": "2018-08-20T20:51:25.457941Z",
          "start_time": "2018-08-20T20:51:23.444979Z"
        },
        "id": "75u5HkIlI-p3",
        "colab": {
          "base_uri": "https://localhost:8080/"
        },
        "outputId": "d42a9996-d186-4bc8-a0c3-43fc70e27c99"
      },
      "source": [
        "%matplotlib inline\n",
        "import matplotlib.pyplot as plt\n",
        "\n",
        "import numpy as np\n",
        "from sklearn.datasets import load_iris\n",
        "\n",
        "import torch\n",
        "from torch import nn, optim\n",
        "\n",
        "torch.manual_seed(1234)"
      ],
      "execution_count": null,
      "outputs": [
        {
          "output_type": "execute_result",
          "data": {
            "text/plain": [
              "<torch._C.Generator at 0x7f6b3a11e290>"
            ]
          },
          "metadata": {
            "tags": []
          },
          "execution_count": 13
        }
      ]
    },
    {
      "cell_type": "markdown",
      "metadata": {
        "id": "WMylcvwhI-qI"
      },
      "source": [
        "## Leitura dos dados"
      ]
    },
    {
      "cell_type": "code",
      "metadata": {
        "ExecuteTime": {
          "end_time": "2018-08-20T20:51:29.007002Z",
          "start_time": "2018-08-20T20:51:28.989645Z"
        },
        "id": "bl1nXJwNI-rO",
        "colab": {
          "base_uri": "https://localhost:8080/"
        },
        "outputId": "e953bbba-b32c-4cb3-88fe-94e23de4bbd4"
      },
      "source": [
        "iris = load_iris()\n",
        "data = iris.data[iris.target==1,::2]  # comprimento das sépalas e pétalas, indices 0 e 2\n",
        "\n",
        "x_train = torch.FloatTensor(data[:,0:1])\n",
        "y_train = torch.FloatTensor(data[:,1:2])\n",
        "\n",
        "n_samples = x_train.shape[0]\n",
        "print('x_train.shape:',x_train.shape, x_train.dtype)\n",
        "print('y_train.shape:',y_train.shape, y_train.dtype)\n",
        "\n",
        "print('x_train[:5]:\\n', x_train[:5])\n",
        "print('y_train[:5]:\\n', y_train[:5])"
      ],
      "execution_count": null,
      "outputs": [
        {
          "output_type": "stream",
          "text": [
            "x_train.shape: torch.Size([50, 1]) torch.float32\n",
            "y_train.shape: torch.Size([50, 1]) torch.float32\n",
            "x_train[:5]:\n",
            " tensor([[7.0000],\n",
            "        [6.4000],\n",
            "        [6.9000],\n",
            "        [5.5000],\n",
            "        [6.5000]])\n",
            "y_train[:5]:\n",
            " tensor([[4.7000],\n",
            "        [4.5000],\n",
            "        [4.9000],\n",
            "        [4.0000],\n",
            "        [4.6000]])\n"
          ],
          "name": "stdout"
        }
      ]
    },
    {
      "cell_type": "markdown",
      "metadata": {
        "id": "g1mKxtltI-rf"
      },
      "source": [
        "### Normalização dos dados"
      ]
    },
    {
      "cell_type": "code",
      "metadata": {
        "ExecuteTime": {
          "end_time": "2018-08-20T20:51:31.935485Z",
          "start_time": "2018-08-20T20:51:31.930335Z"
        },
        "id": "xaIk0VNDI-rp"
      },
      "source": [
        "xt_min = x_train.min()\n",
        "xt_max = x_train.max()\n",
        "x_train_n = (x_train - xt_min)/(xt_max - xt_min)\n",
        "\n",
        "yt_min = y_train.min()\n",
        "yt_max = y_train.max()\n",
        "y_train_n = (y_train - yt_min)/(yt_max - yt_min)\n"
      ],
      "execution_count": null,
      "outputs": []
    },
    {
      "cell_type": "code",
      "metadata": {
        "ExecuteTime": {
          "end_time": "2018-08-20T20:51:32.634995Z",
          "start_time": "2018-08-20T20:51:32.625872Z"
        },
        "id": "eTRHXZZmI-ru"
      },
      "source": [
        "x_train_bias = torch.cat([torch.ones(size=(n_samples,1)), x_train_n],dim=1)"
      ],
      "execution_count": null,
      "outputs": []
    },
    {
      "cell_type": "code",
      "metadata": {
        "ExecuteTime": {
          "end_time": "2018-08-20T20:51:33.419375Z",
          "start_time": "2018-08-20T20:51:33.401054Z"
        },
        "id": "UA--LEdcI-rz",
        "colab": {
          "base_uri": "https://localhost:8080/"
        },
        "outputId": "f0a1348f-942b-46df-ce2b-9c1d8e3ac009"
      },
      "source": [
        "x_train_bias.shape"
      ],
      "execution_count": null,
      "outputs": [
        {
          "output_type": "execute_result",
          "data": {
            "text/plain": [
              "torch.Size([50, 2])"
            ]
          },
          "metadata": {
            "tags": []
          },
          "execution_count": 17
        }
      ]
    },
    {
      "cell_type": "markdown",
      "metadata": {
        "id": "ljVMytbaI-r3"
      },
      "source": [
        "## Model"
      ]
    },
    {
      "cell_type": "markdown",
      "metadata": {
        "id": "mA7KIB6yI-r4"
      },
      "source": [
        "<img src='https://raw.githubusercontent.com/robertoalotufo/files/master/figures/RegressaoLinearNeuronio.png' width=\"400\"></a>"
      ]
    },
    {
      "cell_type": "code",
      "metadata": {
        "ExecuteTime": {
          "end_time": "2018-08-20T20:51:47.746620Z",
          "start_time": "2018-08-20T20:51:47.735132Z"
        },
        "id": "Xb81v6yQI-r4"
      },
      "source": [
        "model = torch.nn.Linear(2, 1, bias=False)"
      ],
      "execution_count": null,
      "outputs": []
    },
    {
      "cell_type": "markdown",
      "metadata": {
        "id": "zGDDRFfuI-r8"
      },
      "source": [
        "### Verificando a inicialização dos parâmetros"
      ]
    },
    {
      "cell_type": "code",
      "metadata": {
        "ExecuteTime": {
          "end_time": "2018-08-20T20:51:48.821974Z",
          "start_time": "2018-08-20T20:51:48.791253Z"
        },
        "id": "HxKcNhRNI-r9",
        "colab": {
          "base_uri": "https://localhost:8080/"
        },
        "outputId": "1be94b65-5e1b-49ce-949e-55779c966e95"
      },
      "source": [
        "#model.weight.data = torch.zeros(1,2)\n",
        "#torch.nn.init.uniform(model.weight.data, -0.1, 0.1)\n",
        "model.weight.data"
      ],
      "execution_count": null,
      "outputs": [
        {
          "output_type": "execute_result",
          "data": {
            "text/plain": [
              "tensor([[-0.6661, -0.1387]])"
            ]
          },
          "metadata": {
            "tags": []
          },
          "execution_count": 19
        }
      ]
    },
    {
      "cell_type": "markdown",
      "metadata": {
        "id": "Y1hUHU1lI-sA"
      },
      "source": [
        "### Testando o predict da rede"
      ]
    },
    {
      "cell_type": "code",
      "metadata": {
        "ExecuteTime": {
          "end_time": "2018-08-20T20:51:52.177467Z",
          "start_time": "2018-08-20T20:51:52.026603Z"
        },
        "id": "wRcEZuTgI-sB",
        "colab": {
          "base_uri": "https://localhost:8080/"
        },
        "outputId": "94052e41-189d-4637-dd3c-c98e446d3aa9"
      },
      "source": [
        "model(torch.ones((5,2)))"
      ],
      "execution_count": null,
      "outputs": [
        {
          "output_type": "execute_result",
          "data": {
            "text/plain": [
              "tensor([[-0.8049],\n",
              "        [-0.8049],\n",
              "        [-0.8049],\n",
              "        [-0.8049],\n",
              "        [-0.8049]], grad_fn=<MmBackward>)"
            ]
          },
          "metadata": {
            "tags": []
          },
          "execution_count": 20
        }
      ]
    },
    {
      "cell_type": "markdown",
      "metadata": {
        "id": "7QQVM0txI-sE"
      },
      "source": [
        "## Treinamento"
      ]
    },
    {
      "cell_type": "code",
      "metadata": {
        "ExecuteTime": {
          "end_time": "2018-08-20T20:51:54.004499Z",
          "start_time": "2018-08-20T20:51:53.973838Z"
        },
        "scrolled": false,
        "id": "gn_xbZp7I-sF",
        "colab": {
          "base_uri": "https://localhost:8080/"
        },
        "outputId": "ca2a4939-134c-4993-ccfb-9d9a1ef65a79"
      },
      "source": [
        "num_epochs = 100\n",
        "learning_rate = 0.3\n",
        "for epoch in range(num_epochs):\n",
        "    inputs = x_train_bias\n",
        "    target = y_train_n\n",
        "\n",
        "    # forward - predict\n",
        "    out = model(inputs)\n",
        "\n",
        "    #loss cálculo da função de perda\n",
        "    loss = ((out - target)**2).mean()\n",
        "    \n",
        "    # backward propagation - cálculo gradiente\n",
        "    loss.backward()\n",
        "    \n",
        "    # gradiente descendente\n",
        "    model.weight.data = model.weight.data - learning_rate * model.weight.grad.data\n",
        "    \n",
        "    # zeragem parâmetros próximo cálculo do gradiente\n",
        "    model.weight.grad.data.zero_()\n",
        "\n",
        "    # verbose\n",
        "    if (epoch) % 20 == 0:\n",
        "        print('Epoch[{}/{}], loss: {:.6f}'\n",
        "              .format(epoch+1, num_epochs, loss.item()))"
      ],
      "execution_count": null,
      "outputs": [
        {
          "output_type": "stream",
          "text": [
            "Epoch[1/100], loss: 1.842557\n",
            "Epoch[21/100], loss: 0.022574\n",
            "Epoch[41/100], loss: 0.021615\n",
            "Epoch[61/100], loss: 0.021311\n",
            "Epoch[81/100], loss: 0.021214\n"
          ],
          "name": "stdout"
        }
      ]
    },
    {
      "cell_type": "markdown",
      "metadata": {
        "id": "8Gv9xCynI-sI"
      },
      "source": [
        "## Avaliação"
      ]
    },
    {
      "cell_type": "code",
      "metadata": {
        "ExecuteTime": {
          "end_time": "2018-08-20T20:51:55.753306Z",
          "start_time": "2018-08-20T20:51:55.523947Z"
        },
        "id": "1Ffk_vsaI-sJ",
        "colab": {
          "base_uri": "https://localhost:8080/",
          "height": 265
        },
        "outputId": "512eb4b8-9414-4f63-b2d1-7a73244a01d8"
      },
      "source": [
        "y_pred = model(x_train_bias)\n",
        "plt.plot(x_train_n, y_train_n, 'ro', label='Original data')\n",
        "plt.plot(x_train_n, y_pred.data, 'kx-', label='Fitting Line')\n",
        "plt.show()"
      ],
      "execution_count": null,
      "outputs": [
        {
          "output_type": "display_data",
          "data": {
            "image/png": "[encoded data removed]",
            "text/plain": [
              "<Figure size 432x288 with 1 Axes>"
            ]
          },
          "metadata": {
            "tags": [],
            "needs_background": "light"
          }
        }
      ]
    },
    {
      "cell_type": "markdown",
      "metadata": {
        "id": "bFP2ooQtI-sN"
      },
      "source": [
        "### Acessando os parâmetros"
      ]
    },
    {
      "cell_type": "code",
      "metadata": {
        "ExecuteTime": {
          "end_time": "2018-08-20T20:52:03.278980Z",
          "start_time": "2018-08-20T20:52:03.268160Z"
        },
        "id": "Okec-eH6I-sO",
        "colab": {
          "base_uri": "https://localhost:8080/"
        },
        "outputId": "b3adaf65-38db-43d6-e5b2-1893665041b8"
      },
      "source": [
        "w_dic = model.state_dict()\n",
        "w_dic"
      ],
      "execution_count": null,
      "outputs": [
        {
          "output_type": "execute_result",
          "data": {
            "text/plain": [
              "OrderedDict([('weight', tensor([[0.2693, 0.6711]]))])"
            ]
          },
          "metadata": {
            "tags": []
          },
          "execution_count": 26
        }
      ]
    },
    {
      "cell_type": "markdown",
      "metadata": {
        "id": "rh0DQJCtI-sS"
      },
      "source": [
        "### Parâmetros ótimos, solução analítica"
      ]
    },
    {
      "cell_type": "code",
      "metadata": {
        "ExecuteTime": {
          "end_time": "2018-08-20T20:52:04.791875Z",
          "start_time": "2018-08-20T20:52:04.767620Z"
        },
        "id": "1L_-DQZ7I-sT",
        "colab": {
          "base_uri": "https://localhost:8080/"
        },
        "outputId": "2818a182-5384-45aa-f4b9-118dc81ee494"
      },
      "source": [
        "x_bias = x_train_bias\n",
        "y = y_train_n\n",
        "x_bias_t = torch.t(x_bias)\n",
        "w_opt = (torch.inverse(x_bias_t.mm(x_bias)).mm(x_bias_t)).mm(y)\n",
        "print(torch.t(w_opt))"
      ],
      "execution_count": null,
      "outputs": [
        {
          "output_type": "stream",
          "text": [
            "tensor([[0.2613, 0.6865]])\n"
          ],
          "name": "stdout"
        }
      ]
    },
    {
      "cell_type": "markdown",
      "metadata": {
        "collapsed": true,
        "id": "B6K_Ka6CI-sX"
      },
      "source": [
        "# Exercícios"
      ]
    },
    {
      "cell_type": "markdown",
      "metadata": {
        "id": "1HG06gDaI-sY"
      },
      "source": [
        "- 1) Qual é o shape de `loss`? Por que no final da varredura do laço de treinamento, a perda é impressa utilizando\n",
        "   `loss.item()`? \n",
        "   "
      ]
    },
    {
      "cell_type": "markdown",
      "metadata": {
        "id": "nX7CHw4VI-sZ"
      },
      "source": [
        "- 2) Calcule e imprima o valor da perda (MSE) fazendo o predict da rede com os pesos já\n",
        "   treinados."
      ]
    },
    {
      "cell_type": "markdown",
      "metadata": {
        "id": "8Q07VTvcI-sa"
      },
      "source": [
        "- 3) Crie uma lista de tuplas `(w0,w1)` para guardar a evolução dos valores dos\n",
        "   parâmetros durante o laço de treinamento.\n",
        "   Plote num gráfico tipo **scatter plot** para visualizar a variação \n",
        "   dos parâmetros.\n",
        "   Marque neste gráfico o valor ótimo do parâmetro dado pela solução\n",
        "   analítica."
      ]
    },
    {
      "cell_type": "markdown",
      "metadata": {
        "id": "UeFVWWX6eAbN"
      },
      "source": [
        "- 4) Reescreva o mesmo exemplo, porém agora usando o `bias=True` do `nn.Linear``"
      ]
    },
    {
      "cell_type": "markdown",
      "metadata": {
        "id": "ah_3R-cnI-se"
      },
      "source": [
        "# Aprendizados"
      ]
    },
    {
      "cell_type": "code",
      "metadata": {
        "id": "j7xO9l_fI-sf"
      },
      "source": [
        ""
      ],
      "execution_count": null,
      "outputs": []
    }
  ]
}