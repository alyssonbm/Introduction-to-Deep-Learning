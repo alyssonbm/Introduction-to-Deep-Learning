{
  "nbformat": 4,
  "nbformat_minor": 0,
  "metadata": {
    "kernelspec": {
      "display_name": "Python 3",
      "language": "python",
      "name": "python3"
    },
    "language_info": {
      "codemirror_mode": {
        "name": "ipython",
        "version": 3
      },
      "file_extension": ".py",
      "mimetype": "text/x-python",
      "name": "python",
      "nbconvert_exporter": "python",
      "pygments_lexer": "ipython3",
      "version": "3.6.5"
    },
    "toc": {
      "base_numbering": 1,
      "nav_menu": {},
      "number_sections": true,
      "sideBar": true,
      "skip_h1_title": false,
      "title_cell": "Table of Contents",
      "title_sidebar": "Contents",
      "toc_cell": false,
      "toc_position": {},
      "toc_section_display": "block",
      "toc_window_display": false
    },
    "varInspector": {
      "cols": {
        "lenName": 16,
        "lenType": 16,
        "lenVar": 40
      },
      "kernels_config": {
        "python": {
          "delete_cmd_postfix": "",
          "delete_cmd_prefix": "del ",
          "library": "var_list.py",
          "varRefreshCmd": "print(var_dic_list())"
        },
        "r": {
          "delete_cmd_postfix": ") ",
          "delete_cmd_prefix": "rm(",
          "library": "var_list.r",
          "varRefreshCmd": "cat(var_dic_list()) "
        }
      },
      "types_to_exclude": [
        "module",
        "function",
        "builtin_function_or_method",
        "instance",
        "_Feature"
      ],
      "window_display": false
    },
    "colab": {
      "name": "02_02_LinearRegressionIris-Tensor.ipynb",
      "provenance": []
    }
  },
  "cells": [
    {
      "cell_type": "markdown",
      "metadata": {
        "id": "fZev1wET8cWh"
      },
      "source": [
        "# Exercício Regressão Linear com PyTorch (Solução)"
      ]
    },
    {
      "cell_type": "markdown",
      "metadata": {
        "ExecuteTime": {
          "end_time": "2017-11-23T20:26:31.045355Z",
          "start_time": "2017-11-23T20:26:31.038008Z"
        },
        "id": "3GYz1CHW8cWi"
      },
      "source": [
        "Este notebook é a solução do exercício do notebook:\n",
        "- [LinearRegressionIris-Tensor.ipynb](LinearRegressionIris-Tensor.ipynb)\n",
        "\n",
        "Procure fazer o exercício sem olhar a solução, apenas venha olhar após tentar\n",
        "a solução por vários minutos."
      ]
    },
    {
      "cell_type": "markdown",
      "metadata": {
        "id": "Dc_so3Eh8cWi"
      },
      "source": [
        "## Importação dos pacotes"
      ]
    },
    {
      "cell_type": "code",
      "metadata": {
        "ExecuteTime": {
          "end_time": "2019-11-20T22:46:48.856390Z",
          "start_time": "2019-11-20T22:46:47.144306Z"
        },
        "id": "nOTDBcw58cWi"
      },
      "source": [
        "%matplotlib inline\n",
        "import torch\n",
        "\n",
        "import matplotlib.pyplot as plt\n",
        "from sklearn.datasets import load_iris\n",
        "\n",
        "torch.manual_seed(1234)\n",
        "import numpy as np\n",
        "np.random.seed(1234)\n"
      ],
      "execution_count": null,
      "outputs": []
    },
    {
      "cell_type": "markdown",
      "metadata": {
        "id": "reEEkIkg8cWj"
      },
      "source": [
        "## Dataset"
      ]
    },
    {
      "cell_type": "markdown",
      "metadata": {
        "id": "v3FvZRr78cWj"
      },
      "source": [
        "### Leitura dos dados"
      ]
    },
    {
      "cell_type": "code",
      "metadata": {
        "ExecuteTime": {
          "end_time": "2019-11-20T22:46:48.883309Z",
          "start_time": "2019-11-20T22:46:48.859394Z"
        },
        "id": "2vdLqHUg8cWj",
        "colab": {
          "base_uri": "https://localhost:8080/"
        },
        "outputId": "d95f8314-92dd-4f48-fc5a-528b3e0e4fec"
      },
      "source": [
        "iris = load_iris()\n",
        "data = iris.data[iris.target==1,::2]  # comprimento das sépalas e pétalas, indices 0 e 2\n",
        "\n",
        "x_train = torch.FloatTensor(data[:,0:1])\n",
        "y_train = torch.FloatTensor(data[:,1:2])\n",
        "\n",
        "n_samples = x_train.size(0)\n",
        "print('x_train.shape:',x_train.shape, type(x_train))\n",
        "print('y_train.shape:',y_train.shape, type(y_train))\n",
        "\n",
        "print('x_train[:5]:\\n', x_train[:5])\n",
        "print('y_train[:5]:\\n', y_train[:5])"
      ],
      "execution_count": null,
      "outputs": [
        {
          "output_type": "stream",
          "text": [
            "x_train.shape: torch.Size([50, 1]) <class 'torch.Tensor'>\n",
            "y_train.shape: torch.Size([50, 1]) <class 'torch.Tensor'>\n",
            "x_train[:5]:\n",
            " tensor([[7.0000],\n",
            "        [6.4000],\n",
            "        [6.9000],\n",
            "        [5.5000],\n",
            "        [6.5000]])\n",
            "y_train[:5]:\n",
            " tensor([[4.7000],\n",
            "        [4.5000],\n",
            "        [4.9000],\n",
            "        [4.0000],\n",
            "        [4.6000]])\n"
          ],
          "name": "stdout"
        }
      ]
    },
    {
      "cell_type": "markdown",
      "metadata": {
        "id": "SNy-kMne8cWk"
      },
      "source": [
        "### Normalização dos dados"
      ]
    },
    {
      "cell_type": "code",
      "metadata": {
        "ExecuteTime": {
          "end_time": "2019-11-20T22:46:48.903070Z",
          "start_time": "2019-11-20T22:46:48.888361Z"
        },
        "id": "36o1CTzw8cWl"
      },
      "source": [
        "xt_min = x_train.min()\n",
        "xt_max = x_train.max()\n",
        "x_train_n = (x_train - xt_min)/(xt_max - xt_min)\n",
        "\n",
        "yt_min = y_train.min()\n",
        "yt_max = y_train.max()\n",
        "y_train_n = (y_train - yt_min)/(yt_max - yt_min)"
      ],
      "execution_count": null,
      "outputs": []
    },
    {
      "cell_type": "code",
      "metadata": {
        "ExecuteTime": {
          "end_time": "2019-11-20T22:46:49.246143Z",
          "start_time": "2019-11-20T22:46:48.906362Z"
        },
        "id": "luv5J3w68cWl",
        "colab": {
          "base_uri": "https://localhost:8080/",
          "height": 296
        },
        "outputId": "0b447807-70e8-4b3b-89bb-ceebca0ac073"
      },
      "source": [
        "plt.scatter(x_train_n,y_train_n)\n",
        "plt.xlabel('Comprimento sepalas')\n",
        "plt.ylabel('Comprimento petalas')"
      ],
      "execution_count": null,
      "outputs": [
        {
          "output_type": "execute_result",
          "data": {
            "text/plain": [
              "Text(0, 0.5, 'Comprimento petalas')"
            ]
          },
          "metadata": {
            "tags": []
          },
          "execution_count": 5
        },
        {
          "output_type": "display_data",
          "data": {
            "image/png": "[encoded data removed]",
            "text/plain": [
              "<Figure size 432x288 with 1 Axes>"
            ]
          },
          "metadata": {
            "tags": [],
            "needs_background": "light"
          }
        }
      ]
    },
    {
      "cell_type": "markdown",
      "metadata": {
        "id": "R0r1O2hu8cWm"
      },
      "source": [
        "### Exercício 1 - criação do `x_train_bias`"
      ]
    },
    {
      "cell_type": "markdown",
      "metadata": {
        "id": "XLN31WLc8cWm"
      },
      "source": [
        "faça o `x_train_bias` ser uma matriz com zeros na primeira coluna e x_train na segunda coluna.\n",
        "\n",
        "Dica: você pode precisar da função [torch.cat](http://pytorch.org/docs/master/torch.html#torch.cat) e [torch.ones](http://pytorch.org/docs/master/torch.html#torch.ones)."
      ]
    },
    {
      "cell_type": "code",
      "metadata": {
        "ExecuteTime": {
          "end_time": "2019-11-20T22:46:49.262252Z",
          "start_time": "2019-11-20T22:46:49.251529Z"
        },
        "id": "vt1FAhJh8cWm",
        "colab": {
          "base_uri": "https://localhost:8080/"
        },
        "outputId": "451cbaad-d072-495d-fca2-962958151cbc"
      },
      "source": [
        "x_train_bias = torch.cat((torch.ones(n_samples, 1), x_train_n), dim=1)\n",
        "print(x_train_bias.size())"
      ],
      "execution_count": null,
      "outputs": [
        {
          "output_type": "stream",
          "text": [
            "torch.Size([50, 2])\n"
          ],
          "name": "stdout"
        }
      ]
    },
    {
      "cell_type": "markdown",
      "metadata": {
        "id": "yHdXhbmo8cWm"
      },
      "source": [
        "## Modelo da rede"
      ]
    },
    {
      "cell_type": "markdown",
      "metadata": {
        "id": "8C8HS0z68cWn"
      },
      "source": [
        "### Definição da classe"
      ]
    },
    {
      "cell_type": "code",
      "metadata": {
        "ExecuteTime": {
          "end_time": "2019-11-20T22:46:49.273946Z",
          "start_time": "2019-11-20T22:46:49.265312Z"
        },
        "id": "-pyfEmbL8cWn"
      },
      "source": [
        "class Net():\n",
        "    def __init__(self, n_in, n_out):\n",
        "        self.w = torch.Tensor(n_out, n_in)\n",
        "        \n",
        "        self.w.uniform_(-0.1,0.1) #inicialização dos parâmetros\n",
        "\n",
        "    \n",
        "    def forward(self, x_bias):\n",
        "        return x_bias.matmul(self.w.t())\n",
        "    "
      ],
      "execution_count": null,
      "outputs": []
    },
    {
      "cell_type": "markdown",
      "metadata": {
        "id": "nvnX3My68cWn"
      },
      "source": [
        "### Instanciando a rede"
      ]
    },
    {
      "cell_type": "code",
      "metadata": {
        "ExecuteTime": {
          "end_time": "2019-11-20T22:46:49.284830Z",
          "start_time": "2019-11-20T22:46:49.276283Z"
        },
        "id": "lEFbCV8L8cWn",
        "colab": {
          "base_uri": "https://localhost:8080/"
        },
        "outputId": "e761757d-4755-4c8b-b0d6-cd0ea02f1ad8"
      },
      "source": [
        "model = Net(2,1)\n",
        "model.w"
      ],
      "execution_count": null,
      "outputs": [
        {
          "output_type": "execute_result",
          "data": {
            "text/plain": [
              "tensor([[-0.0552,  0.0354]])"
            ]
          },
          "metadata": {
            "tags": []
          },
          "execution_count": 38
        }
      ]
    },
    {
      "cell_type": "markdown",
      "metadata": {
        "id": "n1WzTLPS8cWn"
      },
      "source": [
        "### Testando o predict da rede"
      ]
    },
    {
      "cell_type": "code",
      "metadata": {
        "ExecuteTime": {
          "end_time": "2019-11-20T22:46:49.306578Z",
          "start_time": "2019-11-20T22:46:49.290032Z"
        },
        "id": "UejhkCMs8cWo",
        "colab": {
          "base_uri": "https://localhost:8080/"
        },
        "outputId": "76be7dcd-c0d7-4c62-a7df-7f729985f898"
      },
      "source": [
        "#model.forward(torch.ones((4,2)))\n",
        "model.forward(torch.randn(4,2))"
      ],
      "execution_count": null,
      "outputs": [
        {
          "output_type": "execute_result",
          "data": {
            "text/plain": [
              "tensor([[ 0.0390],\n",
              "        [-0.0323],\n",
              "        [-0.0193],\n",
              "        [ 0.0157]])"
            ]
          },
          "metadata": {
            "tags": []
          },
          "execution_count": 39
        }
      ]
    },
    {
      "cell_type": "markdown",
      "metadata": {
        "id": "tCoQtBz68cWo"
      },
      "source": [
        "## Treinamento"
      ]
    },
    {
      "cell_type": "markdown",
      "metadata": {
        "id": "_ZGEqAVJ8cWo"
      },
      "source": [
        "### Exercício 2 - Treinamento"
      ]
    },
    {
      "cell_type": "markdown",
      "metadata": {
        "id": "WjbKAxbW8cWp"
      },
      "source": [
        "Refaça o código de treinamento da rede, mas agora utilizando somente Tensores do PyTorch. Faça o mesmo procedimento que o notebook [LinearRegressionIrisNumPy](LinearRegressionIrisNumPy.ipynb). Para consultar as operações disponíveis no PyTorch use a [documentação do PyTorch](http://pytorch.org/docs/master/torch.html).\n",
        "\n",
        "Funções que podem ser úteis:\n",
        "- torch.t\n",
        "- torch.mean\n",
        "- torch.matmul"
      ]
    },
    {
      "cell_type": "code",
      "metadata": {
        "ExecuteTime": {
          "end_time": "2019-11-20T22:46:49.389400Z",
          "start_time": "2019-11-20T22:46:49.323274Z"
        },
        "scrolled": false,
        "id": "QB6hnJ928cWp",
        "colab": {
          "base_uri": "https://localhost:8080/"
        },
        "outputId": "eba28635-a3e3-44ca-e5e9-28741fca9edc"
      },
      "source": [
        "num_epochs = 100\n",
        "learning_rate = 0.5\n",
        "\n",
        "model = Net(2,1)\n",
        "\n",
        "for epoch in range(num_epochs):\n",
        "    # forward - predict\n",
        "    y_pred = model.forward(x_train_bias)\n",
        "\n",
        "    #loss cálculo da função de perda\n",
        "    loss = ((y_pred - y_train_n)**2).mean()\n",
        "    \n",
        "    # cálculo do gradiente pelas derivadas parciais\n",
        "    weight_grad = (2.0/n_samples) * x_train_bias.t().matmul(x_train_bias.matmul(model.w.t()) - y_train_n)\n",
        "    #print(weight_grad)\n",
        "    # gradiente descendente\n",
        "    model.w = model.w - learning_rate * weight_grad.t()\n",
        "    \n",
        "    # verbose\n",
        "    if (epoch+1) % 1 == 0:\n",
        "        print('Epoch[{}/{}], loss: {:.6f}'\n",
        "              .format(epoch+1, num_epochs, loss))"
      ],
      "execution_count": null,
      "outputs": [
        {
          "output_type": "stream",
          "text": [
            "Epoch[1/100], loss: 0.383644\n",
            "Epoch[2/100], loss: 0.056820\n",
            "Epoch[3/100], loss: 0.034392\n",
            "Epoch[4/100], loss: 0.031926\n",
            "Epoch[5/100], loss: 0.030854\n",
            "Epoch[6/100], loss: 0.029956\n",
            "Epoch[7/100], loss: 0.029147\n",
            "Epoch[8/100], loss: 0.028412\n",
            "Epoch[9/100], loss: 0.027745\n",
            "Epoch[10/100], loss: 0.027139\n",
            "Epoch[11/100], loss: 0.026590\n",
            "Epoch[12/100], loss: 0.026090\n",
            "Epoch[13/100], loss: 0.025637\n",
            "Epoch[14/100], loss: 0.025226\n",
            "Epoch[15/100], loss: 0.024852\n",
            "Epoch[16/100], loss: 0.024513\n",
            "Epoch[17/100], loss: 0.024205\n",
            "Epoch[18/100], loss: 0.023925\n",
            "Epoch[19/100], loss: 0.023672\n",
            "Epoch[20/100], loss: 0.023441\n",
            "Epoch[21/100], loss: 0.023232\n",
            "Epoch[22/100], loss: 0.023042\n",
            "Epoch[23/100], loss: 0.022870\n",
            "Epoch[24/100], loss: 0.022713\n",
            "Epoch[25/100], loss: 0.022571\n",
            "Epoch[26/100], loss: 0.022442\n",
            "Epoch[27/100], loss: 0.022325\n",
            "Epoch[28/100], loss: 0.022218\n",
            "Epoch[29/100], loss: 0.022122\n",
            "Epoch[30/100], loss: 0.022034\n",
            "Epoch[31/100], loss: 0.021954\n",
            "Epoch[32/100], loss: 0.021882\n",
            "Epoch[33/100], loss: 0.021816\n",
            "Epoch[34/100], loss: 0.021757\n",
            "Epoch[35/100], loss: 0.021703\n",
            "Epoch[36/100], loss: 0.021654\n",
            "Epoch[37/100], loss: 0.021609\n",
            "Epoch[38/100], loss: 0.021569\n",
            "Epoch[39/100], loss: 0.021532\n",
            "Epoch[40/100], loss: 0.021498\n",
            "Epoch[41/100], loss: 0.021468\n",
            "Epoch[42/100], loss: 0.021441\n",
            "Epoch[43/100], loss: 0.021416\n",
            "Epoch[44/100], loss: 0.021393\n",
            "Epoch[45/100], loss: 0.021372\n",
            "Epoch[46/100], loss: 0.021354\n",
            "Epoch[47/100], loss: 0.021337\n",
            "Epoch[48/100], loss: 0.021321\n",
            "Epoch[49/100], loss: 0.021307\n",
            "Epoch[50/100], loss: 0.021295\n",
            "Epoch[51/100], loss: 0.021283\n",
            "Epoch[52/100], loss: 0.021273\n",
            "Epoch[53/100], loss: 0.021263\n",
            "Epoch[54/100], loss: 0.021254\n",
            "Epoch[55/100], loss: 0.021247\n",
            "Epoch[56/100], loss: 0.021240\n",
            "Epoch[57/100], loss: 0.021233\n",
            "Epoch[58/100], loss: 0.021227\n",
            "Epoch[59/100], loss: 0.021222\n",
            "Epoch[60/100], loss: 0.021217\n",
            "Epoch[61/100], loss: 0.021213\n",
            "Epoch[62/100], loss: 0.021209\n",
            "Epoch[63/100], loss: 0.021205\n",
            "Epoch[64/100], loss: 0.021202\n",
            "Epoch[65/100], loss: 0.021199\n",
            "Epoch[66/100], loss: 0.021196\n",
            "Epoch[67/100], loss: 0.021194\n",
            "Epoch[68/100], loss: 0.021191\n",
            "Epoch[69/100], loss: 0.021189\n",
            "Epoch[70/100], loss: 0.021188\n",
            "Epoch[71/100], loss: 0.021186\n",
            "Epoch[72/100], loss: 0.021184\n",
            "Epoch[73/100], loss: 0.021183\n",
            "Epoch[74/100], loss: 0.021182\n",
            "Epoch[75/100], loss: 0.021181\n",
            "Epoch[76/100], loss: 0.021180\n",
            "Epoch[77/100], loss: 0.021179\n",
            "Epoch[78/100], loss: 0.021178\n",
            "Epoch[79/100], loss: 0.021177\n",
            "Epoch[80/100], loss: 0.021176\n",
            "Epoch[81/100], loss: 0.021176\n",
            "Epoch[82/100], loss: 0.021175\n",
            "Epoch[83/100], loss: 0.021175\n",
            "Epoch[84/100], loss: 0.021174\n",
            "Epoch[85/100], loss: 0.021174\n",
            "Epoch[86/100], loss: 0.021173\n",
            "Epoch[87/100], loss: 0.021173\n",
            "Epoch[88/100], loss: 0.021173\n",
            "Epoch[89/100], loss: 0.021172\n",
            "Epoch[90/100], loss: 0.021172\n",
            "Epoch[91/100], loss: 0.021172\n",
            "Epoch[92/100], loss: 0.021172\n",
            "Epoch[93/100], loss: 0.021171\n",
            "Epoch[94/100], loss: 0.021171\n",
            "Epoch[95/100], loss: 0.021171\n",
            "Epoch[96/100], loss: 0.021171\n",
            "Epoch[97/100], loss: 0.021171\n",
            "Epoch[98/100], loss: 0.021171\n",
            "Epoch[99/100], loss: 0.021171\n",
            "Epoch[100/100], loss: 0.021170\n"
          ],
          "name": "stdout"
        }
      ]
    },
    {
      "cell_type": "markdown",
      "metadata": {
        "id": "QfwXDHcI8cWp"
      },
      "source": [
        "## Avaliação"
      ]
    },
    {
      "cell_type": "markdown",
      "metadata": {
        "id": "leogXdyT8cWp"
      },
      "source": [
        "### Predict"
      ]
    },
    {
      "cell_type": "code",
      "metadata": {
        "ExecuteTime": {
          "end_time": "2019-11-20T22:46:49.667653Z",
          "start_time": "2019-11-20T22:46:49.394321Z"
        },
        "id": "FVC8dFsL8cWq",
        "colab": {
          "base_uri": "https://localhost:8080/",
          "height": 265
        },
        "outputId": "2a465a6e-4e2e-4d6c-e646-86c8a8b82947"
      },
      "source": [
        "y_pred = model.forward(x_train_bias)\n",
        "plt.plot(x_train_n, y_train_n, 'ro', label='Original data')\n",
        "plt.plot(x_train_n, y_pred, 'kx-', label='Fitting Line')\n",
        "plt.show()"
      ],
      "execution_count": null,
      "outputs": [
        {
          "output_type": "display_data",
          "data": {
            "image/png": "[encoded data removed]",
            "text/plain": [
              "<Figure size 432x288 with 1 Axes>"
            ]
          },
          "metadata": {
            "tags": [],
            "needs_background": "light"
          }
        }
      ]
    },
    {
      "cell_type": "markdown",
      "metadata": {
        "id": "i6Z6SFts8cWq"
      },
      "source": [
        "### Parâmetro treinado"
      ]
    },
    {
      "cell_type": "code",
      "metadata": {
        "ExecuteTime": {
          "end_time": "2019-11-20T22:46:49.682058Z",
          "start_time": "2019-11-20T22:46:49.670830Z"
        },
        "id": "t9swCIu78cWq",
        "colab": {
          "base_uri": "https://localhost:8080/"
        },
        "outputId": "7da4b9bd-3fff-46e5-d039-62fde54ec27b"
      },
      "source": [
        "print(model.w)"
      ],
      "execution_count": null,
      "outputs": [
        {
          "output_type": "stream",
          "text": [
            "tensor([[0.2630, 0.6832]])\n"
          ],
          "name": "stdout"
        }
      ]
    },
    {
      "cell_type": "markdown",
      "metadata": {
        "ExecuteTime": {
          "end_time": "2019-11-20T22:24:08.282942Z",
          "start_time": "2019-11-20T22:24:08.269952Z"
        },
        "id": "dP-Rf6VW8cWq"
      },
      "source": [
        "### Avaliação da perda"
      ]
    },
    {
      "cell_type": "code",
      "metadata": {
        "ExecuteTime": {
          "end_time": "2019-11-20T22:46:49.698052Z",
          "start_time": "2019-11-20T22:46:49.686288Z"
        },
        "id": "lsnUGIu08cWr",
        "colab": {
          "base_uri": "https://localhost:8080/"
        },
        "outputId": "01fd73cf-8a59-4d53-9d34-4cf0531ce965"
      },
      "source": [
        "loss = ((y_pred - y_train_n)**2).mean()\n",
        "loss"
      ],
      "execution_count": null,
      "outputs": [
        {
          "output_type": "execute_result",
          "data": {
            "text/plain": [
              "tensor(0.0212)"
            ]
          },
          "metadata": {
            "tags": []
          },
          "execution_count": 12
        }
      ]
    },
    {
      "cell_type": "markdown",
      "metadata": {
        "id": "hv1S0pkS8cWr"
      },
      "source": [
        "### Valor ótimo, solução analítica"
      ]
    },
    {
      "cell_type": "code",
      "metadata": {
        "ExecuteTime": {
          "end_time": "2019-11-20T22:46:49.797866Z",
          "start_time": "2019-11-20T22:46:49.720640Z"
        },
        "id": "z-IQKtcX8cWr",
        "colab": {
          "base_uri": "https://localhost:8080/"
        },
        "outputId": "a9fbd9c0-1174-4a61-897a-1e3801363ed0"
      },
      "source": [
        "x_bias = x_train_bias\n",
        "y = y_train_n\n",
        "w_opt = (torch.inverse(x_bias.t().mm(x_bias)).mm(x_bias.t())).mm(y)\n",
        "print(w_opt.t())"
      ],
      "execution_count": null,
      "outputs": [
        {
          "output_type": "stream",
          "text": [
            "tensor([[0.2613, 0.6865]])\n"
          ],
          "name": "stdout"
        }
      ]
    },
    {
      "cell_type": "markdown",
      "metadata": {
        "collapsed": true,
        "id": "lVosiueC8cWr"
      },
      "source": [
        "## Exercício"
      ]
    },
    {
      "cell_type": "markdown",
      "metadata": {
        "id": "ca236_RO8cWs"
      },
      "source": [
        "Observe que o valor final da perda não foi exatamente o mesmo que feito pelo notebook utilizando NumPy. \n",
        "Modifique este notebook para que seu resultado seja estritamente igual ao do NumPy."
      ]
    },
    {
      "cell_type": "code",
      "metadata": {
        "id": "SOcSY0ip8cWs"
      },
      "source": [
        ""
      ],
      "execution_count": null,
      "outputs": []
    }
  ]
}