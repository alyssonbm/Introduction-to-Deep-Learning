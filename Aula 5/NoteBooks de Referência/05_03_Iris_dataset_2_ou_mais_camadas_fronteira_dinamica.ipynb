{
 "cells": [
  {
   "cell_type": "markdown",
   "metadata": {
    "id": "SrU-GnGX31u0"
   },
   "source": [
    "# Rede neural com camadas escondidas - Classificação do Iris dataset"
   ]
  },
  {
   "cell_type": "markdown",
   "metadata": {
    "id": "EyiK-OVt31u7"
   },
   "source": [
    "O objetivo desse experimento é ilustrar o uso de rede neural que tenha mais de uma camada. Isso é conseguido com a inserção de uma ativação não linear entre as camadas.\n",
    "\n",
    "Datasets utilizados:\n",
    "    - Iris - 3 classes\n",
    "    - Sintéticos:\n",
    "        - meia luas\n",
    "        - círculos circunscritos\n",
    "        - blobs"
   ]
  },
  {
   "cell_type": "markdown",
   "metadata": {
    "ExecuteTime": {
     "end_time": "2017-10-17T11:35:30.295471",
     "start_time": "2017-10-17T11:35:30.291532"
    },
    "id": "2wbqn2Xx31u8"
   },
   "source": [
    "<img src='https://raw.githubusercontent.com/robertoalotufo/rnap/6a3c99e6763a4cd520a2f1f095b9f5ccb6205710/figures/Net2RegressaoSoftmaxArgmaxRede.png?token=AATJ7BB2CW3P3QXZRK7QRUDAQWPJM' width=\"600\"></img>"
   ]
  },
  {
   "cell_type": "markdown",
   "metadata": {
    "id": "m3ipW3Od31u8"
   },
   "source": [
    "## Importando as bibliotecas"
   ]
  },
  {
   "cell_type": "code",
   "execution_count": null,
   "metadata": {
    "ExecuteTime": {
     "end_time": "2018-08-20T23:03:35.173453Z",
     "start_time": "2018-08-20T23:03:30.759818Z"
    },
    "id": "ncS00ZTA31u8"
   },
   "outputs": [],
   "source": [
    "%matplotlib inline\n",
    "from sklearn import datasets\n",
    "from IPython import display\n",
    "import numpy as np\n",
    "import matplotlib.pyplot as plt\n",
    "import pandas as pd\n",
    "\n",
    "import torch\n",
    "import torch.nn as nn"
   ]
  },
  {
   "cell_type": "markdown",
   "metadata": {
    "id": "ZPxCUAmJ31u9"
   },
   "source": [
    "## Leitura, normalização e visualização dos dados"
   ]
  },
  {
   "cell_type": "code",
   "execution_count": null,
   "metadata": {
    "ExecuteTime": {
     "end_time": "2018-08-20T23:03:42.824798Z",
     "start_time": "2018-08-20T23:03:41.913196Z"
    },
    "colab": {
     "base_uri": "https://localhost:8080/",
     "height": 279
    },
    "id": "TzhS5W4B31u9",
    "outputId": "1b2dc0e2-a1da-4a87-dab8-9a67188fbcca"
   },
   "outputs": [
    {
     "data": {
      "image/png": "[encoded data removed]",
      "text/plain": [
       "<Figure size 432x288 with 1 Axes>"
      ]
     },
     "metadata": {
      "needs_background": "light",
      "tags": []
     },
     "output_type": "display_data"
    }
   ],
   "source": [
    "n_samples = 150\n",
    "options = ['iris', 'moon', 'circles', 'blobs']\n",
    "option = options[1]\n",
    "if option is 'iris':\n",
    "    iris = datasets.load_iris()\n",
    "    X = iris.data[:,:2]  # comprimento das sépalas e pétalas, indices 0 e 2\n",
    "    Xc = X - X.min(axis=0)\n",
    "    Xc /= Xc.max(axis=0)\n",
    "    Y = iris.target\n",
    "elif option is 'moon':\n",
    "    Xc,Y = datasets.make_moons(n_samples=n_samples, noise=.15)\n",
    "elif option is 'circles':\n",
    "    Xc,Y = datasets.make_circles(n_samples=n_samples, factor=.5, noise=.1)\n",
    "elif option is 'blobs':\n",
    "    Xc,Y = datasets.make_blobs(n_samples=n_samples,centers=3,cluster_std=1.2)\n",
    "\n",
    "colors = np.array(['r','y','b'])\n",
    "plt.scatter(Xc[:, 0], Xc[:, 1], c=colors[Y])\n",
    "plt.xlabel('Sepal length')\n",
    "plt.ylabel('Sepal width')\n",
    "plt.show()"
   ]
  },
  {
   "cell_type": "markdown",
   "metadata": {
    "id": "rbwUdDEb31u-"
   },
   "source": [
    "### Prepara os dados para o PyTorch"
   ]
  },
  {
   "cell_type": "code",
   "execution_count": null,
   "metadata": {
    "ExecuteTime": {
     "end_time": "2018-08-20T23:03:46.584589Z",
     "start_time": "2018-08-20T23:03:46.559508Z"
    },
    "id": "0Movhqxr31u_"
   },
   "outputs": [],
   "source": [
    "X_tensor = torch.FloatTensor(Xc)\n",
    "Y_tensor = torch.LongTensor(Y)"
   ]
  },
  {
   "cell_type": "markdown",
   "metadata": {
    "id": "jk_WdQiJ31u_"
   },
   "source": [
    "## Construindo o modelo da rede"
   ]
  },
  {
   "cell_type": "code",
   "execution_count": null,
   "metadata": {
    "ExecuteTime": {
     "end_time": "2018-08-20T23:03:50.615748Z",
     "start_time": "2018-08-20T23:03:50.583979Z"
    },
    "colab": {
     "base_uri": "https://localhost:8080/"
    },
    "id": "eaNGyUtb31u_",
    "outputId": "43f9e5b0-c988-48f4-fc3f-baeafdee32b8"
   },
   "outputs": [
    {
     "name": "stdout",
     "output_type": "stream",
     "text": [
      "Modelo(\n",
      "  (dense): Sequential(\n",
      "    (0): Linear(in_features=2, out_features=50, bias=True)\n",
      "    (1): ReLU()\n",
      "    (2): Linear(in_features=50, out_features=50, bias=True)\n",
      "    (3): ReLU()\n",
      "    (4): Linear(in_features=50, out_features=50, bias=True)\n",
      "    (5): ReLU()\n",
      "    (6): Linear(in_features=50, out_features=3, bias=True)\n",
      "  )\n",
      ")\n"
     ]
    }
   ],
   "source": [
    "class Modelo(nn.Module):\n",
    "    def __init__(self):\n",
    "        super(Modelo, self).__init__()\n",
    "        self.dense = nn.Sequential(\n",
    "            nn.Linear(2, 50),\n",
    "            nn.ReLU(),\n",
    "            nn.Linear(50, 50),\n",
    "            nn.ReLU(),\n",
    "            nn.Linear(50, 50),\n",
    "            nn.ReLU(),\n",
    "            nn.Linear(50, 3),\n",
    "        )\n",
    "    \n",
    "    def forward(self, x):\n",
    "        x = self.dense(x)\n",
    "        \n",
    "        return x\n",
    "    \n",
    "model = Modelo()\n",
    "print(model)"
   ]
  },
  {
   "cell_type": "markdown",
   "metadata": {
    "id": "iiNIxMzi31u_"
   },
   "source": [
    "## _predict_ utilizada para predição de classes e na visualização"
   ]
  },
  {
   "cell_type": "code",
   "execution_count": null,
   "metadata": {
    "ExecuteTime": {
     "end_time": "2018-08-20T23:04:01.466899Z",
     "start_time": "2018-08-20T23:04:01.458522Z"
    },
    "id": "Fa_7rkK831vA"
   },
   "outputs": [],
   "source": [
    "def predict(model, inputs):\n",
    "    outputs = model(inputs)\n",
    "    _, predicts = torch.max(outputs, 1)\n",
    "    \n",
    "    return predicts.data.numpy()"
   ]
  },
  {
   "cell_type": "markdown",
   "metadata": {
    "id": "x9Ata2Tp31vA"
   },
   "source": [
    "## Classe para visualização dinâmica"
   ]
  },
  {
   "cell_type": "code",
   "execution_count": null,
   "metadata": {
    "ExecuteTime": {
     "end_time": "2018-08-20T23:04:20.959326Z",
     "start_time": "2018-08-20T23:04:20.938287Z"
    },
    "id": "Q9AbT9D931vA"
   },
   "outputs": [],
   "source": [
    "class BoundaryPlotter():\n",
    "    def __init__(self, model, X, Y, n_epoch, filepath=None, h = .01):\n",
    "        self.model = model\n",
    "        self.X = X\n",
    "        self.Y = Y\n",
    "        self.n_epoch = n_epoch\n",
    "        self.filepath = filepath\n",
    "        x_min, x_max = X[:, 0].min() - .5, X[:, 0].max() + .5\n",
    "        y_min, y_max = X[:, 1].min() - .5, X[:, 1].max() + .5\n",
    "        self.xx, self.yy = np.meshgrid(np.arange(x_min, x_max, h), np.arange(y_min, y_max, h))\n",
    "        self.loss_hist = []\n",
    "        self.val_loss_hist = []\n",
    "        self.X_grid = np.c_[self.xx.ravel(), self.yy.ravel()]\n",
    "        \n",
    "        #Gráficos a serem mostrados pelo callback\n",
    "        self.fig = plt.figure(figsize=(8, 4), dpi=100)\n",
    "        self.ax1 = self.fig.add_subplot(1, 2, 1)\n",
    "        self.ax1.set_xlim(0, nb_epoch)\n",
    "        self.ax1.set_xlabel('Epoca')#,fontsize=28)\n",
    "        self.ax1.set_ylabel('Perda')#,fontsize=28)\n",
    "        self.ax1.plot([],[],'b',linewidth = 2.0,label = \"Treino\")\n",
    "        self.ax1.grid(True)\n",
    "\n",
    "        self.ax2 = self.fig.add_subplot(1, 2, 2)\n",
    "        self.ax2.set_xlim(Xc[:,0].min(), Xc[:,0].max())\n",
    "        self.ax2.set_ylim(Xc[:,1].min(), Xc[:,1].max())\n",
    "        self.ax2.set_xlabel('Comprimento da Sepala')#,fontsize=28)\n",
    "        self.ax2.set_ylabel('Largura da Sepala')#,fontsize=28)\n",
    "\n",
    "    def on_train_begin(self, logs={}):\n",
    "        display.display(self.fig)\n",
    "        display.clear_output(wait=True)\n",
    "\n",
    "    def on_epoch_end(self, epoch, logs={}):\n",
    "        if 'loss' in logs.keys():\n",
    "            self.loss_hist.append(logs['loss'])\n",
    "            \n",
    "            if epoch%250==0:\n",
    "                self.ax1.plot(np.arange(epoch+1), self.loss_hist, 'b', linewidth = 2.0)\n",
    "                \n",
    "                Z = predict(self.model, torch.from_numpy(self.X_grid).type(torch.FloatTensor))\n",
    "#                 Z = torch.max(self.model(Variable(torch.FloatTensor(self.X_grid))).data, dim=1)[1].numpy()\n",
    "                Z = Z.reshape(self.xx.shape)\n",
    "                \n",
    "                self.ax2.pcolormesh(self.xx, self.yy, Z, cmap=plt.cm.Paired)\n",
    "                colors = np.array(['r','y','b'])\n",
    "                self.ax2.scatter(self.X[:, 0], self.X[:, 1], s=40, c=colors[self.Y], edgecolors='k', cmap=plt.cm.Paired)\n",
    "                \n",
    "                display.display(self.fig)\n",
    "                display.clear_output(wait=True)"
   ]
  },
  {
   "cell_type": "markdown",
   "metadata": {
    "id": "JcM0dO2G31vB"
   },
   "source": [
    "## Treinamento"
   ]
  },
  {
   "cell_type": "code",
   "execution_count": null,
   "metadata": {
    "ExecuteTime": {
     "end_time": "2018-08-20T23:04:24.713453Z",
     "start_time": "2018-08-20T23:04:24.706818Z"
    },
    "id": "Wp8tPBky31vB"
   },
   "outputs": [],
   "source": [
    "lr = 0.15\n",
    "\n",
    "optimizer = torch.optim.SGD(model.parameters(), lr=lr)\n",
    "\n",
    "criterion = nn.CrossEntropyLoss()"
   ]
  },
  {
   "cell_type": "markdown",
   "metadata": {
    "id": "0o7lgpKQ31vC"
   },
   "source": [
    "### Laço principal de treinamento"
   ]
  },
  {
   "cell_type": "code",
   "execution_count": null,
   "metadata": {
    "ExecuteTime": {
     "end_time": "2018-08-20T23:05:22.825502Z",
     "start_time": "2018-08-20T23:05:01.784146Z"
    },
    "colab": {
     "base_uri": "https://localhost:8080/",
     "height": 399
    },
    "id": "7j7K9KJY31vC",
    "outputId": "386c3935-14ce-467f-f162-bd118ac3fdcc",
    "scrolled": false
   },
   "outputs": [
    {
     "name": "stdout",
     "output_type": "stream",
     "text": [
      "Final loss: 0.010092124342918396\n"
     ]
    },
    {
     "data": {
      "image/png": "[encoded data removed]",
      "text/plain": [
       "<Figure size 800x400 with 2 Axes>"
      ]
     },
     "metadata": {
      "needs_background": "light",
      "tags": []
     },
     "output_type": "display_data"
    }
   ],
   "source": [
    "batch_size = 150\n",
    "nb_epoch = 3000\n",
    "\n",
    "#Definindo o plotter\n",
    "boundary_plot = BoundaryPlotter(model, Xc, Y, nb_epoch)\n",
    "\n",
    "boundary_plot.on_train_begin()\n",
    "losses = []\n",
    "for i in range(nb_epoch):\n",
    "    # predict da rede\n",
    "    output = model(X_tensor)\n",
    "\n",
    "    loss = criterion(output, Y_tensor)\n",
    "\n",
    "    # zero, backpropagation gradient, atualiza param gradiente descendente\n",
    "    optimizer.zero_grad()\n",
    "    loss.backward()\n",
    "    optimizer.step()\n",
    "    \n",
    "    losses.append(loss.item())\n",
    "\n",
    "    boundary_plot.on_epoch_end(i, {'loss': loss.item()})\n",
    "    \n",
    "print('Final loss:', loss.item())"
   ]
  },
  {
   "cell_type": "markdown",
   "metadata": {
    "id": "0FXCOTXc31vC"
   },
   "source": [
    "## Avaliação"
   ]
  },
  {
   "cell_type": "markdown",
   "metadata": {
    "id": "JD6xRAsa31vC"
   },
   "source": [
    "### Imprimindo pesos finais"
   ]
  },
  {
   "cell_type": "code",
   "execution_count": null,
   "metadata": {
    "ExecuteTime": {
     "end_time": "2018-08-20T23:05:24.070856Z",
     "start_time": "2018-08-20T23:05:24.061171Z"
    },
    "colab": {
     "base_uri": "https://localhost:8080/"
    },
    "id": "O2aP0-mo31vD",
    "outputId": "f44d6eb3-3401-4d78-8883-3d987711d6b0",
    "scrolled": false
   },
   "outputs": [
    {
     "name": "stdout",
     "output_type": "stream",
     "text": [
      "dense.0.weight  torch.Size([5, 2])\n",
      "dense.0.bias    torch.Size([5])\n",
      "dense.2.weight  torch.Size([3, 5])\n",
      "dense.2.bias    torch.Size([3])\n"
     ]
    }
   ],
   "source": [
    "for name, w in model.state_dict().items():\n",
    "    print('{:16}{}'.format(name, w.size()))\n",
    "    #print(w)"
   ]
  },
  {
   "cell_type": "markdown",
   "metadata": {
    "id": "sJ1lPm5131vD"
   },
   "source": [
    "### Avaliação do classificador"
   ]
  },
  {
   "cell_type": "code",
   "execution_count": null,
   "metadata": {
    "ExecuteTime": {
     "end_time": "2018-08-20T23:05:27.299478Z",
     "start_time": "2018-08-20T23:05:27.287802Z"
    },
    "colab": {
     "base_uri": "https://localhost:8080/"
    },
    "id": "j4daaKI-31vD",
    "outputId": "613f1def-6395-4a81-cfaf-1d0d9f154f25"
   },
   "outputs": [
    {
     "name": "stdout",
     "output_type": "stream",
     "text": [
      "\n",
      "Training Accuracy:  0.9933333333333333\n"
     ]
    }
   ],
   "source": [
    "Y_hat = predict(model, X_tensor)\n",
    "accuracy = (Y_hat == Y).mean()\n",
    "print() \n",
    "print('Training Accuracy: ', accuracy)"
   ]
  },
  {
   "cell_type": "markdown",
   "metadata": {
    "id": "Nxj_8eoK31vD"
   },
   "source": [
    "### Matriz de confusão"
   ]
  },
  {
   "cell_type": "code",
   "execution_count": null,
   "metadata": {
    "ExecuteTime": {
     "end_time": "2018-08-20T23:05:29.318740Z",
     "start_time": "2018-08-20T23:05:29.139582Z"
    },
    "colab": {
     "base_uri": "https://localhost:8080/",
     "height": 141
    },
    "id": "9U93Z3Oi31vD",
    "outputId": "e63c0686-b41c-410d-f962-963d04da83ba"
   },
   "outputs": [
    {
     "data": {
      "text/html": [
       "<div>\n",
       "<style scoped>\n",
       "    .dataframe tbody tr th:only-of-type {\n",
       "        vertical-align: middle;\n",
       "    }\n",
       "\n",
       "    .dataframe tbody tr th {\n",
       "        vertical-align: top;\n",
       "    }\n",
       "\n",
       "    .dataframe thead th {\n",
       "        text-align: right;\n",
       "    }\n",
       "</style>\n",
       "<table border=\"1\" class=\"dataframe\">\n",
       "  <thead>\n",
       "    <tr style=\"text-align: right;\">\n",
       "      <th>col_0</th>\n",
       "      <th>0</th>\n",
       "      <th>1</th>\n",
       "    </tr>\n",
       "    <tr>\n",
       "      <th>row_0</th>\n",
       "      <th></th>\n",
       "      <th></th>\n",
       "    </tr>\n",
       "  </thead>\n",
       "  <tbody>\n",
       "    <tr>\n",
       "      <th>0</th>\n",
       "      <td>66</td>\n",
       "      <td>10</td>\n",
       "    </tr>\n",
       "    <tr>\n",
       "      <th>1</th>\n",
       "      <td>9</td>\n",
       "      <td>65</td>\n",
       "    </tr>\n",
       "  </tbody>\n",
       "</table>\n",
       "</div>"
      ],
      "text/plain": [
       "col_0   0   1\n",
       "row_0        \n",
       "0      66  10\n",
       "1       9  65"
      ]
     },
     "execution_count": 11,
     "metadata": {
      "tags": []
     },
     "output_type": "execute_result"
    }
   ],
   "source": [
    "import pandas as pd\n",
    "pd.crosstab(Y_hat, Y)"
   ]
  },
  {
   "cell_type": "markdown",
   "metadata": {
    "id": "GX4nZIS631vE"
   },
   "source": [
    "## Atividades"
   ]
  },
  {
   "cell_type": "markdown",
   "metadata": {
    "id": "UZn4-zma31vE"
   },
   "source": [
    "### Experimentos:"
   ]
  },
  {
   "cell_type": "markdown",
   "metadata": {
    "id": "W6BFlMEC31vE"
   },
   "source": [
    "1. Troque o dataset, utilizado. Veja que tem vários para escolher.\n",
    "2. Faça alterações na rede, alterando o número de neurônios, de camadas.\n",
    "3. No lugar da ReLU, coloque Sigmoid e observe a diferença\n",
    "4. O que ocorre quando não se utiliza ativação não linear entre camadas."
   ]
  },
  {
   "cell_type": "markdown",
   "metadata": {
    "id": "IqzWLdNX31vE"
   },
   "source": [
    "## Principais aprendizados"
   ]
  }
 ],
 "metadata": {
  "colab": {
   "collapsed_sections": [],
   "name": "05_03_Iris-dataset-2-ou-mais-camadas-fronteira-dinamica.ipynb",
   "provenance": []
  },
  "kernelspec": {
   "display_name": "Python 3",
   "language": "python",
   "name": "python3"
  },
  "language_info": {
   "codemirror_mode": {
    "name": "ipython",
    "version": 3
   },
   "file_extension": ".py",
   "mimetype": "text/x-python",
   "name": "python",
   "nbconvert_exporter": "python",
   "pygments_lexer": "ipython3",
   "version": "3.9.2"
  },
  "toc": {
   "nav_menu": {
    "height": "248px",
    "width": "252px"
   },
   "number_sections": true,
   "sideBar": true,
   "skip_h1_title": false,
   "toc_cell": false,
   "toc_position": {},
   "toc_section_display": "block",
   "toc_window_display": false
  }
 },
 "nbformat": 4,
 "nbformat_minor": 1
}
