{
  "nbformat": 4,
  "nbformat_minor": 0,
  "metadata": {
    "colab": {
      "name": "Aula_5_Exercícios - Diego Alysson.ipynb",
      "provenance": [],
      "collapsed_sections": [
        "OS7fEmoPp9jW"
      ]
    },
    "kernelspec": {
      "name": "python3",
      "display_name": "Python 3"
    },
    "accelerator": "GPU"
  },
  "cells": [
    {
      "cell_type": "markdown",
      "metadata": {
        "id": "OS7fEmoPp9jW"
      },
      "source": [
        "#Estimando Preços das Casas da Califórnia com Aprendizado Multi-tarefa\n",
        "\n",
        "**Nome: **\n"
      ]
    },
    {
      "cell_type": "markdown",
      "metadata": {
        "id": "DOUsOHwD0irT"
      },
      "source": [
        "# Enunciado\n",
        "\n",
        "O Dataset que iremos trabalhar contém o preço mediano das casas de quarteirões na California.\n",
        "Iremos usar uma rede neural para predizer esses preços, dado como entrada features como número total de salas, quartos e moradores nas casas do quarteirão.\n",
        "\n",
        "O modelo será treinado com duas funções de perda, uma para um classificador binário e outra para um regressor.\n",
        "Em tempo de inferência, o classificador binário primeiramente prediz se o valor da casa é maior que 500 mil.\n",
        "- Se sim, a predição final será 500 mil.\n",
        "- Se não, a predição final será a predita pelo regressor.\n",
        "\n",
        "[Mean Absolute Error (MAE)](https://en.wikipedia.org/wiki/Mean_absolute_error) será a métrica oficial.\n",
        "\n",
        "O Exercicio com menor MAE será o ganhador de 0.5 ponto na nota final.\n",
        "\n",
        "\n",
        "# Dicas:\n",
        "\n",
        "1. Recomenda-se normalizar os dados de entrada e saída.\n",
        "1. Não se deve usar os exemplos de validação ou teste para cálculo do valores de normalização (min, max, média, std, etc).\n",
        "1. Lembre de desnormalizar os preços de saída na hora de calcular as métricas.\n",
        "1. Recomenda-se usar como loss a entropia cruzada para o classificador binário e a MSE para o regressor.\n",
        "1. Recomenda-se usar uma combinação (soma ponderada) da loss do classificador com a loss do regressor.\n",
        "1. A loss do regressor só deve ser aplicada nos exemplos cujo target é menor que 500 mil dolares.\n",
        "1. Pode-se usar a sigmoid + entropia cruzada para fazer o regressor. Isso só funciona se os targets (preços) estiverem normalizados entre 0 e 1. Neste caso, pode-se usar BCE loss do pytorch: https://pytorch.org/docs/stable/generated/torch.nn.BCELoss.html#torch.nn.BCELoss\n",
        "\n",
        "\n",
        "# Extras\n",
        "- Dataset descrito no google ML crash course:\n",
        "  - https://developers.google.com/machine-learning/crash-course/california-housing-data-description\n",
        "- Dataset via Scikit-learn:\n",
        "  - https://scikit-learn.org/stable/auto_examples/inspection/plot_partial_dependence.html#sphx-glr-auto-examples-inspection-plot-partial-dependence-py\n",
        "- Dataset via Pratap (possui post Medium):\n",
        "  - https://github.com/gurupratap-matharu/machine-learning-regression"
      ]
    },
    {
      "cell_type": "markdown",
      "metadata": {
        "id": "ZnLtgkmhr0y0"
      },
      "source": [
        "## 1. Importação de pacotes\n",
        "\n",
        "Procure deixar aqui apenas os pacotes que de fato são utilizados no notebook. Evite utilizar importações no estilo de importar tudo com uso de asterisco."
      ]
    },
    {
      "cell_type": "code",
      "metadata": {
        "id": "fnVNoVcupwKG"
      },
      "source": [
        "import numpy as np\n",
        "import torch\n",
        "import torch.nn.functional as F\n",
        "import pandas as pd\n",
        "import matplotlib.pyplot as plt\n",
        "\n",
        "from sklearn.metrics import r2_score\n",
        "from sklearn import metrics\n",
        "\n",
        "from torch.utils.data import TensorDataset, DataLoader, Dataset\n",
        "from sklearn.metrics import mean_absolute_error"
      ],
      "execution_count": 5,
      "outputs": []
    },
    {
      "cell_type": "code",
      "metadata": {
        "id": "RnTNcIVdoOlR",
        "colab": {
          "base_uri": "https://localhost:8080/"
        },
        "outputId": "84396d46-2e46-4f0e-da33-5677abf8dda7"
      },
      "source": [
        "torch.manual_seed(1)"
      ],
      "execution_count": 6,
      "outputs": [
        {
          "output_type": "execute_result",
          "data": {
            "text/plain": [
              "<torch._C.Generator at 0x7fac6fe13930>"
            ]
          },
          "metadata": {
            "tags": []
          },
          "execution_count": 6
        }
      ]
    },
    {
      "cell_type": "code",
      "metadata": {
        "colab": {
          "base_uri": "https://localhost:8080/"
        },
        "id": "RBUnqWk7AGCA",
        "outputId": "efad4d85-19c1-4ca8-8534-163cbcac0d6b"
      },
      "source": [
        "!pip install neptune-client==0.9.1"
      ],
      "execution_count": 7,
      "outputs": [
        {
          "output_type": "stream",
          "text": [
            "Collecting neptune-client==0.9.1\n",
            "  Using cached https://files.pythonhosted.org/packages/b6/25/757d8828a31dba3e684ac2bbc29b5fee54ec1d5961333c5ba18fb5dcf67f/neptune-client-0.9.1.tar.gz\n",
            "Collecting bravado\n",
            "  Using cached https://files.pythonhosted.org/packages/21/ed/03b0c36b5bcafbe2938ed222f9a164a6c0367ce99a9d2d502e462853571d/bravado-11.0.3-py2.py3-none-any.whl\n",
            "Requirement already satisfied: click>=7.0 in /usr/local/lib/python3.7/dist-packages (from neptune-client==0.9.1) (7.1.2)\n",
            "Collecting future>=0.17.1\n",
            "  Using cached https://files.pythonhosted.org/packages/45/0b/38b06fd9b92dc2b68d58b75f900e97884c45bedd2ff83203d933cf5851c9/future-0.18.2.tar.gz\n",
            "Requirement already satisfied: oauthlib>=2.1.0 in /usr/local/lib/python3.7/dist-packages (from neptune-client==0.9.1) (3.1.0)\n",
            "Requirement already satisfied: pandas in /usr/local/lib/python3.7/dist-packages (from neptune-client==0.9.1) (1.1.5)\n",
            "Requirement already satisfied: Pillow>=1.1.6 in /usr/local/lib/python3.7/dist-packages (from neptune-client==0.9.1) (7.1.2)\n",
            "Collecting PyJWT\n",
            "  Using cached https://files.pythonhosted.org/packages/3f/32/d5d3cab27fee7f6b22d7cd7507547ae45d52e26030fa77d1f83d0526c6e5/PyJWT-2.1.0-py3-none-any.whl\n",
            "Requirement already satisfied: requests>=2.20.0 in /usr/local/lib/python3.7/dist-packages (from neptune-client==0.9.1) (2.23.0)\n",
            "Requirement already satisfied: requests-oauthlib>=1.0.0 in /usr/local/lib/python3.7/dist-packages (from neptune-client==0.9.1) (1.3.0)\n",
            "Requirement already satisfied: six>=1.12.0 in /usr/local/lib/python3.7/dist-packages (from neptune-client==0.9.1) (1.15.0)\n",
            "Collecting websocket-client>=0.35.0\n",
            "  Using cached https://files.pythonhosted.org/packages/08/33/80e0d4f60e84a1ddd9a03f340be1065a2a363c47ce65c4bd3bae65ce9631/websocket_client-0.58.0-py2.py3-none-any.whl\n",
            "Collecting GitPython>=2.0.8\n",
            "  Using cached https://files.pythonhosted.org/packages/a6/99/98019716955ba243657daedd1de8f3a88ca1f5b75057c38e959db22fb87b/GitPython-3.1.14-py3-none-any.whl\n",
            "Requirement already satisfied: packaging in /usr/local/lib/python3.7/dist-packages (from neptune-client==0.9.1) (20.9)\n",
            "Requirement already satisfied: urllib3 in /usr/local/lib/python3.7/dist-packages (from neptune-client==0.9.1) (1.24.3)\n",
            "Collecting monotonic\n",
            "  Using cached https://files.pythonhosted.org/packages/9a/67/7e8406a29b6c45be7af7740456f7f37025f0506ae2e05fb9009a53946860/monotonic-1.6-py2.py3-none-any.whl\n",
            "Collecting bravado-core>=5.16.1\n",
            "  Using cached https://files.pythonhosted.org/packages/76/11/18e9d28a156c33f2d5f15a5e155dc7130250acb0a569255a2b6b307b596d/bravado_core-5.17.0-py2.py3-none-any.whl\n",
            "Requirement already satisfied: python-dateutil in /usr/local/lib/python3.7/dist-packages (from bravado->neptune-client==0.9.1) (2.8.1)\n",
            "Requirement already satisfied: pyyaml in /usr/local/lib/python3.7/dist-packages (from bravado->neptune-client==0.9.1) (3.13)\n",
            "Collecting simplejson\n",
            "  Using cached https://files.pythonhosted.org/packages/a8/04/377418ac1e530ce2a196b54c6552c018fdf1fe776718053efb1f216bffcd/simplejson-3.17.2-cp37-cp37m-manylinux2010_x86_64.whl\n",
            "Requirement already satisfied: msgpack in /usr/local/lib/python3.7/dist-packages (from bravado->neptune-client==0.9.1) (1.0.2)\n",
            "Requirement already satisfied: typing-extensions in /usr/local/lib/python3.7/dist-packages (from bravado->neptune-client==0.9.1) (3.7.4.3)\n",
            "Requirement already satisfied: pytz>=2017.2 in /usr/local/lib/python3.7/dist-packages (from pandas->neptune-client==0.9.1) (2018.9)\n",
            "Requirement already satisfied: numpy>=1.15.4 in /usr/local/lib/python3.7/dist-packages (from pandas->neptune-client==0.9.1) (1.19.5)\n",
            "Requirement already satisfied: certifi>=2017.4.17 in /usr/local/lib/python3.7/dist-packages (from requests>=2.20.0->neptune-client==0.9.1) (2020.12.5)\n",
            "Requirement already satisfied: chardet<4,>=3.0.2 in /usr/local/lib/python3.7/dist-packages (from requests>=2.20.0->neptune-client==0.9.1) (3.0.4)\n",
            "Requirement already satisfied: idna<3,>=2.5 in /usr/local/lib/python3.7/dist-packages (from requests>=2.20.0->neptune-client==0.9.1) (2.10)\n",
            "Collecting gitdb<5,>=4.0.1\n",
            "\u001b[?25l  Downloading https://files.pythonhosted.org/packages/ea/e8/f414d1a4f0bbc668ed441f74f44c116d9816833a48bf81d22b697090dba8/gitdb-4.0.7-py3-none-any.whl (63kB)\n",
            "\u001b[K     |████████████████████████████████| 71kB 5.7MB/s \n",
            "\u001b[?25hRequirement already satisfied: pyparsing>=2.0.2 in /usr/local/lib/python3.7/dist-packages (from packaging->neptune-client==0.9.1) (2.4.7)\n",
            "Collecting jsonref\n",
            "  Downloading https://files.pythonhosted.org/packages/07/92/f8e4ac824b14af77e613984e480fa818397c72d4141fc466decb26752749/jsonref-0.2-py3-none-any.whl\n",
            "Requirement already satisfied: jsonschema[format]>=2.5.1 in /usr/local/lib/python3.7/dist-packages (from bravado-core>=5.16.1->bravado->neptune-client==0.9.1) (2.6.0)\n",
            "Collecting swagger-spec-validator>=2.0.1\n",
            "  Downloading https://files.pythonhosted.org/packages/09/de/e78cefbf5838b434b63a789264b79821cb2267f1498fbed23ef8590133e4/swagger_spec_validator-2.7.3-py2.py3-none-any.whl\n",
            "Collecting smmap<5,>=3.0.1\n",
            "  Downloading https://files.pythonhosted.org/packages/68/ee/d540eb5e5996eb81c26ceffac6ee49041d473bc5125f2aa995cf51ec1cf1/smmap-4.0.0-py2.py3-none-any.whl\n",
            "Collecting strict-rfc3339; extra == \"format\"\n",
            "  Downloading https://files.pythonhosted.org/packages/56/e4/879ef1dbd6ddea1c77c0078cd59b503368b0456bcca7d063a870ca2119d3/strict-rfc3339-0.7.tar.gz\n",
            "Collecting webcolors; extra == \"format\"\n",
            "  Downloading https://files.pythonhosted.org/packages/12/05/3350559de9714b202e443a9e6312937341bd5f79f4e4f625744295e7dd17/webcolors-1.11.1-py3-none-any.whl\n",
            "Collecting rfc3987; extra == \"format\"\n",
            "  Downloading https://files.pythonhosted.org/packages/65/d4/f7407c3d15d5ac779c3dd34fbbc6ea2090f77bd7dd12f207ccf881551208/rfc3987-1.3.8-py2.py3-none-any.whl\n",
            "Building wheels for collected packages: neptune-client, future, strict-rfc3339\n",
            "  Building wheel for neptune-client (setup.py) ... \u001b[?25l\u001b[?25hdone\n",
            "  Created wheel for neptune-client: filename=neptune_client-0.9.1-py2.py3-none-any.whl size=371716 sha256=63a8a05d713c61d5d879b4de24fee29dd6d912c986f822ee749617d8b3e9cfe2\n",
            "  Stored in directory: /root/.cache/pip/wheels/6e/d4/60/21005f18273566da0463587bed8c69cce7f300a404edf26df8\n",
            "  Building wheel for future (setup.py) ... \u001b[?25l\u001b[?25hdone\n",
            "  Created wheel for future: filename=future-0.18.2-cp37-none-any.whl size=491058 sha256=0a8404cdda9733eab92ed7fd24aba518d6f22105b82c5b999b65c0cefa2b3b63\n",
            "  Stored in directory: /root/.cache/pip/wheels/8b/99/a0/81daf51dcd359a9377b110a8a886b3895921802d2fc1b2397e\n",
            "  Building wheel for strict-rfc3339 (setup.py) ... \u001b[?25l\u001b[?25hdone\n",
            "  Created wheel for strict-rfc3339: filename=strict_rfc3339-0.7-cp37-none-any.whl size=18121 sha256=148b07288aee3e0dc2958e469873b4be3526af3825b0e54f7d3b131fefc553c6\n",
            "  Stored in directory: /root/.cache/pip/wheels/bb/af/c9/b6e9fb5f9b2470e4ed2a7241c9ab3a8cdd3bc8555ae02ca2e6\n",
            "Successfully built neptune-client future strict-rfc3339\n",
            "Installing collected packages: monotonic, jsonref, simplejson, swagger-spec-validator, bravado-core, bravado, future, PyJWT, websocket-client, smmap, gitdb, GitPython, neptune-client, strict-rfc3339, webcolors, rfc3987\n",
            "  Found existing installation: future 0.16.0\n",
            "    Uninstalling future-0.16.0:\n",
            "      Successfully uninstalled future-0.16.0\n",
            "Successfully installed GitPython-3.1.14 PyJWT-2.1.0 bravado-11.0.3 bravado-core-5.17.0 future-0.18.2 gitdb-4.0.7 jsonref-0.2 monotonic-1.6 neptune-client-0.9.1 rfc3987-1.3.8 simplejson-3.17.2 smmap-4.0.0 strict-rfc3339-0.7 swagger-spec-validator-2.7.3 webcolors-1.11.1 websocket-client-0.58.0\n"
          ],
          "name": "stdout"
        }
      ]
    },
    {
      "cell_type": "code",
      "metadata": {
        "colab": {
          "base_uri": "https://localhost:8080/"
        },
        "id": "iUW4mb2uAPDu",
        "outputId": "e7aabb54-2ac5-41d8-c740-3f2d7e65642d"
      },
      "source": [
        "import neptune.new as neptune\n",
        "\n",
        "# Como obter seu API token do Neptune:\n",
        "# https://docs.neptune.ai/administration/security-and-privacy/how-to-find-and-set-neptune-api-token\n",
        "run = neptune.init(project='d230640/Aula5-Exercicio', api_token='eyJhcGlfYWRkcmVzcyI6Imh0dHBzOi8vYXBwLm5lcHR1bmUuYWkiLCJhcGlfdXJsIjoiaHR0cHM6Ly9hcHAubmVwdHVuZS5haSIsImFwaV9rZXkiOiJmZTg1OGU3Yi1jOWE1LTRjMjEtYTJjNS1hMjMwM2Y3NDRjOTUifQ==')"
      ],
      "execution_count": 8,
      "outputs": [
        {
          "output_type": "stream",
          "text": [
            "https://app.neptune.ai/d230640/Aula5-Exercicio/e/AUL1-7\n"
          ],
          "name": "stdout"
        }
      ]
    },
    {
      "cell_type": "markdown",
      "metadata": {
        "id": "C4IayX1HsCyC"
      },
      "source": [
        "## 2. Carregamento e leitura e eventual limpeza do dataset\n",
        "\n",
        "Aqui é onde é lido o dataset, muitas vezes original, sem ainda estar no formato do pytorch"
      ]
    },
    {
      "cell_type": "code",
      "metadata": {
        "id": "gbnhS9UcqC1S"
      },
      "source": [
        "# Leitura do dataset\n",
        "df_train = pd.read_csv(\"https://download.mlcc.google.com/mledu-datasets/california_housing_train.csv\", sep=\",\")\n",
        "df_test = pd.read_csv(\"https://download.mlcc.google.com/mledu-datasets/california_housing_test.csv\", sep=\",\")"
      ],
      "execution_count": 9,
      "outputs": []
    },
    {
      "cell_type": "markdown",
      "metadata": {
        "id": "6XF2Wyr0lM9N"
      },
      "source": [
        "### 2.0 Vizualização do Dataset"
      ]
    },
    {
      "cell_type": "code",
      "metadata": {
        "id": "HZvGefQEvBMY",
        "colab": {
          "base_uri": "https://localhost:8080/"
        },
        "outputId": "b1729e00-46d0-457b-e5d2-ce9b76ff4315"
      },
      "source": [
        "df_train.info()"
      ],
      "execution_count": 10,
      "outputs": [
        {
          "output_type": "stream",
          "text": [
            "<class 'pandas.core.frame.DataFrame'>\n",
            "RangeIndex: 17000 entries, 0 to 16999\n",
            "Data columns (total 9 columns):\n",
            " #   Column              Non-Null Count  Dtype  \n",
            "---  ------              --------------  -----  \n",
            " 0   longitude           17000 non-null  float64\n",
            " 1   latitude            17000 non-null  float64\n",
            " 2   housing_median_age  17000 non-null  float64\n",
            " 3   total_rooms         17000 non-null  float64\n",
            " 4   total_bedrooms      17000 non-null  float64\n",
            " 5   population          17000 non-null  float64\n",
            " 6   households          17000 non-null  float64\n",
            " 7   median_income       17000 non-null  float64\n",
            " 8   median_house_value  17000 non-null  float64\n",
            "dtypes: float64(9)\n",
            "memory usage: 1.2 MB\n"
          ],
          "name": "stdout"
        }
      ]
    },
    {
      "cell_type": "code",
      "metadata": {
        "id": "JLpwqk2_W4jO",
        "colab": {
          "base_uri": "https://localhost:8080/"
        },
        "outputId": "c15af192-b012-4bf8-917a-2838aa57505f"
      },
      "source": [
        "print(df_train.shape)\n",
        "print(df_test.shape)"
      ],
      "execution_count": 11,
      "outputs": [
        {
          "output_type": "stream",
          "text": [
            "(17000, 9)\n",
            "(3000, 9)\n"
          ],
          "name": "stdout"
        }
      ]
    },
    {
      "cell_type": "code",
      "metadata": {
        "id": "ozA3sPE2U2RN",
        "colab": {
          "base_uri": "https://localhost:8080/",
          "height": 206
        },
        "outputId": "903bf31e-d8e2-4514-b67f-50b70a7d4e62"
      },
      "source": [
        "df_train.head()"
      ],
      "execution_count": 12,
      "outputs": [
        {
          "output_type": "execute_result",
          "data": {
            "text/html": [
              "<div>\n",
              "<style scoped>\n",
              "    .dataframe tbody tr th:only-of-type {\n",
              "        vertical-align: middle;\n",
              "    }\n",
              "\n",
              "    .dataframe tbody tr th {\n",
              "        vertical-align: top;\n",
              "    }\n",
              "\n",
              "    .dataframe thead th {\n",
              "        text-align: right;\n",
              "    }\n",
              "</style>\n",
              "<table border=\"1\" class=\"dataframe\">\n",
              "  <thead>\n",
              "    <tr style=\"text-align: right;\">\n",
              "      <th></th>\n",
              "      <th>longitude</th>\n",
              "      <th>latitude</th>\n",
              "      <th>housing_median_age</th>\n",
              "      <th>total_rooms</th>\n",
              "      <th>total_bedrooms</th>\n",
              "      <th>population</th>\n",
              "      <th>households</th>\n",
              "      <th>median_income</th>\n",
              "      <th>median_house_value</th>\n",
              "    </tr>\n",
              "  </thead>\n",
              "  <tbody>\n",
              "    <tr>\n",
              "      <th>0</th>\n",
              "      <td>-114.31</td>\n",
              "      <td>34.19</td>\n",
              "      <td>15.0</td>\n",
              "      <td>5612.0</td>\n",
              "      <td>1283.0</td>\n",
              "      <td>1015.0</td>\n",
              "      <td>472.0</td>\n",
              "      <td>1.4936</td>\n",
              "      <td>66900.0</td>\n",
              "    </tr>\n",
              "    <tr>\n",
              "      <th>1</th>\n",
              "      <td>-114.47</td>\n",
              "      <td>34.40</td>\n",
              "      <td>19.0</td>\n",
              "      <td>7650.0</td>\n",
              "      <td>1901.0</td>\n",
              "      <td>1129.0</td>\n",
              "      <td>463.0</td>\n",
              "      <td>1.8200</td>\n",
              "      <td>80100.0</td>\n",
              "    </tr>\n",
              "    <tr>\n",
              "      <th>2</th>\n",
              "      <td>-114.56</td>\n",
              "      <td>33.69</td>\n",
              "      <td>17.0</td>\n",
              "      <td>720.0</td>\n",
              "      <td>174.0</td>\n",
              "      <td>333.0</td>\n",
              "      <td>117.0</td>\n",
              "      <td>1.6509</td>\n",
              "      <td>85700.0</td>\n",
              "    </tr>\n",
              "    <tr>\n",
              "      <th>3</th>\n",
              "      <td>-114.57</td>\n",
              "      <td>33.64</td>\n",
              "      <td>14.0</td>\n",
              "      <td>1501.0</td>\n",
              "      <td>337.0</td>\n",
              "      <td>515.0</td>\n",
              "      <td>226.0</td>\n",
              "      <td>3.1917</td>\n",
              "      <td>73400.0</td>\n",
              "    </tr>\n",
              "    <tr>\n",
              "      <th>4</th>\n",
              "      <td>-114.57</td>\n",
              "      <td>33.57</td>\n",
              "      <td>20.0</td>\n",
              "      <td>1454.0</td>\n",
              "      <td>326.0</td>\n",
              "      <td>624.0</td>\n",
              "      <td>262.0</td>\n",
              "      <td>1.9250</td>\n",
              "      <td>65500.0</td>\n",
              "    </tr>\n",
              "  </tbody>\n",
              "</table>\n",
              "</div>"
            ],
            "text/plain": [
              "   longitude  latitude  ...  median_income  median_house_value\n",
              "0    -114.31     34.19  ...         1.4936             66900.0\n",
              "1    -114.47     34.40  ...         1.8200             80100.0\n",
              "2    -114.56     33.69  ...         1.6509             85700.0\n",
              "3    -114.57     33.64  ...         3.1917             73400.0\n",
              "4    -114.57     33.57  ...         1.9250             65500.0\n",
              "\n",
              "[5 rows x 9 columns]"
            ]
          },
          "metadata": {
            "tags": []
          },
          "execution_count": 12
        }
      ]
    },
    {
      "cell_type": "code",
      "metadata": {
        "id": "IrMODI3VqMzj",
        "colab": {
          "base_uri": "https://localhost:8080/",
          "height": 300
        },
        "outputId": "693c8579-64f4-479f-f256-7f435c1a2abc"
      },
      "source": [
        "df_train.describe()"
      ],
      "execution_count": 13,
      "outputs": [
        {
          "output_type": "execute_result",
          "data": {
            "text/html": [
              "<div>\n",
              "<style scoped>\n",
              "    .dataframe tbody tr th:only-of-type {\n",
              "        vertical-align: middle;\n",
              "    }\n",
              "\n",
              "    .dataframe tbody tr th {\n",
              "        vertical-align: top;\n",
              "    }\n",
              "\n",
              "    .dataframe thead th {\n",
              "        text-align: right;\n",
              "    }\n",
              "</style>\n",
              "<table border=\"1\" class=\"dataframe\">\n",
              "  <thead>\n",
              "    <tr style=\"text-align: right;\">\n",
              "      <th></th>\n",
              "      <th>longitude</th>\n",
              "      <th>latitude</th>\n",
              "      <th>housing_median_age</th>\n",
              "      <th>total_rooms</th>\n",
              "      <th>total_bedrooms</th>\n",
              "      <th>population</th>\n",
              "      <th>households</th>\n",
              "      <th>median_income</th>\n",
              "      <th>median_house_value</th>\n",
              "    </tr>\n",
              "  </thead>\n",
              "  <tbody>\n",
              "    <tr>\n",
              "      <th>count</th>\n",
              "      <td>17000.000000</td>\n",
              "      <td>17000.000000</td>\n",
              "      <td>17000.000000</td>\n",
              "      <td>17000.000000</td>\n",
              "      <td>17000.000000</td>\n",
              "      <td>17000.000000</td>\n",
              "      <td>17000.000000</td>\n",
              "      <td>17000.000000</td>\n",
              "      <td>17000.000000</td>\n",
              "    </tr>\n",
              "    <tr>\n",
              "      <th>mean</th>\n",
              "      <td>-119.562108</td>\n",
              "      <td>35.625225</td>\n",
              "      <td>28.589353</td>\n",
              "      <td>2643.664412</td>\n",
              "      <td>539.410824</td>\n",
              "      <td>1429.573941</td>\n",
              "      <td>501.221941</td>\n",
              "      <td>3.883578</td>\n",
              "      <td>207300.912353</td>\n",
              "    </tr>\n",
              "    <tr>\n",
              "      <th>std</th>\n",
              "      <td>2.005166</td>\n",
              "      <td>2.137340</td>\n",
              "      <td>12.586937</td>\n",
              "      <td>2179.947071</td>\n",
              "      <td>421.499452</td>\n",
              "      <td>1147.852959</td>\n",
              "      <td>384.520841</td>\n",
              "      <td>1.908157</td>\n",
              "      <td>115983.764387</td>\n",
              "    </tr>\n",
              "    <tr>\n",
              "      <th>min</th>\n",
              "      <td>-124.350000</td>\n",
              "      <td>32.540000</td>\n",
              "      <td>1.000000</td>\n",
              "      <td>2.000000</td>\n",
              "      <td>1.000000</td>\n",
              "      <td>3.000000</td>\n",
              "      <td>1.000000</td>\n",
              "      <td>0.499900</td>\n",
              "      <td>14999.000000</td>\n",
              "    </tr>\n",
              "    <tr>\n",
              "      <th>25%</th>\n",
              "      <td>-121.790000</td>\n",
              "      <td>33.930000</td>\n",
              "      <td>18.000000</td>\n",
              "      <td>1462.000000</td>\n",
              "      <td>297.000000</td>\n",
              "      <td>790.000000</td>\n",
              "      <td>282.000000</td>\n",
              "      <td>2.566375</td>\n",
              "      <td>119400.000000</td>\n",
              "    </tr>\n",
              "    <tr>\n",
              "      <th>50%</th>\n",
              "      <td>-118.490000</td>\n",
              "      <td>34.250000</td>\n",
              "      <td>29.000000</td>\n",
              "      <td>2127.000000</td>\n",
              "      <td>434.000000</td>\n",
              "      <td>1167.000000</td>\n",
              "      <td>409.000000</td>\n",
              "      <td>3.544600</td>\n",
              "      <td>180400.000000</td>\n",
              "    </tr>\n",
              "    <tr>\n",
              "      <th>75%</th>\n",
              "      <td>-118.000000</td>\n",
              "      <td>37.720000</td>\n",
              "      <td>37.000000</td>\n",
              "      <td>3151.250000</td>\n",
              "      <td>648.250000</td>\n",
              "      <td>1721.000000</td>\n",
              "      <td>605.250000</td>\n",
              "      <td>4.767000</td>\n",
              "      <td>265000.000000</td>\n",
              "    </tr>\n",
              "    <tr>\n",
              "      <th>max</th>\n",
              "      <td>-114.310000</td>\n",
              "      <td>41.950000</td>\n",
              "      <td>52.000000</td>\n",
              "      <td>37937.000000</td>\n",
              "      <td>6445.000000</td>\n",
              "      <td>35682.000000</td>\n",
              "      <td>6082.000000</td>\n",
              "      <td>15.000100</td>\n",
              "      <td>500001.000000</td>\n",
              "    </tr>\n",
              "  </tbody>\n",
              "</table>\n",
              "</div>"
            ],
            "text/plain": [
              "          longitude      latitude  ...  median_income  median_house_value\n",
              "count  17000.000000  17000.000000  ...   17000.000000        17000.000000\n",
              "mean    -119.562108     35.625225  ...       3.883578       207300.912353\n",
              "std        2.005166      2.137340  ...       1.908157       115983.764387\n",
              "min     -124.350000     32.540000  ...       0.499900        14999.000000\n",
              "25%     -121.790000     33.930000  ...       2.566375       119400.000000\n",
              "50%     -118.490000     34.250000  ...       3.544600       180400.000000\n",
              "75%     -118.000000     37.720000  ...       4.767000       265000.000000\n",
              "max     -114.310000     41.950000  ...      15.000100       500001.000000\n",
              "\n",
              "[8 rows x 9 columns]"
            ]
          },
          "metadata": {
            "tags": []
          },
          "execution_count": 13
        }
      ]
    },
    {
      "cell_type": "code",
      "metadata": {
        "id": "_upDrTXQkQRN",
        "colab": {
          "base_uri": "https://localhost:8080/",
          "height": 320
        },
        "outputId": "5236748a-0676-4d09-8a3c-450965030b73"
      },
      "source": [
        "df_train.median_house_value.hist(bins=50, figsize=(10, 5))\n",
        "plt.show()"
      ],
      "execution_count": 14,
      "outputs": [
        {
          "output_type": "display_data",
          "data": {
            "image/png": "[encoded data removed]",
            "text/plain": [
              "<Figure size 720x360 with 1 Axes>"
            ]
          },
          "metadata": {
            "tags": [],
            "needs_background": "light"
          }
        }
      ]
    },
    {
      "cell_type": "markdown",
      "metadata": {
        "id": "CKTm4TEhkzJi"
      },
      "source": [
        "Esse pico no valor que mostra o enteresse de adicionar a classificação entre valores abaixo e acima de 500mil"
      ]
    },
    {
      "cell_type": "markdown",
      "metadata": {
        "id": "LWGpvacBsdW_"
      },
      "source": [
        "### 2.1 Criação do dataset do PyTorch"
      ]
    },
    {
      "cell_type": "markdown",
      "metadata": {
        "id": "R2qiH_pKRq_0"
      },
      "source": [
        "Visualizar:\n",
        "- tamanho\n",
        "- tipo da variável do x e do y\n",
        "Se for tensores:\n",
        "- shape do x e do y\n",
        "- dtype do x e do y"
      ]
    },
    {
      "cell_type": "code",
      "metadata": {
        "id": "6lHfxItPqPFN",
        "colab": {
          "base_uri": "https://localhost:8080/"
        },
        "outputId": "4a546516-7893-4b8f-f82f-8365e228ca0c"
      },
      "source": [
        "# creating tensor from dataframe \n",
        "x = torch.tensor(df_train.values, dtype=torch.float32)\n",
        "x_test = torch.tensor(df_test.values, dtype=torch.float32)\n",
        "\n",
        "\n",
        "# Split target\n",
        "y = x[:,df_train.shape[1]-1].reshape(df_train.shape[0],1)\n",
        "x = x[:,:df_train.shape[1]-1]\n",
        "\n",
        "y_test = x_test[:,df_test.shape[1]-1].reshape(df_test.shape[0],1)\n",
        "x_test = x_test[:, :-1]\n",
        "\n",
        "print(f'x_train.shape: {x.shape}')\n",
        "print(f'y_train.shape: {y.shape}')\n",
        "print(f'x_test.shape {x_test.shape}')\n",
        "print(f'y_test.shape {y_test.shape}')"
      ],
      "execution_count": 15,
      "outputs": [
        {
          "output_type": "stream",
          "text": [
            "x_train.shape: torch.Size([17000, 8])\n",
            "y_train.shape: torch.Size([17000, 1])\n",
            "x_test.shape torch.Size([3000, 8])\n",
            "y_test.shape torch.Size([3000, 1])\n"
          ],
          "name": "stdout"
        }
      ]
    },
    {
      "cell_type": "markdown",
      "metadata": {
        "id": "NwVdeHEYmTk_"
      },
      "source": [
        "#### Adicionar colunas das classes\n",
        "0 - classe menor que 50mil\n",
        "1 - classe maior que 50mil "
      ]
    },
    {
      "cell_type": "code",
      "metadata": {
        "id": "LdljGLoul-Zu",
        "colab": {
          "base_uri": "https://localhost:8080/"
        },
        "outputId": "c854def1-b5fa-4506-9afa-007cca8b1dc6"
      },
      "source": [
        "is_500mil = y >= 500000\n",
        "c = is_500mil.double()\n",
        "y = torch.cat((y,c),1)\n",
        "print(y.shape)\n",
        "\n",
        "is_500mil = y_test >= 500000\n",
        "c = is_500mil.double()\n",
        "y_test = torch.cat((y_test,c),1)\n",
        "print(y_test.shape)"
      ],
      "execution_count": 16,
      "outputs": [
        {
          "output_type": "stream",
          "text": [
            "torch.Size([17000, 2])\n",
            "torch.Size([3000, 2])\n"
          ],
          "name": "stdout"
        }
      ]
    },
    {
      "cell_type": "markdown",
      "metadata": {
        "id": "w6BSCZLPoo5K"
      },
      "source": [
        "#### Vizualização"
      ]
    },
    {
      "cell_type": "code",
      "metadata": {
        "id": "r9fvn9pnmofx",
        "colab": {
          "base_uri": "https://localhost:8080/"
        },
        "outputId": "7f4d8833-6b60-46e1-9914-217993bd2df2"
      },
      "source": [
        "print('tamanho=',len(x))\n",
        "print ('x type', x.type())\n",
        "print ('y type', y.type())\n",
        "print ('x shape', x.shape)\n",
        "print ('y shape', y.shape)\n",
        "print ('x dtype', x.dtype)\n",
        "print ('y dtype', y.dtype)"
      ],
      "execution_count": 17,
      "outputs": [
        {
          "output_type": "stream",
          "text": [
            "tamanho= 17000\n",
            "x type torch.FloatTensor\n",
            "y type torch.DoubleTensor\n",
            "x shape torch.Size([17000, 8])\n",
            "y shape torch.Size([17000, 2])\n",
            "x dtype torch.float32\n",
            "y dtype torch.float64\n"
          ],
          "name": "stdout"
        }
      ]
    },
    {
      "cell_type": "markdown",
      "metadata": {
        "id": "E6Qi3O0tqVxf"
      },
      "source": [
        "#### Separação train e validação"
      ]
    },
    {
      "cell_type": "code",
      "metadata": {
        "id": "uqgHpziRj7H_"
      },
      "source": [
        "# Parameters\n",
        "TRAIN_SIZE = 0.8"
      ],
      "execution_count": 18,
      "outputs": []
    },
    {
      "cell_type": "code",
      "metadata": {
        "id": "dOK5lgdseG39",
        "colab": {
          "base_uri": "https://localhost:8080/",
          "height": 106
        },
        "outputId": "21a9ed81-d957-4ba9-dd0e-d83f505478e9"
      },
      "source": [
        "# Split data in train and test\n",
        "index = torch.randperm(len(x), dtype=torch.long)\n",
        "\n",
        "n_train = int(len(x)*TRAIN_SIZE)\n",
        "\n",
        "# train\n",
        "x_train = x[index[:n_train]]\n",
        "y_train = y[index[:n_train]]\n",
        "\n",
        "# val\n",
        "x_val = x[index[n_train:]]\n",
        "y_val = y[index[n_train:]]\n",
        "\n",
        "print ('x_train=',x_train.shape)\n",
        "print ('y_train=',y_train.shape)\n",
        "print ('x_val=',x_val.shape)\n",
        "print ('y_val=',y_val.shape)\n",
        "x_train.type()\n",
        "x.type()"
      ],
      "execution_count": 19,
      "outputs": [
        {
          "output_type": "stream",
          "text": [
            "x_train= torch.Size([13600, 8])\n",
            "y_train= torch.Size([13600, 2])\n",
            "x_val= torch.Size([3400, 8])\n",
            "y_val= torch.Size([3400, 2])\n"
          ],
          "name": "stdout"
        },
        {
          "output_type": "execute_result",
          "data": {
            "application/vnd.google.colaboratory.intrinsic+json": {
              "type": "string"
            },
            "text/plain": [
              "'torch.FloatTensor'"
            ]
          },
          "metadata": {
            "tags": []
          },
          "execution_count": 19
        }
      ]
    },
    {
      "cell_type": "code",
      "metadata": {
        "id": "UrTMkF7IkNvl"
      },
      "source": [
        "x_train_min, _ = torch.min(x_train,0)\n",
        "x_train_max, _ = torch.max(x_train,0)\n",
        "x_train = (x_train - x_train_min)/(x_train_max-x_train_min)\n",
        "\n",
        "y_train_min, _ = torch.min(y_train[:,0],0)\n",
        "y_train_max, _ = torch.max(y_train[:,0],0)\n",
        "y_train[:,0] = (y_train[:,0] - y_train_min)/(y_train_max - y_train_min)"
      ],
      "execution_count": 20,
      "outputs": []
    },
    {
      "cell_type": "code",
      "metadata": {
        "id": "gUddQ4HvsPwW"
      },
      "source": [
        "x_val = (x_val - x_train_min)/(x_train_max-x_train_min)\n",
        "y_val[:,0] = (y_val[:,0] - y_train_min)/(y_train_max - y_train_min)\n",
        "\n",
        "x_test = (x_test - x_train_min)/(x_train_max-x_train_min)\n",
        "y_test[:,0] = (y_test[:,0] - y_train_min)/(y_train_max - y_train_min)"
      ],
      "execution_count": 21,
      "outputs": []
    },
    {
      "cell_type": "code",
      "metadata": {
        "colab": {
          "base_uri": "https://localhost:8080/"
        },
        "id": "3E8lEX6KfJkh",
        "outputId": "1a80a05b-e00b-47a1-c40a-3f604cfe0c9f"
      },
      "source": [
        "if torch.cuda.is_available():\n",
        "  dev = 'cuda:0'\n",
        "else:\n",
        "  dev = 'cpu'\n",
        "print(dev)\n",
        "device = torch.device(dev)"
      ],
      "execution_count": 22,
      "outputs": [
        {
          "output_type": "stream",
          "text": [
            "cuda:0\n"
          ],
          "name": "stdout"
        }
      ]
    },
    {
      "cell_type": "code",
      "metadata": {
        "id": "q-jeER8AfpG8"
      },
      "source": [
        "batch_size = 50"
      ],
      "execution_count": 23,
      "outputs": []
    },
    {
      "cell_type": "code",
      "metadata": {
        "id": "qy3B4HFFAEf-"
      },
      "source": [
        "class MyDataset(Dataset):\n",
        "    def __init__(self, x, y):\n",
        "        super(MyDataset, self).__init__()\n",
        "        self.data = x\n",
        "        self.target = y\n",
        "            \n",
        "    def __len__(self):\n",
        "        return self.data.shape[0]\n",
        "    \n",
        "    def __getitem__(self, index):\n",
        "        x = self.data[index]\n",
        "        p_regr = self.target[index, 0]\n",
        "        l_clas = self.target[index, 1]\n",
        "        return (x, p_regr, l_clas)\n",
        "\n",
        "dataset_train = MyDataset(x_train, y_train)\n",
        "dataset_val = MyDataset(x_val, y_val)\n",
        "dataset_test = MyDataset(x_test, y_test)"
      ],
      "execution_count": 24,
      "outputs": []
    },
    {
      "cell_type": "code",
      "metadata": {
        "colab": {
          "base_uri": "https://localhost:8080/"
        },
        "id": "81f4ZjppfuCC",
        "outputId": "ac094a95-fb69-4ef6-9d78-321372d45a4f"
      },
      "source": [
        "loader_train = DataLoader(dataset_train, batch_size=batch_size, shuffle=True)\n",
        "loader_val = DataLoader(dataset_val, batch_size=batch_size, shuffle=False)\n",
        "loader_test = DataLoader(dataset_test, batch_size=batch_size, shuffle=False)\n",
        "\n",
        "\n",
        "print(f'Número de minibatchs de treinamento: {len(loader_train)}')\n",
        "print(f'Número de minibatchs de treinamento: {len(loader_val)}')\n",
        "\n",
        "x_train_i, y_train_class_i, y_train_regre_i = next(iter(loader_train))\n",
        "print(f'\\nDimenssões dos dados de um minibatch: {x_train_i.size()}')"
      ],
      "execution_count": 25,
      "outputs": [
        {
          "output_type": "stream",
          "text": [
            "Número de minibatchs de treinamento: 272\n",
            "Número de minibatchs de treinamento: 68\n",
            "\n",
            "Dimenssões dos dados de um minibatch: torch.Size([50, 8])\n"
          ],
          "name": "stdout"
        }
      ]
    },
    {
      "cell_type": "code",
      "metadata": {
        "colab": {
          "base_uri": "https://localhost:8080/"
        },
        "id": "UJm6yRUlXB8g",
        "outputId": "2a1e9689-ecb9-48c3-8a12-8fcddd31875c"
      },
      "source": [
        "print(x_train_i.shape, y_train_class_i.shape, y_train_regre_i.shape)"
      ],
      "execution_count": 26,
      "outputs": [
        {
          "output_type": "stream",
          "text": [
            "torch.Size([50, 8]) torch.Size([50]) torch.Size([50])\n"
          ],
          "name": "stdout"
        }
      ]
    },
    {
      "cell_type": "code",
      "metadata": {
        "id": "Px_jeyRdmowR",
        "colab": {
          "base_uri": "https://localhost:8080/"
        },
        "outputId": "e98747f3-cddd-4fe3-c221-d13531cffe88"
      },
      "source": [
        "x_val_i, y_val_class_i, y_val_regre_i = next(iter(loader_val))\n",
        "print(\"\\nDimensões dos dados de um minibatch:\", x_train.size())\n",
        "print(\"Valores mínimo e máximo dos pixels: \", torch.min(x_train), torch.max(x_train))\n",
        "print(\"Tipo dos dados das imagens:         \", type(x_train))\n",
        "print(\"Tipo das classes das imagens:       \", type(y_train))"
      ],
      "execution_count": 27,
      "outputs": [
        {
          "output_type": "stream",
          "text": [
            "\n",
            "Dimensões dos dados de um minibatch: torch.Size([13600, 8])\n",
            "Valores mínimo e máximo dos pixels:  tensor(0.) tensor(1.)\n",
            "Tipo dos dados das imagens:          <class 'torch.Tensor'>\n",
            "Tipo das classes das imagens:        <class 'torch.Tensor'>\n"
          ],
          "name": "stdout"
        }
      ]
    },
    {
      "cell_type": "code",
      "metadata": {
        "colab": {
          "base_uri": "https://localhost:8080/"
        },
        "id": "_Z7sENH7jTHR",
        "outputId": "27e364f5-989c-4609-a2c4-5ce8b7b4da4b"
      },
      "source": [
        "x_val_i, y_val_class_i, y_val_regre_i = next(iter(loader_test))\n",
        "print(\"\\nDimensões dos dados de um minibatch:\", x_train.size())\n",
        "print(\"Valores mínimo e máximo dos pixels: \", torch.min(x_train), torch.max(x_train))\n",
        "print(\"Tipo dos dados das imagens:         \", type(x_train))\n",
        "print(\"Tipo das classes das imagens:       \", type(y_train))"
      ],
      "execution_count": 28,
      "outputs": [
        {
          "output_type": "stream",
          "text": [
            "\n",
            "Dimensões dos dados de um minibatch: torch.Size([13600, 8])\n",
            "Valores mínimo e máximo dos pixels:  tensor(0.) tensor(1.)\n",
            "Tipo dos dados das imagens:          <class 'torch.Tensor'>\n",
            "Tipo das classes das imagens:        <class 'torch.Tensor'>\n"
          ],
          "name": "stdout"
        }
      ]
    },
    {
      "cell_type": "markdown",
      "metadata": {
        "id": "OlKkn6k1oTuK"
      },
      "source": [
        "# Modelo"
      ]
    },
    {
      "cell_type": "code",
      "metadata": {
        "id": "7N6sfdQ-oViJ",
        "colab": {
          "base_uri": "https://localhost:8080/"
        },
        "outputId": "075dabe9-a3a0-4771-eaa0-80a9232a2c14"
      },
      "source": [
        "class Model(torch.nn.Module):\n",
        "  def __init__(self):\n",
        "    super(Model,self).__init__()\n",
        "    self.dense_classification = torch.nn.Sequential(\n",
        "      torch.nn.Linear(8,25),\n",
        "      torch.nn.ReLU(),\n",
        "      torch.nn.Linear(25,2),\n",
        "    )\n",
        "\n",
        "    self.dense_regression = torch.nn.Sequential(\n",
        "      torch.nn.Linear(8,25),\n",
        "      torch.nn.ReLU(),\n",
        "      torch.nn.Linear(25,100),\n",
        "      torch.nn.Dropout(0.2), #50 % probability \n",
        "      torch.nn.ReLU(),\n",
        "      torch.nn.Linear(100,500),\n",
        "      torch.nn.Dropout(0.2),\n",
        "      torch.nn.ReLU(),\n",
        "      torch.nn.Linear(500,100),\n",
        "      torch.nn.Dropout(0.2),\n",
        "      torch.nn.ReLU(),\n",
        "      torch.nn.Linear(100,25),\n",
        "      torch.nn.ReLU(),\n",
        "      torch.nn.Linear(25,1),\n",
        "    )\n",
        "\n",
        "  def forward(self,x):\n",
        "    x_class = self.dense_classification(x)\n",
        "    x_regre = self.dense_regression(x)\n",
        "    return x_class, x_regre\n",
        "\n",
        "\n",
        "model = Model()\n",
        "model.to(device)\n",
        "print(model)"
      ],
      "execution_count": 29,
      "outputs": [
        {
          "output_type": "stream",
          "text": [
            "Model(\n",
            "  (dense_classification): Sequential(\n",
            "    (0): Linear(in_features=8, out_features=25, bias=True)\n",
            "    (1): ReLU()\n",
            "    (2): Linear(in_features=25, out_features=2, bias=True)\n",
            "  )\n",
            "  (dense_regression): Sequential(\n",
            "    (0): Linear(in_features=8, out_features=25, bias=True)\n",
            "    (1): ReLU()\n",
            "    (2): Linear(in_features=25, out_features=100, bias=True)\n",
            "    (3): Dropout(p=0.2, inplace=False)\n",
            "    (4): ReLU()\n",
            "    (5): Linear(in_features=100, out_features=500, bias=True)\n",
            "    (6): Dropout(p=0.2, inplace=False)\n",
            "    (7): ReLU()\n",
            "    (8): Linear(in_features=500, out_features=100, bias=True)\n",
            "    (9): Dropout(p=0.2, inplace=False)\n",
            "    (10): ReLU()\n",
            "    (11): Linear(in_features=100, out_features=25, bias=True)\n",
            "    (12): ReLU()\n",
            "    (13): Linear(in_features=25, out_features=1, bias=True)\n",
            "  )\n",
            ")\n"
          ],
          "name": "stdout"
        }
      ]
    },
    {
      "cell_type": "markdown",
      "metadata": {
        "id": "R-64QdGQiy51"
      },
      "source": [
        "# Treinamento"
      ]
    },
    {
      "cell_type": "code",
      "metadata": {
        "id": "IrQm8e2AixIU"
      },
      "source": [
        "n_epochs = 1000\n",
        "learning_rate = 0.1\n",
        "\n",
        "criterion_regre =  torch.nn.MSELoss()\n",
        "criterion_class = torch.nn.CrossEntropyLoss()\n",
        "optimizer = torch.optim.SGD(model.parameters(), lr=learning_rate, momentum=0.9)\n",
        "loss_mae = torch.nn.L1Loss()"
      ],
      "execution_count": 30,
      "outputs": []
    },
    {
      "cell_type": "code",
      "metadata": {
        "id": "6f-xrY-SPOVb"
      },
      "source": [
        "def denormalization(house_price, max_value,min_value):\n",
        "  final_price = (house_price * (max_value - min_value)) + min_value\n",
        "  return final_price"
      ],
      "execution_count": 31,
      "outputs": []
    },
    {
      "cell_type": "markdown",
      "metadata": {
        "id": "wf4AgyQsnDwQ"
      },
      "source": [
        "# Laço de Treinamento"
      ]
    },
    {
      "cell_type": "code",
      "metadata": {
        "colab": {
          "base_uri": "https://localhost:8080/"
        },
        "id": "OYDj9RTjnB5O",
        "outputId": "b0b41c3c-5a75-45cc-c6f5-2a6e1765e132"
      },
      "source": [
        "best_valid_loss = 10e9\n",
        "train_hist_loss = []\n",
        "train_hist_loss_class = []\n",
        "train_hist_loss_reg = []\n",
        "\n",
        "val_hist_loss = []\n",
        "val_hist_loss_class = []\n",
        "val_hist_loss_reg = []\n",
        "\n",
        "alpha = 0.8\n",
        "\n",
        "for i in range(n_epochs+1):\n",
        "  accumulated_loss = 0\n",
        "  accumulated_loss_class = 0\n",
        "  accumulated_loss_reg = 0\n",
        "  accumulated_accuracy = 0\n",
        "  accumulated_mae = 0\n",
        "\n",
        "  model.train()\n",
        "  for x_train_i,y_train_regre_i,y_train_class_i in loader_train:\n",
        "    x_train_i = x_train_i.to(device)\n",
        "    y_train_class_i = y_train_class_i.to(device)\n",
        "    y_train_regre_i = y_train_regre_i.to(device)\n",
        "    \n",
        "    # predict da rede\n",
        "    output_class, output_regre = model(x_train_i)    \n",
        "    \n",
        "    batch_loss_class = criterion_class(output_class,y_train_class_i.long())\n",
        "    batch_loss_reg = criterion_regre(output_regre[y_train_class_i==0].squeeze(1).float(),y_train_regre_i[y_train_class_i==0].float())  # Método de restrição para regressão baseado no do colega Orlem\n",
        "    batch_loss = (1-alpha)*batch_loss_class + alpha*batch_loss_reg\n",
        "    \n",
        "    bach_accuracy = (output_class.argmax(dim=1) == y_train_class_i).sum()\n",
        "    \n",
        "    optimizer.zero_grad()\n",
        "    batch_loss.backward()\n",
        "    optimizer.step()\n",
        "\n",
        "    accumulated_loss += batch_loss.item()\n",
        "    accumulated_loss_class += batch_loss_class.item()\n",
        "    accumulated_loss_reg += batch_loss_reg.item()\n",
        "    accumulated_accuracy += bach_accuracy \n",
        "\n",
        "    denorm_y_train_regre_i = denormalization(y_train_regre_i,y_train_max, y_train_min)\n",
        "    denorm_output_regre = denormalization(output_regre,y_train_max, y_train_min)\n",
        "\n",
        "    accumulated_mae += mean_absolute_error(denorm_y_train_regre_i.cpu().detach(),denorm_output_regre.cpu().detach())\n",
        "\n",
        "\n",
        "  train_loss = accumulated_loss/len(loader_train.dataset)\n",
        "  train_hist_loss.append(train_loss)\n",
        "  train_hist_loss_class.append(accumulated_loss_class)\n",
        "  train_hist_loss_reg.append(accumulated_loss_reg)\n",
        "  train_total_accuracy = accumulated_accuracy/len(loader_train.dataset)\n",
        "  train_total_mae = accumulated_mae/len(loader_train)\n",
        "\n",
        "  run['Train/Loss'].log(train_loss)\n",
        "  run['Train/Accuracy'].log(train_total_accuracy)\n",
        "  run['Train/MAE'].log(train_total_mae)\n",
        "\n",
        "#-------------------------------------------------------------------------------------------\n",
        "\n",
        "  # Laço de Validação, um a cada época.\n",
        "  accumulated_loss = 0\n",
        "  accumulated_loss_class = 0\n",
        "  accumulated_loss_reg = 0\n",
        "  accumulated_accuracy = 0\n",
        "  accumulated_mae = 0\n",
        "  model.eval()\n",
        "  with torch.no_grad():\n",
        "    for x_val_i, y_val_regre_i, y_val_class_i in loader_val:\n",
        "      x_val_i = x_val_i.to(device)\n",
        "      y_val_class_i = y_val_class_i.to(device)\n",
        "      y_val_regre_i = y_val_regre_i.to(device)\n",
        "\n",
        "      output_class, output_regre = model(x_val_i)\n",
        "\n",
        "      batch_loss_class = criterion_class(output_class,y_val_class_i.long())\n",
        "      batch_loss_reg = criterion_regre(output_regre[y_val_class_i==0].squeeze(1).float(),y_val_regre_i[y_val_class_i==0].float())\n",
        "      batch_loss = (1-alpha)*batch_loss_class + alpha*batch_loss_reg\n",
        "\n",
        "      bach_accuracy = (output_class.argmax(dim=1) == y_val_class_i).sum()\n",
        "      accumulated_loss += batch_loss.item()\n",
        "      accumulated_loss_class += batch_loss_class.item()\n",
        "      accumulated_loss_reg += batch_loss_reg.item()\n",
        "      accumulated_accuracy += bach_accuracy \n",
        "\n",
        "      denorm_y_val_regre_i = denormalization(y_val_regre_i,y_train_max, y_train_min)\n",
        "      denorm_output_regre = denormalization(output_regre,y_train_max, y_train_min)\n",
        "      accumulated_mae += mean_absolute_error(denorm_y_val_regre_i.cpu().detach(),denorm_output_regre.cpu().detach())\n",
        "\n",
        "\n",
        "\n",
        "  val_loss = accumulated_loss/len(loader_val.dataset)\n",
        "  val_hist_loss.append(val_loss)\n",
        "  val_hist_loss_class.append(accumulated_loss_class)\n",
        "  val_hist_loss_reg.append(accumulated_loss_reg)\n",
        "  val_total_accuracy = accumulated_accuracy/len(loader_val.dataset)\n",
        "  val_total_mae = accumulated_mae/len(loader_val)\n",
        "\n",
        "  run['Validation/Loss'].log(val_loss)\n",
        "  run['Validation/Accuracy'].log(val_total_accuracy)\n",
        "  run['Validation/MAE'].log(val_total_mae)\n",
        "\n",
        "\n",
        "  if(i%50==0):\n",
        "    print(f'Época: {i:d}/{n_epochs:d} \\t| Train Loss: {train_loss:.6f} \\t Val Loss: {val_loss:.6f} \\t| Train Accuracy: {train_total_accuracy} \\t Val Accuracy: {val_total_accuracy} \\t| Train Total Mae: {train_total_mae} \\t Val Total Mae: {val_total_mae}')\n",
        "\n",
        "  if val_loss < best_valid_loss:\n",
        "    torch.save(model.state_dict(),'best_model.pt')\n",
        "    best_valid_loss = val_loss"
      ],
      "execution_count": 32,
      "outputs": [
        {
          "output_type": "stream",
          "text": [
            "Época: 0/1000 \t| Train Loss: 0.001476 \t Val Loss: 0.001297 \t| Train Accuracy: 0.9506617188453674 \t Val Accuracy: 0.9508823156356812 \t| Train Total Mae: 92327.57427131209 \t Val Total Mae: 88961.45452665442\n",
            "Época: 50/1000 \t| Train Loss: 0.000636 \t Val Loss: 0.000620 \t| Train Accuracy: 0.9678676128387451 \t Val Accuracy: 0.9655882120132446 \t| Train Total Mae: 45601.82804917281 \t Val Total Mae: 44036.46525620405\n",
            "Época: 100/1000 \t| Train Loss: 0.000596 \t Val Loss: 0.000576 \t| Train Accuracy: 0.9686764478683472 \t Val Accuracy: 0.9673529267311096 \t| Train Total Mae: 43987.06795424518 \t Val Total Mae: 40670.900430836395\n",
            "Época: 150/1000 \t| Train Loss: 0.000572 \t Val Loss: 0.000580 \t| Train Accuracy: 0.9687499403953552 \t Val Accuracy: 0.964411735534668 \t| Train Total Mae: 42055.73816521138 \t Val Total Mae: 38633.29458409926\n",
            "Época: 200/1000 \t| Train Loss: 0.000557 \t Val Loss: 0.000520 \t| Train Accuracy: 0.9694852828979492 \t Val Accuracy: 0.9688234925270081 \t| Train Total Mae: 41950.81595818013 \t Val Total Mae: 37875.73457375918\n",
            "Época: 250/1000 \t| Train Loss: 0.000537 \t Val Loss: 0.000518 \t| Train Accuracy: 0.9698529243469238 \t Val Accuracy: 0.9691175818443298 \t| Train Total Mae: 40084.47547607424 \t Val Total Mae: 38419.87856387868\n",
            "Época: 300/1000 \t| Train Loss: 0.000526 \t Val Loss: 0.000518 \t| Train Accuracy: 0.9700734615325928 \t Val Accuracy: 0.9688234925270081 \t| Train Total Mae: 40096.39677992875 \t Val Total Mae: 38008.779257812486\n",
            "Época: 350/1000 \t| Train Loss: 0.000533 \t Val Loss: 0.000526 \t| Train Accuracy: 0.9694117307662964 \t Val Accuracy: 0.9670587778091431 \t| Train Total Mae: 40288.66371467145 \t Val Total Mae: 37839.032073759205\n",
            "Época: 400/1000 \t| Train Loss: 0.000516 \t Val Loss: 0.000511 \t| Train Accuracy: 0.9691911339759827 \t Val Accuracy: 0.9667646884918213 \t| Train Total Mae: 38236.612904986236 \t Val Total Mae: 37033.57601907168\n",
            "Época: 450/1000 \t| Train Loss: 0.000517 \t Val Loss: 0.000526 \t| Train Accuracy: 0.9694117307662964 \t Val Accuracy: 0.9691175818443298 \t| Train Total Mae: 38769.04803660671 \t Val Total Mae: 39188.262356387866\n",
            "Época: 500/1000 \t| Train Loss: 0.000503 \t Val Loss: 0.000517 \t| Train Accuracy: 0.9695587754249573 \t Val Accuracy: 0.9702940583229065 \t| Train Total Mae: 37662.27202938305 \t Val Total Mae: 40160.341940487146\n",
            "Época: 550/1000 \t| Train Loss: 0.000498 \t Val Loss: 0.000507 \t| Train Accuracy: 0.9700734615325928 \t Val Accuracy: 0.9691175818443298 \t| Train Total Mae: 37910.532351146016 \t Val Total Mae: 36988.28063763787\n",
            "Época: 600/1000 \t| Train Loss: 0.000494 \t Val Loss: 0.000493 \t| Train Accuracy: 0.9704411625862122 \t Val Accuracy: 0.970588207244873 \t| Train Total Mae: 37116.28658648321 \t Val Total Mae: 37009.22600643381\n",
            "Época: 650/1000 \t| Train Loss: 0.000492 \t Val Loss: 0.000491 \t| Train Accuracy: 0.9696323275566101 \t Val Accuracy: 0.9697058200836182 \t| Train Total Mae: 36946.08330293542 \t Val Total Mae: 35228.72585477941\n",
            "Época: 700/1000 \t| Train Loss: 0.000480 \t Val Loss: 0.000489 \t| Train Accuracy: 0.9713234901428223 \t Val Accuracy: 0.9688234925270081 \t| Train Total Mae: 36180.22547593061 \t Val Total Mae: 34526.0316773897\n",
            "Época: 750/1000 \t| Train Loss: 0.000479 \t Val Loss: 0.000498 \t| Train Accuracy: 0.9710294008255005 \t Val Accuracy: 0.9699999690055847 \t| Train Total Mae: 36179.436205480226 \t Val Total Mae: 35860.81042624081\n",
            "Época: 800/1000 \t| Train Loss: 0.000483 \t Val Loss: 0.000492 \t| Train Accuracy: 0.9697058200836182 \t Val Accuracy: 0.9685293436050415 \t| Train Total Mae: 35947.37619140624 \t Val Total Mae: 36270.26387637868\n",
            "Época: 850/1000 \t| Train Loss: 0.000473 \t Val Loss: 0.000504 \t| Train Accuracy: 0.9698529243469238 \t Val Accuracy: 0.9676470160484314 \t| Train Total Mae: 36066.51463594325 \t Val Total Mae: 35434.01653377757\n",
            "Época: 900/1000 \t| Train Loss: 0.000472 \t Val Loss: 0.000500 \t| Train Accuracy: 0.9698529243469238 \t Val Accuracy: 0.9699999690055847 \t| Train Total Mae: 35240.80200798479 \t Val Total Mae: 39702.67767233455\n",
            "Época: 950/1000 \t| Train Loss: 0.000463 \t Val Loss: 0.000501 \t| Train Accuracy: 0.9708822965621948 \t Val Accuracy: 0.9699999690055847 \t| Train Total Mae: 35219.79762767118 \t Val Total Mae: 40092.012869944854\n",
            "Época: 1000/1000 \t| Train Loss: 0.000463 \t Val Loss: 0.000502 \t| Train Accuracy: 0.9705146551132202 \t Val Accuracy: 0.9673529267311096 \t| Train Total Mae: 34756.38743408204 \t Val Total Mae: 36675.941346507345\n"
          ],
          "name": "stdout"
        }
      ]
    },
    {
      "cell_type": "code",
      "metadata": {
        "colab": {
          "base_uri": "https://localhost:8080/",
          "height": 300
        },
        "id": "7bRUjWZ_R_D-",
        "outputId": "b3a95283-6a6e-4f7d-a16a-8460f6f7de1f"
      },
      "source": [
        "plt.plot(train_hist_loss)\n",
        "plt.plot(train_hist_loss_class)\n",
        "plt.plot(train_hist_loss_reg)\n",
        "plt.legend(['Total Loss', 'Classification Loss', 'Regression Loss'], loc=1)\n",
        "plt.title('Train Losses')\n",
        "''"
      ],
      "execution_count": 33,
      "outputs": [
        {
          "output_type": "execute_result",
          "data": {
            "application/vnd.google.colaboratory.intrinsic+json": {
              "type": "string"
            },
            "text/plain": [
              "''"
            ]
          },
          "metadata": {
            "tags": []
          },
          "execution_count": 33
        },
        {
          "output_type": "display_data",
          "data": {
            "image/png": "[encoded data removed]",
            "text/plain": [
              "<Figure size 432x288 with 1 Axes>"
            ]
          },
          "metadata": {
            "tags": [],
            "needs_background": "light"
          }
        }
      ]
    },
    {
      "cell_type": "code",
      "metadata": {
        "colab": {
          "base_uri": "https://localhost:8080/",
          "height": 300
        },
        "id": "qqqTrlnLOLU0",
        "outputId": "e1963b04-b344-433d-a610-f235cec3ceb7"
      },
      "source": [
        "plt.plot(val_hist_loss)\n",
        "plt.plot(val_hist_loss_class)\n",
        "plt.plot(val_hist_loss_reg)\n",
        "plt.legend(['Total Loss', 'Classification Loss', 'Regression Loss'], loc=1)\n",
        "plt.title('Validation Losses')\n",
        "''"
      ],
      "execution_count": 34,
      "outputs": [
        {
          "output_type": "execute_result",
          "data": {
            "application/vnd.google.colaboratory.intrinsic+json": {
              "type": "string"
            },
            "text/plain": [
              "''"
            ]
          },
          "metadata": {
            "tags": []
          },
          "execution_count": 34
        },
        {
          "output_type": "display_data",
          "data": {
            "image/png": "[encoded data removed]",
            "text/plain": [
              "<Figure size 432x288 with 1 Axes>"
            ]
          },
          "metadata": {
            "tags": [],
            "needs_background": "light"
          }
        }
      ]
    },
    {
      "cell_type": "code",
      "metadata": {
        "colab": {
          "base_uri": "https://localhost:8080/"
        },
        "id": "TUKKqW1MRmBU",
        "outputId": "519298f4-3c0a-48f1-facd-8b70cee3c1ad"
      },
      "source": [
        "param_saved = torch.load('/content/best_model.pt')\n",
        "model.load_state_dict(param_saved)"
      ],
      "execution_count": 35,
      "outputs": [
        {
          "output_type": "execute_result",
          "data": {
            "text/plain": [
              "<All keys matched successfully>"
            ]
          },
          "metadata": {
            "tags": []
          },
          "execution_count": 35
        }
      ]
    },
    {
      "cell_type": "code",
      "metadata": {
        "id": "WqBVE-W8vE3x",
        "colab": {
          "base_uri": "https://localhost:8080/"
        },
        "outputId": "3d02b7ed-09f0-4624-95e9-b83ddca0aafa"
      },
      "source": [
        "accumulated_loss = 0\n",
        "accumulated_loss_class = 0\n",
        "accumulated_loss_reg = 0\n",
        "accumulated_accuracy = 0\n",
        "accumulated_mae = 0\n",
        "model.eval()\n",
        "with torch.no_grad():\n",
        "  for x_test_i, y_test_regre_i, y_test_class_i in loader_test:\n",
        "    x_test_i = x_test_i.to(device)\n",
        "    y_test_class_i = y_test_class_i.to(device)\n",
        "    y_test_regre_i = y_test_regre_i.to(device)\n",
        "\n",
        "    output_class, output_regre = model(x_test_i)\n",
        "\n",
        "    batch_loss_class = criterion_class(output_class,y_test_class_i.long())\n",
        "    batch_loss_reg = criterion_regre(output_regre[y_test_class_i==0].squeeze(1).float(),y_test_regre_i[y_test_class_i==0].float())\n",
        "    batch_loss = (1-alpha)*batch_loss_class + alpha*batch_loss_reg\n",
        "\n",
        "    bach_accuracy = (output_class.argmax(dim=1) == y_test_class_i).sum()\n",
        "    accumulated_loss += batch_loss.item()\n",
        "    accumulated_loss_class += batch_loss_class.item()\n",
        "    accumulated_loss_reg += batch_loss_reg.item()\n",
        "    accumulated_accuracy += bach_accuracy \n",
        "\n",
        "    denorm_y_test_regre_i = denormalization(y_test_regre_i,y_train_max, y_train_min)\n",
        "    denorm_output_regre = denormalization(output_regre,y_train_max, y_train_min)\n",
        "    accumulated_mae += mean_absolute_error(denorm_y_test_regre_i.cpu().detach(),denorm_output_regre.cpu().detach())\n",
        "\n",
        "test_loss = accumulated_loss/len(loader_test.dataset)\n",
        "test_hist_loss.append(test_loss)\n",
        "test_hist_loss_class.append(accumulated_loss_class)\n",
        "test_hist_loss_reg.append(accumulated_loss_reg)\n",
        "test_total_accuracy = accumulated_accuracy/len(loader_val.dataset)\n",
        "test_total_mae = accumulated_mae/len(loader_test)\n",
        "\n",
        "run['Test/Loss'].log(test_loss)\n",
        "run['Test/Accuracy'].log(test_total_accuracy)\n",
        "run['Test/MAE'].log(test_total_mae)\n",
        "\n",
        "\n",
        "print(f'Test Loss: {test_loss:.6f} \\t| Test Accuracy: {test_total_accuracy} \\t| Test Total Mae: {test_total_mae}')\n"
      ],
      "execution_count": 37,
      "outputs": [
        {
          "output_type": "stream",
          "text": [
            "Test Loss: 0.000488 \t| Test Accuracy: 0.8573529124259949 \t| Test Total Mae: 35229.30352213541\n"
          ],
          "name": "stdout"
        }
      ]
    }
  ]
}