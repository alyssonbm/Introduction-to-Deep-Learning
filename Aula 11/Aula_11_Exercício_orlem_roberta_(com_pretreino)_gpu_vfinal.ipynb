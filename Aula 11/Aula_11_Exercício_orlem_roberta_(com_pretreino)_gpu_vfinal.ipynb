{
  "nbformat": 4,
  "nbformat_minor": 0,
  "metadata": {
    "colab": {
      "name": "Aula 11 - Exercício -orlem -roberta-(com pretreino) -gpu - vfinal",
      "provenance": [],
      "collapsed_sections": [],
      "toc_visible": true,
      "machine_shape": "hm"
    },
    "kernelspec": {
      "name": "python3",
      "display_name": "Python 3"
    },
    "accelerator": "GPU",
    "widgets": {
      "application/vnd.jupyter.widget-state+json": {
        "f88517b9cf89418e91b62caedfd0e301": {
          "model_module": "@jupyter-widgets/controls",
          "model_name": "HBoxModel",
          "state": {
            "_view_name": "HBoxView",
            "_dom_classes": [],
            "_model_name": "HBoxModel",
            "_view_module": "@jupyter-widgets/controls",
            "_model_module_version": "1.5.0",
            "_view_count": null,
            "_view_module_version": "1.5.0",
            "box_style": "",
            "layout": "IPY_MODEL_97cdb85005e947b3b09b0b01bc97faf8",
            "_model_module": "@jupyter-widgets/controls",
            "children": [
              "IPY_MODEL_5d803002f12045abbe699413a8b4008c",
              "IPY_MODEL_4b7842b3df6642cc8997be288c8a9112"
            ]
          }
        },
        "97cdb85005e947b3b09b0b01bc97faf8": {
          "model_module": "@jupyter-widgets/base",
          "model_name": "LayoutModel",
          "state": {
            "_view_name": "LayoutView",
            "grid_template_rows": null,
            "right": null,
            "justify_content": null,
            "_view_module": "@jupyter-widgets/base",
            "overflow": null,
            "_model_module_version": "1.2.0",
            "_view_count": null,
            "flex_flow": "row wrap",
            "width": "100%",
            "min_width": null,
            "border": null,
            "align_items": null,
            "bottom": null,
            "_model_module": "@jupyter-widgets/base",
            "top": null,
            "grid_column": null,
            "overflow_y": null,
            "overflow_x": null,
            "grid_auto_flow": null,
            "grid_area": null,
            "grid_template_columns": null,
            "flex": null,
            "_model_name": "LayoutModel",
            "justify_items": null,
            "grid_row": null,
            "max_height": null,
            "align_content": null,
            "visibility": null,
            "align_self": null,
            "height": null,
            "min_height": null,
            "padding": null,
            "grid_auto_rows": null,
            "grid_gap": null,
            "max_width": null,
            "order": null,
            "_view_module_version": "1.2.0",
            "grid_template_areas": null,
            "object_position": null,
            "object_fit": null,
            "grid_auto_columns": null,
            "margin": null,
            "display": "inline-flex",
            "left": null
          }
        },
        "5d803002f12045abbe699413a8b4008c": {
          "model_module": "@jupyter-widgets/controls",
          "model_name": "FloatProgressModel",
          "state": {
            "_view_name": "ProgressView",
            "style": "IPY_MODEL_8acb6e94989e48eaa9719a42e448ec52",
            "_dom_classes": [],
            "description": "Epoch 15: 100%",
            "_model_name": "FloatProgressModel",
            "bar_style": "success",
            "max": 200,
            "_view_module": "@jupyter-widgets/controls",
            "_model_module_version": "1.5.0",
            "value": 200,
            "_view_count": null,
            "_view_module_version": "1.5.0",
            "orientation": "horizontal",
            "min": 0,
            "description_tooltip": null,
            "_model_module": "@jupyter-widgets/controls",
            "layout": "IPY_MODEL_4ab940b86c334fc5be0923b48fbe83a1"
          }
        },
        "4b7842b3df6642cc8997be288c8a9112": {
          "model_module": "@jupyter-widgets/controls",
          "model_name": "HTMLModel",
          "state": {
            "_view_name": "HTMLView",
            "style": "IPY_MODEL_9f41200eb2db429187c5e41687461343",
            "_dom_classes": [],
            "description": "",
            "_model_name": "HTMLModel",
            "placeholder": "​",
            "_view_module": "@jupyter-widgets/controls",
            "_model_module_version": "1.5.0",
            "value": " 200/200 [02:21&lt;00:00,  1.42it/s, loss=0.83, v_num=7-65, cross_loss_step=0.795, train_loss=0.828, val_loss_step=1.150, val_f1_step=0.917, val_acc_step=0.917, val_loss=1.150, val_f1=0.917, val_acc=0.917]",
            "_view_count": null,
            "_view_module_version": "1.5.0",
            "description_tooltip": null,
            "_model_module": "@jupyter-widgets/controls",
            "layout": "IPY_MODEL_f1eb101e791943eda6e078560de9dce4"
          }
        },
        "8acb6e94989e48eaa9719a42e448ec52": {
          "model_module": "@jupyter-widgets/controls",
          "model_name": "ProgressStyleModel",
          "state": {
            "_view_name": "StyleView",
            "_model_name": "ProgressStyleModel",
            "description_width": "initial",
            "_view_module": "@jupyter-widgets/base",
            "_model_module_version": "1.5.0",
            "_view_count": null,
            "_view_module_version": "1.2.0",
            "bar_color": null,
            "_model_module": "@jupyter-widgets/controls"
          }
        },
        "4ab940b86c334fc5be0923b48fbe83a1": {
          "model_module": "@jupyter-widgets/base",
          "model_name": "LayoutModel",
          "state": {
            "_view_name": "LayoutView",
            "grid_template_rows": null,
            "right": null,
            "justify_content": null,
            "_view_module": "@jupyter-widgets/base",
            "overflow": null,
            "_model_module_version": "1.2.0",
            "_view_count": null,
            "flex_flow": null,
            "width": null,
            "min_width": null,
            "border": null,
            "align_items": null,
            "bottom": null,
            "_model_module": "@jupyter-widgets/base",
            "top": null,
            "grid_column": null,
            "overflow_y": null,
            "overflow_x": null,
            "grid_auto_flow": null,
            "grid_area": null,
            "grid_template_columns": null,
            "flex": "2",
            "_model_name": "LayoutModel",
            "justify_items": null,
            "grid_row": null,
            "max_height": null,
            "align_content": null,
            "visibility": null,
            "align_self": null,
            "height": null,
            "min_height": null,
            "padding": null,
            "grid_auto_rows": null,
            "grid_gap": null,
            "max_width": null,
            "order": null,
            "_view_module_version": "1.2.0",
            "grid_template_areas": null,
            "object_position": null,
            "object_fit": null,
            "grid_auto_columns": null,
            "margin": null,
            "display": null,
            "left": null
          }
        },
        "9f41200eb2db429187c5e41687461343": {
          "model_module": "@jupyter-widgets/controls",
          "model_name": "DescriptionStyleModel",
          "state": {
            "_view_name": "StyleView",
            "_model_name": "DescriptionStyleModel",
            "description_width": "",
            "_view_module": "@jupyter-widgets/base",
            "_model_module_version": "1.5.0",
            "_view_count": null,
            "_view_module_version": "1.2.0",
            "_model_module": "@jupyter-widgets/controls"
          }
        },
        "f1eb101e791943eda6e078560de9dce4": {
          "model_module": "@jupyter-widgets/base",
          "model_name": "LayoutModel",
          "state": {
            "_view_name": "LayoutView",
            "grid_template_rows": null,
            "right": null,
            "justify_content": null,
            "_view_module": "@jupyter-widgets/base",
            "overflow": null,
            "_model_module_version": "1.2.0",
            "_view_count": null,
            "flex_flow": null,
            "width": null,
            "min_width": null,
            "border": null,
            "align_items": null,
            "bottom": null,
            "_model_module": "@jupyter-widgets/base",
            "top": null,
            "grid_column": null,
            "overflow_y": null,
            "overflow_x": null,
            "grid_auto_flow": null,
            "grid_area": null,
            "grid_template_columns": null,
            "flex": null,
            "_model_name": "LayoutModel",
            "justify_items": null,
            "grid_row": null,
            "max_height": null,
            "align_content": null,
            "visibility": null,
            "align_self": null,
            "height": null,
            "min_height": null,
            "padding": null,
            "grid_auto_rows": null,
            "grid_gap": null,
            "max_width": null,
            "order": null,
            "_view_module_version": "1.2.0",
            "grid_template_areas": null,
            "object_position": null,
            "object_fit": null,
            "grid_auto_columns": null,
            "margin": null,
            "display": null,
            "left": null
          }
        },
        "896a6758ebba48d685289285e19d9828": {
          "model_module": "@jupyter-widgets/controls",
          "model_name": "HBoxModel",
          "state": {
            "_view_name": "HBoxView",
            "_dom_classes": [],
            "_model_name": "HBoxModel",
            "_view_module": "@jupyter-widgets/controls",
            "_model_module_version": "1.5.0",
            "_view_count": null,
            "_view_module_version": "1.5.0",
            "box_style": "",
            "layout": "IPY_MODEL_8917885aa6014946bae574f1f3dc4fec",
            "_model_module": "@jupyter-widgets/controls",
            "children": [
              "IPY_MODEL_d740529b0e8740e18a05233b3e0cc1f5",
              "IPY_MODEL_0eacaffb5e0143b5b2cb489ccdda450b"
            ]
          }
        },
        "8917885aa6014946bae574f1f3dc4fec": {
          "model_module": "@jupyter-widgets/base",
          "model_name": "LayoutModel",
          "state": {
            "_view_name": "LayoutView",
            "grid_template_rows": null,
            "right": null,
            "justify_content": null,
            "_view_module": "@jupyter-widgets/base",
            "overflow": null,
            "_model_module_version": "1.2.0",
            "_view_count": null,
            "flex_flow": "row wrap",
            "width": "100%",
            "min_width": null,
            "border": null,
            "align_items": null,
            "bottom": null,
            "_model_module": "@jupyter-widgets/base",
            "top": null,
            "grid_column": null,
            "overflow_y": null,
            "overflow_x": null,
            "grid_auto_flow": null,
            "grid_area": null,
            "grid_template_columns": null,
            "flex": null,
            "_model_name": "LayoutModel",
            "justify_items": null,
            "grid_row": null,
            "max_height": null,
            "align_content": null,
            "visibility": null,
            "align_self": null,
            "height": null,
            "min_height": null,
            "padding": null,
            "grid_auto_rows": null,
            "grid_gap": null,
            "max_width": null,
            "order": null,
            "_view_module_version": "1.2.0",
            "grid_template_areas": null,
            "object_position": null,
            "object_fit": null,
            "grid_auto_columns": null,
            "margin": null,
            "display": "inline-flex",
            "left": null
          }
        },
        "d740529b0e8740e18a05233b3e0cc1f5": {
          "model_module": "@jupyter-widgets/controls",
          "model_name": "FloatProgressModel",
          "state": {
            "_view_name": "ProgressView",
            "style": "IPY_MODEL_1647c4bede924fc89b6c368efaf683b8",
            "_dom_classes": [],
            "description": "Validating: 100%",
            "_model_name": "FloatProgressModel",
            "bar_style": "info",
            "max": 30,
            "_view_module": "@jupyter-widgets/controls",
            "_model_module_version": "1.5.0",
            "value": 30,
            "_view_count": null,
            "_view_module_version": "1.5.0",
            "orientation": "horizontal",
            "min": 0,
            "description_tooltip": null,
            "_model_module": "@jupyter-widgets/controls",
            "layout": "IPY_MODEL_990d9050672b492dbf2deb99dac93605"
          }
        },
        "0eacaffb5e0143b5b2cb489ccdda450b": {
          "model_module": "@jupyter-widgets/controls",
          "model_name": "HTMLModel",
          "state": {
            "_view_name": "HTMLView",
            "style": "IPY_MODEL_6b68cb095c634d83a456a9ed6f0e171b",
            "_dom_classes": [],
            "description": "",
            "_model_name": "HTMLModel",
            "placeholder": "​",
            "_view_module": "@jupyter-widgets/controls",
            "_model_module_version": "1.5.0",
            "value": " 30/30 [00:08&lt;00:00,  3.58it/s]",
            "_view_count": null,
            "_view_module_version": "1.5.0",
            "description_tooltip": null,
            "_model_module": "@jupyter-widgets/controls",
            "layout": "IPY_MODEL_327de366a8a6452fae7239ec105d75a8"
          }
        },
        "1647c4bede924fc89b6c368efaf683b8": {
          "model_module": "@jupyter-widgets/controls",
          "model_name": "ProgressStyleModel",
          "state": {
            "_view_name": "StyleView",
            "_model_name": "ProgressStyleModel",
            "description_width": "initial",
            "_view_module": "@jupyter-widgets/base",
            "_model_module_version": "1.5.0",
            "_view_count": null,
            "_view_module_version": "1.2.0",
            "bar_color": null,
            "_model_module": "@jupyter-widgets/controls"
          }
        },
        "990d9050672b492dbf2deb99dac93605": {
          "model_module": "@jupyter-widgets/base",
          "model_name": "LayoutModel",
          "state": {
            "_view_name": "LayoutView",
            "grid_template_rows": null,
            "right": null,
            "justify_content": null,
            "_view_module": "@jupyter-widgets/base",
            "overflow": null,
            "_model_module_version": "1.2.0",
            "_view_count": null,
            "flex_flow": null,
            "width": null,
            "min_width": null,
            "border": null,
            "align_items": null,
            "bottom": null,
            "_model_module": "@jupyter-widgets/base",
            "top": null,
            "grid_column": null,
            "overflow_y": null,
            "overflow_x": null,
            "grid_auto_flow": null,
            "grid_area": null,
            "grid_template_columns": null,
            "flex": "2",
            "_model_name": "LayoutModel",
            "justify_items": null,
            "grid_row": null,
            "max_height": null,
            "align_content": null,
            "visibility": null,
            "align_self": null,
            "height": null,
            "min_height": null,
            "padding": null,
            "grid_auto_rows": null,
            "grid_gap": null,
            "max_width": null,
            "order": null,
            "_view_module_version": "1.2.0",
            "grid_template_areas": null,
            "object_position": null,
            "object_fit": null,
            "grid_auto_columns": null,
            "margin": null,
            "display": null,
            "left": null
          }
        },
        "6b68cb095c634d83a456a9ed6f0e171b": {
          "model_module": "@jupyter-widgets/controls",
          "model_name": "DescriptionStyleModel",
          "state": {
            "_view_name": "StyleView",
            "_model_name": "DescriptionStyleModel",
            "description_width": "",
            "_view_module": "@jupyter-widgets/base",
            "_model_module_version": "1.5.0",
            "_view_count": null,
            "_view_module_version": "1.2.0",
            "_model_module": "@jupyter-widgets/controls"
          }
        },
        "327de366a8a6452fae7239ec105d75a8": {
          "model_module": "@jupyter-widgets/base",
          "model_name": "LayoutModel",
          "state": {
            "_view_name": "LayoutView",
            "grid_template_rows": null,
            "right": null,
            "justify_content": null,
            "_view_module": "@jupyter-widgets/base",
            "overflow": null,
            "_model_module_version": "1.2.0",
            "_view_count": null,
            "flex_flow": null,
            "width": null,
            "min_width": null,
            "border": null,
            "align_items": null,
            "bottom": null,
            "_model_module": "@jupyter-widgets/base",
            "top": null,
            "grid_column": null,
            "overflow_y": null,
            "overflow_x": null,
            "grid_auto_flow": null,
            "grid_area": null,
            "grid_template_columns": null,
            "flex": null,
            "_model_name": "LayoutModel",
            "justify_items": null,
            "grid_row": null,
            "max_height": null,
            "align_content": null,
            "visibility": null,
            "align_self": null,
            "height": null,
            "min_height": null,
            "padding": null,
            "grid_auto_rows": null,
            "grid_gap": null,
            "max_width": null,
            "order": null,
            "_view_module_version": "1.2.0",
            "grid_template_areas": null,
            "object_position": null,
            "object_fit": null,
            "grid_auto_columns": null,
            "margin": null,
            "display": null,
            "left": null
          }
        },
        "ce0170ad80b84c12ac15ca7c63d6be09": {
          "model_module": "@jupyter-widgets/controls",
          "model_name": "HBoxModel",
          "state": {
            "_view_name": "HBoxView",
            "_dom_classes": [],
            "_model_name": "HBoxModel",
            "_view_module": "@jupyter-widgets/controls",
            "_model_module_version": "1.5.0",
            "_view_count": null,
            "_view_module_version": "1.5.0",
            "box_style": "",
            "layout": "IPY_MODEL_3b7963d0c82548a5bb7e2b63a7f6e27c",
            "_model_module": "@jupyter-widgets/controls",
            "children": [
              "IPY_MODEL_f457fb97b59e4f3790fe3b80c473f364",
              "IPY_MODEL_4afaf75e39554ae38c102fceecf90e0f"
            ]
          }
        },
        "3b7963d0c82548a5bb7e2b63a7f6e27c": {
          "model_module": "@jupyter-widgets/base",
          "model_name": "LayoutModel",
          "state": {
            "_view_name": "LayoutView",
            "grid_template_rows": null,
            "right": null,
            "justify_content": null,
            "_view_module": "@jupyter-widgets/base",
            "overflow": null,
            "_model_module_version": "1.2.0",
            "_view_count": null,
            "flex_flow": "row wrap",
            "width": "100%",
            "min_width": null,
            "border": null,
            "align_items": null,
            "bottom": null,
            "_model_module": "@jupyter-widgets/base",
            "top": null,
            "grid_column": null,
            "overflow_y": null,
            "overflow_x": null,
            "grid_auto_flow": null,
            "grid_area": null,
            "grid_template_columns": null,
            "flex": null,
            "_model_name": "LayoutModel",
            "justify_items": null,
            "grid_row": null,
            "max_height": null,
            "align_content": null,
            "visibility": null,
            "align_self": null,
            "height": null,
            "min_height": null,
            "padding": null,
            "grid_auto_rows": null,
            "grid_gap": null,
            "max_width": null,
            "order": null,
            "_view_module_version": "1.2.0",
            "grid_template_areas": null,
            "object_position": null,
            "object_fit": null,
            "grid_auto_columns": null,
            "margin": null,
            "display": "inline-flex",
            "left": null
          }
        },
        "f457fb97b59e4f3790fe3b80c473f364": {
          "model_module": "@jupyter-widgets/controls",
          "model_name": "FloatProgressModel",
          "state": {
            "_view_name": "ProgressView",
            "style": "IPY_MODEL_2fd63cbdb45144da9772af4bbfb5f6b9",
            "_dom_classes": [],
            "description": "Validating: 100%",
            "_model_name": "FloatProgressModel",
            "bar_style": "info",
            "max": 30,
            "_view_module": "@jupyter-widgets/controls",
            "_model_module_version": "1.5.0",
            "value": 30,
            "_view_count": null,
            "_view_module_version": "1.5.0",
            "orientation": "horizontal",
            "min": 0,
            "description_tooltip": null,
            "_model_module": "@jupyter-widgets/controls",
            "layout": "IPY_MODEL_2aa328ed8e2244e28c24215fd2ab242c"
          }
        },
        "4afaf75e39554ae38c102fceecf90e0f": {
          "model_module": "@jupyter-widgets/controls",
          "model_name": "HTMLModel",
          "state": {
            "_view_name": "HTMLView",
            "style": "IPY_MODEL_8249b76f894c4c44a9558fd2d724eafe",
            "_dom_classes": [],
            "description": "",
            "_model_name": "HTMLModel",
            "placeholder": "​",
            "_view_module": "@jupyter-widgets/controls",
            "_model_module_version": "1.5.0",
            "value": " 30/30 [00:08&lt;00:00,  3.49it/s]",
            "_view_count": null,
            "_view_module_version": "1.5.0",
            "description_tooltip": null,
            "_model_module": "@jupyter-widgets/controls",
            "layout": "IPY_MODEL_08973765556649799aa529db11edf4b1"
          }
        },
        "2fd63cbdb45144da9772af4bbfb5f6b9": {
          "model_module": "@jupyter-widgets/controls",
          "model_name": "ProgressStyleModel",
          "state": {
            "_view_name": "StyleView",
            "_model_name": "ProgressStyleModel",
            "description_width": "initial",
            "_view_module": "@jupyter-widgets/base",
            "_model_module_version": "1.5.0",
            "_view_count": null,
            "_view_module_version": "1.2.0",
            "bar_color": null,
            "_model_module": "@jupyter-widgets/controls"
          }
        },
        "2aa328ed8e2244e28c24215fd2ab242c": {
          "model_module": "@jupyter-widgets/base",
          "model_name": "LayoutModel",
          "state": {
            "_view_name": "LayoutView",
            "grid_template_rows": null,
            "right": null,
            "justify_content": null,
            "_view_module": "@jupyter-widgets/base",
            "overflow": null,
            "_model_module_version": "1.2.0",
            "_view_count": null,
            "flex_flow": null,
            "width": null,
            "min_width": null,
            "border": null,
            "align_items": null,
            "bottom": null,
            "_model_module": "@jupyter-widgets/base",
            "top": null,
            "grid_column": null,
            "overflow_y": null,
            "overflow_x": null,
            "grid_auto_flow": null,
            "grid_area": null,
            "grid_template_columns": null,
            "flex": "2",
            "_model_name": "LayoutModel",
            "justify_items": null,
            "grid_row": null,
            "max_height": null,
            "align_content": null,
            "visibility": null,
            "align_self": null,
            "height": null,
            "min_height": null,
            "padding": null,
            "grid_auto_rows": null,
            "grid_gap": null,
            "max_width": null,
            "order": null,
            "_view_module_version": "1.2.0",
            "grid_template_areas": null,
            "object_position": null,
            "object_fit": null,
            "grid_auto_columns": null,
            "margin": null,
            "display": null,
            "left": null
          }
        },
        "8249b76f894c4c44a9558fd2d724eafe": {
          "model_module": "@jupyter-widgets/controls",
          "model_name": "DescriptionStyleModel",
          "state": {
            "_view_name": "StyleView",
            "_model_name": "DescriptionStyleModel",
            "description_width": "",
            "_view_module": "@jupyter-widgets/base",
            "_model_module_version": "1.5.0",
            "_view_count": null,
            "_view_module_version": "1.2.0",
            "_model_module": "@jupyter-widgets/controls"
          }
        },
        "08973765556649799aa529db11edf4b1": {
          "model_module": "@jupyter-widgets/base",
          "model_name": "LayoutModel",
          "state": {
            "_view_name": "LayoutView",
            "grid_template_rows": null,
            "right": null,
            "justify_content": null,
            "_view_module": "@jupyter-widgets/base",
            "overflow": null,
            "_model_module_version": "1.2.0",
            "_view_count": null,
            "flex_flow": null,
            "width": null,
            "min_width": null,
            "border": null,
            "align_items": null,
            "bottom": null,
            "_model_module": "@jupyter-widgets/base",
            "top": null,
            "grid_column": null,
            "overflow_y": null,
            "overflow_x": null,
            "grid_auto_flow": null,
            "grid_area": null,
            "grid_template_columns": null,
            "flex": null,
            "_model_name": "LayoutModel",
            "justify_items": null,
            "grid_row": null,
            "max_height": null,
            "align_content": null,
            "visibility": null,
            "align_self": null,
            "height": null,
            "min_height": null,
            "padding": null,
            "grid_auto_rows": null,
            "grid_gap": null,
            "max_width": null,
            "order": null,
            "_view_module_version": "1.2.0",
            "grid_template_areas": null,
            "object_position": null,
            "object_fit": null,
            "grid_auto_columns": null,
            "margin": null,
            "display": null,
            "left": null
          }
        },
        "2dcde2e3fb6744478b074337c10dd459": {
          "model_module": "@jupyter-widgets/controls",
          "model_name": "HBoxModel",
          "state": {
            "_view_name": "HBoxView",
            "_dom_classes": [],
            "_model_name": "HBoxModel",
            "_view_module": "@jupyter-widgets/controls",
            "_model_module_version": "1.5.0",
            "_view_count": null,
            "_view_module_version": "1.5.0",
            "box_style": "",
            "layout": "IPY_MODEL_062a2b5ee68a46a0accc7ef6a726449a",
            "_model_module": "@jupyter-widgets/controls",
            "children": [
              "IPY_MODEL_526e9feab6e243aeb5146f26a0d21e87",
              "IPY_MODEL_dbcb5d5c63df402b8cbcc15748eae163"
            ]
          }
        },
        "062a2b5ee68a46a0accc7ef6a726449a": {
          "model_module": "@jupyter-widgets/base",
          "model_name": "LayoutModel",
          "state": {
            "_view_name": "LayoutView",
            "grid_template_rows": null,
            "right": null,
            "justify_content": null,
            "_view_module": "@jupyter-widgets/base",
            "overflow": null,
            "_model_module_version": "1.2.0",
            "_view_count": null,
            "flex_flow": "row wrap",
            "width": "100%",
            "min_width": null,
            "border": null,
            "align_items": null,
            "bottom": null,
            "_model_module": "@jupyter-widgets/base",
            "top": null,
            "grid_column": null,
            "overflow_y": null,
            "overflow_x": null,
            "grid_auto_flow": null,
            "grid_area": null,
            "grid_template_columns": null,
            "flex": null,
            "_model_name": "LayoutModel",
            "justify_items": null,
            "grid_row": null,
            "max_height": null,
            "align_content": null,
            "visibility": null,
            "align_self": null,
            "height": null,
            "min_height": null,
            "padding": null,
            "grid_auto_rows": null,
            "grid_gap": null,
            "max_width": null,
            "order": null,
            "_view_module_version": "1.2.0",
            "grid_template_areas": null,
            "object_position": null,
            "object_fit": null,
            "grid_auto_columns": null,
            "margin": null,
            "display": "inline-flex",
            "left": null
          }
        },
        "526e9feab6e243aeb5146f26a0d21e87": {
          "model_module": "@jupyter-widgets/controls",
          "model_name": "FloatProgressModel",
          "state": {
            "_view_name": "ProgressView",
            "style": "IPY_MODEL_22a29cafe1c647468da1ee5a0dfa6210",
            "_dom_classes": [],
            "description": "Validating: 100%",
            "_model_name": "FloatProgressModel",
            "bar_style": "info",
            "max": 30,
            "_view_module": "@jupyter-widgets/controls",
            "_model_module_version": "1.5.0",
            "value": 30,
            "_view_count": null,
            "_view_module_version": "1.5.0",
            "orientation": "horizontal",
            "min": 0,
            "description_tooltip": null,
            "_model_module": "@jupyter-widgets/controls",
            "layout": "IPY_MODEL_62ad5b3ae10e43aba2c992cd9038a5f2"
          }
        },
        "dbcb5d5c63df402b8cbcc15748eae163": {
          "model_module": "@jupyter-widgets/controls",
          "model_name": "HTMLModel",
          "state": {
            "_view_name": "HTMLView",
            "style": "IPY_MODEL_da0a7e8e59b94e5abff04ae3433ebe0e",
            "_dom_classes": [],
            "description": "",
            "_model_name": "HTMLModel",
            "placeholder": "​",
            "_view_module": "@jupyter-widgets/controls",
            "_model_module_version": "1.5.0",
            "value": " 30/30 [00:08&lt;00:00,  3.51it/s]",
            "_view_count": null,
            "_view_module_version": "1.5.0",
            "description_tooltip": null,
            "_model_module": "@jupyter-widgets/controls",
            "layout": "IPY_MODEL_efdce4d6044a4aab99073a4bdfbdcac8"
          }
        },
        "22a29cafe1c647468da1ee5a0dfa6210": {
          "model_module": "@jupyter-widgets/controls",
          "model_name": "ProgressStyleModel",
          "state": {
            "_view_name": "StyleView",
            "_model_name": "ProgressStyleModel",
            "description_width": "initial",
            "_view_module": "@jupyter-widgets/base",
            "_model_module_version": "1.5.0",
            "_view_count": null,
            "_view_module_version": "1.2.0",
            "bar_color": null,
            "_model_module": "@jupyter-widgets/controls"
          }
        },
        "62ad5b3ae10e43aba2c992cd9038a5f2": {
          "model_module": "@jupyter-widgets/base",
          "model_name": "LayoutModel",
          "state": {
            "_view_name": "LayoutView",
            "grid_template_rows": null,
            "right": null,
            "justify_content": null,
            "_view_module": "@jupyter-widgets/base",
            "overflow": null,
            "_model_module_version": "1.2.0",
            "_view_count": null,
            "flex_flow": null,
            "width": null,
            "min_width": null,
            "border": null,
            "align_items": null,
            "bottom": null,
            "_model_module": "@jupyter-widgets/base",
            "top": null,
            "grid_column": null,
            "overflow_y": null,
            "overflow_x": null,
            "grid_auto_flow": null,
            "grid_area": null,
            "grid_template_columns": null,
            "flex": "2",
            "_model_name": "LayoutModel",
            "justify_items": null,
            "grid_row": null,
            "max_height": null,
            "align_content": null,
            "visibility": null,
            "align_self": null,
            "height": null,
            "min_height": null,
            "padding": null,
            "grid_auto_rows": null,
            "grid_gap": null,
            "max_width": null,
            "order": null,
            "_view_module_version": "1.2.0",
            "grid_template_areas": null,
            "object_position": null,
            "object_fit": null,
            "grid_auto_columns": null,
            "margin": null,
            "display": null,
            "left": null
          }
        },
        "da0a7e8e59b94e5abff04ae3433ebe0e": {
          "model_module": "@jupyter-widgets/controls",
          "model_name": "DescriptionStyleModel",
          "state": {
            "_view_name": "StyleView",
            "_model_name": "DescriptionStyleModel",
            "description_width": "",
            "_view_module": "@jupyter-widgets/base",
            "_model_module_version": "1.5.0",
            "_view_count": null,
            "_view_module_version": "1.2.0",
            "_model_module": "@jupyter-widgets/controls"
          }
        },
        "efdce4d6044a4aab99073a4bdfbdcac8": {
          "model_module": "@jupyter-widgets/base",
          "model_name": "LayoutModel",
          "state": {
            "_view_name": "LayoutView",
            "grid_template_rows": null,
            "right": null,
            "justify_content": null,
            "_view_module": "@jupyter-widgets/base",
            "overflow": null,
            "_model_module_version": "1.2.0",
            "_view_count": null,
            "flex_flow": null,
            "width": null,
            "min_width": null,
            "border": null,
            "align_items": null,
            "bottom": null,
            "_model_module": "@jupyter-widgets/base",
            "top": null,
            "grid_column": null,
            "overflow_y": null,
            "overflow_x": null,
            "grid_auto_flow": null,
            "grid_area": null,
            "grid_template_columns": null,
            "flex": null,
            "_model_name": "LayoutModel",
            "justify_items": null,
            "grid_row": null,
            "max_height": null,
            "align_content": null,
            "visibility": null,
            "align_self": null,
            "height": null,
            "min_height": null,
            "padding": null,
            "grid_auto_rows": null,
            "grid_gap": null,
            "max_width": null,
            "order": null,
            "_view_module_version": "1.2.0",
            "grid_template_areas": null,
            "object_position": null,
            "object_fit": null,
            "grid_auto_columns": null,
            "margin": null,
            "display": null,
            "left": null
          }
        },
        "672ca83dc3e7424eb4543ca91457605f": {
          "model_module": "@jupyter-widgets/controls",
          "model_name": "HBoxModel",
          "state": {
            "_view_name": "HBoxView",
            "_dom_classes": [],
            "_model_name": "HBoxModel",
            "_view_module": "@jupyter-widgets/controls",
            "_model_module_version": "1.5.0",
            "_view_count": null,
            "_view_module_version": "1.5.0",
            "box_style": "",
            "layout": "IPY_MODEL_fab1ff65f5d8404281552f0cea773f8e",
            "_model_module": "@jupyter-widgets/controls",
            "children": [
              "IPY_MODEL_9639fbc112db44ad934021fe7eae9651",
              "IPY_MODEL_39fcd53e6cb44961b088d1f98e71030a"
            ]
          }
        },
        "fab1ff65f5d8404281552f0cea773f8e": {
          "model_module": "@jupyter-widgets/base",
          "model_name": "LayoutModel",
          "state": {
            "_view_name": "LayoutView",
            "grid_template_rows": null,
            "right": null,
            "justify_content": null,
            "_view_module": "@jupyter-widgets/base",
            "overflow": null,
            "_model_module_version": "1.2.0",
            "_view_count": null,
            "flex_flow": "row wrap",
            "width": "100%",
            "min_width": null,
            "border": null,
            "align_items": null,
            "bottom": null,
            "_model_module": "@jupyter-widgets/base",
            "top": null,
            "grid_column": null,
            "overflow_y": null,
            "overflow_x": null,
            "grid_auto_flow": null,
            "grid_area": null,
            "grid_template_columns": null,
            "flex": null,
            "_model_name": "LayoutModel",
            "justify_items": null,
            "grid_row": null,
            "max_height": null,
            "align_content": null,
            "visibility": null,
            "align_self": null,
            "height": null,
            "min_height": null,
            "padding": null,
            "grid_auto_rows": null,
            "grid_gap": null,
            "max_width": null,
            "order": null,
            "_view_module_version": "1.2.0",
            "grid_template_areas": null,
            "object_position": null,
            "object_fit": null,
            "grid_auto_columns": null,
            "margin": null,
            "display": "inline-flex",
            "left": null
          }
        },
        "9639fbc112db44ad934021fe7eae9651": {
          "model_module": "@jupyter-widgets/controls",
          "model_name": "FloatProgressModel",
          "state": {
            "_view_name": "ProgressView",
            "style": "IPY_MODEL_a0e1561d39ba404982ff0612478f9771",
            "_dom_classes": [],
            "description": "Validating: 100%",
            "_model_name": "FloatProgressModel",
            "bar_style": "info",
            "max": 30,
            "_view_module": "@jupyter-widgets/controls",
            "_model_module_version": "1.5.0",
            "value": 30,
            "_view_count": null,
            "_view_module_version": "1.5.0",
            "orientation": "horizontal",
            "min": 0,
            "description_tooltip": null,
            "_model_module": "@jupyter-widgets/controls",
            "layout": "IPY_MODEL_afc9d3b7621c4564bfa3fbdbafcbcaee"
          }
        },
        "39fcd53e6cb44961b088d1f98e71030a": {
          "model_module": "@jupyter-widgets/controls",
          "model_name": "HTMLModel",
          "state": {
            "_view_name": "HTMLView",
            "style": "IPY_MODEL_0de3621412904136875c3099272b3951",
            "_dom_classes": [],
            "description": "",
            "_model_name": "HTMLModel",
            "placeholder": "​",
            "_view_module": "@jupyter-widgets/controls",
            "_model_module_version": "1.5.0",
            "value": " 30/30 [00:08&lt;00:00,  3.50it/s]",
            "_view_count": null,
            "_view_module_version": "1.5.0",
            "description_tooltip": null,
            "_model_module": "@jupyter-widgets/controls",
            "layout": "IPY_MODEL_e9a404738c254dac9e13128c7d2f09ba"
          }
        },
        "a0e1561d39ba404982ff0612478f9771": {
          "model_module": "@jupyter-widgets/controls",
          "model_name": "ProgressStyleModel",
          "state": {
            "_view_name": "StyleView",
            "_model_name": "ProgressStyleModel",
            "description_width": "initial",
            "_view_module": "@jupyter-widgets/base",
            "_model_module_version": "1.5.0",
            "_view_count": null,
            "_view_module_version": "1.2.0",
            "bar_color": null,
            "_model_module": "@jupyter-widgets/controls"
          }
        },
        "afc9d3b7621c4564bfa3fbdbafcbcaee": {
          "model_module": "@jupyter-widgets/base",
          "model_name": "LayoutModel",
          "state": {
            "_view_name": "LayoutView",
            "grid_template_rows": null,
            "right": null,
            "justify_content": null,
            "_view_module": "@jupyter-widgets/base",
            "overflow": null,
            "_model_module_version": "1.2.0",
            "_view_count": null,
            "flex_flow": null,
            "width": null,
            "min_width": null,
            "border": null,
            "align_items": null,
            "bottom": null,
            "_model_module": "@jupyter-widgets/base",
            "top": null,
            "grid_column": null,
            "overflow_y": null,
            "overflow_x": null,
            "grid_auto_flow": null,
            "grid_area": null,
            "grid_template_columns": null,
            "flex": "2",
            "_model_name": "LayoutModel",
            "justify_items": null,
            "grid_row": null,
            "max_height": null,
            "align_content": null,
            "visibility": null,
            "align_self": null,
            "height": null,
            "min_height": null,
            "padding": null,
            "grid_auto_rows": null,
            "grid_gap": null,
            "max_width": null,
            "order": null,
            "_view_module_version": "1.2.0",
            "grid_template_areas": null,
            "object_position": null,
            "object_fit": null,
            "grid_auto_columns": null,
            "margin": null,
            "display": null,
            "left": null
          }
        },
        "0de3621412904136875c3099272b3951": {
          "model_module": "@jupyter-widgets/controls",
          "model_name": "DescriptionStyleModel",
          "state": {
            "_view_name": "StyleView",
            "_model_name": "DescriptionStyleModel",
            "description_width": "",
            "_view_module": "@jupyter-widgets/base",
            "_model_module_version": "1.5.0",
            "_view_count": null,
            "_view_module_version": "1.2.0",
            "_model_module": "@jupyter-widgets/controls"
          }
        },
        "e9a404738c254dac9e13128c7d2f09ba": {
          "model_module": "@jupyter-widgets/base",
          "model_name": "LayoutModel",
          "state": {
            "_view_name": "LayoutView",
            "grid_template_rows": null,
            "right": null,
            "justify_content": null,
            "_view_module": "@jupyter-widgets/base",
            "overflow": null,
            "_model_module_version": "1.2.0",
            "_view_count": null,
            "flex_flow": null,
            "width": null,
            "min_width": null,
            "border": null,
            "align_items": null,
            "bottom": null,
            "_model_module": "@jupyter-widgets/base",
            "top": null,
            "grid_column": null,
            "overflow_y": null,
            "overflow_x": null,
            "grid_auto_flow": null,
            "grid_area": null,
            "grid_template_columns": null,
            "flex": null,
            "_model_name": "LayoutModel",
            "justify_items": null,
            "grid_row": null,
            "max_height": null,
            "align_content": null,
            "visibility": null,
            "align_self": null,
            "height": null,
            "min_height": null,
            "padding": null,
            "grid_auto_rows": null,
            "grid_gap": null,
            "max_width": null,
            "order": null,
            "_view_module_version": "1.2.0",
            "grid_template_areas": null,
            "object_position": null,
            "object_fit": null,
            "grid_auto_columns": null,
            "margin": null,
            "display": null,
            "left": null
          }
        },
        "14d85720be1641b7885dec63fe9d25cc": {
          "model_module": "@jupyter-widgets/controls",
          "model_name": "HBoxModel",
          "state": {
            "_view_name": "HBoxView",
            "_dom_classes": [],
            "_model_name": "HBoxModel",
            "_view_module": "@jupyter-widgets/controls",
            "_model_module_version": "1.5.0",
            "_view_count": null,
            "_view_module_version": "1.5.0",
            "box_style": "",
            "layout": "IPY_MODEL_e82eb99c730040988d9671e558eb11da",
            "_model_module": "@jupyter-widgets/controls",
            "children": [
              "IPY_MODEL_aa59aaaeb8bf4414a4038528ef91c22e",
              "IPY_MODEL_b17c29ac08e64dfc9d69e01efcc31b3e"
            ]
          }
        },
        "e82eb99c730040988d9671e558eb11da": {
          "model_module": "@jupyter-widgets/base",
          "model_name": "LayoutModel",
          "state": {
            "_view_name": "LayoutView",
            "grid_template_rows": null,
            "right": null,
            "justify_content": null,
            "_view_module": "@jupyter-widgets/base",
            "overflow": null,
            "_model_module_version": "1.2.0",
            "_view_count": null,
            "flex_flow": "row wrap",
            "width": "100%",
            "min_width": null,
            "border": null,
            "align_items": null,
            "bottom": null,
            "_model_module": "@jupyter-widgets/base",
            "top": null,
            "grid_column": null,
            "overflow_y": null,
            "overflow_x": null,
            "grid_auto_flow": null,
            "grid_area": null,
            "grid_template_columns": null,
            "flex": null,
            "_model_name": "LayoutModel",
            "justify_items": null,
            "grid_row": null,
            "max_height": null,
            "align_content": null,
            "visibility": null,
            "align_self": null,
            "height": null,
            "min_height": null,
            "padding": null,
            "grid_auto_rows": null,
            "grid_gap": null,
            "max_width": null,
            "order": null,
            "_view_module_version": "1.2.0",
            "grid_template_areas": null,
            "object_position": null,
            "object_fit": null,
            "grid_auto_columns": null,
            "margin": null,
            "display": "inline-flex",
            "left": null
          }
        },
        "aa59aaaeb8bf4414a4038528ef91c22e": {
          "model_module": "@jupyter-widgets/controls",
          "model_name": "FloatProgressModel",
          "state": {
            "_view_name": "ProgressView",
            "style": "IPY_MODEL_ff708ba59a6a42178b2a4797ce8976b1",
            "_dom_classes": [],
            "description": "Validating: 100%",
            "_model_name": "FloatProgressModel",
            "bar_style": "info",
            "max": 30,
            "_view_module": "@jupyter-widgets/controls",
            "_model_module_version": "1.5.0",
            "value": 30,
            "_view_count": null,
            "_view_module_version": "1.5.0",
            "orientation": "horizontal",
            "min": 0,
            "description_tooltip": null,
            "_model_module": "@jupyter-widgets/controls",
            "layout": "IPY_MODEL_17931ef25d5642f08996d39e4de94305"
          }
        },
        "b17c29ac08e64dfc9d69e01efcc31b3e": {
          "model_module": "@jupyter-widgets/controls",
          "model_name": "HTMLModel",
          "state": {
            "_view_name": "HTMLView",
            "style": "IPY_MODEL_66268216373049fb9a0e01b48ab328cd",
            "_dom_classes": [],
            "description": "",
            "_model_name": "HTMLModel",
            "placeholder": "​",
            "_view_module": "@jupyter-widgets/controls",
            "_model_module_version": "1.5.0",
            "value": " 30/30 [00:08&lt;00:00,  3.46it/s]",
            "_view_count": null,
            "_view_module_version": "1.5.0",
            "description_tooltip": null,
            "_model_module": "@jupyter-widgets/controls",
            "layout": "IPY_MODEL_f8fa291604d84dfd8251286227aed994"
          }
        },
        "ff708ba59a6a42178b2a4797ce8976b1": {
          "model_module": "@jupyter-widgets/controls",
          "model_name": "ProgressStyleModel",
          "state": {
            "_view_name": "StyleView",
            "_model_name": "ProgressStyleModel",
            "description_width": "initial",
            "_view_module": "@jupyter-widgets/base",
            "_model_module_version": "1.5.0",
            "_view_count": null,
            "_view_module_version": "1.2.0",
            "bar_color": null,
            "_model_module": "@jupyter-widgets/controls"
          }
        },
        "17931ef25d5642f08996d39e4de94305": {
          "model_module": "@jupyter-widgets/base",
          "model_name": "LayoutModel",
          "state": {
            "_view_name": "LayoutView",
            "grid_template_rows": null,
            "right": null,
            "justify_content": null,
            "_view_module": "@jupyter-widgets/base",
            "overflow": null,
            "_model_module_version": "1.2.0",
            "_view_count": null,
            "flex_flow": null,
            "width": null,
            "min_width": null,
            "border": null,
            "align_items": null,
            "bottom": null,
            "_model_module": "@jupyter-widgets/base",
            "top": null,
            "grid_column": null,
            "overflow_y": null,
            "overflow_x": null,
            "grid_auto_flow": null,
            "grid_area": null,
            "grid_template_columns": null,
            "flex": "2",
            "_model_name": "LayoutModel",
            "justify_items": null,
            "grid_row": null,
            "max_height": null,
            "align_content": null,
            "visibility": null,
            "align_self": null,
            "height": null,
            "min_height": null,
            "padding": null,
            "grid_auto_rows": null,
            "grid_gap": null,
            "max_width": null,
            "order": null,
            "_view_module_version": "1.2.0",
            "grid_template_areas": null,
            "object_position": null,
            "object_fit": null,
            "grid_auto_columns": null,
            "margin": null,
            "display": null,
            "left": null
          }
        },
        "66268216373049fb9a0e01b48ab328cd": {
          "model_module": "@jupyter-widgets/controls",
          "model_name": "DescriptionStyleModel",
          "state": {
            "_view_name": "StyleView",
            "_model_name": "DescriptionStyleModel",
            "description_width": "",
            "_view_module": "@jupyter-widgets/base",
            "_model_module_version": "1.5.0",
            "_view_count": null,
            "_view_module_version": "1.2.0",
            "_model_module": "@jupyter-widgets/controls"
          }
        },
        "f8fa291604d84dfd8251286227aed994": {
          "model_module": "@jupyter-widgets/base",
          "model_name": "LayoutModel",
          "state": {
            "_view_name": "LayoutView",
            "grid_template_rows": null,
            "right": null,
            "justify_content": null,
            "_view_module": "@jupyter-widgets/base",
            "overflow": null,
            "_model_module_version": "1.2.0",
            "_view_count": null,
            "flex_flow": null,
            "width": null,
            "min_width": null,
            "border": null,
            "align_items": null,
            "bottom": null,
            "_model_module": "@jupyter-widgets/base",
            "top": null,
            "grid_column": null,
            "overflow_y": null,
            "overflow_x": null,
            "grid_auto_flow": null,
            "grid_area": null,
            "grid_template_columns": null,
            "flex": null,
            "_model_name": "LayoutModel",
            "justify_items": null,
            "grid_row": null,
            "max_height": null,
            "align_content": null,
            "visibility": null,
            "align_self": null,
            "height": null,
            "min_height": null,
            "padding": null,
            "grid_auto_rows": null,
            "grid_gap": null,
            "max_width": null,
            "order": null,
            "_view_module_version": "1.2.0",
            "grid_template_areas": null,
            "object_position": null,
            "object_fit": null,
            "grid_auto_columns": null,
            "margin": null,
            "display": null,
            "left": null
          }
        },
        "d0109c4f060a4aada10a29e6c005d170": {
          "model_module": "@jupyter-widgets/controls",
          "model_name": "HBoxModel",
          "state": {
            "_view_name": "HBoxView",
            "_dom_classes": [],
            "_model_name": "HBoxModel",
            "_view_module": "@jupyter-widgets/controls",
            "_model_module_version": "1.5.0",
            "_view_count": null,
            "_view_module_version": "1.5.0",
            "box_style": "",
            "layout": "IPY_MODEL_45add4d584ab42fb87c680e554109340",
            "_model_module": "@jupyter-widgets/controls",
            "children": [
              "IPY_MODEL_1d44c24675314a4fb0f2116ab0e8afca",
              "IPY_MODEL_702fb378b8d94695af252a7124a32c93"
            ]
          }
        },
        "45add4d584ab42fb87c680e554109340": {
          "model_module": "@jupyter-widgets/base",
          "model_name": "LayoutModel",
          "state": {
            "_view_name": "LayoutView",
            "grid_template_rows": null,
            "right": null,
            "justify_content": null,
            "_view_module": "@jupyter-widgets/base",
            "overflow": null,
            "_model_module_version": "1.2.0",
            "_view_count": null,
            "flex_flow": "row wrap",
            "width": "100%",
            "min_width": null,
            "border": null,
            "align_items": null,
            "bottom": null,
            "_model_module": "@jupyter-widgets/base",
            "top": null,
            "grid_column": null,
            "overflow_y": null,
            "overflow_x": null,
            "grid_auto_flow": null,
            "grid_area": null,
            "grid_template_columns": null,
            "flex": null,
            "_model_name": "LayoutModel",
            "justify_items": null,
            "grid_row": null,
            "max_height": null,
            "align_content": null,
            "visibility": null,
            "align_self": null,
            "height": null,
            "min_height": null,
            "padding": null,
            "grid_auto_rows": null,
            "grid_gap": null,
            "max_width": null,
            "order": null,
            "_view_module_version": "1.2.0",
            "grid_template_areas": null,
            "object_position": null,
            "object_fit": null,
            "grid_auto_columns": null,
            "margin": null,
            "display": "inline-flex",
            "left": null
          }
        },
        "1d44c24675314a4fb0f2116ab0e8afca": {
          "model_module": "@jupyter-widgets/controls",
          "model_name": "FloatProgressModel",
          "state": {
            "_view_name": "ProgressView",
            "style": "IPY_MODEL_633973b1795b4a74a58becb311d9cc74",
            "_dom_classes": [],
            "description": "Validating: 100%",
            "_model_name": "FloatProgressModel",
            "bar_style": "info",
            "max": 30,
            "_view_module": "@jupyter-widgets/controls",
            "_model_module_version": "1.5.0",
            "value": 30,
            "_view_count": null,
            "_view_module_version": "1.5.0",
            "orientation": "horizontal",
            "min": 0,
            "description_tooltip": null,
            "_model_module": "@jupyter-widgets/controls",
            "layout": "IPY_MODEL_6e0e484a72f74b8fb1c85386d479e68d"
          }
        },
        "702fb378b8d94695af252a7124a32c93": {
          "model_module": "@jupyter-widgets/controls",
          "model_name": "HTMLModel",
          "state": {
            "_view_name": "HTMLView",
            "style": "IPY_MODEL_e5c63fda14ff4c3ca0cd66b172b52012",
            "_dom_classes": [],
            "description": "",
            "_model_name": "HTMLModel",
            "placeholder": "​",
            "_view_module": "@jupyter-widgets/controls",
            "_model_module_version": "1.5.0",
            "value": " 30/30 [00:08&lt;00:00,  3.47it/s]",
            "_view_count": null,
            "_view_module_version": "1.5.0",
            "description_tooltip": null,
            "_model_module": "@jupyter-widgets/controls",
            "layout": "IPY_MODEL_f114c9e6022749ab84cf181e27ebbf92"
          }
        },
        "633973b1795b4a74a58becb311d9cc74": {
          "model_module": "@jupyter-widgets/controls",
          "model_name": "ProgressStyleModel",
          "state": {
            "_view_name": "StyleView",
            "_model_name": "ProgressStyleModel",
            "description_width": "initial",
            "_view_module": "@jupyter-widgets/base",
            "_model_module_version": "1.5.0",
            "_view_count": null,
            "_view_module_version": "1.2.0",
            "bar_color": null,
            "_model_module": "@jupyter-widgets/controls"
          }
        },
        "6e0e484a72f74b8fb1c85386d479e68d": {
          "model_module": "@jupyter-widgets/base",
          "model_name": "LayoutModel",
          "state": {
            "_view_name": "LayoutView",
            "grid_template_rows": null,
            "right": null,
            "justify_content": null,
            "_view_module": "@jupyter-widgets/base",
            "overflow": null,
            "_model_module_version": "1.2.0",
            "_view_count": null,
            "flex_flow": null,
            "width": null,
            "min_width": null,
            "border": null,
            "align_items": null,
            "bottom": null,
            "_model_module": "@jupyter-widgets/base",
            "top": null,
            "grid_column": null,
            "overflow_y": null,
            "overflow_x": null,
            "grid_auto_flow": null,
            "grid_area": null,
            "grid_template_columns": null,
            "flex": "2",
            "_model_name": "LayoutModel",
            "justify_items": null,
            "grid_row": null,
            "max_height": null,
            "align_content": null,
            "visibility": null,
            "align_self": null,
            "height": null,
            "min_height": null,
            "padding": null,
            "grid_auto_rows": null,
            "grid_gap": null,
            "max_width": null,
            "order": null,
            "_view_module_version": "1.2.0",
            "grid_template_areas": null,
            "object_position": null,
            "object_fit": null,
            "grid_auto_columns": null,
            "margin": null,
            "display": null,
            "left": null
          }
        },
        "e5c63fda14ff4c3ca0cd66b172b52012": {
          "model_module": "@jupyter-widgets/controls",
          "model_name": "DescriptionStyleModel",
          "state": {
            "_view_name": "StyleView",
            "_model_name": "DescriptionStyleModel",
            "description_width": "",
            "_view_module": "@jupyter-widgets/base",
            "_model_module_version": "1.5.0",
            "_view_count": null,
            "_view_module_version": "1.2.0",
            "_model_module": "@jupyter-widgets/controls"
          }
        },
        "f114c9e6022749ab84cf181e27ebbf92": {
          "model_module": "@jupyter-widgets/base",
          "model_name": "LayoutModel",
          "state": {
            "_view_name": "LayoutView",
            "grid_template_rows": null,
            "right": null,
            "justify_content": null,
            "_view_module": "@jupyter-widgets/base",
            "overflow": null,
            "_model_module_version": "1.2.0",
            "_view_count": null,
            "flex_flow": null,
            "width": null,
            "min_width": null,
            "border": null,
            "align_items": null,
            "bottom": null,
            "_model_module": "@jupyter-widgets/base",
            "top": null,
            "grid_column": null,
            "overflow_y": null,
            "overflow_x": null,
            "grid_auto_flow": null,
            "grid_area": null,
            "grid_template_columns": null,
            "flex": null,
            "_model_name": "LayoutModel",
            "justify_items": null,
            "grid_row": null,
            "max_height": null,
            "align_content": null,
            "visibility": null,
            "align_self": null,
            "height": null,
            "min_height": null,
            "padding": null,
            "grid_auto_rows": null,
            "grid_gap": null,
            "max_width": null,
            "order": null,
            "_view_module_version": "1.2.0",
            "grid_template_areas": null,
            "object_position": null,
            "object_fit": null,
            "grid_auto_columns": null,
            "margin": null,
            "display": null,
            "left": null
          }
        },
        "74a0b1e66b524b229a312032bf3184fd": {
          "model_module": "@jupyter-widgets/controls",
          "model_name": "HBoxModel",
          "state": {
            "_view_name": "HBoxView",
            "_dom_classes": [],
            "_model_name": "HBoxModel",
            "_view_module": "@jupyter-widgets/controls",
            "_model_module_version": "1.5.0",
            "_view_count": null,
            "_view_module_version": "1.5.0",
            "box_style": "",
            "layout": "IPY_MODEL_6d228ca22ee54a71b70056f209af9ca8",
            "_model_module": "@jupyter-widgets/controls",
            "children": [
              "IPY_MODEL_56decdf1b5e44c5b8d42765d1c061dcf",
              "IPY_MODEL_3b22be49d6114302a1ab9f2f2f3a4c58"
            ]
          }
        },
        "6d228ca22ee54a71b70056f209af9ca8": {
          "model_module": "@jupyter-widgets/base",
          "model_name": "LayoutModel",
          "state": {
            "_view_name": "LayoutView",
            "grid_template_rows": null,
            "right": null,
            "justify_content": null,
            "_view_module": "@jupyter-widgets/base",
            "overflow": null,
            "_model_module_version": "1.2.0",
            "_view_count": null,
            "flex_flow": "row wrap",
            "width": "100%",
            "min_width": null,
            "border": null,
            "align_items": null,
            "bottom": null,
            "_model_module": "@jupyter-widgets/base",
            "top": null,
            "grid_column": null,
            "overflow_y": null,
            "overflow_x": null,
            "grid_auto_flow": null,
            "grid_area": null,
            "grid_template_columns": null,
            "flex": null,
            "_model_name": "LayoutModel",
            "justify_items": null,
            "grid_row": null,
            "max_height": null,
            "align_content": null,
            "visibility": null,
            "align_self": null,
            "height": null,
            "min_height": null,
            "padding": null,
            "grid_auto_rows": null,
            "grid_gap": null,
            "max_width": null,
            "order": null,
            "_view_module_version": "1.2.0",
            "grid_template_areas": null,
            "object_position": null,
            "object_fit": null,
            "grid_auto_columns": null,
            "margin": null,
            "display": "inline-flex",
            "left": null
          }
        },
        "56decdf1b5e44c5b8d42765d1c061dcf": {
          "model_module": "@jupyter-widgets/controls",
          "model_name": "FloatProgressModel",
          "state": {
            "_view_name": "ProgressView",
            "style": "IPY_MODEL_653e06571a2142ab8e72628740dcbd05",
            "_dom_classes": [],
            "description": "Validating: 100%",
            "_model_name": "FloatProgressModel",
            "bar_style": "info",
            "max": 30,
            "_view_module": "@jupyter-widgets/controls",
            "_model_module_version": "1.5.0",
            "value": 30,
            "_view_count": null,
            "_view_module_version": "1.5.0",
            "orientation": "horizontal",
            "min": 0,
            "description_tooltip": null,
            "_model_module": "@jupyter-widgets/controls",
            "layout": "IPY_MODEL_60105df0ac7e4b66a09e8095cd5968ef"
          }
        },
        "3b22be49d6114302a1ab9f2f2f3a4c58": {
          "model_module": "@jupyter-widgets/controls",
          "model_name": "HTMLModel",
          "state": {
            "_view_name": "HTMLView",
            "style": "IPY_MODEL_f2b409a42d304e95b22efd0375b5b03e",
            "_dom_classes": [],
            "description": "",
            "_model_name": "HTMLModel",
            "placeholder": "​",
            "_view_module": "@jupyter-widgets/controls",
            "_model_module_version": "1.5.0",
            "value": " 30/30 [00:09&lt;00:00,  3.41it/s]",
            "_view_count": null,
            "_view_module_version": "1.5.0",
            "description_tooltip": null,
            "_model_module": "@jupyter-widgets/controls",
            "layout": "IPY_MODEL_8991bb325e734bb984ccb972645a530f"
          }
        },
        "653e06571a2142ab8e72628740dcbd05": {
          "model_module": "@jupyter-widgets/controls",
          "model_name": "ProgressStyleModel",
          "state": {
            "_view_name": "StyleView",
            "_model_name": "ProgressStyleModel",
            "description_width": "initial",
            "_view_module": "@jupyter-widgets/base",
            "_model_module_version": "1.5.0",
            "_view_count": null,
            "_view_module_version": "1.2.0",
            "bar_color": null,
            "_model_module": "@jupyter-widgets/controls"
          }
        },
        "60105df0ac7e4b66a09e8095cd5968ef": {
          "model_module": "@jupyter-widgets/base",
          "model_name": "LayoutModel",
          "state": {
            "_view_name": "LayoutView",
            "grid_template_rows": null,
            "right": null,
            "justify_content": null,
            "_view_module": "@jupyter-widgets/base",
            "overflow": null,
            "_model_module_version": "1.2.0",
            "_view_count": null,
            "flex_flow": null,
            "width": null,
            "min_width": null,
            "border": null,
            "align_items": null,
            "bottom": null,
            "_model_module": "@jupyter-widgets/base",
            "top": null,
            "grid_column": null,
            "overflow_y": null,
            "overflow_x": null,
            "grid_auto_flow": null,
            "grid_area": null,
            "grid_template_columns": null,
            "flex": "2",
            "_model_name": "LayoutModel",
            "justify_items": null,
            "grid_row": null,
            "max_height": null,
            "align_content": null,
            "visibility": null,
            "align_self": null,
            "height": null,
            "min_height": null,
            "padding": null,
            "grid_auto_rows": null,
            "grid_gap": null,
            "max_width": null,
            "order": null,
            "_view_module_version": "1.2.0",
            "grid_template_areas": null,
            "object_position": null,
            "object_fit": null,
            "grid_auto_columns": null,
            "margin": null,
            "display": null,
            "left": null
          }
        },
        "f2b409a42d304e95b22efd0375b5b03e": {
          "model_module": "@jupyter-widgets/controls",
          "model_name": "DescriptionStyleModel",
          "state": {
            "_view_name": "StyleView",
            "_model_name": "DescriptionStyleModel",
            "description_width": "",
            "_view_module": "@jupyter-widgets/base",
            "_model_module_version": "1.5.0",
            "_view_count": null,
            "_view_module_version": "1.2.0",
            "_model_module": "@jupyter-widgets/controls"
          }
        },
        "8991bb325e734bb984ccb972645a530f": {
          "model_module": "@jupyter-widgets/base",
          "model_name": "LayoutModel",
          "state": {
            "_view_name": "LayoutView",
            "grid_template_rows": null,
            "right": null,
            "justify_content": null,
            "_view_module": "@jupyter-widgets/base",
            "overflow": null,
            "_model_module_version": "1.2.0",
            "_view_count": null,
            "flex_flow": null,
            "width": null,
            "min_width": null,
            "border": null,
            "align_items": null,
            "bottom": null,
            "_model_module": "@jupyter-widgets/base",
            "top": null,
            "grid_column": null,
            "overflow_y": null,
            "overflow_x": null,
            "grid_auto_flow": null,
            "grid_area": null,
            "grid_template_columns": null,
            "flex": null,
            "_model_name": "LayoutModel",
            "justify_items": null,
            "grid_row": null,
            "max_height": null,
            "align_content": null,
            "visibility": null,
            "align_self": null,
            "height": null,
            "min_height": null,
            "padding": null,
            "grid_auto_rows": null,
            "grid_gap": null,
            "max_width": null,
            "order": null,
            "_view_module_version": "1.2.0",
            "grid_template_areas": null,
            "object_position": null,
            "object_fit": null,
            "grid_auto_columns": null,
            "margin": null,
            "display": null,
            "left": null
          }
        },
        "5fcfb3d5638d4131859244f7c7e12515": {
          "model_module": "@jupyter-widgets/controls",
          "model_name": "HBoxModel",
          "state": {
            "_view_name": "HBoxView",
            "_dom_classes": [],
            "_model_name": "HBoxModel",
            "_view_module": "@jupyter-widgets/controls",
            "_model_module_version": "1.5.0",
            "_view_count": null,
            "_view_module_version": "1.5.0",
            "box_style": "",
            "layout": "IPY_MODEL_1add134a1ecc4f42a351b12b7c150cad",
            "_model_module": "@jupyter-widgets/controls",
            "children": [
              "IPY_MODEL_e46c81f0b9da49aa82278f10057e6377",
              "IPY_MODEL_df6a62fafc354d8094d32e5d31cda5b2"
            ]
          }
        },
        "1add134a1ecc4f42a351b12b7c150cad": {
          "model_module": "@jupyter-widgets/base",
          "model_name": "LayoutModel",
          "state": {
            "_view_name": "LayoutView",
            "grid_template_rows": null,
            "right": null,
            "justify_content": null,
            "_view_module": "@jupyter-widgets/base",
            "overflow": null,
            "_model_module_version": "1.2.0",
            "_view_count": null,
            "flex_flow": "row wrap",
            "width": "100%",
            "min_width": null,
            "border": null,
            "align_items": null,
            "bottom": null,
            "_model_module": "@jupyter-widgets/base",
            "top": null,
            "grid_column": null,
            "overflow_y": null,
            "overflow_x": null,
            "grid_auto_flow": null,
            "grid_area": null,
            "grid_template_columns": null,
            "flex": null,
            "_model_name": "LayoutModel",
            "justify_items": null,
            "grid_row": null,
            "max_height": null,
            "align_content": null,
            "visibility": null,
            "align_self": null,
            "height": null,
            "min_height": null,
            "padding": null,
            "grid_auto_rows": null,
            "grid_gap": null,
            "max_width": null,
            "order": null,
            "_view_module_version": "1.2.0",
            "grid_template_areas": null,
            "object_position": null,
            "object_fit": null,
            "grid_auto_columns": null,
            "margin": null,
            "display": "inline-flex",
            "left": null
          }
        },
        "e46c81f0b9da49aa82278f10057e6377": {
          "model_module": "@jupyter-widgets/controls",
          "model_name": "FloatProgressModel",
          "state": {
            "_view_name": "ProgressView",
            "style": "IPY_MODEL_b954fb6abe8d4679bb91c2ce5d65407e",
            "_dom_classes": [],
            "description": "Validating: 100%",
            "_model_name": "FloatProgressModel",
            "bar_style": "info",
            "max": 30,
            "_view_module": "@jupyter-widgets/controls",
            "_model_module_version": "1.5.0",
            "value": 30,
            "_view_count": null,
            "_view_module_version": "1.5.0",
            "orientation": "horizontal",
            "min": 0,
            "description_tooltip": null,
            "_model_module": "@jupyter-widgets/controls",
            "layout": "IPY_MODEL_38f760ad88944a2daf331e22aee889b3"
          }
        },
        "df6a62fafc354d8094d32e5d31cda5b2": {
          "model_module": "@jupyter-widgets/controls",
          "model_name": "HTMLModel",
          "state": {
            "_view_name": "HTMLView",
            "style": "IPY_MODEL_d18cf297a4e240d8b189d02031763dd5",
            "_dom_classes": [],
            "description": "",
            "_model_name": "HTMLModel",
            "placeholder": "​",
            "_view_module": "@jupyter-widgets/controls",
            "_model_module_version": "1.5.0",
            "value": " 30/30 [00:08&lt;00:00,  3.44it/s]",
            "_view_count": null,
            "_view_module_version": "1.5.0",
            "description_tooltip": null,
            "_model_module": "@jupyter-widgets/controls",
            "layout": "IPY_MODEL_c47adaf98bcd4b99be36bde7778b3ae7"
          }
        },
        "b954fb6abe8d4679bb91c2ce5d65407e": {
          "model_module": "@jupyter-widgets/controls",
          "model_name": "ProgressStyleModel",
          "state": {
            "_view_name": "StyleView",
            "_model_name": "ProgressStyleModel",
            "description_width": "initial",
            "_view_module": "@jupyter-widgets/base",
            "_model_module_version": "1.5.0",
            "_view_count": null,
            "_view_module_version": "1.2.0",
            "bar_color": null,
            "_model_module": "@jupyter-widgets/controls"
          }
        },
        "38f760ad88944a2daf331e22aee889b3": {
          "model_module": "@jupyter-widgets/base",
          "model_name": "LayoutModel",
          "state": {
            "_view_name": "LayoutView",
            "grid_template_rows": null,
            "right": null,
            "justify_content": null,
            "_view_module": "@jupyter-widgets/base",
            "overflow": null,
            "_model_module_version": "1.2.0",
            "_view_count": null,
            "flex_flow": null,
            "width": null,
            "min_width": null,
            "border": null,
            "align_items": null,
            "bottom": null,
            "_model_module": "@jupyter-widgets/base",
            "top": null,
            "grid_column": null,
            "overflow_y": null,
            "overflow_x": null,
            "grid_auto_flow": null,
            "grid_area": null,
            "grid_template_columns": null,
            "flex": "2",
            "_model_name": "LayoutModel",
            "justify_items": null,
            "grid_row": null,
            "max_height": null,
            "align_content": null,
            "visibility": null,
            "align_self": null,
            "height": null,
            "min_height": null,
            "padding": null,
            "grid_auto_rows": null,
            "grid_gap": null,
            "max_width": null,
            "order": null,
            "_view_module_version": "1.2.0",
            "grid_template_areas": null,
            "object_position": null,
            "object_fit": null,
            "grid_auto_columns": null,
            "margin": null,
            "display": null,
            "left": null
          }
        },
        "d18cf297a4e240d8b189d02031763dd5": {
          "model_module": "@jupyter-widgets/controls",
          "model_name": "DescriptionStyleModel",
          "state": {
            "_view_name": "StyleView",
            "_model_name": "DescriptionStyleModel",
            "description_width": "",
            "_view_module": "@jupyter-widgets/base",
            "_model_module_version": "1.5.0",
            "_view_count": null,
            "_view_module_version": "1.2.0",
            "_model_module": "@jupyter-widgets/controls"
          }
        },
        "c47adaf98bcd4b99be36bde7778b3ae7": {
          "model_module": "@jupyter-widgets/base",
          "model_name": "LayoutModel",
          "state": {
            "_view_name": "LayoutView",
            "grid_template_rows": null,
            "right": null,
            "justify_content": null,
            "_view_module": "@jupyter-widgets/base",
            "overflow": null,
            "_model_module_version": "1.2.0",
            "_view_count": null,
            "flex_flow": null,
            "width": null,
            "min_width": null,
            "border": null,
            "align_items": null,
            "bottom": null,
            "_model_module": "@jupyter-widgets/base",
            "top": null,
            "grid_column": null,
            "overflow_y": null,
            "overflow_x": null,
            "grid_auto_flow": null,
            "grid_area": null,
            "grid_template_columns": null,
            "flex": null,
            "_model_name": "LayoutModel",
            "justify_items": null,
            "grid_row": null,
            "max_height": null,
            "align_content": null,
            "visibility": null,
            "align_self": null,
            "height": null,
            "min_height": null,
            "padding": null,
            "grid_auto_rows": null,
            "grid_gap": null,
            "max_width": null,
            "order": null,
            "_view_module_version": "1.2.0",
            "grid_template_areas": null,
            "object_position": null,
            "object_fit": null,
            "grid_auto_columns": null,
            "margin": null,
            "display": null,
            "left": null
          }
        },
        "12c6a7ba8ea94e5e97588cafdc6bfc67": {
          "model_module": "@jupyter-widgets/controls",
          "model_name": "HBoxModel",
          "state": {
            "_view_name": "HBoxView",
            "_dom_classes": [],
            "_model_name": "HBoxModel",
            "_view_module": "@jupyter-widgets/controls",
            "_model_module_version": "1.5.0",
            "_view_count": null,
            "_view_module_version": "1.5.0",
            "box_style": "",
            "layout": "IPY_MODEL_cb23e190d2ab4a0c8ee3357e68e939fd",
            "_model_module": "@jupyter-widgets/controls",
            "children": [
              "IPY_MODEL_4c3a52d5ddb94b528deb1a8c7f5ce233",
              "IPY_MODEL_727700cc8c3249f7972ec06b08235f21"
            ]
          }
        },
        "cb23e190d2ab4a0c8ee3357e68e939fd": {
          "model_module": "@jupyter-widgets/base",
          "model_name": "LayoutModel",
          "state": {
            "_view_name": "LayoutView",
            "grid_template_rows": null,
            "right": null,
            "justify_content": null,
            "_view_module": "@jupyter-widgets/base",
            "overflow": null,
            "_model_module_version": "1.2.0",
            "_view_count": null,
            "flex_flow": "row wrap",
            "width": "100%",
            "min_width": null,
            "border": null,
            "align_items": null,
            "bottom": null,
            "_model_module": "@jupyter-widgets/base",
            "top": null,
            "grid_column": null,
            "overflow_y": null,
            "overflow_x": null,
            "grid_auto_flow": null,
            "grid_area": null,
            "grid_template_columns": null,
            "flex": null,
            "_model_name": "LayoutModel",
            "justify_items": null,
            "grid_row": null,
            "max_height": null,
            "align_content": null,
            "visibility": null,
            "align_self": null,
            "height": null,
            "min_height": null,
            "padding": null,
            "grid_auto_rows": null,
            "grid_gap": null,
            "max_width": null,
            "order": null,
            "_view_module_version": "1.2.0",
            "grid_template_areas": null,
            "object_position": null,
            "object_fit": null,
            "grid_auto_columns": null,
            "margin": null,
            "display": "inline-flex",
            "left": null
          }
        },
        "4c3a52d5ddb94b528deb1a8c7f5ce233": {
          "model_module": "@jupyter-widgets/controls",
          "model_name": "FloatProgressModel",
          "state": {
            "_view_name": "ProgressView",
            "style": "IPY_MODEL_fddca9ab6f594edfad36fede1907c159",
            "_dom_classes": [],
            "description": "Validating: 100%",
            "_model_name": "FloatProgressModel",
            "bar_style": "info",
            "max": 30,
            "_view_module": "@jupyter-widgets/controls",
            "_model_module_version": "1.5.0",
            "value": 30,
            "_view_count": null,
            "_view_module_version": "1.5.0",
            "orientation": "horizontal",
            "min": 0,
            "description_tooltip": null,
            "_model_module": "@jupyter-widgets/controls",
            "layout": "IPY_MODEL_6df109773d5a498d9bc117a556ef460b"
          }
        },
        "727700cc8c3249f7972ec06b08235f21": {
          "model_module": "@jupyter-widgets/controls",
          "model_name": "HTMLModel",
          "state": {
            "_view_name": "HTMLView",
            "style": "IPY_MODEL_004509efccbc4c8f8a6ab836284f9c0a",
            "_dom_classes": [],
            "description": "",
            "_model_name": "HTMLModel",
            "placeholder": "​",
            "_view_module": "@jupyter-widgets/controls",
            "_model_module_version": "1.5.0",
            "value": " 30/30 [00:08&lt;00:00,  3.45it/s]",
            "_view_count": null,
            "_view_module_version": "1.5.0",
            "description_tooltip": null,
            "_model_module": "@jupyter-widgets/controls",
            "layout": "IPY_MODEL_1a02bfc484e048ae82423d519acb163e"
          }
        },
        "fddca9ab6f594edfad36fede1907c159": {
          "model_module": "@jupyter-widgets/controls",
          "model_name": "ProgressStyleModel",
          "state": {
            "_view_name": "StyleView",
            "_model_name": "ProgressStyleModel",
            "description_width": "initial",
            "_view_module": "@jupyter-widgets/base",
            "_model_module_version": "1.5.0",
            "_view_count": null,
            "_view_module_version": "1.2.0",
            "bar_color": null,
            "_model_module": "@jupyter-widgets/controls"
          }
        },
        "6df109773d5a498d9bc117a556ef460b": {
          "model_module": "@jupyter-widgets/base",
          "model_name": "LayoutModel",
          "state": {
            "_view_name": "LayoutView",
            "grid_template_rows": null,
            "right": null,
            "justify_content": null,
            "_view_module": "@jupyter-widgets/base",
            "overflow": null,
            "_model_module_version": "1.2.0",
            "_view_count": null,
            "flex_flow": null,
            "width": null,
            "min_width": null,
            "border": null,
            "align_items": null,
            "bottom": null,
            "_model_module": "@jupyter-widgets/base",
            "top": null,
            "grid_column": null,
            "overflow_y": null,
            "overflow_x": null,
            "grid_auto_flow": null,
            "grid_area": null,
            "grid_template_columns": null,
            "flex": "2",
            "_model_name": "LayoutModel",
            "justify_items": null,
            "grid_row": null,
            "max_height": null,
            "align_content": null,
            "visibility": null,
            "align_self": null,
            "height": null,
            "min_height": null,
            "padding": null,
            "grid_auto_rows": null,
            "grid_gap": null,
            "max_width": null,
            "order": null,
            "_view_module_version": "1.2.0",
            "grid_template_areas": null,
            "object_position": null,
            "object_fit": null,
            "grid_auto_columns": null,
            "margin": null,
            "display": null,
            "left": null
          }
        },
        "004509efccbc4c8f8a6ab836284f9c0a": {
          "model_module": "@jupyter-widgets/controls",
          "model_name": "DescriptionStyleModel",
          "state": {
            "_view_name": "StyleView",
            "_model_name": "DescriptionStyleModel",
            "description_width": "",
            "_view_module": "@jupyter-widgets/base",
            "_model_module_version": "1.5.0",
            "_view_count": null,
            "_view_module_version": "1.2.0",
            "_model_module": "@jupyter-widgets/controls"
          }
        },
        "1a02bfc484e048ae82423d519acb163e": {
          "model_module": "@jupyter-widgets/base",
          "model_name": "LayoutModel",
          "state": {
            "_view_name": "LayoutView",
            "grid_template_rows": null,
            "right": null,
            "justify_content": null,
            "_view_module": "@jupyter-widgets/base",
            "overflow": null,
            "_model_module_version": "1.2.0",
            "_view_count": null,
            "flex_flow": null,
            "width": null,
            "min_width": null,
            "border": null,
            "align_items": null,
            "bottom": null,
            "_model_module": "@jupyter-widgets/base",
            "top": null,
            "grid_column": null,
            "overflow_y": null,
            "overflow_x": null,
            "grid_auto_flow": null,
            "grid_area": null,
            "grid_template_columns": null,
            "flex": null,
            "_model_name": "LayoutModel",
            "justify_items": null,
            "grid_row": null,
            "max_height": null,
            "align_content": null,
            "visibility": null,
            "align_self": null,
            "height": null,
            "min_height": null,
            "padding": null,
            "grid_auto_rows": null,
            "grid_gap": null,
            "max_width": null,
            "order": null,
            "_view_module_version": "1.2.0",
            "grid_template_areas": null,
            "object_position": null,
            "object_fit": null,
            "grid_auto_columns": null,
            "margin": null,
            "display": null,
            "left": null
          }
        },
        "bfa4ed34b53e4fc4b99561e749d093ce": {
          "model_module": "@jupyter-widgets/controls",
          "model_name": "HBoxModel",
          "state": {
            "_view_name": "HBoxView",
            "_dom_classes": [],
            "_model_name": "HBoxModel",
            "_view_module": "@jupyter-widgets/controls",
            "_model_module_version": "1.5.0",
            "_view_count": null,
            "_view_module_version": "1.5.0",
            "box_style": "",
            "layout": "IPY_MODEL_33df52b285304a0da7ffacff3bb610ea",
            "_model_module": "@jupyter-widgets/controls",
            "children": [
              "IPY_MODEL_6e3fec4c947c4848a96c1a0d6a15bc8f",
              "IPY_MODEL_8b2dc964f2104c3f8b84032402d12bb1"
            ]
          }
        },
        "33df52b285304a0da7ffacff3bb610ea": {
          "model_module": "@jupyter-widgets/base",
          "model_name": "LayoutModel",
          "state": {
            "_view_name": "LayoutView",
            "grid_template_rows": null,
            "right": null,
            "justify_content": null,
            "_view_module": "@jupyter-widgets/base",
            "overflow": null,
            "_model_module_version": "1.2.0",
            "_view_count": null,
            "flex_flow": "row wrap",
            "width": "100%",
            "min_width": null,
            "border": null,
            "align_items": null,
            "bottom": null,
            "_model_module": "@jupyter-widgets/base",
            "top": null,
            "grid_column": null,
            "overflow_y": null,
            "overflow_x": null,
            "grid_auto_flow": null,
            "grid_area": null,
            "grid_template_columns": null,
            "flex": null,
            "_model_name": "LayoutModel",
            "justify_items": null,
            "grid_row": null,
            "max_height": null,
            "align_content": null,
            "visibility": null,
            "align_self": null,
            "height": null,
            "min_height": null,
            "padding": null,
            "grid_auto_rows": null,
            "grid_gap": null,
            "max_width": null,
            "order": null,
            "_view_module_version": "1.2.0",
            "grid_template_areas": null,
            "object_position": null,
            "object_fit": null,
            "grid_auto_columns": null,
            "margin": null,
            "display": "inline-flex",
            "left": null
          }
        },
        "6e3fec4c947c4848a96c1a0d6a15bc8f": {
          "model_module": "@jupyter-widgets/controls",
          "model_name": "FloatProgressModel",
          "state": {
            "_view_name": "ProgressView",
            "style": "IPY_MODEL_5dd623b60b604b03af90dc5ec7cda32b",
            "_dom_classes": [],
            "description": "Validating: 100%",
            "_model_name": "FloatProgressModel",
            "bar_style": "info",
            "max": 30,
            "_view_module": "@jupyter-widgets/controls",
            "_model_module_version": "1.5.0",
            "value": 30,
            "_view_count": null,
            "_view_module_version": "1.5.0",
            "orientation": "horizontal",
            "min": 0,
            "description_tooltip": null,
            "_model_module": "@jupyter-widgets/controls",
            "layout": "IPY_MODEL_8065b87031e74f1a8974cef9f96f3530"
          }
        },
        "8b2dc964f2104c3f8b84032402d12bb1": {
          "model_module": "@jupyter-widgets/controls",
          "model_name": "HTMLModel",
          "state": {
            "_view_name": "HTMLView",
            "style": "IPY_MODEL_54242abffecb4cc794c11385a05a3432",
            "_dom_classes": [],
            "description": "",
            "_model_name": "HTMLModel",
            "placeholder": "​",
            "_view_module": "@jupyter-widgets/controls",
            "_model_module_version": "1.5.0",
            "value": " 30/30 [00:08&lt;00:00,  3.47it/s]",
            "_view_count": null,
            "_view_module_version": "1.5.0",
            "description_tooltip": null,
            "_model_module": "@jupyter-widgets/controls",
            "layout": "IPY_MODEL_8d78481c0ba445daa7f8449d0999db72"
          }
        },
        "5dd623b60b604b03af90dc5ec7cda32b": {
          "model_module": "@jupyter-widgets/controls",
          "model_name": "ProgressStyleModel",
          "state": {
            "_view_name": "StyleView",
            "_model_name": "ProgressStyleModel",
            "description_width": "initial",
            "_view_module": "@jupyter-widgets/base",
            "_model_module_version": "1.5.0",
            "_view_count": null,
            "_view_module_version": "1.2.0",
            "bar_color": null,
            "_model_module": "@jupyter-widgets/controls"
          }
        },
        "8065b87031e74f1a8974cef9f96f3530": {
          "model_module": "@jupyter-widgets/base",
          "model_name": "LayoutModel",
          "state": {
            "_view_name": "LayoutView",
            "grid_template_rows": null,
            "right": null,
            "justify_content": null,
            "_view_module": "@jupyter-widgets/base",
            "overflow": null,
            "_model_module_version": "1.2.0",
            "_view_count": null,
            "flex_flow": null,
            "width": null,
            "min_width": null,
            "border": null,
            "align_items": null,
            "bottom": null,
            "_model_module": "@jupyter-widgets/base",
            "top": null,
            "grid_column": null,
            "overflow_y": null,
            "overflow_x": null,
            "grid_auto_flow": null,
            "grid_area": null,
            "grid_template_columns": null,
            "flex": "2",
            "_model_name": "LayoutModel",
            "justify_items": null,
            "grid_row": null,
            "max_height": null,
            "align_content": null,
            "visibility": null,
            "align_self": null,
            "height": null,
            "min_height": null,
            "padding": null,
            "grid_auto_rows": null,
            "grid_gap": null,
            "max_width": null,
            "order": null,
            "_view_module_version": "1.2.0",
            "grid_template_areas": null,
            "object_position": null,
            "object_fit": null,
            "grid_auto_columns": null,
            "margin": null,
            "display": null,
            "left": null
          }
        },
        "54242abffecb4cc794c11385a05a3432": {
          "model_module": "@jupyter-widgets/controls",
          "model_name": "DescriptionStyleModel",
          "state": {
            "_view_name": "StyleView",
            "_model_name": "DescriptionStyleModel",
            "description_width": "",
            "_view_module": "@jupyter-widgets/base",
            "_model_module_version": "1.5.0",
            "_view_count": null,
            "_view_module_version": "1.2.0",
            "_model_module": "@jupyter-widgets/controls"
          }
        },
        "8d78481c0ba445daa7f8449d0999db72": {
          "model_module": "@jupyter-widgets/base",
          "model_name": "LayoutModel",
          "state": {
            "_view_name": "LayoutView",
            "grid_template_rows": null,
            "right": null,
            "justify_content": null,
            "_view_module": "@jupyter-widgets/base",
            "overflow": null,
            "_model_module_version": "1.2.0",
            "_view_count": null,
            "flex_flow": null,
            "width": null,
            "min_width": null,
            "border": null,
            "align_items": null,
            "bottom": null,
            "_model_module": "@jupyter-widgets/base",
            "top": null,
            "grid_column": null,
            "overflow_y": null,
            "overflow_x": null,
            "grid_auto_flow": null,
            "grid_area": null,
            "grid_template_columns": null,
            "flex": null,
            "_model_name": "LayoutModel",
            "justify_items": null,
            "grid_row": null,
            "max_height": null,
            "align_content": null,
            "visibility": null,
            "align_self": null,
            "height": null,
            "min_height": null,
            "padding": null,
            "grid_auto_rows": null,
            "grid_gap": null,
            "max_width": null,
            "order": null,
            "_view_module_version": "1.2.0",
            "grid_template_areas": null,
            "object_position": null,
            "object_fit": null,
            "grid_auto_columns": null,
            "margin": null,
            "display": null,
            "left": null
          }
        },
        "3d33ca2193f2411197f2365192fc31af": {
          "model_module": "@jupyter-widgets/controls",
          "model_name": "HBoxModel",
          "state": {
            "_view_name": "HBoxView",
            "_dom_classes": [],
            "_model_name": "HBoxModel",
            "_view_module": "@jupyter-widgets/controls",
            "_model_module_version": "1.5.0",
            "_view_count": null,
            "_view_module_version": "1.5.0",
            "box_style": "",
            "layout": "IPY_MODEL_4e1be64744bc429db89e25eb02e22bba",
            "_model_module": "@jupyter-widgets/controls",
            "children": [
              "IPY_MODEL_127dd653aac940d1afbe83f7c02c80b6",
              "IPY_MODEL_03e7fcdcb99c40f1afff903e8ae47751"
            ]
          }
        },
        "4e1be64744bc429db89e25eb02e22bba": {
          "model_module": "@jupyter-widgets/base",
          "model_name": "LayoutModel",
          "state": {
            "_view_name": "LayoutView",
            "grid_template_rows": null,
            "right": null,
            "justify_content": null,
            "_view_module": "@jupyter-widgets/base",
            "overflow": null,
            "_model_module_version": "1.2.0",
            "_view_count": null,
            "flex_flow": "row wrap",
            "width": "100%",
            "min_width": null,
            "border": null,
            "align_items": null,
            "bottom": null,
            "_model_module": "@jupyter-widgets/base",
            "top": null,
            "grid_column": null,
            "overflow_y": null,
            "overflow_x": null,
            "grid_auto_flow": null,
            "grid_area": null,
            "grid_template_columns": null,
            "flex": null,
            "_model_name": "LayoutModel",
            "justify_items": null,
            "grid_row": null,
            "max_height": null,
            "align_content": null,
            "visibility": null,
            "align_self": null,
            "height": null,
            "min_height": null,
            "padding": null,
            "grid_auto_rows": null,
            "grid_gap": null,
            "max_width": null,
            "order": null,
            "_view_module_version": "1.2.0",
            "grid_template_areas": null,
            "object_position": null,
            "object_fit": null,
            "grid_auto_columns": null,
            "margin": null,
            "display": "inline-flex",
            "left": null
          }
        },
        "127dd653aac940d1afbe83f7c02c80b6": {
          "model_module": "@jupyter-widgets/controls",
          "model_name": "FloatProgressModel",
          "state": {
            "_view_name": "ProgressView",
            "style": "IPY_MODEL_97dc5a8e9c5b4f9ba49c4f95e8cfefba",
            "_dom_classes": [],
            "description": "Validating: 100%",
            "_model_name": "FloatProgressModel",
            "bar_style": "info",
            "max": 30,
            "_view_module": "@jupyter-widgets/controls",
            "_model_module_version": "1.5.0",
            "value": 30,
            "_view_count": null,
            "_view_module_version": "1.5.0",
            "orientation": "horizontal",
            "min": 0,
            "description_tooltip": null,
            "_model_module": "@jupyter-widgets/controls",
            "layout": "IPY_MODEL_6ead00b0aee147b6834c66113e2c9f3b"
          }
        },
        "03e7fcdcb99c40f1afff903e8ae47751": {
          "model_module": "@jupyter-widgets/controls",
          "model_name": "HTMLModel",
          "state": {
            "_view_name": "HTMLView",
            "style": "IPY_MODEL_74c474b40b04436eb158788eb593694f",
            "_dom_classes": [],
            "description": "",
            "_model_name": "HTMLModel",
            "placeholder": "​",
            "_view_module": "@jupyter-widgets/controls",
            "_model_module_version": "1.5.0",
            "value": " 30/30 [00:08&lt;00:00,  3.46it/s]",
            "_view_count": null,
            "_view_module_version": "1.5.0",
            "description_tooltip": null,
            "_model_module": "@jupyter-widgets/controls",
            "layout": "IPY_MODEL_d3fdab46cc99452eb5e8001274bf1d1a"
          }
        },
        "97dc5a8e9c5b4f9ba49c4f95e8cfefba": {
          "model_module": "@jupyter-widgets/controls",
          "model_name": "ProgressStyleModel",
          "state": {
            "_view_name": "StyleView",
            "_model_name": "ProgressStyleModel",
            "description_width": "initial",
            "_view_module": "@jupyter-widgets/base",
            "_model_module_version": "1.5.0",
            "_view_count": null,
            "_view_module_version": "1.2.0",
            "bar_color": null,
            "_model_module": "@jupyter-widgets/controls"
          }
        },
        "6ead00b0aee147b6834c66113e2c9f3b": {
          "model_module": "@jupyter-widgets/base",
          "model_name": "LayoutModel",
          "state": {
            "_view_name": "LayoutView",
            "grid_template_rows": null,
            "right": null,
            "justify_content": null,
            "_view_module": "@jupyter-widgets/base",
            "overflow": null,
            "_model_module_version": "1.2.0",
            "_view_count": null,
            "flex_flow": null,
            "width": null,
            "min_width": null,
            "border": null,
            "align_items": null,
            "bottom": null,
            "_model_module": "@jupyter-widgets/base",
            "top": null,
            "grid_column": null,
            "overflow_y": null,
            "overflow_x": null,
            "grid_auto_flow": null,
            "grid_area": null,
            "grid_template_columns": null,
            "flex": "2",
            "_model_name": "LayoutModel",
            "justify_items": null,
            "grid_row": null,
            "max_height": null,
            "align_content": null,
            "visibility": null,
            "align_self": null,
            "height": null,
            "min_height": null,
            "padding": null,
            "grid_auto_rows": null,
            "grid_gap": null,
            "max_width": null,
            "order": null,
            "_view_module_version": "1.2.0",
            "grid_template_areas": null,
            "object_position": null,
            "object_fit": null,
            "grid_auto_columns": null,
            "margin": null,
            "display": null,
            "left": null
          }
        },
        "74c474b40b04436eb158788eb593694f": {
          "model_module": "@jupyter-widgets/controls",
          "model_name": "DescriptionStyleModel",
          "state": {
            "_view_name": "StyleView",
            "_model_name": "DescriptionStyleModel",
            "description_width": "",
            "_view_module": "@jupyter-widgets/base",
            "_model_module_version": "1.5.0",
            "_view_count": null,
            "_view_module_version": "1.2.0",
            "_model_module": "@jupyter-widgets/controls"
          }
        },
        "d3fdab46cc99452eb5e8001274bf1d1a": {
          "model_module": "@jupyter-widgets/base",
          "model_name": "LayoutModel",
          "state": {
            "_view_name": "LayoutView",
            "grid_template_rows": null,
            "right": null,
            "justify_content": null,
            "_view_module": "@jupyter-widgets/base",
            "overflow": null,
            "_model_module_version": "1.2.0",
            "_view_count": null,
            "flex_flow": null,
            "width": null,
            "min_width": null,
            "border": null,
            "align_items": null,
            "bottom": null,
            "_model_module": "@jupyter-widgets/base",
            "top": null,
            "grid_column": null,
            "overflow_y": null,
            "overflow_x": null,
            "grid_auto_flow": null,
            "grid_area": null,
            "grid_template_columns": null,
            "flex": null,
            "_model_name": "LayoutModel",
            "justify_items": null,
            "grid_row": null,
            "max_height": null,
            "align_content": null,
            "visibility": null,
            "align_self": null,
            "height": null,
            "min_height": null,
            "padding": null,
            "grid_auto_rows": null,
            "grid_gap": null,
            "max_width": null,
            "order": null,
            "_view_module_version": "1.2.0",
            "grid_template_areas": null,
            "object_position": null,
            "object_fit": null,
            "grid_auto_columns": null,
            "margin": null,
            "display": null,
            "left": null
          }
        },
        "fdea29ec213040baa618719517b5daad": {
          "model_module": "@jupyter-widgets/controls",
          "model_name": "HBoxModel",
          "state": {
            "_view_name": "HBoxView",
            "_dom_classes": [],
            "_model_name": "HBoxModel",
            "_view_module": "@jupyter-widgets/controls",
            "_model_module_version": "1.5.0",
            "_view_count": null,
            "_view_module_version": "1.5.0",
            "box_style": "",
            "layout": "IPY_MODEL_1e0f8f96d5c4473da2c984621aad81c1",
            "_model_module": "@jupyter-widgets/controls",
            "children": [
              "IPY_MODEL_c867c7de1565416ea805e43693a6a2e8",
              "IPY_MODEL_dbd323628b1842e1892cf0c0f8f572ef"
            ]
          }
        },
        "1e0f8f96d5c4473da2c984621aad81c1": {
          "model_module": "@jupyter-widgets/base",
          "model_name": "LayoutModel",
          "state": {
            "_view_name": "LayoutView",
            "grid_template_rows": null,
            "right": null,
            "justify_content": null,
            "_view_module": "@jupyter-widgets/base",
            "overflow": null,
            "_model_module_version": "1.2.0",
            "_view_count": null,
            "flex_flow": "row wrap",
            "width": "100%",
            "min_width": null,
            "border": null,
            "align_items": null,
            "bottom": null,
            "_model_module": "@jupyter-widgets/base",
            "top": null,
            "grid_column": null,
            "overflow_y": null,
            "overflow_x": null,
            "grid_auto_flow": null,
            "grid_area": null,
            "grid_template_columns": null,
            "flex": null,
            "_model_name": "LayoutModel",
            "justify_items": null,
            "grid_row": null,
            "max_height": null,
            "align_content": null,
            "visibility": null,
            "align_self": null,
            "height": null,
            "min_height": null,
            "padding": null,
            "grid_auto_rows": null,
            "grid_gap": null,
            "max_width": null,
            "order": null,
            "_view_module_version": "1.2.0",
            "grid_template_areas": null,
            "object_position": null,
            "object_fit": null,
            "grid_auto_columns": null,
            "margin": null,
            "display": "inline-flex",
            "left": null
          }
        },
        "c867c7de1565416ea805e43693a6a2e8": {
          "model_module": "@jupyter-widgets/controls",
          "model_name": "FloatProgressModel",
          "state": {
            "_view_name": "ProgressView",
            "style": "IPY_MODEL_99a07f5c3b0f4226bffb5b2a1420296d",
            "_dom_classes": [],
            "description": "Validating: 100%",
            "_model_name": "FloatProgressModel",
            "bar_style": "info",
            "max": 30,
            "_view_module": "@jupyter-widgets/controls",
            "_model_module_version": "1.5.0",
            "value": 30,
            "_view_count": null,
            "_view_module_version": "1.5.0",
            "orientation": "horizontal",
            "min": 0,
            "description_tooltip": null,
            "_model_module": "@jupyter-widgets/controls",
            "layout": "IPY_MODEL_9d94dc3b67534d4497afc2a17b5121cc"
          }
        },
        "dbd323628b1842e1892cf0c0f8f572ef": {
          "model_module": "@jupyter-widgets/controls",
          "model_name": "HTMLModel",
          "state": {
            "_view_name": "HTMLView",
            "style": "IPY_MODEL_abd0b943fb084057823a093769713f33",
            "_dom_classes": [],
            "description": "",
            "_model_name": "HTMLModel",
            "placeholder": "​",
            "_view_module": "@jupyter-widgets/controls",
            "_model_module_version": "1.5.0",
            "value": " 30/30 [00:08&lt;00:00,  3.46it/s]",
            "_view_count": null,
            "_view_module_version": "1.5.0",
            "description_tooltip": null,
            "_model_module": "@jupyter-widgets/controls",
            "layout": "IPY_MODEL_480f5a96751f4fdb835bcaf136f30268"
          }
        },
        "99a07f5c3b0f4226bffb5b2a1420296d": {
          "model_module": "@jupyter-widgets/controls",
          "model_name": "ProgressStyleModel",
          "state": {
            "_view_name": "StyleView",
            "_model_name": "ProgressStyleModel",
            "description_width": "initial",
            "_view_module": "@jupyter-widgets/base",
            "_model_module_version": "1.5.0",
            "_view_count": null,
            "_view_module_version": "1.2.0",
            "bar_color": null,
            "_model_module": "@jupyter-widgets/controls"
          }
        },
        "9d94dc3b67534d4497afc2a17b5121cc": {
          "model_module": "@jupyter-widgets/base",
          "model_name": "LayoutModel",
          "state": {
            "_view_name": "LayoutView",
            "grid_template_rows": null,
            "right": null,
            "justify_content": null,
            "_view_module": "@jupyter-widgets/base",
            "overflow": null,
            "_model_module_version": "1.2.0",
            "_view_count": null,
            "flex_flow": null,
            "width": null,
            "min_width": null,
            "border": null,
            "align_items": null,
            "bottom": null,
            "_model_module": "@jupyter-widgets/base",
            "top": null,
            "grid_column": null,
            "overflow_y": null,
            "overflow_x": null,
            "grid_auto_flow": null,
            "grid_area": null,
            "grid_template_columns": null,
            "flex": "2",
            "_model_name": "LayoutModel",
            "justify_items": null,
            "grid_row": null,
            "max_height": null,
            "align_content": null,
            "visibility": null,
            "align_self": null,
            "height": null,
            "min_height": null,
            "padding": null,
            "grid_auto_rows": null,
            "grid_gap": null,
            "max_width": null,
            "order": null,
            "_view_module_version": "1.2.0",
            "grid_template_areas": null,
            "object_position": null,
            "object_fit": null,
            "grid_auto_columns": null,
            "margin": null,
            "display": null,
            "left": null
          }
        },
        "abd0b943fb084057823a093769713f33": {
          "model_module": "@jupyter-widgets/controls",
          "model_name": "DescriptionStyleModel",
          "state": {
            "_view_name": "StyleView",
            "_model_name": "DescriptionStyleModel",
            "description_width": "",
            "_view_module": "@jupyter-widgets/base",
            "_model_module_version": "1.5.0",
            "_view_count": null,
            "_view_module_version": "1.2.0",
            "_model_module": "@jupyter-widgets/controls"
          }
        },
        "480f5a96751f4fdb835bcaf136f30268": {
          "model_module": "@jupyter-widgets/base",
          "model_name": "LayoutModel",
          "state": {
            "_view_name": "LayoutView",
            "grid_template_rows": null,
            "right": null,
            "justify_content": null,
            "_view_module": "@jupyter-widgets/base",
            "overflow": null,
            "_model_module_version": "1.2.0",
            "_view_count": null,
            "flex_flow": null,
            "width": null,
            "min_width": null,
            "border": null,
            "align_items": null,
            "bottom": null,
            "_model_module": "@jupyter-widgets/base",
            "top": null,
            "grid_column": null,
            "overflow_y": null,
            "overflow_x": null,
            "grid_auto_flow": null,
            "grid_area": null,
            "grid_template_columns": null,
            "flex": null,
            "_model_name": "LayoutModel",
            "justify_items": null,
            "grid_row": null,
            "max_height": null,
            "align_content": null,
            "visibility": null,
            "align_self": null,
            "height": null,
            "min_height": null,
            "padding": null,
            "grid_auto_rows": null,
            "grid_gap": null,
            "max_width": null,
            "order": null,
            "_view_module_version": "1.2.0",
            "grid_template_areas": null,
            "object_position": null,
            "object_fit": null,
            "grid_auto_columns": null,
            "margin": null,
            "display": null,
            "left": null
          }
        },
        "1a3ac0ffb6c047648a697bc98040f424": {
          "model_module": "@jupyter-widgets/controls",
          "model_name": "HBoxModel",
          "state": {
            "_view_name": "HBoxView",
            "_dom_classes": [],
            "_model_name": "HBoxModel",
            "_view_module": "@jupyter-widgets/controls",
            "_model_module_version": "1.5.0",
            "_view_count": null,
            "_view_module_version": "1.5.0",
            "box_style": "",
            "layout": "IPY_MODEL_107c03ddd19b4d58b32b76b589289044",
            "_model_module": "@jupyter-widgets/controls",
            "children": [
              "IPY_MODEL_414dda4ebeba4bbeb73039a307c8133f",
              "IPY_MODEL_fc55284681e14846988490b59b87cb12"
            ]
          }
        },
        "107c03ddd19b4d58b32b76b589289044": {
          "model_module": "@jupyter-widgets/base",
          "model_name": "LayoutModel",
          "state": {
            "_view_name": "LayoutView",
            "grid_template_rows": null,
            "right": null,
            "justify_content": null,
            "_view_module": "@jupyter-widgets/base",
            "overflow": null,
            "_model_module_version": "1.2.0",
            "_view_count": null,
            "flex_flow": "row wrap",
            "width": "100%",
            "min_width": null,
            "border": null,
            "align_items": null,
            "bottom": null,
            "_model_module": "@jupyter-widgets/base",
            "top": null,
            "grid_column": null,
            "overflow_y": null,
            "overflow_x": null,
            "grid_auto_flow": null,
            "grid_area": null,
            "grid_template_columns": null,
            "flex": null,
            "_model_name": "LayoutModel",
            "justify_items": null,
            "grid_row": null,
            "max_height": null,
            "align_content": null,
            "visibility": null,
            "align_self": null,
            "height": null,
            "min_height": null,
            "padding": null,
            "grid_auto_rows": null,
            "grid_gap": null,
            "max_width": null,
            "order": null,
            "_view_module_version": "1.2.0",
            "grid_template_areas": null,
            "object_position": null,
            "object_fit": null,
            "grid_auto_columns": null,
            "margin": null,
            "display": "inline-flex",
            "left": null
          }
        },
        "414dda4ebeba4bbeb73039a307c8133f": {
          "model_module": "@jupyter-widgets/controls",
          "model_name": "FloatProgressModel",
          "state": {
            "_view_name": "ProgressView",
            "style": "IPY_MODEL_931d40c73c92438887a56e06c6a64d7f",
            "_dom_classes": [],
            "description": "Validating: 100%",
            "_model_name": "FloatProgressModel",
            "bar_style": "info",
            "max": 30,
            "_view_module": "@jupyter-widgets/controls",
            "_model_module_version": "1.5.0",
            "value": 30,
            "_view_count": null,
            "_view_module_version": "1.5.0",
            "orientation": "horizontal",
            "min": 0,
            "description_tooltip": null,
            "_model_module": "@jupyter-widgets/controls",
            "layout": "IPY_MODEL_dcf0bd1fa17540009d0df9f827619b1a"
          }
        },
        "fc55284681e14846988490b59b87cb12": {
          "model_module": "@jupyter-widgets/controls",
          "model_name": "HTMLModel",
          "state": {
            "_view_name": "HTMLView",
            "style": "IPY_MODEL_2811d36de280434ab68adc42f272bd5d",
            "_dom_classes": [],
            "description": "",
            "_model_name": "HTMLModel",
            "placeholder": "​",
            "_view_module": "@jupyter-widgets/controls",
            "_model_module_version": "1.5.0",
            "value": " 30/30 [00:08&lt;00:00,  3.46it/s]",
            "_view_count": null,
            "_view_module_version": "1.5.0",
            "description_tooltip": null,
            "_model_module": "@jupyter-widgets/controls",
            "layout": "IPY_MODEL_f728f1a7e8f74626bc01b8556d57ad19"
          }
        },
        "931d40c73c92438887a56e06c6a64d7f": {
          "model_module": "@jupyter-widgets/controls",
          "model_name": "ProgressStyleModel",
          "state": {
            "_view_name": "StyleView",
            "_model_name": "ProgressStyleModel",
            "description_width": "initial",
            "_view_module": "@jupyter-widgets/base",
            "_model_module_version": "1.5.0",
            "_view_count": null,
            "_view_module_version": "1.2.0",
            "bar_color": null,
            "_model_module": "@jupyter-widgets/controls"
          }
        },
        "dcf0bd1fa17540009d0df9f827619b1a": {
          "model_module": "@jupyter-widgets/base",
          "model_name": "LayoutModel",
          "state": {
            "_view_name": "LayoutView",
            "grid_template_rows": null,
            "right": null,
            "justify_content": null,
            "_view_module": "@jupyter-widgets/base",
            "overflow": null,
            "_model_module_version": "1.2.0",
            "_view_count": null,
            "flex_flow": null,
            "width": null,
            "min_width": null,
            "border": null,
            "align_items": null,
            "bottom": null,
            "_model_module": "@jupyter-widgets/base",
            "top": null,
            "grid_column": null,
            "overflow_y": null,
            "overflow_x": null,
            "grid_auto_flow": null,
            "grid_area": null,
            "grid_template_columns": null,
            "flex": "2",
            "_model_name": "LayoutModel",
            "justify_items": null,
            "grid_row": null,
            "max_height": null,
            "align_content": null,
            "visibility": null,
            "align_self": null,
            "height": null,
            "min_height": null,
            "padding": null,
            "grid_auto_rows": null,
            "grid_gap": null,
            "max_width": null,
            "order": null,
            "_view_module_version": "1.2.0",
            "grid_template_areas": null,
            "object_position": null,
            "object_fit": null,
            "grid_auto_columns": null,
            "margin": null,
            "display": null,
            "left": null
          }
        },
        "2811d36de280434ab68adc42f272bd5d": {
          "model_module": "@jupyter-widgets/controls",
          "model_name": "DescriptionStyleModel",
          "state": {
            "_view_name": "StyleView",
            "_model_name": "DescriptionStyleModel",
            "description_width": "",
            "_view_module": "@jupyter-widgets/base",
            "_model_module_version": "1.5.0",
            "_view_count": null,
            "_view_module_version": "1.2.0",
            "_model_module": "@jupyter-widgets/controls"
          }
        },
        "f728f1a7e8f74626bc01b8556d57ad19": {
          "model_module": "@jupyter-widgets/base",
          "model_name": "LayoutModel",
          "state": {
            "_view_name": "LayoutView",
            "grid_template_rows": null,
            "right": null,
            "justify_content": null,
            "_view_module": "@jupyter-widgets/base",
            "overflow": null,
            "_model_module_version": "1.2.0",
            "_view_count": null,
            "flex_flow": null,
            "width": null,
            "min_width": null,
            "border": null,
            "align_items": null,
            "bottom": null,
            "_model_module": "@jupyter-widgets/base",
            "top": null,
            "grid_column": null,
            "overflow_y": null,
            "overflow_x": null,
            "grid_auto_flow": null,
            "grid_area": null,
            "grid_template_columns": null,
            "flex": null,
            "_model_name": "LayoutModel",
            "justify_items": null,
            "grid_row": null,
            "max_height": null,
            "align_content": null,
            "visibility": null,
            "align_self": null,
            "height": null,
            "min_height": null,
            "padding": null,
            "grid_auto_rows": null,
            "grid_gap": null,
            "max_width": null,
            "order": null,
            "_view_module_version": "1.2.0",
            "grid_template_areas": null,
            "object_position": null,
            "object_fit": null,
            "grid_auto_columns": null,
            "margin": null,
            "display": null,
            "left": null
          }
        },
        "36142bf0408347febfbf047319e25c94": {
          "model_module": "@jupyter-widgets/controls",
          "model_name": "HBoxModel",
          "state": {
            "_view_name": "HBoxView",
            "_dom_classes": [],
            "_model_name": "HBoxModel",
            "_view_module": "@jupyter-widgets/controls",
            "_model_module_version": "1.5.0",
            "_view_count": null,
            "_view_module_version": "1.5.0",
            "box_style": "",
            "layout": "IPY_MODEL_e61550fe9d864d73986292eccea5e48c",
            "_model_module": "@jupyter-widgets/controls",
            "children": [
              "IPY_MODEL_5300ce5c902245a888c9b8a5aecbe21d",
              "IPY_MODEL_599ab32d07414f63933c71fff78bc9ef"
            ]
          }
        },
        "e61550fe9d864d73986292eccea5e48c": {
          "model_module": "@jupyter-widgets/base",
          "model_name": "LayoutModel",
          "state": {
            "_view_name": "LayoutView",
            "grid_template_rows": null,
            "right": null,
            "justify_content": null,
            "_view_module": "@jupyter-widgets/base",
            "overflow": null,
            "_model_module_version": "1.2.0",
            "_view_count": null,
            "flex_flow": "row wrap",
            "width": "100%",
            "min_width": null,
            "border": null,
            "align_items": null,
            "bottom": null,
            "_model_module": "@jupyter-widgets/base",
            "top": null,
            "grid_column": null,
            "overflow_y": null,
            "overflow_x": null,
            "grid_auto_flow": null,
            "grid_area": null,
            "grid_template_columns": null,
            "flex": null,
            "_model_name": "LayoutModel",
            "justify_items": null,
            "grid_row": null,
            "max_height": null,
            "align_content": null,
            "visibility": null,
            "align_self": null,
            "height": null,
            "min_height": null,
            "padding": null,
            "grid_auto_rows": null,
            "grid_gap": null,
            "max_width": null,
            "order": null,
            "_view_module_version": "1.2.0",
            "grid_template_areas": null,
            "object_position": null,
            "object_fit": null,
            "grid_auto_columns": null,
            "margin": null,
            "display": "inline-flex",
            "left": null
          }
        },
        "5300ce5c902245a888c9b8a5aecbe21d": {
          "model_module": "@jupyter-widgets/controls",
          "model_name": "FloatProgressModel",
          "state": {
            "_view_name": "ProgressView",
            "style": "IPY_MODEL_6adc0248ad4b4ad5bdb5fe31bb7dc710",
            "_dom_classes": [],
            "description": "Validating: 100%",
            "_model_name": "FloatProgressModel",
            "bar_style": "info",
            "max": 30,
            "_view_module": "@jupyter-widgets/controls",
            "_model_module_version": "1.5.0",
            "value": 30,
            "_view_count": null,
            "_view_module_version": "1.5.0",
            "orientation": "horizontal",
            "min": 0,
            "description_tooltip": null,
            "_model_module": "@jupyter-widgets/controls",
            "layout": "IPY_MODEL_b0bac673077d47378fae35d46703fd85"
          }
        },
        "599ab32d07414f63933c71fff78bc9ef": {
          "model_module": "@jupyter-widgets/controls",
          "model_name": "HTMLModel",
          "state": {
            "_view_name": "HTMLView",
            "style": "IPY_MODEL_2b75d20f528744b4bf24eb5a186de110",
            "_dom_classes": [],
            "description": "",
            "_model_name": "HTMLModel",
            "placeholder": "​",
            "_view_module": "@jupyter-widgets/controls",
            "_model_module_version": "1.5.0",
            "value": " 30/30 [00:08&lt;00:00,  3.46it/s]",
            "_view_count": null,
            "_view_module_version": "1.5.0",
            "description_tooltip": null,
            "_model_module": "@jupyter-widgets/controls",
            "layout": "IPY_MODEL_50971e68ee6d49a08159debca97b68cf"
          }
        },
        "6adc0248ad4b4ad5bdb5fe31bb7dc710": {
          "model_module": "@jupyter-widgets/controls",
          "model_name": "ProgressStyleModel",
          "state": {
            "_view_name": "StyleView",
            "_model_name": "ProgressStyleModel",
            "description_width": "initial",
            "_view_module": "@jupyter-widgets/base",
            "_model_module_version": "1.5.0",
            "_view_count": null,
            "_view_module_version": "1.2.0",
            "bar_color": null,
            "_model_module": "@jupyter-widgets/controls"
          }
        },
        "b0bac673077d47378fae35d46703fd85": {
          "model_module": "@jupyter-widgets/base",
          "model_name": "LayoutModel",
          "state": {
            "_view_name": "LayoutView",
            "grid_template_rows": null,
            "right": null,
            "justify_content": null,
            "_view_module": "@jupyter-widgets/base",
            "overflow": null,
            "_model_module_version": "1.2.0",
            "_view_count": null,
            "flex_flow": null,
            "width": null,
            "min_width": null,
            "border": null,
            "align_items": null,
            "bottom": null,
            "_model_module": "@jupyter-widgets/base",
            "top": null,
            "grid_column": null,
            "overflow_y": null,
            "overflow_x": null,
            "grid_auto_flow": null,
            "grid_area": null,
            "grid_template_columns": null,
            "flex": "2",
            "_model_name": "LayoutModel",
            "justify_items": null,
            "grid_row": null,
            "max_height": null,
            "align_content": null,
            "visibility": null,
            "align_self": null,
            "height": null,
            "min_height": null,
            "padding": null,
            "grid_auto_rows": null,
            "grid_gap": null,
            "max_width": null,
            "order": null,
            "_view_module_version": "1.2.0",
            "grid_template_areas": null,
            "object_position": null,
            "object_fit": null,
            "grid_auto_columns": null,
            "margin": null,
            "display": null,
            "left": null
          }
        },
        "2b75d20f528744b4bf24eb5a186de110": {
          "model_module": "@jupyter-widgets/controls",
          "model_name": "DescriptionStyleModel",
          "state": {
            "_view_name": "StyleView",
            "_model_name": "DescriptionStyleModel",
            "description_width": "",
            "_view_module": "@jupyter-widgets/base",
            "_model_module_version": "1.5.0",
            "_view_count": null,
            "_view_module_version": "1.2.0",
            "_model_module": "@jupyter-widgets/controls"
          }
        },
        "50971e68ee6d49a08159debca97b68cf": {
          "model_module": "@jupyter-widgets/base",
          "model_name": "LayoutModel",
          "state": {
            "_view_name": "LayoutView",
            "grid_template_rows": null,
            "right": null,
            "justify_content": null,
            "_view_module": "@jupyter-widgets/base",
            "overflow": null,
            "_model_module_version": "1.2.0",
            "_view_count": null,
            "flex_flow": null,
            "width": null,
            "min_width": null,
            "border": null,
            "align_items": null,
            "bottom": null,
            "_model_module": "@jupyter-widgets/base",
            "top": null,
            "grid_column": null,
            "overflow_y": null,
            "overflow_x": null,
            "grid_auto_flow": null,
            "grid_area": null,
            "grid_template_columns": null,
            "flex": null,
            "_model_name": "LayoutModel",
            "justify_items": null,
            "grid_row": null,
            "max_height": null,
            "align_content": null,
            "visibility": null,
            "align_self": null,
            "height": null,
            "min_height": null,
            "padding": null,
            "grid_auto_rows": null,
            "grid_gap": null,
            "max_width": null,
            "order": null,
            "_view_module_version": "1.2.0",
            "grid_template_areas": null,
            "object_position": null,
            "object_fit": null,
            "grid_auto_columns": null,
            "margin": null,
            "display": null,
            "left": null
          }
        },
        "766ff7af85bb45b49edd35b73f5ffcb5": {
          "model_module": "@jupyter-widgets/controls",
          "model_name": "HBoxModel",
          "state": {
            "_view_name": "HBoxView",
            "_dom_classes": [],
            "_model_name": "HBoxModel",
            "_view_module": "@jupyter-widgets/controls",
            "_model_module_version": "1.5.0",
            "_view_count": null,
            "_view_module_version": "1.5.0",
            "box_style": "",
            "layout": "IPY_MODEL_ef7fbd77ca39419e9f746ea6d1250b91",
            "_model_module": "@jupyter-widgets/controls",
            "children": [
              "IPY_MODEL_a78f1c08f52747b39baaaf63b109870a",
              "IPY_MODEL_f2f37291cd63446f8818049b4f4718e3"
            ]
          }
        },
        "ef7fbd77ca39419e9f746ea6d1250b91": {
          "model_module": "@jupyter-widgets/base",
          "model_name": "LayoutModel",
          "state": {
            "_view_name": "LayoutView",
            "grid_template_rows": null,
            "right": null,
            "justify_content": null,
            "_view_module": "@jupyter-widgets/base",
            "overflow": null,
            "_model_module_version": "1.2.0",
            "_view_count": null,
            "flex_flow": "row wrap",
            "width": "100%",
            "min_width": null,
            "border": null,
            "align_items": null,
            "bottom": null,
            "_model_module": "@jupyter-widgets/base",
            "top": null,
            "grid_column": null,
            "overflow_y": null,
            "overflow_x": null,
            "grid_auto_flow": null,
            "grid_area": null,
            "grid_template_columns": null,
            "flex": null,
            "_model_name": "LayoutModel",
            "justify_items": null,
            "grid_row": null,
            "max_height": null,
            "align_content": null,
            "visibility": null,
            "align_self": null,
            "height": null,
            "min_height": null,
            "padding": null,
            "grid_auto_rows": null,
            "grid_gap": null,
            "max_width": null,
            "order": null,
            "_view_module_version": "1.2.0",
            "grid_template_areas": null,
            "object_position": null,
            "object_fit": null,
            "grid_auto_columns": null,
            "margin": null,
            "display": "inline-flex",
            "left": null
          }
        },
        "a78f1c08f52747b39baaaf63b109870a": {
          "model_module": "@jupyter-widgets/controls",
          "model_name": "FloatProgressModel",
          "state": {
            "_view_name": "ProgressView",
            "style": "IPY_MODEL_d2f45c96dd224673a11b3248f91293cd",
            "_dom_classes": [],
            "description": "Validating: 100%",
            "_model_name": "FloatProgressModel",
            "bar_style": "info",
            "max": 30,
            "_view_module": "@jupyter-widgets/controls",
            "_model_module_version": "1.5.0",
            "value": 30,
            "_view_count": null,
            "_view_module_version": "1.5.0",
            "orientation": "horizontal",
            "min": 0,
            "description_tooltip": null,
            "_model_module": "@jupyter-widgets/controls",
            "layout": "IPY_MODEL_3e8a04160ffc4c1f8049abad8aa90f73"
          }
        },
        "f2f37291cd63446f8818049b4f4718e3": {
          "model_module": "@jupyter-widgets/controls",
          "model_name": "HTMLModel",
          "state": {
            "_view_name": "HTMLView",
            "style": "IPY_MODEL_37dfa87f3b1642969058039cdd5c012b",
            "_dom_classes": [],
            "description": "",
            "_model_name": "HTMLModel",
            "placeholder": "​",
            "_view_module": "@jupyter-widgets/controls",
            "_model_module_version": "1.5.0",
            "value": " 30/30 [00:08&lt;00:00,  3.46it/s]",
            "_view_count": null,
            "_view_module_version": "1.5.0",
            "description_tooltip": null,
            "_model_module": "@jupyter-widgets/controls",
            "layout": "IPY_MODEL_d85670f89fd84875ba822f71254b6bd6"
          }
        },
        "d2f45c96dd224673a11b3248f91293cd": {
          "model_module": "@jupyter-widgets/controls",
          "model_name": "ProgressStyleModel",
          "state": {
            "_view_name": "StyleView",
            "_model_name": "ProgressStyleModel",
            "description_width": "initial",
            "_view_module": "@jupyter-widgets/base",
            "_model_module_version": "1.5.0",
            "_view_count": null,
            "_view_module_version": "1.2.0",
            "bar_color": null,
            "_model_module": "@jupyter-widgets/controls"
          }
        },
        "3e8a04160ffc4c1f8049abad8aa90f73": {
          "model_module": "@jupyter-widgets/base",
          "model_name": "LayoutModel",
          "state": {
            "_view_name": "LayoutView",
            "grid_template_rows": null,
            "right": null,
            "justify_content": null,
            "_view_module": "@jupyter-widgets/base",
            "overflow": null,
            "_model_module_version": "1.2.0",
            "_view_count": null,
            "flex_flow": null,
            "width": null,
            "min_width": null,
            "border": null,
            "align_items": null,
            "bottom": null,
            "_model_module": "@jupyter-widgets/base",
            "top": null,
            "grid_column": null,
            "overflow_y": null,
            "overflow_x": null,
            "grid_auto_flow": null,
            "grid_area": null,
            "grid_template_columns": null,
            "flex": "2",
            "_model_name": "LayoutModel",
            "justify_items": null,
            "grid_row": null,
            "max_height": null,
            "align_content": null,
            "visibility": null,
            "align_self": null,
            "height": null,
            "min_height": null,
            "padding": null,
            "grid_auto_rows": null,
            "grid_gap": null,
            "max_width": null,
            "order": null,
            "_view_module_version": "1.2.0",
            "grid_template_areas": null,
            "object_position": null,
            "object_fit": null,
            "grid_auto_columns": null,
            "margin": null,
            "display": null,
            "left": null
          }
        },
        "37dfa87f3b1642969058039cdd5c012b": {
          "model_module": "@jupyter-widgets/controls",
          "model_name": "DescriptionStyleModel",
          "state": {
            "_view_name": "StyleView",
            "_model_name": "DescriptionStyleModel",
            "description_width": "",
            "_view_module": "@jupyter-widgets/base",
            "_model_module_version": "1.5.0",
            "_view_count": null,
            "_view_module_version": "1.2.0",
            "_model_module": "@jupyter-widgets/controls"
          }
        },
        "d85670f89fd84875ba822f71254b6bd6": {
          "model_module": "@jupyter-widgets/base",
          "model_name": "LayoutModel",
          "state": {
            "_view_name": "LayoutView",
            "grid_template_rows": null,
            "right": null,
            "justify_content": null,
            "_view_module": "@jupyter-widgets/base",
            "overflow": null,
            "_model_module_version": "1.2.0",
            "_view_count": null,
            "flex_flow": null,
            "width": null,
            "min_width": null,
            "border": null,
            "align_items": null,
            "bottom": null,
            "_model_module": "@jupyter-widgets/base",
            "top": null,
            "grid_column": null,
            "overflow_y": null,
            "overflow_x": null,
            "grid_auto_flow": null,
            "grid_area": null,
            "grid_template_columns": null,
            "flex": null,
            "_model_name": "LayoutModel",
            "justify_items": null,
            "grid_row": null,
            "max_height": null,
            "align_content": null,
            "visibility": null,
            "align_self": null,
            "height": null,
            "min_height": null,
            "padding": null,
            "grid_auto_rows": null,
            "grid_gap": null,
            "max_width": null,
            "order": null,
            "_view_module_version": "1.2.0",
            "grid_template_areas": null,
            "object_position": null,
            "object_fit": null,
            "grid_auto_columns": null,
            "margin": null,
            "display": null,
            "left": null
          }
        },
        "48a2dc2f6c594870bb71a77531714911": {
          "model_module": "@jupyter-widgets/controls",
          "model_name": "HBoxModel",
          "state": {
            "_view_name": "HBoxView",
            "_dom_classes": [],
            "_model_name": "HBoxModel",
            "_view_module": "@jupyter-widgets/controls",
            "_model_module_version": "1.5.0",
            "_view_count": null,
            "_view_module_version": "1.5.0",
            "box_style": "",
            "layout": "IPY_MODEL_868e52f4009947aea545be7e9dde0c39",
            "_model_module": "@jupyter-widgets/controls",
            "children": [
              "IPY_MODEL_f0ae6599db08451fbcfc9bc92143261b",
              "IPY_MODEL_c48ee342bc8141cb85e699717f730c80"
            ]
          }
        },
        "868e52f4009947aea545be7e9dde0c39": {
          "model_module": "@jupyter-widgets/base",
          "model_name": "LayoutModel",
          "state": {
            "_view_name": "LayoutView",
            "grid_template_rows": null,
            "right": null,
            "justify_content": null,
            "_view_module": "@jupyter-widgets/base",
            "overflow": null,
            "_model_module_version": "1.2.0",
            "_view_count": null,
            "flex_flow": "row wrap",
            "width": "100%",
            "min_width": null,
            "border": null,
            "align_items": null,
            "bottom": null,
            "_model_module": "@jupyter-widgets/base",
            "top": null,
            "grid_column": null,
            "overflow_y": null,
            "overflow_x": null,
            "grid_auto_flow": null,
            "grid_area": null,
            "grid_template_columns": null,
            "flex": null,
            "_model_name": "LayoutModel",
            "justify_items": null,
            "grid_row": null,
            "max_height": null,
            "align_content": null,
            "visibility": null,
            "align_self": null,
            "height": null,
            "min_height": null,
            "padding": null,
            "grid_auto_rows": null,
            "grid_gap": null,
            "max_width": null,
            "order": null,
            "_view_module_version": "1.2.0",
            "grid_template_areas": null,
            "object_position": null,
            "object_fit": null,
            "grid_auto_columns": null,
            "margin": null,
            "display": "inline-flex",
            "left": null
          }
        },
        "f0ae6599db08451fbcfc9bc92143261b": {
          "model_module": "@jupyter-widgets/controls",
          "model_name": "FloatProgressModel",
          "state": {
            "_view_name": "ProgressView",
            "style": "IPY_MODEL_23f6f0ed24dd4285b66f5e099584c0a3",
            "_dom_classes": [],
            "description": "Validating: 100%",
            "_model_name": "FloatProgressModel",
            "bar_style": "info",
            "max": 30,
            "_view_module": "@jupyter-widgets/controls",
            "_model_module_version": "1.5.0",
            "value": 30,
            "_view_count": null,
            "_view_module_version": "1.5.0",
            "orientation": "horizontal",
            "min": 0,
            "description_tooltip": null,
            "_model_module": "@jupyter-widgets/controls",
            "layout": "IPY_MODEL_a8703e6f18c04c7cbeca74fe1eee1c92"
          }
        },
        "c48ee342bc8141cb85e699717f730c80": {
          "model_module": "@jupyter-widgets/controls",
          "model_name": "HTMLModel",
          "state": {
            "_view_name": "HTMLView",
            "style": "IPY_MODEL_4e3bf778e21348f4bca8886e42791b48",
            "_dom_classes": [],
            "description": "",
            "_model_name": "HTMLModel",
            "placeholder": "​",
            "_view_module": "@jupyter-widgets/controls",
            "_model_module_version": "1.5.0",
            "value": " 30/30 [00:08&lt;00:00,  3.46it/s]",
            "_view_count": null,
            "_view_module_version": "1.5.0",
            "description_tooltip": null,
            "_model_module": "@jupyter-widgets/controls",
            "layout": "IPY_MODEL_1bf19542e83842f2a72e774fa608a0d3"
          }
        },
        "23f6f0ed24dd4285b66f5e099584c0a3": {
          "model_module": "@jupyter-widgets/controls",
          "model_name": "ProgressStyleModel",
          "state": {
            "_view_name": "StyleView",
            "_model_name": "ProgressStyleModel",
            "description_width": "initial",
            "_view_module": "@jupyter-widgets/base",
            "_model_module_version": "1.5.0",
            "_view_count": null,
            "_view_module_version": "1.2.0",
            "bar_color": null,
            "_model_module": "@jupyter-widgets/controls"
          }
        },
        "a8703e6f18c04c7cbeca74fe1eee1c92": {
          "model_module": "@jupyter-widgets/base",
          "model_name": "LayoutModel",
          "state": {
            "_view_name": "LayoutView",
            "grid_template_rows": null,
            "right": null,
            "justify_content": null,
            "_view_module": "@jupyter-widgets/base",
            "overflow": null,
            "_model_module_version": "1.2.0",
            "_view_count": null,
            "flex_flow": null,
            "width": null,
            "min_width": null,
            "border": null,
            "align_items": null,
            "bottom": null,
            "_model_module": "@jupyter-widgets/base",
            "top": null,
            "grid_column": null,
            "overflow_y": null,
            "overflow_x": null,
            "grid_auto_flow": null,
            "grid_area": null,
            "grid_template_columns": null,
            "flex": "2",
            "_model_name": "LayoutModel",
            "justify_items": null,
            "grid_row": null,
            "max_height": null,
            "align_content": null,
            "visibility": null,
            "align_self": null,
            "height": null,
            "min_height": null,
            "padding": null,
            "grid_auto_rows": null,
            "grid_gap": null,
            "max_width": null,
            "order": null,
            "_view_module_version": "1.2.0",
            "grid_template_areas": null,
            "object_position": null,
            "object_fit": null,
            "grid_auto_columns": null,
            "margin": null,
            "display": null,
            "left": null
          }
        },
        "4e3bf778e21348f4bca8886e42791b48": {
          "model_module": "@jupyter-widgets/controls",
          "model_name": "DescriptionStyleModel",
          "state": {
            "_view_name": "StyleView",
            "_model_name": "DescriptionStyleModel",
            "description_width": "",
            "_view_module": "@jupyter-widgets/base",
            "_model_module_version": "1.5.0",
            "_view_count": null,
            "_view_module_version": "1.2.0",
            "_model_module": "@jupyter-widgets/controls"
          }
        },
        "1bf19542e83842f2a72e774fa608a0d3": {
          "model_module": "@jupyter-widgets/base",
          "model_name": "LayoutModel",
          "state": {
            "_view_name": "LayoutView",
            "grid_template_rows": null,
            "right": null,
            "justify_content": null,
            "_view_module": "@jupyter-widgets/base",
            "overflow": null,
            "_model_module_version": "1.2.0",
            "_view_count": null,
            "flex_flow": null,
            "width": null,
            "min_width": null,
            "border": null,
            "align_items": null,
            "bottom": null,
            "_model_module": "@jupyter-widgets/base",
            "top": null,
            "grid_column": null,
            "overflow_y": null,
            "overflow_x": null,
            "grid_auto_flow": null,
            "grid_area": null,
            "grid_template_columns": null,
            "flex": null,
            "_model_name": "LayoutModel",
            "justify_items": null,
            "grid_row": null,
            "max_height": null,
            "align_content": null,
            "visibility": null,
            "align_self": null,
            "height": null,
            "min_height": null,
            "padding": null,
            "grid_auto_rows": null,
            "grid_gap": null,
            "max_width": null,
            "order": null,
            "_view_module_version": "1.2.0",
            "grid_template_areas": null,
            "object_position": null,
            "object_fit": null,
            "grid_auto_columns": null,
            "margin": null,
            "display": null,
            "left": null
          }
        },
        "e18ca24fa25b4af0b778d13cfb109f6e": {
          "model_module": "@jupyter-widgets/controls",
          "model_name": "HBoxModel",
          "state": {
            "_view_name": "HBoxView",
            "_dom_classes": [],
            "_model_name": "HBoxModel",
            "_view_module": "@jupyter-widgets/controls",
            "_model_module_version": "1.5.0",
            "_view_count": null,
            "_view_module_version": "1.5.0",
            "box_style": "",
            "layout": "IPY_MODEL_ae1a9d7c62c141179a4820ae00fd1267",
            "_model_module": "@jupyter-widgets/controls",
            "children": [
              "IPY_MODEL_9ad1486ab7354c30876b523235dec52f",
              "IPY_MODEL_d5fd56944aa4456c94c641cb9f315e72"
            ]
          }
        },
        "ae1a9d7c62c141179a4820ae00fd1267": {
          "model_module": "@jupyter-widgets/base",
          "model_name": "LayoutModel",
          "state": {
            "_view_name": "LayoutView",
            "grid_template_rows": null,
            "right": null,
            "justify_content": null,
            "_view_module": "@jupyter-widgets/base",
            "overflow": null,
            "_model_module_version": "1.2.0",
            "_view_count": null,
            "flex_flow": "row wrap",
            "width": "100%",
            "min_width": null,
            "border": null,
            "align_items": null,
            "bottom": null,
            "_model_module": "@jupyter-widgets/base",
            "top": null,
            "grid_column": null,
            "overflow_y": null,
            "overflow_x": null,
            "grid_auto_flow": null,
            "grid_area": null,
            "grid_template_columns": null,
            "flex": null,
            "_model_name": "LayoutModel",
            "justify_items": null,
            "grid_row": null,
            "max_height": null,
            "align_content": null,
            "visibility": null,
            "align_self": null,
            "height": null,
            "min_height": null,
            "padding": null,
            "grid_auto_rows": null,
            "grid_gap": null,
            "max_width": null,
            "order": null,
            "_view_module_version": "1.2.0",
            "grid_template_areas": null,
            "object_position": null,
            "object_fit": null,
            "grid_auto_columns": null,
            "margin": null,
            "display": "inline-flex",
            "left": null
          }
        },
        "9ad1486ab7354c30876b523235dec52f": {
          "model_module": "@jupyter-widgets/controls",
          "model_name": "FloatProgressModel",
          "state": {
            "_view_name": "ProgressView",
            "style": "IPY_MODEL_e0873959d9844ed89d88f64c8cca3287",
            "_dom_classes": [],
            "description": "Testing: 100%",
            "_model_name": "FloatProgressModel",
            "bar_style": "success",
            "max": 1,
            "_view_module": "@jupyter-widgets/controls",
            "_model_module_version": "1.5.0",
            "value": 1,
            "_view_count": null,
            "_view_module_version": "1.5.0",
            "orientation": "horizontal",
            "min": 0,
            "description_tooltip": null,
            "_model_module": "@jupyter-widgets/controls",
            "layout": "IPY_MODEL_0515e1b20cb94991976e4622905f8b3c"
          }
        },
        "d5fd56944aa4456c94c641cb9f315e72": {
          "model_module": "@jupyter-widgets/controls",
          "model_name": "HTMLModel",
          "state": {
            "_view_name": "HTMLView",
            "style": "IPY_MODEL_8af2140734484a3eb817f694489aa1a8",
            "_dom_classes": [],
            "description": "",
            "_model_name": "HTMLModel",
            "placeholder": "​",
            "_view_module": "@jupyter-widgets/controls",
            "_model_module_version": "1.5.0",
            "value": " 50/50 [00:14&lt;00:00,  3.43it/s]",
            "_view_count": null,
            "_view_module_version": "1.5.0",
            "description_tooltip": null,
            "_model_module": "@jupyter-widgets/controls",
            "layout": "IPY_MODEL_87767ca21dd74ddbb386ad8749fa866f"
          }
        },
        "e0873959d9844ed89d88f64c8cca3287": {
          "model_module": "@jupyter-widgets/controls",
          "model_name": "ProgressStyleModel",
          "state": {
            "_view_name": "StyleView",
            "_model_name": "ProgressStyleModel",
            "description_width": "initial",
            "_view_module": "@jupyter-widgets/base",
            "_model_module_version": "1.5.0",
            "_view_count": null,
            "_view_module_version": "1.2.0",
            "bar_color": null,
            "_model_module": "@jupyter-widgets/controls"
          }
        },
        "0515e1b20cb94991976e4622905f8b3c": {
          "model_module": "@jupyter-widgets/base",
          "model_name": "LayoutModel",
          "state": {
            "_view_name": "LayoutView",
            "grid_template_rows": null,
            "right": null,
            "justify_content": null,
            "_view_module": "@jupyter-widgets/base",
            "overflow": null,
            "_model_module_version": "1.2.0",
            "_view_count": null,
            "flex_flow": null,
            "width": null,
            "min_width": null,
            "border": null,
            "align_items": null,
            "bottom": null,
            "_model_module": "@jupyter-widgets/base",
            "top": null,
            "grid_column": null,
            "overflow_y": null,
            "overflow_x": null,
            "grid_auto_flow": null,
            "grid_area": null,
            "grid_template_columns": null,
            "flex": "2",
            "_model_name": "LayoutModel",
            "justify_items": null,
            "grid_row": null,
            "max_height": null,
            "align_content": null,
            "visibility": null,
            "align_self": null,
            "height": null,
            "min_height": null,
            "padding": null,
            "grid_auto_rows": null,
            "grid_gap": null,
            "max_width": null,
            "order": null,
            "_view_module_version": "1.2.0",
            "grid_template_areas": null,
            "object_position": null,
            "object_fit": null,
            "grid_auto_columns": null,
            "margin": null,
            "display": null,
            "left": null
          }
        },
        "8af2140734484a3eb817f694489aa1a8": {
          "model_module": "@jupyter-widgets/controls",
          "model_name": "DescriptionStyleModel",
          "state": {
            "_view_name": "StyleView",
            "_model_name": "DescriptionStyleModel",
            "description_width": "",
            "_view_module": "@jupyter-widgets/base",
            "_model_module_version": "1.5.0",
            "_view_count": null,
            "_view_module_version": "1.2.0",
            "_model_module": "@jupyter-widgets/controls"
          }
        },
        "87767ca21dd74ddbb386ad8749fa866f": {
          "model_module": "@jupyter-widgets/base",
          "model_name": "LayoutModel",
          "state": {
            "_view_name": "LayoutView",
            "grid_template_rows": null,
            "right": null,
            "justify_content": null,
            "_view_module": "@jupyter-widgets/base",
            "overflow": null,
            "_model_module_version": "1.2.0",
            "_view_count": null,
            "flex_flow": null,
            "width": null,
            "min_width": null,
            "border": null,
            "align_items": null,
            "bottom": null,
            "_model_module": "@jupyter-widgets/base",
            "top": null,
            "grid_column": null,
            "overflow_y": null,
            "overflow_x": null,
            "grid_auto_flow": null,
            "grid_area": null,
            "grid_template_columns": null,
            "flex": null,
            "_model_name": "LayoutModel",
            "justify_items": null,
            "grid_row": null,
            "max_height": null,
            "align_content": null,
            "visibility": null,
            "align_self": null,
            "height": null,
            "min_height": null,
            "padding": null,
            "grid_auto_rows": null,
            "grid_gap": null,
            "max_width": null,
            "order": null,
            "_view_module_version": "1.2.0",
            "grid_template_areas": null,
            "object_position": null,
            "object_fit": null,
            "grid_auto_columns": null,
            "margin": null,
            "display": null,
            "left": null
          }
        }
      }
    }
  },
  "cells": [
    {
      "cell_type": "markdown",
      "metadata": {
        "id": "Od7iUgHy5SSi"
      },
      "source": [
        "# Aula 11: Análise de Sentimentos usando roBERTa\n",
        "Nome: **Orlem Lima dos Santos**\n",
        "\n",
        "Neste notebook iremos treinar um modelo para fazer análise de sentimento usando o dataset IMDB.\n",
        "\n",
        "# roBERTa (com pre-treino)"
      ]
    },
    {
      "cell_type": "markdown",
      "metadata": {
        "id": "fi5XXfD7YwaU"
      },
      "source": [
        "## RoBERTa: A Robustly Optimized BERT Pretraining Approach\n",
        "\n",
        "https://arxiv.org/abs/1907.11692"
      ]
    },
    {
      "cell_type": "markdown",
      "metadata": {
        "id": "JBCuGucyYy_T"
      },
      "source": [
        "RoBERTa iterates on BERT's pretraining procedure, including training the model longer, with bigger batches over more data; removing the next sentence prediction objective; training on longer sequences; and dynamically changing the masking pattern applied to the training data. See the associated paper for more details."
      ]
    },
    {
      "cell_type": "code",
      "metadata": {
        "id": "K9W4PojWtm-a"
      },
      "source": [
        "# !pip install pytorch_lightning==1.2.10\n",
        "# !pip install neptune-client\n",
        "# !pip install fairseq\n",
        "# !pip install git+https://github.com/pytorch/fairseq --upgrade"
      ],
      "execution_count": null,
      "outputs": []
    },
    {
      "cell_type": "code",
      "metadata": {
        "colab": {
          "base_uri": "https://localhost:8080/"
        },
        "id": "6ylYNg9z3eCT",
        "outputId": "222beae6-0a8e-45dd-b50e-dc5115afc16f"
      },
      "source": [
        "version = \"roberta_large_pretrain_imbd_test8\" #@param {type: \"string\"}\n",
        "lr = 5e-6#@param {type: \"number\"}\n",
        "w_decay = 0#@param {type: \"number\"}\n",
        "bs = 4#@param {type: \"integer\"}\n",
        "accum_grads = 8#@param {type: \"integer\"}\n",
        "patience = 10#@param {type: \"integer\"}\n",
        "max_epochs = 100#@param {type: \"integer\"}\n",
        "warm_up_epochs =  2#@param {type: \"integer\"}\n",
        "reduction = \"sum\"#@param {type: \"string\"}\n",
        "\n",
        "# Define hyperparameters\n",
        "hparams = {\"version\": version,\n",
        "          \"lr\": lr,\n",
        "          \"w_decay\": w_decay,\n",
        "          \"bs\": bs, \n",
        "          \"patience\": patience,\n",
        "          \"accum_grads\": accum_grads,\n",
        "          \"warm_up_epochs\":warm_up_epochs,\n",
        "          \"reduction\":reduction,\n",
        "          \"max_epochs\": max_epochs}\n",
        "hparams"
      ],
      "execution_count": null,
      "outputs": [
        {
          "output_type": "execute_result",
          "data": {
            "text/plain": [
              "{'accum_grads': 8,\n",
              " 'bs': 4,\n",
              " 'lr': 5e-06,\n",
              " 'max_epochs': 100,\n",
              " 'patience': 10,\n",
              " 'reduction': 'sum',\n",
              " 'version': 'roberta_large_pretrain_imbd_test8',\n",
              " 'w_decay': 0,\n",
              " 'warm_up_epochs': 2}"
            ]
          },
          "metadata": {
            "tags": []
          },
          "execution_count": 2
        }
      ]
    },
    {
      "cell_type": "markdown",
      "metadata": {
        "id": "CXFdJz2KVeQw"
      },
      "source": [
        "# Preparando Dados"
      ]
    },
    {
      "cell_type": "code",
      "metadata": {
        "id": "duYrXUVtSdxX"
      },
      "source": [
        "from pytorch_lightning.loggers.neptune import NeptuneLogger"
      ],
      "execution_count": null,
      "outputs": []
    },
    {
      "cell_type": "code",
      "metadata": {
        "colab": {
          "base_uri": "https://localhost:8080/"
        },
        "id": "-l7D2d2NSfnz",
        "outputId": "5b6f0674-3585-4958-fddc-9b42b1cf54cd"
      },
      "source": [
        "neptune_logger = NeptuneLogger(\n",
        "    api_key=\"eyJhcGlfYWRkcmVzcyI6Imh0dHBzOi8vYXBwLm5lcHR1bmUuYWkiLCJhcGlfdXJsIjoiaHR0cHM6Ly9hcHAubmVwdHVuZS5haSIsImFwaV9rZXkiOiJjMmJkZTg1Yy1kMjQ1LTRmMjEtYjBmYy1kMjVlMmMxODcyMTgifQ==\",\n",
        "    project_name='orllem/Aula11imdb')"
      ],
      "execution_count": null,
      "outputs": [
        {
          "output_type": "stream",
          "text": [
            "NeptuneLogger will work in online mode\n"
          ],
          "name": "stderr"
        }
      ]
    },
    {
      "cell_type": "markdown",
      "metadata": {
        "id": "gHMi_Kq65fPM"
      },
      "source": [
        "Primeiro, fazemos download do dataset:"
      ]
    },
    {
      "cell_type": "code",
      "metadata": {
        "id": "2wbnfzst5O3k",
        "colab": {
          "base_uri": "https://localhost:8080/"
        },
        "outputId": "3c1e5dd2-4494-4251-eb3c-2320e85fe382"
      },
      "source": [
        "!wget -nc http://files.fast.ai/data/examples/imdb_sample.tgz\n",
        "!tar -xzf imdb_sample.tgz"
      ],
      "execution_count": null,
      "outputs": [
        {
          "output_type": "stream",
          "text": [
            "File ‘imdb_sample.tgz’ already there; not retrieving.\n",
            "\n"
          ],
          "name": "stdout"
        }
      ]
    },
    {
      "cell_type": "code",
      "metadata": {
        "id": "x4th6nEltjUa"
      },
      "source": [
        "import nvidia_smi\n",
        "import pytorch_lightning as pl\n",
        "from torch.utils.data import DataLoader\n",
        "import torch\n",
        "from torch import nn\n",
        "import torch.nn.functional as F\n",
        "from sklearn.model_selection import train_test_split\n",
        "from torchmetrics.functional import f1\n",
        "from torchmetrics.functional import accuracy\n",
        "import os\n",
        "from google.colab import drive\n",
        "import numpy as np\n",
        "import itertools"
      ],
      "execution_count": null,
      "outputs": []
    },
    {
      "cell_type": "code",
      "metadata": {
        "colab": {
          "base_uri": "https://localhost:8080/"
        },
        "id": "bWJQQYQATnp0",
        "outputId": "8e4df556-8da5-4f7d-cbff-bd994d2599f9"
      },
      "source": [
        "drive.mount('/content/drive')"
      ],
      "execution_count": null,
      "outputs": [
        {
          "output_type": "stream",
          "text": [
            "Drive already mounted at /content/drive; to attempt to forcibly remount, call drive.mount(\"/content/drive\", force_remount=True).\n"
          ],
          "name": "stdout"
        }
      ]
    },
    {
      "cell_type": "code",
      "metadata": {
        "id": "eWYwrmHEuQEq",
        "colab": {
          "base_uri": "https://localhost:8080/"
        },
        "outputId": "fe3b61bd-f816-41bd-ebcf-79f00b6081b2"
      },
      "source": [
        "print(f\"Pytorch Lightning Version: {pl.__version__}\")\n",
        "nvidia_smi.nvmlInit()\n",
        "handle = nvidia_smi.nvmlDeviceGetHandleByIndex(0)\n",
        "print(f\"Device name: {nvidia_smi.nvmlDeviceGetName(handle)}\")"
      ],
      "execution_count": null,
      "outputs": [
        {
          "output_type": "stream",
          "text": [
            "Pytorch Lightning Version: 1.2.10\n",
            "Device name: b'Tesla P100-PCIE-16GB'\n"
          ],
          "name": "stdout"
        }
      ]
    },
    {
      "cell_type": "markdown",
      "metadata": {
        "id": "0Giyi5Rv_NIm"
      },
      "source": [
        "Carregamos o dataset .csv usando o pandas:"
      ]
    },
    {
      "cell_type": "code",
      "metadata": {
        "id": "0HIN_xLI_TuT",
        "colab": {
          "base_uri": "https://localhost:8080/",
          "height": 206
        },
        "outputId": "2cc10cde-d416-4fad-9855-3cd9799e8310"
      },
      "source": [
        "import pandas as pd\n",
        "df = pd.read_csv('imdb_sample/texts.csv')\n",
        "df.shape\n",
        "df.head()"
      ],
      "execution_count": null,
      "outputs": [
        {
          "output_type": "execute_result",
          "data": {
            "text/html": [
              "<div>\n",
              "<style scoped>\n",
              "    .dataframe tbody tr th:only-of-type {\n",
              "        vertical-align: middle;\n",
              "    }\n",
              "\n",
              "    .dataframe tbody tr th {\n",
              "        vertical-align: top;\n",
              "    }\n",
              "\n",
              "    .dataframe thead th {\n",
              "        text-align: right;\n",
              "    }\n",
              "</style>\n",
              "<table border=\"1\" class=\"dataframe\">\n",
              "  <thead>\n",
              "    <tr style=\"text-align: right;\">\n",
              "      <th></th>\n",
              "      <th>label</th>\n",
              "      <th>text</th>\n",
              "      <th>is_valid</th>\n",
              "    </tr>\n",
              "  </thead>\n",
              "  <tbody>\n",
              "    <tr>\n",
              "      <th>0</th>\n",
              "      <td>negative</td>\n",
              "      <td>Un-bleeping-believable! Meg Ryan doesn't even ...</td>\n",
              "      <td>False</td>\n",
              "    </tr>\n",
              "    <tr>\n",
              "      <th>1</th>\n",
              "      <td>positive</td>\n",
              "      <td>This is a extremely well-made film. The acting...</td>\n",
              "      <td>False</td>\n",
              "    </tr>\n",
              "    <tr>\n",
              "      <th>2</th>\n",
              "      <td>negative</td>\n",
              "      <td>Every once in a long while a movie will come a...</td>\n",
              "      <td>False</td>\n",
              "    </tr>\n",
              "    <tr>\n",
              "      <th>3</th>\n",
              "      <td>positive</td>\n",
              "      <td>Name just says it all. I watched this movie wi...</td>\n",
              "      <td>False</td>\n",
              "    </tr>\n",
              "    <tr>\n",
              "      <th>4</th>\n",
              "      <td>negative</td>\n",
              "      <td>This movie succeeds at being one of the most u...</td>\n",
              "      <td>False</td>\n",
              "    </tr>\n",
              "  </tbody>\n",
              "</table>\n",
              "</div>"
            ],
            "text/plain": [
              "      label                                               text  is_valid\n",
              "0  negative  Un-bleeping-believable! Meg Ryan doesn't even ...     False\n",
              "1  positive  This is a extremely well-made film. The acting...     False\n",
              "2  negative  Every once in a long while a movie will come a...     False\n",
              "3  positive  Name just says it all. I watched this movie wi...     False\n",
              "4  negative  This movie succeeds at being one of the most u...     False"
            ]
          },
          "metadata": {
            "tags": []
          },
          "execution_count": 9
        }
      ]
    },
    {
      "cell_type": "markdown",
      "metadata": {
        "id": "S8dfjdJ-AV79"
      },
      "source": [
        "Iremos agora dividir o dataset em conjuntos de treino e teste:"
      ]
    },
    {
      "cell_type": "code",
      "metadata": {
        "id": "KCoftmPmAfXE",
        "colab": {
          "base_uri": "https://localhost:8080/"
        },
        "outputId": "e204b2f5-7c0b-43ce-e5f6-fdff3b916cb8"
      },
      "source": [
        "treino = df[df['is_valid'] == False]\n",
        "test = df[df['is_valid'] == True]\n",
        "\n",
        "print('treino.shape:', treino.shape)\n",
        "print('test.shape:', test.shape)"
      ],
      "execution_count": null,
      "outputs": [
        {
          "output_type": "stream",
          "text": [
            "treino.shape: (800, 3)\n",
            "test.shape: (200, 3)\n"
          ],
          "name": "stdout"
        }
      ]
    },
    {
      "cell_type": "markdown",
      "metadata": {
        "id": "ZHus6FH7DftH"
      },
      "source": [
        "E iremos dividir estes dois conjuntos em entrada (X) e saída desejada (Y, ground-truth) do modelo:"
      ]
    },
    {
      "cell_type": "code",
      "metadata": {
        "id": "I2HyoywGDcW8",
        "colab": {
          "base_uri": "https://localhost:8080/"
        },
        "outputId": "bf451de5-f209-4c45-ebde-99a2c2a9c83b"
      },
      "source": [
        "X_treino = treino['text']\n",
        "Y_treino = treino['label']\n",
        "X_test = test['text']\n",
        "Y_teste = test['label']\n",
        "\n",
        "print('X_treino.head():', X_treino.head())\n",
        "print('Y_treino.head():', Y_treino.head())\n",
        "\n",
        "print('X_test.head():', X_test.head())"
      ],
      "execution_count": null,
      "outputs": [
        {
          "output_type": "stream",
          "text": [
            "X_treino.head(): 0    Un-bleeping-believable! Meg Ryan doesn't even ...\n",
            "1    This is a extremely well-made film. The acting...\n",
            "2    Every once in a long while a movie will come a...\n",
            "3    Name just says it all. I watched this movie wi...\n",
            "4    This movie succeeds at being one of the most u...\n",
            "Name: text, dtype: object\n",
            "Y_treino.head(): 0    negative\n",
            "1    positive\n",
            "2    negative\n",
            "3    positive\n",
            "4    negative\n",
            "Name: label, dtype: object\n",
            "X_test.head(): 800    This very funny British comedy shows what migh...\n",
            "801    I saw this movie once as a kid on the late-lat...\n",
            "802    This is, in my opinion, a very good film, espe...\n",
            "803    In Iran, women are not permitted to attend men...\n",
            "804    \"In April 1946, the University of Chicago agre...\n",
            "Name: text, dtype: object\n"
          ],
          "name": "stdout"
        }
      ]
    },
    {
      "cell_type": "markdown",
      "metadata": {
        "id": "M2yNXutfEXQ7"
      },
      "source": [
        "Ainda falta converter as strings \"positive\" e \"negative\" do ground-truth para valores booleanos:"
      ]
    },
    {
      "cell_type": "code",
      "metadata": {
        "id": "46RdLFLkEW-X",
        "colab": {
          "base_uri": "https://localhost:8080/"
        },
        "outputId": "990fc7b2-0fab-4729-899a-486afcb59c5f"
      },
      "source": [
        "mapeamento = {'positive': True, 'negative': False}\n",
        "Y_treino_bool = Y_treino.map(mapeamento)\n",
        "Y_test = Y_teste.map(mapeamento)\n",
        "print(Y_treino_bool.head())"
      ],
      "execution_count": null,
      "outputs": [
        {
          "output_type": "stream",
          "text": [
            "0    False\n",
            "1     True\n",
            "2    False\n",
            "3     True\n",
            "4    False\n",
            "Name: label, dtype: bool\n"
          ],
          "name": "stdout"
        }
      ]
    },
    {
      "cell_type": "code",
      "metadata": {
        "colab": {
          "base_uri": "https://localhost:8080/"
        },
        "id": "4viXG61BeT_X",
        "outputId": "380556be-7e6a-4485-ca56-f053bd4b6dfd"
      },
      "source": [
        "df['text']"
      ],
      "execution_count": null,
      "outputs": [
        {
          "output_type": "execute_result",
          "data": {
            "text/plain": [
              "0      Un-bleeping-believable! Meg Ryan doesn't even ...\n",
              "1      This is a extremely well-made film. The acting...\n",
              "2      Every once in a long while a movie will come a...\n",
              "3      Name just says it all. I watched this movie wi...\n",
              "4      This movie succeeds at being one of the most u...\n",
              "                             ...                        \n",
              "995    There are many different versions of this one ...\n",
              "996    Once upon a time Hollywood produced live-actio...\n",
              "997    Wenders was great with Million $ Hotel.I don't...\n",
              "998    Although a film with Bruce Willis is always wo...\n",
              "999    A compelling, honest, daring, and unforgettabl...\n",
              "Name: text, Length: 1000, dtype: object"
            ]
          },
          "metadata": {
            "tags": []
          },
          "execution_count": 13
        }
      ]
    },
    {
      "cell_type": "code",
      "metadata": {
        "id": "SI8JLBygpfHs"
      },
      "source": [
        "X_train, X_valid, Y_train, Y_valid = train_test_split(X_treino.values, Y_treino_bool.values,\n",
        "                                                      test_size=0.15, stratify=Y_treino_bool.values,\n",
        "                                                      random_state=12)"
      ],
      "execution_count": null,
      "outputs": []
    },
    {
      "cell_type": "code",
      "metadata": {
        "colab": {
          "base_uri": "https://localhost:8080/"
        },
        "id": "qHBHG0sHy-mc",
        "outputId": "c5c92e1e-e83b-4871-a2c5-4f8451803762"
      },
      "source": [
        "print(X_train[0:5])\n",
        "print(Y_train[0:5])"
      ],
      "execution_count": null,
      "outputs": [
        {
          "output_type": "stream",
          "text": [
            "['As horror fans we all know that blind rentals are a crap-shoot. Sometimes we find a real gem, but many times we find that the film we\\'ve just spent our hard earned money on is nothing more than a putrid steamer made worse by the completely undeserved rave reviews and film fest awards listed on the box. Such is the case with Five Across the Eyes ( a title I\\'m sure is a double entendre referring to both the films budget and the compulsion anyone watching it might have to using all five fingers to stab their eyes out ).<br /><br />The story, or, at least what the *ahem* writers think passes for one, centers on a group of teen girls who unwisely decide to go on a backwoods joyride late at night after leaving a football game and run afoul of a crazy woman who plays cat and mouse with them as punishment for what she thinks the girls found in her car after a fender-bender in a gas station parking lot.<br /><br />In fairness, it\\'s an interesting idea. Some of the best horrors have very simple story lines. It\\'s in the execution of Five Across the Eyes that this idea falls flat. The film tries to be a cross between The Blair Witch Project with its shaky camera work and The Texas Chainsaw Massacre in its bare-bones approach to the material but succeeds at being neither. What we get instead are redundant scenes of chase, torture, release; chase torture, release, in that order for 94 minutes with long interludes of bitching, moaning, and incoherent rambling acting as plenty of padding in-between chase sequences.<br /><br />The look of the film is incredibly grainy and dark, which, in a better made film might have enhanced the tension and the realism. Here it\\'s merely annoying. The characters are undeveloped and the viewer is hard-pressed to find anything to sympathize with them. One character stops to get a first-aid kit and tend to some scrapes on her face while gunshots heard in the background indicate her friends may be getting killed. Another girl mutters hilariously dumb lines like \"Don\\'t go out there, she\\'ll get you, if she gets you she\\'ll kill you and if she kill\\'s you you\\'re dead\".<br /><br />It was an accolade from Fangoria magazine and Dreadcentral.com listed on the box that compelled me to check this one out. Talk about a fake orgasm! Perhaps my expectations would have been met had this been in the comedy section. I\\'m all for low-budget Indie horror but this one takes the crap-cake. Give Five Across the Eyes (or FATE; get it?) a pass.<br /><br />RazorFriendly gives FATE 1 slash out of five /'\n",
            " \"First of all, in defense of JOAN FONTAINE, it must be said that Ginger Rogers would have been terribly miscast as Alyce, the young British lady who has the title role. Fontaine makes a fetching picture as the heroine here, but her acting inexperience shows badly and her dancing is better left unmentioned. Fortunately, she went on to better things.<br /><br />But here it's FRED ASTAIRE, GEORGE BURNS and GRACIE ALLEN who get the top billing--and they are excellent. Fans of Burns & Allen will be surprised at how easily they fit into Astaire's dance routines. Especially interesting is the big fun house routine that won choreographer Hermes Pans an Oscar. They join Astaire in what has to be the film's most inventive highlight.<br /><br />Unfortunately, not much can be said for the slow pacing of the story--nor some of the stale situations which call for a lot of patience from the viewer. It must be said that some of the humor falls flat and the usual romantic misunderstandings that occur in any Fred Astaire film of this period are given conventional treatment. Only the musical interludes give the story the lift it needs.<br /><br />Some pleasant Gershwin tunes pop up once in awhile but not all of them get the treatment they deserve. The nice supporting cast includes Reginald Gardiner, at his best in a polished comic performance as a conniving servant, Constance Collier and Montagu Love (as Joan's father mistaken as a gardener by Astaire).<br /><br />It's a lighthearted romp whenever Burns & Allen are around to remind us how funny they were in their radio and television days. Both of them are surprisingly adept in keeping up with Astaire's footwork.<br /><br />Director George Stevens makes sure that Joan Fontaine's hillside dance number with Fred is filmed at a discreet distance but clever camera-work cannot disguise the fact that she is out of her element as Astaire's dance partner, something she seems painfully aware of.\"\n",
            " \"Though I liked On the Town better I really liked it. I'm a new comer when it comes to Frank Sinatra and Gene Kelly. Though I had heard of them I had never seen anything with them in it until recently. The first one I saw was Singin in the Rain that made me a fan of Gene's. I think that is better too. But I thought that this movie was good and like all movies there are some parts that are better than others but in my book it's an awesome movie and I love it. Frank and Gene make a good team. I have yet to see them together in Take me out to the Ballgame. But I'm sticking to my guns bu saying that I really enjoyed it, and that I love it!\"\n",
            " '...you know the rest. If you want a good zombie movie, DON\\'T RENT THIS MOVIE. If you want a documentary-esquire look at \"hood life\" you\\'re at the wrong place as well. If you\\'re looking for a laughable piece of film, this is a real winner! The acting is as flat as a piece of paper. The best example of this is definitely the officer investigating the drive-by. I can tell that he did the voice for the 911 operator as well by the flat tone of his voice. If I could hear a cardboard box talk, it\\'d probably sound like this guy. Oh yea, and the \"zombies\" did their best snake impression which is on par with their FANTASTIC acting overall (note sarcasm...HOW DID THIS NOT WIN AN Oscar FOR BEST MAKE-UP) The Quiroz......did not do any sort of directing. I felt like I was watching an improvisational period piece (the period is more like 1990\\'s LA) The direction is however one-uped by the worst script I think to ever grace a movie. I haven\\'t heard such lovely lines, like the epic one word beginning to the movie \"F**k!\", since Ice Grill which was another \"urban\" thriller. This only works of course in conjunction with the also-epic hip-hop soundtrack! All 3 or so songs of it! All in all, what the hell did you expect from a movie entitled \"Hood of the Living Dead\"? I rented this movie with full intention to laugh at its every scene, and boy it delivered and MORE! I would definitely recommend this to anyone who wants to get together with a bunch of guys and laugh at a low budget horror (yea right...) movie for the night. A memorable experience for sure!'\n",
            " 'Peeew this stinks! As everyone knows it\\'s based upon some Geico insurance commercials; what no one knows is WHY?! Those commercials were amusing on first viewing at best; hardly fodder for a series. (The talking Geico gecko -- that\\'s another story. Now that would make for an intriguing series!) And why on earth did ABC -- as reported in the press -- actually agree to buy the cavemen character rights from Geico for this? After all, the idea of cavemen struggling in the modern world is hardly unique to TV; Phil Hartman had a recurring Saturday Night Live role as The Unfrozen Caveman Lawyer over a decade ago. And that\\'s how a concept like this works best -- as an occasional installment. But a regular series? Fuhgeddaboudit. (A 1960s series called \"It\\'s About Time\" also used the cavemen in the modern world concept. It lasted one season.) <br /><br />One of the show\\'s directors, who was also responsible for the Geico commercials, was recently quoted as saying: \"We were so excited when we were shooting our commercials because we felt like we had something that was very unique and we had bigger stories to tell.\" Wrong.<br /><br />In the annals of bad TV, this is destined to take its place alongside 1972\\'s \"Me and the Chimp\" as one of the all-time worst. The lead actor in the embarrassing Chimp fiasco actually went into shame-by-association hiding after it was abruptly canceled. No doubt our cavemen friends will follow suit.']\n",
            "[False  True  True False False]\n"
          ],
          "name": "stdout"
        }
      ]
    },
    {
      "cell_type": "code",
      "metadata": {
        "colab": {
          "base_uri": "https://localhost:8080/"
        },
        "id": "ox07WqkqXoaX",
        "outputId": "72436608-6474-4215-93e5-8b2c3160184c"
      },
      "source": [
        "print(X_valid[0:5])\n",
        "print(Y_valid[0:5])"
      ],
      "execution_count": null,
      "outputs": [
        {
          "output_type": "stream",
          "text": [
            "['Frank Sinatra was far from the ideal actor for westerns. He was a great actor, From Here to Eternity and The Man with The Golden arm are a proof of that, but he did not have the physique of a western hero, you identified him as an urban guy. But he tried to do his job well in Johnny Concho, the fact that the film was a failure at the box office was not his fault. I blame it on two factors: a) the story was too unusual, specially in the fact that Sinatra behaves more like a villain than as a hero throughout the movie. In a genre where people kind of expected a certain pattern, to break away from it the film has to be very good. b) the story is not convincing, it is hard to believe that a whole town will allow Sinatra to do anything he wants just because they are afraid of his brother. Also when a man shows him a special holster that will open sideways so he has not to draw the gun you wonder that if that will make him invincible, why all the gunfighters have not adopted it? I think that this film should not have been withdrawn, because any film with Sinatra is worth seeing, and in spite of its shortcomings it is still enjoyable'\n",
            " \"William Hurt may not be an American matinee idol anymore, but he still has pretty good taste in B-movie projects. Here, he plays a specialist in hazardous waste clean-ups with a tragic past tracking down a perennial loser on the run --played by former pretty-boy Weller-- who has been contaminated with a deadly poison. Current pretty-boy Hardy Kruger Jr --possibly more handsome than his dad-- is featured as Weller's arrogant boss in a horrifying sequence at a chemical production plant which gets the story moving. Natasha McElhone is a slightly wacky government agent looking into the incident who provides inevitable & high-cheekboned love interest for hero Hurt. Michael Brandon pops up to play a slimy take-no-prisoners type whose comeuppance you can't wait for. The Coca-Cola company wins the Product Placement award for 2000 as the soft drink is featured throughout the production, shot lovingly on location in a wintery picture-postcard Hungary.\"\n",
            " 'The views of Earth that are claimed in this film to have been faked by NASA have recently been compared with the historical weather data for the time of Apollo 11, and show a good match between the cloud patterns in the video sequence and the actual rainfall records on the day.<br /><br />This would seem to undermine the entire argument put forward in the film that the \"whole Earth\" picture is actually a small part of the planet framed by the spacecraft window.<br /><br />I am waiting for Bart Sibrel to now claim that the historical weather data has been faked by NASA, though that would no doubt involve them in also replacing every archived newspaper copy with a weather map, and the ones in private hands would still be a problem.<br /><br />Ah, a response: \"Trying to discredit this movie by referring to NASA weather data I\\'d say is a charming, but weak and gullible argument. What about the rest of the footage and proofs in the movie? A certain wise man once said something about sifting mosquitoes and swallowing camels. Do you in any way feel that maybe this could apply to what you are trying to do here? :-) This movie is just packed with irrefutable evidence against the claim once made by U.S. government that the moon-missions were a success, and that man now are true masters of the universe. Things are nearly never quite what they seem.. Just watch the movie, and I dear say you\\'ll see things a bit different than before.\"<br /><br />First off, weather data doesn\\'t come from NASA, it comes for met agencies around the world. Second, the weather data undermines a major claim in the film. Third, far from being \"packed with irrefutable evidence\", the remaining claims in the film have been thoroughly debunked. Sibrel thought he had a previously secret piece of film, so he edited it and added his own interpretation. Unfortunately for him, his source film is public domain, and the bits Sibrel edited out contradict his claims.'\n",
            " \"I think I've seen worse films, so I'm giving this a 3, but it's a struggle to remember what they could have been!! Possibly Xtro (nasty & dull) or possibly Creep (just plain dull), but it is a struggle to think of something worse. It's difficult to know where to start. Let's just say it's a poor man's Under Siege, starring an even poorer man's Jean Claude Van Damme. The only redeeming feature was seeing Casper Van Dien - I always wondered what happened to him after Starship Troopers. Yes, he was Johnny Rico, if you really want to know.<br /><br />Judging from this site, he's been stuck in TV movie hell.... Casper, be more selective.... please!!!!!!!!!!!! Arghhhhh, I've just turned over and there's a half decent film on called Criminal Law...... now I'm beginning to get really resentful about the last 1.5hrs!!!\"\n",
            " \"TV does influence society...just look at the surge in popularity of cappucino shops after this shallow little piece of work debuted. Besides, real people who look as good as these people do don't have any problems.<br /><br />Besides, does anyone really believe that these people can afford to live in a nice Manhattan loft considering what they do for a living? NBC just loves to insult the viewer's intelligence, even if they're just around Gump's level. I know a person who makes $100,000 a year as a web designer and lives in a tiny one-bedroom apartment in Manhattan that costs $2200 a month in rent. <br /><br />I'd like to see a show called Phriends, where it's six ugly nobodies in dead-end jobs, living in a crummy neighborhood where sirens constantly wail and someone gets mugged every week...and then the landlord jacks up the rent. Now THAT I would watch.\"]\n",
            "[False  True False False False]\n"
          ],
          "name": "stdout"
        }
      ]
    },
    {
      "cell_type": "code",
      "metadata": {
        "colab": {
          "base_uri": "https://localhost:8080/"
        },
        "id": "5_OF8DJnXl5u",
        "outputId": "a5b1c902-1904-4a95-8e1a-6524eb058997"
      },
      "source": [
        "print(X_test.values[0:5])\n",
        "print(Y_test.values[0:5])"
      ],
      "execution_count": null,
      "outputs": [
        {
          "output_type": "stream",
          "text": [
            "[\"This very funny British comedy shows what might happen if a section of London, in this case Pimlico, were to declare itself independent from the rest of the UK and its laws, taxes & post-war restrictions. Merry mayhem is what would happen.<br /><br />The explosion of a wartime bomb leads to the discovery of ancient documents which show that Pimlico was ceded to the Duchy of Burgundy centuries ago, a small historical footnote long since forgotten. To the new Burgundians, however, this is an unexpected opportunity to live as they please, free from any interference from Whitehall.<br /><br />Stanley Holloway is excellent as the minor city politician who suddenly finds himself leading one of the world's tiniest nations. Dame Margaret Rutherford is a delight as the history professor who sides with Pimlico. Others in the stand-out cast include Hermione Baddeley, Paul Duplis, Naughton Wayne, Basil Radford & Sir Michael Hordern.<br /><br />Welcome to Burgundy!\"\n",
            " \"I saw this movie once as a kid on the late-late show and fell in love with it.<br /><br />It took 30+ years, but I recently did find it on DVD - it wasn't cheap, either - in a catalog that specialized in war movies. We watched it last night for the first time. The audio was good, however it was grainy and had the trailers between reels. Even so, it was better than I remembered it. I was also impressed at how true it was to the play.<br /><br />The catalog is around here someplace. If you're sincere in finding it, fire me a missive and I'll see if I can get you the info. cartwrightbride@yahoo.com\"\n",
            " \"This is, in my opinion, a very good film, especially for Michael Jackson lovers. It contains a message on drugs, stunning special effects, and an awesome music video.<br /><br />The main film is centered around the song and music video 'Smooth Criminal.' Unlike the four-minute music video, it is normal speed and, in my opinion, much easier to watch.<br /><br />The plot is rather weird, however. Michael Jackson plays a magical 'gangster' that, when he sees a shooting star, he transforms into a piece of machinery. Throughout the film, he transforms into a race car, a giant robot, and a space ship.<br /><br />The robot scene in particular is a bit drawn out and strange. I found it a little out-of-whack compared to the rest of the film.<br /><br />A child is kidnapped, Michael tries to save her, is tortured and beaten, and suddenly turns into a giant robot that blows up all the bad guys. A little weird? Yeah.<br /><br />But besides the bizarre robot scene, it's a very good movie, and any Michael Jackson fan will enjoy both the Smooth Criminal music video and the movie.\"\n",
            " 'In Iran, women are not permitted to attend men\\'s sporting events, apparently to \"protect\" them from all the cursing and foul language they might hear emanating from the male fans (so since men can\\'t restrain or behave themselves, women are forced to suffer. Go figure.). \"Offside\" tells the tale of a half dozen or so young women who, dressed like men, attempt to sneak into the high-stakes match between Iran and Bahrain that, in 2005, qualified Iran to go to the World Cup (the movie was actually filmed in large part during that game).<br /><br />\"Offside\" is a slice-of-life comedy that will remind you of all those great humanistic films (\"The Shop on Main Street,\" \"Loves of a Blonde,\" \"Closely Watched Trains\" etc.) that flowed out of Communist Czechoslovakia as part of the \"Prague Miracle\" in the mid 1960\\'s. As with many of those works, \"Offside\" is more concerned with observing life than with devising any kind of elaborately contrived fictional narrative. Indeed, it is the simplicity of the setup and the naturalism of the style that make the movie so effective.<br /><br />Once their ruse is discovered, the girls are corralled into a small pen right outside the stadium where they can hear the raucous cheering emanating from the game inside. Stuck where they are, all they can do is plead with the security guards to let them go in, guards who are basically bumbling, good-natured lads who are compelled to do their duty as a part of their compulsory military service. Even most of the men going into the stadium don\\'t seem particularly perturbed at the thought of these women being allowed in. Still the prohibition persists. Yet, how can one not be impressed by the very real courage and spunk displayed by these women as they go up against a system that continues to enforce such a ridiculously regressive and archaic restriction? And, yet, the purpose of these women is not to rally behind a cause or to make a \"point.\" They are simply obsessed fans with a burning desire to watch a soccer game and, like all the men in the country, cheer on their team.<br /><br />It\\'s hard to tell just how much of the dialogue is scripted and how much of it is extemporaneous, but, in either case, the actors, with their marvelously expressive faces, do a magnificent job making each moment seem utterly real and convincing. Mohammad Kheir-abadi and Shayesteh Irani are notable standouts in a uniformly excellent cast. The structure of the film is also very loose and freeform, as writer/director Jafar Panahi and co-writer Shadmehr Rastin focus for a few brief moments on one or two of the characters, then move smoothly and effortlessly onto others. With this documentary-type approach, we come to feel as if we are witnessing an actual event unfolding in \"real time.\" Very often, it\\'s quite easy for us to forget we\\'re actually watching a movie.<br /><br />It was a very smart move on the part of the filmmakers to include so much good-natured humor in the film (it\\'s what the Czech filmmakers did as well), the better to point up the utter absurdity of the situation and broaden the appeal of the film for audiences both domestic and foreign. \"Offside\" is obviously a cry for justice, but it is one that is made all the more effective by its refusal to make of its story a heavy-breathing tragedy. Instead, it realizes that nothing breaks down social barriers quite as efficiently as humor and an appeal to the audience\\'s common humanity. And isn\\'t that what true art is supposed to be all about? In its own quiet, understated way, \"Offside\" is one of the great, under-appreciated gems of 2007.'\n",
            " '\"In April 1946, the University of Chicago agreed to operate Argonne National Laboratory, with an association of Midwestern universities offering to sponsor the research. Argonne thereby became the first \"national\" laboratory. It did not, however, remain at its original location in the Argonne forest. In 1947, it moved farther west from the \"Windy City\" to a new site on Illinois farmland. When Alvin Weinberg visited Argonne\\'s director, Walter Zinn, in 1947, he asked him what kind of reactor was to be built at the new site. When Zinn described a heavy-water reactor operating at one-tenth the power of the Materials Testing Reactor under design at Oak Ridge, Weinberg joked it would be simpler if Zinn took the Oak Ridge design and operated the Materials Testing Reactor at one-tenth capacity. The joke proved unintentionally prophetic.\"<br /><br />The S-50 plant used convection to separate the isotopes in thousands of tall columns. It was built next to the K-25 power plant, which provided the necessary steam. Much less efficient than K-25, the S-50 plant was torn down after the war.<br /><br />Concerned that the Atomic Energy Commission research program might become too academic, Lilienthal established a committee of industrial advisers, and during a November visit to Oak Ridge, he discussed with Clark Center, manager of Carbide & Carbon, a subsidiary of Union Carbide Corporation at Oak Ridge, the possibility of the company assuming management of the Laboratory.<br /><br />Prince Henry (of Prussia) Arriving in Washington and Visiting the German Embassy (1902). Evidently, with Prince Henry of Prussia according to the principles of science and its dangers their were already concerns with the applications of new science with military applications. The Hohenzollern (1902/II), \"Kaiser Wilhelm\\'s splendid yacht at the 34th St. Pier, New York. Taken at the exact moment of Prince Henry\\'s arrival, and the raising of the royal standard.\" If Royalty knew of these necessary precautions to citizen welfare then what was the necessity of the warfare WWI and WWII. The quality of management control I presume?<br /><br />Thus, did the commandos of Operation Swallow volunteer for a military mission, or a business plan, based on the security principles of Laboratory management? Because supposedly their were no survivors, and the ones who were caught in Europe ordered to be executed. Of the 400 man commando team the survivors who were captured were executed under orders of the German Army against subversion, and espionage acts of the State of Germany. <br /><br />The Führer No. 003830/42 g. Kdos. OKW/WFSt, Führer HQ, 18 Oct. 1942, (signed) Adolph Hitler; Translation of Document no. 498-PS, Office of U.S. Chief of Counsel, certified true copy Kipp Major, declassified DOD 5200.30 March 23, 1983, reproduced at the U.S. National Archives.<br /><br />The OSS Society® 6723 Whittier Ave., 200 McLean, VA 22101']\n",
            "[ True  True  True  True  True]\n"
          ],
          "name": "stdout"
        }
      ]
    },
    {
      "cell_type": "code",
      "metadata": {
        "colab": {
          "base_uri": "https://localhost:8080/"
        },
        "id": "5WCj10B_O5X0",
        "outputId": "7fc7d592-24c8-443b-99fa-7b71dd3589fb"
      },
      "source": [
        "roberta = torch.hub.load('pytorch/fairseq', 'roberta.large')\n",
        "# roberta = torch.hub.load('pytorch/fairseq', 'roberta.base')\n",
        "# roberta.eval()  # disable dropout (or leave in train mode to finetune)\n",
        "print(roberta)"
      ],
      "execution_count": null,
      "outputs": [
        {
          "output_type": "stream",
          "text": [
            "Using cache found in /root/.cache/torch/hub/pytorch_fairseq_master\n"
          ],
          "name": "stderr"
        },
        {
          "output_type": "stream",
          "text": [
            "RobertaHubInterface(\n",
            "  (model): RobertaModel(\n",
            "    (encoder): RobertaEncoder(\n",
            "      (sentence_encoder): TransformerEncoder(\n",
            "        (dropout_module): FairseqDropout()\n",
            "        (embed_tokens): Embedding(50265, 1024, padding_idx=1)\n",
            "        (embed_positions): LearnedPositionalEmbedding(514, 1024, padding_idx=1)\n",
            "        (layernorm_embedding): LayerNorm((1024,), eps=1e-05, elementwise_affine=True)\n",
            "        (layers): ModuleList(\n",
            "          (0): TransformerEncoderLayer(\n",
            "            (self_attn): MultiheadAttention(\n",
            "              (dropout_module): FairseqDropout()\n",
            "              (k_proj): Linear(in_features=1024, out_features=1024, bias=True)\n",
            "              (v_proj): Linear(in_features=1024, out_features=1024, bias=True)\n",
            "              (q_proj): Linear(in_features=1024, out_features=1024, bias=True)\n",
            "              (out_proj): Linear(in_features=1024, out_features=1024, bias=True)\n",
            "            )\n",
            "            (self_attn_layer_norm): LayerNorm((1024,), eps=1e-05, elementwise_affine=True)\n",
            "            (dropout_module): FairseqDropout()\n",
            "            (activation_dropout_module): FairseqDropout()\n",
            "            (fc1): Linear(in_features=1024, out_features=4096, bias=True)\n",
            "            (fc2): Linear(in_features=4096, out_features=1024, bias=True)\n",
            "            (final_layer_norm): LayerNorm((1024,), eps=1e-05, elementwise_affine=True)\n",
            "          )\n",
            "          (1): TransformerEncoderLayer(\n",
            "            (self_attn): MultiheadAttention(\n",
            "              (dropout_module): FairseqDropout()\n",
            "              (k_proj): Linear(in_features=1024, out_features=1024, bias=True)\n",
            "              (v_proj): Linear(in_features=1024, out_features=1024, bias=True)\n",
            "              (q_proj): Linear(in_features=1024, out_features=1024, bias=True)\n",
            "              (out_proj): Linear(in_features=1024, out_features=1024, bias=True)\n",
            "            )\n",
            "            (self_attn_layer_norm): LayerNorm((1024,), eps=1e-05, elementwise_affine=True)\n",
            "            (dropout_module): FairseqDropout()\n",
            "            (activation_dropout_module): FairseqDropout()\n",
            "            (fc1): Linear(in_features=1024, out_features=4096, bias=True)\n",
            "            (fc2): Linear(in_features=4096, out_features=1024, bias=True)\n",
            "            (final_layer_norm): LayerNorm((1024,), eps=1e-05, elementwise_affine=True)\n",
            "          )\n",
            "          (2): TransformerEncoderLayer(\n",
            "            (self_attn): MultiheadAttention(\n",
            "              (dropout_module): FairseqDropout()\n",
            "              (k_proj): Linear(in_features=1024, out_features=1024, bias=True)\n",
            "              (v_proj): Linear(in_features=1024, out_features=1024, bias=True)\n",
            "              (q_proj): Linear(in_features=1024, out_features=1024, bias=True)\n",
            "              (out_proj): Linear(in_features=1024, out_features=1024, bias=True)\n",
            "            )\n",
            "            (self_attn_layer_norm): LayerNorm((1024,), eps=1e-05, elementwise_affine=True)\n",
            "            (dropout_module): FairseqDropout()\n",
            "            (activation_dropout_module): FairseqDropout()\n",
            "            (fc1): Linear(in_features=1024, out_features=4096, bias=True)\n",
            "            (fc2): Linear(in_features=4096, out_features=1024, bias=True)\n",
            "            (final_layer_norm): LayerNorm((1024,), eps=1e-05, elementwise_affine=True)\n",
            "          )\n",
            "          (3): TransformerEncoderLayer(\n",
            "            (self_attn): MultiheadAttention(\n",
            "              (dropout_module): FairseqDropout()\n",
            "              (k_proj): Linear(in_features=1024, out_features=1024, bias=True)\n",
            "              (v_proj): Linear(in_features=1024, out_features=1024, bias=True)\n",
            "              (q_proj): Linear(in_features=1024, out_features=1024, bias=True)\n",
            "              (out_proj): Linear(in_features=1024, out_features=1024, bias=True)\n",
            "            )\n",
            "            (self_attn_layer_norm): LayerNorm((1024,), eps=1e-05, elementwise_affine=True)\n",
            "            (dropout_module): FairseqDropout()\n",
            "            (activation_dropout_module): FairseqDropout()\n",
            "            (fc1): Linear(in_features=1024, out_features=4096, bias=True)\n",
            "            (fc2): Linear(in_features=4096, out_features=1024, bias=True)\n",
            "            (final_layer_norm): LayerNorm((1024,), eps=1e-05, elementwise_affine=True)\n",
            "          )\n",
            "          (4): TransformerEncoderLayer(\n",
            "            (self_attn): MultiheadAttention(\n",
            "              (dropout_module): FairseqDropout()\n",
            "              (k_proj): Linear(in_features=1024, out_features=1024, bias=True)\n",
            "              (v_proj): Linear(in_features=1024, out_features=1024, bias=True)\n",
            "              (q_proj): Linear(in_features=1024, out_features=1024, bias=True)\n",
            "              (out_proj): Linear(in_features=1024, out_features=1024, bias=True)\n",
            "            )\n",
            "            (self_attn_layer_norm): LayerNorm((1024,), eps=1e-05, elementwise_affine=True)\n",
            "            (dropout_module): FairseqDropout()\n",
            "            (activation_dropout_module): FairseqDropout()\n",
            "            (fc1): Linear(in_features=1024, out_features=4096, bias=True)\n",
            "            (fc2): Linear(in_features=4096, out_features=1024, bias=True)\n",
            "            (final_layer_norm): LayerNorm((1024,), eps=1e-05, elementwise_affine=True)\n",
            "          )\n",
            "          (5): TransformerEncoderLayer(\n",
            "            (self_attn): MultiheadAttention(\n",
            "              (dropout_module): FairseqDropout()\n",
            "              (k_proj): Linear(in_features=1024, out_features=1024, bias=True)\n",
            "              (v_proj): Linear(in_features=1024, out_features=1024, bias=True)\n",
            "              (q_proj): Linear(in_features=1024, out_features=1024, bias=True)\n",
            "              (out_proj): Linear(in_features=1024, out_features=1024, bias=True)\n",
            "            )\n",
            "            (self_attn_layer_norm): LayerNorm((1024,), eps=1e-05, elementwise_affine=True)\n",
            "            (dropout_module): FairseqDropout()\n",
            "            (activation_dropout_module): FairseqDropout()\n",
            "            (fc1): Linear(in_features=1024, out_features=4096, bias=True)\n",
            "            (fc2): Linear(in_features=4096, out_features=1024, bias=True)\n",
            "            (final_layer_norm): LayerNorm((1024,), eps=1e-05, elementwise_affine=True)\n",
            "          )\n",
            "          (6): TransformerEncoderLayer(\n",
            "            (self_attn): MultiheadAttention(\n",
            "              (dropout_module): FairseqDropout()\n",
            "              (k_proj): Linear(in_features=1024, out_features=1024, bias=True)\n",
            "              (v_proj): Linear(in_features=1024, out_features=1024, bias=True)\n",
            "              (q_proj): Linear(in_features=1024, out_features=1024, bias=True)\n",
            "              (out_proj): Linear(in_features=1024, out_features=1024, bias=True)\n",
            "            )\n",
            "            (self_attn_layer_norm): LayerNorm((1024,), eps=1e-05, elementwise_affine=True)\n",
            "            (dropout_module): FairseqDropout()\n",
            "            (activation_dropout_module): FairseqDropout()\n",
            "            (fc1): Linear(in_features=1024, out_features=4096, bias=True)\n",
            "            (fc2): Linear(in_features=4096, out_features=1024, bias=True)\n",
            "            (final_layer_norm): LayerNorm((1024,), eps=1e-05, elementwise_affine=True)\n",
            "          )\n",
            "          (7): TransformerEncoderLayer(\n",
            "            (self_attn): MultiheadAttention(\n",
            "              (dropout_module): FairseqDropout()\n",
            "              (k_proj): Linear(in_features=1024, out_features=1024, bias=True)\n",
            "              (v_proj): Linear(in_features=1024, out_features=1024, bias=True)\n",
            "              (q_proj): Linear(in_features=1024, out_features=1024, bias=True)\n",
            "              (out_proj): Linear(in_features=1024, out_features=1024, bias=True)\n",
            "            )\n",
            "            (self_attn_layer_norm): LayerNorm((1024,), eps=1e-05, elementwise_affine=True)\n",
            "            (dropout_module): FairseqDropout()\n",
            "            (activation_dropout_module): FairseqDropout()\n",
            "            (fc1): Linear(in_features=1024, out_features=4096, bias=True)\n",
            "            (fc2): Linear(in_features=4096, out_features=1024, bias=True)\n",
            "            (final_layer_norm): LayerNorm((1024,), eps=1e-05, elementwise_affine=True)\n",
            "          )\n",
            "          (8): TransformerEncoderLayer(\n",
            "            (self_attn): MultiheadAttention(\n",
            "              (dropout_module): FairseqDropout()\n",
            "              (k_proj): Linear(in_features=1024, out_features=1024, bias=True)\n",
            "              (v_proj): Linear(in_features=1024, out_features=1024, bias=True)\n",
            "              (q_proj): Linear(in_features=1024, out_features=1024, bias=True)\n",
            "              (out_proj): Linear(in_features=1024, out_features=1024, bias=True)\n",
            "            )\n",
            "            (self_attn_layer_norm): LayerNorm((1024,), eps=1e-05, elementwise_affine=True)\n",
            "            (dropout_module): FairseqDropout()\n",
            "            (activation_dropout_module): FairseqDropout()\n",
            "            (fc1): Linear(in_features=1024, out_features=4096, bias=True)\n",
            "            (fc2): Linear(in_features=4096, out_features=1024, bias=True)\n",
            "            (final_layer_norm): LayerNorm((1024,), eps=1e-05, elementwise_affine=True)\n",
            "          )\n",
            "          (9): TransformerEncoderLayer(\n",
            "            (self_attn): MultiheadAttention(\n",
            "              (dropout_module): FairseqDropout()\n",
            "              (k_proj): Linear(in_features=1024, out_features=1024, bias=True)\n",
            "              (v_proj): Linear(in_features=1024, out_features=1024, bias=True)\n",
            "              (q_proj): Linear(in_features=1024, out_features=1024, bias=True)\n",
            "              (out_proj): Linear(in_features=1024, out_features=1024, bias=True)\n",
            "            )\n",
            "            (self_attn_layer_norm): LayerNorm((1024,), eps=1e-05, elementwise_affine=True)\n",
            "            (dropout_module): FairseqDropout()\n",
            "            (activation_dropout_module): FairseqDropout()\n",
            "            (fc1): Linear(in_features=1024, out_features=4096, bias=True)\n",
            "            (fc2): Linear(in_features=4096, out_features=1024, bias=True)\n",
            "            (final_layer_norm): LayerNorm((1024,), eps=1e-05, elementwise_affine=True)\n",
            "          )\n",
            "          (10): TransformerEncoderLayer(\n",
            "            (self_attn): MultiheadAttention(\n",
            "              (dropout_module): FairseqDropout()\n",
            "              (k_proj): Linear(in_features=1024, out_features=1024, bias=True)\n",
            "              (v_proj): Linear(in_features=1024, out_features=1024, bias=True)\n",
            "              (q_proj): Linear(in_features=1024, out_features=1024, bias=True)\n",
            "              (out_proj): Linear(in_features=1024, out_features=1024, bias=True)\n",
            "            )\n",
            "            (self_attn_layer_norm): LayerNorm((1024,), eps=1e-05, elementwise_affine=True)\n",
            "            (dropout_module): FairseqDropout()\n",
            "            (activation_dropout_module): FairseqDropout()\n",
            "            (fc1): Linear(in_features=1024, out_features=4096, bias=True)\n",
            "            (fc2): Linear(in_features=4096, out_features=1024, bias=True)\n",
            "            (final_layer_norm): LayerNorm((1024,), eps=1e-05, elementwise_affine=True)\n",
            "          )\n",
            "          (11): TransformerEncoderLayer(\n",
            "            (self_attn): MultiheadAttention(\n",
            "              (dropout_module): FairseqDropout()\n",
            "              (k_proj): Linear(in_features=1024, out_features=1024, bias=True)\n",
            "              (v_proj): Linear(in_features=1024, out_features=1024, bias=True)\n",
            "              (q_proj): Linear(in_features=1024, out_features=1024, bias=True)\n",
            "              (out_proj): Linear(in_features=1024, out_features=1024, bias=True)\n",
            "            )\n",
            "            (self_attn_layer_norm): LayerNorm((1024,), eps=1e-05, elementwise_affine=True)\n",
            "            (dropout_module): FairseqDropout()\n",
            "            (activation_dropout_module): FairseqDropout()\n",
            "            (fc1): Linear(in_features=1024, out_features=4096, bias=True)\n",
            "            (fc2): Linear(in_features=4096, out_features=1024, bias=True)\n",
            "            (final_layer_norm): LayerNorm((1024,), eps=1e-05, elementwise_affine=True)\n",
            "          )\n",
            "          (12): TransformerEncoderLayer(\n",
            "            (self_attn): MultiheadAttention(\n",
            "              (dropout_module): FairseqDropout()\n",
            "              (k_proj): Linear(in_features=1024, out_features=1024, bias=True)\n",
            "              (v_proj): Linear(in_features=1024, out_features=1024, bias=True)\n",
            "              (q_proj): Linear(in_features=1024, out_features=1024, bias=True)\n",
            "              (out_proj): Linear(in_features=1024, out_features=1024, bias=True)\n",
            "            )\n",
            "            (self_attn_layer_norm): LayerNorm((1024,), eps=1e-05, elementwise_affine=True)\n",
            "            (dropout_module): FairseqDropout()\n",
            "            (activation_dropout_module): FairseqDropout()\n",
            "            (fc1): Linear(in_features=1024, out_features=4096, bias=True)\n",
            "            (fc2): Linear(in_features=4096, out_features=1024, bias=True)\n",
            "            (final_layer_norm): LayerNorm((1024,), eps=1e-05, elementwise_affine=True)\n",
            "          )\n",
            "          (13): TransformerEncoderLayer(\n",
            "            (self_attn): MultiheadAttention(\n",
            "              (dropout_module): FairseqDropout()\n",
            "              (k_proj): Linear(in_features=1024, out_features=1024, bias=True)\n",
            "              (v_proj): Linear(in_features=1024, out_features=1024, bias=True)\n",
            "              (q_proj): Linear(in_features=1024, out_features=1024, bias=True)\n",
            "              (out_proj): Linear(in_features=1024, out_features=1024, bias=True)\n",
            "            )\n",
            "            (self_attn_layer_norm): LayerNorm((1024,), eps=1e-05, elementwise_affine=True)\n",
            "            (dropout_module): FairseqDropout()\n",
            "            (activation_dropout_module): FairseqDropout()\n",
            "            (fc1): Linear(in_features=1024, out_features=4096, bias=True)\n",
            "            (fc2): Linear(in_features=4096, out_features=1024, bias=True)\n",
            "            (final_layer_norm): LayerNorm((1024,), eps=1e-05, elementwise_affine=True)\n",
            "          )\n",
            "          (14): TransformerEncoderLayer(\n",
            "            (self_attn): MultiheadAttention(\n",
            "              (dropout_module): FairseqDropout()\n",
            "              (k_proj): Linear(in_features=1024, out_features=1024, bias=True)\n",
            "              (v_proj): Linear(in_features=1024, out_features=1024, bias=True)\n",
            "              (q_proj): Linear(in_features=1024, out_features=1024, bias=True)\n",
            "              (out_proj): Linear(in_features=1024, out_features=1024, bias=True)\n",
            "            )\n",
            "            (self_attn_layer_norm): LayerNorm((1024,), eps=1e-05, elementwise_affine=True)\n",
            "            (dropout_module): FairseqDropout()\n",
            "            (activation_dropout_module): FairseqDropout()\n",
            "            (fc1): Linear(in_features=1024, out_features=4096, bias=True)\n",
            "            (fc2): Linear(in_features=4096, out_features=1024, bias=True)\n",
            "            (final_layer_norm): LayerNorm((1024,), eps=1e-05, elementwise_affine=True)\n",
            "          )\n",
            "          (15): TransformerEncoderLayer(\n",
            "            (self_attn): MultiheadAttention(\n",
            "              (dropout_module): FairseqDropout()\n",
            "              (k_proj): Linear(in_features=1024, out_features=1024, bias=True)\n",
            "              (v_proj): Linear(in_features=1024, out_features=1024, bias=True)\n",
            "              (q_proj): Linear(in_features=1024, out_features=1024, bias=True)\n",
            "              (out_proj): Linear(in_features=1024, out_features=1024, bias=True)\n",
            "            )\n",
            "            (self_attn_layer_norm): LayerNorm((1024,), eps=1e-05, elementwise_affine=True)\n",
            "            (dropout_module): FairseqDropout()\n",
            "            (activation_dropout_module): FairseqDropout()\n",
            "            (fc1): Linear(in_features=1024, out_features=4096, bias=True)\n",
            "            (fc2): Linear(in_features=4096, out_features=1024, bias=True)\n",
            "            (final_layer_norm): LayerNorm((1024,), eps=1e-05, elementwise_affine=True)\n",
            "          )\n",
            "          (16): TransformerEncoderLayer(\n",
            "            (self_attn): MultiheadAttention(\n",
            "              (dropout_module): FairseqDropout()\n",
            "              (k_proj): Linear(in_features=1024, out_features=1024, bias=True)\n",
            "              (v_proj): Linear(in_features=1024, out_features=1024, bias=True)\n",
            "              (q_proj): Linear(in_features=1024, out_features=1024, bias=True)\n",
            "              (out_proj): Linear(in_features=1024, out_features=1024, bias=True)\n",
            "            )\n",
            "            (self_attn_layer_norm): LayerNorm((1024,), eps=1e-05, elementwise_affine=True)\n",
            "            (dropout_module): FairseqDropout()\n",
            "            (activation_dropout_module): FairseqDropout()\n",
            "            (fc1): Linear(in_features=1024, out_features=4096, bias=True)\n",
            "            (fc2): Linear(in_features=4096, out_features=1024, bias=True)\n",
            "            (final_layer_norm): LayerNorm((1024,), eps=1e-05, elementwise_affine=True)\n",
            "          )\n",
            "          (17): TransformerEncoderLayer(\n",
            "            (self_attn): MultiheadAttention(\n",
            "              (dropout_module): FairseqDropout()\n",
            "              (k_proj): Linear(in_features=1024, out_features=1024, bias=True)\n",
            "              (v_proj): Linear(in_features=1024, out_features=1024, bias=True)\n",
            "              (q_proj): Linear(in_features=1024, out_features=1024, bias=True)\n",
            "              (out_proj): Linear(in_features=1024, out_features=1024, bias=True)\n",
            "            )\n",
            "            (self_attn_layer_norm): LayerNorm((1024,), eps=1e-05, elementwise_affine=True)\n",
            "            (dropout_module): FairseqDropout()\n",
            "            (activation_dropout_module): FairseqDropout()\n",
            "            (fc1): Linear(in_features=1024, out_features=4096, bias=True)\n",
            "            (fc2): Linear(in_features=4096, out_features=1024, bias=True)\n",
            "            (final_layer_norm): LayerNorm((1024,), eps=1e-05, elementwise_affine=True)\n",
            "          )\n",
            "          (18): TransformerEncoderLayer(\n",
            "            (self_attn): MultiheadAttention(\n",
            "              (dropout_module): FairseqDropout()\n",
            "              (k_proj): Linear(in_features=1024, out_features=1024, bias=True)\n",
            "              (v_proj): Linear(in_features=1024, out_features=1024, bias=True)\n",
            "              (q_proj): Linear(in_features=1024, out_features=1024, bias=True)\n",
            "              (out_proj): Linear(in_features=1024, out_features=1024, bias=True)\n",
            "            )\n",
            "            (self_attn_layer_norm): LayerNorm((1024,), eps=1e-05, elementwise_affine=True)\n",
            "            (dropout_module): FairseqDropout()\n",
            "            (activation_dropout_module): FairseqDropout()\n",
            "            (fc1): Linear(in_features=1024, out_features=4096, bias=True)\n",
            "            (fc2): Linear(in_features=4096, out_features=1024, bias=True)\n",
            "            (final_layer_norm): LayerNorm((1024,), eps=1e-05, elementwise_affine=True)\n",
            "          )\n",
            "          (19): TransformerEncoderLayer(\n",
            "            (self_attn): MultiheadAttention(\n",
            "              (dropout_module): FairseqDropout()\n",
            "              (k_proj): Linear(in_features=1024, out_features=1024, bias=True)\n",
            "              (v_proj): Linear(in_features=1024, out_features=1024, bias=True)\n",
            "              (q_proj): Linear(in_features=1024, out_features=1024, bias=True)\n",
            "              (out_proj): Linear(in_features=1024, out_features=1024, bias=True)\n",
            "            )\n",
            "            (self_attn_layer_norm): LayerNorm((1024,), eps=1e-05, elementwise_affine=True)\n",
            "            (dropout_module): FairseqDropout()\n",
            "            (activation_dropout_module): FairseqDropout()\n",
            "            (fc1): Linear(in_features=1024, out_features=4096, bias=True)\n",
            "            (fc2): Linear(in_features=4096, out_features=1024, bias=True)\n",
            "            (final_layer_norm): LayerNorm((1024,), eps=1e-05, elementwise_affine=True)\n",
            "          )\n",
            "          (20): TransformerEncoderLayer(\n",
            "            (self_attn): MultiheadAttention(\n",
            "              (dropout_module): FairseqDropout()\n",
            "              (k_proj): Linear(in_features=1024, out_features=1024, bias=True)\n",
            "              (v_proj): Linear(in_features=1024, out_features=1024, bias=True)\n",
            "              (q_proj): Linear(in_features=1024, out_features=1024, bias=True)\n",
            "              (out_proj): Linear(in_features=1024, out_features=1024, bias=True)\n",
            "            )\n",
            "            (self_attn_layer_norm): LayerNorm((1024,), eps=1e-05, elementwise_affine=True)\n",
            "            (dropout_module): FairseqDropout()\n",
            "            (activation_dropout_module): FairseqDropout()\n",
            "            (fc1): Linear(in_features=1024, out_features=4096, bias=True)\n",
            "            (fc2): Linear(in_features=4096, out_features=1024, bias=True)\n",
            "            (final_layer_norm): LayerNorm((1024,), eps=1e-05, elementwise_affine=True)\n",
            "          )\n",
            "          (21): TransformerEncoderLayer(\n",
            "            (self_attn): MultiheadAttention(\n",
            "              (dropout_module): FairseqDropout()\n",
            "              (k_proj): Linear(in_features=1024, out_features=1024, bias=True)\n",
            "              (v_proj): Linear(in_features=1024, out_features=1024, bias=True)\n",
            "              (q_proj): Linear(in_features=1024, out_features=1024, bias=True)\n",
            "              (out_proj): Linear(in_features=1024, out_features=1024, bias=True)\n",
            "            )\n",
            "            (self_attn_layer_norm): LayerNorm((1024,), eps=1e-05, elementwise_affine=True)\n",
            "            (dropout_module): FairseqDropout()\n",
            "            (activation_dropout_module): FairseqDropout()\n",
            "            (fc1): Linear(in_features=1024, out_features=4096, bias=True)\n",
            "            (fc2): Linear(in_features=4096, out_features=1024, bias=True)\n",
            "            (final_layer_norm): LayerNorm((1024,), eps=1e-05, elementwise_affine=True)\n",
            "          )\n",
            "          (22): TransformerEncoderLayer(\n",
            "            (self_attn): MultiheadAttention(\n",
            "              (dropout_module): FairseqDropout()\n",
            "              (k_proj): Linear(in_features=1024, out_features=1024, bias=True)\n",
            "              (v_proj): Linear(in_features=1024, out_features=1024, bias=True)\n",
            "              (q_proj): Linear(in_features=1024, out_features=1024, bias=True)\n",
            "              (out_proj): Linear(in_features=1024, out_features=1024, bias=True)\n",
            "            )\n",
            "            (self_attn_layer_norm): LayerNorm((1024,), eps=1e-05, elementwise_affine=True)\n",
            "            (dropout_module): FairseqDropout()\n",
            "            (activation_dropout_module): FairseqDropout()\n",
            "            (fc1): Linear(in_features=1024, out_features=4096, bias=True)\n",
            "            (fc2): Linear(in_features=4096, out_features=1024, bias=True)\n",
            "            (final_layer_norm): LayerNorm((1024,), eps=1e-05, elementwise_affine=True)\n",
            "          )\n",
            "          (23): TransformerEncoderLayer(\n",
            "            (self_attn): MultiheadAttention(\n",
            "              (dropout_module): FairseqDropout()\n",
            "              (k_proj): Linear(in_features=1024, out_features=1024, bias=True)\n",
            "              (v_proj): Linear(in_features=1024, out_features=1024, bias=True)\n",
            "              (q_proj): Linear(in_features=1024, out_features=1024, bias=True)\n",
            "              (out_proj): Linear(in_features=1024, out_features=1024, bias=True)\n",
            "            )\n",
            "            (self_attn_layer_norm): LayerNorm((1024,), eps=1e-05, elementwise_affine=True)\n",
            "            (dropout_module): FairseqDropout()\n",
            "            (activation_dropout_module): FairseqDropout()\n",
            "            (fc1): Linear(in_features=1024, out_features=4096, bias=True)\n",
            "            (fc2): Linear(in_features=4096, out_features=1024, bias=True)\n",
            "            (final_layer_norm): LayerNorm((1024,), eps=1e-05, elementwise_affine=True)\n",
            "          )\n",
            "        )\n",
            "      )\n",
            "      (lm_head): RobertaLMHead(\n",
            "        (dense): Linear(in_features=1024, out_features=1024, bias=True)\n",
            "        (layer_norm): LayerNorm((1024,), eps=1e-05, elementwise_affine=True)\n",
            "      )\n",
            "    )\n",
            "    (classification_heads): ModuleDict()\n",
            "  )\n",
            ")\n"
          ],
          "name": "stdout"
        }
      ]
    },
    {
      "cell_type": "code",
      "metadata": {
        "colab": {
          "base_uri": "https://localhost:8080/",
          "height": 35
        },
        "id": "Gw4He6-JSm-W",
        "outputId": "fcfc07e7-aa0c-44b5-bafe-6580a0701e57"
      },
      "source": [
        "tokens = roberta.encode('Hello world!')\n",
        "assert tokens.tolist() == [0, 31414, 232, 328, 2]\n",
        "roberta.decode(tokens)  # 'Hello world!'"
      ],
      "execution_count": null,
      "outputs": [
        {
          "output_type": "execute_result",
          "data": {
            "application/vnd.google.colaboratory.intrinsic+json": {
              "type": "string"
            },
            "text/plain": [
              "'Hello world!'"
            ]
          },
          "metadata": {
            "tags": []
          },
          "execution_count": 19
        }
      ]
    },
    {
      "cell_type": "code",
      "metadata": {
        "colab": {
          "base_uri": "https://localhost:8080/"
        },
        "id": "M6rmMfn1SxGe",
        "outputId": "49c93d68-eac9-4d30-c0e4-5964cfaae2b4"
      },
      "source": [
        "for sentence in X_train[0:5]:\n",
        "  print('sentence:', sentence)\n",
        "  tokens = roberta.encode(sentence)\n",
        "  print('tokens shape', tokens.shape)\n",
        "  print('sentence decode:', roberta.decode(tokens))"
      ],
      "execution_count": null,
      "outputs": [
        {
          "output_type": "stream",
          "text": [
            "sentence: As horror fans we all know that blind rentals are a crap-shoot. Sometimes we find a real gem, but many times we find that the film we've just spent our hard earned money on is nothing more than a putrid steamer made worse by the completely undeserved rave reviews and film fest awards listed on the box. Such is the case with Five Across the Eyes ( a title I'm sure is a double entendre referring to both the films budget and the compulsion anyone watching it might have to using all five fingers to stab their eyes out ).<br /><br />The story, or, at least what the *ahem* writers think passes for one, centers on a group of teen girls who unwisely decide to go on a backwoods joyride late at night after leaving a football game and run afoul of a crazy woman who plays cat and mouse with them as punishment for what she thinks the girls found in her car after a fender-bender in a gas station parking lot.<br /><br />In fairness, it's an interesting idea. Some of the best horrors have very simple story lines. It's in the execution of Five Across the Eyes that this idea falls flat. The film tries to be a cross between The Blair Witch Project with its shaky camera work and The Texas Chainsaw Massacre in its bare-bones approach to the material but succeeds at being neither. What we get instead are redundant scenes of chase, torture, release; chase torture, release, in that order for 94 minutes with long interludes of bitching, moaning, and incoherent rambling acting as plenty of padding in-between chase sequences.<br /><br />The look of the film is incredibly grainy and dark, which, in a better made film might have enhanced the tension and the realism. Here it's merely annoying. The characters are undeveloped and the viewer is hard-pressed to find anything to sympathize with them. One character stops to get a first-aid kit and tend to some scrapes on her face while gunshots heard in the background indicate her friends may be getting killed. Another girl mutters hilariously dumb lines like \"Don't go out there, she'll get you, if she gets you she'll kill you and if she kill's you you're dead\".<br /><br />It was an accolade from Fangoria magazine and Dreadcentral.com listed on the box that compelled me to check this one out. Talk about a fake orgasm! Perhaps my expectations would have been met had this been in the comedy section. I'm all for low-budget Indie horror but this one takes the crap-cake. Give Five Across the Eyes (or FATE; get it?) a pass.<br /><br />RazorFriendly gives FATE 1 slash out of five /\n",
            "tokens shape torch.Size([577])\n",
            "sentence decode: As horror fans we all know that blind rentals are a crap-shoot. Sometimes we find a real gem, but many times we find that the film we've just spent our hard earned money on is nothing more than a putrid steamer made worse by the completely undeserved rave reviews and film fest awards listed on the box. Such is the case with Five Across the Eyes ( a title I'm sure is a double entendre referring to both the films budget and the compulsion anyone watching it might have to using all five fingers to stab their eyes out ).<br /><br />The story, or, at least what the *ahem* writers think passes for one, centers on a group of teen girls who unwisely decide to go on a backwoods joyride late at night after leaving a football game and run afoul of a crazy woman who plays cat and mouse with them as punishment for what she thinks the girls found in her car after a fender-bender in a gas station parking lot.<br /><br />In fairness, it's an interesting idea. Some of the best horrors have very simple story lines. It's in the execution of Five Across the Eyes that this idea falls flat. The film tries to be a cross between The Blair Witch Project with its shaky camera work and The Texas Chainsaw Massacre in its bare-bones approach to the material but succeeds at being neither. What we get instead are redundant scenes of chase, torture, release; chase torture, release, in that order for 94 minutes with long interludes of bitching, moaning, and incoherent rambling acting as plenty of padding in-between chase sequences.<br /><br />The look of the film is incredibly grainy and dark, which, in a better made film might have enhanced the tension and the realism. Here it's merely annoying. The characters are undeveloped and the viewer is hard-pressed to find anything to sympathize with them. One character stops to get a first-aid kit and tend to some scrapes on her face while gunshots heard in the background indicate her friends may be getting killed. Another girl mutters hilariously dumb lines like \"Don't go out there, she'll get you, if she gets you she'll kill you and if she kill's you you're dead\".<br /><br />It was an accolade from Fangoria magazine and Dreadcentral.com listed on the box that compelled me to check this one out. Talk about a fake orgasm! Perhaps my expectations would have been met had this been in the comedy section. I'm all for low-budget Indie horror but this one takes the crap-cake. Give Five Across the Eyes (or FATE; get it?) a pass.<br /><br />RazorFriendly gives FATE 1 slash out of five /\n",
            "sentence: First of all, in defense of JOAN FONTAINE, it must be said that Ginger Rogers would have been terribly miscast as Alyce, the young British lady who has the title role. Fontaine makes a fetching picture as the heroine here, but her acting inexperience shows badly and her dancing is better left unmentioned. Fortunately, she went on to better things.<br /><br />But here it's FRED ASTAIRE, GEORGE BURNS and GRACIE ALLEN who get the top billing--and they are excellent. Fans of Burns & Allen will be surprised at how easily they fit into Astaire's dance routines. Especially interesting is the big fun house routine that won choreographer Hermes Pans an Oscar. They join Astaire in what has to be the film's most inventive highlight.<br /><br />Unfortunately, not much can be said for the slow pacing of the story--nor some of the stale situations which call for a lot of patience from the viewer. It must be said that some of the humor falls flat and the usual romantic misunderstandings that occur in any Fred Astaire film of this period are given conventional treatment. Only the musical interludes give the story the lift it needs.<br /><br />Some pleasant Gershwin tunes pop up once in awhile but not all of them get the treatment they deserve. The nice supporting cast includes Reginald Gardiner, at his best in a polished comic performance as a conniving servant, Constance Collier and Montagu Love (as Joan's father mistaken as a gardener by Astaire).<br /><br />It's a lighthearted romp whenever Burns & Allen are around to remind us how funny they were in their radio and television days. Both of them are surprisingly adept in keeping up with Astaire's footwork.<br /><br />Director George Stevens makes sure that Joan Fontaine's hillside dance number with Fred is filmed at a discreet distance but clever camera-work cannot disguise the fact that she is out of her element as Astaire's dance partner, something she seems painfully aware of.\n",
            "tokens shape torch.Size([435])\n",
            "sentence decode: First of all, in defense of JOAN FONTAINE, it must be said that Ginger Rogers would have been terribly miscast as Alyce, the young British lady who has the title role. Fontaine makes a fetching picture as the heroine here, but her acting inexperience shows badly and her dancing is better left unmentioned. Fortunately, she went on to better things.<br /><br />But here it's FRED ASTAIRE, GEORGE BURNS and GRACIE ALLEN who get the top billing--and they are excellent. Fans of Burns & Allen will be surprised at how easily they fit into Astaire's dance routines. Especially interesting is the big fun house routine that won choreographer Hermes Pans an Oscar. They join Astaire in what has to be the film's most inventive highlight.<br /><br />Unfortunately, not much can be said for the slow pacing of the story--nor some of the stale situations which call for a lot of patience from the viewer. It must be said that some of the humor falls flat and the usual romantic misunderstandings that occur in any Fred Astaire film of this period are given conventional treatment. Only the musical interludes give the story the lift it needs.<br /><br />Some pleasant Gershwin tunes pop up once in awhile but not all of them get the treatment they deserve. The nice supporting cast includes Reginald Gardiner, at his best in a polished comic performance as a conniving servant, Constance Collier and Montagu Love (as Joan's father mistaken as a gardener by Astaire).<br /><br />It's a lighthearted romp whenever Burns & Allen are around to remind us how funny they were in their radio and television days. Both of them are surprisingly adept in keeping up with Astaire's footwork.<br /><br />Director George Stevens makes sure that Joan Fontaine's hillside dance number with Fred is filmed at a discreet distance but clever camera-work cannot disguise the fact that she is out of her element as Astaire's dance partner, something she seems painfully aware of.\n",
            "sentence: Though I liked On the Town better I really liked it. I'm a new comer when it comes to Frank Sinatra and Gene Kelly. Though I had heard of them I had never seen anything with them in it until recently. The first one I saw was Singin in the Rain that made me a fan of Gene's. I think that is better too. But I thought that this movie was good and like all movies there are some parts that are better than others but in my book it's an awesome movie and I love it. Frank and Gene make a good team. I have yet to see them together in Take me out to the Ballgame. But I'm sticking to my guns bu saying that I really enjoyed it, and that I love it!\n",
            "tokens shape torch.Size([156])\n",
            "sentence decode: Though I liked On the Town better I really liked it. I'm a new comer when it comes to Frank Sinatra and Gene Kelly. Though I had heard of them I had never seen anything with them in it until recently. The first one I saw was Singin in the Rain that made me a fan of Gene's. I think that is better too. But I thought that this movie was good and like all movies there are some parts that are better than others but in my book it's an awesome movie and I love it. Frank and Gene make a good team. I have yet to see them together in Take me out to the Ballgame. But I'm sticking to my guns bu saying that I really enjoyed it, and that I love it!\n",
            "sentence: ...you know the rest. If you want a good zombie movie, DON'T RENT THIS MOVIE. If you want a documentary-esquire look at \"hood life\" you're at the wrong place as well. If you're looking for a laughable piece of film, this is a real winner! The acting is as flat as a piece of paper. The best example of this is definitely the officer investigating the drive-by. I can tell that he did the voice for the 911 operator as well by the flat tone of his voice. If I could hear a cardboard box talk, it'd probably sound like this guy. Oh yea, and the \"zombies\" did their best snake impression which is on par with their FANTASTIC acting overall (note sarcasm...HOW DID THIS NOT WIN AN Oscar FOR BEST MAKE-UP) The Quiroz......did not do any sort of directing. I felt like I was watching an improvisational period piece (the period is more like 1990's LA) The direction is however one-uped by the worst script I think to ever grace a movie. I haven't heard such lovely lines, like the epic one word beginning to the movie \"F**k!\", since Ice Grill which was another \"urban\" thriller. This only works of course in conjunction with the also-epic hip-hop soundtrack! All 3 or so songs of it! All in all, what the hell did you expect from a movie entitled \"Hood of the Living Dead\"? I rented this movie with full intention to laugh at its every scene, and boy it delivered and MORE! I would definitely recommend this to anyone who wants to get together with a bunch of guys and laugh at a low budget horror (yea right...) movie for the night. A memorable experience for sure!\n",
            "tokens shape torch.Size([369])\n",
            "sentence decode: ...you know the rest. If you want a good zombie movie, DON'T RENT THIS MOVIE. If you want a documentary-esquire look at \"hood life\" you're at the wrong place as well. If you're looking for a laughable piece of film, this is a real winner! The acting is as flat as a piece of paper. The best example of this is definitely the officer investigating the drive-by. I can tell that he did the voice for the 911 operator as well by the flat tone of his voice. If I could hear a cardboard box talk, it'd probably sound like this guy. Oh yea, and the \"zombies\" did their best snake impression which is on par with their FANTASTIC acting overall (note sarcasm...HOW DID THIS NOT WIN AN Oscar FOR BEST MAKE-UP) The Quiroz......did not do any sort of directing. I felt like I was watching an improvisational period piece (the period is more like 1990's LA) The direction is however one-uped by the worst script I think to ever grace a movie. I haven't heard such lovely lines, like the epic one word beginning to the movie \"F**k!\", since Ice Grill which was another \"urban\" thriller. This only works of course in conjunction with the also-epic hip-hop soundtrack! All 3 or so songs of it! All in all, what the hell did you expect from a movie entitled \"Hood of the Living Dead\"? I rented this movie with full intention to laugh at its every scene, and boy it delivered and MORE! I would definitely recommend this to anyone who wants to get together with a bunch of guys and laugh at a low budget horror (yea right...) movie for the night. A memorable experience for sure!\n",
            "sentence: Peeew this stinks! As everyone knows it's based upon some Geico insurance commercials; what no one knows is WHY?! Those commercials were amusing on first viewing at best; hardly fodder for a series. (The talking Geico gecko -- that's another story. Now that would make for an intriguing series!) And why on earth did ABC -- as reported in the press -- actually agree to buy the cavemen character rights from Geico for this? After all, the idea of cavemen struggling in the modern world is hardly unique to TV; Phil Hartman had a recurring Saturday Night Live role as The Unfrozen Caveman Lawyer over a decade ago. And that's how a concept like this works best -- as an occasional installment. But a regular series? Fuhgeddaboudit. (A 1960s series called \"It's About Time\" also used the cavemen in the modern world concept. It lasted one season.) <br /><br />One of the show's directors, who was also responsible for the Geico commercials, was recently quoted as saying: \"We were so excited when we were shooting our commercials because we felt like we had something that was very unique and we had bigger stories to tell.\" Wrong.<br /><br />In the annals of bad TV, this is destined to take its place alongside 1972's \"Me and the Chimp\" as one of the all-time worst. The lead actor in the embarrassing Chimp fiasco actually went into shame-by-association hiding after it was abruptly canceled. No doubt our cavemen friends will follow suit.\n",
            "tokens shape torch.Size([330])\n",
            "sentence decode: Peeew this stinks! As everyone knows it's based upon some Geico insurance commercials; what no one knows is WHY?! Those commercials were amusing on first viewing at best; hardly fodder for a series. (The talking Geico gecko -- that's another story. Now that would make for an intriguing series!) And why on earth did ABC -- as reported in the press -- actually agree to buy the cavemen character rights from Geico for this? After all, the idea of cavemen struggling in the modern world is hardly unique to TV; Phil Hartman had a recurring Saturday Night Live role as The Unfrozen Caveman Lawyer over a decade ago. And that's how a concept like this works best -- as an occasional installment. But a regular series? Fuhgeddaboudit. (A 1960s series called \"It's About Time\" also used the cavemen in the modern world concept. It lasted one season.) <br /><br />One of the show's directors, who was also responsible for the Geico commercials, was recently quoted as saying: \"We were so excited when we were shooting our commercials because we felt like we had something that was very unique and we had bigger stories to tell.\" Wrong.<br /><br />In the annals of bad TV, this is destined to take its place alongside 1972's \"Me and the Chimp\" as one of the all-time worst. The lead actor in the embarrassing Chimp fiasco actually went into shame-by-association hiding after it was abruptly canceled. No doubt our cavemen friends will follow suit.\n"
          ],
          "name": "stdout"
        }
      ]
    },
    {
      "cell_type": "markdown",
      "metadata": {
        "id": "lGCsM5S5IpM8"
      },
      "source": [
        "# Definindo Dataset e dataloaders"
      ]
    },
    {
      "cell_type": "code",
      "metadata": {
        "id": "i4UAD1P_V7gD"
      },
      "source": [
        "NUM_LABELS = 2\n",
        "labels = {False: 0, True: 1}"
      ],
      "execution_count": null,
      "outputs": []
    },
    {
      "cell_type": "code",
      "metadata": {
        "id": "S7aZfWsFYdDx"
      },
      "source": [
        "def make_target(label, labels):\n",
        "    return torch.LongTensor([labels[label]])"
      ],
      "execution_count": null,
      "outputs": []
    },
    {
      "cell_type": "code",
      "metadata": {
        "id": "M2iaKDxpsJH2"
      },
      "source": [
        "class ImdbDataset(torch.utils.data.Dataset):\n",
        "\n",
        "  def __init__(self, X, y, labels):\n",
        "    self.X = X\n",
        "    self.y = y\n",
        "    self.labels = labels\n",
        "\n",
        "  def __len__(self):\n",
        "    return len(self.X)\n",
        "\n",
        "  def __getitem__(self, idx):\n",
        "    \n",
        "    vec = self.X[idx]\n",
        "    target = make_target(self.y[idx], self.labels)[0]\n",
        "    return vec, target"
      ],
      "execution_count": null,
      "outputs": []
    },
    {
      "cell_type": "code",
      "metadata": {
        "id": "119tt18ptfuy"
      },
      "source": [
        "train_dataset = ImdbDataset(X_train, Y_train, \n",
        "                               labels=labels)\n",
        "val_dataset = ImdbDataset(X_valid, Y_valid, \n",
        "                             labels=labels)\n",
        "test_dataset = ImdbDataset(X_test.values, Y_test.values,\n",
        "                              labels=labels)"
      ],
      "execution_count": null,
      "outputs": []
    },
    {
      "cell_type": "code",
      "metadata": {
        "colab": {
          "base_uri": "https://localhost:8080/"
        },
        "id": "azfUdK_8th05",
        "outputId": "a0c0ed46-40da-4d93-88ee-64c52721a463"
      },
      "source": [
        "print('Número de amostras de trenamento:', len(train_dataset))\n",
        "print('Número de amostras de validação:', len(val_dataset))\n",
        "print('Número de amostras de teste:', len(test_dataset))"
      ],
      "execution_count": null,
      "outputs": [
        {
          "output_type": "stream",
          "text": [
            "Número de amostras de trenamento: 680\n",
            "Número de amostras de validação: 120\n",
            "Número de amostras de teste: 200\n"
          ],
          "name": "stdout"
        }
      ]
    },
    {
      "cell_type": "code",
      "metadata": {
        "colab": {
          "base_uri": "https://localhost:8080/"
        },
        "id": "sIc88Y-dvcRR",
        "outputId": "db1d4543-ae46-4839-839c-754031ef2a8d"
      },
      "source": [
        "data = train_dataset[0]\n",
        "print(data)\n",
        "x = data[0]\n",
        "y = data[1]\n",
        "print('x:', x)\n",
        "print('y:', y)"
      ],
      "execution_count": null,
      "outputs": [
        {
          "output_type": "stream",
          "text": [
            "('As horror fans we all know that blind rentals are a crap-shoot. Sometimes we find a real gem, but many times we find that the film we\\'ve just spent our hard earned money on is nothing more than a putrid steamer made worse by the completely undeserved rave reviews and film fest awards listed on the box. Such is the case with Five Across the Eyes ( a title I\\'m sure is a double entendre referring to both the films budget and the compulsion anyone watching it might have to using all five fingers to stab their eyes out ).<br /><br />The story, or, at least what the *ahem* writers think passes for one, centers on a group of teen girls who unwisely decide to go on a backwoods joyride late at night after leaving a football game and run afoul of a crazy woman who plays cat and mouse with them as punishment for what she thinks the girls found in her car after a fender-bender in a gas station parking lot.<br /><br />In fairness, it\\'s an interesting idea. Some of the best horrors have very simple story lines. It\\'s in the execution of Five Across the Eyes that this idea falls flat. The film tries to be a cross between The Blair Witch Project with its shaky camera work and The Texas Chainsaw Massacre in its bare-bones approach to the material but succeeds at being neither. What we get instead are redundant scenes of chase, torture, release; chase torture, release, in that order for 94 minutes with long interludes of bitching, moaning, and incoherent rambling acting as plenty of padding in-between chase sequences.<br /><br />The look of the film is incredibly grainy and dark, which, in a better made film might have enhanced the tension and the realism. Here it\\'s merely annoying. The characters are undeveloped and the viewer is hard-pressed to find anything to sympathize with them. One character stops to get a first-aid kit and tend to some scrapes on her face while gunshots heard in the background indicate her friends may be getting killed. Another girl mutters hilariously dumb lines like \"Don\\'t go out there, she\\'ll get you, if she gets you she\\'ll kill you and if she kill\\'s you you\\'re dead\".<br /><br />It was an accolade from Fangoria magazine and Dreadcentral.com listed on the box that compelled me to check this one out. Talk about a fake orgasm! Perhaps my expectations would have been met had this been in the comedy section. I\\'m all for low-budget Indie horror but this one takes the crap-cake. Give Five Across the Eyes (or FATE; get it?) a pass.<br /><br />RazorFriendly gives FATE 1 slash out of five /', tensor(0))\n",
            "x: As horror fans we all know that blind rentals are a crap-shoot. Sometimes we find a real gem, but many times we find that the film we've just spent our hard earned money on is nothing more than a putrid steamer made worse by the completely undeserved rave reviews and film fest awards listed on the box. Such is the case with Five Across the Eyes ( a title I'm sure is a double entendre referring to both the films budget and the compulsion anyone watching it might have to using all five fingers to stab their eyes out ).<br /><br />The story, or, at least what the *ahem* writers think passes for one, centers on a group of teen girls who unwisely decide to go on a backwoods joyride late at night after leaving a football game and run afoul of a crazy woman who plays cat and mouse with them as punishment for what she thinks the girls found in her car after a fender-bender in a gas station parking lot.<br /><br />In fairness, it's an interesting idea. Some of the best horrors have very simple story lines. It's in the execution of Five Across the Eyes that this idea falls flat. The film tries to be a cross between The Blair Witch Project with its shaky camera work and The Texas Chainsaw Massacre in its bare-bones approach to the material but succeeds at being neither. What we get instead are redundant scenes of chase, torture, release; chase torture, release, in that order for 94 minutes with long interludes of bitching, moaning, and incoherent rambling acting as plenty of padding in-between chase sequences.<br /><br />The look of the film is incredibly grainy and dark, which, in a better made film might have enhanced the tension and the realism. Here it's merely annoying. The characters are undeveloped and the viewer is hard-pressed to find anything to sympathize with them. One character stops to get a first-aid kit and tend to some scrapes on her face while gunshots heard in the background indicate her friends may be getting killed. Another girl mutters hilariously dumb lines like \"Don't go out there, she'll get you, if she gets you she'll kill you and if she kill's you you're dead\".<br /><br />It was an accolade from Fangoria magazine and Dreadcentral.com listed on the box that compelled me to check this one out. Talk about a fake orgasm! Perhaps my expectations would have been met had this been in the comedy section. I'm all for low-budget Indie horror but this one takes the crap-cake. Give Five Across the Eyes (or FATE; get it?) a pass.<br /><br />RazorFriendly gives FATE 1 slash out of five /\n",
            "y: tensor(0)\n"
          ],
          "name": "stdout"
        }
      ]
    },
    {
      "cell_type": "markdown",
      "metadata": {
        "id": "7keZOaaxPISJ"
      },
      "source": [
        "## Transformando word ids em batches"
      ]
    },
    {
      "cell_type": "code",
      "metadata": {
        "id": "79VLFi_XZPey"
      },
      "source": [
        "from fairseq.data.data_utils import collate_tokens"
      ],
      "execution_count": null,
      "outputs": []
    },
    {
      "cell_type": "code",
      "metadata": {
        "id": "d5dirsTZQLyJ"
      },
      "source": [
        "seq_len = 512\n",
        "\n",
        "def collate_fn(batch):\n",
        "    words_id_list, labels_list= zip(*batch)  \n",
        "    batch_word_ids = collate_tokens(\n",
        "    # [roberta.encode(sentence[:seq_len]) for sentence in words_id_list], pad_to_length=seq_len, pad_idx=1)    \n",
        "    [roberta.encode(sentence)[:seq_len] for sentence in words_id_list], pad_to_length=seq_len, pad_idx=1)\n",
        "    # [roberta.encode(sentence)[:seq_len] if len(sentence)>=seq_len else roberta.encode(sentence) for sentence in words_id_list], pad_to_length=seq_len, pad_idx=1)\n",
        "\n",
        "    return torch.LongTensor(batch_word_ids), torch.LongTensor(labels_list)"
      ],
      "execution_count": null,
      "outputs": []
    },
    {
      "cell_type": "code",
      "metadata": {
        "colab": {
          "base_uri": "https://localhost:8080/"
        },
        "id": "jgJch1W6vAPB",
        "outputId": "d2be3c23-9868-401f-e1de-5c6f15a3cb8d"
      },
      "source": [
        "batch_size = hparams[\"bs\"]\n",
        "\n",
        "train_dataloader = DataLoader(train_dataset, batch_size=batch_size,\n",
        "                              collate_fn=collate_fn,\n",
        "                              shuffle=True, num_workers=4)\n",
        "val_dataloader = DataLoader(val_dataset, batch_size=batch_size,\n",
        "                            collate_fn=collate_fn,\n",
        "                            shuffle=False,  num_workers=4)\n",
        "test_dataloader = DataLoader(test_dataset, batch_size=batch_size,\n",
        "                             collate_fn=collate_fn,\n",
        "                             shuffle=False,  num_workers=4)\n",
        "\n",
        "print('Número de minibatches de trenamento:', len(train_dataloader))\n",
        "print('Número de minibatches de validação:', len(val_dataloader))\n",
        "print('Número de minibatches de teste:', len(test_dataloader))\n",
        "\n",
        "\n",
        "x_train, y_train = next(iter(train_dataloader))\n",
        "x_valid,  y_valid = next(iter(val_dataloader))\n",
        "x_test, y_test = next(iter(test_dataloader))\n",
        "print(\"\\nDimensões dos dados de um minibatch:\", x_train.size())\n",
        "print(\"\\nDimensões dos dados de um minibatch:\", x_valid.size())\n",
        "print(\"\\nDimensões dos dados de um minibatch:\", x_test.size())\n",
        "print(\"\\nDimensões dos dados de um minibatch:\", y_train.size())\n",
        "print(\"Valores mínimo e máximo dos x: \", torch.min(x_train), torch.max(x_train))\n",
        "print(\"Valores mínimo e máximo dos y: \", torch.min(y_train), torch.max(y_train))\n",
        "print(\"Tipo dos dados das sentenças:         \", type(x_train))\n",
        "print(\"Tipo das classes das sentenças:       \", type(y_train))\n",
        "\n",
        "print(x_train)"
      ],
      "execution_count": null,
      "outputs": [
        {
          "output_type": "stream",
          "text": [
            "Número de minibatches de trenamento: 170\n",
            "Número de minibatches de validação: 30\n",
            "Número de minibatches de teste: 50\n",
            "\n",
            "Dimensões dos dados de um minibatch: torch.Size([4, 512])\n",
            "\n",
            "Dimensões dos dados de um minibatch: torch.Size([4, 512])\n",
            "\n",
            "Dimensões dos dados de um minibatch: torch.Size([4, 512])\n",
            "\n",
            "Dimensões dos dados de um minibatch: torch.Size([4])\n",
            "Valores mínimo e máximo dos x:  tensor(0) tensor(49069)\n",
            "Valores mínimo e máximo dos y:  tensor(1) tensor(1)\n",
            "Tipo dos dados das sentenças:          <class 'torch.Tensor'>\n",
            "Tipo das classes das sentenças:        <class 'torch.Tensor'>\n",
            "tensor([[    0,   713,  1569,  ...,    38,    21,  2908],\n",
            "        [    0,   713,   822,  ...,     1,     1,     1],\n",
            "        [    0, 15243,     5,  ...,     1,     1,     1],\n",
            "        [    0,   113, 11475,  ...,  7850,     8,   117]])\n"
          ],
          "name": "stdout"
        }
      ]
    },
    {
      "cell_type": "markdown",
      "metadata": {
        "id": "XnDVJxpYItN0"
      },
      "source": [
        "# Definindo o Classificador word2vec"
      ]
    },
    {
      "cell_type": "code",
      "metadata": {
        "id": "1N7xL9BT7s1D"
      },
      "source": [
        "class LabelSmoothingCrossEntropy(nn.Module):\n",
        "    def __init__(self):\n",
        "        super(LabelSmoothingCrossEntropy, self).__init__()\n",
        "    def forward(self, logprobs, target, smoothing=0.1, reduction=\"sum\"):\n",
        "        confidence = 1. - smoothing\n",
        "        nll_loss = -logprobs.gather(dim=-1, index=target.unsqueeze(1))\n",
        "        nll_loss = nll_loss.squeeze(1)\n",
        "        smooth_loss = -logprobs.mean(dim=-1)\n",
        "        loss = confidence * nll_loss + smoothing * smooth_loss\n",
        "        if reduction==\"sum\":\n",
        "          loss = loss.sum()\n",
        "        elif reduction==\"mean\":\n",
        "          loss = loss.mean() \n",
        "        else:\n",
        "          print('not implemented')\n",
        "          exit()   \n",
        "        return loss"
      ],
      "execution_count": null,
      "outputs": []
    },
    {
      "cell_type": "markdown",
      "metadata": {
        "id": "3n-Op6iaoBMo"
      },
      "source": [
        "## Definindo a função de perda"
      ]
    },
    {
      "cell_type": "code",
      "metadata": {
        "id": "9jU_4LY70kkC"
      },
      "source": [
        "loss_function = LabelSmoothingCrossEntropy()"
      ],
      "execution_count": null,
      "outputs": []
    },
    {
      "cell_type": "code",
      "metadata": {
        "id": "Jab4iqiNurRa"
      },
      "source": [
        "class robertaNetClassifier(pl.LightningModule):\n",
        "    def __init__(self, *args, **kwargs):\n",
        "        super().__init__()\n",
        "\n",
        "        self.hparams = hparams\n",
        "\n",
        "        # Note como a arquitetura esta dependente dos hiperparâmetros salvos.\n",
        "        self.model = roberta\n",
        "\n",
        "        self.model.register_classification_head('imdb_head',\n",
        "                                                # inner_dim=768,\n",
        "                                                # inner_dim=2048,\n",
        "                                                # activation_fn='relu',\n",
        "                                                # pooler_dropout=0.01,\n",
        "                                                num_classes=NUM_LABELS)\n",
        " \n",
        "    def forward(self, x):        \n",
        "        logprobs = self.model.predict('imdb_head', x)\n",
        "        return logprobs\n",
        "\n",
        "    def predict_step(self, batch, batch_idx, dataloader_idx=None):\n",
        "        x, y = batch\n",
        "        # print('x', x.shape)\n",
        "        logprobs = self(x)\n",
        "        return logprobs    \n",
        "\n",
        "    def training_step(self, train_batch, batch_idx):\n",
        "        \n",
        "        x, y = train_batch\n",
        "\n",
        "        # loss cross-entropy compute\n",
        "        logprobs = self.forward(x)\n",
        "        # loss = F.nll_loss(logprobs, y, reduction=self.hparams[\"reduction\"])\n",
        "        loss = loss_function(logprobs, y, reduction=self.hparams[\"reduction\"])\n",
        "\n",
        "        self.log('cross_loss_step', loss, prog_bar=True)\n",
        "        \n",
        "        return loss\n",
        "\n",
        "    def training_epoch_end(self, outputs):\n",
        "        loss = torch.stack([x['loss'] for x in outputs]).mean()       \n",
        "\n",
        "        self.log(\"train_loss\", loss, prog_bar=True)\n",
        "  \n",
        "    def validation_step(self, val_batch, batch_idx):\n",
        "        \n",
        "        x, y = val_batch\n",
        "\n",
        "        logprobs = self.forward(x)\n",
        "      \n",
        "        val_loss = F.nll_loss(logprobs, y, reduction=self.hparams[\"reduction\"])\n",
        "        preds = logprobs.argmax(dim=1)\n",
        "\n",
        "        val_f1 = f1(preds, y, num_classes=2, average='weighted')\n",
        "        val_acc = accuracy(preds, y)\n",
        "\n",
        "        self.log('val_loss_step', val_loss, prog_bar=True)\n",
        "        self.log('val_f1_step', val_f1, prog_bar=True)\n",
        "        self.log('val_acc_step', val_acc, prog_bar=True)\n",
        "\n",
        "        return {\"val_loss_step\": val_loss, \"val_f1_step\": val_f1,\n",
        "                \"val_acc_step\": val_acc}\n",
        "\n",
        "    def validation_epoch_end(self, outputs):\n",
        "        val_loss = torch.stack([x['val_loss_step'] for x in outputs]).mean()\n",
        "        val_f1 = torch.stack([x['val_f1_step'] for x in outputs]).mean()\n",
        "        val_acc = torch.stack([x['val_acc_step'] for x in outputs]).mean()\n",
        "\n",
        "        self.log(\"val_loss\", val_loss, prog_bar=True)\n",
        "        self.log(\"val_f1\", val_f1, prog_bar=True)\n",
        "        self.log(\"val_acc\", val_acc, prog_bar=True)\n",
        "  \n",
        "    def test_step(self, test_batch, batch_idx):\n",
        "        \n",
        "        x, y = test_batch\n",
        "\n",
        "        logprobs = self.forward(x)\n",
        "        test_loss = F.nll_loss(logprobs, y, reduction=self.hparams[\"reduction\"])\n",
        "\n",
        "        preds = logprobs.argmax(dim=1)\n",
        "\n",
        "        test_f1 = f1(preds, y, num_classes=2, average='weighted')\n",
        "        test_acc = accuracy(preds, y)\n",
        "\n",
        "        self.log('test_loss_step', test_loss, prog_bar=True)\n",
        "        self.log('test_f1_step', test_f1, prog_bar=True)\n",
        "        self.log('test_acc_step', test_acc, prog_bar=True)\n",
        "\n",
        "        return {\"test_loss_step\": test_loss, \"test_f1_step\": test_f1,\n",
        "                \"test_acc_step\": test_acc}\n",
        "\n",
        "    def test_epoch_end(self, outputs):\n",
        "        loss = torch.stack([x['test_loss_step'] for x in outputs]).mean()\n",
        "        f1_test = torch.stack([x['test_f1_step'] for x in outputs]).mean()\n",
        "        acc = torch.stack([x['test_acc_step'] for x in outputs]).mean()\n",
        "\n",
        "        self.log(\"test_loss\", loss, prog_bar=True)\n",
        "        self.log(\"test_f1\", f1_test, prog_bar=True)\n",
        "        self.log(\"test_acc\", acc, prog_bar=True)\n",
        "\n",
        "    def configure_optimizers(self):\n",
        "\n",
        "        # optimizer = torch.optim.RMSprop(self.parameters(),\n",
        "        #                  lr=self.hparams[\"lr\"],\n",
        "        #                  weight_decay=self.hparams[\"w_decay\"])\n",
        "\n",
        "        def lr_foo(epoch):\n",
        "            if epoch < self.hparams[\"warm_up_epochs\"]:\n",
        "                # warm up lr\n",
        "                lr_scale = 0.1 ** (self.hparams[\"warm_up_epochs\"] - epoch)\n",
        "            else:\n",
        "                lr_scale = 1\n",
        "                # lr_scale = 0.95 ** epoch\n",
        "\n",
        "            return lr_scale\n",
        "        \n",
        "        optimizer = torch.optim.Adam(self.parameters(),\n",
        "                         lr=self.hparams[\"lr\"],\n",
        "                         betas=(0.9, 0.98),\n",
        "                         eps=1e-06,\n",
        "                         weight_decay=self.hparams[\"w_decay\"])\n",
        "        \n",
        "        scheduler = torch.optim.lr_scheduler.LambdaLR(\n",
        "            optimizer,\n",
        "            lr_lambda=lr_foo\n",
        "        )\n",
        "        \n",
        "        return {'optimizer': optimizer, 'lr_scheduler': scheduler}"
      ],
      "execution_count": null,
      "outputs": []
    },
    {
      "cell_type": "code",
      "metadata": {
        "colab": {
          "base_uri": "https://localhost:8080/"
        },
        "id": "RjBqEPpmjccI",
        "outputId": "57a71188-ca0d-433b-ecfa-42c5f3160c62"
      },
      "source": [
        "hparams[\"lr\"]"
      ],
      "execution_count": null,
      "outputs": [
        {
          "output_type": "execute_result",
          "data": {
            "text/plain": [
              "5e-06"
            ]
          },
          "metadata": {
            "tags": []
          },
          "execution_count": 34
        }
      ]
    },
    {
      "cell_type": "markdown",
      "metadata": {
        "id": "RhA8wCkeJnel"
      },
      "source": [
        "# Criando o classificador e treinamento"
      ]
    },
    {
      "cell_type": "code",
      "metadata": {
        "colab": {
          "base_uri": "https://localhost:8080/"
        },
        "id": "IZ3j44mzRj70",
        "outputId": "615740e6-ecb2-41e1-fed0-68c0c82d9d4a"
      },
      "source": [
        "pl_model =  robertaNetClassifier(hparams=hparams)\n",
        "print(pl_model)\n",
        "\n",
        "checkpoint_path = '/content/drive/MyDrive/aula11_checkpoints_AP/'\n",
        "print(f'Files in {checkpoint_path}: {os.listdir(checkpoint_path)}')\n",
        "print(f'Saving checkpoints to {checkpoint_path}')\n",
        "checkpoint_callback = pl.callbacks.ModelCheckpoint(filename=hparams[\"version\"]+'-{epoch:02d}-{val_f1:.2f}',\n",
        "                                                    dirpath=checkpoint_path,\n",
        "                                                    save_top_k=1, \n",
        "                                                    verbose=True,\n",
        "                                                    monitor=\"val_f1\", mode=\"max\")\n",
        "early_stop_callback = pl.callbacks.EarlyStopping(monitor='val_f1', patience=hparams[\"patience\"], mode='max')\n",
        "lr_monitor = pl.callbacks.LearningRateMonitor(logging_interval='epoch')\n",
        "\n",
        "trainer = pl.Trainer(gpus=1, \n",
        "                     # precision=16,\n",
        "                     logger=neptune_logger,\n",
        "                     num_sanity_val_steps=0,\n",
        "                     accumulate_grad_batches=hparams[\"accum_grads\"],\n",
        "                     checkpoint_callback=checkpoint_callback, \n",
        "                     callbacks=[early_stop_callback, lr_monitor],\n",
        "                     max_epochs=hparams[\"max_epochs\"])"
      ],
      "execution_count": null,
      "outputs": [
        {
          "output_type": "stream",
          "text": [
            "/usr/local/lib/python3.7/dist-packages/pytorch_lightning/utilities/distributed.py:68: UserWarning: Checkpoint directory /content/drive/MyDrive/aula11_checkpoints_AP/ exists and is not empty.\n",
            "  warnings.warn(*args, **kwargs)\n",
            "GPU available: True, used: True\n",
            "TPU available: False, using: 0 TPU cores\n"
          ],
          "name": "stderr"
        },
        {
          "output_type": "stream",
          "text": [
            "robertaNetClassifier(\n",
            "  (model): RobertaHubInterface(\n",
            "    (model): RobertaModel(\n",
            "      (encoder): RobertaEncoder(\n",
            "        (sentence_encoder): TransformerEncoder(\n",
            "          (dropout_module): FairseqDropout()\n",
            "          (embed_tokens): Embedding(50265, 1024, padding_idx=1)\n",
            "          (embed_positions): LearnedPositionalEmbedding(514, 1024, padding_idx=1)\n",
            "          (layernorm_embedding): LayerNorm((1024,), eps=1e-05, elementwise_affine=True)\n",
            "          (layers): ModuleList(\n",
            "            (0): TransformerEncoderLayer(\n",
            "              (self_attn): MultiheadAttention(\n",
            "                (dropout_module): FairseqDropout()\n",
            "                (k_proj): Linear(in_features=1024, out_features=1024, bias=True)\n",
            "                (v_proj): Linear(in_features=1024, out_features=1024, bias=True)\n",
            "                (q_proj): Linear(in_features=1024, out_features=1024, bias=True)\n",
            "                (out_proj): Linear(in_features=1024, out_features=1024, bias=True)\n",
            "              )\n",
            "              (self_attn_layer_norm): LayerNorm((1024,), eps=1e-05, elementwise_affine=True)\n",
            "              (dropout_module): FairseqDropout()\n",
            "              (activation_dropout_module): FairseqDropout()\n",
            "              (fc1): Linear(in_features=1024, out_features=4096, bias=True)\n",
            "              (fc2): Linear(in_features=4096, out_features=1024, bias=True)\n",
            "              (final_layer_norm): LayerNorm((1024,), eps=1e-05, elementwise_affine=True)\n",
            "            )\n",
            "            (1): TransformerEncoderLayer(\n",
            "              (self_attn): MultiheadAttention(\n",
            "                (dropout_module): FairseqDropout()\n",
            "                (k_proj): Linear(in_features=1024, out_features=1024, bias=True)\n",
            "                (v_proj): Linear(in_features=1024, out_features=1024, bias=True)\n",
            "                (q_proj): Linear(in_features=1024, out_features=1024, bias=True)\n",
            "                (out_proj): Linear(in_features=1024, out_features=1024, bias=True)\n",
            "              )\n",
            "              (self_attn_layer_norm): LayerNorm((1024,), eps=1e-05, elementwise_affine=True)\n",
            "              (dropout_module): FairseqDropout()\n",
            "              (activation_dropout_module): FairseqDropout()\n",
            "              (fc1): Linear(in_features=1024, out_features=4096, bias=True)\n",
            "              (fc2): Linear(in_features=4096, out_features=1024, bias=True)\n",
            "              (final_layer_norm): LayerNorm((1024,), eps=1e-05, elementwise_affine=True)\n",
            "            )\n",
            "            (2): TransformerEncoderLayer(\n",
            "              (self_attn): MultiheadAttention(\n",
            "                (dropout_module): FairseqDropout()\n",
            "                (k_proj): Linear(in_features=1024, out_features=1024, bias=True)\n",
            "                (v_proj): Linear(in_features=1024, out_features=1024, bias=True)\n",
            "                (q_proj): Linear(in_features=1024, out_features=1024, bias=True)\n",
            "                (out_proj): Linear(in_features=1024, out_features=1024, bias=True)\n",
            "              )\n",
            "              (self_attn_layer_norm): LayerNorm((1024,), eps=1e-05, elementwise_affine=True)\n",
            "              (dropout_module): FairseqDropout()\n",
            "              (activation_dropout_module): FairseqDropout()\n",
            "              (fc1): Linear(in_features=1024, out_features=4096, bias=True)\n",
            "              (fc2): Linear(in_features=4096, out_features=1024, bias=True)\n",
            "              (final_layer_norm): LayerNorm((1024,), eps=1e-05, elementwise_affine=True)\n",
            "            )\n",
            "            (3): TransformerEncoderLayer(\n",
            "              (self_attn): MultiheadAttention(\n",
            "                (dropout_module): FairseqDropout()\n",
            "                (k_proj): Linear(in_features=1024, out_features=1024, bias=True)\n",
            "                (v_proj): Linear(in_features=1024, out_features=1024, bias=True)\n",
            "                (q_proj): Linear(in_features=1024, out_features=1024, bias=True)\n",
            "                (out_proj): Linear(in_features=1024, out_features=1024, bias=True)\n",
            "              )\n",
            "              (self_attn_layer_norm): LayerNorm((1024,), eps=1e-05, elementwise_affine=True)\n",
            "              (dropout_module): FairseqDropout()\n",
            "              (activation_dropout_module): FairseqDropout()\n",
            "              (fc1): Linear(in_features=1024, out_features=4096, bias=True)\n",
            "              (fc2): Linear(in_features=4096, out_features=1024, bias=True)\n",
            "              (final_layer_norm): LayerNorm((1024,), eps=1e-05, elementwise_affine=True)\n",
            "            )\n",
            "            (4): TransformerEncoderLayer(\n",
            "              (self_attn): MultiheadAttention(\n",
            "                (dropout_module): FairseqDropout()\n",
            "                (k_proj): Linear(in_features=1024, out_features=1024, bias=True)\n",
            "                (v_proj): Linear(in_features=1024, out_features=1024, bias=True)\n",
            "                (q_proj): Linear(in_features=1024, out_features=1024, bias=True)\n",
            "                (out_proj): Linear(in_features=1024, out_features=1024, bias=True)\n",
            "              )\n",
            "              (self_attn_layer_norm): LayerNorm((1024,), eps=1e-05, elementwise_affine=True)\n",
            "              (dropout_module): FairseqDropout()\n",
            "              (activation_dropout_module): FairseqDropout()\n",
            "              (fc1): Linear(in_features=1024, out_features=4096, bias=True)\n",
            "              (fc2): Linear(in_features=4096, out_features=1024, bias=True)\n",
            "              (final_layer_norm): LayerNorm((1024,), eps=1e-05, elementwise_affine=True)\n",
            "            )\n",
            "            (5): TransformerEncoderLayer(\n",
            "              (self_attn): MultiheadAttention(\n",
            "                (dropout_module): FairseqDropout()\n",
            "                (k_proj): Linear(in_features=1024, out_features=1024, bias=True)\n",
            "                (v_proj): Linear(in_features=1024, out_features=1024, bias=True)\n",
            "                (q_proj): Linear(in_features=1024, out_features=1024, bias=True)\n",
            "                (out_proj): Linear(in_features=1024, out_features=1024, bias=True)\n",
            "              )\n",
            "              (self_attn_layer_norm): LayerNorm((1024,), eps=1e-05, elementwise_affine=True)\n",
            "              (dropout_module): FairseqDropout()\n",
            "              (activation_dropout_module): FairseqDropout()\n",
            "              (fc1): Linear(in_features=1024, out_features=4096, bias=True)\n",
            "              (fc2): Linear(in_features=4096, out_features=1024, bias=True)\n",
            "              (final_layer_norm): LayerNorm((1024,), eps=1e-05, elementwise_affine=True)\n",
            "            )\n",
            "            (6): TransformerEncoderLayer(\n",
            "              (self_attn): MultiheadAttention(\n",
            "                (dropout_module): FairseqDropout()\n",
            "                (k_proj): Linear(in_features=1024, out_features=1024, bias=True)\n",
            "                (v_proj): Linear(in_features=1024, out_features=1024, bias=True)\n",
            "                (q_proj): Linear(in_features=1024, out_features=1024, bias=True)\n",
            "                (out_proj): Linear(in_features=1024, out_features=1024, bias=True)\n",
            "              )\n",
            "              (self_attn_layer_norm): LayerNorm((1024,), eps=1e-05, elementwise_affine=True)\n",
            "              (dropout_module): FairseqDropout()\n",
            "              (activation_dropout_module): FairseqDropout()\n",
            "              (fc1): Linear(in_features=1024, out_features=4096, bias=True)\n",
            "              (fc2): Linear(in_features=4096, out_features=1024, bias=True)\n",
            "              (final_layer_norm): LayerNorm((1024,), eps=1e-05, elementwise_affine=True)\n",
            "            )\n",
            "            (7): TransformerEncoderLayer(\n",
            "              (self_attn): MultiheadAttention(\n",
            "                (dropout_module): FairseqDropout()\n",
            "                (k_proj): Linear(in_features=1024, out_features=1024, bias=True)\n",
            "                (v_proj): Linear(in_features=1024, out_features=1024, bias=True)\n",
            "                (q_proj): Linear(in_features=1024, out_features=1024, bias=True)\n",
            "                (out_proj): Linear(in_features=1024, out_features=1024, bias=True)\n",
            "              )\n",
            "              (self_attn_layer_norm): LayerNorm((1024,), eps=1e-05, elementwise_affine=True)\n",
            "              (dropout_module): FairseqDropout()\n",
            "              (activation_dropout_module): FairseqDropout()\n",
            "              (fc1): Linear(in_features=1024, out_features=4096, bias=True)\n",
            "              (fc2): Linear(in_features=4096, out_features=1024, bias=True)\n",
            "              (final_layer_norm): LayerNorm((1024,), eps=1e-05, elementwise_affine=True)\n",
            "            )\n",
            "            (8): TransformerEncoderLayer(\n",
            "              (self_attn): MultiheadAttention(\n",
            "                (dropout_module): FairseqDropout()\n",
            "                (k_proj): Linear(in_features=1024, out_features=1024, bias=True)\n",
            "                (v_proj): Linear(in_features=1024, out_features=1024, bias=True)\n",
            "                (q_proj): Linear(in_features=1024, out_features=1024, bias=True)\n",
            "                (out_proj): Linear(in_features=1024, out_features=1024, bias=True)\n",
            "              )\n",
            "              (self_attn_layer_norm): LayerNorm((1024,), eps=1e-05, elementwise_affine=True)\n",
            "              (dropout_module): FairseqDropout()\n",
            "              (activation_dropout_module): FairseqDropout()\n",
            "              (fc1): Linear(in_features=1024, out_features=4096, bias=True)\n",
            "              (fc2): Linear(in_features=4096, out_features=1024, bias=True)\n",
            "              (final_layer_norm): LayerNorm((1024,), eps=1e-05, elementwise_affine=True)\n",
            "            )\n",
            "            (9): TransformerEncoderLayer(\n",
            "              (self_attn): MultiheadAttention(\n",
            "                (dropout_module): FairseqDropout()\n",
            "                (k_proj): Linear(in_features=1024, out_features=1024, bias=True)\n",
            "                (v_proj): Linear(in_features=1024, out_features=1024, bias=True)\n",
            "                (q_proj): Linear(in_features=1024, out_features=1024, bias=True)\n",
            "                (out_proj): Linear(in_features=1024, out_features=1024, bias=True)\n",
            "              )\n",
            "              (self_attn_layer_norm): LayerNorm((1024,), eps=1e-05, elementwise_affine=True)\n",
            "              (dropout_module): FairseqDropout()\n",
            "              (activation_dropout_module): FairseqDropout()\n",
            "              (fc1): Linear(in_features=1024, out_features=4096, bias=True)\n",
            "              (fc2): Linear(in_features=4096, out_features=1024, bias=True)\n",
            "              (final_layer_norm): LayerNorm((1024,), eps=1e-05, elementwise_affine=True)\n",
            "            )\n",
            "            (10): TransformerEncoderLayer(\n",
            "              (self_attn): MultiheadAttention(\n",
            "                (dropout_module): FairseqDropout()\n",
            "                (k_proj): Linear(in_features=1024, out_features=1024, bias=True)\n",
            "                (v_proj): Linear(in_features=1024, out_features=1024, bias=True)\n",
            "                (q_proj): Linear(in_features=1024, out_features=1024, bias=True)\n",
            "                (out_proj): Linear(in_features=1024, out_features=1024, bias=True)\n",
            "              )\n",
            "              (self_attn_layer_norm): LayerNorm((1024,), eps=1e-05, elementwise_affine=True)\n",
            "              (dropout_module): FairseqDropout()\n",
            "              (activation_dropout_module): FairseqDropout()\n",
            "              (fc1): Linear(in_features=1024, out_features=4096, bias=True)\n",
            "              (fc2): Linear(in_features=4096, out_features=1024, bias=True)\n",
            "              (final_layer_norm): LayerNorm((1024,), eps=1e-05, elementwise_affine=True)\n",
            "            )\n",
            "            (11): TransformerEncoderLayer(\n",
            "              (self_attn): MultiheadAttention(\n",
            "                (dropout_module): FairseqDropout()\n",
            "                (k_proj): Linear(in_features=1024, out_features=1024, bias=True)\n",
            "                (v_proj): Linear(in_features=1024, out_features=1024, bias=True)\n",
            "                (q_proj): Linear(in_features=1024, out_features=1024, bias=True)\n",
            "                (out_proj): Linear(in_features=1024, out_features=1024, bias=True)\n",
            "              )\n",
            "              (self_attn_layer_norm): LayerNorm((1024,), eps=1e-05, elementwise_affine=True)\n",
            "              (dropout_module): FairseqDropout()\n",
            "              (activation_dropout_module): FairseqDropout()\n",
            "              (fc1): Linear(in_features=1024, out_features=4096, bias=True)\n",
            "              (fc2): Linear(in_features=4096, out_features=1024, bias=True)\n",
            "              (final_layer_norm): LayerNorm((1024,), eps=1e-05, elementwise_affine=True)\n",
            "            )\n",
            "            (12): TransformerEncoderLayer(\n",
            "              (self_attn): MultiheadAttention(\n",
            "                (dropout_module): FairseqDropout()\n",
            "                (k_proj): Linear(in_features=1024, out_features=1024, bias=True)\n",
            "                (v_proj): Linear(in_features=1024, out_features=1024, bias=True)\n",
            "                (q_proj): Linear(in_features=1024, out_features=1024, bias=True)\n",
            "                (out_proj): Linear(in_features=1024, out_features=1024, bias=True)\n",
            "              )\n",
            "              (self_attn_layer_norm): LayerNorm((1024,), eps=1e-05, elementwise_affine=True)\n",
            "              (dropout_module): FairseqDropout()\n",
            "              (activation_dropout_module): FairseqDropout()\n",
            "              (fc1): Linear(in_features=1024, out_features=4096, bias=True)\n",
            "              (fc2): Linear(in_features=4096, out_features=1024, bias=True)\n",
            "              (final_layer_norm): LayerNorm((1024,), eps=1e-05, elementwise_affine=True)\n",
            "            )\n",
            "            (13): TransformerEncoderLayer(\n",
            "              (self_attn): MultiheadAttention(\n",
            "                (dropout_module): FairseqDropout()\n",
            "                (k_proj): Linear(in_features=1024, out_features=1024, bias=True)\n",
            "                (v_proj): Linear(in_features=1024, out_features=1024, bias=True)\n",
            "                (q_proj): Linear(in_features=1024, out_features=1024, bias=True)\n",
            "                (out_proj): Linear(in_features=1024, out_features=1024, bias=True)\n",
            "              )\n",
            "              (self_attn_layer_norm): LayerNorm((1024,), eps=1e-05, elementwise_affine=True)\n",
            "              (dropout_module): FairseqDropout()\n",
            "              (activation_dropout_module): FairseqDropout()\n",
            "              (fc1): Linear(in_features=1024, out_features=4096, bias=True)\n",
            "              (fc2): Linear(in_features=4096, out_features=1024, bias=True)\n",
            "              (final_layer_norm): LayerNorm((1024,), eps=1e-05, elementwise_affine=True)\n",
            "            )\n",
            "            (14): TransformerEncoderLayer(\n",
            "              (self_attn): MultiheadAttention(\n",
            "                (dropout_module): FairseqDropout()\n",
            "                (k_proj): Linear(in_features=1024, out_features=1024, bias=True)\n",
            "                (v_proj): Linear(in_features=1024, out_features=1024, bias=True)\n",
            "                (q_proj): Linear(in_features=1024, out_features=1024, bias=True)\n",
            "                (out_proj): Linear(in_features=1024, out_features=1024, bias=True)\n",
            "              )\n",
            "              (self_attn_layer_norm): LayerNorm((1024,), eps=1e-05, elementwise_affine=True)\n",
            "              (dropout_module): FairseqDropout()\n",
            "              (activation_dropout_module): FairseqDropout()\n",
            "              (fc1): Linear(in_features=1024, out_features=4096, bias=True)\n",
            "              (fc2): Linear(in_features=4096, out_features=1024, bias=True)\n",
            "              (final_layer_norm): LayerNorm((1024,), eps=1e-05, elementwise_affine=True)\n",
            "            )\n",
            "            (15): TransformerEncoderLayer(\n",
            "              (self_attn): MultiheadAttention(\n",
            "                (dropout_module): FairseqDropout()\n",
            "                (k_proj): Linear(in_features=1024, out_features=1024, bias=True)\n",
            "                (v_proj): Linear(in_features=1024, out_features=1024, bias=True)\n",
            "                (q_proj): Linear(in_features=1024, out_features=1024, bias=True)\n",
            "                (out_proj): Linear(in_features=1024, out_features=1024, bias=True)\n",
            "              )\n",
            "              (self_attn_layer_norm): LayerNorm((1024,), eps=1e-05, elementwise_affine=True)\n",
            "              (dropout_module): FairseqDropout()\n",
            "              (activation_dropout_module): FairseqDropout()\n",
            "              (fc1): Linear(in_features=1024, out_features=4096, bias=True)\n",
            "              (fc2): Linear(in_features=4096, out_features=1024, bias=True)\n",
            "              (final_layer_norm): LayerNorm((1024,), eps=1e-05, elementwise_affine=True)\n",
            "            )\n",
            "            (16): TransformerEncoderLayer(\n",
            "              (self_attn): MultiheadAttention(\n",
            "                (dropout_module): FairseqDropout()\n",
            "                (k_proj): Linear(in_features=1024, out_features=1024, bias=True)\n",
            "                (v_proj): Linear(in_features=1024, out_features=1024, bias=True)\n",
            "                (q_proj): Linear(in_features=1024, out_features=1024, bias=True)\n",
            "                (out_proj): Linear(in_features=1024, out_features=1024, bias=True)\n",
            "              )\n",
            "              (self_attn_layer_norm): LayerNorm((1024,), eps=1e-05, elementwise_affine=True)\n",
            "              (dropout_module): FairseqDropout()\n",
            "              (activation_dropout_module): FairseqDropout()\n",
            "              (fc1): Linear(in_features=1024, out_features=4096, bias=True)\n",
            "              (fc2): Linear(in_features=4096, out_features=1024, bias=True)\n",
            "              (final_layer_norm): LayerNorm((1024,), eps=1e-05, elementwise_affine=True)\n",
            "            )\n",
            "            (17): TransformerEncoderLayer(\n",
            "              (self_attn): MultiheadAttention(\n",
            "                (dropout_module): FairseqDropout()\n",
            "                (k_proj): Linear(in_features=1024, out_features=1024, bias=True)\n",
            "                (v_proj): Linear(in_features=1024, out_features=1024, bias=True)\n",
            "                (q_proj): Linear(in_features=1024, out_features=1024, bias=True)\n",
            "                (out_proj): Linear(in_features=1024, out_features=1024, bias=True)\n",
            "              )\n",
            "              (self_attn_layer_norm): LayerNorm((1024,), eps=1e-05, elementwise_affine=True)\n",
            "              (dropout_module): FairseqDropout()\n",
            "              (activation_dropout_module): FairseqDropout()\n",
            "              (fc1): Linear(in_features=1024, out_features=4096, bias=True)\n",
            "              (fc2): Linear(in_features=4096, out_features=1024, bias=True)\n",
            "              (final_layer_norm): LayerNorm((1024,), eps=1e-05, elementwise_affine=True)\n",
            "            )\n",
            "            (18): TransformerEncoderLayer(\n",
            "              (self_attn): MultiheadAttention(\n",
            "                (dropout_module): FairseqDropout()\n",
            "                (k_proj): Linear(in_features=1024, out_features=1024, bias=True)\n",
            "                (v_proj): Linear(in_features=1024, out_features=1024, bias=True)\n",
            "                (q_proj): Linear(in_features=1024, out_features=1024, bias=True)\n",
            "                (out_proj): Linear(in_features=1024, out_features=1024, bias=True)\n",
            "              )\n",
            "              (self_attn_layer_norm): LayerNorm((1024,), eps=1e-05, elementwise_affine=True)\n",
            "              (dropout_module): FairseqDropout()\n",
            "              (activation_dropout_module): FairseqDropout()\n",
            "              (fc1): Linear(in_features=1024, out_features=4096, bias=True)\n",
            "              (fc2): Linear(in_features=4096, out_features=1024, bias=True)\n",
            "              (final_layer_norm): LayerNorm((1024,), eps=1e-05, elementwise_affine=True)\n",
            "            )\n",
            "            (19): TransformerEncoderLayer(\n",
            "              (self_attn): MultiheadAttention(\n",
            "                (dropout_module): FairseqDropout()\n",
            "                (k_proj): Linear(in_features=1024, out_features=1024, bias=True)\n",
            "                (v_proj): Linear(in_features=1024, out_features=1024, bias=True)\n",
            "                (q_proj): Linear(in_features=1024, out_features=1024, bias=True)\n",
            "                (out_proj): Linear(in_features=1024, out_features=1024, bias=True)\n",
            "              )\n",
            "              (self_attn_layer_norm): LayerNorm((1024,), eps=1e-05, elementwise_affine=True)\n",
            "              (dropout_module): FairseqDropout()\n",
            "              (activation_dropout_module): FairseqDropout()\n",
            "              (fc1): Linear(in_features=1024, out_features=4096, bias=True)\n",
            "              (fc2): Linear(in_features=4096, out_features=1024, bias=True)\n",
            "              (final_layer_norm): LayerNorm((1024,), eps=1e-05, elementwise_affine=True)\n",
            "            )\n",
            "            (20): TransformerEncoderLayer(\n",
            "              (self_attn): MultiheadAttention(\n",
            "                (dropout_module): FairseqDropout()\n",
            "                (k_proj): Linear(in_features=1024, out_features=1024, bias=True)\n",
            "                (v_proj): Linear(in_features=1024, out_features=1024, bias=True)\n",
            "                (q_proj): Linear(in_features=1024, out_features=1024, bias=True)\n",
            "                (out_proj): Linear(in_features=1024, out_features=1024, bias=True)\n",
            "              )\n",
            "              (self_attn_layer_norm): LayerNorm((1024,), eps=1e-05, elementwise_affine=True)\n",
            "              (dropout_module): FairseqDropout()\n",
            "              (activation_dropout_module): FairseqDropout()\n",
            "              (fc1): Linear(in_features=1024, out_features=4096, bias=True)\n",
            "              (fc2): Linear(in_features=4096, out_features=1024, bias=True)\n",
            "              (final_layer_norm): LayerNorm((1024,), eps=1e-05, elementwise_affine=True)\n",
            "            )\n",
            "            (21): TransformerEncoderLayer(\n",
            "              (self_attn): MultiheadAttention(\n",
            "                (dropout_module): FairseqDropout()\n",
            "                (k_proj): Linear(in_features=1024, out_features=1024, bias=True)\n",
            "                (v_proj): Linear(in_features=1024, out_features=1024, bias=True)\n",
            "                (q_proj): Linear(in_features=1024, out_features=1024, bias=True)\n",
            "                (out_proj): Linear(in_features=1024, out_features=1024, bias=True)\n",
            "              )\n",
            "              (self_attn_layer_norm): LayerNorm((1024,), eps=1e-05, elementwise_affine=True)\n",
            "              (dropout_module): FairseqDropout()\n",
            "              (activation_dropout_module): FairseqDropout()\n",
            "              (fc1): Linear(in_features=1024, out_features=4096, bias=True)\n",
            "              (fc2): Linear(in_features=4096, out_features=1024, bias=True)\n",
            "              (final_layer_norm): LayerNorm((1024,), eps=1e-05, elementwise_affine=True)\n",
            "            )\n",
            "            (22): TransformerEncoderLayer(\n",
            "              (self_attn): MultiheadAttention(\n",
            "                (dropout_module): FairseqDropout()\n",
            "                (k_proj): Linear(in_features=1024, out_features=1024, bias=True)\n",
            "                (v_proj): Linear(in_features=1024, out_features=1024, bias=True)\n",
            "                (q_proj): Linear(in_features=1024, out_features=1024, bias=True)\n",
            "                (out_proj): Linear(in_features=1024, out_features=1024, bias=True)\n",
            "              )\n",
            "              (self_attn_layer_norm): LayerNorm((1024,), eps=1e-05, elementwise_affine=True)\n",
            "              (dropout_module): FairseqDropout()\n",
            "              (activation_dropout_module): FairseqDropout()\n",
            "              (fc1): Linear(in_features=1024, out_features=4096, bias=True)\n",
            "              (fc2): Linear(in_features=4096, out_features=1024, bias=True)\n",
            "              (final_layer_norm): LayerNorm((1024,), eps=1e-05, elementwise_affine=True)\n",
            "            )\n",
            "            (23): TransformerEncoderLayer(\n",
            "              (self_attn): MultiheadAttention(\n",
            "                (dropout_module): FairseqDropout()\n",
            "                (k_proj): Linear(in_features=1024, out_features=1024, bias=True)\n",
            "                (v_proj): Linear(in_features=1024, out_features=1024, bias=True)\n",
            "                (q_proj): Linear(in_features=1024, out_features=1024, bias=True)\n",
            "                (out_proj): Linear(in_features=1024, out_features=1024, bias=True)\n",
            "              )\n",
            "              (self_attn_layer_norm): LayerNorm((1024,), eps=1e-05, elementwise_affine=True)\n",
            "              (dropout_module): FairseqDropout()\n",
            "              (activation_dropout_module): FairseqDropout()\n",
            "              (fc1): Linear(in_features=1024, out_features=4096, bias=True)\n",
            "              (fc2): Linear(in_features=4096, out_features=1024, bias=True)\n",
            "              (final_layer_norm): LayerNorm((1024,), eps=1e-05, elementwise_affine=True)\n",
            "            )\n",
            "          )\n",
            "        )\n",
            "        (lm_head): RobertaLMHead(\n",
            "          (dense): Linear(in_features=1024, out_features=1024, bias=True)\n",
            "          (layer_norm): LayerNorm((1024,), eps=1e-05, elementwise_affine=True)\n",
            "        )\n",
            "      )\n",
            "      (classification_heads): ModuleDict(\n",
            "        (imdb_head): RobertaClassificationHead(\n",
            "          (dense): Linear(in_features=1024, out_features=1024, bias=True)\n",
            "          (dropout): Dropout(p=0.0, inplace=False)\n",
            "          (out_proj): Linear(in_features=1024, out_features=2, bias=True)\n",
            "        )\n",
            "      )\n",
            "    )\n",
            "  )\n",
            ")\n",
            "Files in /content/drive/MyDrive/aula11_checkpoints_AP/: ['roberta_base_pretrain_imbd_test1-epoch=05-val_f1=0.95.ckpt', 'roberta_large_pretrain_imbd_test1-epoch=10-val_f1=0.95.ckpt', 'roberta_large_pretrain_imbd_test2-epoch=19-val_f1=0.94.ckpt', 'roberta_large_pretrain_imbd_test3-epoch=15-val_f1=0.94.ckpt', 'roberta_large_pretrain_imbd_test4-epoch=02-val_f1=0.92.ckpt', 'roberta_large_pretrain_imbd_test5-epoch=03-val_f1=0.94.ckpt', 'roberta_large_pretrain_imbd_test6-epoch=01-val_f1=0.90.ckpt', 'roberta_large_pretrain_imbd_test6-epoch=02-val_f1=0.91.ckpt', 'roberta_large_pretrain_imbd_test6-epoch=06-val_f1=0.94.ckpt', 'roberta_large_pretrain_imbd_test7-epoch=06-val_f1=0.94.ckpt']\n",
            "Saving checkpoints to /content/drive/MyDrive/aula11_checkpoints_AP/\n"
          ],
          "name": "stdout"
        }
      ]
    },
    {
      "cell_type": "code",
      "metadata": {
        "colab": {
          "base_uri": "https://localhost:8080/",
          "height": 633,
          "referenced_widgets": [
            "f88517b9cf89418e91b62caedfd0e301",
            "97cdb85005e947b3b09b0b01bc97faf8",
            "5d803002f12045abbe699413a8b4008c",
            "4b7842b3df6642cc8997be288c8a9112",
            "8acb6e94989e48eaa9719a42e448ec52",
            "4ab940b86c334fc5be0923b48fbe83a1",
            "9f41200eb2db429187c5e41687461343",
            "f1eb101e791943eda6e078560de9dce4",
            "896a6758ebba48d685289285e19d9828",
            "8917885aa6014946bae574f1f3dc4fec",
            "d740529b0e8740e18a05233b3e0cc1f5",
            "0eacaffb5e0143b5b2cb489ccdda450b",
            "1647c4bede924fc89b6c368efaf683b8",
            "990d9050672b492dbf2deb99dac93605",
            "6b68cb095c634d83a456a9ed6f0e171b",
            "327de366a8a6452fae7239ec105d75a8",
            "ce0170ad80b84c12ac15ca7c63d6be09",
            "3b7963d0c82548a5bb7e2b63a7f6e27c",
            "f457fb97b59e4f3790fe3b80c473f364",
            "4afaf75e39554ae38c102fceecf90e0f",
            "2fd63cbdb45144da9772af4bbfb5f6b9",
            "2aa328ed8e2244e28c24215fd2ab242c",
            "8249b76f894c4c44a9558fd2d724eafe",
            "08973765556649799aa529db11edf4b1",
            "2dcde2e3fb6744478b074337c10dd459",
            "062a2b5ee68a46a0accc7ef6a726449a",
            "526e9feab6e243aeb5146f26a0d21e87",
            "dbcb5d5c63df402b8cbcc15748eae163",
            "22a29cafe1c647468da1ee5a0dfa6210",
            "62ad5b3ae10e43aba2c992cd9038a5f2",
            "da0a7e8e59b94e5abff04ae3433ebe0e",
            "efdce4d6044a4aab99073a4bdfbdcac8",
            "672ca83dc3e7424eb4543ca91457605f",
            "fab1ff65f5d8404281552f0cea773f8e",
            "9639fbc112db44ad934021fe7eae9651",
            "39fcd53e6cb44961b088d1f98e71030a",
            "a0e1561d39ba404982ff0612478f9771",
            "afc9d3b7621c4564bfa3fbdbafcbcaee",
            "0de3621412904136875c3099272b3951",
            "e9a404738c254dac9e13128c7d2f09ba",
            "14d85720be1641b7885dec63fe9d25cc",
            "e82eb99c730040988d9671e558eb11da",
            "aa59aaaeb8bf4414a4038528ef91c22e",
            "b17c29ac08e64dfc9d69e01efcc31b3e",
            "ff708ba59a6a42178b2a4797ce8976b1",
            "17931ef25d5642f08996d39e4de94305",
            "66268216373049fb9a0e01b48ab328cd",
            "f8fa291604d84dfd8251286227aed994",
            "d0109c4f060a4aada10a29e6c005d170",
            "45add4d584ab42fb87c680e554109340",
            "1d44c24675314a4fb0f2116ab0e8afca",
            "702fb378b8d94695af252a7124a32c93",
            "633973b1795b4a74a58becb311d9cc74",
            "6e0e484a72f74b8fb1c85386d479e68d",
            "e5c63fda14ff4c3ca0cd66b172b52012",
            "f114c9e6022749ab84cf181e27ebbf92",
            "74a0b1e66b524b229a312032bf3184fd",
            "6d228ca22ee54a71b70056f209af9ca8",
            "56decdf1b5e44c5b8d42765d1c061dcf",
            "3b22be49d6114302a1ab9f2f2f3a4c58",
            "653e06571a2142ab8e72628740dcbd05",
            "60105df0ac7e4b66a09e8095cd5968ef",
            "f2b409a42d304e95b22efd0375b5b03e",
            "8991bb325e734bb984ccb972645a530f",
            "5fcfb3d5638d4131859244f7c7e12515",
            "1add134a1ecc4f42a351b12b7c150cad",
            "e46c81f0b9da49aa82278f10057e6377",
            "df6a62fafc354d8094d32e5d31cda5b2",
            "b954fb6abe8d4679bb91c2ce5d65407e",
            "38f760ad88944a2daf331e22aee889b3",
            "d18cf297a4e240d8b189d02031763dd5",
            "c47adaf98bcd4b99be36bde7778b3ae7",
            "12c6a7ba8ea94e5e97588cafdc6bfc67",
            "cb23e190d2ab4a0c8ee3357e68e939fd",
            "4c3a52d5ddb94b528deb1a8c7f5ce233",
            "727700cc8c3249f7972ec06b08235f21",
            "fddca9ab6f594edfad36fede1907c159",
            "6df109773d5a498d9bc117a556ef460b",
            "004509efccbc4c8f8a6ab836284f9c0a",
            "1a02bfc484e048ae82423d519acb163e",
            "bfa4ed34b53e4fc4b99561e749d093ce",
            "33df52b285304a0da7ffacff3bb610ea",
            "6e3fec4c947c4848a96c1a0d6a15bc8f",
            "8b2dc964f2104c3f8b84032402d12bb1",
            "5dd623b60b604b03af90dc5ec7cda32b",
            "8065b87031e74f1a8974cef9f96f3530",
            "54242abffecb4cc794c11385a05a3432",
            "8d78481c0ba445daa7f8449d0999db72",
            "3d33ca2193f2411197f2365192fc31af",
            "4e1be64744bc429db89e25eb02e22bba",
            "127dd653aac940d1afbe83f7c02c80b6",
            "03e7fcdcb99c40f1afff903e8ae47751",
            "97dc5a8e9c5b4f9ba49c4f95e8cfefba",
            "6ead00b0aee147b6834c66113e2c9f3b",
            "74c474b40b04436eb158788eb593694f",
            "d3fdab46cc99452eb5e8001274bf1d1a",
            "fdea29ec213040baa618719517b5daad",
            "1e0f8f96d5c4473da2c984621aad81c1",
            "c867c7de1565416ea805e43693a6a2e8",
            "dbd323628b1842e1892cf0c0f8f572ef",
            "99a07f5c3b0f4226bffb5b2a1420296d",
            "9d94dc3b67534d4497afc2a17b5121cc",
            "abd0b943fb084057823a093769713f33",
            "480f5a96751f4fdb835bcaf136f30268",
            "1a3ac0ffb6c047648a697bc98040f424",
            "107c03ddd19b4d58b32b76b589289044",
            "414dda4ebeba4bbeb73039a307c8133f",
            "fc55284681e14846988490b59b87cb12",
            "931d40c73c92438887a56e06c6a64d7f",
            "dcf0bd1fa17540009d0df9f827619b1a",
            "2811d36de280434ab68adc42f272bd5d",
            "f728f1a7e8f74626bc01b8556d57ad19",
            "36142bf0408347febfbf047319e25c94",
            "e61550fe9d864d73986292eccea5e48c",
            "5300ce5c902245a888c9b8a5aecbe21d",
            "599ab32d07414f63933c71fff78bc9ef",
            "6adc0248ad4b4ad5bdb5fe31bb7dc710",
            "b0bac673077d47378fae35d46703fd85",
            "2b75d20f528744b4bf24eb5a186de110",
            "50971e68ee6d49a08159debca97b68cf",
            "766ff7af85bb45b49edd35b73f5ffcb5",
            "ef7fbd77ca39419e9f746ea6d1250b91",
            "a78f1c08f52747b39baaaf63b109870a",
            "f2f37291cd63446f8818049b4f4718e3",
            "d2f45c96dd224673a11b3248f91293cd",
            "3e8a04160ffc4c1f8049abad8aa90f73",
            "37dfa87f3b1642969058039cdd5c012b",
            "d85670f89fd84875ba822f71254b6bd6",
            "48a2dc2f6c594870bb71a77531714911",
            "868e52f4009947aea545be7e9dde0c39",
            "f0ae6599db08451fbcfc9bc92143261b",
            "c48ee342bc8141cb85e699717f730c80",
            "23f6f0ed24dd4285b66f5e099584c0a3",
            "a8703e6f18c04c7cbeca74fe1eee1c92",
            "4e3bf778e21348f4bca8886e42791b48",
            "1bf19542e83842f2a72e774fa608a0d3"
          ]
        },
        "id": "f-CaAES7TMO2",
        "outputId": "10902fb0-7a3c-41a6-c985-155fa6cf1224"
      },
      "source": [
        "trainer.fit(pl_model, train_dataloader, val_dataloader)"
      ],
      "execution_count": null,
      "outputs": [
        {
          "output_type": "stream",
          "text": [
            "LOCAL_RANK: 0 - CUDA_VISIBLE_DEVICES: [0]\n"
          ],
          "name": "stderr"
        },
        {
          "output_type": "stream",
          "text": [
            "https://app.neptune.ai/orllem/Aula11imdb/e/AUL7-65\n"
          ],
          "name": "stdout"
        },
        {
          "output_type": "stream",
          "text": [
            "\n",
            "  | Name  | Type                | Params\n",
            "----------------------------------------------\n",
            "0 | model | RobertaHubInterface | 356 M \n",
            "----------------------------------------------\n",
            "356 M     Trainable params\n",
            "0         Non-trainable params\n",
            "356 M     Total params\n",
            "1,425.851 Total estimated model params size (MB)\n"
          ],
          "name": "stderr"
        },
        {
          "output_type": "display_data",
          "data": {
            "application/vnd.jupyter.widget-view+json": {
              "model_id": "f88517b9cf89418e91b62caedfd0e301",
              "version_minor": 0,
              "version_major": 2
            },
            "text/plain": [
              "HBox(children=(FloatProgress(value=1.0, bar_style='info', description='Training', layout=Layout(flex='2'), max…"
            ]
          },
          "metadata": {
            "tags": []
          }
        },
        {
          "output_type": "display_data",
          "data": {
            "application/vnd.jupyter.widget-view+json": {
              "model_id": "896a6758ebba48d685289285e19d9828",
              "version_minor": 0,
              "version_major": 2
            },
            "text/plain": [
              "HBox(children=(FloatProgress(value=1.0, bar_style='info', description='Validating', layout=Layout(flex='2'), m…"
            ]
          },
          "metadata": {
            "tags": []
          }
        },
        {
          "output_type": "stream",
          "text": [
            "Epoch 0, global step 21: val_f1 reached 0.51032 (best 0.51032), saving model to \"/content/drive/MyDrive/aula11_checkpoints_AP/roberta_large_pretrain_imbd_test8-epoch=00-val_f1=0.51.ckpt\" as top 1\n"
          ],
          "name": "stderr"
        },
        {
          "output_type": "display_data",
          "data": {
            "application/vnd.jupyter.widget-view+json": {
              "model_id": "ce0170ad80b84c12ac15ca7c63d6be09",
              "version_minor": 0,
              "version_major": 2
            },
            "text/plain": [
              "HBox(children=(FloatProgress(value=1.0, bar_style='info', description='Validating', layout=Layout(flex='2'), m…"
            ]
          },
          "metadata": {
            "tags": []
          }
        },
        {
          "output_type": "stream",
          "text": [
            "Epoch 1, step 43: val_f1 was not in top 1\n"
          ],
          "name": "stderr"
        },
        {
          "output_type": "display_data",
          "data": {
            "application/vnd.jupyter.widget-view+json": {
              "model_id": "2dcde2e3fb6744478b074337c10dd459",
              "version_minor": 0,
              "version_major": 2
            },
            "text/plain": [
              "HBox(children=(FloatProgress(value=1.0, bar_style='info', description='Validating', layout=Layout(flex='2'), m…"
            ]
          },
          "metadata": {
            "tags": []
          }
        },
        {
          "output_type": "stream",
          "text": [
            "Epoch 2, step 65: val_f1 was not in top 1\n"
          ],
          "name": "stderr"
        },
        {
          "output_type": "display_data",
          "data": {
            "application/vnd.jupyter.widget-view+json": {
              "model_id": "672ca83dc3e7424eb4543ca91457605f",
              "version_minor": 0,
              "version_major": 2
            },
            "text/plain": [
              "HBox(children=(FloatProgress(value=1.0, bar_style='info', description='Validating', layout=Layout(flex='2'), m…"
            ]
          },
          "metadata": {
            "tags": []
          }
        },
        {
          "output_type": "stream",
          "text": [
            "Epoch 3, global step 87: val_f1 reached 0.94444 (best 0.94444), saving model to \"/content/drive/MyDrive/aula11_checkpoints_AP/roberta_large_pretrain_imbd_test8-epoch=03-val_f1=0.94.ckpt\" as top 1\n"
          ],
          "name": "stderr"
        },
        {
          "output_type": "display_data",
          "data": {
            "application/vnd.jupyter.widget-view+json": {
              "model_id": "14d85720be1641b7885dec63fe9d25cc",
              "version_minor": 0,
              "version_major": 2
            },
            "text/plain": [
              "HBox(children=(FloatProgress(value=1.0, bar_style='info', description='Validating', layout=Layout(flex='2'), m…"
            ]
          },
          "metadata": {
            "tags": []
          }
        },
        {
          "output_type": "stream",
          "text": [
            "Epoch 4, step 109: val_f1 was not in top 1\n"
          ],
          "name": "stderr"
        },
        {
          "output_type": "display_data",
          "data": {
            "application/vnd.jupyter.widget-view+json": {
              "model_id": "d0109c4f060a4aada10a29e6c005d170",
              "version_minor": 0,
              "version_major": 2
            },
            "text/plain": [
              "HBox(children=(FloatProgress(value=1.0, bar_style='info', description='Validating', layout=Layout(flex='2'), m…"
            ]
          },
          "metadata": {
            "tags": []
          }
        },
        {
          "output_type": "stream",
          "text": [
            "Epoch 5, global step 131: val_f1 reached 0.95222 (best 0.95222), saving model to \"/content/drive/MyDrive/aula11_checkpoints_AP/roberta_large_pretrain_imbd_test8-epoch=05-val_f1=0.95.ckpt\" as top 1\n"
          ],
          "name": "stderr"
        },
        {
          "output_type": "display_data",
          "data": {
            "application/vnd.jupyter.widget-view+json": {
              "model_id": "74a0b1e66b524b229a312032bf3184fd",
              "version_minor": 0,
              "version_major": 2
            },
            "text/plain": [
              "HBox(children=(FloatProgress(value=1.0, bar_style='info', description='Validating', layout=Layout(flex='2'), m…"
            ]
          },
          "metadata": {
            "tags": []
          }
        },
        {
          "output_type": "stream",
          "text": [
            "Epoch 6, step 153: val_f1 was not in top 1\n"
          ],
          "name": "stderr"
        },
        {
          "output_type": "display_data",
          "data": {
            "application/vnd.jupyter.widget-view+json": {
              "model_id": "5fcfb3d5638d4131859244f7c7e12515",
              "version_minor": 0,
              "version_major": 2
            },
            "text/plain": [
              "HBox(children=(FloatProgress(value=1.0, bar_style='info', description='Validating', layout=Layout(flex='2'), m…"
            ]
          },
          "metadata": {
            "tags": []
          }
        },
        {
          "output_type": "stream",
          "text": [
            "Epoch 7, step 175: val_f1 was not in top 1\n"
          ],
          "name": "stderr"
        },
        {
          "output_type": "display_data",
          "data": {
            "application/vnd.jupyter.widget-view+json": {
              "model_id": "12c6a7ba8ea94e5e97588cafdc6bfc67",
              "version_minor": 0,
              "version_major": 2
            },
            "text/plain": [
              "HBox(children=(FloatProgress(value=1.0, bar_style='info', description='Validating', layout=Layout(flex='2'), m…"
            ]
          },
          "metadata": {
            "tags": []
          }
        },
        {
          "output_type": "stream",
          "text": [
            "Epoch 8, step 197: val_f1 was not in top 1\n"
          ],
          "name": "stderr"
        },
        {
          "output_type": "display_data",
          "data": {
            "application/vnd.jupyter.widget-view+json": {
              "model_id": "bfa4ed34b53e4fc4b99561e749d093ce",
              "version_minor": 0,
              "version_major": 2
            },
            "text/plain": [
              "HBox(children=(FloatProgress(value=1.0, bar_style='info', description='Validating', layout=Layout(flex='2'), m…"
            ]
          },
          "metadata": {
            "tags": []
          }
        },
        {
          "output_type": "stream",
          "text": [
            "Epoch 9, step 219: val_f1 was not in top 1\n"
          ],
          "name": "stderr"
        },
        {
          "output_type": "display_data",
          "data": {
            "application/vnd.jupyter.widget-view+json": {
              "model_id": "3d33ca2193f2411197f2365192fc31af",
              "version_minor": 0,
              "version_major": 2
            },
            "text/plain": [
              "HBox(children=(FloatProgress(value=1.0, bar_style='info', description='Validating', layout=Layout(flex='2'), m…"
            ]
          },
          "metadata": {
            "tags": []
          }
        },
        {
          "output_type": "stream",
          "text": [
            "Epoch 10, step 241: val_f1 was not in top 1\n"
          ],
          "name": "stderr"
        },
        {
          "output_type": "display_data",
          "data": {
            "application/vnd.jupyter.widget-view+json": {
              "model_id": "fdea29ec213040baa618719517b5daad",
              "version_minor": 0,
              "version_major": 2
            },
            "text/plain": [
              "HBox(children=(FloatProgress(value=1.0, bar_style='info', description='Validating', layout=Layout(flex='2'), m…"
            ]
          },
          "metadata": {
            "tags": []
          }
        },
        {
          "output_type": "stream",
          "text": [
            "Epoch 11, step 263: val_f1 was not in top 1\n"
          ],
          "name": "stderr"
        },
        {
          "output_type": "display_data",
          "data": {
            "application/vnd.jupyter.widget-view+json": {
              "model_id": "1a3ac0ffb6c047648a697bc98040f424",
              "version_minor": 0,
              "version_major": 2
            },
            "text/plain": [
              "HBox(children=(FloatProgress(value=1.0, bar_style='info', description='Validating', layout=Layout(flex='2'), m…"
            ]
          },
          "metadata": {
            "tags": []
          }
        },
        {
          "output_type": "stream",
          "text": [
            "Epoch 12, step 285: val_f1 was not in top 1\n"
          ],
          "name": "stderr"
        },
        {
          "output_type": "display_data",
          "data": {
            "application/vnd.jupyter.widget-view+json": {
              "model_id": "36142bf0408347febfbf047319e25c94",
              "version_minor": 0,
              "version_major": 2
            },
            "text/plain": [
              "HBox(children=(FloatProgress(value=1.0, bar_style='info', description='Validating', layout=Layout(flex='2'), m…"
            ]
          },
          "metadata": {
            "tags": []
          }
        },
        {
          "output_type": "stream",
          "text": [
            "Epoch 13, step 307: val_f1 was not in top 1\n"
          ],
          "name": "stderr"
        },
        {
          "output_type": "display_data",
          "data": {
            "application/vnd.jupyter.widget-view+json": {
              "model_id": "766ff7af85bb45b49edd35b73f5ffcb5",
              "version_minor": 0,
              "version_major": 2
            },
            "text/plain": [
              "HBox(children=(FloatProgress(value=1.0, bar_style='info', description='Validating', layout=Layout(flex='2'), m…"
            ]
          },
          "metadata": {
            "tags": []
          }
        },
        {
          "output_type": "stream",
          "text": [
            "Epoch 14, step 329: val_f1 was not in top 1\n"
          ],
          "name": "stderr"
        },
        {
          "output_type": "display_data",
          "data": {
            "application/vnd.jupyter.widget-view+json": {
              "model_id": "48a2dc2f6c594870bb71a77531714911",
              "version_minor": 0,
              "version_major": 2
            },
            "text/plain": [
              "HBox(children=(FloatProgress(value=1.0, bar_style='info', description='Validating', layout=Layout(flex='2'), m…"
            ]
          },
          "metadata": {
            "tags": []
          }
        },
        {
          "output_type": "stream",
          "text": [
            "Epoch 15, step 351: val_f1 was not in top 1\n"
          ],
          "name": "stderr"
        },
        {
          "output_type": "stream",
          "text": [
            "\n"
          ],
          "name": "stdout"
        },
        {
          "output_type": "execute_result",
          "data": {
            "text/plain": [
              "1"
            ]
          },
          "metadata": {
            "tags": []
          },
          "execution_count": 37
        }
      ]
    },
    {
      "cell_type": "markdown",
      "metadata": {
        "id": "exq7JAhaJicG"
      },
      "source": [
        "## Teste - Avaliação do classificador \n"
      ]
    },
    {
      "cell_type": "code",
      "metadata": {
        "id": "ztVKKsDfUb2l"
      },
      "source": [
        "from sklearn import metrics"
      ],
      "execution_count": null,
      "outputs": []
    },
    {
      "cell_type": "code",
      "metadata": {
        "id": "a4AwFetiTN_U",
        "colab": {
          "base_uri": "https://localhost:8080/"
        },
        "outputId": "f98e39cd-c0ef-4193-d960-dc9d71625a68"
      },
      "source": [
        "best_model = checkpoint_callback.best_model_path\n",
        "# best_model = '/content/drive/MyDrive/aula11_checkpoints_AP/roberta_large_pretrain_imbd_test6-epoch=06-val_f1=0.94.ckpt'\n",
        "print(best_model)\n",
        "test_model = robertaNetClassifier.load_from_checkpoint(best_model, hparams=hparams).cuda().eval()"
      ],
      "execution_count": null,
      "outputs": [
        {
          "output_type": "stream",
          "text": [
            "/content/drive/MyDrive/aula11_checkpoints_AP/roberta_large_pretrain_imbd_test8-epoch=05-val_f1=0.95.ckpt\n"
          ],
          "name": "stdout"
        },
        {
          "output_type": "stream",
          "text": [
            "re-registering head \"imdb_head\" with num_classes 2 (prev: 2) and inner_dim None (prev: 1024)\n"
          ],
          "name": "stderr"
        }
      ]
    },
    {
      "cell_type": "code",
      "metadata": {
        "id": "dYvUKcBWTPRX",
        "colab": {
          "base_uri": "https://localhost:8080/",
          "height": 344,
          "referenced_widgets": [
            "e18ca24fa25b4af0b778d13cfb109f6e",
            "ae1a9d7c62c141179a4820ae00fd1267",
            "9ad1486ab7354c30876b523235dec52f",
            "d5fd56944aa4456c94c641cb9f315e72",
            "e0873959d9844ed89d88f64c8cca3287",
            "0515e1b20cb94991976e4622905f8b3c",
            "8af2140734484a3eb817f694489aa1a8",
            "87767ca21dd74ddbb386ad8749fa866f"
          ]
        },
        "outputId": "803612e3-0a3a-4eca-ec8e-82727982fb3b"
      },
      "source": [
        "trainer.test(test_model, test_dataloader)"
      ],
      "execution_count": null,
      "outputs": [
        {
          "output_type": "stream",
          "text": [
            "LOCAL_RANK: 0 - CUDA_VISIBLE_DEVICES: [0]\n"
          ],
          "name": "stderr"
        },
        {
          "output_type": "display_data",
          "data": {
            "application/vnd.jupyter.widget-view+json": {
              "model_id": "e18ca24fa25b4af0b778d13cfb109f6e",
              "version_minor": 0,
              "version_major": 2
            },
            "text/plain": [
              "HBox(children=(FloatProgress(value=1.0, bar_style='info', description='Testing', layout=Layout(flex='2'), max=…"
            ]
          },
          "metadata": {
            "tags": []
          }
        },
        {
          "output_type": "stream",
          "text": [
            "\n",
            "--------------------------------------------------------------------------------\n",
            "DATALOADER:0 TEST RESULTS\n",
            "{'test_acc': 0.9449999928474426,\n",
            " 'test_acc_step': 0.9449999928474426,\n",
            " 'test_f1': 0.9379047155380249,\n",
            " 'test_f1_step': 0.9379047155380249,\n",
            " 'test_loss': 0.7352401614189148,\n",
            " 'test_loss_step': 0.73524010181427}\n",
            "--------------------------------------------------------------------------------\n"
          ],
          "name": "stdout"
        },
        {
          "output_type": "execute_result",
          "data": {
            "text/plain": [
              "[{'test_acc': 0.9449999928474426,\n",
              "  'test_acc_step': 0.9449999928474426,\n",
              "  'test_f1': 0.9379047155380249,\n",
              "  'test_f1_step': 0.9379047155380249,\n",
              "  'test_loss': 0.7352401614189148,\n",
              "  'test_loss_step': 0.73524010181427}]"
            ]
          },
          "metadata": {
            "tags": []
          },
          "execution_count": 40
        }
      ]
    },
    {
      "cell_type": "code",
      "metadata": {
        "id": "P9w-QkqsUS7Q"
      },
      "source": [
        "y_true = list()\n",
        "y_pred = list()\n",
        "\n",
        "for i, batch in enumerate(test_dataloader):\n",
        "  x, y = batch\n",
        "  with torch.no_grad():\n",
        "    logprobs = test_model.predict_step(batch, i)\n",
        "  preds = logprobs.argmax(dim=1)   \n",
        "  \n",
        "  y_true.append(y.cpu().numpy())\n",
        "  y_pred.append(preds.cpu().numpy())\n",
        "\n",
        "y_true = np.concatenate(y_true)\n",
        "y_pred = np.concatenate(y_pred)"
      ],
      "execution_count": null,
      "outputs": []
    },
    {
      "cell_type": "code",
      "metadata": {
        "id": "UfjTbJPEU9S5",
        "colab": {
          "base_uri": "https://localhost:8080/"
        },
        "outputId": "1216f564-ad6d-4fcb-86e1-b6a959588fe1"
      },
      "source": [
        "# f1 score (hard-majority vote)\n",
        "print('f1:', metrics.f1_score(y_true, y_pred, average='weighted'))\n",
        "\n",
        "# accuracy\n",
        "print('acc:', metrics.accuracy_score(y_true, y_pred))\n",
        "\n",
        "# balanced accuracy\n",
        "print('balanced acc:', metrics.balanced_accuracy_score(y_true, y_pred))"
      ],
      "execution_count": null,
      "outputs": [
        {
          "output_type": "stream",
          "text": [
            "f1: 0.9448681853729913\n",
            "acc: 0.945\n",
            "balanced acc: 0.9429705557230429\n"
          ],
          "name": "stdout"
        }
      ]
    },
    {
      "cell_type": "code",
      "metadata": {
        "id": "7i9PaFSxUuPl",
        "colab": {
          "base_uri": "https://localhost:8080/"
        },
        "outputId": "f7825c0a-4644-41a0-e820-dfb1162b0fd0"
      },
      "source": [
        "print('classification report:', metrics.classification_report(y_true, y_pred))"
      ],
      "execution_count": null,
      "outputs": [
        {
          "output_type": "stream",
          "text": [
            "classification report:               precision    recall  f1-score   support\n",
            "\n",
            "           0       0.93      0.97      0.95       107\n",
            "           1       0.97      0.91      0.94        93\n",
            "\n",
            "    accuracy                           0.94       200\n",
            "   macro avg       0.95      0.94      0.94       200\n",
            "weighted avg       0.95      0.94      0.94       200\n",
            "\n"
          ],
          "name": "stdout"
        }
      ]
    },
    {
      "cell_type": "markdown",
      "metadata": {
        "id": "WB_QtlYYDE1V"
      },
      "source": [
        "# Considerações finais"
      ]
    },
    {
      "cell_type": "markdown",
      "metadata": {
        "id": "mHLeWc4MDIVz"
      },
      "source": [
        " \n",
        "1. Usando RoBERTa (large) do fairseq e dataset reduzido (800, 200);\n",
        "2. Foram feitos testes com o modelo base e large;\n",
        "3. Achei interessante o tokenizer do RoBERTa que usa o bpe (Byte-level BPE) que é obtido pelo GPT-2;\n",
        "4. O modelo large teve um aumento subindo de 91% para 94.5%;\n",
        "5. O uso do warm-up foi observado com sendo bastante eficiente.\n",
        "\n",
        "\n",
        "\n"
      ]
    }
  ]
}