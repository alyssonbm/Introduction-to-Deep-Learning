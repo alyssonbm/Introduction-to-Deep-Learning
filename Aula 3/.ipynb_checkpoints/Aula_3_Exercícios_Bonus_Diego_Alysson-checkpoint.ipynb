{
 "cells": [
  {
   "cell_type": "code",
   "execution_count": 3,
   "metadata": {
    "id": "9xmGjY02gA1v"
   },
   "outputs": [],
   "source": [
    "import numpy as np\n",
    "import matplotlib.pyplot as plt\n",
    "import random\n",
    "from sklearn.datasets import load_iris\n",
    "np.random.seed(1)"
   ]
  },
  {
   "cell_type": "code",
   "execution_count": 4,
   "metadata": {
    "colab": {
     "base_uri": "https://localhost:8080/"
    },
    "id": "xNe7lIiyiEEa",
    "outputId": "2d62c0a4-aaca-4ff5-cd8e-382a4e8df190"
   },
   "outputs": [
    {
     "name": "stdout",
     "output_type": "stream",
     "text": [
      "x_train.shape: (50, 1) float64\n",
      "y_train.shape: (50, 1) float64\n",
      "x_train[:5]:\n",
      " [[7. ]\n",
      " [6.4]\n",
      " [6.9]\n",
      " [5.5]\n",
      " [6.5]]\n",
      "y_train[:5]:\n",
      " [[4.7]\n",
      " [4.5]\n",
      " [4.9]\n",
      " [4. ]\n",
      " [4.6]]\n",
      "x_train_bias shape:  (50, 2)\n"
     ]
    }
   ],
   "source": [
    "iris = load_iris()\n",
    "data = iris.data[iris.target==1,::2]  # comprimento das sépalas e pétalas, indices 0 e 2\n",
    "\n",
    "x_train = np.array(data[:,0:1])\n",
    "y_train = np.array(data[:,1:2])\n",
    "\n",
    "n_samples = x_train.shape[0]\n",
    "print('x_train.shape:',x_train.shape, x_train.dtype)\n",
    "print('y_train.shape:',y_train.shape, y_train.dtype)\n",
    "\n",
    "print('x_train[:5]:\\n', x_train[:5])\n",
    "print('y_train[:5]:\\n', y_train[:5])\n",
    "\n",
    "xt_min = x_train.min()\n",
    "xt_max = x_train.max()\n",
    "x_train_n = (x_train - xt_min)/(xt_max - xt_min)\n",
    "\n",
    "yt_min = y_train.min()\n",
    "yt_max = y_train.max()\n",
    "y_train_n = (y_train - yt_min)/(yt_max - yt_min)\n",
    "\n",
    "x_train_bias = np.concatenate([np.ones((n_samples,1)), x_train_n])\n",
    "x_train_bias = x_train_bias.reshape((50,2),order='F')\n",
    "print('x_train_bias shape: ', x_train_bias.shape)"
   ]
  },
  {
   "cell_type": "code",
   "execution_count": 5,
   "metadata": {
    "id": "pPCt4WCUgwpV"
   },
   "outputs": [],
   "source": [
    "import numpy as np\n",
    "import matplotlib.pyplot as plt\n",
    "import torch\n",
    "np.random.seed(1)\n",
    "\n",
    "\n",
    "class SigmoidLayer():\n",
    "\n",
    "  def forward(self, x):\n",
    "    self.sigfor = 1/(1+np.exp(-x))\n",
    "    return np.mean(self.sigfor, axis=1)\n",
    "\n",
    "  def backward(self, upstream_grad):\n",
    "    #https://math.stackexchange.com/questions/2323370/derivative-of-sigmoid-assuming-input-is-a-matrix\n",
    "    return upstream_grad * self.sigfor * (1- self.sigfor)"
   ]
  },
  {
   "cell_type": "code",
   "execution_count": 6,
   "metadata": {
    "id": "b2llvqmlg5lu"
   },
   "outputs": [],
   "source": [
    "class SumLayer():\n",
    "\n",
    "  def forward(self, x, y):\n",
    "    z = x + y\n",
    "    return z\n",
    "  \n",
    "  def backward(self, upstream_grad):\n",
    "    return upstream_grad,upstream_grad"
   ]
  },
  {
   "cell_type": "code",
   "execution_count": 7,
   "metadata": {
    "id": "Xsg20w7Xg7NM"
   },
   "outputs": [],
   "source": [
    "class MulLayer():\n",
    "\n",
    "  def forward(self, x, y):\n",
    "    y = y.reshape((model.dim,-1))\n",
    "    model.mulStack.append([x,y])\n",
    "    x = x.reshape(-1,1)\n",
    "    z = x.dot(y.T)\n",
    "    return z\n",
    "  \n",
    "  def backward(self, upstream_grad):\n",
    "    x,y = model.mulStack.pop()\n",
    "    x_d = upstream_grad.T.dot(x)\n",
    "    y_d = upstream_grad.dot(y)\n",
    "    return y_d, x_d "
   ]
  },
  {
   "cell_type": "code",
   "execution_count": 8,
   "metadata": {
    "id": "Q3Oyu9_OhEXO"
   },
   "outputs": [],
   "source": [
    "def compute_grad_loss(y_target, y_pred):\n",
    "  # Escreva o código aqui:\n",
    "  # loss = (y_pred - y_target) ** 2\n",
    "  # derivada da loss em relação y_pred\n",
    "  return 2*(y_pred - y_target)"
   ]
  },
  {
   "cell_type": "code",
   "execution_count": 9,
   "metadata": {
    "id": "xHXJZXlAlWU4"
   },
   "outputs": [],
   "source": [
    "class Net():\n",
    "\n",
    "  def __init__(self, dim):\n",
    "    # Escreva o código aqui:\n",
    "    self.dim = dim\n",
    "    self.w1 = np.random.rand(dim,1)\n",
    "    self.b1 = np.random.rand(x_train_n.shape[0],dim)\n",
    "    self.w2 = np.random.rand(dim,1)\n",
    "    self.b2 = np.random.rand(x_train_n.shape[0],dim)\n",
    "    self.Mul = MulLayer()\n",
    "    self.Sum = SumLayer()\n",
    "    self.Sig = SigmoidLayer()\n",
    "    self.mulStack = []\n",
    "\n",
    "  def forward(self, x):\n",
    "    # Escreva o código aqui:\n",
    "    dot = self.Mul.forward(x,self.w1)\n",
    "    sum = self.Sum.forward(dot, self.b1)\n",
    "    sig = self.Sig.forward(sum)\n",
    "    dot = self.Mul.forward(sig,self.w2)\n",
    "    sum = self.Sum.forward(dot, self.b2)\n",
    "    sig = self.Sig.forward(sum)\n",
    "    sig = sig.reshape(-1,1)\n",
    "    return sig\n",
    "\n",
    "  def backward(self, upstream_grad):\n",
    "    # Escreva o código aqui:\n",
    "    dsig = self.Sig.backward(upstream_grad)\n",
    "    dsum, db1 = self.Sum.backward(dsig)\n",
    "    dx, dw1 = self.Mul.backward(dsum)\n",
    "    dsig = self.Sig.backward(dx)\n",
    "    dsum, db2 = self.Sum.backward(dsig)\n",
    "    dx, dw2 = self.Mul.backward(dsum)\n",
    "    dw1 = dw1.reshape(-1,1)\n",
    "    return dw1,db1,dw2,db2"
   ]
  },
  {
   "cell_type": "code",
   "execution_count": 10,
   "metadata": {},
   "outputs": [],
   "source": [
    "def MSELoss(pred, true,axis=1):\n",
    "  return ((pred - true)**2).mean(axis=axis)"
   ]
  },
  {
   "cell_type": "code",
   "execution_count": 11,
   "metadata": {
    "colab": {
     "base_uri": "https://localhost:8080/",
     "height": 282
    },
    "id": "rzqU5u6MhJNF",
    "outputId": "a27a0623-ae1e-4db7-9896-cdb6441072db"
   },
   "outputs": [
    {
     "data": {
      "text/plain": [
       "[<matplotlib.lines.Line2D at 0x7efc9bb5e070>]"
      ]
     },
     "execution_count": 11,
     "metadata": {},
     "output_type": "execute_result"
    },
    {
     "data": {
      "image/png": "[encoded data removed]",
      "text/plain": [
       "<Figure size 432x288 with 1 Axes>"
      ]
     },
     "metadata": {
      "needs_background": "light"
     },
     "output_type": "display_data"
    }
   ],
   "source": [
    "model = Net(dim=2)\n",
    "learning_rate = 0.1\n",
    "# x = -5\n",
    "# y_target = 0.76\n",
    "num_iterations = 100\n",
    "\n",
    "losses = []\n",
    "w_history = []\n",
    "out_history = []\n",
    "\n",
    "for i in range(num_iterations):\n",
    "  inputs = x_train_n\n",
    "  target = y_train_n\n",
    "  # Rode a um passo forward do modelo.\n",
    "  y_pred = model.forward(inputs)\n",
    "  #Calculo da loss para gráfico\n",
    "  loss = np.square(y_pred - target).mean()\n",
    "  losses.append(loss)\n",
    "  # Calcule o gradiente do erro, data a predição do modelo.\n",
    "  loss_grad = compute_grad_loss(y_target=target, y_pred=y_pred)\n",
    "  # Calcule agora os gradientes de w e b usando a função backward do modelo.\n",
    "  w_grad1, b_grad1, w_grad2, b_grad2 = model.backward(loss_grad)\n",
    "  # Atualize os pesos w e b usando os seus respectivos gradientes.\n",
    "  # Escreva o código aqui:\n",
    "  model.w1 = model.w1 - learning_rate*w_grad1\n",
    "  model.w2 = model.w2 - learning_rate*w_grad2\n",
    "  model.b1 = model.b1 - learning_rate*b_grad1\n",
    "  model.b2 = model.b2 - learning_rate*b_grad2\n",
    "  \n",
    "  w_history.append((model.w1[0],model.w1[1]))\n",
    "  out_history.append(y_pred)\n",
    "\n",
    "  # print(f'iter:{i}: y_prime: {y_pred}')\n",
    "  # print(loss)\n",
    "\n",
    "plt.plot(losses)"
   ]
  },
  {
   "cell_type": "code",
   "execution_count": 12,
   "metadata": {
    "id": "RdWVEmYZvRM7"
   },
   "outputs": [],
   "source": [
    "x = torch.from_numpy(x_train_bias)\n",
    "y = torch.from_numpy(y_train_n)\n",
    "w_opt = torch.matmul(torch.matmul(torch.inverse(torch.matmul(x.T,x)),x.T),y) # w_opt = (torch.inverse(x_bias_t.mm(x_bias)).mm(x_bias_t)).mm(y)\n",
    "nb_of_ws = 100 # Verifica a loss nb_of_ws vezes em cada dimensão\n",
    "wsa = np.linspace(-5, 5, num=nb_of_ws)  \n",
    "wsb = np.linspace(-5, 5, num=nb_of_ws)\n",
    "ws_x, ws_y = np.meshgrid(wsa, wsb)\n",
    "ws_x = torch.Tensor(np.expand_dims(ws_x, axis=-1))\n",
    "ws_y = torch.Tensor(np.expand_dims(ws_y, axis=-1))\n",
    "yp = ws_x + ws_y*x_train_n.reshape(-1) # Calcula w0 e w1 para todos os calores da matriz\n",
    "\n",
    "loss_grid = MSELoss(yp, y_train_n.reshape(-1), axis=-1) # Calcula a loss"
   ]
  },
  {
   "cell_type": "code",
   "execution_count": 13,
   "metadata": {
    "colab": {
     "base_uri": "https://localhost:8080/",
     "height": 393
    },
    "id": "699cn4ee3i9K",
    "outputId": "ca90df08-a0dc-4d5c-91df-35e25330b235"
   },
   "outputs": [
    {
     "data": {
      "image/png": "[encoded data removed]",
      "text/plain": [
       "<Figure size 1440x432 with 4 Axes>"
      ]
     },
     "metadata": {
      "needs_background": "light"
     },
     "output_type": "display_data"
    }
   ],
   "source": [
    "#Estático\n",
    "from matplotlib import cm # Colormaps\n",
    "from mpl_toolkits.axes_grid1 import make_axes_locatable\n",
    "import seaborn as sns  # Fancier plots\n",
    "\n",
    "\n",
    "fig = plt.figure(figsize=(20, 6))\n",
    "\n",
    "# 1º Gráfico:\n",
    "y_opt = w_opt[0,0].item() + x_train_n * w_opt[1,0].item()\n",
    "y_pred = model.forward(x_train_n)\n",
    "\n",
    "ax1 = fig.add_subplot(131)\n",
    "CS1 = plt.scatter(x_train_n.reshape(-1),y_train_n.reshape(-1),color='blue')\n",
    "ax1.plot(x_train_n, y_pred, 'co', label='Fitting Line')\n",
    "ax1.plot(x_train_n, y_opt, 'ko-', label='Fitting Line')\n",
    "ax1.set_xlabel('Sépalas (Nomalizada)', fontsize=12)\n",
    "ax1.set_ylabel('Pétalas (Nomalizada)', fontsize=12)\n",
    "\n",
    "# ----------------------------\n",
    "\n",
    "ax2 = fig.add_subplot(132)\n",
    "ax2.set_aspect('equal')\n",
    "CS2 = plt.contourf(wsa, wsb, loss_grid, 20, cmap=cm.viridis)\n",
    "\n",
    "divider = make_axes_locatable(ax2)\n",
    "cbar = plt.colorbar()\n",
    "cbar.ax.set_ylabel('$loss$', fontsize=12)\n",
    "ax2.plot(w_opt[0,0],w_opt[1,0],'wo')\n",
    "\n",
    "for i in range(len(w_history)):\n",
    "  w_lo = w_history[i]\n",
    "  ax2.plot(w_lo[0],w_lo[1],'co')\n",
    "ax2.set_xlabel('$w_1$', fontsize=12)\n",
    "ax2.set_ylabel('$w_2$', fontsize=12)\n",
    "ax2.set_title('Área da função de Loss')\n",
    "\n",
    "\n",
    "ax3 = fig.add_subplot(133)\n",
    "CS3 = sns.lineplot(data=losses,color='skyblue')\n",
    "ax3.set_xlabel('Época', fontsize=12)\n",
    "ax3.set_ylabel('loss', fontsize=12)\n",
    "\n",
    "divider = make_axes_locatable(ax3)\n"
   ]
  },
  {
   "cell_type": "code",
   "execution_count": 14,
   "metadata": {
    "id": "RO5FpqkP5nWZ"
   },
   "outputs": [
    {
     "name": "stdout",
     "output_type": "stream",
     "text": [
      "Defaulting to user installation because normal site-packages is not writeable\n",
      "Requirement already satisfied: celluloid in /home/Diego/.local/lib/python3.9/site-packages (0.2.0)\n",
      "Requirement already satisfied: matplotlib in /home/Diego/.local/lib/python3.9/site-packages (from celluloid) (3.4.0)\n",
      "Requirement already satisfied: numpy>=1.16 in /home/Diego/.local/lib/python3.9/site-packages (from matplotlib->celluloid) (1.20.2)\n",
      "Requirement already satisfied: pillow>=6.2.0 in /usr/lib64/python3.9/site-packages (from matplotlib->celluloid) (7.2.0)\n",
      "Requirement already satisfied: cycler>=0.10 in /home/Diego/.local/lib/python3.9/site-packages (from matplotlib->celluloid) (0.10.0)\n",
      "Requirement already satisfied: pyparsing>=2.2.1 in /home/Diego/.local/lib/python3.9/site-packages (from matplotlib->celluloid) (2.4.7)\n",
      "Requirement already satisfied: python-dateutil>=2.7 in /usr/lib/python3.9/site-packages (from matplotlib->celluloid) (2.8.1)\n",
      "Requirement already satisfied: kiwisolver>=1.0.1 in /home/Diego/.local/lib/python3.9/site-packages (from matplotlib->celluloid) (1.3.1)\n",
      "Requirement already satisfied: six in /usr/lib/python3.9/site-packages (from cycler>=0.10->matplotlib->celluloid) (1.15.0)\n"
     ]
    }
   ],
   "source": [
    "!pip install celluloid"
   ]
  },
  {
   "cell_type": "code",
   "execution_count": null,
   "metadata": {
    "colab": {
     "base_uri": "https://localhost:8080/",
     "height": 441
    },
    "id": "EK7HdyRi5frO",
    "outputId": "697c5892-9e91-492d-ddb3-e63407c03ffa"
   },
   "outputs": [],
   "source": [
    "from celluloid import Camera\n",
    "\n",
    "fig = plt.figure(figsize=(16, 6))\n",
    "camera = Camera(fig)\n",
    "\n",
    "ax1 = fig.add_subplot(131)\n",
    "ax2 = fig.add_subplot(132)\n",
    "ax3 = fig.add_subplot(133)\n",
    "\n",
    "y_opt = w_opt[0,0].item() + x_train_n * w_opt[1,0].item()\n",
    "\n",
    "w_animation_part = []\n",
    "for i in range(num_iterations):\n",
    "\n",
    "  # 1º Graphic\n",
    "  # y_pred = model(x_train_bias)\n",
    "\n",
    "  ax1.scatter(x_train_n.reshape(-1),y_train_n.reshape(-1),color='blue')\n",
    "\n",
    "  ax1.plot(x_train_n, out_history[i], 'co', label='Fitting Line')\n",
    "\n",
    "  ax1.plot(x_train_n, y_opt, 'ko-', label='Fitting Line')\n",
    "  ax1.set_xlabel('Sépalas (Nomalizada)', fontsize=12)\n",
    "  ax1.set_ylabel('Pétalas (Nomalizada)', fontsize=12)\n",
    "\n",
    "  # 2º Graphic\n",
    "  CS2 = ax2.contourf(wsa, wsb, loss_grid, 20, cmap=cm.viridis) #plot da área\n",
    "  ax2.plot(w_opt[0,0],w_opt[1,0],'wo')  # plot ponto ideal\n",
    "  ax2.set_aspect('equal')\n",
    "  w_lo = w_history[i]\n",
    "\n",
    "  w_animation_part.append(w_lo)\n",
    "  for j in range(len(w_animation_part)):\n",
    "    ax2.plot(w_animation_part[j][0],w_animation_part[j][1],'co')\n",
    "  ax2.set_xlabel('$w_1$', fontsize=12)\n",
    "  ax2.set_ylabel('$w_2$', fontsize=12)\n",
    "  ax2.set_title('Área da função de Loss')\n",
    "\n",
    "  # 3º Graphic\n",
    "  ax3 = sns.lineplot(data=losses[:i],color='skyblue')\n",
    "  ax3.set_xlabel('Época', fontsize=12)\n",
    "  ax3.set_ylabel('loss', fontsize=12)\n",
    "\n",
    "  plt.tight_layout()\n",
    "  camera.snap()"
   ]
  },
  {
   "cell_type": "code",
   "execution_count": null,
   "metadata": {
    "id": "_TwGl3hK553q"
   },
   "outputs": [],
   "source": [
    "animation = camera.animate()"
   ]
  },
  {
   "cell_type": "code",
   "execution_count": null,
   "metadata": {
    "colab": {
     "base_uri": "https://localhost:8080/",
     "height": 453
    },
    "id": "xclx3YjM57er",
    "outputId": "c9953834-04e0-412b-e3e9-621a6e5bf443"
   },
   "outputs": [],
   "source": [
    "from IPython.display import HTML\n",
    "HTML(animation.to_html5_video())"
   ]
  },
  {
   "cell_type": "code",
   "execution_count": null,
   "metadata": {},
   "outputs": [],
   "source": []
  }
 ],
 "metadata": {
  "colab": {
   "collapsed_sections": [],
   "name": "Aula_3_Exercícios_Bonus - Diego Alysson.ipynb",
   "provenance": []
  },
  "kernelspec": {
   "display_name": "Python 3",
   "language": "python",
   "name": "python3"
  },
  "language_info": {
   "codemirror_mode": {
    "name": "ipython",
    "version": 3
   },
   "file_extension": ".py",
   "mimetype": "text/x-python",
   "name": "python",
   "nbconvert_exporter": "python",
   "pygments_lexer": "ipython3",
   "version": "3.9.2"
  }
 },
 "nbformat": 4,
 "nbformat_minor": 1
}
