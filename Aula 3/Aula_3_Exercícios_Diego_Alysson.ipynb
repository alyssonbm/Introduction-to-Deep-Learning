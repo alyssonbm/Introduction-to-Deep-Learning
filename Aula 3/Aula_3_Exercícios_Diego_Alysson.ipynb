{
  "nbformat": 4,
  "nbformat_minor": 0,
  "metadata": {
    "colab": {
      "name": "Aula_3_Exercícios - Diego Alysson.ipynb",
      "provenance": [],
      "collapsed_sections": []
    },
    "kernelspec": {
      "display_name": "Python 3",
      "language": "python",
      "name": "python3"
    },
    "language_info": {
      "codemirror_mode": {
        "name": "ipython",
        "version": 3
      },
      "file_extension": ".py",
      "mimetype": "text/x-python",
      "name": "python",
      "nbconvert_exporter": "python",
      "pygments_lexer": "ipython3",
      "version": "3.6.5"
    },
    "toc": {
      "base_numbering": 1,
      "nav_menu": {
        "height": "117px",
        "width": "252px"
      },
      "number_sections": true,
      "sideBar": true,
      "skip_h1_title": false,
      "title_cell": "Table of Contents",
      "title_sidebar": "Contents",
      "toc_cell": false,
      "toc_position": {},
      "toc_section_display": "block",
      "toc_window_display": false
    },
    "varInspector": {
      "cols": {
        "lenName": 16,
        "lenType": 16,
        "lenVar": 40
      },
      "kernels_config": {
        "python": {
          "delete_cmd_postfix": "",
          "delete_cmd_prefix": "del ",
          "library": "var_list.py",
          "varRefreshCmd": "print(var_dic_list())"
        },
        "r": {
          "delete_cmd_postfix": ") ",
          "delete_cmd_prefix": "rm(",
          "library": "var_list.r",
          "varRefreshCmd": "cat(var_dic_list()) "
        }
      },
      "types_to_exclude": [
        "module",
        "function",
        "builtin_function_or_method",
        "instance",
        "_Feature"
      ],
      "window_display": false
    }
  },
  "cells": [
    {
      "cell_type": "markdown",
      "metadata": {
        "id": "zK-o03OW4rWq"
      },
      "source": [
        "### Escreva aqui seu nome: Diego Alysson Braga Moreira"
      ]
    },
    {
      "cell_type": "markdown",
      "metadata": {
        "id": "B5_ZRWRfCZtI"
      },
      "source": [
        "# PyTorch: Gradientes e Grafo Computacional"
      ]
    },
    {
      "cell_type": "markdown",
      "metadata": {
        "id": "mQcJKilSCZtO"
      },
      "source": [
        "## Objetivos"
      ]
    },
    {
      "cell_type": "markdown",
      "metadata": {
        "id": "OFWv6Mi-CZtQ"
      },
      "source": [
        "Este notebook introduz \n",
        "- o conceito de autograd do PyTorch,\n",
        "- uma interpretação numérica intuitiva do gradiente, e o\n",
        "- grafo computacional, utilizado para o cálculo automático do gradiente de uma função."
      ]
    },
    {
      "cell_type": "markdown",
      "metadata": {
        "id": "BIlQdKAuCZtR"
      },
      "source": [
        "Um dos principais fundamentos para que o PyTorch seja adequado para deep learning é a sua habilidade de\n",
        "calcular o gradiente automaticamente a partir da expressões definidas. Essa facilidade é implementada\n",
        "pelo tensor através do cálculo automático do gradiente pela construção dinâmica do grafo computacional."
      ]
    },
    {
      "cell_type": "markdown",
      "metadata": {
        "id": "ZF_-dJ2nCZtT"
      },
      "source": [
        "## Grafo computacional"
      ]
    },
    {
      "cell_type": "markdown",
      "metadata": {
        "id": "jboejVQMCZtU"
      },
      "source": [
        "```\n",
        "    y_pred = x * w\n",
        "    e = y_pred - y\n",
        "    e2 = e**2\n",
        "    J = e2.sum()\n",
        "```"
      ]
    },
    {
      "cell_type": "markdown",
      "metadata": {
        "id": "KeeEBKl4CZtV"
      },
      "source": [
        "<img src=\"https://raw.githubusercontent.com/robertoalotufo/files/master/figures/GrafoComputacional.png\" width=\"600pt\"/>"
      ]
    },
    {
      "cell_type": "markdown",
      "metadata": {
        "id": "8yZun7wrCZtX"
      },
      "source": [
        "Para conhecer com maior profundidade a diferenciação automática usando grafo computacional, veja esta nota de aula:\n",
        "https://cs231n.github.io/optimization-2/"
      ]
    },
    {
      "cell_type": "code",
      "metadata": {
        "ExecuteTime": {
          "end_time": "2019-12-11T00:23:00.431853Z",
          "start_time": "2019-12-11T00:23:00.414813Z"
        },
        "id": "HlT2d-4fCZtZ"
      },
      "source": [
        "import torch\n",
        "import random"
      ],
      "execution_count": null,
      "outputs": []
    },
    {
      "cell_type": "code",
      "metadata": {
        "ExecuteTime": {
          "end_time": "2019-12-11T00:23:00.863228Z",
          "start_time": "2019-12-11T00:23:00.844457Z"
        },
        "colab": {
          "base_uri": "https://localhost:8080/",
          "height": 36
        },
        "id": "xX0QwUduCZtf",
        "outputId": "3d32b568-7b0d-40ee-9ca1-3232c17623e2"
      },
      "source": [
        "torch.__version__"
      ],
      "execution_count": null,
      "outputs": [
        {
          "output_type": "execute_result",
          "data": {
            "application/vnd.google.colaboratory.intrinsic+json": {
              "type": "string"
            },
            "text/plain": [
              "'1.8.1+cu101'"
            ]
          },
          "metadata": {
            "tags": []
          },
          "execution_count": 46
        }
      ]
    },
    {
      "cell_type": "markdown",
      "metadata": {
        "id": "vsqzALS4CZtl"
      },
      "source": [
        "## Se um tensor possui .requires_grad=True"
      ]
    },
    {
      "cell_type": "code",
      "metadata": {
        "ExecuteTime": {
          "end_time": "2019-09-29T03:07:22.117010Z",
          "start_time": "2019-09-29T03:07:22.041861Z"
        },
        "colab": {
          "base_uri": "https://localhost:8080/"
        },
        "id": "foaAb94aCZtm",
        "outputId": "0a2853cb-062a-4d94-ae86-b745a3618912"
      },
      "source": [
        "y = 2 * torch.arange(0,4).float()\n",
        "y"
      ],
      "execution_count": null,
      "outputs": [
        {
          "output_type": "execute_result",
          "data": {
            "text/plain": [
              "tensor([0., 2., 4., 6.])"
            ]
          },
          "metadata": {
            "tags": []
          },
          "execution_count": 47
        }
      ]
    },
    {
      "cell_type": "code",
      "metadata": {
        "ExecuteTime": {
          "end_time": "2019-09-29T03:07:28.610934Z",
          "start_time": "2019-09-29T03:07:28.598223Z"
        },
        "colab": {
          "base_uri": "https://localhost:8080/"
        },
        "id": "no6SdSyICZtr",
        "outputId": "bdda02f6-58ed-4d6e-d557-6d3523672cab"
      },
      "source": [
        "x = torch.arange(0,4).float(); x"
      ],
      "execution_count": null,
      "outputs": [
        {
          "output_type": "execute_result",
          "data": {
            "text/plain": [
              "tensor([0., 1., 2., 3.])"
            ]
          },
          "metadata": {
            "tags": []
          },
          "execution_count": 48
        }
      ]
    },
    {
      "cell_type": "code",
      "metadata": {
        "ExecuteTime": {
          "end_time": "2019-09-29T03:07:31.523762Z",
          "start_time": "2019-09-29T03:07:31.497683Z"
        },
        "colab": {
          "base_uri": "https://localhost:8080/"
        },
        "id": "eL_i1mwGCZtw",
        "outputId": "0c401a46-3529-442e-c1d4-f66fa68f4961"
      },
      "source": [
        "w = torch.ones(1,requires_grad=True); w"
      ],
      "execution_count": null,
      "outputs": [
        {
          "output_type": "execute_result",
          "data": {
            "text/plain": [
              "tensor([1.], requires_grad=True)"
            ]
          },
          "metadata": {
            "tags": []
          },
          "execution_count": 49
        }
      ]
    },
    {
      "cell_type": "markdown",
      "metadata": {
        "id": "qjEl-0l7CZt0"
      },
      "source": [
        "## Cálculo automático do gradiente da função perda J"
      ]
    },
    {
      "cell_type": "markdown",
      "metadata": {
        "id": "8pUh-SCnCZt1"
      },
      "source": [
        "Seja a expressão: $$ J = \\sum ((x  w) - y)^2 $$\n",
        "\n",
        "Queremos calcular a derivada de $J$ em relação a $w$."
      ]
    },
    {
      "cell_type": "markdown",
      "metadata": {
        "id": "eMwwVtJ1CZt2"
      },
      "source": [
        "### Montagem do grafo computacional"
      ]
    },
    {
      "cell_type": "code",
      "metadata": {
        "ExecuteTime": {
          "end_time": "2019-09-29T03:07:36.290122Z",
          "start_time": "2019-09-29T03:07:36.273229Z"
        },
        "colab": {
          "base_uri": "https://localhost:8080/"
        },
        "id": "zp2aK4YhCZt3",
        "outputId": "6c342926-12d3-4d92-bdf8-ee0b8337a146"
      },
      "source": [
        "# predict (forward)\n",
        "y_pred = x * w\n",
        "\n",
        "# cálculo da perda J: loss\n",
        "e = y_pred - y\n",
        "e2 = e.pow(2)\n",
        "J = e2.sum()\n",
        "J"
      ],
      "execution_count": null,
      "outputs": [
        {
          "output_type": "execute_result",
          "data": {
            "text/plain": [
              "tensor(14., grad_fn=<SumBackward0>)"
            ]
          },
          "metadata": {
            "tags": []
          },
          "execution_count": 50
        }
      ]
    },
    {
      "cell_type": "markdown",
      "metadata": {
        "id": "XC96wB7PCZt8"
      },
      "source": [
        "## Auto grad - processa o grafo computacional backwards"
      ]
    },
    {
      "cell_type": "markdown",
      "metadata": {
        "ExecuteTime": {
          "end_time": "2017-10-04T15:55:45.308858",
          "start_time": "2017-10-04T15:55:45.304654"
        },
        "id": "kKbf4D0CCZt-"
      },
      "source": [
        "O `backward()` varre o grafo computacional a partir da variável a ele associada e calcula o gradiente para todos os tensores que possuem o atributo `requires_grad` como verdadeiro.\n",
        "O `backward()` destroi o grafo após sua execução. Isso é intrínsico ao PyTorch pelo fato dele ser uma rede dinâmica."
      ]
    },
    {
      "cell_type": "code",
      "metadata": {
        "ExecuteTime": {
          "end_time": "2019-09-29T03:07:40.267334Z",
          "start_time": "2019-09-29T03:07:40.247422Z"
        },
        "colab": {
          "base_uri": "https://localhost:8080/"
        },
        "id": "Z1lnkb0GCZt_",
        "outputId": "e6e0c136-9ed7-4de2-8cfb-fc6a3ca00488"
      },
      "source": [
        "J.backward()\n",
        "print(w.grad)"
      ],
      "execution_count": null,
      "outputs": [
        {
          "output_type": "stream",
          "text": [
            "tensor([-28.])\n"
          ],
          "name": "stdout"
        }
      ]
    },
    {
      "cell_type": "code",
      "metadata": {
        "ExecuteTime": {
          "end_time": "2019-09-29T03:07:42.637508Z",
          "start_time": "2019-09-29T03:07:42.627818Z"
        },
        "id": "NJWgpQbICZuD"
      },
      "source": [
        "# w.grad.data.zero_();"
      ],
      "execution_count": null,
      "outputs": []
    },
    {
      "cell_type": "markdown",
      "metadata": {
        "id": "j-HTDCpBCZuH"
      },
      "source": [
        "## Interpretação do Gradiente"
      ]
    },
    {
      "cell_type": "markdown",
      "metadata": {
        "id": "aQCUPkozCZuI"
      },
      "source": [
        "O gradiente de uma variável final (J) com respeito à outra variável de entrada (w) pode ser interpretado como o quanto a variável final J vai aumentar se houver um pequeno aumento na variável de entrada (w).\n",
        "Por exemplo suponha que o gradiente seja 28. Isto significa se aumentarmos a variável w de 0.001, então J vai aumentar de 0.028."
      ]
    },
    {
      "cell_type": "code",
      "metadata": {
        "ExecuteTime": {
          "end_time": "2019-09-29T03:07:46.287734Z",
          "start_time": "2019-09-29T03:07:46.276014Z"
        },
        "colab": {
          "base_uri": "https://localhost:8080/"
        },
        "id": "VNUws23uCZuK",
        "outputId": "e15e41ac-f097-4a3b-de11-6a16bbf0e2db"
      },
      "source": [
        "eps = 0.001\n",
        "y_pred = x * (w + eps)\n",
        "J_new = (y_pred - y).pow(2).sum()\n",
        "J_new"
      ],
      "execution_count": null,
      "outputs": [
        {
          "output_type": "execute_result",
          "data": {
            "text/plain": [
              "tensor(13.9720, grad_fn=<SumBackward0>)"
            ]
          },
          "metadata": {
            "tags": []
          },
          "execution_count": 53
        }
      ]
    },
    {
      "cell_type": "code",
      "metadata": {
        "ExecuteTime": {
          "end_time": "2019-09-29T03:07:49.279766Z",
          "start_time": "2019-09-29T03:07:49.267111Z"
        },
        "colab": {
          "base_uri": "https://localhost:8080/"
        },
        "id": "iYghg1bnCZuP",
        "outputId": "58dec20d-f697-428d-ea01-102f1ef30997"
      },
      "source": [
        "print(J_new - J)"
      ],
      "execution_count": null,
      "outputs": [
        {
          "output_type": "stream",
          "text": [
            "tensor(-0.0280, grad_fn=<SubBackward0>)\n"
          ],
          "name": "stdout"
        }
      ]
    },
    {
      "cell_type": "markdown",
      "metadata": {
        "id": "Zlm30rdnCZuT"
      },
      "source": [
        "## Backpropagation"
      ]
    },
    {
      "cell_type": "markdown",
      "metadata": {
        "id": "GREsFSQWCZuU"
      },
      "source": [
        "Uma forma equivalente explícita de calcular o gradiente é fazendo o processamento do backpropagation no grafo computacional, de forma explícita.\n",
        "Apenas como ilustração."
      ]
    },
    {
      "cell_type": "code",
      "metadata": {
        "ExecuteTime": {
          "end_time": "2019-09-29T03:07:52.889088Z",
          "start_time": "2019-09-29T03:07:52.861404Z"
        },
        "colab": {
          "base_uri": "https://localhost:8080/"
        },
        "id": "JYmJImp2CZuW",
        "scrolled": false,
        "outputId": "3abfc807-bd33-4a6d-a201-a673a5e2b0a0"
      },
      "source": [
        "import numpy as np\n",
        "\n",
        "dJ = 1.\n",
        "de2 = dJ * np.ones((4,))\n",
        "de = de2 * 2 * e.data.numpy()\n",
        "dy_pred = de\n",
        "dw = (dy_pred * x.data.numpy()).sum()\n",
        "print(dJ)\n",
        "print(de2)\n",
        "print(de)\n",
        "print(dw)"
      ],
      "execution_count": null,
      "outputs": [
        {
          "output_type": "stream",
          "text": [
            "1.0\n",
            "[1. 1. 1. 1.]\n",
            "[ 0. -2. -4. -6.]\n",
            "-28.0\n"
          ],
          "name": "stdout"
        }
      ]
    },
    {
      "cell_type": "markdown",
      "metadata": {
        "id": "r6-bQzqsCZuZ"
      },
      "source": [
        "## Visualizando o grafo computacional"
      ]
    },
    {
      "cell_type": "code",
      "metadata": {
        "ExecuteTime": {
          "end_time": "2019-09-29T03:07:55.440538Z",
          "start_time": "2019-09-29T03:07:55.419663Z"
        },
        "id": "pjGruWPTCZub",
        "colab": {
          "base_uri": "https://localhost:8080/"
        },
        "outputId": "efc052fb-78e9-4f4b-c531-5ff7910ea0fb"
      },
      "source": [
        "!pip install torchviz"
      ],
      "execution_count": null,
      "outputs": [
        {
          "output_type": "stream",
          "text": [
            "Requirement already satisfied: torchviz in /usr/local/lib/python3.7/dist-packages (0.0.2)\n",
            "Requirement already satisfied: torch in /usr/local/lib/python3.7/dist-packages (from torchviz) (1.8.1+cu101)\n",
            "Requirement already satisfied: graphviz in /usr/local/lib/python3.7/dist-packages (from torchviz) (0.10.1)\n",
            "Requirement already satisfied: typing-extensions in /usr/local/lib/python3.7/dist-packages (from torch->torchviz) (3.7.4.3)\n",
            "Requirement already satisfied: numpy in /usr/local/lib/python3.7/dist-packages (from torch->torchviz) (1.19.5)\n"
          ],
          "name": "stdout"
        }
      ]
    },
    {
      "cell_type": "code",
      "metadata": {
        "ExecuteTime": {
          "end_time": "2019-09-29T03:07:56.829863Z",
          "start_time": "2019-09-29T03:07:56.003452Z"
        },
        "id": "Lbi_GDjWCZuf",
        "colab": {
          "base_uri": "https://localhost:8080/",
          "height": 528
        },
        "outputId": "0a91f996-bd01-48dc-b237-d7553a0b50c2"
      },
      "source": [
        "import torchviz\n",
        "J = ((w * x) - y).pow(2).sum()\n",
        "p = {'w':w} # dicionário de parâmetros\n",
        "out = torchviz.make_dot(J,params=p)\n",
        "out"
      ],
      "execution_count": null,
      "outputs": [
        {
          "output_type": "execute_result",
          "data": {
            "text/plain": [
              "<graphviz.dot.Digraph at 0x7f3fff160890>"
            ],
            "image/svg+xml": "<?xml version=\"1.0\" encoding=\"UTF-8\" standalone=\"no\"?>\n<!DOCTYPE svg PUBLIC \"-//W3C//DTD SVG 1.1//EN\"\n \"http://www.w3.org/Graphics/SVG/1.1/DTD/svg11.dtd\">\n<!-- Generated by graphviz version 2.40.1 (20161225.0304)\n -->\n<!-- Title: %3 Pages: 1 -->\n<svg width=\"109pt\" height=\"380pt\"\n viewBox=\"0.00 0.00 109.00 380.00\" xmlns=\"http://www.w3.org/2000/svg\" xmlns:xlink=\"http://www.w3.org/1999/xlink\">\n<g id=\"graph0\" class=\"graph\" transform=\"scale(1 1) rotate(0) translate(4 376)\">\n<title>%3</title>\n<polygon fill=\"#ffffff\" stroke=\"transparent\" points=\"-4,4 -4,-376 105,-376 105,4 -4,4\"/>\n<!-- 139912839420496 -->\n<g id=\"node1\" class=\"node\">\n<title>139912839420496</title>\n<polygon fill=\"#caff70\" stroke=\"#000000\" points=\"77.5,-31 23.5,-31 23.5,0 77.5,0 77.5,-31\"/>\n<text text-anchor=\"middle\" x=\"50.5\" y=\"-7\" font-family=\"monospace\" font-size=\"10.00\" fill=\"#000000\"> ()</text>\n</g>\n<!-- 139912874263184 -->\n<g id=\"node2\" class=\"node\">\n<title>139912874263184</title>\n<polygon fill=\"#d3d3d3\" stroke=\"#000000\" points=\"95,-86 6,-86 6,-67 95,-67 95,-86\"/>\n<text text-anchor=\"middle\" x=\"50.5\" y=\"-74\" font-family=\"monospace\" font-size=\"10.00\" fill=\"#000000\">SumBackward0</text>\n</g>\n<!-- 139912874263184&#45;&gt;139912839420496 -->\n<g id=\"edge6\" class=\"edge\">\n<title>139912874263184&#45;&gt;139912839420496</title>\n<path fill=\"none\" stroke=\"#000000\" d=\"M50.5,-66.9688C50.5,-60.1289 50.5,-50.5621 50.5,-41.5298\"/>\n<polygon fill=\"#000000\" stroke=\"#000000\" points=\"54.0001,-41.3678 50.5,-31.3678 47.0001,-41.3678 54.0001,-41.3678\"/>\n</g>\n<!-- 139912874263760 -->\n<g id=\"node3\" class=\"node\">\n<title>139912874263760</title>\n<polygon fill=\"#d3d3d3\" stroke=\"#000000\" points=\"95,-141 6,-141 6,-122 95,-122 95,-141\"/>\n<text text-anchor=\"middle\" x=\"50.5\" y=\"-129\" font-family=\"monospace\" font-size=\"10.00\" fill=\"#000000\">PowBackward0</text>\n</g>\n<!-- 139912874263760&#45;&gt;139912874263184 -->\n<g id=\"edge1\" class=\"edge\">\n<title>139912874263760&#45;&gt;139912874263184</title>\n<path fill=\"none\" stroke=\"#000000\" d=\"M50.5,-121.9197C50.5,-114.9083 50.5,-105.1442 50.5,-96.4652\"/>\n<polygon fill=\"#000000\" stroke=\"#000000\" points=\"54.0001,-96.3408 50.5,-86.3408 47.0001,-96.3409 54.0001,-96.3408\"/>\n</g>\n<!-- 139912839302160 -->\n<g id=\"node4\" class=\"node\">\n<title>139912839302160</title>\n<polygon fill=\"#d3d3d3\" stroke=\"#000000\" points=\"95,-196 6,-196 6,-177 95,-177 95,-196\"/>\n<text text-anchor=\"middle\" x=\"50.5\" y=\"-184\" font-family=\"monospace\" font-size=\"10.00\" fill=\"#000000\">SubBackward0</text>\n</g>\n<!-- 139912839302160&#45;&gt;139912874263760 -->\n<g id=\"edge2\" class=\"edge\">\n<title>139912839302160&#45;&gt;139912874263760</title>\n<path fill=\"none\" stroke=\"#000000\" d=\"M50.5,-176.9197C50.5,-169.9083 50.5,-160.1442 50.5,-151.4652\"/>\n<polygon fill=\"#000000\" stroke=\"#000000\" points=\"54.0001,-151.3408 50.5,-141.3408 47.0001,-151.3409 54.0001,-151.3408\"/>\n</g>\n<!-- 139912839302608 -->\n<g id=\"node5\" class=\"node\">\n<title>139912839302608</title>\n<polygon fill=\"#d3d3d3\" stroke=\"#000000\" points=\"95,-251 6,-251 6,-232 95,-232 95,-251\"/>\n<text text-anchor=\"middle\" x=\"50.5\" y=\"-239\" font-family=\"monospace\" font-size=\"10.00\" fill=\"#000000\">MulBackward0</text>\n</g>\n<!-- 139912839302608&#45;&gt;139912839302160 -->\n<g id=\"edge3\" class=\"edge\">\n<title>139912839302608&#45;&gt;139912839302160</title>\n<path fill=\"none\" stroke=\"#000000\" d=\"M50.5,-231.9197C50.5,-224.9083 50.5,-215.1442 50.5,-206.4652\"/>\n<polygon fill=\"#000000\" stroke=\"#000000\" points=\"54.0001,-206.3408 50.5,-196.3408 47.0001,-206.3409 54.0001,-206.3408\"/>\n</g>\n<!-- 139912839303120 -->\n<g id=\"node6\" class=\"node\">\n<title>139912839303120</title>\n<polygon fill=\"#d3d3d3\" stroke=\"#000000\" points=\"101,-306 0,-306 0,-287 101,-287 101,-306\"/>\n<text text-anchor=\"middle\" x=\"50.5\" y=\"-294\" font-family=\"monospace\" font-size=\"10.00\" fill=\"#000000\">AccumulateGrad</text>\n</g>\n<!-- 139912839303120&#45;&gt;139912839302608 -->\n<g id=\"edge4\" class=\"edge\">\n<title>139912839303120&#45;&gt;139912839302608</title>\n<path fill=\"none\" stroke=\"#000000\" d=\"M50.5,-286.9197C50.5,-279.9083 50.5,-270.1442 50.5,-261.4652\"/>\n<polygon fill=\"#000000\" stroke=\"#000000\" points=\"54.0001,-261.3408 50.5,-251.3408 47.0001,-261.3409 54.0001,-261.3408\"/>\n</g>\n<!-- 139912873440672 -->\n<g id=\"node7\" class=\"node\">\n<title>139912873440672</title>\n<polygon fill=\"#add8e6\" stroke=\"#000000\" points=\"77.5,-372 23.5,-372 23.5,-342 77.5,-342 77.5,-372\"/>\n<text text-anchor=\"middle\" x=\"50.5\" y=\"-360\" font-family=\"monospace\" font-size=\"10.00\" fill=\"#000000\">w</text>\n<text text-anchor=\"middle\" x=\"50.5\" y=\"-349\" font-family=\"monospace\" font-size=\"10.00\" fill=\"#000000\"> (1)</text>\n</g>\n<!-- 139912873440672&#45;&gt;139912839303120 -->\n<g id=\"edge5\" class=\"edge\">\n<title>139912873440672&#45;&gt;139912839303120</title>\n<path fill=\"none\" stroke=\"#000000\" d=\"M50.5,-341.7333C50.5,-334.0322 50.5,-324.5977 50.5,-316.3414\"/>\n<polygon fill=\"#000000\" stroke=\"#000000\" points=\"54.0001,-316.0864 50.5,-306.0864 47.0001,-316.0864 54.0001,-316.0864\"/>\n</g>\n</g>\n</svg>\n"
          },
          "metadata": {
            "tags": []
          },
          "execution_count": 57
        }
      ]
    },
    {
      "cell_type": "markdown",
      "metadata": {
        "id": "bRCxXDiIzYT7"
      },
      "source": [
        "Iremos agora visualizar a Resnet, que é uma rede neural bastante popular em visão computacional."
      ]
    },
    {
      "cell_type": "code",
      "metadata": {
        "id": "dmhanmVFzhiQ",
        "colab": {
          "base_uri": "https://localhost:8080/",
          "height": 1000
        },
        "outputId": "ac5360f9-c772-4bdf-8872-494b2ae5149b"
      },
      "source": [
        "import torch\n",
        "model = torch.hub.load('pytorch/vision:v0.9.0', 'resnet18', pretrained=True)\n",
        "x_res = torch.randn(1,3,224,224)  # First, create a random image.\n",
        "y_res = model(x_res)  # We need one forward pass so the graph can be build.\n",
        "out = torchviz.make_dot(y_res, params=dict(model.named_parameters()))  # Create a figure from the computaional graph..\n",
        "torchviz.dot.resize_graph(out, size_per_element=0.05)  # Resize to fit on the screen.\n",
        "out"
      ],
      "execution_count": null,
      "outputs": [
        {
          "output_type": "stream",
          "text": [
            "Using cache found in /root/.cache/torch/hub/pytorch_vision_v0.9.0\n"
          ],
          "name": "stderr"
        },
        {
          "output_type": "execute_result",
          "data": {
            "text/plain": [
              "<graphviz.dot.Digraph at 0x7f40011ed950>"
            ],
            "image/svg+xml": "<?xml version=\"1.0\" encoding=\"UTF-8\" standalone=\"no\"?>\n<!DOCTYPE svg PUBLIC \"-//W3C//DTD SVG 1.1//EN\"\n \"http://www.w3.org/Graphics/SVG/1.1/DTD/svg11.dtd\">\n<!-- Generated by graphviz version 2.40.1 (20161225.0304)\n -->\n<!-- Title: %3 Pages: 1 -->\n<svg width=\"598pt\" height=\"1429pt\"\n viewBox=\"0.00 0.00 597.61 1429.00\" xmlns=\"http://www.w3.org/2000/svg\" xmlns:xlink=\"http://www.w3.org/1999/xlink\">\n<g id=\"graph0\" class=\"graph\" transform=\"scale(.3564 .3564) rotate(0) translate(4 4006)\">\n<title>%3</title>\n<polygon fill=\"#ffffff\" stroke=\"transparent\" points=\"-4,4 -4,-4006 1673,-4006 1673,4 -4,4\"/>\n<!-- 139912873408784 -->\n<g id=\"node1\" class=\"node\">\n<title>139912873408784</title>\n<polygon fill=\"#caff70\" stroke=\"#000000\" points=\"1181,-31 1104,-31 1104,0 1181,0 1181,-31\"/>\n<text text-anchor=\"middle\" x=\"1142.5\" y=\"-7\" font-family=\"monospace\" font-size=\"10.00\" fill=\"#000000\"> (1, 1000)</text>\n</g>\n<!-- 139912839300304 -->\n<g id=\"node2\" class=\"node\">\n<title>139912839300304</title>\n<polygon fill=\"#d3d3d3\" stroke=\"#000000\" points=\"1190,-86 1095,-86 1095,-67 1190,-67 1190,-86\"/>\n<text text-anchor=\"middle\" x=\"1142.5\" y=\"-74\" font-family=\"monospace\" font-size=\"10.00\" fill=\"#000000\">AddmmBackward</text>\n</g>\n<!-- 139912839300304&#45;&gt;139912873408784 -->\n<g id=\"edge202\" class=\"edge\">\n<title>139912839300304&#45;&gt;139912873408784</title>\n<path fill=\"none\" stroke=\"#000000\" d=\"M1142.5,-66.9688C1142.5,-60.1289 1142.5,-50.5621 1142.5,-41.5298\"/>\n<polygon fill=\"#000000\" stroke=\"#000000\" points=\"1146.0001,-41.3678 1142.5,-31.3678 1139.0001,-41.3678 1146.0001,-41.3678\"/>\n</g>\n<!-- 139912839301008 -->\n<g id=\"node3\" class=\"node\">\n<title>139912839301008</title>\n<polygon fill=\"#d3d3d3\" stroke=\"#000000\" points=\"1080,-141 979,-141 979,-122 1080,-122 1080,-141\"/>\n<text text-anchor=\"middle\" x=\"1029.5\" y=\"-129\" font-family=\"monospace\" font-size=\"10.00\" fill=\"#000000\">AccumulateGrad</text>\n</g>\n<!-- 139912839301008&#45;&gt;139912839300304 -->\n<g id=\"edge1\" class=\"edge\">\n<title>139912839301008&#45;&gt;139912839300304</title>\n<path fill=\"none\" stroke=\"#000000\" d=\"M1049.1831,-121.9197C1066.9787,-113.2581 1093.4052,-100.3957 1113.5977,-90.5675\"/>\n<polygon fill=\"#000000\" stroke=\"#000000\" points=\"1115.2036,-93.6785 1122.6633,-86.155 1112.14,-87.3844 1115.2036,-93.6785\"/>\n</g>\n<!-- 139912839342192 -->\n<g id=\"node4\" class=\"node\">\n<title>139912839342192</title>\n<polygon fill=\"#add8e6\" stroke=\"#000000\" points=\"1059,-207 1000,-207 1000,-177 1059,-177 1059,-207\"/>\n<text text-anchor=\"middle\" x=\"1029.5\" y=\"-195\" font-family=\"monospace\" font-size=\"10.00\" fill=\"#000000\">fc.bias</text>\n<text text-anchor=\"middle\" x=\"1029.5\" y=\"-184\" font-family=\"monospace\" font-size=\"10.00\" fill=\"#000000\"> (1000)</text>\n</g>\n<!-- 139912839342192&#45;&gt;139912839301008 -->\n<g id=\"edge2\" class=\"edge\">\n<title>139912839342192&#45;&gt;139912839301008</title>\n<path fill=\"none\" stroke=\"#000000\" d=\"M1029.5,-176.7333C1029.5,-169.0322 1029.5,-159.5977 1029.5,-151.3414\"/>\n<polygon fill=\"#000000\" stroke=\"#000000\" points=\"1033.0001,-151.0864 1029.5,-141.0864 1026.0001,-151.0864 1033.0001,-151.0864\"/>\n</g>\n<!-- 139912839366608 -->\n<g id=\"node5\" class=\"node\">\n<title>139912839366608</title>\n<polygon fill=\"#d3d3d3\" stroke=\"#000000\" points=\"1187,-141 1098,-141 1098,-122 1187,-122 1187,-141\"/>\n<text text-anchor=\"middle\" x=\"1142.5\" y=\"-129\" font-family=\"monospace\" font-size=\"10.00\" fill=\"#000000\">ViewBackward</text>\n</g>\n<!-- 139912839366608&#45;&gt;139912839300304 -->\n<g id=\"edge3\" class=\"edge\">\n<title>139912839366608&#45;&gt;139912839300304</title>\n<path fill=\"none\" stroke=\"#000000\" d=\"M1142.5,-121.9197C1142.5,-114.9083 1142.5,-105.1442 1142.5,-96.4652\"/>\n<polygon fill=\"#000000\" stroke=\"#000000\" points=\"1146.0001,-96.3408 1142.5,-86.3408 1139.0001,-96.3409 1146.0001,-96.3408\"/>\n</g>\n<!-- 139912839366736 -->\n<g id=\"node6\" class=\"node\">\n<title>139912839366736</title>\n<polygon fill=\"#d3d3d3\" stroke=\"#000000\" points=\"1181,-201.5 1086,-201.5 1086,-182.5 1181,-182.5 1181,-201.5\"/>\n<text text-anchor=\"middle\" x=\"1133.5\" y=\"-189.5\" font-family=\"monospace\" font-size=\"10.00\" fill=\"#000000\">MeanBackward1</text>\n</g>\n<!-- 139912839366736&#45;&gt;139912839366608 -->\n<g id=\"edge4\" class=\"edge\">\n<title>139912839366736&#45;&gt;139912839366608</title>\n<path fill=\"none\" stroke=\"#000000\" d=\"M1134.946,-182.2796C1136.1851,-173.9499 1138.0092,-161.688 1139.5545,-151.3004\"/>\n<polygon fill=\"#000000\" stroke=\"#000000\" points=\"1143.0181,-151.8034 1141.0277,-141.3972 1136.0943,-150.7734 1143.0181,-151.8034\"/>\n</g>\n<!-- 139912839365008 -->\n<g id=\"node7\" class=\"node\">\n<title>139912839365008</title>\n<polygon fill=\"#d3d3d3\" stroke=\"#000000\" points=\"1181,-267.5 1086,-267.5 1086,-248.5 1181,-248.5 1181,-267.5\"/>\n<text text-anchor=\"middle\" x=\"1133.5\" y=\"-255.5\" font-family=\"monospace\" font-size=\"10.00\" fill=\"#000000\">ReluBackward1</text>\n</g>\n<!-- 139912839365008&#45;&gt;139912839366736 -->\n<g id=\"edge5\" class=\"edge\">\n<title>139912839365008&#45;&gt;139912839366736</title>\n<path fill=\"none\" stroke=\"#000000\" d=\"M1133.5,-248.2615C1133.5,-238.7077 1133.5,-223.8615 1133.5,-211.8183\"/>\n<polygon fill=\"#000000\" stroke=\"#000000\" points=\"1137.0001,-211.7784 1133.5,-201.7785 1130.0001,-211.7785 1137.0001,-211.7784\"/>\n</g>\n<!-- 139912839366416 -->\n<g id=\"node8\" class=\"node\">\n<title>139912839366416</title>\n<polygon fill=\"#d3d3d3\" stroke=\"#000000\" points=\"1178,-328 1089,-328 1089,-309 1178,-309 1178,-328\"/>\n<text text-anchor=\"middle\" x=\"1133.5\" y=\"-316\" font-family=\"monospace\" font-size=\"10.00\" fill=\"#000000\">AddBackward0</text>\n</g>\n<!-- 139912839366416&#45;&gt;139912839365008 -->\n<g id=\"edge6\" class=\"edge\">\n<title>139912839366416&#45;&gt;139912839365008</title>\n<path fill=\"none\" stroke=\"#000000\" d=\"M1133.5,-308.7796C1133.5,-300.5376 1133.5,-288.4457 1133.5,-278.129\"/>\n<polygon fill=\"#000000\" stroke=\"#000000\" points=\"1137.0001,-277.8972 1133.5,-267.8972 1130.0001,-277.8973 1137.0001,-277.8972\"/>\n</g>\n<!-- 139912839364944 -->\n<g id=\"node9\" class=\"node\">\n<title>139912839364944</title>\n<polygon fill=\"#d3d3d3\" stroke=\"#000000\" points=\"1468,-383 1313,-383 1313,-364 1468,-364 1468,-383\"/>\n<text text-anchor=\"middle\" x=\"1390.5\" y=\"-371\" font-family=\"monospace\" font-size=\"10.00\" fill=\"#000000\">NativeBatchNormBackward</text>\n</g>\n<!-- 139912839364944&#45;&gt;139912839366416 -->\n<g id=\"edge7\" class=\"edge\">\n<title>139912839364944&#45;&gt;139912839366416</title>\n<path fill=\"none\" stroke=\"#000000\" d=\"M1346.0274,-363.9825C1302.2602,-354.616 1235.3339,-340.2932 1188.3037,-330.2284\"/>\n<polygon fill=\"#000000\" stroke=\"#000000\" points=\"1188.8006,-326.7556 1178.2895,-328.0853 1187.3356,-333.6006 1188.8006,-326.7556\"/>\n</g>\n<!-- 139912839368336 -->\n<g id=\"node10\" class=\"node\">\n<title>139912839368336</title>\n<polygon fill=\"#d3d3d3\" stroke=\"#000000\" points=\"1398,-438 1231,-438 1231,-419 1398,-419 1398,-438\"/>\n<text text-anchor=\"middle\" x=\"1314.5\" y=\"-426\" font-family=\"monospace\" font-size=\"10.00\" fill=\"#000000\">MkldnnConvolutionBackward</text>\n</g>\n<!-- 139912839368336&#45;&gt;139912839364944 -->\n<g id=\"edge8\" class=\"edge\">\n<title>139912839368336&#45;&gt;139912839364944</title>\n<path fill=\"none\" stroke=\"#000000\" d=\"M1327.7382,-418.9197C1339.1112,-410.6893 1355.7256,-398.6657 1369.0035,-389.0567\"/>\n<polygon fill=\"#000000\" stroke=\"#000000\" points=\"1371.1093,-391.8532 1377.1585,-383.155 1367.0054,-386.1823 1371.1093,-391.8532\"/>\n</g>\n<!-- 139912839364752 -->\n<g id=\"node11\" class=\"node\">\n<title>139912839364752</title>\n<polygon fill=\"#d3d3d3\" stroke=\"#000000\" points=\"1264,-498.5 1169,-498.5 1169,-479.5 1264,-479.5 1264,-498.5\"/>\n<text text-anchor=\"middle\" x=\"1216.5\" y=\"-486.5\" font-family=\"monospace\" font-size=\"10.00\" fill=\"#000000\">ReluBackward1</text>\n</g>\n<!-- 139912839364752&#45;&gt;139912839368336 -->\n<g id=\"edge9\" class=\"edge\">\n<title>139912839364752&#45;&gt;139912839368336</title>\n<path fill=\"none\" stroke=\"#000000\" d=\"M1232.2454,-479.2796C1247.8187,-469.6655 1271.8773,-454.813 1289.9593,-443.6501\"/>\n<polygon fill=\"#000000\" stroke=\"#000000\" points=\"1292.1231,-446.4276 1298.7937,-438.1962 1288.4459,-440.4712 1292.1231,-446.4276\"/>\n</g>\n<!-- 139912839367760 -->\n<g id=\"node12\" class=\"node\">\n<title>139912839367760</title>\n<polygon fill=\"#d3d3d3\" stroke=\"#000000\" points=\"1294,-564.5 1139,-564.5 1139,-545.5 1294,-545.5 1294,-564.5\"/>\n<text text-anchor=\"middle\" x=\"1216.5\" y=\"-552.5\" font-family=\"monospace\" font-size=\"10.00\" fill=\"#000000\">NativeBatchNormBackward</text>\n</g>\n<!-- 139912839367760&#45;&gt;139912839364752 -->\n<g id=\"edge10\" class=\"edge\">\n<title>139912839367760&#45;&gt;139912839364752</title>\n<path fill=\"none\" stroke=\"#000000\" d=\"M1216.5,-545.2615C1216.5,-535.7077 1216.5,-520.8615 1216.5,-508.8183\"/>\n<polygon fill=\"#000000\" stroke=\"#000000\" points=\"1220.0001,-508.7784 1216.5,-498.7785 1213.0001,-508.7785 1220.0001,-508.7784\"/>\n</g>\n<!-- 139912839366864 -->\n<g id=\"node13\" class=\"node\">\n<title>139912839366864</title>\n<polygon fill=\"#d3d3d3\" stroke=\"#000000\" points=\"1224,-625 1057,-625 1057,-606 1224,-606 1224,-625\"/>\n<text text-anchor=\"middle\" x=\"1140.5\" y=\"-613\" font-family=\"monospace\" font-size=\"10.00\" fill=\"#000000\">MkldnnConvolutionBackward</text>\n</g>\n<!-- 139912839366864&#45;&gt;139912839367760 -->\n<g id=\"edge11\" class=\"edge\">\n<title>139912839366864&#45;&gt;139912839367760</title>\n<path fill=\"none\" stroke=\"#000000\" d=\"M1152.7107,-605.7796C1164.386,-596.4855 1182.2112,-582.2957 1196.0535,-571.2765\"/>\n<polygon fill=\"#000000\" stroke=\"#000000\" points=\"1198.4232,-573.8637 1204.0671,-564.8972 1194.0635,-568.3871 1198.4232,-573.8637\"/>\n</g>\n<!-- 139912839364688 -->\n<g id=\"node14\" class=\"node\">\n<title>139912839364688</title>\n<polygon fill=\"#d3d3d3\" stroke=\"#000000\" points=\"1077,-685.5 982,-685.5 982,-666.5 1077,-666.5 1077,-685.5\"/>\n<text text-anchor=\"middle\" x=\"1029.5\" y=\"-673.5\" font-family=\"monospace\" font-size=\"10.00\" fill=\"#000000\">ReluBackward1</text>\n</g>\n<!-- 139912839364688&#45;&gt;139912839366416 -->\n<g id=\"edge198\" class=\"edge\">\n<title>139912839364688&#45;&gt;139912839366416</title>\n<path fill=\"none\" stroke=\"#000000\" d=\"M1029.5,-666.2758C1029.5,-645.7289 1029.5,-596.3837 1029.5,-555 1029.5,-555 1029.5,-555 1029.5,-428.5 1029.5,-384.6759 1073.625,-351.2723 1104.3919,-333.3076\"/>\n<polygon fill=\"#000000\" stroke=\"#000000\" points=\"1106.4346,-336.1751 1113.4478,-328.2336 1103.013,-330.0683 1106.4346,-336.1751\"/>\n</g>\n<!-- 139912839364688&#45;&gt;139912839366864 -->\n<g id=\"edge12\" class=\"edge\">\n<title>139912839364688&#45;&gt;139912839366864</title>\n<path fill=\"none\" stroke=\"#000000\" d=\"M1047.3341,-666.2796C1065.2968,-656.4891 1093.2265,-641.2662 1113.8244,-630.0394\"/>\n<polygon fill=\"#000000\" stroke=\"#000000\" points=\"1115.6047,-633.0552 1122.7102,-625.1962 1112.2547,-626.9089 1115.6047,-633.0552\"/>\n</g>\n<!-- 139912839365072 -->\n<g id=\"node15\" class=\"node\">\n<title>139912839365072</title>\n<polygon fill=\"#d3d3d3\" stroke=\"#000000\" points=\"1065,-751.5 976,-751.5 976,-732.5 1065,-732.5 1065,-751.5\"/>\n<text text-anchor=\"middle\" x=\"1020.5\" y=\"-739.5\" font-family=\"monospace\" font-size=\"10.00\" fill=\"#000000\">AddBackward0</text>\n</g>\n<!-- 139912839365072&#45;&gt;139912839364688 -->\n<g id=\"edge13\" class=\"edge\">\n<title>139912839365072&#45;&gt;139912839364688</title>\n<path fill=\"none\" stroke=\"#000000\" d=\"M1021.828,-732.2615C1023.1308,-722.7077 1025.1552,-707.8615 1026.7975,-695.8183\"/>\n<polygon fill=\"#000000\" stroke=\"#000000\" points=\"1030.2833,-696.1597 1028.1666,-685.7785 1023.3474,-695.2139 1030.2833,-696.1597\"/>\n</g>\n<!-- 139912839367248 -->\n<g id=\"node16\" class=\"node\">\n<title>139912839367248</title>\n<polygon fill=\"#d3d3d3\" stroke=\"#000000\" points=\"1368,-812 1213,-812 1213,-793 1368,-793 1368,-812\"/>\n<text text-anchor=\"middle\" x=\"1290.5\" y=\"-800\" font-family=\"monospace\" font-size=\"10.00\" fill=\"#000000\">NativeBatchNormBackward</text>\n</g>\n<!-- 139912839367248&#45;&gt;139912839365072 -->\n<g id=\"edge14\" class=\"edge\">\n<title>139912839367248&#45;&gt;139912839365072</title>\n<path fill=\"none\" stroke=\"#000000\" d=\"M1240.288,-792.9944C1196.163,-784.3981 1130.3148,-770.9785 1073.5,-757 1069.9482,-756.1261 1066.2745,-755.1785 1062.5947,-754.1987\"/>\n<polygon fill=\"#000000\" stroke=\"#000000\" points=\"1063.488,-750.8146 1052.9193,-751.5585 1061.6452,-757.5677 1063.488,-750.8146\"/>\n</g>\n<!-- 139912839367120 -->\n<g id=\"node17\" class=\"node\">\n<title>139912839367120</title>\n<polygon fill=\"#d3d3d3\" stroke=\"#000000\" points=\"1298,-867 1131,-867 1131,-848 1298,-848 1298,-867\"/>\n<text text-anchor=\"middle\" x=\"1214.5\" y=\"-855\" font-family=\"monospace\" font-size=\"10.00\" fill=\"#000000\">MkldnnConvolutionBackward</text>\n</g>\n<!-- 139912839367120&#45;&gt;139912839367248 -->\n<g id=\"edge15\" class=\"edge\">\n<title>139912839367120&#45;&gt;139912839367248</title>\n<path fill=\"none\" stroke=\"#000000\" d=\"M1227.7382,-847.9197C1239.1112,-839.6893 1255.7256,-827.6657 1269.0035,-818.0567\"/>\n<polygon fill=\"#000000\" stroke=\"#000000\" points=\"1271.1093,-820.8532 1277.1585,-812.155 1267.0054,-815.1823 1271.1093,-820.8532\"/>\n</g>\n<!-- 139912874579728 -->\n<g id=\"node18\" class=\"node\">\n<title>139912874579728</title>\n<polygon fill=\"#d3d3d3\" stroke=\"#000000\" points=\"1164,-927.5 1069,-927.5 1069,-908.5 1164,-908.5 1164,-927.5\"/>\n<text text-anchor=\"middle\" x=\"1116.5\" y=\"-915.5\" font-family=\"monospace\" font-size=\"10.00\" fill=\"#000000\">ReluBackward1</text>\n</g>\n<!-- 139912874579728&#45;&gt;139912839367120 -->\n<g id=\"edge16\" class=\"edge\">\n<title>139912874579728&#45;&gt;139912839367120</title>\n<path fill=\"none\" stroke=\"#000000\" d=\"M1132.2454,-908.2796C1147.8187,-898.6655 1171.8773,-883.813 1189.9593,-872.6501\"/>\n<polygon fill=\"#000000\" stroke=\"#000000\" points=\"1192.1231,-875.4276 1198.7937,-867.1962 1188.4459,-869.4712 1192.1231,-875.4276\"/>\n</g>\n<!-- 139912874580624 -->\n<g id=\"node19\" class=\"node\">\n<title>139912874580624</title>\n<polygon fill=\"#d3d3d3\" stroke=\"#000000\" points=\"1194,-993.5 1039,-993.5 1039,-974.5 1194,-974.5 1194,-993.5\"/>\n<text text-anchor=\"middle\" x=\"1116.5\" y=\"-981.5\" font-family=\"monospace\" font-size=\"10.00\" fill=\"#000000\">NativeBatchNormBackward</text>\n</g>\n<!-- 139912874580624&#45;&gt;139912874579728 -->\n<g id=\"edge17\" class=\"edge\">\n<title>139912874580624&#45;&gt;139912874579728</title>\n<path fill=\"none\" stroke=\"#000000\" d=\"M1116.5,-974.2615C1116.5,-964.7077 1116.5,-949.8615 1116.5,-937.8183\"/>\n<polygon fill=\"#000000\" stroke=\"#000000\" points=\"1120.0001,-937.7784 1116.5,-927.7785 1113.0001,-937.7785 1120.0001,-937.7784\"/>\n</g>\n<!-- 139912874578576 -->\n<g id=\"node20\" class=\"node\">\n<title>139912874578576</title>\n<polygon fill=\"#d3d3d3\" stroke=\"#000000\" points=\"1124,-1054 957,-1054 957,-1035 1124,-1035 1124,-1054\"/>\n<text text-anchor=\"middle\" x=\"1040.5\" y=\"-1042\" font-family=\"monospace\" font-size=\"10.00\" fill=\"#000000\">MkldnnConvolutionBackward</text>\n</g>\n<!-- 139912874578576&#45;&gt;139912874580624 -->\n<g id=\"edge18\" class=\"edge\">\n<title>139912874578576&#45;&gt;139912874580624</title>\n<path fill=\"none\" stroke=\"#000000\" d=\"M1052.7107,-1034.7796C1064.386,-1025.4855 1082.2112,-1011.2957 1096.0535,-1000.2765\"/>\n<polygon fill=\"#000000\" stroke=\"#000000\" points=\"1098.4232,-1002.8637 1104.0671,-993.8972 1094.0635,-997.3871 1098.4232,-1002.8637\"/>\n</g>\n<!-- 139912888071632 -->\n<g id=\"node21\" class=\"node\">\n<title>139912888071632</title>\n<polygon fill=\"#d3d3d3\" stroke=\"#000000\" points=\"990,-1114.5 895,-1114.5 895,-1095.5 990,-1095.5 990,-1114.5\"/>\n<text text-anchor=\"middle\" x=\"942.5\" y=\"-1102.5\" font-family=\"monospace\" font-size=\"10.00\" fill=\"#000000\">ReluBackward1</text>\n</g>\n<!-- 139912888071632&#45;&gt;139912874578576 -->\n<g id=\"edge19\" class=\"edge\">\n<title>139912888071632&#45;&gt;139912874578576</title>\n<path fill=\"none\" stroke=\"#000000\" d=\"M958.2454,-1095.2796C973.8187,-1085.6655 997.8773,-1070.813 1015.9593,-1059.6501\"/>\n<polygon fill=\"#000000\" stroke=\"#000000\" points=\"1018.1231,-1062.4276 1024.7937,-1054.1962 1014.4459,-1056.4712 1018.1231,-1062.4276\"/>\n</g>\n<!-- 139912888073104 -->\n<g id=\"node174\" class=\"node\">\n<title>139912888073104</title>\n<polygon fill=\"#d3d3d3\" stroke=\"#000000\" points=\"910,-1054 743,-1054 743,-1035 910,-1035 910,-1054\"/>\n<text text-anchor=\"middle\" x=\"826.5\" y=\"-1042\" font-family=\"monospace\" font-size=\"10.00\" fill=\"#000000\">MkldnnConvolutionBackward</text>\n</g>\n<!-- 139912888071632&#45;&gt;139912888073104 -->\n<g id=\"edge179\" class=\"edge\">\n<title>139912888071632&#45;&gt;139912888073104</title>\n<path fill=\"none\" stroke=\"#000000\" d=\"M924.1195,-1095.4136C905.1987,-1085.5454 875.5026,-1070.0574 853.8287,-1058.7533\"/>\n<polygon fill=\"#000000\" stroke=\"#000000\" points=\"855.2796,-1055.5627 844.7946,-1054.0416 852.0425,-1061.7693 855.2796,-1055.5627\"/>\n</g>\n<!-- 139912888073360 -->\n<g id=\"node22\" class=\"node\">\n<title>139912888073360</title>\n<polygon fill=\"#d3d3d3\" stroke=\"#000000\" points=\"987,-1180.5 898,-1180.5 898,-1161.5 987,-1161.5 987,-1180.5\"/>\n<text text-anchor=\"middle\" x=\"942.5\" y=\"-1168.5\" font-family=\"monospace\" font-size=\"10.00\" fill=\"#000000\">AddBackward0</text>\n</g>\n<!-- 139912888073360&#45;&gt;139912888071632 -->\n<g id=\"edge20\" class=\"edge\">\n<title>139912888073360&#45;&gt;139912888071632</title>\n<path fill=\"none\" stroke=\"#000000\" d=\"M942.5,-1161.2615C942.5,-1151.7077 942.5,-1136.8615 942.5,-1124.8183\"/>\n<polygon fill=\"#000000\" stroke=\"#000000\" points=\"946.0001,-1124.7784 942.5,-1114.7785 939.0001,-1124.7785 946.0001,-1124.7784\"/>\n</g>\n<!-- 139912839337360 -->\n<g id=\"node23\" class=\"node\">\n<title>139912839337360</title>\n<polygon fill=\"#d3d3d3\" stroke=\"#000000\" points=\"1277,-1241 1122,-1241 1122,-1222 1277,-1222 1277,-1241\"/>\n<text text-anchor=\"middle\" x=\"1199.5\" y=\"-1229\" font-family=\"monospace\" font-size=\"10.00\" fill=\"#000000\">NativeBatchNormBackward</text>\n</g>\n<!-- 139912839337360&#45;&gt;139912888073360 -->\n<g id=\"edge21\" class=\"edge\">\n<title>139912839337360&#45;&gt;139912888073360</title>\n<path fill=\"none\" stroke=\"#000000\" d=\"M1153.1427,-1221.9389C1111.68,-1213.2024 1049.3255,-1199.6079 995.5,-1186 992.1059,-1185.1419 988.5987,-1184.2225 985.0801,-1183.2768\"/>\n<polygon fill=\"#000000\" stroke=\"#000000\" points=\"985.788,-1179.8418 975.2183,-1180.5714 983.936,-1186.5924 985.788,-1179.8418\"/>\n</g>\n<!-- 139912839336080 -->\n<g id=\"node24\" class=\"node\">\n<title>139912839336080</title>\n<polygon fill=\"#d3d3d3\" stroke=\"#000000\" points=\"1207,-1296 1040,-1296 1040,-1277 1207,-1277 1207,-1296\"/>\n<text text-anchor=\"middle\" x=\"1123.5\" y=\"-1284\" font-family=\"monospace\" font-size=\"10.00\" fill=\"#000000\">MkldnnConvolutionBackward</text>\n</g>\n<!-- 139912839336080&#45;&gt;139912839337360 -->\n<g id=\"edge22\" class=\"edge\">\n<title>139912839336080&#45;&gt;139912839337360</title>\n<path fill=\"none\" stroke=\"#000000\" d=\"M1136.7382,-1276.9197C1148.1112,-1268.6893 1164.7256,-1256.6657 1178.0035,-1247.0567\"/>\n<polygon fill=\"#000000\" stroke=\"#000000\" points=\"1180.1093,-1249.8532 1186.1585,-1241.155 1176.0054,-1244.1823 1180.1093,-1249.8532\"/>\n</g>\n<!-- 139912874113936 -->\n<g id=\"node25\" class=\"node\">\n<title>139912874113936</title>\n<polygon fill=\"#d3d3d3\" stroke=\"#000000\" points=\"1073,-1356.5 978,-1356.5 978,-1337.5 1073,-1337.5 1073,-1356.5\"/>\n<text text-anchor=\"middle\" x=\"1025.5\" y=\"-1344.5\" font-family=\"monospace\" font-size=\"10.00\" fill=\"#000000\">ReluBackward1</text>\n</g>\n<!-- 139912874113936&#45;&gt;139912839336080 -->\n<g id=\"edge23\" class=\"edge\">\n<title>139912874113936&#45;&gt;139912839336080</title>\n<path fill=\"none\" stroke=\"#000000\" d=\"M1041.2454,-1337.2796C1056.8187,-1327.6655 1080.8773,-1312.813 1098.9593,-1301.6501\"/>\n<polygon fill=\"#000000\" stroke=\"#000000\" points=\"1101.1231,-1304.4276 1107.7937,-1296.1962 1097.4459,-1298.4712 1101.1231,-1304.4276\"/>\n</g>\n<!-- 139912874112656 -->\n<g id=\"node26\" class=\"node\">\n<title>139912874112656</title>\n<polygon fill=\"#d3d3d3\" stroke=\"#000000\" points=\"1103,-1422.5 948,-1422.5 948,-1403.5 1103,-1403.5 1103,-1422.5\"/>\n<text text-anchor=\"middle\" x=\"1025.5\" y=\"-1410.5\" font-family=\"monospace\" font-size=\"10.00\" fill=\"#000000\">NativeBatchNormBackward</text>\n</g>\n<!-- 139912874112656&#45;&gt;139912874113936 -->\n<g id=\"edge24\" class=\"edge\">\n<title>139912874112656&#45;&gt;139912874113936</title>\n<path fill=\"none\" stroke=\"#000000\" d=\"M1025.5,-1403.2615C1025.5,-1393.7077 1025.5,-1378.8615 1025.5,-1366.8183\"/>\n<polygon fill=\"#000000\" stroke=\"#000000\" points=\"1029.0001,-1366.7784 1025.5,-1356.7785 1022.0001,-1366.7785 1029.0001,-1366.7784\"/>\n</g>\n<!-- 139912874112464 -->\n<g id=\"node27\" class=\"node\">\n<title>139912874112464</title>\n<polygon fill=\"#d3d3d3\" stroke=\"#000000\" points=\"1033,-1483 866,-1483 866,-1464 1033,-1464 1033,-1483\"/>\n<text text-anchor=\"middle\" x=\"949.5\" y=\"-1471\" font-family=\"monospace\" font-size=\"10.00\" fill=\"#000000\">MkldnnConvolutionBackward</text>\n</g>\n<!-- 139912874112464&#45;&gt;139912874112656 -->\n<g id=\"edge25\" class=\"edge\">\n<title>139912874112464&#45;&gt;139912874112656</title>\n<path fill=\"none\" stroke=\"#000000\" d=\"M961.7107,-1463.7796C973.386,-1454.4855 991.2112,-1440.2957 1005.0535,-1429.2765\"/>\n<polygon fill=\"#000000\" stroke=\"#000000\" points=\"1007.4232,-1431.8637 1013.0671,-1422.8972 1003.0635,-1426.3871 1007.4232,-1431.8637\"/>\n</g>\n<!-- 139912839339024 -->\n<g id=\"node28\" class=\"node\">\n<title>139912839339024</title>\n<polygon fill=\"#d3d3d3\" stroke=\"#000000\" points=\"886,-1543.5 791,-1543.5 791,-1524.5 886,-1524.5 886,-1543.5\"/>\n<text text-anchor=\"middle\" x=\"838.5\" y=\"-1531.5\" font-family=\"monospace\" font-size=\"10.00\" fill=\"#000000\">ReluBackward1</text>\n</g>\n<!-- 139912839339024&#45;&gt;139912888073360 -->\n<g id=\"edge164\" class=\"edge\">\n<title>139912839339024&#45;&gt;139912888073360</title>\n<path fill=\"none\" stroke=\"#000000\" d=\"M838.5,-1524.2758C838.5,-1503.7289 838.5,-1454.3837 838.5,-1413 838.5,-1413 838.5,-1413 838.5,-1286.5 838.5,-1240.5749 884.4694,-1204.6631 915.2835,-1185.7495\"/>\n<polygon fill=\"#000000\" stroke=\"#000000\" points=\"917.0794,-1188.7537 923.9069,-1180.6521 913.5173,-1182.7278 917.0794,-1188.7537\"/>\n</g>\n<!-- 139912839339024&#45;&gt;139912874112464 -->\n<g id=\"edge26\" class=\"edge\">\n<title>139912839339024&#45;&gt;139912874112464</title>\n<path fill=\"none\" stroke=\"#000000\" d=\"M856.3341,-1524.2796C874.2968,-1514.4891 902.2265,-1499.2662 922.8244,-1488.0394\"/>\n<polygon fill=\"#000000\" stroke=\"#000000\" points=\"924.6047,-1491.0552 931.7102,-1483.1962 921.2547,-1484.9089 924.6047,-1491.0552\"/>\n</g>\n<!-- 139912874112720 -->\n<g id=\"node29\" class=\"node\">\n<title>139912874112720</title>\n<polygon fill=\"#d3d3d3\" stroke=\"#000000\" points=\"874,-1609.5 785,-1609.5 785,-1590.5 874,-1590.5 874,-1609.5\"/>\n<text text-anchor=\"middle\" x=\"829.5\" y=\"-1597.5\" font-family=\"monospace\" font-size=\"10.00\" fill=\"#000000\">AddBackward0</text>\n</g>\n<!-- 139912874112720&#45;&gt;139912839339024 -->\n<g id=\"edge27\" class=\"edge\">\n<title>139912874112720&#45;&gt;139912839339024</title>\n<path fill=\"none\" stroke=\"#000000\" d=\"M830.828,-1590.2615C832.1308,-1580.7077 834.1552,-1565.8615 835.7975,-1553.8183\"/>\n<polygon fill=\"#000000\" stroke=\"#000000\" points=\"839.2833,-1554.1597 837.1666,-1543.7785 832.3474,-1553.2139 839.2833,-1554.1597\"/>\n</g>\n<!-- 139912874112144 -->\n<g id=\"node30\" class=\"node\">\n<title>139912874112144</title>\n<polygon fill=\"#d3d3d3\" stroke=\"#000000\" points=\"1177,-1670 1022,-1670 1022,-1651 1177,-1651 1177,-1670\"/>\n<text text-anchor=\"middle\" x=\"1099.5\" y=\"-1658\" font-family=\"monospace\" font-size=\"10.00\" fill=\"#000000\">NativeBatchNormBackward</text>\n</g>\n<!-- 139912874112144&#45;&gt;139912874112720 -->\n<g id=\"edge28\" class=\"edge\">\n<title>139912874112144&#45;&gt;139912874112720</title>\n<path fill=\"none\" stroke=\"#000000\" d=\"M1049.288,-1650.9944C1005.163,-1642.3981 939.3148,-1628.9785 882.5,-1615 878.9482,-1614.1261 875.2745,-1613.1785 871.5947,-1612.1987\"/>\n<polygon fill=\"#000000\" stroke=\"#000000\" points=\"872.488,-1608.8146 861.9193,-1609.5585 870.6452,-1615.5677 872.488,-1608.8146\"/>\n</g>\n<!-- 139912874114448 -->\n<g id=\"node31\" class=\"node\">\n<title>139912874114448</title>\n<polygon fill=\"#d3d3d3\" stroke=\"#000000\" points=\"1107,-1725 940,-1725 940,-1706 1107,-1706 1107,-1725\"/>\n<text text-anchor=\"middle\" x=\"1023.5\" y=\"-1713\" font-family=\"monospace\" font-size=\"10.00\" fill=\"#000000\">MkldnnConvolutionBackward</text>\n</g>\n<!-- 139912874114448&#45;&gt;139912874112144 -->\n<g id=\"edge29\" class=\"edge\">\n<title>139912874114448&#45;&gt;139912874112144</title>\n<path fill=\"none\" stroke=\"#000000\" d=\"M1036.7382,-1705.9197C1048.1112,-1697.6893 1064.7256,-1685.6657 1078.0035,-1676.0567\"/>\n<polygon fill=\"#000000\" stroke=\"#000000\" points=\"1080.1093,-1678.8532 1086.1585,-1670.155 1076.0054,-1673.1823 1080.1093,-1678.8532\"/>\n</g>\n<!-- 139912839391568 -->\n<g id=\"node32\" class=\"node\">\n<title>139912839391568</title>\n<polygon fill=\"#d3d3d3\" stroke=\"#000000\" points=\"973,-1785.5 878,-1785.5 878,-1766.5 973,-1766.5 973,-1785.5\"/>\n<text text-anchor=\"middle\" x=\"925.5\" y=\"-1773.5\" font-family=\"monospace\" font-size=\"10.00\" fill=\"#000000\">ReluBackward1</text>\n</g>\n<!-- 139912839391568&#45;&gt;139912874114448 -->\n<g id=\"edge30\" class=\"edge\">\n<title>139912839391568&#45;&gt;139912874114448</title>\n<path fill=\"none\" stroke=\"#000000\" d=\"M941.2454,-1766.2796C956.8187,-1756.6655 980.8773,-1741.813 998.9593,-1730.6501\"/>\n<polygon fill=\"#000000\" stroke=\"#000000\" points=\"1001.1231,-1733.4276 1007.7937,-1725.1962 997.4459,-1727.4712 1001.1231,-1733.4276\"/>\n</g>\n<!-- 139912839390672 -->\n<g id=\"node33\" class=\"node\">\n<title>139912839390672</title>\n<polygon fill=\"#d3d3d3\" stroke=\"#000000\" points=\"1003,-1851.5 848,-1851.5 848,-1832.5 1003,-1832.5 1003,-1851.5\"/>\n<text text-anchor=\"middle\" x=\"925.5\" y=\"-1839.5\" font-family=\"monospace\" font-size=\"10.00\" fill=\"#000000\">NativeBatchNormBackward</text>\n</g>\n<!-- 139912839390672&#45;&gt;139912839391568 -->\n<g id=\"edge31\" class=\"edge\">\n<title>139912839390672&#45;&gt;139912839391568</title>\n<path fill=\"none\" stroke=\"#000000\" d=\"M925.5,-1832.2615C925.5,-1822.7077 925.5,-1807.8615 925.5,-1795.8183\"/>\n<polygon fill=\"#000000\" stroke=\"#000000\" points=\"929.0001,-1795.7784 925.5,-1785.7785 922.0001,-1795.7785 929.0001,-1795.7784\"/>\n</g>\n<!-- 139912839392784 -->\n<g id=\"node34\" class=\"node\">\n<title>139912839392784</title>\n<polygon fill=\"#d3d3d3\" stroke=\"#000000\" points=\"933,-1912 766,-1912 766,-1893 933,-1893 933,-1912\"/>\n<text text-anchor=\"middle\" x=\"849.5\" y=\"-1900\" font-family=\"monospace\" font-size=\"10.00\" fill=\"#000000\">MkldnnConvolutionBackward</text>\n</g>\n<!-- 139912839392784&#45;&gt;139912839390672 -->\n<g id=\"edge32\" class=\"edge\">\n<title>139912839392784&#45;&gt;139912839390672</title>\n<path fill=\"none\" stroke=\"#000000\" d=\"M861.7107,-1892.7796C873.386,-1883.4855 891.2112,-1869.2957 905.0535,-1858.2765\"/>\n<polygon fill=\"#000000\" stroke=\"#000000\" points=\"907.4232,-1860.8637 913.0671,-1851.8972 903.0635,-1855.3871 907.4232,-1860.8637\"/>\n</g>\n<!-- 139912839390608 -->\n<g id=\"node35\" class=\"node\">\n<title>139912839390608</title>\n<polygon fill=\"#d3d3d3\" stroke=\"#000000\" points=\"799,-1972.5 704,-1972.5 704,-1953.5 799,-1953.5 799,-1972.5\"/>\n<text text-anchor=\"middle\" x=\"751.5\" y=\"-1960.5\" font-family=\"monospace\" font-size=\"10.00\" fill=\"#000000\">ReluBackward1</text>\n</g>\n<!-- 139912839390608&#45;&gt;139912839392784 -->\n<g id=\"edge33\" class=\"edge\">\n<title>139912839390608&#45;&gt;139912839392784</title>\n<path fill=\"none\" stroke=\"#000000\" d=\"M767.2454,-1953.2796C782.8187,-1943.6655 806.8773,-1928.813 824.9593,-1917.6501\"/>\n<polygon fill=\"#000000\" stroke=\"#000000\" points=\"827.1231,-1920.4276 833.7937,-1912.1962 823.4459,-1914.4712 827.1231,-1920.4276\"/>\n</g>\n<!-- 139912839392080 -->\n<g id=\"node142\" class=\"node\">\n<title>139912839392080</title>\n<polygon fill=\"#d3d3d3\" stroke=\"#000000\" points=\"719,-1912 552,-1912 552,-1893 719,-1893 719,-1912\"/>\n<text text-anchor=\"middle\" x=\"635.5\" y=\"-1900\" font-family=\"monospace\" font-size=\"10.00\" fill=\"#000000\">MkldnnConvolutionBackward</text>\n</g>\n<!-- 139912839390608&#45;&gt;139912839392080 -->\n<g id=\"edge145\" class=\"edge\">\n<title>139912839390608&#45;&gt;139912839392080</title>\n<path fill=\"none\" stroke=\"#000000\" d=\"M733.1195,-1953.4136C714.1987,-1943.5454 684.5026,-1928.0574 662.8287,-1916.7533\"/>\n<polygon fill=\"#000000\" stroke=\"#000000\" points=\"664.2796,-1913.5627 653.7946,-1912.0416 661.0425,-1919.7693 664.2796,-1913.5627\"/>\n</g>\n<!-- 139912839392848 -->\n<g id=\"node36\" class=\"node\">\n<title>139912839392848</title>\n<polygon fill=\"#d3d3d3\" stroke=\"#000000\" points=\"796,-2038.5 707,-2038.5 707,-2019.5 796,-2019.5 796,-2038.5\"/>\n<text text-anchor=\"middle\" x=\"751.5\" y=\"-2026.5\" font-family=\"monospace\" font-size=\"10.00\" fill=\"#000000\">AddBackward0</text>\n</g>\n<!-- 139912839392848&#45;&gt;139912839390608 -->\n<g id=\"edge34\" class=\"edge\">\n<title>139912839392848&#45;&gt;139912839390608</title>\n<path fill=\"none\" stroke=\"#000000\" d=\"M751.5,-2019.2615C751.5,-2009.7077 751.5,-1994.8615 751.5,-1982.8183\"/>\n<polygon fill=\"#000000\" stroke=\"#000000\" points=\"755.0001,-1982.7784 751.5,-1972.7785 748.0001,-1982.7785 755.0001,-1982.7784\"/>\n</g>\n<!-- 139912839391696 -->\n<g id=\"node37\" class=\"node\">\n<title>139912839391696</title>\n<polygon fill=\"#d3d3d3\" stroke=\"#000000\" points=\"1086,-2099 931,-2099 931,-2080 1086,-2080 1086,-2099\"/>\n<text text-anchor=\"middle\" x=\"1008.5\" y=\"-2087\" font-family=\"monospace\" font-size=\"10.00\" fill=\"#000000\">NativeBatchNormBackward</text>\n</g>\n<!-- 139912839391696&#45;&gt;139912839392848 -->\n<g id=\"edge35\" class=\"edge\">\n<title>139912839391696&#45;&gt;139912839392848</title>\n<path fill=\"none\" stroke=\"#000000\" d=\"M962.1427,-2079.9389C920.68,-2071.2024 858.3255,-2057.6079 804.5,-2044 801.1059,-2043.1419 797.5987,-2042.2225 794.0801,-2041.2768\"/>\n<polygon fill=\"#000000\" stroke=\"#000000\" points=\"794.788,-2037.8418 784.2183,-2038.5714 792.936,-2044.5924 794.788,-2037.8418\"/>\n</g>\n<!-- 139912839392464 -->\n<g id=\"node38\" class=\"node\">\n<title>139912839392464</title>\n<polygon fill=\"#d3d3d3\" stroke=\"#000000\" points=\"1016,-2154 849,-2154 849,-2135 1016,-2135 1016,-2154\"/>\n<text text-anchor=\"middle\" x=\"932.5\" y=\"-2142\" font-family=\"monospace\" font-size=\"10.00\" fill=\"#000000\">MkldnnConvolutionBackward</text>\n</g>\n<!-- 139912839392464&#45;&gt;139912839391696 -->\n<g id=\"edge36\" class=\"edge\">\n<title>139912839392464&#45;&gt;139912839391696</title>\n<path fill=\"none\" stroke=\"#000000\" d=\"M945.7382,-2134.9197C957.1112,-2126.6893 973.7256,-2114.6657 987.0035,-2105.0567\"/>\n<polygon fill=\"#000000\" stroke=\"#000000\" points=\"989.1093,-2107.8532 995.1585,-2099.155 985.0054,-2102.1823 989.1093,-2107.8532\"/>\n</g>\n<!-- 139912839392976 -->\n<g id=\"node39\" class=\"node\">\n<title>139912839392976</title>\n<polygon fill=\"#d3d3d3\" stroke=\"#000000\" points=\"882,-2214.5 787,-2214.5 787,-2195.5 882,-2195.5 882,-2214.5\"/>\n<text text-anchor=\"middle\" x=\"834.5\" y=\"-2202.5\" font-family=\"monospace\" font-size=\"10.00\" fill=\"#000000\">ReluBackward1</text>\n</g>\n<!-- 139912839392976&#45;&gt;139912839392464 -->\n<g id=\"edge37\" class=\"edge\">\n<title>139912839392976&#45;&gt;139912839392464</title>\n<path fill=\"none\" stroke=\"#000000\" d=\"M850.2454,-2195.2796C865.8187,-2185.6655 889.8773,-2170.813 907.9593,-2159.6501\"/>\n<polygon fill=\"#000000\" stroke=\"#000000\" points=\"910.1231,-2162.4276 916.7937,-2154.1962 906.4459,-2156.4712 910.1231,-2162.4276\"/>\n</g>\n<!-- 139912839390416 -->\n<g id=\"node40\" class=\"node\">\n<title>139912839390416</title>\n<polygon fill=\"#d3d3d3\" stroke=\"#000000\" points=\"912,-2280.5 757,-2280.5 757,-2261.5 912,-2261.5 912,-2280.5\"/>\n<text text-anchor=\"middle\" x=\"834.5\" y=\"-2268.5\" font-family=\"monospace\" font-size=\"10.00\" fill=\"#000000\">NativeBatchNormBackward</text>\n</g>\n<!-- 139912839390416&#45;&gt;139912839392976 -->\n<g id=\"edge38\" class=\"edge\">\n<title>139912839390416&#45;&gt;139912839392976</title>\n<path fill=\"none\" stroke=\"#000000\" d=\"M834.5,-2261.2615C834.5,-2251.7077 834.5,-2236.8615 834.5,-2224.8183\"/>\n<polygon fill=\"#000000\" stroke=\"#000000\" points=\"838.0001,-2224.7784 834.5,-2214.7785 831.0001,-2224.7785 838.0001,-2224.7784\"/>\n</g>\n<!-- 139912839389520 -->\n<g id=\"node41\" class=\"node\">\n<title>139912839389520</title>\n<polygon fill=\"#d3d3d3\" stroke=\"#000000\" points=\"842,-2341 675,-2341 675,-2322 842,-2322 842,-2341\"/>\n<text text-anchor=\"middle\" x=\"758.5\" y=\"-2329\" font-family=\"monospace\" font-size=\"10.00\" fill=\"#000000\">MkldnnConvolutionBackward</text>\n</g>\n<!-- 139912839389520&#45;&gt;139912839390416 -->\n<g id=\"edge39\" class=\"edge\">\n<title>139912839389520&#45;&gt;139912839390416</title>\n<path fill=\"none\" stroke=\"#000000\" d=\"M770.7107,-2321.7796C782.386,-2312.4855 800.2112,-2298.2957 814.0535,-2287.2765\"/>\n<polygon fill=\"#000000\" stroke=\"#000000\" points=\"816.4232,-2289.8637 822.0671,-2280.8972 812.0635,-2284.3871 816.4232,-2289.8637\"/>\n</g>\n<!-- 139912839393040 -->\n<g id=\"node42\" class=\"node\">\n<title>139912839393040</title>\n<polygon fill=\"#d3d3d3\" stroke=\"#000000\" points=\"695,-2401.5 600,-2401.5 600,-2382.5 695,-2382.5 695,-2401.5\"/>\n<text text-anchor=\"middle\" x=\"647.5\" y=\"-2389.5\" font-family=\"monospace\" font-size=\"10.00\" fill=\"#000000\">ReluBackward1</text>\n</g>\n<!-- 139912839393040&#45;&gt;139912839392848 -->\n<g id=\"edge130\" class=\"edge\">\n<title>139912839393040&#45;&gt;139912839392848</title>\n<path fill=\"none\" stroke=\"#000000\" d=\"M647.5,-2382.2758C647.5,-2361.7289 647.5,-2312.3837 647.5,-2271 647.5,-2271 647.5,-2271 647.5,-2144.5 647.5,-2098.5749 693.4694,-2062.6631 724.2835,-2043.7495\"/>\n<polygon fill=\"#000000\" stroke=\"#000000\" points=\"726.0794,-2046.7537 732.9069,-2038.6521 722.5173,-2040.7278 726.0794,-2046.7537\"/>\n</g>\n<!-- 139912839393040&#45;&gt;139912839389520 -->\n<g id=\"edge40\" class=\"edge\">\n<title>139912839393040&#45;&gt;139912839389520</title>\n<path fill=\"none\" stroke=\"#000000\" d=\"M665.3341,-2382.2796C683.2968,-2372.4891 711.2265,-2357.2662 731.8244,-2346.0394\"/>\n<polygon fill=\"#000000\" stroke=\"#000000\" points=\"733.6047,-2349.0552 740.7102,-2341.1962 730.2547,-2342.9089 733.6047,-2349.0552\"/>\n</g>\n<!-- 139912839390032 -->\n<g id=\"node43\" class=\"node\">\n<title>139912839390032</title>\n<polygon fill=\"#d3d3d3\" stroke=\"#000000\" points=\"683,-2467.5 594,-2467.5 594,-2448.5 683,-2448.5 683,-2467.5\"/>\n<text text-anchor=\"middle\" x=\"638.5\" y=\"-2455.5\" font-family=\"monospace\" font-size=\"10.00\" fill=\"#000000\">AddBackward0</text>\n</g>\n<!-- 139912839390032&#45;&gt;139912839393040 -->\n<g id=\"edge41\" class=\"edge\">\n<title>139912839390032&#45;&gt;139912839393040</title>\n<path fill=\"none\" stroke=\"#000000\" d=\"M639.828,-2448.2615C641.1308,-2438.7077 643.1552,-2423.8615 644.7975,-2411.8183\"/>\n<polygon fill=\"#000000\" stroke=\"#000000\" points=\"648.2833,-2412.1597 646.1666,-2401.7785 641.3474,-2411.2139 648.2833,-2412.1597\"/>\n</g>\n<!-- 139912839391376 -->\n<g id=\"node44\" class=\"node\">\n<title>139912839391376</title>\n<polygon fill=\"#d3d3d3\" stroke=\"#000000\" points=\"986,-2528 831,-2528 831,-2509 986,-2509 986,-2528\"/>\n<text text-anchor=\"middle\" x=\"908.5\" y=\"-2516\" font-family=\"monospace\" font-size=\"10.00\" fill=\"#000000\">NativeBatchNormBackward</text>\n</g>\n<!-- 139912839391376&#45;&gt;139912839390032 -->\n<g id=\"edge42\" class=\"edge\">\n<title>139912839391376&#45;&gt;139912839390032</title>\n<path fill=\"none\" stroke=\"#000000\" d=\"M858.288,-2508.9944C814.163,-2500.3981 748.3148,-2486.9785 691.5,-2473 687.9482,-2472.1261 684.2745,-2471.1785 680.5947,-2470.1987\"/>\n<polygon fill=\"#000000\" stroke=\"#000000\" points=\"681.488,-2466.8146 670.9193,-2467.5585 679.6452,-2473.5677 681.488,-2466.8146\"/>\n</g>\n<!-- 139912839390800 -->\n<g id=\"node45\" class=\"node\">\n<title>139912839390800</title>\n<polygon fill=\"#d3d3d3\" stroke=\"#000000\" points=\"916,-2583 749,-2583 749,-2564 916,-2564 916,-2583\"/>\n<text text-anchor=\"middle\" x=\"832.5\" y=\"-2571\" font-family=\"monospace\" font-size=\"10.00\" fill=\"#000000\">MkldnnConvolutionBackward</text>\n</g>\n<!-- 139912839390800&#45;&gt;139912839391376 -->\n<g id=\"edge43\" class=\"edge\">\n<title>139912839390800&#45;&gt;139912839391376</title>\n<path fill=\"none\" stroke=\"#000000\" d=\"M845.7382,-2563.9197C857.1112,-2555.6893 873.7256,-2543.6657 887.0035,-2534.0567\"/>\n<polygon fill=\"#000000\" stroke=\"#000000\" points=\"889.1093,-2536.8532 895.1585,-2528.155 885.0054,-2531.1823 889.1093,-2536.8532\"/>\n</g>\n<!-- 139912839392400 -->\n<g id=\"node46\" class=\"node\">\n<title>139912839392400</title>\n<polygon fill=\"#d3d3d3\" stroke=\"#000000\" points=\"782,-2643.5 687,-2643.5 687,-2624.5 782,-2624.5 782,-2643.5\"/>\n<text text-anchor=\"middle\" x=\"734.5\" y=\"-2631.5\" font-family=\"monospace\" font-size=\"10.00\" fill=\"#000000\">ReluBackward1</text>\n</g>\n<!-- 139912839392400&#45;&gt;139912839390800 -->\n<g id=\"edge44\" class=\"edge\">\n<title>139912839392400&#45;&gt;139912839390800</title>\n<path fill=\"none\" stroke=\"#000000\" d=\"M750.2454,-2624.2796C765.8187,-2614.6655 789.8773,-2599.813 807.9593,-2588.6501\"/>\n<polygon fill=\"#000000\" stroke=\"#000000\" points=\"810.1231,-2591.4276 816.7937,-2583.1962 806.4459,-2585.4712 810.1231,-2591.4276\"/>\n</g>\n<!-- 139912839393232 -->\n<g id=\"node47\" class=\"node\">\n<title>139912839393232</title>\n<polygon fill=\"#d3d3d3\" stroke=\"#000000\" points=\"812,-2709.5 657,-2709.5 657,-2690.5 812,-2690.5 812,-2709.5\"/>\n<text text-anchor=\"middle\" x=\"734.5\" y=\"-2697.5\" font-family=\"monospace\" font-size=\"10.00\" fill=\"#000000\">NativeBatchNormBackward</text>\n</g>\n<!-- 139912839393232&#45;&gt;139912839392400 -->\n<g id=\"edge45\" class=\"edge\">\n<title>139912839393232&#45;&gt;139912839392400</title>\n<path fill=\"none\" stroke=\"#000000\" d=\"M734.5,-2690.2615C734.5,-2680.7077 734.5,-2665.8615 734.5,-2653.8183\"/>\n<polygon fill=\"#000000\" stroke=\"#000000\" points=\"738.0001,-2653.7784 734.5,-2643.7785 731.0001,-2653.7785 738.0001,-2653.7784\"/>\n</g>\n<!-- 139912839391120 -->\n<g id=\"node48\" class=\"node\">\n<title>139912839391120</title>\n<polygon fill=\"#d3d3d3\" stroke=\"#000000\" points=\"742,-2770 575,-2770 575,-2751 742,-2751 742,-2770\"/>\n<text text-anchor=\"middle\" x=\"658.5\" y=\"-2758\" font-family=\"monospace\" font-size=\"10.00\" fill=\"#000000\">MkldnnConvolutionBackward</text>\n</g>\n<!-- 139912839391120&#45;&gt;139912839393232 -->\n<g id=\"edge46\" class=\"edge\">\n<title>139912839391120&#45;&gt;139912839393232</title>\n<path fill=\"none\" stroke=\"#000000\" d=\"M670.7107,-2750.7796C682.386,-2741.4855 700.2112,-2727.2957 714.0535,-2716.2765\"/>\n<polygon fill=\"#000000\" stroke=\"#000000\" points=\"716.4232,-2718.8637 722.0671,-2709.8972 712.0635,-2713.3871 716.4232,-2718.8637\"/>\n</g>\n<!-- 139912839024720 -->\n<g id=\"node49\" class=\"node\">\n<title>139912839024720</title>\n<polygon fill=\"#d3d3d3\" stroke=\"#000000\" points=\"608,-2830.5 513,-2830.5 513,-2811.5 608,-2811.5 608,-2830.5\"/>\n<text text-anchor=\"middle\" x=\"560.5\" y=\"-2818.5\" font-family=\"monospace\" font-size=\"10.00\" fill=\"#000000\">ReluBackward1</text>\n</g>\n<!-- 139912839024720&#45;&gt;139912839391120 -->\n<g id=\"edge47\" class=\"edge\">\n<title>139912839024720&#45;&gt;139912839391120</title>\n<path fill=\"none\" stroke=\"#000000\" d=\"M576.2454,-2811.2796C591.8187,-2801.6655 615.8773,-2786.813 633.9593,-2775.6501\"/>\n<polygon fill=\"#000000\" stroke=\"#000000\" points=\"636.1231,-2778.4276 642.7937,-2770.1962 632.4459,-2772.4712 636.1231,-2778.4276\"/>\n</g>\n<!-- 139912839390928 -->\n<g id=\"node110\" class=\"node\">\n<title>139912839390928</title>\n<polygon fill=\"#d3d3d3\" stroke=\"#000000\" points=\"528,-2770 361,-2770 361,-2751 528,-2751 528,-2770\"/>\n<text text-anchor=\"middle\" x=\"444.5\" y=\"-2758\" font-family=\"monospace\" font-size=\"10.00\" fill=\"#000000\">MkldnnConvolutionBackward</text>\n</g>\n<!-- 139912839024720&#45;&gt;139912839390928 -->\n<g id=\"edge111\" class=\"edge\">\n<title>139912839024720&#45;&gt;139912839390928</title>\n<path fill=\"none\" stroke=\"#000000\" d=\"M542.1195,-2811.4136C523.1987,-2801.5454 493.5026,-2786.0574 471.8287,-2774.7533\"/>\n<polygon fill=\"#000000\" stroke=\"#000000\" points=\"473.2796,-2771.5627 462.7946,-2770.0416 470.0425,-2777.7693 473.2796,-2771.5627\"/>\n</g>\n<!-- 139912839025040 -->\n<g id=\"node50\" class=\"node\">\n<title>139912839025040</title>\n<polygon fill=\"#d3d3d3\" stroke=\"#000000\" points=\"605,-2896.5 516,-2896.5 516,-2877.5 605,-2877.5 605,-2896.5\"/>\n<text text-anchor=\"middle\" x=\"560.5\" y=\"-2884.5\" font-family=\"monospace\" font-size=\"10.00\" fill=\"#000000\">AddBackward0</text>\n</g>\n<!-- 139912839025040&#45;&gt;139912839024720 -->\n<g id=\"edge48\" class=\"edge\">\n<title>139912839025040&#45;&gt;139912839024720</title>\n<path fill=\"none\" stroke=\"#000000\" d=\"M560.5,-2877.2615C560.5,-2867.7077 560.5,-2852.8615 560.5,-2840.8183\"/>\n<polygon fill=\"#000000\" stroke=\"#000000\" points=\"564.0001,-2840.7784 560.5,-2830.7785 557.0001,-2840.7785 564.0001,-2840.7784\"/>\n</g>\n<!-- 139912839024784 -->\n<g id=\"node51\" class=\"node\">\n<title>139912839024784</title>\n<polygon fill=\"#d3d3d3\" stroke=\"#000000\" points=\"895,-2957 740,-2957 740,-2938 895,-2938 895,-2957\"/>\n<text text-anchor=\"middle\" x=\"817.5\" y=\"-2945\" font-family=\"monospace\" font-size=\"10.00\" fill=\"#000000\">NativeBatchNormBackward</text>\n</g>\n<!-- 139912839024784&#45;&gt;139912839025040 -->\n<g id=\"edge49\" class=\"edge\">\n<title>139912839024784&#45;&gt;139912839025040</title>\n<path fill=\"none\" stroke=\"#000000\" d=\"M771.1427,-2937.9389C729.68,-2929.2024 667.3255,-2915.6079 613.5,-2902 610.1059,-2901.1419 606.5987,-2900.2225 603.0801,-2899.2768\"/>\n<polygon fill=\"#000000\" stroke=\"#000000\" points=\"603.788,-2895.8418 593.2183,-2896.5714 601.936,-2902.5924 603.788,-2895.8418\"/>\n</g>\n<!-- 139912839024848 -->\n<g id=\"node52\" class=\"node\">\n<title>139912839024848</title>\n<polygon fill=\"#d3d3d3\" stroke=\"#000000\" points=\"825,-3012 658,-3012 658,-2993 825,-2993 825,-3012\"/>\n<text text-anchor=\"middle\" x=\"741.5\" y=\"-3000\" font-family=\"monospace\" font-size=\"10.00\" fill=\"#000000\">MkldnnConvolutionBackward</text>\n</g>\n<!-- 139912839024848&#45;&gt;139912839024784 -->\n<g id=\"edge50\" class=\"edge\">\n<title>139912839024848&#45;&gt;139912839024784</title>\n<path fill=\"none\" stroke=\"#000000\" d=\"M754.7382,-2992.9197C766.1112,-2984.6893 782.7256,-2972.6657 796.0035,-2963.0567\"/>\n<polygon fill=\"#000000\" stroke=\"#000000\" points=\"798.1093,-2965.8532 804.1585,-2957.155 794.0054,-2960.1823 798.1093,-2965.8532\"/>\n</g>\n<!-- 139912839025552 -->\n<g id=\"node53\" class=\"node\">\n<title>139912839025552</title>\n<polygon fill=\"#d3d3d3\" stroke=\"#000000\" points=\"691,-3072.5 596,-3072.5 596,-3053.5 691,-3053.5 691,-3072.5\"/>\n<text text-anchor=\"middle\" x=\"643.5\" y=\"-3060.5\" font-family=\"monospace\" font-size=\"10.00\" fill=\"#000000\">ReluBackward1</text>\n</g>\n<!-- 139912839025552&#45;&gt;139912839024848 -->\n<g id=\"edge51\" class=\"edge\">\n<title>139912839025552&#45;&gt;139912839024848</title>\n<path fill=\"none\" stroke=\"#000000\" d=\"M659.2454,-3053.2796C674.8187,-3043.6655 698.8773,-3028.813 716.9593,-3017.6501\"/>\n<polygon fill=\"#000000\" stroke=\"#000000\" points=\"719.1231,-3020.4276 725.7937,-3012.1962 715.4459,-3014.4712 719.1231,-3020.4276\"/>\n</g>\n<!-- 139912839025616 -->\n<g id=\"node54\" class=\"node\">\n<title>139912839025616</title>\n<polygon fill=\"#d3d3d3\" stroke=\"#000000\" points=\"721,-3138.5 566,-3138.5 566,-3119.5 721,-3119.5 721,-3138.5\"/>\n<text text-anchor=\"middle\" x=\"643.5\" y=\"-3126.5\" font-family=\"monospace\" font-size=\"10.00\" fill=\"#000000\">NativeBatchNormBackward</text>\n</g>\n<!-- 139912839025616&#45;&gt;139912839025552 -->\n<g id=\"edge52\" class=\"edge\">\n<title>139912839025616&#45;&gt;139912839025552</title>\n<path fill=\"none\" stroke=\"#000000\" d=\"M643.5,-3119.2615C643.5,-3109.7077 643.5,-3094.8615 643.5,-3082.8183\"/>\n<polygon fill=\"#000000\" stroke=\"#000000\" points=\"647.0001,-3082.7784 643.5,-3072.7785 640.0001,-3082.7785 647.0001,-3082.7784\"/>\n</g>\n<!-- 139912839025936 -->\n<g id=\"node55\" class=\"node\">\n<title>139912839025936</title>\n<polygon fill=\"#d3d3d3\" stroke=\"#000000\" points=\"651,-3199 484,-3199 484,-3180 651,-3180 651,-3199\"/>\n<text text-anchor=\"middle\" x=\"567.5\" y=\"-3187\" font-family=\"monospace\" font-size=\"10.00\" fill=\"#000000\">MkldnnConvolutionBackward</text>\n</g>\n<!-- 139912839025936&#45;&gt;139912839025616 -->\n<g id=\"edge53\" class=\"edge\">\n<title>139912839025936&#45;&gt;139912839025616</title>\n<path fill=\"none\" stroke=\"#000000\" d=\"M579.7107,-3179.7796C591.386,-3170.4855 609.2112,-3156.2957 623.0535,-3145.2765\"/>\n<polygon fill=\"#000000\" stroke=\"#000000\" points=\"625.4232,-3147.8637 631.0671,-3138.8972 621.0635,-3142.3871 625.4232,-3147.8637\"/>\n</g>\n<!-- 139912839025360 -->\n<g id=\"node56\" class=\"node\">\n<title>139912839025360</title>\n<polygon fill=\"#d3d3d3\" stroke=\"#000000\" points=\"504,-3259.5 409,-3259.5 409,-3240.5 504,-3240.5 504,-3259.5\"/>\n<text text-anchor=\"middle\" x=\"456.5\" y=\"-3247.5\" font-family=\"monospace\" font-size=\"10.00\" fill=\"#000000\">ReluBackward1</text>\n</g>\n<!-- 139912839025360&#45;&gt;139912839025040 -->\n<g id=\"edge96\" class=\"edge\">\n<title>139912839025360&#45;&gt;139912839025040</title>\n<path fill=\"none\" stroke=\"#000000\" d=\"M456.5,-3240.2758C456.5,-3219.7289 456.5,-3170.3837 456.5,-3129 456.5,-3129 456.5,-3129 456.5,-3002.5 456.5,-2956.5749 502.4694,-2920.6631 533.2835,-2901.7495\"/>\n<polygon fill=\"#000000\" stroke=\"#000000\" points=\"535.0794,-2904.7537 541.9069,-2896.6521 531.5173,-2898.7278 535.0794,-2904.7537\"/>\n</g>\n<!-- 139912839025360&#45;&gt;139912839025936 -->\n<g id=\"edge54\" class=\"edge\">\n<title>139912839025360&#45;&gt;139912839025936</title>\n<path fill=\"none\" stroke=\"#000000\" d=\"M474.3341,-3240.2796C492.2968,-3230.4891 520.2265,-3215.2662 540.8244,-3204.0394\"/>\n<polygon fill=\"#000000\" stroke=\"#000000\" points=\"542.6047,-3207.0552 549.7102,-3199.1962 539.2547,-3200.9089 542.6047,-3207.0552\"/>\n</g>\n<!-- 139912839026256 -->\n<g id=\"node57\" class=\"node\">\n<title>139912839026256</title>\n<polygon fill=\"#d3d3d3\" stroke=\"#000000\" points=\"492,-3325.5 403,-3325.5 403,-3306.5 492,-3306.5 492,-3325.5\"/>\n<text text-anchor=\"middle\" x=\"447.5\" y=\"-3313.5\" font-family=\"monospace\" font-size=\"10.00\" fill=\"#000000\">AddBackward0</text>\n</g>\n<!-- 139912839026256&#45;&gt;139912839025360 -->\n<g id=\"edge55\" class=\"edge\">\n<title>139912839026256&#45;&gt;139912839025360</title>\n<path fill=\"none\" stroke=\"#000000\" d=\"M448.828,-3306.2615C450.1308,-3296.7077 452.1552,-3281.8615 453.7975,-3269.8183\"/>\n<polygon fill=\"#000000\" stroke=\"#000000\" points=\"457.2833,-3270.1597 455.1666,-3259.7785 450.3474,-3269.2139 457.2833,-3270.1597\"/>\n</g>\n<!-- 139912839026448 -->\n<g id=\"node58\" class=\"node\">\n<title>139912839026448</title>\n<polygon fill=\"#d3d3d3\" stroke=\"#000000\" points=\"798,-3386 643,-3386 643,-3367 798,-3367 798,-3386\"/>\n<text text-anchor=\"middle\" x=\"720.5\" y=\"-3374\" font-family=\"monospace\" font-size=\"10.00\" fill=\"#000000\">NativeBatchNormBackward</text>\n</g>\n<!-- 139912839026448&#45;&gt;139912839026256 -->\n<g id=\"edge56\" class=\"edge\">\n<title>139912839026448&#45;&gt;139912839026256</title>\n<path fill=\"none\" stroke=\"#000000\" d=\"M669.1449,-3366.9624C624.4087,-3358.3962 557.8973,-3345.0384 500.5,-3331 496.947,-3330.131 493.2725,-3329.1868 489.5921,-3328.2093\"/>\n<polygon fill=\"#000000\" stroke=\"#000000\" points=\"490.4843,-3324.8248 479.9158,-3325.5727 488.6439,-3331.5786 490.4843,-3324.8248\"/>\n</g>\n<!-- 139912839026192 -->\n<g id=\"node59\" class=\"node\">\n<title>139912839026192</title>\n<polygon fill=\"#d3d3d3\" stroke=\"#000000\" points=\"728,-3441 561,-3441 561,-3422 728,-3422 728,-3441\"/>\n<text text-anchor=\"middle\" x=\"644.5\" y=\"-3429\" font-family=\"monospace\" font-size=\"10.00\" fill=\"#000000\">MkldnnConvolutionBackward</text>\n</g>\n<!-- 139912839026192&#45;&gt;139912839026448 -->\n<g id=\"edge57\" class=\"edge\">\n<title>139912839026192&#45;&gt;139912839026448</title>\n<path fill=\"none\" stroke=\"#000000\" d=\"M657.7382,-3421.9197C669.1112,-3413.6893 685.7256,-3401.6657 699.0035,-3392.0567\"/>\n<polygon fill=\"#000000\" stroke=\"#000000\" points=\"701.1093,-3394.8532 707.1585,-3386.155 697.0054,-3389.1823 701.1093,-3394.8532\"/>\n</g>\n<!-- 139912839026832 -->\n<g id=\"node60\" class=\"node\">\n<title>139912839026832</title>\n<polygon fill=\"#d3d3d3\" stroke=\"#000000\" points=\"594,-3501.5 499,-3501.5 499,-3482.5 594,-3482.5 594,-3501.5\"/>\n<text text-anchor=\"middle\" x=\"546.5\" y=\"-3489.5\" font-family=\"monospace\" font-size=\"10.00\" fill=\"#000000\">ReluBackward1</text>\n</g>\n<!-- 139912839026832&#45;&gt;139912839026192 -->\n<g id=\"edge58\" class=\"edge\">\n<title>139912839026832&#45;&gt;139912839026192</title>\n<path fill=\"none\" stroke=\"#000000\" d=\"M562.2454,-3482.2796C577.8187,-3472.6655 601.8773,-3457.813 619.9593,-3446.6501\"/>\n<polygon fill=\"#000000\" stroke=\"#000000\" points=\"622.1231,-3449.4276 628.7937,-3441.1962 618.4459,-3443.4712 622.1231,-3449.4276\"/>\n</g>\n<!-- 139912839026896 -->\n<g id=\"node61\" class=\"node\">\n<title>139912839026896</title>\n<polygon fill=\"#d3d3d3\" stroke=\"#000000\" points=\"624,-3567.5 469,-3567.5 469,-3548.5 624,-3548.5 624,-3567.5\"/>\n<text text-anchor=\"middle\" x=\"546.5\" y=\"-3555.5\" font-family=\"monospace\" font-size=\"10.00\" fill=\"#000000\">NativeBatchNormBackward</text>\n</g>\n<!-- 139912839026896&#45;&gt;139912839026832 -->\n<g id=\"edge59\" class=\"edge\">\n<title>139912839026896&#45;&gt;139912839026832</title>\n<path fill=\"none\" stroke=\"#000000\" d=\"M546.5,-3548.2615C546.5,-3538.7077 546.5,-3523.8615 546.5,-3511.8183\"/>\n<polygon fill=\"#000000\" stroke=\"#000000\" points=\"550.0001,-3511.7784 546.5,-3501.7785 543.0001,-3511.7785 550.0001,-3511.7784\"/>\n</g>\n<!-- 139912839027216 -->\n<g id=\"node62\" class=\"node\">\n<title>139912839027216</title>\n<polygon fill=\"#d3d3d3\" stroke=\"#000000\" points=\"554,-3628 387,-3628 387,-3609 554,-3609 554,-3628\"/>\n<text text-anchor=\"middle\" x=\"470.5\" y=\"-3616\" font-family=\"monospace\" font-size=\"10.00\" fill=\"#000000\">MkldnnConvolutionBackward</text>\n</g>\n<!-- 139912839027216&#45;&gt;139912839026896 -->\n<g id=\"edge60\" class=\"edge\">\n<title>139912839027216&#45;&gt;139912839026896</title>\n<path fill=\"none\" stroke=\"#000000\" d=\"M482.7107,-3608.7796C494.386,-3599.4855 512.2112,-3585.2957 526.0535,-3574.2765\"/>\n<polygon fill=\"#000000\" stroke=\"#000000\" points=\"528.4232,-3576.8637 534.0671,-3567.8972 524.0635,-3571.3871 528.4232,-3576.8637\"/>\n</g>\n<!-- 139912839026640 -->\n<g id=\"node63\" class=\"node\">\n<title>139912839026640</title>\n<polygon fill=\"#d3d3d3\" stroke=\"#000000\" points=\"420,-3688.5 235,-3688.5 235,-3669.5 420,-3669.5 420,-3688.5\"/>\n<text text-anchor=\"middle\" x=\"327.5\" y=\"-3676.5\" font-family=\"monospace\" font-size=\"10.00\" fill=\"#000000\">MaxPool2DWithIndicesBackward</text>\n</g>\n<!-- 139912839026640&#45;&gt;139912839026256 -->\n<g id=\"edge83\" class=\"edge\">\n<title>139912839026640&#45;&gt;139912839026256</title>\n<path fill=\"none\" stroke=\"#000000\" d=\"M329.6578,-3669.3332C334.0251,-3648.8949 343.5,-3599.7439 343.5,-3558 343.5,-3558 343.5,-3558 343.5,-3431.5 343.5,-3385.5749 389.4694,-3349.6631 420.2835,-3330.7495\"/>\n<polygon fill=\"#000000\" stroke=\"#000000\" points=\"422.0794,-3333.7537 428.9069,-3325.6521 418.5173,-3327.7278 422.0794,-3333.7537\"/>\n</g>\n<!-- 139912839026640&#45;&gt;139912839027216 -->\n<g id=\"edge61\" class=\"edge\">\n<title>139912839026640&#45;&gt;139912839027216</title>\n<path fill=\"none\" stroke=\"#000000\" d=\"M350.1588,-3669.4136C374.0065,-3659.3242 411.7399,-3643.3601 438.5924,-3631.9994\"/>\n<polygon fill=\"#000000\" stroke=\"#000000\" points=\"440.1013,-3635.1614 447.9472,-3628.0416 437.3738,-3628.7146 440.1013,-3635.1614\"/>\n</g>\n<!-- 139912839027536 -->\n<g id=\"node64\" class=\"node\">\n<title>139912839027536</title>\n<polygon fill=\"#d3d3d3\" stroke=\"#000000\" points=\"375,-3754.5 280,-3754.5 280,-3735.5 375,-3735.5 375,-3754.5\"/>\n<text text-anchor=\"middle\" x=\"327.5\" y=\"-3742.5\" font-family=\"monospace\" font-size=\"10.00\" fill=\"#000000\">ReluBackward1</text>\n</g>\n<!-- 139912839027536&#45;&gt;139912839026640 -->\n<g id=\"edge62\" class=\"edge\">\n<title>139912839027536&#45;&gt;139912839026640</title>\n<path fill=\"none\" stroke=\"#000000\" d=\"M327.5,-3735.2615C327.5,-3725.7077 327.5,-3710.8615 327.5,-3698.8183\"/>\n<polygon fill=\"#000000\" stroke=\"#000000\" points=\"331.0001,-3698.7784 327.5,-3688.7785 324.0001,-3698.7785 331.0001,-3698.7784\"/>\n</g>\n<!-- 139912839027664 -->\n<g id=\"node65\" class=\"node\">\n<title>139912839027664</title>\n<polygon fill=\"#d3d3d3\" stroke=\"#000000\" points=\"405,-3815 250,-3815 250,-3796 405,-3796 405,-3815\"/>\n<text text-anchor=\"middle\" x=\"327.5\" y=\"-3803\" font-family=\"monospace\" font-size=\"10.00\" fill=\"#000000\">NativeBatchNormBackward</text>\n</g>\n<!-- 139912839027664&#45;&gt;139912839027536 -->\n<g id=\"edge63\" class=\"edge\">\n<title>139912839027664&#45;&gt;139912839027536</title>\n<path fill=\"none\" stroke=\"#000000\" d=\"M327.5,-3795.7796C327.5,-3787.5376 327.5,-3775.4457 327.5,-3765.129\"/>\n<polygon fill=\"#000000\" stroke=\"#000000\" points=\"331.0001,-3764.8972 327.5,-3754.8972 324.0001,-3764.8973 331.0001,-3764.8972\"/>\n</g>\n<!-- 139912839027856 -->\n<g id=\"node66\" class=\"node\">\n<title>139912839027856</title>\n<polygon fill=\"#d3d3d3\" stroke=\"#000000\" points=\"259,-3870 92,-3870 92,-3851 259,-3851 259,-3870\"/>\n<text text-anchor=\"middle\" x=\"175.5\" y=\"-3858\" font-family=\"monospace\" font-size=\"10.00\" fill=\"#000000\">MkldnnConvolutionBackward</text>\n</g>\n<!-- 139912839027856&#45;&gt;139912839027664 -->\n<g id=\"edge64\" class=\"edge\">\n<title>139912839027856&#45;&gt;139912839027664</title>\n<path fill=\"none\" stroke=\"#000000\" d=\"M201.9764,-3850.9197C226.7478,-3841.9564 263.9519,-3828.4944 291.43,-3818.5516\"/>\n<polygon fill=\"#000000\" stroke=\"#000000\" points=\"292.86,-3821.7564 301.0725,-3815.0626 290.4782,-3815.174 292.86,-3821.7564\"/>\n</g>\n<!-- 139912839028048 -->\n<g id=\"node67\" class=\"node\">\n<title>139912839028048</title>\n<polygon fill=\"#d3d3d3\" stroke=\"#000000\" points=\"226,-3930.5 125,-3930.5 125,-3911.5 226,-3911.5 226,-3930.5\"/>\n<text text-anchor=\"middle\" x=\"175.5\" y=\"-3918.5\" font-family=\"monospace\" font-size=\"10.00\" fill=\"#000000\">AccumulateGrad</text>\n</g>\n<!-- 139912839028048&#45;&gt;139912839027856 -->\n<g id=\"edge65\" class=\"edge\">\n<title>139912839028048&#45;&gt;139912839027856</title>\n<path fill=\"none\" stroke=\"#000000\" d=\"M175.5,-3911.2796C175.5,-3903.0376 175.5,-3890.9457 175.5,-3880.629\"/>\n<polygon fill=\"#000000\" stroke=\"#000000\" points=\"179.0001,-3880.3972 175.5,-3870.3972 172.0001,-3880.3973 179.0001,-3880.3972\"/>\n</g>\n<!-- 139912874280512 -->\n<g id=\"node68\" class=\"node\">\n<title>139912874280512</title>\n<polygon fill=\"#add8e6\" stroke=\"#000000\" points=\"226,-4002 125,-4002 125,-3972 226,-3972 226,-4002\"/>\n<text text-anchor=\"middle\" x=\"175.5\" y=\"-3990\" font-family=\"monospace\" font-size=\"10.00\" fill=\"#000000\">conv1.weight</text>\n<text text-anchor=\"middle\" x=\"175.5\" y=\"-3979\" font-family=\"monospace\" font-size=\"10.00\" fill=\"#000000\"> (64, 3, 7, 7)</text>\n</g>\n<!-- 139912874280512&#45;&gt;139912839028048 -->\n<g id=\"edge66\" class=\"edge\">\n<title>139912874280512&#45;&gt;139912839028048</title>\n<path fill=\"none\" stroke=\"#000000\" d=\"M175.5,-3971.6924C175.5,-3962.5067 175.5,-3950.7245 175.5,-3940.8312\"/>\n<polygon fill=\"#000000\" stroke=\"#000000\" points=\"179.0001,-3940.703 175.5,-3930.7031 172.0001,-3940.7031 179.0001,-3940.703\"/>\n</g>\n<!-- 139912839027984 -->\n<g id=\"node69\" class=\"node\">\n<title>139912839027984</title>\n<polygon fill=\"#d3d3d3\" stroke=\"#000000\" points=\"378,-3870 277,-3870 277,-3851 378,-3851 378,-3870\"/>\n<text text-anchor=\"middle\" x=\"327.5\" y=\"-3858\" font-family=\"monospace\" font-size=\"10.00\" fill=\"#000000\">AccumulateGrad</text>\n</g>\n<!-- 139912839027984&#45;&gt;139912839027664 -->\n<g id=\"edge67\" class=\"edge\">\n<title>139912839027984&#45;&gt;139912839027664</title>\n<path fill=\"none\" stroke=\"#000000\" d=\"M327.5,-3850.9197C327.5,-3843.9083 327.5,-3834.1442 327.5,-3825.4652\"/>\n<polygon fill=\"#000000\" stroke=\"#000000\" points=\"331.0001,-3825.3408 327.5,-3815.3408 324.0001,-3825.3409 331.0001,-3825.3408\"/>\n</g>\n<!-- 139912874281952 -->\n<g id=\"node70\" class=\"node\">\n<title>139912874281952</title>\n<polygon fill=\"#add8e6\" stroke=\"#000000\" points=\"366,-3936 289,-3936 289,-3906 366,-3906 366,-3936\"/>\n<text text-anchor=\"middle\" x=\"327.5\" y=\"-3924\" font-family=\"monospace\" font-size=\"10.00\" fill=\"#000000\">bn1.weight</text>\n<text text-anchor=\"middle\" x=\"327.5\" y=\"-3913\" font-family=\"monospace\" font-size=\"10.00\" fill=\"#000000\"> (64)</text>\n</g>\n<!-- 139912874281952&#45;&gt;139912839027984 -->\n<g id=\"edge68\" class=\"edge\">\n<title>139912874281952&#45;&gt;139912839027984</title>\n<path fill=\"none\" stroke=\"#000000\" d=\"M327.5,-3905.7333C327.5,-3898.0322 327.5,-3888.5977 327.5,-3880.3414\"/>\n<polygon fill=\"#000000\" stroke=\"#000000\" points=\"331.0001,-3880.0864 327.5,-3870.0864 324.0001,-3880.0864 331.0001,-3880.0864\"/>\n</g>\n<!-- 139912839027472 -->\n<g id=\"node71\" class=\"node\">\n<title>139912839027472</title>\n<polygon fill=\"#d3d3d3\" stroke=\"#000000\" points=\"497,-3870 396,-3870 396,-3851 497,-3851 497,-3870\"/>\n<text text-anchor=\"middle\" x=\"446.5\" y=\"-3858\" font-family=\"monospace\" font-size=\"10.00\" fill=\"#000000\">AccumulateGrad</text>\n</g>\n<!-- 139912839027472&#45;&gt;139912839027664 -->\n<g id=\"edge69\" class=\"edge\">\n<title>139912839027472&#45;&gt;139912839027664</title>\n<path fill=\"none\" stroke=\"#000000\" d=\"M425.7718,-3850.9197C406.9465,-3842.219 378.9495,-3829.2792 357.6487,-3819.4343\"/>\n<polygon fill=\"#000000\" stroke=\"#000000\" points=\"358.9357,-3816.1734 348.39,-3815.155 355.9989,-3822.5276 358.9357,-3816.1734\"/>\n</g>\n<!-- 139912874279712 -->\n<g id=\"node72\" class=\"node\">\n<title>139912874279712</title>\n<polygon fill=\"#add8e6\" stroke=\"#000000\" points=\"479,-3936 414,-3936 414,-3906 479,-3906 479,-3936\"/>\n<text text-anchor=\"middle\" x=\"446.5\" y=\"-3924\" font-family=\"monospace\" font-size=\"10.00\" fill=\"#000000\">bn1.bias</text>\n<text text-anchor=\"middle\" x=\"446.5\" y=\"-3913\" font-family=\"monospace\" font-size=\"10.00\" fill=\"#000000\"> (64)</text>\n</g>\n<!-- 139912874279712&#45;&gt;139912839027472 -->\n<g id=\"edge70\" class=\"edge\">\n<title>139912874279712&#45;&gt;139912839027472</title>\n<path fill=\"none\" stroke=\"#000000\" d=\"M446.5,-3905.7333C446.5,-3898.0322 446.5,-3888.5977 446.5,-3880.3414\"/>\n<polygon fill=\"#000000\" stroke=\"#000000\" points=\"450.0001,-3880.0864 446.5,-3870.0864 443.0001,-3880.0864 450.0001,-3880.0864\"/>\n</g>\n<!-- 139912839027408 -->\n<g id=\"node73\" class=\"node\">\n<title>139912839027408</title>\n<polygon fill=\"#d3d3d3\" stroke=\"#000000\" points=\"539,-3688.5 438,-3688.5 438,-3669.5 539,-3669.5 539,-3688.5\"/>\n<text text-anchor=\"middle\" x=\"488.5\" y=\"-3676.5\" font-family=\"monospace\" font-size=\"10.00\" fill=\"#000000\">AccumulateGrad</text>\n</g>\n<!-- 139912839027408&#45;&gt;139912839027216 -->\n<g id=\"edge71\" class=\"edge\">\n<title>139912839027408&#45;&gt;139912839027216</title>\n<path fill=\"none\" stroke=\"#000000\" d=\"M485.608,-3669.2796C483.1297,-3660.9499 479.4816,-3648.688 476.391,-3638.3004\"/>\n<polygon fill=\"#000000\" stroke=\"#000000\" points=\"479.651,-3636.9839 473.4446,-3628.3972 472.9417,-3638.9801 479.651,-3636.9839\"/>\n</g>\n<!-- 139912874279632 -->\n<g id=\"node74\" class=\"node\">\n<title>139912874279632</title>\n<polygon fill=\"#add8e6\" stroke=\"#000000\" points=\"560,-3760 417,-3760 417,-3730 560,-3730 560,-3760\"/>\n<text text-anchor=\"middle\" x=\"488.5\" y=\"-3748\" font-family=\"monospace\" font-size=\"10.00\" fill=\"#000000\">layer1.0.conv1.weight</text>\n<text text-anchor=\"middle\" x=\"488.5\" y=\"-3737\" font-family=\"monospace\" font-size=\"10.00\" fill=\"#000000\"> (64, 64, 3, 3)</text>\n</g>\n<!-- 139912874279632&#45;&gt;139912839027408 -->\n<g id=\"edge72\" class=\"edge\">\n<title>139912874279632&#45;&gt;139912839027408</title>\n<path fill=\"none\" stroke=\"#000000\" d=\"M488.5,-3729.6924C488.5,-3720.5067 488.5,-3708.7245 488.5,-3698.8312\"/>\n<polygon fill=\"#000000\" stroke=\"#000000\" points=\"492.0001,-3698.703 488.5,-3688.7031 485.0001,-3698.7031 492.0001,-3698.703\"/>\n</g>\n<!-- 139912839027344 -->\n<g id=\"node75\" class=\"node\">\n<title>139912839027344</title>\n<polygon fill=\"#d3d3d3\" stroke=\"#000000\" points=\"673,-3628 572,-3628 572,-3609 673,-3609 673,-3628\"/>\n<text text-anchor=\"middle\" x=\"622.5\" y=\"-3616\" font-family=\"monospace\" font-size=\"10.00\" fill=\"#000000\">AccumulateGrad</text>\n</g>\n<!-- 139912839027344&#45;&gt;139912839026896 -->\n<g id=\"edge73\" class=\"edge\">\n<title>139912839027344&#45;&gt;139912839026896</title>\n<path fill=\"none\" stroke=\"#000000\" d=\"M610.2893,-3608.7796C598.614,-3599.4855 580.7888,-3585.2957 566.9465,-3574.2765\"/>\n<polygon fill=\"#000000\" stroke=\"#000000\" points=\"568.9365,-3571.3871 558.9329,-3567.8972 564.5768,-3576.8637 568.9365,-3571.3871\"/>\n</g>\n<!-- 139912874280112 -->\n<g id=\"node76\" class=\"node\">\n<title>139912874280112</title>\n<polygon fill=\"#add8e6\" stroke=\"#000000\" points=\"688,-3694 557,-3694 557,-3664 688,-3664 688,-3694\"/>\n<text text-anchor=\"middle\" x=\"622.5\" y=\"-3682\" font-family=\"monospace\" font-size=\"10.00\" fill=\"#000000\">layer1.0.bn1.weight</text>\n<text text-anchor=\"middle\" x=\"622.5\" y=\"-3671\" font-family=\"monospace\" font-size=\"10.00\" fill=\"#000000\"> (64)</text>\n</g>\n<!-- 139912874280112&#45;&gt;139912839027344 -->\n<g id=\"edge74\" class=\"edge\">\n<title>139912874280112&#45;&gt;139912839027344</title>\n<path fill=\"none\" stroke=\"#000000\" d=\"M622.5,-3663.7333C622.5,-3656.0322 622.5,-3646.5977 622.5,-3638.3414\"/>\n<polygon fill=\"#000000\" stroke=\"#000000\" points=\"626.0001,-3638.0864 622.5,-3628.0864 619.0001,-3638.0864 626.0001,-3638.0864\"/>\n</g>\n<!-- 139912839027088 -->\n<g id=\"node77\" class=\"node\">\n<title>139912839027088</title>\n<polygon fill=\"#d3d3d3\" stroke=\"#000000\" points=\"804,-3628 703,-3628 703,-3609 804,-3609 804,-3628\"/>\n<text text-anchor=\"middle\" x=\"753.5\" y=\"-3616\" font-family=\"monospace\" font-size=\"10.00\" fill=\"#000000\">AccumulateGrad</text>\n</g>\n<!-- 139912839027088&#45;&gt;139912839026896 -->\n<g id=\"edge75\" class=\"edge\">\n<title>139912839027088&#45;&gt;139912839026896</title>\n<path fill=\"none\" stroke=\"#000000\" d=\"M720.7002,-3608.9136C685.1195,-3598.5144 628.1855,-3581.8743 589.1534,-3570.4663\"/>\n<polygon fill=\"#000000\" stroke=\"#000000\" points=\"589.7266,-3566.9875 579.1463,-3567.5416 587.7629,-3573.7064 589.7266,-3566.9875\"/>\n</g>\n<!-- 139912873454640 -->\n<g id=\"node78\" class=\"node\">\n<title>139912873454640</title>\n<polygon fill=\"#add8e6\" stroke=\"#000000\" points=\"825,-3694 706,-3694 706,-3664 825,-3664 825,-3694\"/>\n<text text-anchor=\"middle\" x=\"765.5\" y=\"-3682\" font-family=\"monospace\" font-size=\"10.00\" fill=\"#000000\">layer1.0.bn1.bias</text>\n<text text-anchor=\"middle\" x=\"765.5\" y=\"-3671\" font-family=\"monospace\" font-size=\"10.00\" fill=\"#000000\"> (64)</text>\n</g>\n<!-- 139912873454640&#45;&gt;139912839027088 -->\n<g id=\"edge76\" class=\"edge\">\n<title>139912873454640&#45;&gt;139912839027088</title>\n<path fill=\"none\" stroke=\"#000000\" d=\"M762.4719,-3663.7333C760.927,-3655.9447 759.0305,-3646.3831 757.3797,-3638.0604\"/>\n<polygon fill=\"#000000\" stroke=\"#000000\" points=\"760.7802,-3637.2143 755.4014,-3628.0864 753.914,-3638.5763 760.7802,-3637.2143\"/>\n</g>\n<!-- 139912839027024 -->\n<g id=\"node79\" class=\"node\">\n<title>139912839027024</title>\n<polygon fill=\"#d3d3d3\" stroke=\"#000000\" points=\"713,-3501.5 612,-3501.5 612,-3482.5 713,-3482.5 713,-3501.5\"/>\n<text text-anchor=\"middle\" x=\"662.5\" y=\"-3489.5\" font-family=\"monospace\" font-size=\"10.00\" fill=\"#000000\">AccumulateGrad</text>\n</g>\n<!-- 139912839027024&#45;&gt;139912839026192 -->\n<g id=\"edge77\" class=\"edge\">\n<title>139912839027024&#45;&gt;139912839026192</title>\n<path fill=\"none\" stroke=\"#000000\" d=\"M659.608,-3482.2796C657.1297,-3473.9499 653.4816,-3461.688 650.391,-3451.3004\"/>\n<polygon fill=\"#000000\" stroke=\"#000000\" points=\"653.651,-3449.9839 647.4446,-3441.3972 646.9417,-3451.9801 653.651,-3449.9839\"/>\n</g>\n<!-- 139912874328784 -->\n<g id=\"node80\" class=\"node\">\n<title>139912874328784</title>\n<polygon fill=\"#add8e6\" stroke=\"#000000\" points=\"785,-3573 642,-3573 642,-3543 785,-3543 785,-3573\"/>\n<text text-anchor=\"middle\" x=\"713.5\" y=\"-3561\" font-family=\"monospace\" font-size=\"10.00\" fill=\"#000000\">layer1.0.conv2.weight</text>\n<text text-anchor=\"middle\" x=\"713.5\" y=\"-3550\" font-family=\"monospace\" font-size=\"10.00\" fill=\"#000000\"> (64, 64, 3, 3)</text>\n</g>\n<!-- 139912874328784&#45;&gt;139912839027024 -->\n<g id=\"edge78\" class=\"edge\">\n<title>139912874328784&#45;&gt;139912839027024</title>\n<path fill=\"none\" stroke=\"#000000\" d=\"M701.6714,-3542.6924C694.0391,-3532.8153 684.087,-3519.9361 676.1241,-3509.6312\"/>\n<polygon fill=\"#000000\" stroke=\"#000000\" points=\"678.8818,-3507.4759 669.9978,-3501.7031 673.3428,-3511.756 678.8818,-3507.4759\"/>\n</g>\n<!-- 139912839026768 -->\n<g id=\"node81\" class=\"node\">\n<title>139912839026768</title>\n<polygon fill=\"#d3d3d3\" stroke=\"#000000\" points=\"847,-3441 746,-3441 746,-3422 847,-3422 847,-3441\"/>\n<text text-anchor=\"middle\" x=\"796.5\" y=\"-3429\" font-family=\"monospace\" font-size=\"10.00\" fill=\"#000000\">AccumulateGrad</text>\n</g>\n<!-- 139912839026768&#45;&gt;139912839026448 -->\n<g id=\"edge79\" class=\"edge\">\n<title>139912839026768&#45;&gt;139912839026448</title>\n<path fill=\"none\" stroke=\"#000000\" d=\"M783.2618,-3421.9197C771.8888,-3413.6893 755.2744,-3401.6657 741.9965,-3392.0567\"/>\n<polygon fill=\"#000000\" stroke=\"#000000\" points=\"743.9946,-3389.1823 733.8415,-3386.155 739.8907,-3394.8532 743.9946,-3389.1823\"/>\n</g>\n<!-- 139912874330464 -->\n<g id=\"node82\" class=\"node\">\n<title>139912874330464</title>\n<polygon fill=\"#add8e6\" stroke=\"#000000\" points=\"862,-3507 731,-3507 731,-3477 862,-3477 862,-3507\"/>\n<text text-anchor=\"middle\" x=\"796.5\" y=\"-3495\" font-family=\"monospace\" font-size=\"10.00\" fill=\"#000000\">layer1.0.bn2.weight</text>\n<text text-anchor=\"middle\" x=\"796.5\" y=\"-3484\" font-family=\"monospace\" font-size=\"10.00\" fill=\"#000000\"> (64)</text>\n</g>\n<!-- 139912874330464&#45;&gt;139912839026768 -->\n<g id=\"edge80\" class=\"edge\">\n<title>139912874330464&#45;&gt;139912839026768</title>\n<path fill=\"none\" stroke=\"#000000\" d=\"M796.5,-3476.7333C796.5,-3469.0322 796.5,-3459.5977 796.5,-3451.3414\"/>\n<polygon fill=\"#000000\" stroke=\"#000000\" points=\"800.0001,-3451.0864 796.5,-3441.0864 793.0001,-3451.0864 800.0001,-3451.0864\"/>\n</g>\n<!-- 139912839026704 -->\n<g id=\"node83\" class=\"node\">\n<title>139912839026704</title>\n<polygon fill=\"#d3d3d3\" stroke=\"#000000\" points=\"978,-3441 877,-3441 877,-3422 978,-3422 978,-3441\"/>\n<text text-anchor=\"middle\" x=\"927.5\" y=\"-3429\" font-family=\"monospace\" font-size=\"10.00\" fill=\"#000000\">AccumulateGrad</text>\n</g>\n<!-- 139912839026704&#45;&gt;139912839026448 -->\n<g id=\"edge81\" class=\"edge\">\n<title>139912839026704&#45;&gt;139912839026448</title>\n<path fill=\"none\" stroke=\"#000000\" d=\"M891.4434,-3421.9197C856.6729,-3412.6812 803.9154,-3398.6635 766.2133,-3388.646\"/>\n<polygon fill=\"#000000\" stroke=\"#000000\" points=\"767.0536,-3385.2479 756.4901,-3386.0626 765.256,-3392.0132 767.0536,-3385.2479\"/>\n</g>\n<!-- 139912874328624 -->\n<g id=\"node84\" class=\"node\">\n<title>139912874328624</title>\n<polygon fill=\"#add8e6\" stroke=\"#000000\" points=\"999,-3507 880,-3507 880,-3477 999,-3477 999,-3507\"/>\n<text text-anchor=\"middle\" x=\"939.5\" y=\"-3495\" font-family=\"monospace\" font-size=\"10.00\" fill=\"#000000\">layer1.0.bn2.bias</text>\n<text text-anchor=\"middle\" x=\"939.5\" y=\"-3484\" font-family=\"monospace\" font-size=\"10.00\" fill=\"#000000\"> (64)</text>\n</g>\n<!-- 139912874328624&#45;&gt;139912839026704 -->\n<g id=\"edge82\" class=\"edge\">\n<title>139912874328624&#45;&gt;139912839026704</title>\n<path fill=\"none\" stroke=\"#000000\" d=\"M936.4719,-3476.7333C934.927,-3468.9447 933.0305,-3459.3831 931.3797,-3451.0604\"/>\n<polygon fill=\"#000000\" stroke=\"#000000\" points=\"934.7802,-3450.2143 929.4014,-3441.0864 927.914,-3451.5763 934.7802,-3450.2143\"/>\n</g>\n<!-- 139912839026128 -->\n<g id=\"node85\" class=\"node\">\n<title>139912839026128</title>\n<polygon fill=\"#d3d3d3\" stroke=\"#000000\" points=\"627,-3259.5 526,-3259.5 526,-3240.5 627,-3240.5 627,-3259.5\"/>\n<text text-anchor=\"middle\" x=\"576.5\" y=\"-3247.5\" font-family=\"monospace\" font-size=\"10.00\" fill=\"#000000\">AccumulateGrad</text>\n</g>\n<!-- 139912839026128&#45;&gt;139912839025936 -->\n<g id=\"edge84\" class=\"edge\">\n<title>139912839026128&#45;&gt;139912839025936</title>\n<path fill=\"none\" stroke=\"#000000\" d=\"M575.054,-3240.2796C573.8149,-3231.9499 571.9908,-3219.688 570.4455,-3209.3004\"/>\n<polygon fill=\"#000000\" stroke=\"#000000\" points=\"573.9057,-3208.7734 568.9723,-3199.3972 566.9819,-3209.8034 573.9057,-3208.7734\"/>\n</g>\n<!-- 139912874329744 -->\n<g id=\"node86\" class=\"node\">\n<title>139912874329744</title>\n<polygon fill=\"#add8e6\" stroke=\"#000000\" points=\"653,-3331 510,-3331 510,-3301 653,-3301 653,-3331\"/>\n<text text-anchor=\"middle\" x=\"581.5\" y=\"-3319\" font-family=\"monospace\" font-size=\"10.00\" fill=\"#000000\">layer1.1.conv1.weight</text>\n<text text-anchor=\"middle\" x=\"581.5\" y=\"-3308\" font-family=\"monospace\" font-size=\"10.00\" fill=\"#000000\"> (64, 64, 3, 3)</text>\n</g>\n<!-- 139912874329744&#45;&gt;139912839026128 -->\n<g id=\"edge85\" class=\"edge\">\n<title>139912874329744&#45;&gt;139912839026128</title>\n<path fill=\"none\" stroke=\"#000000\" d=\"M580.3403,-3300.6924C579.6444,-3291.5067 578.7519,-3279.7245 578.0024,-3269.8312\"/>\n<polygon fill=\"#000000\" stroke=\"#000000\" points=\"581.4806,-3269.4101 577.2351,-3259.7031 574.5006,-3269.9389 581.4806,-3269.4101\"/>\n</g>\n<!-- 139912839026064 -->\n<g id=\"node87\" class=\"node\">\n<title>139912839026064</title>\n<polygon fill=\"#d3d3d3\" stroke=\"#000000\" points=\"770,-3199 669,-3199 669,-3180 770,-3180 770,-3199\"/>\n<text text-anchor=\"middle\" x=\"719.5\" y=\"-3187\" font-family=\"monospace\" font-size=\"10.00\" fill=\"#000000\">AccumulateGrad</text>\n</g>\n<!-- 139912839026064&#45;&gt;139912839025616 -->\n<g id=\"edge86\" class=\"edge\">\n<title>139912839026064&#45;&gt;139912839025616</title>\n<path fill=\"none\" stroke=\"#000000\" d=\"M707.2893,-3179.7796C695.614,-3170.4855 677.7888,-3156.2957 663.9465,-3145.2765\"/>\n<polygon fill=\"#000000\" stroke=\"#000000\" points=\"665.9365,-3142.3871 655.9329,-3138.8972 661.5768,-3147.8637 665.9365,-3142.3871\"/>\n</g>\n<!-- 139912874329664 -->\n<g id=\"node88\" class=\"node\">\n<title>139912874329664</title>\n<polygon fill=\"#add8e6\" stroke=\"#000000\" points=\"780,-3265 649,-3265 649,-3235 780,-3235 780,-3265\"/>\n<text text-anchor=\"middle\" x=\"714.5\" y=\"-3253\" font-family=\"monospace\" font-size=\"10.00\" fill=\"#000000\">layer1.1.bn1.weight</text>\n<text text-anchor=\"middle\" x=\"714.5\" y=\"-3242\" font-family=\"monospace\" font-size=\"10.00\" fill=\"#000000\"> (64)</text>\n</g>\n<!-- 139912874329664&#45;&gt;139912839026064 -->\n<g id=\"edge87\" class=\"edge\">\n<title>139912874329664&#45;&gt;139912839026064</title>\n<path fill=\"none\" stroke=\"#000000\" d=\"M715.7617,-3234.7333C716.4054,-3226.9447 717.1956,-3217.3831 717.8834,-3209.0604\"/>\n<polygon fill=\"#000000\" stroke=\"#000000\" points=\"721.3721,-3209.3407 718.7077,-3199.0864 714.3959,-3208.7641 721.3721,-3209.3407\"/>\n</g>\n<!-- 139912839025808 -->\n<g id=\"node89\" class=\"node\">\n<title>139912839025808</title>\n<polygon fill=\"#d3d3d3\" stroke=\"#000000\" points=\"894,-3199 793,-3199 793,-3180 894,-3180 894,-3199\"/>\n<text text-anchor=\"middle\" x=\"843.5\" y=\"-3187\" font-family=\"monospace\" font-size=\"10.00\" fill=\"#000000\">AccumulateGrad</text>\n</g>\n<!-- 139912839025808&#45;&gt;139912839025616 -->\n<g id=\"edge88\" class=\"edge\">\n<title>139912839025808&#45;&gt;139912839025616</title>\n<path fill=\"none\" stroke=\"#000000\" d=\"M811.8094,-3179.9136C777.4319,-3169.5144 722.4232,-3152.8743 684.711,-3141.4663\"/>\n<polygon fill=\"#000000\" stroke=\"#000000\" points=\"685.6274,-3138.087 675.0423,-3138.5416 683.6006,-3144.7871 685.6274,-3138.087\"/>\n</g>\n<!-- 139912874331264 -->\n<g id=\"node90\" class=\"node\">\n<title>139912874331264</title>\n<polygon fill=\"#add8e6\" stroke=\"#000000\" points=\"917,-3265 798,-3265 798,-3235 917,-3235 917,-3265\"/>\n<text text-anchor=\"middle\" x=\"857.5\" y=\"-3253\" font-family=\"monospace\" font-size=\"10.00\" fill=\"#000000\">layer1.1.bn1.bias</text>\n<text text-anchor=\"middle\" x=\"857.5\" y=\"-3242\" font-family=\"monospace\" font-size=\"10.00\" fill=\"#000000\"> (64)</text>\n</g>\n<!-- 139912874331264&#45;&gt;139912839025808 -->\n<g id=\"edge89\" class=\"edge\">\n<title>139912874331264&#45;&gt;139912839025808</title>\n<path fill=\"none\" stroke=\"#000000\" d=\"M853.9672,-3234.7333C852.1649,-3226.9447 849.9523,-3217.3831 848.0264,-3209.0604\"/>\n<polygon fill=\"#000000\" stroke=\"#000000\" points=\"851.3828,-3208.0399 845.7183,-3199.0864 844.563,-3209.6181 851.3828,-3208.0399\"/>\n</g>\n<!-- 139912839025744 -->\n<g id=\"node91\" class=\"node\">\n<title>139912839025744</title>\n<polygon fill=\"#d3d3d3\" stroke=\"#000000\" points=\"810,-3072.5 709,-3072.5 709,-3053.5 810,-3053.5 810,-3072.5\"/>\n<text text-anchor=\"middle\" x=\"759.5\" y=\"-3060.5\" font-family=\"monospace\" font-size=\"10.00\" fill=\"#000000\">AccumulateGrad</text>\n</g>\n<!-- 139912839025744&#45;&gt;139912839024848 -->\n<g id=\"edge90\" class=\"edge\">\n<title>139912839025744&#45;&gt;139912839024848</title>\n<path fill=\"none\" stroke=\"#000000\" d=\"M756.608,-3053.2796C754.1297,-3044.9499 750.4816,-3032.688 747.391,-3022.3004\"/>\n<polygon fill=\"#000000\" stroke=\"#000000\" points=\"750.651,-3020.9839 744.4446,-3012.3972 743.9417,-3022.9801 750.651,-3020.9839\"/>\n</g>\n<!-- 139912874330864 -->\n<g id=\"node92\" class=\"node\">\n<title>139912874330864</title>\n<polygon fill=\"#add8e6\" stroke=\"#000000\" points=\"882,-3144 739,-3144 739,-3114 882,-3114 882,-3144\"/>\n<text text-anchor=\"middle\" x=\"810.5\" y=\"-3132\" font-family=\"monospace\" font-size=\"10.00\" fill=\"#000000\">layer1.1.conv2.weight</text>\n<text text-anchor=\"middle\" x=\"810.5\" y=\"-3121\" font-family=\"monospace\" font-size=\"10.00\" fill=\"#000000\"> (64, 64, 3, 3)</text>\n</g>\n<!-- 139912874330864&#45;&gt;139912839025744 -->\n<g id=\"edge91\" class=\"edge\">\n<title>139912874330864&#45;&gt;139912839025744</title>\n<path fill=\"none\" stroke=\"#000000\" d=\"M798.6714,-3113.6924C791.0391,-3103.8153 781.087,-3090.9361 773.1241,-3080.6312\"/>\n<polygon fill=\"#000000\" stroke=\"#000000\" points=\"775.8818,-3078.4759 766.9978,-3072.7031 770.3428,-3082.756 775.8818,-3078.4759\"/>\n</g>\n<!-- 139912839025488 -->\n<g id=\"node93\" class=\"node\">\n<title>139912839025488</title>\n<polygon fill=\"#d3d3d3\" stroke=\"#000000\" points=\"944,-3012 843,-3012 843,-2993 944,-2993 944,-3012\"/>\n<text text-anchor=\"middle\" x=\"893.5\" y=\"-3000\" font-family=\"monospace\" font-size=\"10.00\" fill=\"#000000\">AccumulateGrad</text>\n</g>\n<!-- 139912839025488&#45;&gt;139912839024784 -->\n<g id=\"edge92\" class=\"edge\">\n<title>139912839025488&#45;&gt;139912839024784</title>\n<path fill=\"none\" stroke=\"#000000\" d=\"M880.2618,-2992.9197C868.8888,-2984.6893 852.2744,-2972.6657 838.9965,-2963.0567\"/>\n<polygon fill=\"#000000\" stroke=\"#000000\" points=\"840.9946,-2960.1823 830.8415,-2957.155 836.8907,-2965.8532 840.9946,-2960.1823\"/>\n</g>\n<!-- 139912874331664 -->\n<g id=\"node94\" class=\"node\">\n<title>139912874331664</title>\n<polygon fill=\"#add8e6\" stroke=\"#000000\" points=\"959,-3078 828,-3078 828,-3048 959,-3048 959,-3078\"/>\n<text text-anchor=\"middle\" x=\"893.5\" y=\"-3066\" font-family=\"monospace\" font-size=\"10.00\" fill=\"#000000\">layer1.1.bn2.weight</text>\n<text text-anchor=\"middle\" x=\"893.5\" y=\"-3055\" font-family=\"monospace\" font-size=\"10.00\" fill=\"#000000\"> (64)</text>\n</g>\n<!-- 139912874331664&#45;&gt;139912839025488 -->\n<g id=\"edge93\" class=\"edge\">\n<title>139912874331664&#45;&gt;139912839025488</title>\n<path fill=\"none\" stroke=\"#000000\" d=\"M893.5,-3047.7333C893.5,-3040.0322 893.5,-3030.5977 893.5,-3022.3414\"/>\n<polygon fill=\"#000000\" stroke=\"#000000\" points=\"897.0001,-3022.0864 893.5,-3012.0864 890.0001,-3022.0864 897.0001,-3022.0864\"/>\n</g>\n<!-- 139912839025424 -->\n<g id=\"node95\" class=\"node\">\n<title>139912839025424</title>\n<polygon fill=\"#d3d3d3\" stroke=\"#000000\" points=\"1075,-3012 974,-3012 974,-2993 1075,-2993 1075,-3012\"/>\n<text text-anchor=\"middle\" x=\"1024.5\" y=\"-3000\" font-family=\"monospace\" font-size=\"10.00\" fill=\"#000000\">AccumulateGrad</text>\n</g>\n<!-- 139912839025424&#45;&gt;139912839024784 -->\n<g id=\"edge94\" class=\"edge\">\n<title>139912839025424&#45;&gt;139912839024784</title>\n<path fill=\"none\" stroke=\"#000000\" d=\"M988.4434,-2992.9197C953.6729,-2983.6812 900.9154,-2969.6635 863.2133,-2959.646\"/>\n<polygon fill=\"#000000\" stroke=\"#000000\" points=\"864.0536,-2956.2479 853.4901,-2957.0626 862.256,-2963.0132 864.0536,-2956.2479\"/>\n</g>\n<!-- 139912874328864 -->\n<g id=\"node96\" class=\"node\">\n<title>139912874328864</title>\n<polygon fill=\"#add8e6\" stroke=\"#000000\" points=\"1096,-3078 977,-3078 977,-3048 1096,-3048 1096,-3078\"/>\n<text text-anchor=\"middle\" x=\"1036.5\" y=\"-3066\" font-family=\"monospace\" font-size=\"10.00\" fill=\"#000000\">layer1.1.bn2.bias</text>\n<text text-anchor=\"middle\" x=\"1036.5\" y=\"-3055\" font-family=\"monospace\" font-size=\"10.00\" fill=\"#000000\"> (64)</text>\n</g>\n<!-- 139912874328864&#45;&gt;139912839025424 -->\n<g id=\"edge95\" class=\"edge\">\n<title>139912874328864&#45;&gt;139912839025424</title>\n<path fill=\"none\" stroke=\"#000000\" d=\"M1033.4719,-3047.7333C1031.927,-3039.9447 1030.0305,-3030.3831 1028.3797,-3022.0604\"/>\n<polygon fill=\"#000000\" stroke=\"#000000\" points=\"1031.7802,-3021.2143 1026.4014,-3012.0864 1024.914,-3022.5763 1031.7802,-3021.2143\"/>\n</g>\n<!-- 139912839024912 -->\n<g id=\"node97\" class=\"node\">\n<title>139912839024912</title>\n<polygon fill=\"#d3d3d3\" stroke=\"#000000\" points=\"727,-2830.5 626,-2830.5 626,-2811.5 727,-2811.5 727,-2830.5\"/>\n<text text-anchor=\"middle\" x=\"676.5\" y=\"-2818.5\" font-family=\"monospace\" font-size=\"10.00\" fill=\"#000000\">AccumulateGrad</text>\n</g>\n<!-- 139912839024912&#45;&gt;139912839391120 -->\n<g id=\"edge97\" class=\"edge\">\n<title>139912839024912&#45;&gt;139912839391120</title>\n<path fill=\"none\" stroke=\"#000000\" d=\"M673.608,-2811.2796C671.1297,-2802.9499 667.4816,-2790.688 664.391,-2780.3004\"/>\n<polygon fill=\"#000000\" stroke=\"#000000\" points=\"667.651,-2778.9839 661.4446,-2770.3972 660.9417,-2780.9801 667.651,-2778.9839\"/>\n</g>\n<!-- 139912873376336 -->\n<g id=\"node98\" class=\"node\">\n<title>139912873376336</title>\n<polygon fill=\"#add8e6\" stroke=\"#000000\" points=\"766,-2902 623,-2902 623,-2872 766,-2872 766,-2902\"/>\n<text text-anchor=\"middle\" x=\"694.5\" y=\"-2890\" font-family=\"monospace\" font-size=\"10.00\" fill=\"#000000\">layer2.0.conv1.weight</text>\n<text text-anchor=\"middle\" x=\"694.5\" y=\"-2879\" font-family=\"monospace\" font-size=\"10.00\" fill=\"#000000\"> (128, 64, 3, 3)</text>\n</g>\n<!-- 139912873376336&#45;&gt;139912839024912 -->\n<g id=\"edge98\" class=\"edge\">\n<title>139912873376336&#45;&gt;139912839024912</title>\n<path fill=\"none\" stroke=\"#000000\" d=\"M690.3252,-2871.6924C687.7931,-2862.408 684.5375,-2850.4708 681.8216,-2840.5127\"/>\n<polygon fill=\"#000000\" stroke=\"#000000\" points=\"685.1542,-2839.4298 679.1463,-2830.7031 678.4009,-2841.2716 685.1542,-2839.4298\"/>\n</g>\n<!-- 139912839391824 -->\n<g id=\"node99\" class=\"node\">\n<title>139912839391824</title>\n<polygon fill=\"#d3d3d3\" stroke=\"#000000\" points=\"861,-2770 760,-2770 760,-2751 861,-2751 861,-2770\"/>\n<text text-anchor=\"middle\" x=\"810.5\" y=\"-2758\" font-family=\"monospace\" font-size=\"10.00\" fill=\"#000000\">AccumulateGrad</text>\n</g>\n<!-- 139912839391824&#45;&gt;139912839393232 -->\n<g id=\"edge99\" class=\"edge\">\n<title>139912839391824&#45;&gt;139912839393232</title>\n<path fill=\"none\" stroke=\"#000000\" d=\"M798.2893,-2750.7796C786.614,-2741.4855 768.7888,-2727.2957 754.9465,-2716.2765\"/>\n<polygon fill=\"#000000\" stroke=\"#000000\" points=\"756.9365,-2713.3871 746.9329,-2709.8972 752.5768,-2718.8637 756.9365,-2713.3871\"/>\n</g>\n<!-- 139912873375696 -->\n<g id=\"node100\" class=\"node\">\n<title>139912873375696</title>\n<polygon fill=\"#add8e6\" stroke=\"#000000\" points=\"876,-2836 745,-2836 745,-2806 876,-2806 876,-2836\"/>\n<text text-anchor=\"middle\" x=\"810.5\" y=\"-2824\" font-family=\"monospace\" font-size=\"10.00\" fill=\"#000000\">layer2.0.bn1.weight</text>\n<text text-anchor=\"middle\" x=\"810.5\" y=\"-2813\" font-family=\"monospace\" font-size=\"10.00\" fill=\"#000000\"> (128)</text>\n</g>\n<!-- 139912873375696&#45;&gt;139912839391824 -->\n<g id=\"edge100\" class=\"edge\">\n<title>139912873375696&#45;&gt;139912839391824</title>\n<path fill=\"none\" stroke=\"#000000\" d=\"M810.5,-2805.7333C810.5,-2798.0322 810.5,-2788.5977 810.5,-2780.3414\"/>\n<polygon fill=\"#000000\" stroke=\"#000000\" points=\"814.0001,-2780.0864 810.5,-2770.0864 807.0001,-2780.0864 814.0001,-2780.0864\"/>\n</g>\n<!-- 139912839390224 -->\n<g id=\"node101\" class=\"node\">\n<title>139912839390224</title>\n<polygon fill=\"#d3d3d3\" stroke=\"#000000\" points=\"992,-2770 891,-2770 891,-2751 992,-2751 992,-2770\"/>\n<text text-anchor=\"middle\" x=\"941.5\" y=\"-2758\" font-family=\"monospace\" font-size=\"10.00\" fill=\"#000000\">AccumulateGrad</text>\n</g>\n<!-- 139912839390224&#45;&gt;139912839393232 -->\n<g id=\"edge101\" class=\"edge\">\n<title>139912839390224&#45;&gt;139912839393232</title>\n<path fill=\"none\" stroke=\"#000000\" d=\"M908.7002,-2750.9136C873.1195,-2740.5144 816.1855,-2723.8743 777.1534,-2712.4663\"/>\n<polygon fill=\"#000000\" stroke=\"#000000\" points=\"777.7266,-2708.9875 767.1463,-2709.5416 775.7629,-2715.7064 777.7266,-2708.9875\"/>\n</g>\n<!-- 139912873376656 -->\n<g id=\"node102\" class=\"node\">\n<title>139912873376656</title>\n<polygon fill=\"#add8e6\" stroke=\"#000000\" points=\"1013,-2836 894,-2836 894,-2806 1013,-2806 1013,-2836\"/>\n<text text-anchor=\"middle\" x=\"953.5\" y=\"-2824\" font-family=\"monospace\" font-size=\"10.00\" fill=\"#000000\">layer2.0.bn1.bias</text>\n<text text-anchor=\"middle\" x=\"953.5\" y=\"-2813\" font-family=\"monospace\" font-size=\"10.00\" fill=\"#000000\"> (128)</text>\n</g>\n<!-- 139912873376656&#45;&gt;139912839390224 -->\n<g id=\"edge102\" class=\"edge\">\n<title>139912873376656&#45;&gt;139912839390224</title>\n<path fill=\"none\" stroke=\"#000000\" d=\"M950.4719,-2805.7333C948.927,-2797.9447 947.0305,-2788.3831 945.3797,-2780.0604\"/>\n<polygon fill=\"#000000\" stroke=\"#000000\" points=\"948.7802,-2779.2143 943.4014,-2770.0864 941.914,-2780.5763 948.7802,-2779.2143\"/>\n</g>\n<!-- 139912839392912 -->\n<g id=\"node103\" class=\"node\">\n<title>139912839392912</title>\n<polygon fill=\"#d3d3d3\" stroke=\"#000000\" points=\"901,-2643.5 800,-2643.5 800,-2624.5 901,-2624.5 901,-2643.5\"/>\n<text text-anchor=\"middle\" x=\"850.5\" y=\"-2631.5\" font-family=\"monospace\" font-size=\"10.00\" fill=\"#000000\">AccumulateGrad</text>\n</g>\n<!-- 139912839392912&#45;&gt;139912839390800 -->\n<g id=\"edge103\" class=\"edge\">\n<title>139912839392912&#45;&gt;139912839390800</title>\n<path fill=\"none\" stroke=\"#000000\" d=\"M847.608,-2624.2796C845.1297,-2615.9499 841.4816,-2603.688 838.391,-2593.3004\"/>\n<polygon fill=\"#000000\" stroke=\"#000000\" points=\"841.651,-2591.9839 835.4446,-2583.3972 834.9417,-2593.9801 841.651,-2591.9839\"/>\n</g>\n<!-- 139912874503616 -->\n<g id=\"node104\" class=\"node\">\n<title>139912874503616</title>\n<polygon fill=\"#add8e6\" stroke=\"#000000\" points=\"973,-2715 830,-2715 830,-2685 973,-2685 973,-2715\"/>\n<text text-anchor=\"middle\" x=\"901.5\" y=\"-2703\" font-family=\"monospace\" font-size=\"10.00\" fill=\"#000000\">layer2.0.conv2.weight</text>\n<text text-anchor=\"middle\" x=\"901.5\" y=\"-2692\" font-family=\"monospace\" font-size=\"10.00\" fill=\"#000000\"> (128, 128, 3, 3)</text>\n</g>\n<!-- 139912874503616&#45;&gt;139912839392912 -->\n<g id=\"edge104\" class=\"edge\">\n<title>139912874503616&#45;&gt;139912839392912</title>\n<path fill=\"none\" stroke=\"#000000\" d=\"M889.6714,-2684.6924C882.0391,-2674.8153 872.087,-2661.9361 864.1241,-2651.6312\"/>\n<polygon fill=\"#000000\" stroke=\"#000000\" points=\"866.8818,-2649.4759 857.9978,-2643.7031 861.3428,-2653.756 866.8818,-2649.4759\"/>\n</g>\n<!-- 139912839391056 -->\n<g id=\"node105\" class=\"node\">\n<title>139912839391056</title>\n<polygon fill=\"#d3d3d3\" stroke=\"#000000\" points=\"1035,-2583 934,-2583 934,-2564 1035,-2564 1035,-2583\"/>\n<text text-anchor=\"middle\" x=\"984.5\" y=\"-2571\" font-family=\"monospace\" font-size=\"10.00\" fill=\"#000000\">AccumulateGrad</text>\n</g>\n<!-- 139912839391056&#45;&gt;139912839391376 -->\n<g id=\"edge105\" class=\"edge\">\n<title>139912839391056&#45;&gt;139912839391376</title>\n<path fill=\"none\" stroke=\"#000000\" d=\"M971.2618,-2563.9197C959.8888,-2555.6893 943.2744,-2543.6657 929.9965,-2534.0567\"/>\n<polygon fill=\"#000000\" stroke=\"#000000\" points=\"931.9946,-2531.1823 921.8415,-2528.155 927.8907,-2536.8532 931.9946,-2531.1823\"/>\n</g>\n<!-- 139912874322672 -->\n<g id=\"node106\" class=\"node\">\n<title>139912874322672</title>\n<polygon fill=\"#add8e6\" stroke=\"#000000\" points=\"1050,-2649 919,-2649 919,-2619 1050,-2619 1050,-2649\"/>\n<text text-anchor=\"middle\" x=\"984.5\" y=\"-2637\" font-family=\"monospace\" font-size=\"10.00\" fill=\"#000000\">layer2.0.bn2.weight</text>\n<text text-anchor=\"middle\" x=\"984.5\" y=\"-2626\" font-family=\"monospace\" font-size=\"10.00\" fill=\"#000000\"> (128)</text>\n</g>\n<!-- 139912874322672&#45;&gt;139912839391056 -->\n<g id=\"edge106\" class=\"edge\">\n<title>139912874322672&#45;&gt;139912839391056</title>\n<path fill=\"none\" stroke=\"#000000\" d=\"M984.5,-2618.7333C984.5,-2611.0322 984.5,-2601.5977 984.5,-2593.3414\"/>\n<polygon fill=\"#000000\" stroke=\"#000000\" points=\"988.0001,-2593.0864 984.5,-2583.0864 981.0001,-2593.0864 988.0001,-2593.0864\"/>\n</g>\n<!-- 139912839392272 -->\n<g id=\"node107\" class=\"node\">\n<title>139912839392272</title>\n<polygon fill=\"#d3d3d3\" stroke=\"#000000\" points=\"1166,-2583 1065,-2583 1065,-2564 1166,-2564 1166,-2583\"/>\n<text text-anchor=\"middle\" x=\"1115.5\" y=\"-2571\" font-family=\"monospace\" font-size=\"10.00\" fill=\"#000000\">AccumulateGrad</text>\n</g>\n<!-- 139912839392272&#45;&gt;139912839391376 -->\n<g id=\"edge107\" class=\"edge\">\n<title>139912839392272&#45;&gt;139912839391376</title>\n<path fill=\"none\" stroke=\"#000000\" d=\"M1079.4434,-2563.9197C1044.6729,-2554.6812 991.9154,-2540.6635 954.2133,-2530.646\"/>\n<polygon fill=\"#000000\" stroke=\"#000000\" points=\"955.0536,-2527.2479 944.4901,-2528.0626 953.256,-2534.0132 955.0536,-2527.2479\"/>\n</g>\n<!-- 139912874323072 -->\n<g id=\"node108\" class=\"node\">\n<title>139912874323072</title>\n<polygon fill=\"#add8e6\" stroke=\"#000000\" points=\"1187,-2649 1068,-2649 1068,-2619 1187,-2619 1187,-2649\"/>\n<text text-anchor=\"middle\" x=\"1127.5\" y=\"-2637\" font-family=\"monospace\" font-size=\"10.00\" fill=\"#000000\">layer2.0.bn2.bias</text>\n<text text-anchor=\"middle\" x=\"1127.5\" y=\"-2626\" font-family=\"monospace\" font-size=\"10.00\" fill=\"#000000\"> (128)</text>\n</g>\n<!-- 139912874323072&#45;&gt;139912839392272 -->\n<g id=\"edge108\" class=\"edge\">\n<title>139912874323072&#45;&gt;139912839392272</title>\n<path fill=\"none\" stroke=\"#000000\" d=\"M1124.4719,-2618.7333C1122.927,-2610.9447 1121.0305,-2601.3831 1119.3797,-2593.0604\"/>\n<polygon fill=\"#000000\" stroke=\"#000000\" points=\"1122.7802,-2592.2143 1117.4014,-2583.0864 1115.914,-2593.5763 1122.7802,-2592.2143\"/>\n</g>\n<!-- 139912839393104 -->\n<g id=\"node109\" class=\"node\">\n<title>139912839393104</title>\n<polygon fill=\"#d3d3d3\" stroke=\"#000000\" points=\"445,-2709.5 290,-2709.5 290,-2690.5 445,-2690.5 445,-2709.5\"/>\n<text text-anchor=\"middle\" x=\"367.5\" y=\"-2697.5\" font-family=\"monospace\" font-size=\"10.00\" fill=\"#000000\">NativeBatchNormBackward</text>\n</g>\n<!-- 139912839393104&#45;&gt;139912839390032 -->\n<g id=\"edge109\" class=\"edge\">\n<title>139912839393104&#45;&gt;139912839390032</title>\n<path fill=\"none\" stroke=\"#000000\" d=\"M378.4592,-2690.2136C420.0047,-2653.1139 568.0758,-2520.8881 620.1919,-2474.3489\"/>\n<polygon fill=\"#000000\" stroke=\"#000000\" points=\"622.5737,-2476.9144 627.7014,-2467.6431 617.9112,-2471.6932 622.5737,-2476.9144\"/>\n</g>\n<!-- 139912839390928&#45;&gt;139912839393104 -->\n<g id=\"edge110\" class=\"edge\">\n<title>139912839390928&#45;&gt;139912839393104</title>\n<path fill=\"none\" stroke=\"#000000\" d=\"M432.1286,-2750.7796C420.2293,-2741.4301 402.0248,-2727.1266 387.9655,-2716.08\"/>\n<polygon fill=\"#000000\" stroke=\"#000000\" points=\"389.8663,-2713.1224 379.8407,-2709.6962 385.5415,-2718.6266 389.8663,-2713.1224\"/>\n</g>\n<!-- 139912839026000 -->\n<g id=\"node111\" class=\"node\">\n<title>139912839026000</title>\n<polygon fill=\"#d3d3d3\" stroke=\"#000000\" points=\"495,-2830.5 394,-2830.5 394,-2811.5 495,-2811.5 495,-2830.5\"/>\n<text text-anchor=\"middle\" x=\"444.5\" y=\"-2818.5\" font-family=\"monospace\" font-size=\"10.00\" fill=\"#000000\">AccumulateGrad</text>\n</g>\n<!-- 139912839026000&#45;&gt;139912839390928 -->\n<g id=\"edge112\" class=\"edge\">\n<title>139912839026000&#45;&gt;139912839390928</title>\n<path fill=\"none\" stroke=\"#000000\" d=\"M444.5,-2811.2796C444.5,-2803.0376 444.5,-2790.9457 444.5,-2780.629\"/>\n<polygon fill=\"#000000\" stroke=\"#000000\" points=\"448.0001,-2780.3972 444.5,-2770.3972 441.0001,-2780.3973 448.0001,-2780.3972\"/>\n</g>\n<!-- 139912874328464 -->\n<g id=\"node112\" class=\"node\">\n<title>139912874328464</title>\n<polygon fill=\"#add8e6\" stroke=\"#000000\" points=\"498,-2902 313,-2902 313,-2872 498,-2872 498,-2902\"/>\n<text text-anchor=\"middle\" x=\"405.5\" y=\"-2890\" font-family=\"monospace\" font-size=\"10.00\" fill=\"#000000\">layer2.0.downsample.0.weight</text>\n<text text-anchor=\"middle\" x=\"405.5\" y=\"-2879\" font-family=\"monospace\" font-size=\"10.00\" fill=\"#000000\"> (128, 64, 1, 1)</text>\n</g>\n<!-- 139912874328464&#45;&gt;139912839026000 -->\n<g id=\"edge113\" class=\"edge\">\n<title>139912874328464&#45;&gt;139912839026000</title>\n<path fill=\"none\" stroke=\"#000000\" d=\"M414.5454,-2871.6924C420.2068,-2862.1116 427.5373,-2849.7061 433.5295,-2839.5655\"/>\n<polygon fill=\"#000000\" stroke=\"#000000\" points=\"436.6923,-2841.0929 438.7664,-2830.7031 430.6658,-2837.5318 436.6923,-2841.0929\"/>\n</g>\n<!-- 139912839391952 -->\n<g id=\"node113\" class=\"node\">\n<title>139912839391952</title>\n<polygon fill=\"#d3d3d3\" stroke=\"#000000\" points=\"183,-2770 82,-2770 82,-2751 183,-2751 183,-2770\"/>\n<text text-anchor=\"middle\" x=\"132.5\" y=\"-2758\" font-family=\"monospace\" font-size=\"10.00\" fill=\"#000000\">AccumulateGrad</text>\n</g>\n<!-- 139912839391952&#45;&gt;139912839393104 -->\n<g id=\"edge114\" class=\"edge\">\n<title>139912839391952&#45;&gt;139912839393104</title>\n<path fill=\"none\" stroke=\"#000000\" d=\"M169.4773,-2750.9803C210.3344,-2740.4618 276.2192,-2723.4999 320.6564,-2712.0597\"/>\n<polygon fill=\"#000000\" stroke=\"#000000\" points=\"321.5391,-2715.4467 330.3507,-2709.564 319.7938,-2708.6677 321.5391,-2715.4467\"/>\n</g>\n<!-- 139912874407648 -->\n<g id=\"node114\" class=\"node\">\n<title>139912874407648</title>\n<polygon fill=\"#add8e6\" stroke=\"#000000\" points=\"185,-2836 0,-2836 0,-2806 185,-2806 185,-2836\"/>\n<text text-anchor=\"middle\" x=\"92.5\" y=\"-2824\" font-family=\"monospace\" font-size=\"10.00\" fill=\"#000000\">layer2.0.downsample.1.weight</text>\n<text text-anchor=\"middle\" x=\"92.5\" y=\"-2813\" font-family=\"monospace\" font-size=\"10.00\" fill=\"#000000\"> (128)</text>\n</g>\n<!-- 139912874407648&#45;&gt;139912839391952 -->\n<g id=\"edge115\" class=\"edge\">\n<title>139912874407648&#45;&gt;139912839391952</title>\n<path fill=\"none\" stroke=\"#000000\" d=\"M102.5937,-2805.7333C108.0325,-2797.5071 114.7789,-2787.3031 120.4868,-2778.6699\"/>\n<polygon fill=\"#000000\" stroke=\"#000000\" points=\"123.5663,-2780.3584 126.1619,-2770.0864 117.7271,-2776.4978 123.5663,-2780.3584\"/>\n</g>\n<!-- 139912839392144 -->\n<g id=\"node115\" class=\"node\">\n<title>139912839392144</title>\n<polygon fill=\"#d3d3d3\" stroke=\"#000000\" points=\"341,-2770 240,-2770 240,-2751 341,-2751 341,-2770\"/>\n<text text-anchor=\"middle\" x=\"290.5\" y=\"-2758\" font-family=\"monospace\" font-size=\"10.00\" fill=\"#000000\">AccumulateGrad</text>\n</g>\n<!-- 139912839392144&#45;&gt;139912839393104 -->\n<g id=\"edge116\" class=\"edge\">\n<title>139912839392144&#45;&gt;139912839393104</title>\n<path fill=\"none\" stroke=\"#000000\" d=\"M302.8714,-2750.7796C314.7707,-2741.4301 332.9752,-2727.1266 347.0345,-2716.08\"/>\n<polygon fill=\"#000000\" stroke=\"#000000\" points=\"349.4585,-2718.6266 355.1593,-2709.6962 345.1337,-2713.1224 349.4585,-2718.6266\"/>\n</g>\n<!-- 139912874406928 -->\n<g id=\"node116\" class=\"node\">\n<title>139912874406928</title>\n<polygon fill=\"#add8e6\" stroke=\"#000000\" points=\"376,-2836 203,-2836 203,-2806 376,-2806 376,-2836\"/>\n<text text-anchor=\"middle\" x=\"289.5\" y=\"-2824\" font-family=\"monospace\" font-size=\"10.00\" fill=\"#000000\">layer2.0.downsample.1.bias</text>\n<text text-anchor=\"middle\" x=\"289.5\" y=\"-2813\" font-family=\"monospace\" font-size=\"10.00\" fill=\"#000000\"> (128)</text>\n</g>\n<!-- 139912874406928&#45;&gt;139912839392144 -->\n<g id=\"edge117\" class=\"edge\">\n<title>139912874406928&#45;&gt;139912839392144</title>\n<path fill=\"none\" stroke=\"#000000\" d=\"M289.7523,-2805.7333C289.8796,-2798.0322 290.0356,-2788.5977 290.172,-2780.3414\"/>\n<polygon fill=\"#000000\" stroke=\"#000000\" points=\"293.6757,-2780.1429 290.3415,-2770.0864 286.6767,-2780.0272 293.6757,-2780.1429\"/>\n</g>\n<!-- 139912839390864 -->\n<g id=\"node117\" class=\"node\">\n<title>139912839390864</title>\n<polygon fill=\"#d3d3d3\" stroke=\"#000000\" points=\"818,-2401.5 717,-2401.5 717,-2382.5 818,-2382.5 818,-2401.5\"/>\n<text text-anchor=\"middle\" x=\"767.5\" y=\"-2389.5\" font-family=\"monospace\" font-size=\"10.00\" fill=\"#000000\">AccumulateGrad</text>\n</g>\n<!-- 139912839390864&#45;&gt;139912839389520 -->\n<g id=\"edge118\" class=\"edge\">\n<title>139912839390864&#45;&gt;139912839389520</title>\n<path fill=\"none\" stroke=\"#000000\" d=\"M766.054,-2382.2796C764.8149,-2373.9499 762.9908,-2361.688 761.4455,-2351.3004\"/>\n<polygon fill=\"#000000\" stroke=\"#000000\" points=\"764.9057,-2350.7734 759.9723,-2341.3972 757.9819,-2351.8034 764.9057,-2350.7734\"/>\n</g>\n<!-- 139912874323872 -->\n<g id=\"node118\" class=\"node\">\n<title>139912874323872</title>\n<polygon fill=\"#add8e6\" stroke=\"#000000\" points=\"844,-2473 701,-2473 701,-2443 844,-2443 844,-2473\"/>\n<text text-anchor=\"middle\" x=\"772.5\" y=\"-2461\" font-family=\"monospace\" font-size=\"10.00\" fill=\"#000000\">layer2.1.conv1.weight</text>\n<text text-anchor=\"middle\" x=\"772.5\" y=\"-2450\" font-family=\"monospace\" font-size=\"10.00\" fill=\"#000000\"> (128, 128, 3, 3)</text>\n</g>\n<!-- 139912874323872&#45;&gt;139912839390864 -->\n<g id=\"edge119\" class=\"edge\">\n<title>139912874323872&#45;&gt;139912839390864</title>\n<path fill=\"none\" stroke=\"#000000\" d=\"M771.3403,-2442.6924C770.6444,-2433.5067 769.7519,-2421.7245 769.0024,-2411.8312\"/>\n<polygon fill=\"#000000\" stroke=\"#000000\" points=\"772.4806,-2411.4101 768.2351,-2401.7031 765.5006,-2411.9389 772.4806,-2411.4101\"/>\n</g>\n<!-- 139912839391312 -->\n<g id=\"node119\" class=\"node\">\n<title>139912839391312</title>\n<polygon fill=\"#d3d3d3\" stroke=\"#000000\" points=\"961,-2341 860,-2341 860,-2322 961,-2322 961,-2341\"/>\n<text text-anchor=\"middle\" x=\"910.5\" y=\"-2329\" font-family=\"monospace\" font-size=\"10.00\" fill=\"#000000\">AccumulateGrad</text>\n</g>\n<!-- 139912839391312&#45;&gt;139912839390416 -->\n<g id=\"edge120\" class=\"edge\">\n<title>139912839391312&#45;&gt;139912839390416</title>\n<path fill=\"none\" stroke=\"#000000\" d=\"M898.2893,-2321.7796C886.614,-2312.4855 868.7888,-2298.2957 854.9465,-2287.2765\"/>\n<polygon fill=\"#000000\" stroke=\"#000000\" points=\"856.9365,-2284.3871 846.9329,-2280.8972 852.5768,-2289.8637 856.9365,-2284.3871\"/>\n</g>\n<!-- 139912888181856 -->\n<g id=\"node120\" class=\"node\">\n<title>139912888181856</title>\n<polygon fill=\"#add8e6\" stroke=\"#000000\" points=\"971,-2407 840,-2407 840,-2377 971,-2377 971,-2407\"/>\n<text text-anchor=\"middle\" x=\"905.5\" y=\"-2395\" font-family=\"monospace\" font-size=\"10.00\" fill=\"#000000\">layer2.1.bn1.weight</text>\n<text text-anchor=\"middle\" x=\"905.5\" y=\"-2384\" font-family=\"monospace\" font-size=\"10.00\" fill=\"#000000\"> (128)</text>\n</g>\n<!-- 139912888181856&#45;&gt;139912839391312 -->\n<g id=\"edge121\" class=\"edge\">\n<title>139912888181856&#45;&gt;139912839391312</title>\n<path fill=\"none\" stroke=\"#000000\" d=\"M906.7617,-2376.7333C907.4054,-2368.9447 908.1956,-2359.3831 908.8834,-2351.0604\"/>\n<polygon fill=\"#000000\" stroke=\"#000000\" points=\"912.3721,-2351.3407 909.7077,-2341.0864 905.3959,-2350.7641 912.3721,-2351.3407\"/>\n</g>\n<!-- 139912839389648 -->\n<g id=\"node121\" class=\"node\">\n<title>139912839389648</title>\n<polygon fill=\"#d3d3d3\" stroke=\"#000000\" points=\"1085,-2341 984,-2341 984,-2322 1085,-2322 1085,-2341\"/>\n<text text-anchor=\"middle\" x=\"1034.5\" y=\"-2329\" font-family=\"monospace\" font-size=\"10.00\" fill=\"#000000\">AccumulateGrad</text>\n</g>\n<!-- 139912839389648&#45;&gt;139912839390416 -->\n<g id=\"edge122\" class=\"edge\">\n<title>139912839389648&#45;&gt;139912839390416</title>\n<path fill=\"none\" stroke=\"#000000\" d=\"M1002.8094,-2321.9136C968.4319,-2311.5144 913.4232,-2294.8743 875.711,-2283.4663\"/>\n<polygon fill=\"#000000\" stroke=\"#000000\" points=\"876.6274,-2280.087 866.0423,-2280.5416 874.6006,-2286.7871 876.6274,-2280.087\"/>\n</g>\n<!-- 139912888184336 -->\n<g id=\"node122\" class=\"node\">\n<title>139912888184336</title>\n<polygon fill=\"#add8e6\" stroke=\"#000000\" points=\"1108,-2407 989,-2407 989,-2377 1108,-2377 1108,-2407\"/>\n<text text-anchor=\"middle\" x=\"1048.5\" y=\"-2395\" font-family=\"monospace\" font-size=\"10.00\" fill=\"#000000\">layer2.1.bn1.bias</text>\n<text text-anchor=\"middle\" x=\"1048.5\" y=\"-2384\" font-family=\"monospace\" font-size=\"10.00\" fill=\"#000000\"> (128)</text>\n</g>\n<!-- 139912888184336&#45;&gt;139912839389648 -->\n<g id=\"edge123\" class=\"edge\">\n<title>139912888184336&#45;&gt;139912839389648</title>\n<path fill=\"none\" stroke=\"#000000\" d=\"M1044.9672,-2376.7333C1043.1649,-2368.9447 1040.9523,-2359.3831 1039.0264,-2351.0604\"/>\n<polygon fill=\"#000000\" stroke=\"#000000\" points=\"1042.3828,-2350.0399 1036.7183,-2341.0864 1035.563,-2351.6181 1042.3828,-2350.0399\"/>\n</g>\n<!-- 139912839389456 -->\n<g id=\"node123\" class=\"node\">\n<title>139912839389456</title>\n<polygon fill=\"#d3d3d3\" stroke=\"#000000\" points=\"1001,-2214.5 900,-2214.5 900,-2195.5 1001,-2195.5 1001,-2214.5\"/>\n<text text-anchor=\"middle\" x=\"950.5\" y=\"-2202.5\" font-family=\"monospace\" font-size=\"10.00\" fill=\"#000000\">AccumulateGrad</text>\n</g>\n<!-- 139912839389456&#45;&gt;139912839392464 -->\n<g id=\"edge124\" class=\"edge\">\n<title>139912839389456&#45;&gt;139912839392464</title>\n<path fill=\"none\" stroke=\"#000000\" d=\"M947.608,-2195.2796C945.1297,-2186.9499 941.4816,-2174.688 938.391,-2164.3004\"/>\n<polygon fill=\"#000000\" stroke=\"#000000\" points=\"941.651,-2162.9839 935.4446,-2154.3972 934.9417,-2164.9801 941.651,-2162.9839\"/>\n</g>\n<!-- 139914308035360 -->\n<g id=\"node124\" class=\"node\">\n<title>139914308035360</title>\n<polygon fill=\"#add8e6\" stroke=\"#000000\" points=\"1073,-2286 930,-2286 930,-2256 1073,-2256 1073,-2286\"/>\n<text text-anchor=\"middle\" x=\"1001.5\" y=\"-2274\" font-family=\"monospace\" font-size=\"10.00\" fill=\"#000000\">layer2.1.conv2.weight</text>\n<text text-anchor=\"middle\" x=\"1001.5\" y=\"-2263\" font-family=\"monospace\" font-size=\"10.00\" fill=\"#000000\"> (128, 128, 3, 3)</text>\n</g>\n<!-- 139914308035360&#45;&gt;139912839389456 -->\n<g id=\"edge125\" class=\"edge\">\n<title>139914308035360&#45;&gt;139912839389456</title>\n<path fill=\"none\" stroke=\"#000000\" d=\"M989.6714,-2255.6924C982.0391,-2245.8153 972.087,-2232.9361 964.1241,-2222.6312\"/>\n<polygon fill=\"#000000\" stroke=\"#000000\" points=\"966.8818,-2220.4759 957.9978,-2214.7031 961.3428,-2224.756 966.8818,-2220.4759\"/>\n</g>\n<!-- 139912839389968 -->\n<g id=\"node125\" class=\"node\">\n<title>139912839389968</title>\n<polygon fill=\"#d3d3d3\" stroke=\"#000000\" points=\"1135,-2154 1034,-2154 1034,-2135 1135,-2135 1135,-2154\"/>\n<text text-anchor=\"middle\" x=\"1084.5\" y=\"-2142\" font-family=\"monospace\" font-size=\"10.00\" fill=\"#000000\">AccumulateGrad</text>\n</g>\n<!-- 139912839389968&#45;&gt;139912839391696 -->\n<g id=\"edge126\" class=\"edge\">\n<title>139912839389968&#45;&gt;139912839391696</title>\n<path fill=\"none\" stroke=\"#000000\" d=\"M1071.2618,-2134.9197C1059.8888,-2126.6893 1043.2744,-2114.6657 1029.9965,-2105.0567\"/>\n<polygon fill=\"#000000\" stroke=\"#000000\" points=\"1031.9946,-2102.1823 1021.8415,-2099.155 1027.8907,-2107.8532 1031.9946,-2102.1823\"/>\n</g>\n<!-- 139912873440112 -->\n<g id=\"node126\" class=\"node\">\n<title>139912873440112</title>\n<polygon fill=\"#add8e6\" stroke=\"#000000\" points=\"1150,-2220 1019,-2220 1019,-2190 1150,-2190 1150,-2220\"/>\n<text text-anchor=\"middle\" x=\"1084.5\" y=\"-2208\" font-family=\"monospace\" font-size=\"10.00\" fill=\"#000000\">layer2.1.bn2.weight</text>\n<text text-anchor=\"middle\" x=\"1084.5\" y=\"-2197\" font-family=\"monospace\" font-size=\"10.00\" fill=\"#000000\"> (128)</text>\n</g>\n<!-- 139912873440112&#45;&gt;139912839389968 -->\n<g id=\"edge127\" class=\"edge\">\n<title>139912873440112&#45;&gt;139912839389968</title>\n<path fill=\"none\" stroke=\"#000000\" d=\"M1084.5,-2189.7333C1084.5,-2182.0322 1084.5,-2172.5977 1084.5,-2164.3414\"/>\n<polygon fill=\"#000000\" stroke=\"#000000\" points=\"1088.0001,-2164.0864 1084.5,-2154.0864 1081.0001,-2164.0864 1088.0001,-2164.0864\"/>\n</g>\n<!-- 139912839390096 -->\n<g id=\"node127\" class=\"node\">\n<title>139912839390096</title>\n<polygon fill=\"#d3d3d3\" stroke=\"#000000\" points=\"1266,-2154 1165,-2154 1165,-2135 1266,-2135 1266,-2154\"/>\n<text text-anchor=\"middle\" x=\"1215.5\" y=\"-2142\" font-family=\"monospace\" font-size=\"10.00\" fill=\"#000000\">AccumulateGrad</text>\n</g>\n<!-- 139912839390096&#45;&gt;139912839391696 -->\n<g id=\"edge128\" class=\"edge\">\n<title>139912839390096&#45;&gt;139912839391696</title>\n<path fill=\"none\" stroke=\"#000000\" d=\"M1179.4434,-2134.9197C1144.6729,-2125.6812 1091.9154,-2111.6635 1054.2133,-2101.646\"/>\n<polygon fill=\"#000000\" stroke=\"#000000\" points=\"1055.0536,-2098.2479 1044.4901,-2099.0626 1053.256,-2105.0132 1055.0536,-2098.2479\"/>\n</g>\n<!-- 139912873442912 -->\n<g id=\"node128\" class=\"node\">\n<title>139912873442912</title>\n<polygon fill=\"#add8e6\" stroke=\"#000000\" points=\"1287,-2220 1168,-2220 1168,-2190 1287,-2190 1287,-2220\"/>\n<text text-anchor=\"middle\" x=\"1227.5\" y=\"-2208\" font-family=\"monospace\" font-size=\"10.00\" fill=\"#000000\">layer2.1.bn2.bias</text>\n<text text-anchor=\"middle\" x=\"1227.5\" y=\"-2197\" font-family=\"monospace\" font-size=\"10.00\" fill=\"#000000\"> (128)</text>\n</g>\n<!-- 139912873442912&#45;&gt;139912839390096 -->\n<g id=\"edge129\" class=\"edge\">\n<title>139912873442912&#45;&gt;139912839390096</title>\n<path fill=\"none\" stroke=\"#000000\" d=\"M1224.4719,-2189.7333C1222.927,-2181.9447 1221.0305,-2172.3831 1219.3797,-2164.0604\"/>\n<polygon fill=\"#000000\" stroke=\"#000000\" points=\"1222.7802,-2163.2143 1217.4014,-2154.0864 1215.914,-2164.5763 1222.7802,-2163.2143\"/>\n</g>\n<!-- 139912839392016 -->\n<g id=\"node129\" class=\"node\">\n<title>139912839392016</title>\n<polygon fill=\"#d3d3d3\" stroke=\"#000000\" points=\"918,-1972.5 817,-1972.5 817,-1953.5 918,-1953.5 918,-1972.5\"/>\n<text text-anchor=\"middle\" x=\"867.5\" y=\"-1960.5\" font-family=\"monospace\" font-size=\"10.00\" fill=\"#000000\">AccumulateGrad</text>\n</g>\n<!-- 139912839392016&#45;&gt;139912839392784 -->\n<g id=\"edge131\" class=\"edge\">\n<title>139912839392016&#45;&gt;139912839392784</title>\n<path fill=\"none\" stroke=\"#000000\" d=\"M864.608,-1953.2796C862.1297,-1944.9499 858.4816,-1932.688 855.391,-1922.3004\"/>\n<polygon fill=\"#000000\" stroke=\"#000000\" points=\"858.651,-1920.9839 852.4446,-1912.3972 851.9417,-1922.9801 858.651,-1920.9839\"/>\n</g>\n<!-- 139912839371184 -->\n<g id=\"node130\" class=\"node\">\n<title>139912839371184</title>\n<polygon fill=\"#add8e6\" stroke=\"#000000\" points=\"957,-2044 814,-2044 814,-2014 957,-2014 957,-2044\"/>\n<text text-anchor=\"middle\" x=\"885.5\" y=\"-2032\" font-family=\"monospace\" font-size=\"10.00\" fill=\"#000000\">layer3.0.conv1.weight</text>\n<text text-anchor=\"middle\" x=\"885.5\" y=\"-2021\" font-family=\"monospace\" font-size=\"10.00\" fill=\"#000000\"> (256, 128, 3, 3)</text>\n</g>\n<!-- 139912839371184&#45;&gt;139912839392016 -->\n<g id=\"edge132\" class=\"edge\">\n<title>139912839371184&#45;&gt;139912839392016</title>\n<path fill=\"none\" stroke=\"#000000\" d=\"M881.3252,-2013.6924C878.7931,-2004.408 875.5375,-1992.4708 872.8216,-1982.5127\"/>\n<polygon fill=\"#000000\" stroke=\"#000000\" points=\"876.1542,-1981.4298 870.1463,-1972.7031 869.4009,-1983.2716 876.1542,-1981.4298\"/>\n</g>\n<!-- 139912839391760 -->\n<g id=\"node131\" class=\"node\">\n<title>139912839391760</title>\n<polygon fill=\"#d3d3d3\" stroke=\"#000000\" points=\"1052,-1912 951,-1912 951,-1893 1052,-1893 1052,-1912\"/>\n<text text-anchor=\"middle\" x=\"1001.5\" y=\"-1900\" font-family=\"monospace\" font-size=\"10.00\" fill=\"#000000\">AccumulateGrad</text>\n</g>\n<!-- 139912839391760&#45;&gt;139912839390672 -->\n<g id=\"edge133\" class=\"edge\">\n<title>139912839391760&#45;&gt;139912839390672</title>\n<path fill=\"none\" stroke=\"#000000\" d=\"M989.2893,-1892.7796C977.614,-1883.4855 959.7888,-1869.2957 945.9465,-1858.2765\"/>\n<polygon fill=\"#000000\" stroke=\"#000000\" points=\"947.9365,-1855.3871 937.9329,-1851.8972 943.5768,-1860.8637 947.9365,-1855.3871\"/>\n</g>\n<!-- 139912839372624 -->\n<g id=\"node132\" class=\"node\">\n<title>139912839372624</title>\n<polygon fill=\"#add8e6\" stroke=\"#000000\" points=\"1067,-1978 936,-1978 936,-1948 1067,-1948 1067,-1978\"/>\n<text text-anchor=\"middle\" x=\"1001.5\" y=\"-1966\" font-family=\"monospace\" font-size=\"10.00\" fill=\"#000000\">layer3.0.bn1.weight</text>\n<text text-anchor=\"middle\" x=\"1001.5\" y=\"-1955\" font-family=\"monospace\" font-size=\"10.00\" fill=\"#000000\"> (256)</text>\n</g>\n<!-- 139912839372624&#45;&gt;139912839391760 -->\n<g id=\"edge134\" class=\"edge\">\n<title>139912839372624&#45;&gt;139912839391760</title>\n<path fill=\"none\" stroke=\"#000000\" d=\"M1001.5,-1947.7333C1001.5,-1940.0322 1001.5,-1930.5977 1001.5,-1922.3414\"/>\n<polygon fill=\"#000000\" stroke=\"#000000\" points=\"1005.0001,-1922.0864 1001.5,-1912.0864 998.0001,-1922.0864 1005.0001,-1922.0864\"/>\n</g>\n<!-- 139912839389328 -->\n<g id=\"node133\" class=\"node\">\n<title>139912839389328</title>\n<polygon fill=\"#d3d3d3\" stroke=\"#000000\" points=\"1183,-1912 1082,-1912 1082,-1893 1183,-1893 1183,-1912\"/>\n<text text-anchor=\"middle\" x=\"1132.5\" y=\"-1900\" font-family=\"monospace\" font-size=\"10.00\" fill=\"#000000\">AccumulateGrad</text>\n</g>\n<!-- 139912839389328&#45;&gt;139912839390672 -->\n<g id=\"edge135\" class=\"edge\">\n<title>139912839389328&#45;&gt;139912839390672</title>\n<path fill=\"none\" stroke=\"#000000\" d=\"M1099.7002,-1892.9136C1064.1195,-1882.5144 1007.1855,-1865.8743 968.1534,-1854.4663\"/>\n<polygon fill=\"#000000\" stroke=\"#000000\" points=\"968.7266,-1850.9875 958.1463,-1851.5416 966.7629,-1857.7064 968.7266,-1850.9875\"/>\n</g>\n<!-- 139912872960080 -->\n<g id=\"node134\" class=\"node\">\n<title>139912872960080</title>\n<polygon fill=\"#add8e6\" stroke=\"#000000\" points=\"1204,-1978 1085,-1978 1085,-1948 1204,-1948 1204,-1978\"/>\n<text text-anchor=\"middle\" x=\"1144.5\" y=\"-1966\" font-family=\"monospace\" font-size=\"10.00\" fill=\"#000000\">layer3.0.bn1.bias</text>\n<text text-anchor=\"middle\" x=\"1144.5\" y=\"-1955\" font-family=\"monospace\" font-size=\"10.00\" fill=\"#000000\"> (256)</text>\n</g>\n<!-- 139912872960080&#45;&gt;139912839389328 -->\n<g id=\"edge136\" class=\"edge\">\n<title>139912872960080&#45;&gt;139912839389328</title>\n<path fill=\"none\" stroke=\"#000000\" d=\"M1141.4719,-1947.7333C1139.927,-1939.9447 1138.0305,-1930.3831 1136.3797,-1922.0604\"/>\n<polygon fill=\"#000000\" stroke=\"#000000\" points=\"1139.7802,-1921.2143 1134.4014,-1912.0864 1132.914,-1922.5763 1139.7802,-1921.2143\"/>\n</g>\n<!-- 139912839392208 -->\n<g id=\"node135\" class=\"node\">\n<title>139912839392208</title>\n<polygon fill=\"#d3d3d3\" stroke=\"#000000\" points=\"1092,-1785.5 991,-1785.5 991,-1766.5 1092,-1766.5 1092,-1785.5\"/>\n<text text-anchor=\"middle\" x=\"1041.5\" y=\"-1773.5\" font-family=\"monospace\" font-size=\"10.00\" fill=\"#000000\">AccumulateGrad</text>\n</g>\n<!-- 139912839392208&#45;&gt;139912874114448 -->\n<g id=\"edge137\" class=\"edge\">\n<title>139912839392208&#45;&gt;139912874114448</title>\n<path fill=\"none\" stroke=\"#000000\" d=\"M1038.608,-1766.2796C1036.1297,-1757.9499 1032.4816,-1745.688 1029.391,-1735.3004\"/>\n<polygon fill=\"#000000\" stroke=\"#000000\" points=\"1032.651,-1733.9839 1026.4446,-1725.3972 1025.9417,-1735.9801 1032.651,-1733.9839\"/>\n</g>\n<!-- 139912899936496 -->\n<g id=\"node136\" class=\"node\">\n<title>139912899936496</title>\n<polygon fill=\"#add8e6\" stroke=\"#000000\" points=\"1164,-1857 1021,-1857 1021,-1827 1164,-1827 1164,-1857\"/>\n<text text-anchor=\"middle\" x=\"1092.5\" y=\"-1845\" font-family=\"monospace\" font-size=\"10.00\" fill=\"#000000\">layer3.0.conv2.weight</text>\n<text text-anchor=\"middle\" x=\"1092.5\" y=\"-1834\" font-family=\"monospace\" font-size=\"10.00\" fill=\"#000000\"> (256, 256, 3, 3)</text>\n</g>\n<!-- 139912899936496&#45;&gt;139912839392208 -->\n<g id=\"edge138\" class=\"edge\">\n<title>139912899936496&#45;&gt;139912839392208</title>\n<path fill=\"none\" stroke=\"#000000\" d=\"M1080.6714,-1826.6924C1073.0391,-1816.8153 1063.087,-1803.9361 1055.1241,-1793.6312\"/>\n<polygon fill=\"#000000\" stroke=\"#000000\" points=\"1057.8818,-1791.4759 1048.9978,-1785.7031 1052.3428,-1795.756 1057.8818,-1791.4759\"/>\n</g>\n<!-- 139912874114576 -->\n<g id=\"node137\" class=\"node\">\n<title>139912874114576</title>\n<polygon fill=\"#d3d3d3\" stroke=\"#000000\" points=\"1226,-1725 1125,-1725 1125,-1706 1226,-1706 1226,-1725\"/>\n<text text-anchor=\"middle\" x=\"1175.5\" y=\"-1713\" font-family=\"monospace\" font-size=\"10.00\" fill=\"#000000\">AccumulateGrad</text>\n</g>\n<!-- 139912874114576&#45;&gt;139912874112144 -->\n<g id=\"edge139\" class=\"edge\">\n<title>139912874114576&#45;&gt;139912874112144</title>\n<path fill=\"none\" stroke=\"#000000\" d=\"M1162.2618,-1705.9197C1150.8888,-1697.6893 1134.2744,-1685.6657 1120.9965,-1676.0567\"/>\n<polygon fill=\"#000000\" stroke=\"#000000\" points=\"1122.9946,-1673.1823 1112.8415,-1670.155 1118.8907,-1678.8532 1122.9946,-1673.1823\"/>\n</g>\n<!-- 139912874134496 -->\n<g id=\"node138\" class=\"node\">\n<title>139912874134496</title>\n<polygon fill=\"#add8e6\" stroke=\"#000000\" points=\"1241,-1791 1110,-1791 1110,-1761 1241,-1761 1241,-1791\"/>\n<text text-anchor=\"middle\" x=\"1175.5\" y=\"-1779\" font-family=\"monospace\" font-size=\"10.00\" fill=\"#000000\">layer3.0.bn2.weight</text>\n<text text-anchor=\"middle\" x=\"1175.5\" y=\"-1768\" font-family=\"monospace\" font-size=\"10.00\" fill=\"#000000\"> (256)</text>\n</g>\n<!-- 139912874134496&#45;&gt;139912874114576 -->\n<g id=\"edge140\" class=\"edge\">\n<title>139912874134496&#45;&gt;139912874114576</title>\n<path fill=\"none\" stroke=\"#000000\" d=\"M1175.5,-1760.7333C1175.5,-1753.0322 1175.5,-1743.5977 1175.5,-1735.3414\"/>\n<polygon fill=\"#000000\" stroke=\"#000000\" points=\"1179.0001,-1735.0864 1175.5,-1725.0864 1172.0001,-1735.0864 1179.0001,-1735.0864\"/>\n</g>\n<!-- 139912874112912 -->\n<g id=\"node139\" class=\"node\">\n<title>139912874112912</title>\n<polygon fill=\"#d3d3d3\" stroke=\"#000000\" points=\"1357,-1725 1256,-1725 1256,-1706 1357,-1706 1357,-1725\"/>\n<text text-anchor=\"middle\" x=\"1306.5\" y=\"-1713\" font-family=\"monospace\" font-size=\"10.00\" fill=\"#000000\">AccumulateGrad</text>\n</g>\n<!-- 139912874112912&#45;&gt;139912874112144 -->\n<g id=\"edge141\" class=\"edge\">\n<title>139912874112912&#45;&gt;139912874112144</title>\n<path fill=\"none\" stroke=\"#000000\" d=\"M1270.4434,-1705.9197C1235.6729,-1696.6812 1182.9154,-1682.6635 1145.2133,-1672.646\"/>\n<polygon fill=\"#000000\" stroke=\"#000000\" points=\"1146.0536,-1669.2479 1135.4901,-1670.0626 1144.256,-1676.0132 1146.0536,-1669.2479\"/>\n</g>\n<!-- 139912888251408 -->\n<g id=\"node140\" class=\"node\">\n<title>139912888251408</title>\n<polygon fill=\"#add8e6\" stroke=\"#000000\" points=\"1378,-1791 1259,-1791 1259,-1761 1378,-1761 1378,-1791\"/>\n<text text-anchor=\"middle\" x=\"1318.5\" y=\"-1779\" font-family=\"monospace\" font-size=\"10.00\" fill=\"#000000\">layer3.0.bn2.bias</text>\n<text text-anchor=\"middle\" x=\"1318.5\" y=\"-1768\" font-family=\"monospace\" font-size=\"10.00\" fill=\"#000000\"> (256)</text>\n</g>\n<!-- 139912888251408&#45;&gt;139912874112912 -->\n<g id=\"edge142\" class=\"edge\">\n<title>139912888251408&#45;&gt;139912874112912</title>\n<path fill=\"none\" stroke=\"#000000\" d=\"M1315.4719,-1760.7333C1313.927,-1752.9447 1312.0305,-1743.3831 1310.3797,-1735.0604\"/>\n<polygon fill=\"#000000\" stroke=\"#000000\" points=\"1313.7802,-1734.2143 1308.4014,-1725.0864 1306.914,-1735.5763 1313.7802,-1734.2143\"/>\n</g>\n<!-- 139912874112400 -->\n<g id=\"node141\" class=\"node\">\n<title>139912874112400</title>\n<polygon fill=\"#d3d3d3\" stroke=\"#000000\" points=\"637,-1851.5 482,-1851.5 482,-1832.5 637,-1832.5 637,-1851.5\"/>\n<text text-anchor=\"middle\" x=\"559.5\" y=\"-1839.5\" font-family=\"monospace\" font-size=\"10.00\" fill=\"#000000\">NativeBatchNormBackward</text>\n</g>\n<!-- 139912874112400&#45;&gt;139912874112720 -->\n<g id=\"edge143\" class=\"edge\">\n<title>139912874112400&#45;&gt;139912874112720</title>\n<path fill=\"none\" stroke=\"#000000\" d=\"M570.4187,-1832.2136C611.811,-1795.1139 759.3356,-1662.8881 811.2595,-1616.3489\"/>\n<polygon fill=\"#000000\" stroke=\"#000000\" points=\"813.6306,-1618.9238 818.7412,-1609.6431 808.9585,-1613.7111 813.6306,-1618.9238\"/>\n</g>\n<!-- 139912839392080&#45;&gt;139912874112400 -->\n<g id=\"edge144\" class=\"edge\">\n<title>139912839392080&#45;&gt;139912874112400</title>\n<path fill=\"none\" stroke=\"#000000\" d=\"M623.2893,-1892.7796C611.614,-1883.4855 593.7888,-1869.2957 579.9465,-1858.2765\"/>\n<polygon fill=\"#000000\" stroke=\"#000000\" points=\"581.9365,-1855.3871 571.9329,-1851.8972 577.5768,-1860.8637 581.9365,-1855.3871\"/>\n</g>\n<!-- 139912839390480 -->\n<g id=\"node143\" class=\"node\">\n<title>139912839390480</title>\n<polygon fill=\"#d3d3d3\" stroke=\"#000000\" points=\"686,-1972.5 585,-1972.5 585,-1953.5 686,-1953.5 686,-1972.5\"/>\n<text text-anchor=\"middle\" x=\"635.5\" y=\"-1960.5\" font-family=\"monospace\" font-size=\"10.00\" fill=\"#000000\">AccumulateGrad</text>\n</g>\n<!-- 139912839390480&#45;&gt;139912839392080 -->\n<g id=\"edge146\" class=\"edge\">\n<title>139912839390480&#45;&gt;139912839392080</title>\n<path fill=\"none\" stroke=\"#000000\" d=\"M635.5,-1953.2796C635.5,-1945.0376 635.5,-1932.9457 635.5,-1922.629\"/>\n<polygon fill=\"#000000\" stroke=\"#000000\" points=\"639.0001,-1922.3972 635.5,-1912.3972 632.0001,-1922.3973 639.0001,-1922.3972\"/>\n</g>\n<!-- 139914405043888 -->\n<g id=\"node144\" class=\"node\">\n<title>139914405043888</title>\n<polygon fill=\"#add8e6\" stroke=\"#000000\" points=\"689,-2044 504,-2044 504,-2014 689,-2014 689,-2044\"/>\n<text text-anchor=\"middle\" x=\"596.5\" y=\"-2032\" font-family=\"monospace\" font-size=\"10.00\" fill=\"#000000\">layer3.0.downsample.0.weight</text>\n<text text-anchor=\"middle\" x=\"596.5\" y=\"-2021\" font-family=\"monospace\" font-size=\"10.00\" fill=\"#000000\"> (256, 128, 1, 1)</text>\n</g>\n<!-- 139914405043888&#45;&gt;139912839390480 -->\n<g id=\"edge147\" class=\"edge\">\n<title>139914405043888&#45;&gt;139912839390480</title>\n<path fill=\"none\" stroke=\"#000000\" d=\"M605.5454,-2013.6924C611.2068,-2004.1116 618.5373,-1991.7061 624.5295,-1981.5655\"/>\n<polygon fill=\"#000000\" stroke=\"#000000\" points=\"627.6923,-1983.0929 629.7664,-1972.7031 621.6658,-1979.5318 627.6923,-1983.0929\"/>\n</g>\n<!-- 139912839389712 -->\n<g id=\"node145\" class=\"node\">\n<title>139912839389712</title>\n<polygon fill=\"#d3d3d3\" stroke=\"#000000\" points=\"374,-1912 273,-1912 273,-1893 374,-1893 374,-1912\"/>\n<text text-anchor=\"middle\" x=\"323.5\" y=\"-1900\" font-family=\"monospace\" font-size=\"10.00\" fill=\"#000000\">AccumulateGrad</text>\n</g>\n<!-- 139912839389712&#45;&gt;139912874112400 -->\n<g id=\"edge148\" class=\"edge\">\n<title>139912839389712&#45;&gt;139912874112400</title>\n<path fill=\"none\" stroke=\"#000000\" d=\"M360.6346,-1892.9803C401.6656,-1882.4618 467.8308,-1865.4999 512.4571,-1854.0597\"/>\n<polygon fill=\"#000000\" stroke=\"#000000\" points=\"513.375,-1857.4377 522.1926,-1851.564 511.6367,-1850.6569 513.375,-1857.4377\"/>\n</g>\n<!-- 139912873443152 -->\n<g id=\"node146\" class=\"node\">\n<title>139912873443152</title>\n<polygon fill=\"#add8e6\" stroke=\"#000000\" points=\"376,-1978 191,-1978 191,-1948 376,-1948 376,-1978\"/>\n<text text-anchor=\"middle\" x=\"283.5\" y=\"-1966\" font-family=\"monospace\" font-size=\"10.00\" fill=\"#000000\">layer3.0.downsample.1.weight</text>\n<text text-anchor=\"middle\" x=\"283.5\" y=\"-1955\" font-family=\"monospace\" font-size=\"10.00\" fill=\"#000000\"> (256)</text>\n</g>\n<!-- 139912873443152&#45;&gt;139912839389712 -->\n<g id=\"edge149\" class=\"edge\">\n<title>139912873443152&#45;&gt;139912839389712</title>\n<path fill=\"none\" stroke=\"#000000\" d=\"M293.5937,-1947.7333C299.0325,-1939.5071 305.7789,-1929.3031 311.4868,-1920.6699\"/>\n<polygon fill=\"#000000\" stroke=\"#000000\" points=\"314.5663,-1922.3584 317.1619,-1912.0864 308.7271,-1918.4978 314.5663,-1922.3584\"/>\n</g>\n<!-- 139912839390544 -->\n<g id=\"node147\" class=\"node\">\n<title>139912839390544</title>\n<polygon fill=\"#d3d3d3\" stroke=\"#000000\" points=\"533,-1912 432,-1912 432,-1893 533,-1893 533,-1912\"/>\n<text text-anchor=\"middle\" x=\"482.5\" y=\"-1900\" font-family=\"monospace\" font-size=\"10.00\" fill=\"#000000\">AccumulateGrad</text>\n</g>\n<!-- 139912839390544&#45;&gt;139912874112400 -->\n<g id=\"edge150\" class=\"edge\">\n<title>139912839390544&#45;&gt;139912874112400</title>\n<path fill=\"none\" stroke=\"#000000\" d=\"M494.8714,-1892.7796C506.7707,-1883.4301 524.9752,-1869.1266 539.0345,-1858.08\"/>\n<polygon fill=\"#000000\" stroke=\"#000000\" points=\"541.4585,-1860.6266 547.1593,-1851.6962 537.1337,-1855.1224 541.4585,-1860.6266\"/>\n</g>\n<!-- 139912875333744 -->\n<g id=\"node148\" class=\"node\">\n<title>139912875333744</title>\n<polygon fill=\"#add8e6\" stroke=\"#000000\" points=\"567,-1978 394,-1978 394,-1948 567,-1948 567,-1978\"/>\n<text text-anchor=\"middle\" x=\"480.5\" y=\"-1966\" font-family=\"monospace\" font-size=\"10.00\" fill=\"#000000\">layer3.0.downsample.1.bias</text>\n<text text-anchor=\"middle\" x=\"480.5\" y=\"-1955\" font-family=\"monospace\" font-size=\"10.00\" fill=\"#000000\"> (256)</text>\n</g>\n<!-- 139912875333744&#45;&gt;139912839390544 -->\n<g id=\"edge151\" class=\"edge\">\n<title>139912875333744&#45;&gt;139912839390544</title>\n<path fill=\"none\" stroke=\"#000000\" d=\"M481.0047,-1947.7333C481.2593,-1940.0322 481.5712,-1930.5977 481.8441,-1922.3414\"/>\n<polygon fill=\"#000000\" stroke=\"#000000\" points=\"485.3507,-1922.1966 482.1831,-1912.0864 478.3545,-1921.9653 485.3507,-1922.1966\"/>\n</g>\n<!-- 139912874111440 -->\n<g id=\"node149\" class=\"node\">\n<title>139912874111440</title>\n<polygon fill=\"#d3d3d3\" stroke=\"#000000\" points=\"1009,-1543.5 908,-1543.5 908,-1524.5 1009,-1524.5 1009,-1543.5\"/>\n<text text-anchor=\"middle\" x=\"958.5\" y=\"-1531.5\" font-family=\"monospace\" font-size=\"10.00\" fill=\"#000000\">AccumulateGrad</text>\n</g>\n<!-- 139912874111440&#45;&gt;139912874112464 -->\n<g id=\"edge152\" class=\"edge\">\n<title>139912874111440&#45;&gt;139912874112464</title>\n<path fill=\"none\" stroke=\"#000000\" d=\"M957.054,-1524.2796C955.8149,-1515.9499 953.9908,-1503.688 952.4455,-1493.3004\"/>\n<polygon fill=\"#000000\" stroke=\"#000000\" points=\"955.9057,-1492.7734 950.9723,-1483.3972 948.9819,-1493.8034 955.9057,-1492.7734\"/>\n</g>\n<!-- 139912874275856 -->\n<g id=\"node150\" class=\"node\">\n<title>139912874275856</title>\n<polygon fill=\"#add8e6\" stroke=\"#000000\" points=\"1035,-1615 892,-1615 892,-1585 1035,-1585 1035,-1615\"/>\n<text text-anchor=\"middle\" x=\"963.5\" y=\"-1603\" font-family=\"monospace\" font-size=\"10.00\" fill=\"#000000\">layer3.1.conv1.weight</text>\n<text text-anchor=\"middle\" x=\"963.5\" y=\"-1592\" font-family=\"monospace\" font-size=\"10.00\" fill=\"#000000\"> (256, 256, 3, 3)</text>\n</g>\n<!-- 139912874275856&#45;&gt;139912874111440 -->\n<g id=\"edge153\" class=\"edge\">\n<title>139912874275856&#45;&gt;139912874111440</title>\n<path fill=\"none\" stroke=\"#000000\" d=\"M962.3403,-1584.6924C961.6444,-1575.5067 960.7519,-1563.7245 960.0024,-1553.8312\"/>\n<polygon fill=\"#000000\" stroke=\"#000000\" points=\"963.4806,-1553.4101 959.2351,-1543.7031 956.5006,-1553.9389 963.4806,-1553.4101\"/>\n</g>\n<!-- 139912874114832 -->\n<g id=\"node151\" class=\"node\">\n<title>139912874114832</title>\n<polygon fill=\"#d3d3d3\" stroke=\"#000000\" points=\"1152,-1483 1051,-1483 1051,-1464 1152,-1464 1152,-1483\"/>\n<text text-anchor=\"middle\" x=\"1101.5\" y=\"-1471\" font-family=\"monospace\" font-size=\"10.00\" fill=\"#000000\">AccumulateGrad</text>\n</g>\n<!-- 139912874114832&#45;&gt;139912874112656 -->\n<g id=\"edge154\" class=\"edge\">\n<title>139912874114832&#45;&gt;139912874112656</title>\n<path fill=\"none\" stroke=\"#000000\" d=\"M1089.2893,-1463.7796C1077.614,-1454.4855 1059.7888,-1440.2957 1045.9465,-1429.2765\"/>\n<polygon fill=\"#000000\" stroke=\"#000000\" points=\"1047.9365,-1426.3871 1037.9329,-1422.8972 1043.5768,-1431.8637 1047.9365,-1426.3871\"/>\n</g>\n<!-- 139912874859808 -->\n<g id=\"node152\" class=\"node\">\n<title>139912874859808</title>\n<polygon fill=\"#add8e6\" stroke=\"#000000\" points=\"1162,-1549 1031,-1549 1031,-1519 1162,-1519 1162,-1549\"/>\n<text text-anchor=\"middle\" x=\"1096.5\" y=\"-1537\" font-family=\"monospace\" font-size=\"10.00\" fill=\"#000000\">layer3.1.bn1.weight</text>\n<text text-anchor=\"middle\" x=\"1096.5\" y=\"-1526\" font-family=\"monospace\" font-size=\"10.00\" fill=\"#000000\"> (256)</text>\n</g>\n<!-- 139912874859808&#45;&gt;139912874114832 -->\n<g id=\"edge155\" class=\"edge\">\n<title>139912874859808&#45;&gt;139912874114832</title>\n<path fill=\"none\" stroke=\"#000000\" d=\"M1097.7617,-1518.7333C1098.4054,-1510.9447 1099.1956,-1501.3831 1099.8834,-1493.0604\"/>\n<polygon fill=\"#000000\" stroke=\"#000000\" points=\"1103.3721,-1493.3407 1100.7077,-1483.0864 1096.3959,-1492.7641 1103.3721,-1493.3407\"/>\n</g>\n<!-- 139912874114000 -->\n<g id=\"node153\" class=\"node\">\n<title>139912874114000</title>\n<polygon fill=\"#d3d3d3\" stroke=\"#000000\" points=\"1276,-1483 1175,-1483 1175,-1464 1276,-1464 1276,-1483\"/>\n<text text-anchor=\"middle\" x=\"1225.5\" y=\"-1471\" font-family=\"monospace\" font-size=\"10.00\" fill=\"#000000\">AccumulateGrad</text>\n</g>\n<!-- 139912874114000&#45;&gt;139912874112656 -->\n<g id=\"edge156\" class=\"edge\">\n<title>139912874114000&#45;&gt;139912874112656</title>\n<path fill=\"none\" stroke=\"#000000\" d=\"M1193.8094,-1463.9136C1159.4319,-1453.5144 1104.4232,-1436.8743 1066.711,-1425.4663\"/>\n<polygon fill=\"#000000\" stroke=\"#000000\" points=\"1067.6274,-1422.087 1057.0423,-1422.5416 1065.6006,-1428.7871 1067.6274,-1422.087\"/>\n</g>\n<!-- 139912874859488 -->\n<g id=\"node154\" class=\"node\">\n<title>139912874859488</title>\n<polygon fill=\"#add8e6\" stroke=\"#000000\" points=\"1299,-1549 1180,-1549 1180,-1519 1299,-1519 1299,-1549\"/>\n<text text-anchor=\"middle\" x=\"1239.5\" y=\"-1537\" font-family=\"monospace\" font-size=\"10.00\" fill=\"#000000\">layer3.1.bn1.bias</text>\n<text text-anchor=\"middle\" x=\"1239.5\" y=\"-1526\" font-family=\"monospace\" font-size=\"10.00\" fill=\"#000000\"> (256)</text>\n</g>\n<!-- 139912874859488&#45;&gt;139912874114000 -->\n<g id=\"edge157\" class=\"edge\">\n<title>139912874859488&#45;&gt;139912874114000</title>\n<path fill=\"none\" stroke=\"#000000\" d=\"M1235.9672,-1518.7333C1234.1649,-1510.9447 1231.9523,-1501.3831 1230.0264,-1493.0604\"/>\n<polygon fill=\"#000000\" stroke=\"#000000\" points=\"1233.3828,-1492.0399 1227.7183,-1483.0864 1226.563,-1493.6181 1233.3828,-1492.0399\"/>\n</g>\n<!-- 139912874114064 -->\n<g id=\"node155\" class=\"node\">\n<title>139912874114064</title>\n<polygon fill=\"#d3d3d3\" stroke=\"#000000\" points=\"1192,-1356.5 1091,-1356.5 1091,-1337.5 1192,-1337.5 1192,-1356.5\"/>\n<text text-anchor=\"middle\" x=\"1141.5\" y=\"-1344.5\" font-family=\"monospace\" font-size=\"10.00\" fill=\"#000000\">AccumulateGrad</text>\n</g>\n<!-- 139912874114064&#45;&gt;139912839336080 -->\n<g id=\"edge158\" class=\"edge\">\n<title>139912874114064&#45;&gt;139912839336080</title>\n<path fill=\"none\" stroke=\"#000000\" d=\"M1138.608,-1337.2796C1136.1297,-1328.9499 1132.4816,-1316.688 1129.391,-1306.3004\"/>\n<polygon fill=\"#000000\" stroke=\"#000000\" points=\"1132.651,-1304.9839 1126.4446,-1296.3972 1125.9417,-1306.9801 1132.651,-1304.9839\"/>\n</g>\n<!-- 139912881553488 -->\n<g id=\"node156\" class=\"node\">\n<title>139912881553488</title>\n<polygon fill=\"#add8e6\" stroke=\"#000000\" points=\"1264,-1428 1121,-1428 1121,-1398 1264,-1398 1264,-1428\"/>\n<text text-anchor=\"middle\" x=\"1192.5\" y=\"-1416\" font-family=\"monospace\" font-size=\"10.00\" fill=\"#000000\">layer3.1.conv2.weight</text>\n<text text-anchor=\"middle\" x=\"1192.5\" y=\"-1405\" font-family=\"monospace\" font-size=\"10.00\" fill=\"#000000\"> (256, 256, 3, 3)</text>\n</g>\n<!-- 139912881553488&#45;&gt;139912874114064 -->\n<g id=\"edge159\" class=\"edge\">\n<title>139912881553488&#45;&gt;139912874114064</title>\n<path fill=\"none\" stroke=\"#000000\" d=\"M1180.6714,-1397.6924C1173.0391,-1387.8153 1163.087,-1374.9361 1155.1241,-1364.6312\"/>\n<polygon fill=\"#000000\" stroke=\"#000000\" points=\"1157.8818,-1362.4759 1148.9978,-1356.7031 1152.3428,-1366.756 1157.8818,-1362.4759\"/>\n</g>\n<!-- 139912874112592 -->\n<g id=\"node157\" class=\"node\">\n<title>139912874112592</title>\n<polygon fill=\"#d3d3d3\" stroke=\"#000000\" points=\"1326,-1296 1225,-1296 1225,-1277 1326,-1277 1326,-1296\"/>\n<text text-anchor=\"middle\" x=\"1275.5\" y=\"-1284\" font-family=\"monospace\" font-size=\"10.00\" fill=\"#000000\">AccumulateGrad</text>\n</g>\n<!-- 139912874112592&#45;&gt;139912839337360 -->\n<g id=\"edge160\" class=\"edge\">\n<title>139912874112592&#45;&gt;139912839337360</title>\n<path fill=\"none\" stroke=\"#000000\" d=\"M1262.2618,-1276.9197C1250.8888,-1268.6893 1234.2744,-1256.6657 1220.9965,-1247.0567\"/>\n<polygon fill=\"#000000\" stroke=\"#000000\" points=\"1222.9946,-1244.1823 1212.8415,-1241.155 1218.8907,-1249.8532 1222.9946,-1244.1823\"/>\n</g>\n<!-- 139912888086432 -->\n<g id=\"node158\" class=\"node\">\n<title>139912888086432</title>\n<polygon fill=\"#add8e6\" stroke=\"#000000\" points=\"1341,-1362 1210,-1362 1210,-1332 1341,-1332 1341,-1362\"/>\n<text text-anchor=\"middle\" x=\"1275.5\" y=\"-1350\" font-family=\"monospace\" font-size=\"10.00\" fill=\"#000000\">layer3.1.bn2.weight</text>\n<text text-anchor=\"middle\" x=\"1275.5\" y=\"-1339\" font-family=\"monospace\" font-size=\"10.00\" fill=\"#000000\"> (256)</text>\n</g>\n<!-- 139912888086432&#45;&gt;139912874112592 -->\n<g id=\"edge161\" class=\"edge\">\n<title>139912888086432&#45;&gt;139912874112592</title>\n<path fill=\"none\" stroke=\"#000000\" d=\"M1275.5,-1331.7333C1275.5,-1324.0322 1275.5,-1314.5977 1275.5,-1306.3414\"/>\n<polygon fill=\"#000000\" stroke=\"#000000\" points=\"1279.0001,-1306.0864 1275.5,-1296.0864 1272.0001,-1306.0864 1279.0001,-1306.0864\"/>\n</g>\n<!-- 139912874111184 -->\n<g id=\"node159\" class=\"node\">\n<title>139912874111184</title>\n<polygon fill=\"#d3d3d3\" stroke=\"#000000\" points=\"1457,-1296 1356,-1296 1356,-1277 1457,-1277 1457,-1296\"/>\n<text text-anchor=\"middle\" x=\"1406.5\" y=\"-1284\" font-family=\"monospace\" font-size=\"10.00\" fill=\"#000000\">AccumulateGrad</text>\n</g>\n<!-- 139912874111184&#45;&gt;139912839337360 -->\n<g id=\"edge162\" class=\"edge\">\n<title>139912874111184&#45;&gt;139912839337360</title>\n<path fill=\"none\" stroke=\"#000000\" d=\"M1370.4434,-1276.9197C1335.6729,-1267.6812 1282.9154,-1253.6635 1245.2133,-1243.646\"/>\n<polygon fill=\"#000000\" stroke=\"#000000\" points=\"1246.0536,-1240.2479 1235.4901,-1241.0626 1244.256,-1247.0132 1246.0536,-1240.2479\"/>\n</g>\n<!-- 139912888086032 -->\n<g id=\"node160\" class=\"node\">\n<title>139912888086032</title>\n<polygon fill=\"#add8e6\" stroke=\"#000000\" points=\"1478,-1362 1359,-1362 1359,-1332 1478,-1332 1478,-1362\"/>\n<text text-anchor=\"middle\" x=\"1418.5\" y=\"-1350\" font-family=\"monospace\" font-size=\"10.00\" fill=\"#000000\">layer3.1.bn2.bias</text>\n<text text-anchor=\"middle\" x=\"1418.5\" y=\"-1339\" font-family=\"monospace\" font-size=\"10.00\" fill=\"#000000\"> (256)</text>\n</g>\n<!-- 139912888086032&#45;&gt;139912874111184 -->\n<g id=\"edge163\" class=\"edge\">\n<title>139912888086032&#45;&gt;139912874111184</title>\n<path fill=\"none\" stroke=\"#000000\" d=\"M1415.4719,-1331.7333C1413.927,-1323.9447 1412.0305,-1314.3831 1410.3797,-1306.0604\"/>\n<polygon fill=\"#000000\" stroke=\"#000000\" points=\"1413.7802,-1305.2143 1408.4014,-1296.0864 1406.914,-1306.5763 1413.7802,-1305.2143\"/>\n</g>\n<!-- 139912888070800 -->\n<g id=\"node161\" class=\"node\">\n<title>139912888070800</title>\n<polygon fill=\"#d3d3d3\" stroke=\"#000000\" points=\"1109,-1114.5 1008,-1114.5 1008,-1095.5 1109,-1095.5 1109,-1114.5\"/>\n<text text-anchor=\"middle\" x=\"1058.5\" y=\"-1102.5\" font-family=\"monospace\" font-size=\"10.00\" fill=\"#000000\">AccumulateGrad</text>\n</g>\n<!-- 139912888070800&#45;&gt;139912874578576 -->\n<g id=\"edge165\" class=\"edge\">\n<title>139912888070800&#45;&gt;139912874578576</title>\n<path fill=\"none\" stroke=\"#000000\" d=\"M1055.608,-1095.2796C1053.1297,-1086.9499 1049.4816,-1074.688 1046.391,-1064.3004\"/>\n<polygon fill=\"#000000\" stroke=\"#000000\" points=\"1049.651,-1062.9839 1043.4446,-1054.3972 1042.9417,-1064.9801 1049.651,-1062.9839\"/>\n</g>\n<!-- 139912874310064 -->\n<g id=\"node162\" class=\"node\">\n<title>139912874310064</title>\n<polygon fill=\"#add8e6\" stroke=\"#000000\" points=\"1148,-1186 1005,-1186 1005,-1156 1148,-1156 1148,-1186\"/>\n<text text-anchor=\"middle\" x=\"1076.5\" y=\"-1174\" font-family=\"monospace\" font-size=\"10.00\" fill=\"#000000\">layer4.0.conv1.weight</text>\n<text text-anchor=\"middle\" x=\"1076.5\" y=\"-1163\" font-family=\"monospace\" font-size=\"10.00\" fill=\"#000000\"> (512, 256, 3, 3)</text>\n</g>\n<!-- 139912874310064&#45;&gt;139912888070800 -->\n<g id=\"edge166\" class=\"edge\">\n<title>139912874310064&#45;&gt;139912888070800</title>\n<path fill=\"none\" stroke=\"#000000\" d=\"M1072.3252,-1155.6924C1069.7931,-1146.408 1066.5375,-1134.4708 1063.8216,-1124.5127\"/>\n<polygon fill=\"#000000\" stroke=\"#000000\" points=\"1067.1542,-1123.4298 1061.1463,-1114.7031 1060.4009,-1125.2716 1067.1542,-1123.4298\"/>\n</g>\n<!-- 139912874578448 -->\n<g id=\"node163\" class=\"node\">\n<title>139912874578448</title>\n<polygon fill=\"#d3d3d3\" stroke=\"#000000\" points=\"1243,-1054 1142,-1054 1142,-1035 1243,-1035 1243,-1054\"/>\n<text text-anchor=\"middle\" x=\"1192.5\" y=\"-1042\" font-family=\"monospace\" font-size=\"10.00\" fill=\"#000000\">AccumulateGrad</text>\n</g>\n<!-- 139912874578448&#45;&gt;139912874580624 -->\n<g id=\"edge167\" class=\"edge\">\n<title>139912874578448&#45;&gt;139912874580624</title>\n<path fill=\"none\" stroke=\"#000000\" d=\"M1180.2893,-1034.7796C1168.614,-1025.4855 1150.7888,-1011.2957 1136.9465,-1000.2765\"/>\n<polygon fill=\"#000000\" stroke=\"#000000\" points=\"1138.9365,-997.3871 1128.9329,-993.8972 1134.5768,-1002.8637 1138.9365,-997.3871\"/>\n</g>\n<!-- 139912874307904 -->\n<g id=\"node164\" class=\"node\">\n<title>139912874307904</title>\n<polygon fill=\"#add8e6\" stroke=\"#000000\" points=\"1258,-1120 1127,-1120 1127,-1090 1258,-1090 1258,-1120\"/>\n<text text-anchor=\"middle\" x=\"1192.5\" y=\"-1108\" font-family=\"monospace\" font-size=\"10.00\" fill=\"#000000\">layer4.0.bn1.weight</text>\n<text text-anchor=\"middle\" x=\"1192.5\" y=\"-1097\" font-family=\"monospace\" font-size=\"10.00\" fill=\"#000000\"> (512)</text>\n</g>\n<!-- 139912874307904&#45;&gt;139912874578448 -->\n<g id=\"edge168\" class=\"edge\">\n<title>139912874307904&#45;&gt;139912874578448</title>\n<path fill=\"none\" stroke=\"#000000\" d=\"M1192.5,-1089.7333C1192.5,-1082.0322 1192.5,-1072.5977 1192.5,-1064.3414\"/>\n<polygon fill=\"#000000\" stroke=\"#000000\" points=\"1196.0001,-1064.0864 1192.5,-1054.0864 1189.0001,-1064.0864 1196.0001,-1064.0864\"/>\n</g>\n<!-- 139912874578704 -->\n<g id=\"node165\" class=\"node\">\n<title>139912874578704</title>\n<polygon fill=\"#d3d3d3\" stroke=\"#000000\" points=\"1374,-1054 1273,-1054 1273,-1035 1374,-1035 1374,-1054\"/>\n<text text-anchor=\"middle\" x=\"1323.5\" y=\"-1042\" font-family=\"monospace\" font-size=\"10.00\" fill=\"#000000\">AccumulateGrad</text>\n</g>\n<!-- 139912874578704&#45;&gt;139912874580624 -->\n<g id=\"edge169\" class=\"edge\">\n<title>139912874578704&#45;&gt;139912874580624</title>\n<path fill=\"none\" stroke=\"#000000\" d=\"M1290.7002,-1034.9136C1255.1195,-1024.5144 1198.1855,-1007.8743 1159.1534,-996.4663\"/>\n<polygon fill=\"#000000\" stroke=\"#000000\" points=\"1159.7266,-992.9875 1149.1463,-993.5416 1157.7629,-999.7064 1159.7266,-992.9875\"/>\n</g>\n<!-- 139912874310864 -->\n<g id=\"node166\" class=\"node\">\n<title>139912874310864</title>\n<polygon fill=\"#add8e6\" stroke=\"#000000\" points=\"1395,-1120 1276,-1120 1276,-1090 1395,-1090 1395,-1120\"/>\n<text text-anchor=\"middle\" x=\"1335.5\" y=\"-1108\" font-family=\"monospace\" font-size=\"10.00\" fill=\"#000000\">layer4.0.bn1.bias</text>\n<text text-anchor=\"middle\" x=\"1335.5\" y=\"-1097\" font-family=\"monospace\" font-size=\"10.00\" fill=\"#000000\"> (512)</text>\n</g>\n<!-- 139912874310864&#45;&gt;139912874578704 -->\n<g id=\"edge170\" class=\"edge\">\n<title>139912874310864&#45;&gt;139912874578704</title>\n<path fill=\"none\" stroke=\"#000000\" d=\"M1332.4719,-1089.7333C1330.927,-1081.9447 1329.0305,-1072.3831 1327.3797,-1064.0604\"/>\n<polygon fill=\"#000000\" stroke=\"#000000\" points=\"1330.7802,-1063.2143 1325.4014,-1054.0864 1323.914,-1064.5763 1330.7802,-1063.2143\"/>\n</g>\n<!-- 139912874581904 -->\n<g id=\"node167\" class=\"node\">\n<title>139912874581904</title>\n<polygon fill=\"#d3d3d3\" stroke=\"#000000\" points=\"1283,-927.5 1182,-927.5 1182,-908.5 1283,-908.5 1283,-927.5\"/>\n<text text-anchor=\"middle\" x=\"1232.5\" y=\"-915.5\" font-family=\"monospace\" font-size=\"10.00\" fill=\"#000000\">AccumulateGrad</text>\n</g>\n<!-- 139912874581904&#45;&gt;139912839367120 -->\n<g id=\"edge171\" class=\"edge\">\n<title>139912874581904&#45;&gt;139912839367120</title>\n<path fill=\"none\" stroke=\"#000000\" d=\"M1229.608,-908.2796C1227.1297,-899.9499 1223.4816,-887.688 1220.391,-877.3004\"/>\n<polygon fill=\"#000000\" stroke=\"#000000\" points=\"1223.651,-875.9839 1217.4446,-867.3972 1216.9417,-877.9801 1223.651,-875.9839\"/>\n</g>\n<!-- 139912874310224 -->\n<g id=\"node168\" class=\"node\">\n<title>139912874310224</title>\n<polygon fill=\"#add8e6\" stroke=\"#000000\" points=\"1355,-999 1212,-999 1212,-969 1355,-969 1355,-999\"/>\n<text text-anchor=\"middle\" x=\"1283.5\" y=\"-987\" font-family=\"monospace\" font-size=\"10.00\" fill=\"#000000\">layer4.0.conv2.weight</text>\n<text text-anchor=\"middle\" x=\"1283.5\" y=\"-976\" font-family=\"monospace\" font-size=\"10.00\" fill=\"#000000\"> (512, 512, 3, 3)</text>\n</g>\n<!-- 139912874310224&#45;&gt;139912874581904 -->\n<g id=\"edge172\" class=\"edge\">\n<title>139912874310224&#45;&gt;139912874581904</title>\n<path fill=\"none\" stroke=\"#000000\" d=\"M1271.6714,-968.6924C1264.0391,-958.8153 1254.087,-945.9361 1246.1241,-935.6312\"/>\n<polygon fill=\"#000000\" stroke=\"#000000\" points=\"1248.8818,-933.4759 1239.9978,-927.7031 1243.3428,-937.756 1248.8818,-933.4759\"/>\n</g>\n<!-- 139912874579664 -->\n<g id=\"node169\" class=\"node\">\n<title>139912874579664</title>\n<polygon fill=\"#d3d3d3\" stroke=\"#000000\" points=\"1417,-867 1316,-867 1316,-848 1417,-848 1417,-867\"/>\n<text text-anchor=\"middle\" x=\"1366.5\" y=\"-855\" font-family=\"monospace\" font-size=\"10.00\" fill=\"#000000\">AccumulateGrad</text>\n</g>\n<!-- 139912874579664&#45;&gt;139912839367248 -->\n<g id=\"edge173\" class=\"edge\">\n<title>139912874579664&#45;&gt;139912839367248</title>\n<path fill=\"none\" stroke=\"#000000\" d=\"M1353.2618,-847.9197C1341.8888,-839.6893 1325.2744,-827.6657 1311.9965,-818.0567\"/>\n<polygon fill=\"#000000\" stroke=\"#000000\" points=\"1313.9946,-815.1823 1303.8415,-812.155 1309.8907,-820.8532 1313.9946,-815.1823\"/>\n</g>\n<!-- 139912874310704 -->\n<g id=\"node170\" class=\"node\">\n<title>139912874310704</title>\n<polygon fill=\"#add8e6\" stroke=\"#000000\" points=\"1432,-933 1301,-933 1301,-903 1432,-903 1432,-933\"/>\n<text text-anchor=\"middle\" x=\"1366.5\" y=\"-921\" font-family=\"monospace\" font-size=\"10.00\" fill=\"#000000\">layer4.0.bn2.weight</text>\n<text text-anchor=\"middle\" x=\"1366.5\" y=\"-910\" font-family=\"monospace\" font-size=\"10.00\" fill=\"#000000\"> (512)</text>\n</g>\n<!-- 139912874310704&#45;&gt;139912874579664 -->\n<g id=\"edge174\" class=\"edge\">\n<title>139912874310704&#45;&gt;139912874579664</title>\n<path fill=\"none\" stroke=\"#000000\" d=\"M1366.5,-902.7333C1366.5,-895.0322 1366.5,-885.5977 1366.5,-877.3414\"/>\n<polygon fill=\"#000000\" stroke=\"#000000\" points=\"1370.0001,-877.0864 1366.5,-867.0864 1363.0001,-877.0864 1370.0001,-877.0864\"/>\n</g>\n<!-- 139912874581840 -->\n<g id=\"node171\" class=\"node\">\n<title>139912874581840</title>\n<polygon fill=\"#d3d3d3\" stroke=\"#000000\" points=\"1548,-867 1447,-867 1447,-848 1548,-848 1548,-867\"/>\n<text text-anchor=\"middle\" x=\"1497.5\" y=\"-855\" font-family=\"monospace\" font-size=\"10.00\" fill=\"#000000\">AccumulateGrad</text>\n</g>\n<!-- 139912874581840&#45;&gt;139912839367248 -->\n<g id=\"edge175\" class=\"edge\">\n<title>139912874581840&#45;&gt;139912839367248</title>\n<path fill=\"none\" stroke=\"#000000\" d=\"M1461.4434,-847.9197C1426.6729,-838.6812 1373.9154,-824.6635 1336.2133,-814.646\"/>\n<polygon fill=\"#000000\" stroke=\"#000000\" points=\"1337.0536,-811.2479 1326.4901,-812.0626 1335.256,-818.0132 1337.0536,-811.2479\"/>\n</g>\n<!-- 139912874309824 -->\n<g id=\"node172\" class=\"node\">\n<title>139912874309824</title>\n<polygon fill=\"#add8e6\" stroke=\"#000000\" points=\"1569,-933 1450,-933 1450,-903 1569,-903 1569,-933\"/>\n<text text-anchor=\"middle\" x=\"1509.5\" y=\"-921\" font-family=\"monospace\" font-size=\"10.00\" fill=\"#000000\">layer4.0.bn2.bias</text>\n<text text-anchor=\"middle\" x=\"1509.5\" y=\"-910\" font-family=\"monospace\" font-size=\"10.00\" fill=\"#000000\"> (512)</text>\n</g>\n<!-- 139912874309824&#45;&gt;139912874581840 -->\n<g id=\"edge176\" class=\"edge\">\n<title>139912874309824&#45;&gt;139912874581840</title>\n<path fill=\"none\" stroke=\"#000000\" d=\"M1506.4719,-902.7333C1504.927,-894.9447 1503.0305,-885.3831 1501.3797,-877.0604\"/>\n<polygon fill=\"#000000\" stroke=\"#000000\" points=\"1504.7802,-876.2143 1499.4014,-867.0864 1497.914,-877.5763 1504.7802,-876.2143\"/>\n</g>\n<!-- 139912839367888 -->\n<g id=\"node173\" class=\"node\">\n<title>139912839367888</title>\n<polygon fill=\"#d3d3d3\" stroke=\"#000000\" points=\"828,-993.5 673,-993.5 673,-974.5 828,-974.5 828,-993.5\"/>\n<text text-anchor=\"middle\" x=\"750.5\" y=\"-981.5\" font-family=\"monospace\" font-size=\"10.00\" fill=\"#000000\">NativeBatchNormBackward</text>\n</g>\n<!-- 139912839367888&#45;&gt;139912839365072 -->\n<g id=\"edge177\" class=\"edge\">\n<title>139912839367888&#45;&gt;139912839365072</title>\n<path fill=\"none\" stroke=\"#000000\" d=\"M761.4187,-974.2136C802.811,-937.1139 950.3356,-804.8881 1002.2595,-758.3489\"/>\n<polygon fill=\"#000000\" stroke=\"#000000\" points=\"1004.6306,-760.9238 1009.7412,-751.6431 999.9585,-755.7111 1004.6306,-760.9238\"/>\n</g>\n<!-- 139912888073104&#45;&gt;139912839367888 -->\n<g id=\"edge178\" class=\"edge\">\n<title>139912888073104&#45;&gt;139912839367888</title>\n<path fill=\"none\" stroke=\"#000000\" d=\"M814.2893,-1034.7796C802.614,-1025.4855 784.7888,-1011.2957 770.9465,-1000.2765\"/>\n<polygon fill=\"#000000\" stroke=\"#000000\" points=\"772.9365,-997.3871 762.9329,-993.8972 768.5768,-1002.8637 772.9365,-997.3871\"/>\n</g>\n<!-- 139912874579216 -->\n<g id=\"node175\" class=\"node\">\n<title>139912874579216</title>\n<polygon fill=\"#d3d3d3\" stroke=\"#000000\" points=\"877,-1114.5 776,-1114.5 776,-1095.5 877,-1095.5 877,-1114.5\"/>\n<text text-anchor=\"middle\" x=\"826.5\" y=\"-1102.5\" font-family=\"monospace\" font-size=\"10.00\" fill=\"#000000\">AccumulateGrad</text>\n</g>\n<!-- 139912874579216&#45;&gt;139912888073104 -->\n<g id=\"edge180\" class=\"edge\">\n<title>139912874579216&#45;&gt;139912888073104</title>\n<path fill=\"none\" stroke=\"#000000\" d=\"M826.5,-1095.2796C826.5,-1087.0376 826.5,-1074.9457 826.5,-1064.629\"/>\n<polygon fill=\"#000000\" stroke=\"#000000\" points=\"830.0001,-1064.3972 826.5,-1054.3972 823.0001,-1064.3973 830.0001,-1064.3972\"/>\n</g>\n<!-- 139912874319952 -->\n<g id=\"node176\" class=\"node\">\n<title>139912874319952</title>\n<polygon fill=\"#add8e6\" stroke=\"#000000\" points=\"880,-1186 695,-1186 695,-1156 880,-1156 880,-1186\"/>\n<text text-anchor=\"middle\" x=\"787.5\" y=\"-1174\" font-family=\"monospace\" font-size=\"10.00\" fill=\"#000000\">layer4.0.downsample.0.weight</text>\n<text text-anchor=\"middle\" x=\"787.5\" y=\"-1163\" font-family=\"monospace\" font-size=\"10.00\" fill=\"#000000\"> (512, 256, 1, 1)</text>\n</g>\n<!-- 139912874319952&#45;&gt;139912874579216 -->\n<g id=\"edge181\" class=\"edge\">\n<title>139912874319952&#45;&gt;139912874579216</title>\n<path fill=\"none\" stroke=\"#000000\" d=\"M796.5454,-1155.6924C802.2068,-1146.1116 809.5373,-1133.7061 815.5295,-1123.5655\"/>\n<polygon fill=\"#000000\" stroke=\"#000000\" points=\"818.6923,-1125.0929 820.7664,-1114.7031 812.6658,-1121.5318 818.6923,-1125.0929\"/>\n</g>\n<!-- 139912888503952 -->\n<g id=\"node177\" class=\"node\">\n<title>139912888503952</title>\n<polygon fill=\"#d3d3d3\" stroke=\"#000000\" points=\"565,-1054 464,-1054 464,-1035 565,-1035 565,-1054\"/>\n<text text-anchor=\"middle\" x=\"514.5\" y=\"-1042\" font-family=\"monospace\" font-size=\"10.00\" fill=\"#000000\">AccumulateGrad</text>\n</g>\n<!-- 139912888503952&#45;&gt;139912839367888 -->\n<g id=\"edge182\" class=\"edge\">\n<title>139912888503952&#45;&gt;139912839367888</title>\n<path fill=\"none\" stroke=\"#000000\" d=\"M551.6346,-1034.9803C592.6656,-1024.4618 658.8308,-1007.4999 703.4571,-996.0597\"/>\n<polygon fill=\"#000000\" stroke=\"#000000\" points=\"704.375,-999.4377 713.1926,-993.564 702.6367,-992.6569 704.375,-999.4377\"/>\n</g>\n<!-- 139912874308864 -->\n<g id=\"node178\" class=\"node\">\n<title>139912874308864</title>\n<polygon fill=\"#add8e6\" stroke=\"#000000\" points=\"567,-1120 382,-1120 382,-1090 567,-1090 567,-1120\"/>\n<text text-anchor=\"middle\" x=\"474.5\" y=\"-1108\" font-family=\"monospace\" font-size=\"10.00\" fill=\"#000000\">layer4.0.downsample.1.weight</text>\n<text text-anchor=\"middle\" x=\"474.5\" y=\"-1097\" font-family=\"monospace\" font-size=\"10.00\" fill=\"#000000\"> (512)</text>\n</g>\n<!-- 139912874308864&#45;&gt;139912888503952 -->\n<g id=\"edge183\" class=\"edge\">\n<title>139912874308864&#45;&gt;139912888503952</title>\n<path fill=\"none\" stroke=\"#000000\" d=\"M484.5937,-1089.7333C490.0325,-1081.5071 496.7789,-1071.3031 502.4868,-1062.6699\"/>\n<polygon fill=\"#000000\" stroke=\"#000000\" points=\"505.5663,-1064.3584 508.1619,-1054.0864 499.7271,-1060.4978 505.5663,-1064.3584\"/>\n</g>\n<!-- 139912839339216 -->\n<g id=\"node179\" class=\"node\">\n<title>139912839339216</title>\n<polygon fill=\"#d3d3d3\" stroke=\"#000000\" points=\"724,-1054 623,-1054 623,-1035 724,-1035 724,-1054\"/>\n<text text-anchor=\"middle\" x=\"673.5\" y=\"-1042\" font-family=\"monospace\" font-size=\"10.00\" fill=\"#000000\">AccumulateGrad</text>\n</g>\n<!-- 139912839339216&#45;&gt;139912839367888 -->\n<g id=\"edge184\" class=\"edge\">\n<title>139912839339216&#45;&gt;139912839367888</title>\n<path fill=\"none\" stroke=\"#000000\" d=\"M685.8714,-1034.7796C697.7707,-1025.4301 715.9752,-1011.1266 730.0345,-1000.08\"/>\n<polygon fill=\"#000000\" stroke=\"#000000\" points=\"732.4585,-1002.6266 738.1593,-993.6962 728.1337,-997.1224 732.4585,-1002.6266\"/>\n</g>\n<!-- 139912874308624 -->\n<g id=\"node180\" class=\"node\">\n<title>139912874308624</title>\n<polygon fill=\"#add8e6\" stroke=\"#000000\" points=\"758,-1120 585,-1120 585,-1090 758,-1090 758,-1120\"/>\n<text text-anchor=\"middle\" x=\"671.5\" y=\"-1108\" font-family=\"monospace\" font-size=\"10.00\" fill=\"#000000\">layer4.0.downsample.1.bias</text>\n<text text-anchor=\"middle\" x=\"671.5\" y=\"-1097\" font-family=\"monospace\" font-size=\"10.00\" fill=\"#000000\"> (512)</text>\n</g>\n<!-- 139912874308624&#45;&gt;139912839339216 -->\n<g id=\"edge185\" class=\"edge\">\n<title>139912874308624&#45;&gt;139912839339216</title>\n<path fill=\"none\" stroke=\"#000000\" d=\"M672.0047,-1089.7333C672.2593,-1082.0322 672.5712,-1072.5977 672.8441,-1064.3414\"/>\n<polygon fill=\"#000000\" stroke=\"#000000\" points=\"676.3507,-1064.1966 673.1831,-1054.0864 669.3545,-1063.9653 676.3507,-1064.1966\"/>\n</g>\n<!-- 139912839367632 -->\n<g id=\"node181\" class=\"node\">\n<title>139912839367632</title>\n<polygon fill=\"#d3d3d3\" stroke=\"#000000\" points=\"1200,-685.5 1099,-685.5 1099,-666.5 1200,-666.5 1200,-685.5\"/>\n<text text-anchor=\"middle\" x=\"1149.5\" y=\"-673.5\" font-family=\"monospace\" font-size=\"10.00\" fill=\"#000000\">AccumulateGrad</text>\n</g>\n<!-- 139912839367632&#45;&gt;139912839366864 -->\n<g id=\"edge186\" class=\"edge\">\n<title>139912839367632&#45;&gt;139912839366864</title>\n<path fill=\"none\" stroke=\"#000000\" d=\"M1148.054,-666.2796C1146.8149,-657.9499 1144.9908,-645.688 1143.4455,-635.3004\"/>\n<polygon fill=\"#000000\" stroke=\"#000000\" points=\"1146.9057,-634.7734 1141.9723,-625.3972 1139.9819,-635.8034 1146.9057,-634.7734\"/>\n</g>\n<!-- 139912839441376 -->\n<g id=\"node182\" class=\"node\">\n<title>139912839441376</title>\n<polygon fill=\"#add8e6\" stroke=\"#000000\" points=\"1226,-757 1083,-757 1083,-727 1226,-727 1226,-757\"/>\n<text text-anchor=\"middle\" x=\"1154.5\" y=\"-745\" font-family=\"monospace\" font-size=\"10.00\" fill=\"#000000\">layer4.1.conv1.weight</text>\n<text text-anchor=\"middle\" x=\"1154.5\" y=\"-734\" font-family=\"monospace\" font-size=\"10.00\" fill=\"#000000\"> (512, 512, 3, 3)</text>\n</g>\n<!-- 139912839441376&#45;&gt;139912839367632 -->\n<g id=\"edge187\" class=\"edge\">\n<title>139912839441376&#45;&gt;139912839367632</title>\n<path fill=\"none\" stroke=\"#000000\" d=\"M1153.3403,-726.6924C1152.6444,-717.5067 1151.7519,-705.7245 1151.0024,-695.8312\"/>\n<polygon fill=\"#000000\" stroke=\"#000000\" points=\"1154.4806,-695.4101 1150.2351,-685.7031 1147.5006,-695.9389 1154.4806,-695.4101\"/>\n</g>\n<!-- 139912839366544 -->\n<g id=\"node183\" class=\"node\">\n<title>139912839366544</title>\n<polygon fill=\"#d3d3d3\" stroke=\"#000000\" points=\"1343,-625 1242,-625 1242,-606 1343,-606 1343,-625\"/>\n<text text-anchor=\"middle\" x=\"1292.5\" y=\"-613\" font-family=\"monospace\" font-size=\"10.00\" fill=\"#000000\">AccumulateGrad</text>\n</g>\n<!-- 139912839366544&#45;&gt;139912839367760 -->\n<g id=\"edge188\" class=\"edge\">\n<title>139912839366544&#45;&gt;139912839367760</title>\n<path fill=\"none\" stroke=\"#000000\" d=\"M1280.2893,-605.7796C1268.614,-596.4855 1250.7888,-582.2957 1236.9465,-571.2765\"/>\n<polygon fill=\"#000000\" stroke=\"#000000\" points=\"1238.9365,-568.3871 1228.9329,-564.8972 1234.5768,-573.8637 1238.9365,-568.3871\"/>\n</g>\n<!-- 139912839442016 -->\n<g id=\"node184\" class=\"node\">\n<title>139912839442016</title>\n<polygon fill=\"#add8e6\" stroke=\"#000000\" points=\"1353,-691 1222,-691 1222,-661 1353,-661 1353,-691\"/>\n<text text-anchor=\"middle\" x=\"1287.5\" y=\"-679\" font-family=\"monospace\" font-size=\"10.00\" fill=\"#000000\">layer4.1.bn1.weight</text>\n<text text-anchor=\"middle\" x=\"1287.5\" y=\"-668\" font-family=\"monospace\" font-size=\"10.00\" fill=\"#000000\"> (512)</text>\n</g>\n<!-- 139912839442016&#45;&gt;139912839366544 -->\n<g id=\"edge189\" class=\"edge\">\n<title>139912839442016&#45;&gt;139912839366544</title>\n<path fill=\"none\" stroke=\"#000000\" d=\"M1288.7617,-660.7333C1289.4054,-652.9447 1290.1956,-643.3831 1290.8834,-635.0604\"/>\n<polygon fill=\"#000000\" stroke=\"#000000\" points=\"1294.3721,-635.3407 1291.7077,-625.0864 1287.3959,-634.7641 1294.3721,-635.3407\"/>\n</g>\n<!-- 139912839365968 -->\n<g id=\"node185\" class=\"node\">\n<title>139912839365968</title>\n<polygon fill=\"#d3d3d3\" stroke=\"#000000\" points=\"1467,-625 1366,-625 1366,-606 1467,-606 1467,-625\"/>\n<text text-anchor=\"middle\" x=\"1416.5\" y=\"-613\" font-family=\"monospace\" font-size=\"10.00\" fill=\"#000000\">AccumulateGrad</text>\n</g>\n<!-- 139912839365968&#45;&gt;139912839367760 -->\n<g id=\"edge190\" class=\"edge\">\n<title>139912839365968&#45;&gt;139912839367760</title>\n<path fill=\"none\" stroke=\"#000000\" d=\"M1384.8094,-605.9136C1350.4319,-595.5144 1295.4232,-578.8743 1257.711,-567.4663\"/>\n<polygon fill=\"#000000\" stroke=\"#000000\" points=\"1258.6274,-564.087 1248.0423,-564.5416 1256.6006,-570.7871 1258.6274,-564.087\"/>\n</g>\n<!-- 139912839442176 -->\n<g id=\"node186\" class=\"node\">\n<title>139912839442176</title>\n<polygon fill=\"#add8e6\" stroke=\"#000000\" points=\"1490,-691 1371,-691 1371,-661 1490,-661 1490,-691\"/>\n<text text-anchor=\"middle\" x=\"1430.5\" y=\"-679\" font-family=\"monospace\" font-size=\"10.00\" fill=\"#000000\">layer4.1.bn1.bias</text>\n<text text-anchor=\"middle\" x=\"1430.5\" y=\"-668\" font-family=\"monospace\" font-size=\"10.00\" fill=\"#000000\"> (512)</text>\n</g>\n<!-- 139912839442176&#45;&gt;139912839365968 -->\n<g id=\"edge191\" class=\"edge\">\n<title>139912839442176&#45;&gt;139912839365968</title>\n<path fill=\"none\" stroke=\"#000000\" d=\"M1426.9672,-660.7333C1425.1649,-652.9447 1422.9523,-643.3831 1421.0264,-635.0604\"/>\n<polygon fill=\"#000000\" stroke=\"#000000\" points=\"1424.3828,-634.0399 1418.7183,-625.0864 1417.563,-635.6181 1424.3828,-634.0399\"/>\n</g>\n<!-- 139912839365712 -->\n<g id=\"node187\" class=\"node\">\n<title>139912839365712</title>\n<polygon fill=\"#d3d3d3\" stroke=\"#000000\" points=\"1383,-498.5 1282,-498.5 1282,-479.5 1383,-479.5 1383,-498.5\"/>\n<text text-anchor=\"middle\" x=\"1332.5\" y=\"-486.5\" font-family=\"monospace\" font-size=\"10.00\" fill=\"#000000\">AccumulateGrad</text>\n</g>\n<!-- 139912839365712&#45;&gt;139912839368336 -->\n<g id=\"edge192\" class=\"edge\">\n<title>139912839365712&#45;&gt;139912839368336</title>\n<path fill=\"none\" stroke=\"#000000\" d=\"M1329.608,-479.2796C1327.1297,-470.9499 1323.4816,-458.688 1320.391,-448.3004\"/>\n<polygon fill=\"#000000\" stroke=\"#000000\" points=\"1323.651,-446.9839 1317.4446,-438.3972 1316.9417,-448.9801 1323.651,-446.9839\"/>\n</g>\n<!-- 139912873330320 -->\n<g id=\"node188\" class=\"node\">\n<title>139912873330320</title>\n<polygon fill=\"#add8e6\" stroke=\"#000000\" points=\"1455,-570 1312,-570 1312,-540 1455,-540 1455,-570\"/>\n<text text-anchor=\"middle\" x=\"1383.5\" y=\"-558\" font-family=\"monospace\" font-size=\"10.00\" fill=\"#000000\">layer4.1.conv2.weight</text>\n<text text-anchor=\"middle\" x=\"1383.5\" y=\"-547\" font-family=\"monospace\" font-size=\"10.00\" fill=\"#000000\"> (512, 512, 3, 3)</text>\n</g>\n<!-- 139912873330320&#45;&gt;139912839365712 -->\n<g id=\"edge193\" class=\"edge\">\n<title>139912873330320&#45;&gt;139912839365712</title>\n<path fill=\"none\" stroke=\"#000000\" d=\"M1371.6714,-539.6924C1364.0391,-529.8153 1354.087,-516.9361 1346.1241,-506.6312\"/>\n<polygon fill=\"#000000\" stroke=\"#000000\" points=\"1348.8818,-504.4759 1339.9978,-498.7031 1343.3428,-508.756 1348.8818,-504.4759\"/>\n</g>\n<!-- 139912839367312 -->\n<g id=\"node189\" class=\"node\">\n<title>139912839367312</title>\n<polygon fill=\"#d3d3d3\" stroke=\"#000000\" points=\"1517,-438 1416,-438 1416,-419 1517,-419 1517,-438\"/>\n<text text-anchor=\"middle\" x=\"1466.5\" y=\"-426\" font-family=\"monospace\" font-size=\"10.00\" fill=\"#000000\">AccumulateGrad</text>\n</g>\n<!-- 139912839367312&#45;&gt;139912839364944 -->\n<g id=\"edge194\" class=\"edge\">\n<title>139912839367312&#45;&gt;139912839364944</title>\n<path fill=\"none\" stroke=\"#000000\" d=\"M1453.2618,-418.9197C1441.8888,-410.6893 1425.2744,-398.6657 1411.9965,-389.0567\"/>\n<polygon fill=\"#000000\" stroke=\"#000000\" points=\"1413.9946,-386.1823 1403.8415,-383.155 1409.8907,-391.8532 1413.9946,-386.1823\"/>\n</g>\n<!-- 139912873330400 -->\n<g id=\"node190\" class=\"node\">\n<title>139912873330400</title>\n<polygon fill=\"#add8e6\" stroke=\"#000000\" points=\"1532,-504 1401,-504 1401,-474 1532,-474 1532,-504\"/>\n<text text-anchor=\"middle\" x=\"1466.5\" y=\"-492\" font-family=\"monospace\" font-size=\"10.00\" fill=\"#000000\">layer4.1.bn2.weight</text>\n<text text-anchor=\"middle\" x=\"1466.5\" y=\"-481\" font-family=\"monospace\" font-size=\"10.00\" fill=\"#000000\"> (512)</text>\n</g>\n<!-- 139912873330400&#45;&gt;139912839367312 -->\n<g id=\"edge195\" class=\"edge\">\n<title>139912873330400&#45;&gt;139912839367312</title>\n<path fill=\"none\" stroke=\"#000000\" d=\"M1466.5,-473.7333C1466.5,-466.0322 1466.5,-456.5977 1466.5,-448.3414\"/>\n<polygon fill=\"#000000\" stroke=\"#000000\" points=\"1470.0001,-448.0864 1466.5,-438.0864 1463.0001,-448.0864 1470.0001,-448.0864\"/>\n</g>\n<!-- 139912839368208 -->\n<g id=\"node191\" class=\"node\">\n<title>139912839368208</title>\n<polygon fill=\"#d3d3d3\" stroke=\"#000000\" points=\"1648,-438 1547,-438 1547,-419 1648,-419 1648,-438\"/>\n<text text-anchor=\"middle\" x=\"1597.5\" y=\"-426\" font-family=\"monospace\" font-size=\"10.00\" fill=\"#000000\">AccumulateGrad</text>\n</g>\n<!-- 139912839368208&#45;&gt;139912839364944 -->\n<g id=\"edge196\" class=\"edge\">\n<title>139912839368208&#45;&gt;139912839364944</title>\n<path fill=\"none\" stroke=\"#000000\" d=\"M1561.4434,-418.9197C1526.6729,-409.6812 1473.9154,-395.6635 1436.2133,-385.646\"/>\n<polygon fill=\"#000000\" stroke=\"#000000\" points=\"1437.0536,-382.2479 1426.4901,-383.0626 1435.256,-389.0132 1437.0536,-382.2479\"/>\n</g>\n<!-- 139912873330560 -->\n<g id=\"node192\" class=\"node\">\n<title>139912873330560</title>\n<polygon fill=\"#add8e6\" stroke=\"#000000\" points=\"1669,-504 1550,-504 1550,-474 1669,-474 1669,-504\"/>\n<text text-anchor=\"middle\" x=\"1609.5\" y=\"-492\" font-family=\"monospace\" font-size=\"10.00\" fill=\"#000000\">layer4.1.bn2.bias</text>\n<text text-anchor=\"middle\" x=\"1609.5\" y=\"-481\" font-family=\"monospace\" font-size=\"10.00\" fill=\"#000000\"> (512)</text>\n</g>\n<!-- 139912873330560&#45;&gt;139912839368208 -->\n<g id=\"edge197\" class=\"edge\">\n<title>139912873330560&#45;&gt;139912839368208</title>\n<path fill=\"none\" stroke=\"#000000\" d=\"M1606.4719,-473.7333C1604.927,-465.9447 1603.0305,-456.3831 1601.3797,-448.0604\"/>\n<polygon fill=\"#000000\" stroke=\"#000000\" points=\"1604.7802,-447.2143 1599.4014,-438.0864 1597.914,-448.5763 1604.7802,-447.2143\"/>\n</g>\n<!-- 139912839366992 -->\n<g id=\"node193\" class=\"node\">\n<title>139912839366992</title>\n<polygon fill=\"#d3d3d3\" stroke=\"#000000\" points=\"1280,-141 1209,-141 1209,-122 1280,-122 1280,-141\"/>\n<text text-anchor=\"middle\" x=\"1244.5\" y=\"-129\" font-family=\"monospace\" font-size=\"10.00\" fill=\"#000000\">TBackward</text>\n</g>\n<!-- 139912839366992&#45;&gt;139912839300304 -->\n<g id=\"edge199\" class=\"edge\">\n<title>139912839366992&#45;&gt;139912839300304</title>\n<path fill=\"none\" stroke=\"#000000\" d=\"M1226.733,-121.9197C1210.8877,-113.3757 1187.4618,-100.7441 1169.3341,-90.9694\"/>\n<polygon fill=\"#000000\" stroke=\"#000000\" points=\"1170.8688,-87.8205 1160.4057,-86.155 1167.5465,-93.9819 1170.8688,-87.8205\"/>\n</g>\n<!-- 139912874579344 -->\n<g id=\"node194\" class=\"node\">\n<title>139912874579344</title>\n<polygon fill=\"#d3d3d3\" stroke=\"#000000\" points=\"1300,-201.5 1199,-201.5 1199,-182.5 1300,-182.5 1300,-201.5\"/>\n<text text-anchor=\"middle\" x=\"1249.5\" y=\"-189.5\" font-family=\"monospace\" font-size=\"10.00\" fill=\"#000000\">AccumulateGrad</text>\n</g>\n<!-- 139912874579344&#45;&gt;139912839366992 -->\n<g id=\"edge200\" class=\"edge\">\n<title>139912874579344&#45;&gt;139912839366992</title>\n<path fill=\"none\" stroke=\"#000000\" d=\"M1248.6967,-182.2796C1248.0155,-174.0376 1247.0162,-161.9457 1246.1636,-151.629\"/>\n<polygon fill=\"#000000\" stroke=\"#000000\" points=\"1249.6298,-151.075 1245.318,-141.3972 1242.6536,-151.6516 1249.6298,-151.075\"/>\n</g>\n<!-- 139912839342032 -->\n<g id=\"node195\" class=\"node\">\n<title>139912839342032</title>\n<polygon fill=\"#add8e6\" stroke=\"#000000\" points=\"1294,-273 1205,-273 1205,-243 1294,-243 1294,-273\"/>\n<text text-anchor=\"middle\" x=\"1249.5\" y=\"-261\" font-family=\"monospace\" font-size=\"10.00\" fill=\"#000000\">fc.weight</text>\n<text text-anchor=\"middle\" x=\"1249.5\" y=\"-250\" font-family=\"monospace\" font-size=\"10.00\" fill=\"#000000\"> (1000, 512)</text>\n</g>\n<!-- 139912839342032&#45;&gt;139912874579344 -->\n<g id=\"edge201\" class=\"edge\">\n<title>139912839342032&#45;&gt;139912874579344</title>\n<path fill=\"none\" stroke=\"#000000\" d=\"M1249.5,-242.6924C1249.5,-233.5067 1249.5,-221.7245 1249.5,-211.8312\"/>\n<polygon fill=\"#000000\" stroke=\"#000000\" points=\"1253.0001,-211.703 1249.5,-201.7031 1246.0001,-211.7031 1253.0001,-211.703\"/>\n</g>\n</g>\n</svg>\n"
          },
          "metadata": {
            "tags": []
          },
          "execution_count": 58
        }
      ]
    },
    {
      "cell_type": "markdown",
      "metadata": {
        "collapsed": true,
        "id": "7mIP_gnbral2"
      },
      "source": [
        "# Exercício 1\n",
        "\n",
        "O que acontece com o grafo computacional após execução do `backward()`?"
      ]
    },
    {
      "cell_type": "markdown",
      "metadata": {
        "id": "Dg34dQHdk5KG"
      },
      "source": [
        "Resposta: Após varrer todo o grafo computacional e recalcular os valores dos gradientes, das variáveis com atriburo requires_grad, o pytorch destroi o grafo, liberando memória."
      ]
    },
    {
      "cell_type": "markdown",
      "metadata": {
        "collapsed": true,
        "id": "0RkjpqfprZ_t"
      },
      "source": [
        "# Exercício 2\n",
        "\n",
        "Execute um passo de atualização do valor de w, pelo \n",
        "gradiente descendente. Utilize um fator de aprendizado (*learning rate*) de 0.1 \n",
        "para atualizar o `w`. Após, recalcule a função de perda:\n",
        "\n",
        "    - w = w - lr * w.grad.data\n",
        "    - execute a célula 1.3.1 e verifique o quanto que a perda J diminuiu"
      ]
    },
    {
      "cell_type": "code",
      "metadata": {
        "id": "Np7D022AO2gM",
        "colab": {
          "base_uri": "https://localhost:8080/"
        },
        "outputId": "776cf51f-2747-4719-9904-3bfea51bae57"
      },
      "source": [
        "# Escreva seu código aqui:\n",
        "lr = 0.01\n",
        "wnew = w - lr * w.grad.data\n",
        "print(w,w.grad.data)\n",
        "\n",
        "ypred = x * wnew\n",
        "Jnew = (ypred - y).pow(2).sum()\n",
        "print('J inicial: {} || J intermediario {} || J final: {} || J-J intermeridário: {} || J inicial - J final: {} '.format( J, J_new, Jnew, J-J_new, J-Jnew))"
      ],
      "execution_count": null,
      "outputs": [
        {
          "output_type": "stream",
          "text": [
            "tensor([1.], requires_grad=True) tensor([-28.])\n",
            "J inicial: 14.0 || J intermediario 13.97201156616211 || J final: 7.2576003074646 || J-J intermeridário: 0.027988433837890625 || J inicial - J final6.7423996925354: \n"
          ],
          "name": "stdout"
        }
      ]
    },
    {
      "cell_type": "markdown",
      "metadata": {
        "id": "hozksnNDXx4G"
      },
      "source": [
        "## Treinando uma rede no Pytorch\n",
        "\n",
        "Para ajudar na entendimento dos exercícios abaixo, apresentamos o código em Pytorch para treinar uma rede de uma camada não-linear, com pesos `w` e `b`:\n",
        "$y' = \\sigma(wx + b)$"
      ]
    },
    {
      "cell_type": "markdown",
      "metadata": {
        "id": "Fp9dSVjXy4gy"
      },
      "source": [
        "<img src=\"https://github.com/robertoalotufo/files/blob/master/figures/simple_graph.png?raw=true\" width=\"600pt\"/>"
      ]
    },
    {
      "cell_type": "code",
      "metadata": {
        "id": "VhXl4fkxYv2z",
        "colab": {
          "base_uri": "https://localhost:8080/"
        },
        "outputId": "a56d7a87-2f7c-4307-fc97-10813a27b97c"
      },
      "source": [
        "import torch\n",
        "\n",
        "\n",
        "class Net(torch.nn.Module):\n",
        "  def __init__(self, dim):\n",
        "    super(Net, self).__init__()\n",
        "\n",
        "    self.layer1 = torch.nn.Linear(dim, 1) \n",
        "      \n",
        "  def forward(self, x):\n",
        "    y_pred = torch.sigmoid(self.layer1(x))\n",
        "    return y_pred\n",
        "\n",
        "learning_rate = 0.1\n",
        "model = Net(dim=1)\n",
        "loss_fn = torch.nn.MSELoss()\n",
        "optimizer = torch.optim.SGD(model.parameters(), lr=learning_rate)\n",
        "x = torch.tensor([-5], dtype=torch.float)\n",
        "y_target = torch.tensor([0.76], dtype=torch.float)\n",
        "num_iterations = 50\n",
        "for i in range(num_iterations):\n",
        "  # Zera os gradientes dos passo anterior.\n",
        "  optimizer.zero_grad()\n",
        "  # Roda a um passo forward do modelo.\n",
        "  y_pred = model.forward(x)\n",
        "  # Calcula a loss\n",
        "  loss = loss_fn(y_pred, y_target)\n",
        "  # Calcula os gradientes\n",
        "  loss.backward()\n",
        "  # Atualiza os pesos\n",
        "  optimizer.step()\n",
        "\n",
        "  print(f'iter:{i}: y_prime: {y_pred}')"
      ],
      "execution_count": null,
      "outputs": [
        {
          "output_type": "stream",
          "text": [
            "iter:0: y_prime: tensor([0.6680], grad_fn=<SigmoidBackward>)\n",
            "iter:1: y_prime: tensor([0.6911], grad_fn=<SigmoidBackward>)\n",
            "iter:2: y_prime: tensor([0.7072], grad_fn=<SigmoidBackward>)\n",
            "iter:3: y_prime: tensor([0.7188], grad_fn=<SigmoidBackward>)\n",
            "iter:4: y_prime: tensor([0.7275], grad_fn=<SigmoidBackward>)\n",
            "iter:5: y_prime: tensor([0.7341], grad_fn=<SigmoidBackward>)\n",
            "iter:6: y_prime: tensor([0.7392], grad_fn=<SigmoidBackward>)\n",
            "iter:7: y_prime: tensor([0.7432], grad_fn=<SigmoidBackward>)\n",
            "iter:8: y_prime: tensor([0.7464], grad_fn=<SigmoidBackward>)\n",
            "iter:9: y_prime: tensor([0.7489], grad_fn=<SigmoidBackward>)\n",
            "iter:10: y_prime: tensor([0.7509], grad_fn=<SigmoidBackward>)\n",
            "iter:11: y_prime: tensor([0.7526], grad_fn=<SigmoidBackward>)\n",
            "iter:12: y_prime: tensor([0.7539], grad_fn=<SigmoidBackward>)\n",
            "iter:13: y_prime: tensor([0.7550], grad_fn=<SigmoidBackward>)\n",
            "iter:14: y_prime: tensor([0.7559], grad_fn=<SigmoidBackward>)\n",
            "iter:15: y_prime: tensor([0.7566], grad_fn=<SigmoidBackward>)\n",
            "iter:16: y_prime: tensor([0.7572], grad_fn=<SigmoidBackward>)\n",
            "iter:17: y_prime: tensor([0.7577], grad_fn=<SigmoidBackward>)\n",
            "iter:18: y_prime: tensor([0.7581], grad_fn=<SigmoidBackward>)\n",
            "iter:19: y_prime: tensor([0.7584], grad_fn=<SigmoidBackward>)\n",
            "iter:20: y_prime: tensor([0.7587], grad_fn=<SigmoidBackward>)\n",
            "iter:21: y_prime: tensor([0.7589], grad_fn=<SigmoidBackward>)\n",
            "iter:22: y_prime: tensor([0.7591], grad_fn=<SigmoidBackward>)\n",
            "iter:23: y_prime: tensor([0.7593], grad_fn=<SigmoidBackward>)\n",
            "iter:24: y_prime: tensor([0.7594], grad_fn=<SigmoidBackward>)\n",
            "iter:25: y_prime: tensor([0.7595], grad_fn=<SigmoidBackward>)\n",
            "iter:26: y_prime: tensor([0.7596], grad_fn=<SigmoidBackward>)\n",
            "iter:27: y_prime: tensor([0.7597], grad_fn=<SigmoidBackward>)\n",
            "iter:28: y_prime: tensor([0.7597], grad_fn=<SigmoidBackward>)\n",
            "iter:29: y_prime: tensor([0.7598], grad_fn=<SigmoidBackward>)\n",
            "iter:30: y_prime: tensor([0.7598], grad_fn=<SigmoidBackward>)\n",
            "iter:31: y_prime: tensor([0.7598], grad_fn=<SigmoidBackward>)\n",
            "iter:32: y_prime: tensor([0.7599], grad_fn=<SigmoidBackward>)\n",
            "iter:33: y_prime: tensor([0.7599], grad_fn=<SigmoidBackward>)\n",
            "iter:34: y_prime: tensor([0.7599], grad_fn=<SigmoidBackward>)\n",
            "iter:35: y_prime: tensor([0.7599], grad_fn=<SigmoidBackward>)\n",
            "iter:36: y_prime: tensor([0.7599], grad_fn=<SigmoidBackward>)\n",
            "iter:37: y_prime: tensor([0.7599], grad_fn=<SigmoidBackward>)\n",
            "iter:38: y_prime: tensor([0.7600], grad_fn=<SigmoidBackward>)\n",
            "iter:39: y_prime: tensor([0.7600], grad_fn=<SigmoidBackward>)\n",
            "iter:40: y_prime: tensor([0.7600], grad_fn=<SigmoidBackward>)\n",
            "iter:41: y_prime: tensor([0.7600], grad_fn=<SigmoidBackward>)\n",
            "iter:42: y_prime: tensor([0.7600], grad_fn=<SigmoidBackward>)\n",
            "iter:43: y_prime: tensor([0.7600], grad_fn=<SigmoidBackward>)\n",
            "iter:44: y_prime: tensor([0.7600], grad_fn=<SigmoidBackward>)\n",
            "iter:45: y_prime: tensor([0.7600], grad_fn=<SigmoidBackward>)\n",
            "iter:46: y_prime: tensor([0.7600], grad_fn=<SigmoidBackward>)\n",
            "iter:47: y_prime: tensor([0.7600], grad_fn=<SigmoidBackward>)\n",
            "iter:48: y_prime: tensor([0.7600], grad_fn=<SigmoidBackward>)\n",
            "iter:49: y_prime: tensor([0.7600], grad_fn=<SigmoidBackward>)\n"
          ],
          "name": "stdout"
        }
      ]
    },
    {
      "cell_type": "markdown",
      "metadata": {
        "id": "-dCpic0_XhKE"
      },
      "source": [
        "# Exercício 3\n",
        "\n",
        "Vamos agora escrever nosso próprio código para calcular os gradientes da rede apresentada acima.\n",
        "\n",
        "Para tanto, temos que primeiro implementar as funções `forward` e `backward` de cada um dos nós do grafo acima.\n",
        "Vamos começar pelo nó da função sigmoid ($\\sigma$), cuja derivada é:\n",
        "\n",
        "$\\frac{\\delta\\sigma}{\\delta x} = \\sigma(x)(1-\\sigma(x))$"
      ]
    },
    {
      "cell_type": "code",
      "metadata": {
        "id": "Up1GixP9PFjG"
      },
      "source": [
        "import numpy as np\n",
        "import matplotlib.pyplot as plt\n",
        "np.random.seed(1)\n",
        "\n",
        "\n",
        "class SigmoidLayer():\n",
        "\n",
        "  def forward(self, x):\n",
        "    self.sigfor = 1/(1+np.exp(-x))\n",
        "    return self.sigfor\n",
        "\n",
        "  def backward(self, upstream_grad):\n",
        "    return upstream_grad * self.sigfor * (1- self.sigfor)"
      ],
      "execution_count": null,
      "outputs": []
    },
    {
      "cell_type": "markdown",
      "metadata": {
        "id": "BWxNzGVZXvU7"
      },
      "source": [
        "Implementamos agora o `forward` e `backward` do nó da soma $z = x + y$, cujas derivadas parciais em relação a cada entrada $x$ e $y$ são:\n",
        "\n",
        "$\\frac{\\delta z}{\\delta x} = 1$\n",
        "\n",
        "$\\frac{\\delta z}{\\delta y} = 1$"
      ]
    },
    {
      "cell_type": "code",
      "metadata": {
        "id": "iiGB3rhaXvxC"
      },
      "source": [
        "class SumLayer():\n",
        "\n",
        "  def forward(self, x, y):\n",
        "    z = x + y\n",
        "    return z\n",
        "  \n",
        "  def backward(self, upstream_grad):\n",
        "    return upstream_grad,upstream_grad"
      ],
      "execution_count": null,
      "outputs": []
    },
    {
      "cell_type": "markdown",
      "metadata": {
        "id": "HSEUWtP_qSqW"
      },
      "source": [
        "Implementamos agora o `forward` e `backward` do nó da multiplicação $z = xy$, cujas derivadas parciais em relação a cada entrada $x$ e $y$ são:\n",
        "\n",
        "$\\frac{\\delta z}{\\delta x} = y$\n",
        "\n",
        "$\\frac{\\delta z}{\\delta y} = x$"
      ]
    },
    {
      "cell_type": "code",
      "metadata": {
        "id": "BWzSxUU-Zlel"
      },
      "source": [
        "class MulLayer():\n",
        "\n",
        "  def forward(self, x, y):\n",
        "    model.mulStack.append([x,y])\n",
        "    z = x * y\n",
        "    return z\n",
        "  \n",
        "  def backward(self, upstream_grad):\n",
        "    x,y = model.mulStack.pop()\n",
        "    return y*upstream_grad, x*upstream_grad"
      ],
      "execution_count": null,
      "outputs": []
    },
    {
      "cell_type": "markdown",
      "metadata": {
        "id": "61FgtL-6Z0y2"
      },
      "source": [
        "Agora que temos todos os nós implementados, podemos implementar as funções `forward` e `backward` do grafo computacional, ou seja, da rede neural como um todo."
      ]
    },
    {
      "cell_type": "code",
      "metadata": {
        "id": "o1N4eVVMaCIP"
      },
      "source": [
        "class Net():\n",
        "\n",
        "  def __init__(self, dim):\n",
        "    # Escreva o código aqui:\n",
        "    self.w = random.random()\n",
        "    self.b = random.random()\n",
        "    self.Mul = MulLayer()\n",
        "    self.Sum = SumLayer()\n",
        "    self.Sig = SigmoidLayer()\n",
        "    self.mulStack = []\n",
        "\n",
        "  def forward(self, x):\n",
        "    # Escreva o código aqui:\n",
        "    dot = self.Mul.forward(x,self.w)\n",
        "    sum = self.Sum.forward(dot, self.b)\n",
        "    sig = self.Sig.forward(sum)\n",
        "    return sig\n",
        "\n",
        "  def backward(self, upstream_grad):\n",
        "    # Escreva o código aqui:\n",
        "    dsig = self.Sig.backward(upstream_grad)\n",
        "    dsum, db = self.Sum.backward(dsig)\n",
        "    dx, dw = self.Mul.backward(dsum)\n",
        "    return dw,db"
      ],
      "execution_count": null,
      "outputs": []
    },
    {
      "cell_type": "markdown",
      "metadata": {
        "id": "IIb90Wu1aGB3"
      },
      "source": [
        "Para treinar esta rede, usaremos a função de custo Mean Squared Error (MSE):\n",
        "\n",
        "$L = (y_\\text{pred} - y_\\text{target})^2$ \n",
        "\n",
        "Para tanto, precisamos construir uma função que calcular o gradiente desse custo:"
      ]
    },
    {
      "cell_type": "code",
      "metadata": {
        "id": "prm0OP27pynW"
      },
      "source": [
        "def compute_grad_loss(y_target, y_pred):\n",
        "  # Escreva o código aqui:\n",
        "  # loss = (y_pred - y_target) ** 2\n",
        "  # derivada da loss em relação y_pred\n",
        "  return 2*(y_pred - y_target)"
      ],
      "execution_count": null,
      "outputs": []
    },
    {
      "cell_type": "markdown",
      "metadata": {
        "id": "plTCBJWjpwCp"
      },
      "source": [
        "Por fim, vamos aprender os pesos `w` e `b` para mapear um valor de entrada $x$ para um valor de saída $y_\\text{target}$. Para isso, inicializamos o grafo da rede e rodamos o laço de optimização, que vai aplicar a descida do gradiente a cada iteração:"
      ]
    },
    {
      "cell_type": "code",
      "metadata": {
        "id": "rp5ttTsGaPmA",
        "colab": {
          "base_uri": "https://localhost:8080/",
          "height": 1000
        },
        "outputId": "4aa87316-c10e-462d-b1c7-d977b4050272"
      },
      "source": [
        "model = Net(dim=1)\n",
        "learning_rate = 0.1\n",
        "x = -5\n",
        "y_target = 0.76\n",
        "num_iterations = 50\n",
        "losses = []\n",
        "for i in range(num_iterations):\n",
        "  # Rode a um passo forward do modelo.\n",
        "  y_pred = model.forward(x)\n",
        "  #Calculo da loss para gráfico\n",
        "  loss = (y_pred - y_target) ** 2\n",
        "  losses.append(loss)\n",
        "  # Calcule o gradiente do erro, data a predição do modelo.\n",
        "  loss_grad = compute_grad_loss(y_target=y_target, y_pred=y_pred)\n",
        "  # Calcule agora os gradientes de w e b usando a função backward do modelo.\n",
        "  w_grad, b_grad = model.backward(loss_grad)\n",
        "  # Atualize os pesos w e b usando os seus respectivos gradientes.\n",
        "  # Escreva o código aqui:\n",
        "  model.w = model.w - learning_rate*w_grad\n",
        "  model.b = model.b - learning_rate*b_grad\n",
        "  \n",
        "  print(f'iter:{i}: y_prime: {y_pred}')\n",
        "\n",
        "plt.plot(losses)"
      ],
      "execution_count": null,
      "outputs": [
        {
          "output_type": "stream",
          "text": [
            "iter:0: y_prime: 0.18768497337863857\n",
            "iter:1: y_prime: 0.26670623528156157\n",
            "iter:2: y_prime: 0.37525769608537307\n",
            "iter:3: y_prime: 0.4898281958780885\n",
            "iter:4: y_prime: 0.5769792706483311\n",
            "iter:5: y_prime: 0.6324338823298052\n",
            "iter:6: y_prime: 0.6674943802354334\n",
            "iter:7: y_prime: 0.690751835420828\n",
            "iter:8: y_prime: 0.7069375930934023\n",
            "iter:9: y_prime: 0.718639278413193\n",
            "iter:10: y_prime: 0.7273481660496112\n",
            "iter:11: y_prime: 0.7339742940793942\n",
            "iter:12: y_prime: 0.7391018783633078\n",
            "iter:13: y_prime: 0.7431223292627818\n",
            "iter:14: y_prime: 0.746307360727706\n",
            "iter:15: y_prime: 0.7488512340788992\n",
            "iter:16: y_prime: 0.7508962762807371\n",
            "iter:17: y_prime: 0.7525489082104868\n",
            "iter:18: y_prime: 0.7538900631074287\n",
            "iter:19: y_prime: 0.7549821662168292\n",
            "iter:20: y_prime: 0.7558739372858058\n",
            "iter:21: y_prime: 0.756603774325397\n",
            "iter:22: y_prime: 0.7572021885442785\n",
            "iter:23: y_prime: 0.7576935896371315\n",
            "iter:24: y_prime: 0.7580976166722507\n",
            "iter:25: y_prime: 0.758430144897731\n",
            "iter:26: y_prime: 0.7587040572728218\n",
            "iter:27: y_prime: 0.7589298424151857\n",
            "iter:28: y_prime: 0.759116062590312\n",
            "iter:29: y_prime: 0.7592697231119413\n",
            "iter:30: y_prime: 0.7593965660608074\n",
            "iter:31: y_prime: 0.7595013052920392\n",
            "iter:32: y_prime: 0.7595878154712654\n",
            "iter:33: y_prime: 0.7596592848207635\n",
            "iter:34: y_prime: 0.7597183390145382\n",
            "iter:35: y_prime: 0.7597671419955179\n",
            "iter:36: y_prime: 0.7598074782354757\n",
            "iter:37: y_prime: 0.7598408200055617\n",
            "iter:38: y_prime: 0.7598683824930025\n",
            "iter:39: y_prime: 0.7598911690311826\n",
            "iter:40: y_prime: 0.7599100082654099\n",
            "iter:41: y_prime: 0.7599255847256637\n",
            "iter:42: y_prime: 0.7599384639988025\n",
            "iter:43: y_prime: 0.7599491134698958\n",
            "iter:44: y_prime: 0.7599579194233504\n",
            "iter:45: y_prime: 0.759965201150044\n",
            "iter:46: y_prime: 0.7599712225896742\n",
            "iter:47: y_prime: 0.7599762019424009\n",
            "iter:48: y_prime: 0.7599803196063423\n",
            "iter:49: y_prime: 0.7599837247341338\n"
          ],
          "name": "stdout"
        },
        {
          "output_type": "execute_result",
          "data": {
            "text/plain": [
              "[<matplotlib.lines.Line2D at 0x7f3ffeb14310>]"
            ]
          },
          "metadata": {
            "tags": []
          },
          "execution_count": 73
        },
        {
          "output_type": "display_data",
          "data": {
            "image/png": "[encoded data removed]",
            "text/plain": [
              "<Figure size 432x288 with 1 Axes>"
            ]
          },
          "metadata": {
            "tags": [],
            "needs_background": "light"
          }
        }
      ]
    },
    {
      "cell_type": "markdown",
      "metadata": {
        "collapsed": true,
        "id": "V8AqQ0n7raQI"
      },
      "source": [
        "# Exercício 4\n",
        "\n",
        "Repita o exercício 3 mas usando uma rede com duas camadas não-lineares:\n",
        "\n",
        "$a = \\sigma(w_1x + b_1)$\n",
        "\n",
        "$y' = \\sigma(w_2a + b_2)$"
      ]
    },
    {
      "cell_type": "code",
      "metadata": {
        "id": "5AN6PzkylXYR",
        "colab": {
          "base_uri": "https://localhost:8080/",
          "height": 1000
        },
        "outputId": "2886faa2-bd35-463b-bdfb-83ed98df66b2"
      },
      "source": [
        "import numpy as np\n",
        "np.random.seed(1)\n",
        "\n",
        "\n",
        "class Net():\n",
        "\n",
        "  def __init__(self, dim=1):\n",
        "    self.w1 = random.random()\n",
        "    self.w2 = random.random()\n",
        "    self.b1 = random.random()\n",
        "    self.b2 = random.random()\n",
        "    self.Mul = MulLayer()\n",
        "    self.Sum = SumLayer()\n",
        "    self.Sig = SigmoidLayer()\n",
        "    self.mulStack = []\n",
        "\n",
        "  def forward(self, x):\n",
        "    # Escreva o código aqui:\n",
        "    #foward em a\n",
        "    dot = self.Mul.forward(x,self.w1)\n",
        "    sum = self.Sum.forward(dot,self.b1)\n",
        "    a = self.Sig.forward(sum)\n",
        "    #foward em y\n",
        "    dot = self.Mul.forward(a,self.w2)\n",
        "    sum = self.Sum.forward(dot,self.b2)\n",
        "    y = self.Sig.forward(sum)\n",
        "    return y\n",
        "  \n",
        "  def backward(self, upstream_grad):\n",
        "    # Escreva o código aqui:\n",
        "    #backward em y\n",
        "    dsig = self.Sig.backward(upstream_grad)\n",
        "    dsum, db2 = self.Sum.backward(dsig)\n",
        "    da, dw2 = self.Mul.backward(dsum)\n",
        "    #backward em a\n",
        "    dsig = self.Sig.backward(da)\n",
        "    dsum, db1 = self.Sum.backward(dsig)\n",
        "    dx, dw1 = self.Mul.backward(dsum)\n",
        "\n",
        "    return dw1, db1, dw2, db2\n",
        "\n",
        "model = Net(dim=1)\n",
        "learning_rate = 1.0\n",
        "x = -5\n",
        "y_target = 0.76\n",
        "losses = []\n",
        "for i in range(100):\n",
        "  y_pred = model.forward(x)\n",
        "  #Calculo da loss para gráfico\n",
        "  loss = (y_pred - y_target) ** 2\n",
        "  losses.append(loss)\n",
        "  loss_grad = compute_grad_loss(y_target=y_target, y_pred=y_pred)\n",
        "  w1_grad, b1_grad, w2_grad, b2_grad = model.backward(loss_grad)\n",
        "  # Escreva o código aqui para atualizar os pesos:\n",
        "  model.w1 = model.w1 - learning_rate * w1_grad\n",
        "  model.w2 = model.w2 - learning_rate * w2_grad\n",
        "  model.b1 = model.b1 - learning_rate * b1_grad\n",
        "  model.b2 = model.b2 - learning_rate * b2_grad\n",
        "\n",
        "  print(f'iter:{i}: y_prime: {y_pred}')\n",
        "\n",
        "plt.plot(losses)"
      ],
      "execution_count": null,
      "outputs": [
        {
          "output_type": "stream",
          "text": [
            "iter:0: y_prime: 0.6557168762654572\n",
            "iter:1: y_prime: 0.6668267123216713\n",
            "iter:2: y_prime: 0.6764890786465412\n",
            "iter:3: y_prime: 0.6849339017232028\n",
            "iter:4: y_prime: 0.6923490626128382\n",
            "iter:5: y_prime: 0.6988884934326212\n",
            "iter:6: y_prime: 0.7046788611491748\n",
            "iter:7: y_prime: 0.7098249490987671\n",
            "iter:8: y_prime: 0.7144139373908646\n",
            "iter:9: y_prime: 0.7185187905472961\n",
            "iter:10: y_prime: 0.722200936704026\n",
            "iter:11: y_prime: 0.7255123905923423\n",
            "iter:12: y_prime: 0.7284974417161751\n",
            "iter:13: y_prime: 0.7311940028369182\n",
            "iter:14: y_prime: 0.7336346926015421\n",
            "iter:15: y_prime: 0.7358477094233896\n",
            "iter:16: y_prime: 0.737857540771656\n",
            "iter:17: y_prime: 0.7396855420693501\n",
            "iter:18: y_prime: 0.7413504117697205\n",
            "iter:19: y_prime: 0.7428685833347713\n",
            "iter:20: y_prime: 0.744254550351852\n",
            "iter:21: y_prime: 0.7455211375694201\n",
            "iter:22: y_prime: 0.7466797279632992\n",
            "iter:23: y_prime: 0.7477404538728791\n",
            "iter:24: y_prime: 0.7487123586314898\n",
            "iter:25: y_prime: 0.7496035338499955\n",
            "iter:26: y_prime: 0.7504212365168724\n",
            "iter:27: y_prime: 0.7511719892904998\n",
            "iter:28: y_prime: 0.7518616667335597\n",
            "iter:29: y_prime: 0.75249556973978\n",
            "iter:30: y_prime: 0.7530784900024524\n",
            "iter:31: y_prime: 0.7536147660512302\n",
            "iter:32: y_prime: 0.7541083321223528\n",
            "iter:33: y_prime: 0.7545627609150385\n",
            "iter:34: y_prime: 0.7549813011134302\n",
            "iter:35: y_prime: 0.7553669104114286\n",
            "iter:36: y_prime: 0.7557222846608956\n",
            "iter:37: y_prime: 0.7560498836672273\n",
            "iter:38: y_prime: 0.756351954076331\n",
            "iter:39: y_prime: 0.7566305497305373\n",
            "iter:40: y_prime: 0.7568875498154798\n",
            "iter:41: y_prime: 0.7571246750734973\n",
            "iter:42: y_prime: 0.75734350232008\n",
            "iter:43: y_prime: 0.757545477466973\n",
            "iter:44: y_prime: 0.7577319272277494\n",
            "iter:45: y_prime: 0.7579040696580771\n",
            "iter:46: y_prime: 0.7580630236628597\n",
            "iter:47: y_prime: 0.758209817585337\n",
            "iter:48: y_prime: 0.7583453969785987\n",
            "iter:49: y_prime: 0.7584706316474438\n",
            "iter:50: y_prime: 0.7585863220377258\n",
            "iter:51: y_prime: 0.7586932050410423\n",
            "iter:52: y_prime: 0.7587919592745905\n",
            "iter:53: y_prime: 0.7588832098890544\n",
            "iter:54: y_prime: 0.7589675329513497\n",
            "iter:55: y_prime: 0.7590454594437834\n",
            "iter:56: y_prime: 0.7591174789165973\n",
            "iter:57: y_prime: 0.7591840428268437\n",
            "iter:58: y_prime: 0.7592455675930202\n",
            "iter:59: y_prime: 0.7593024373917899\n",
            "iter:60: y_prime: 0.7593550067203908\n",
            "iter:61: y_prime: 0.7594036027459258\n",
            "iter:62: y_prime: 0.759448527460595\n",
            "iter:63: y_prime: 0.7594900596600481\n",
            "iter:64: y_prime: 0.7595284567603499\n",
            "iter:65: y_prime: 0.7595639564675659\n",
            "iter:66: y_prime: 0.7595967783126416\n",
            "iter:67: y_prime: 0.7596271250630544\n",
            "iter:68: y_prime: 0.7596551840216643\n",
            "iter:69: y_prime: 0.7596811282222214\n",
            "iter:70: y_prime: 0.7597051175301437\n",
            "iter:71: y_prime: 0.759727299656397\n",
            "iter:72: y_prime: 0.7597478110916223\n",
            "iter:73: y_prime: 0.759766777967026\n",
            "iter:74: y_prime: 0.7597843168479791\n",
            "iter:75: y_prime: 0.7598005354657648\n",
            "iter:76: y_prime: 0.7598155333924473\n",
            "iter:77: y_prime: 0.7598294026634083\n",
            "iter:78: y_prime: 0.7598422283517263\n",
            "iter:79: y_prime: 0.7598540890982151\n",
            "iter:80: y_prime: 0.7598650576006246\n",
            "iter:81: y_prime: 0.7598752010652261\n",
            "iter:82: y_prime: 0.7598845816237251\n",
            "iter:83: y_prime: 0.7598932567182235\n",
            "iter:84: y_prime: 0.7599012794567161\n",
            "iter:85: y_prime: 0.7599086989414189\n",
            "iter:86: y_prime: 0.7599155605720345\n",
            "iter:87: y_prime: 0.7599219063258972\n",
            "iter:88: y_prime: 0.759927775016782\n",
            "iter:89: y_prime: 0.7599332025340233\n",
            "iter:90: y_prime: 0.7599382220634585\n",
            "iter:91: y_prime: 0.7599428642915924\n",
            "iter:92: y_prime: 0.7599471575942692\n",
            "iter:93: y_prime: 0.7599511282110379\n",
            "iter:94: y_prime: 0.7599548004063068\n",
            "iter:95: y_prime: 0.7599581966182934\n",
            "iter:96: y_prime: 0.7599613375967023\n",
            "iter:97: y_prime: 0.75996424252999\n",
            "iter:98: y_prime: 0.7599669291630079\n",
            "iter:99: y_prime: 0.7599694139057561\n"
          ],
          "name": "stdout"
        },
        {
          "output_type": "execute_result",
          "data": {
            "text/plain": [
              "[<matplotlib.lines.Line2D at 0x7f3ffec27690>]"
            ]
          },
          "metadata": {
            "tags": []
          },
          "execution_count": 67
        },
        {
          "output_type": "display_data",
          "data": {
            "image/png": "[encoded data removed]",
            "text/plain": [
              "<Figure size 432x288 with 1 Axes>"
            ]
          },
          "metadata": {
            "tags": [],
            "needs_background": "light"
          }
        }
      ]
    },
    {
      "cell_type": "markdown",
      "metadata": {
        "collapsed": true,
        "id": "YNAx30ZLCZuj"
      },
      "source": [
        "# Exercício 5\n",
        "\n",
        "Repita o exercício 4 mas compartilhando os pesos das duas camadas. Mostre que ambas tem os mesmos pesos após o treino."
      ]
    },
    {
      "cell_type": "code",
      "metadata": {
        "id": "M78rgX2OlHWI",
        "colab": {
          "base_uri": "https://localhost:8080/",
          "height": 1000
        },
        "outputId": "e808c5e5-a126-40de-aaca-a841f0500255"
      },
      "source": [
        "# Escreva o código aqui\n",
        "\n",
        "import numpy as np\n",
        "np.random.seed(1)\n",
        "\n",
        "\n",
        "class Net():\n",
        "\n",
        "  def __init__(self, dim=1):\n",
        "    # Escreva o código aqui: \n",
        "    self.w1 = random.random()\n",
        "    self.w2 = random.random()\n",
        "    self.b1 = random.random()\n",
        "    self.b2 = random.random()\n",
        "    self.Mul = MulLayer()\n",
        "    self.Sum = SumLayer()\n",
        "    self.Sig = SigmoidLayer()\n",
        "    self.mulStack = []\n",
        "\n",
        "  def forward(self, x):\n",
        "    # Escreva o código aqui:\n",
        "    #foward em a\n",
        "    dot = self.Mul.forward(x,self.w1)\n",
        "    sum = self.Sum.forward(dot,self.b1)\n",
        "    a = self.Sig.forward(sum)\n",
        "    #foward em y\n",
        "    dot = self.Mul.forward(a,self.w2)\n",
        "    sum = self.Sum.forward(dot,self.b2)\n",
        "    y = self.Sig.forward(sum)\n",
        "    return y\n",
        "  \n",
        "  def backward(self, upstream_grad):\n",
        "    # Escreva o código aqui:\n",
        "    #backward em y\n",
        "    dsig = self.Sig.backward(upstream_grad)\n",
        "    dsum, db2 = self.Sum.backward(dsig)\n",
        "    da, dw2 = self.Mul.backward(dsum)\n",
        "    #backward em a\n",
        "    dsig = self.Sig.backward(da)\n",
        "    dsum, db1 = self.Sum.backward(dsig)\n",
        "    dx, dw1 = self.Mul.backward(dsum)\n",
        "\n",
        "    return dw1 + dw2, db1 + db2\n",
        "\n",
        "\n",
        "model = Net(dim=1)\n",
        "learning_rate = 1.0\n",
        "x = -5\n",
        "y_target = 0.76\n",
        "losses = []\n",
        "for i in range(100):\n",
        "  y_pred = model.forward(x)\n",
        "  #Calculo da loss para gráfico\n",
        "  loss = (y_pred - y_target) ** 2\n",
        "  losses.append(loss)\n",
        "  loss_grad = compute_grad_loss(y_target=y_target, y_pred=y_pred)\n",
        "  w_grad, b_grad = model.backward(loss_grad)\n",
        "  # Escreva o código aqui para atualizar os pesos:\n",
        "  model.w1 = model.w1 - learning_rate*w_grad\n",
        "  model.w2 = model.w2 - learning_rate*w_grad\n",
        "  model.b1 = model.b1 - learning_rate*w_grad\n",
        "  model.b2 = model.b2 - learning_rate*b_grad \n",
        "\n",
        "  print(f'iter:{i}: y_prime: {y_pred}')\n",
        "  print(f'model.w1: {model.w1}')\n",
        "  print(f'model.w2: {model.w2}')\n",
        "\n",
        "plt.plot(losses)"
      ],
      "execution_count": null,
      "outputs": [
        {
          "output_type": "stream",
          "text": [
            "iter:0: y_prime: 0.6938216949202131\n",
            "model.w1: 0.7304679163609579\n",
            "model.w2: 0.1338801980149678\n",
            "iter:1: y_prime: 0.699917808088489\n",
            "model.w1: 0.7284942109351366\n",
            "model.w2: 0.13190649258914644\n",
            "iter:2: y_prime: 0.7053264565243237\n",
            "model.w1: 0.7268074152239976\n",
            "model.w2: 0.1302196968780075\n",
            "iter:3: y_prime: 0.710145006138301\n",
            "model.w1: 0.7253550095226782\n",
            "model.w2: 0.12876729117668811\n",
            "iter:4: y_prime: 0.7144539683275921\n",
            "model.w1: 0.7240960121554949\n",
            "model.w2: 0.1275082938095049\n",
            "iter:5: y_prime: 0.7183203908876181\n",
            "model.w1: 0.7229980649722416\n",
            "model.w2: 0.1264103466262516\n",
            "iter:6: y_prime: 0.7218004913600413\n",
            "model.w1: 0.7220353403239149\n",
            "model.w2: 0.1254476219779249\n",
            "iter:7: y_prime: 0.7249417139227389\n",
            "model.w1: 0.7211870165045109\n",
            "model.w2: 0.12459929815852089\n",
            "iter:8: y_prime: 0.7277843462502464\n",
            "model.w1: 0.720436152494721\n",
            "model.w2: 0.12384843414873109\n",
            "iter:9: y_prime: 0.7303627989169232\n",
            "model.w1: 0.7197688471474052\n",
            "model.w2: 0.12318112880141523\n",
            "iter:10: y_prime: 0.7327066245644261\n",
            "model.w1: 0.7191736036778384\n",
            "model.w2: 0.1225858853318485\n",
            "iter:11: y_prime: 0.7348413351661418\n",
            "model.w1: 0.7186408441762422\n",
            "model.w2: 0.12205312583025225\n",
            "iter:12: y_prime: 0.7367890616566527\n",
            "model.w1: 0.7181625350181351\n",
            "model.w2: 0.1215748166721452\n",
            "iter:13: y_prime: 0.7385690897018152\n",
            "model.w1: 0.7177318951420103\n",
            "model.w2: 0.12114417679602038\n",
            "iter:14: y_prime: 0.7401982975294966\n",
            "model.w1: 0.7173431668791542\n",
            "model.w2: 0.12075544853316428\n",
            "iter:15: y_prime: 0.7416915158326778\n",
            "model.w1: 0.7169914344514866\n",
            "model.w2: 0.12040371610549666\n",
            "iter:16: y_prime: 0.7430618252895762\n",
            "model.w1: 0.7166724791204528\n",
            "model.w2: 0.12008476077446295\n",
            "iter:17: y_prime: 0.7443208038491355\n",
            "model.w1: 0.7163826627535504\n",
            "model.w2: 0.11979494440756056\n",
            "iter:18: y_prime: 0.7454787333330387\n",
            "model.w1: 0.7161188335992525\n",
            "model.w2: 0.11953111525326271\n",
            "iter:19: y_prime: 0.7465447729076302\n",
            "model.w1: 0.7158782495473742\n",
            "model.w2: 0.11929053120138439\n",
            "iter:20: y_prime: 0.7475271054334341\n",
            "model.w1: 0.7156585152532793\n",
            "model.w2: 0.11907079690728946\n",
            "iter:21: y_prime: 0.7484330614971034\n",
            "model.w1: 0.715457530327549\n",
            "model.w2: 0.11886981198155913\n",
            "iter:22: y_prime: 0.7492692249892571\n",
            "model.w1: 0.7152734464131312\n",
            "model.w2: 0.1186857280671413\n",
            "iter:23: y_prime: 0.7500415233508361\n",
            "model.w1: 0.7151046314431941\n",
            "model.w2: 0.11851691309720427\n",
            "iter:24: y_prime: 0.7507553050244565\n",
            "model.w1: 0.7149496397334499\n",
            "model.w2: 0.11836192138746002\n",
            "iter:25: y_prime: 0.751415406181046\n",
            "model.w1: 0.7148071868405247\n",
            "model.w2: 0.1182194684945348\n",
            "iter:26: y_prime: 0.7520262084193694\n",
            "model.w1: 0.7146761283334558\n",
            "model.w2: 0.11808840998746589\n",
            "iter:27: y_prime: 0.7525916888366886\n",
            "model.w1: 0.7145554417936233\n",
            "model.w2: 0.11796772344763333\n",
            "iter:28: y_prime: 0.7531154636271653\n",
            "model.w1: 0.7144442114905513\n",
            "model.w2: 0.11785649314456129\n",
            "iter:29: y_prime: 0.7536008261687214\n",
            "model.w1: 0.7143416152853844\n",
            "model.w2: 0.11775389693939443\n",
            "iter:30: y_prime: 0.7540507803995152\n",
            "model.w1: 0.7142469133967446\n",
            "model.w2: 0.11765919505075464\n",
            "iter:31: y_prime: 0.7544680701547279\n",
            "model.w1: 0.714159438729867\n",
            "model.w2: 0.11757172038387703\n",
            "iter:32: y_prime: 0.7548552050271948\n",
            "model.w1: 0.7140785885230342\n",
            "model.w2: 0.11749087017704424\n",
            "iter:33: y_prime: 0.7552144832270966\n",
            "model.w1: 0.7140038171081606\n",
            "model.w2: 0.11741609876217068\n",
            "iter:34: y_prime: 0.7555480118428131\n",
            "model.w1: 0.7139346296170761\n",
            "model.w2: 0.11734691127108621\n",
            "iter:35: y_prime: 0.7558577248443281\n",
            "model.w1: 0.7138705764932888\n",
            "model.w2: 0.11728285814729889\n",
            "iter:36: y_prime: 0.7561453991199614\n",
            "model.w1: 0.7138112486920731\n",
            "model.w2: 0.11722353034608327\n",
            "iter:37: y_prime: 0.7564126687948692\n",
            "model.w1: 0.7137562734706526\n",
            "model.w2: 0.11716855512466276\n",
            "iter:38: y_prime: 0.7566610380442353\n",
            "model.w1: 0.7137053106858285\n",
            "model.w2: 0.11711759233983864\n",
            "iter:39: y_prime: 0.7568918925841561\n",
            "model.w1: 0.7136580495292897\n",
            "model.w2: 0.11707033118329982\n",
            "iter:40: y_prime: 0.7571065099979846\n",
            "model.w1: 0.7136142056415236\n",
            "model.w2: 0.11702648729553375\n",
            "iter:41: y_prime: 0.7573060690344906\n",
            "model.w1: 0.7135735185541441\n",
            "model.w2: 0.11698580020815426\n",
            "iter:42: y_prime: 0.757491657996031\n",
            "model.w1: 0.7135357494178813\n",
            "model.w2: 0.11694803107189153\n",
            "iter:43: y_prime: 0.7576642823194446\n",
            "model.w1: 0.7135006789797037\n",
            "model.w2: 0.11691296063371387\n",
            "iter:44: y_prime: 0.7578248714391587\n",
            "model.w1: 0.713468105777772\n",
            "model.w2: 0.11688038743178218\n",
            "iter:45: y_prime: 0.7579742850106723\n",
            "model.w1: 0.7134378445273373\n",
            "model.w2: 0.11685012618134748\n",
            "iter:46: y_prime: 0.7581133185628565\n",
            "model.w1: 0.7134097246744189\n",
            "model.w2: 0.1168220063284291\n",
            "iter:47: y_prime: 0.7582427086391358\n",
            "model.w1: 0.7133835890972606\n",
            "model.w2: 0.11679587075127086\n",
            "iter:48: y_prime: 0.7583631374803967\n",
            "model.w1: 0.7133592929382475\n",
            "model.w2: 0.11677157459225776\n",
            "iter:49: y_prime: 0.7584752372962092\n",
            "model.w1: 0.7133367025512538\n",
            "model.w2: 0.1167489842052641\n",
            "iter:50: y_prime: 0.7585795941655374\n",
            "model.w1: 0.7133156945513488\n",
            "model.w2: 0.11672797620535905\n",
            "iter:51: y_prime: 0.7586767516033956\n",
            "model.w1: 0.7132961549554593\n",
            "model.w2: 0.11670843660946953\n",
            "iter:52: y_prime: 0.7587672138258085\n",
            "model.w1: 0.7132779784040274\n",
            "model.w2: 0.11669026005803768\n",
            "iter:53: y_prime: 0.7588514487418487\n",
            "model.w1: 0.7132610674549363\n",
            "model.w2: 0.11667334910894664\n",
            "iter:54: y_prime: 0.7589298906983928\n",
            "model.w1: 0.7132453319420446\n",
            "model.w2: 0.1166576135960549\n",
            "iter:55: y_prime: 0.7590029430004831\n",
            "model.w1: 0.7132306883915908\n",
            "model.w2: 0.11664297004560097\n",
            "iter:56: y_prime: 0.7590709802277762\n",
            "model.w1: 0.7132170594905285\n",
            "model.w2: 0.11662934114453868\n",
            "iter:57: y_prime: 0.7591343503654256\n",
            "model.w1: 0.7132043736015461\n",
            "model.w2: 0.11661665525555631\n",
            "iter:58: y_prime: 0.7591933767658716\n",
            "model.w1: 0.7131925643201252\n",
            "model.w2: 0.11660484597413551\n",
            "iter:59: y_prime: 0.7592483599563581\n",
            "model.w1: 0.7131815700695212\n",
            "model.w2: 0.11659385172353144\n",
            "iter:60: y_prime: 0.759299579305519\n",
            "model.w1: 0.7131713337300043\n",
            "model.w2: 0.11658361538401449\n",
            "iter:61: y_prime: 0.7593472945610825\n",
            "model.w1: 0.7131618022991051\n",
            "model.w2: 0.11657408395311529\n",
            "iter:62: y_prime: 0.7593917472695747\n",
            "model.w1: 0.713152926579957\n",
            "model.w2: 0.11656520823396718\n",
            "iter:63: y_prime: 0.7594331620878769\n",
            "model.w1: 0.7131446608951392\n",
            "model.w2: 0.11655694254914932\n",
            "iter:64: y_prime: 0.7594717479955668\n",
            "model.w1: 0.713136962823696\n",
            "model.w2: 0.11654924447770612\n",
            "iter:65: y_prime: 0.759507699416155\n",
            "model.w1: 0.7131297929592486\n",
            "model.w2: 0.11654207461325874\n",
            "iter:66: y_prime: 0.7595411972545815\n",
            "model.w1: 0.7131231146873264\n",
            "model.w2: 0.1165353963413365\n",
            "iter:67: y_prime: 0.759572409857687\n",
            "model.w1: 0.7131168939802337\n",
            "model.w2: 0.11652917563424384\n",
            "iter:68: y_prime: 0.7596014939037711\n",
            "model.w1: 0.7131110992079349\n",
            "model.w2: 0.11652338086194503\n",
            "iter:69: y_prime: 0.7596285952268149\n",
            "model.w1: 0.7131057009635865\n",
            "model.w2: 0.11651798261759656\n",
            "iter:70: y_prime: 0.7596538495804714\n",
            "model.w1: 0.7131006719024789\n",
            "model.w2: 0.11651295355648902\n",
            "iter:71: y_prime: 0.7596773833464795\n",
            "model.w1: 0.7130959865932671\n",
            "model.w2: 0.1165082682472772\n",
            "iter:72: y_prime: 0.7596993141917736\n",
            "model.w1: 0.7130916213804722\n",
            "model.w2: 0.11650390303448234\n",
            "iter:73: y_prime: 0.7597197516782004\n",
            "model.w1: 0.7130875542573336\n",
            "model.w2: 0.11649983591134377\n",
            "iter:74: y_prime: 0.7597387978284313\n",
            "model.w1: 0.7130837647481713\n",
            "model.w2: 0.11649604640218138\n",
            "iter:75: y_prime: 0.7597565476513664\n",
            "model.w1: 0.7130802337994953\n",
            "model.w2: 0.11649251545350543\n",
            "iter:76: y_prime: 0.7597730896300575\n",
            "model.w1: 0.7130769436791681\n",
            "model.w2: 0.11648922533317822\n",
            "iter:77: y_prime: 0.7597885061749384\n",
            "model.w1: 0.7130738778829825\n",
            "model.w2: 0.11648615953699269\n",
            "iter:78: y_prime: 0.7598028740449239\n",
            "model.w1: 0.7130710210480781\n",
            "model.w2: 0.11648330270208833\n",
            "iter:79: y_prime: 0.7598162647387422\n",
            "model.w1: 0.7130683588726638\n",
            "model.w2: 0.11648064052667409\n",
            "iter:80: y_prime: 0.7598287448586776\n",
            "model.w1: 0.7130658780415627\n",
            "model.w2: 0.11647815969557301\n",
            "iter:81: y_prime: 0.7598403764487325\n",
            "model.w1: 0.7130635661571335\n",
            "model.w2: 0.11647584781114374\n",
            "iter:82: y_prime: 0.7598512173090641\n",
            "model.w1: 0.7130614116751608\n",
            "model.w2: 0.11647369332917107\n",
            "iter:83: y_prime: 0.7598613212884077\n",
            "model.w1: 0.7130594038453407\n",
            "model.w2: 0.11647168549935098\n",
            "iter:84: y_prime: 0.7598707385560698\n",
            "model.w1: 0.7130575326560158\n",
            "model.w2: 0.11646981431002604\n",
            "iter:85: y_prime: 0.7598795158549573\n",
            "model.w1: 0.7130557887828444\n",
            "model.w2: 0.11646807043685466\n",
            "iter:86: y_prime: 0.7598876967369913\n",
            "model.w1: 0.7130541635411127\n",
            "model.w2: 0.11646644519512306\n",
            "iter:87: y_prime: 0.7598953217821663\n",
            "model.w1: 0.7130526488414212\n",
            "model.w2: 0.11646493049543152\n",
            "iter:88: y_prime: 0.7599024288024092\n",
            "model.w1: 0.7130512371484974\n",
            "model.w2: 0.11646351880250777\n",
            "iter:89: y_prime: 0.7599090530313167\n",
            "model.w1: 0.713049921442909\n",
            "model.w2: 0.11646220309691938\n",
            "iter:90: y_prime: 0.7599152273007667\n",
            "model.w1: 0.7130486951854643\n",
            "model.w2: 0.11646097683947472\n",
            "iter:91: y_prime: 0.759920982205327\n",
            "model.w1: 0.7130475522841077\n",
            "model.w2: 0.11645983393811811\n",
            "iter:92: y_prime: 0.75992634625532\n",
            "model.w1: 0.713046487063129\n",
            "model.w2: 0.11645876871713945\n",
            "iter:93: y_prime: 0.7599313460193333\n",
            "model.w1: 0.713045494234522\n",
            "model.w2: 0.11645777588853243\n",
            "iter:94: y_prime: 0.7599360062569221\n",
            "model.w1: 0.7130445688713373\n",
            "model.w2: 0.11645685052534763\n",
            "iter:95: y_prime: 0.7599403500421777\n",
            "model.w1: 0.713043706382888\n",
            "model.w2: 0.1164559880368984\n",
            "iter:96: y_prime: 0.759944398878808\n",
            "model.w1: 0.7130429024916776\n",
            "model.w2: 0.11645518414568788\n",
            "iter:97: y_prime: 0.7599481728073132\n",
            "model.w1: 0.7130421532119251\n",
            "model.w2: 0.11645443486593537\n",
            "iter:98: y_prime: 0.7599516905048075\n",
            "model.w1: 0.7130414548295786\n",
            "model.w2: 0.11645373648358891\n",
            "iter:99: y_prime: 0.7599549693779989\n",
            "model.w1: 0.7130408038837093\n",
            "model.w2: 0.11645308553771959\n"
          ],
          "name": "stdout"
        },
        {
          "output_type": "execute_result",
          "data": {
            "text/plain": [
              "[<matplotlib.lines.Line2D at 0x7f4059246110>]"
            ]
          },
          "metadata": {
            "tags": []
          },
          "execution_count": 68
        },
        {
          "output_type": "display_data",
          "data": {
            "image/png": "[encoded data removed]",
            "text/plain": [
              "<Figure size 432x288 with 1 Axes>"
            ]
          },
          "metadata": {
            "tags": [],
            "needs_background": "light"
          }
        }
      ]
    }
  ]
}