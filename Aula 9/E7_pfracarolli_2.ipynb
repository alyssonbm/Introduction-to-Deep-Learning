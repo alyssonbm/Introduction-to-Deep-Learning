{
 "cells": [
  {
   "cell_type": "markdown",
   "metadata": {
    "id": "J3R2-_YuQT1r"
   },
   "source": [
    "# Deteccão de COVID-19 em imagens de raio-X\n",
    "\n",
    "O objetivo deste exercício é treinar e avaliar um classificador capaz de detectar a presença de COVID-19 em imagens de raio-X.\n",
    "\n",
    "As métricas a serem reportadas são F1 e Equal Error Rate (ERR) e seu respectivo threshold.\n",
    "\n",
    "Note que uma das dificuldades deste exercicio será processar as imagens, que tem 1100 x 1100 pixels.\n",
    "\n",
    "Dica: Utilize o [pyeer](https://pypi.org/project/pyeer/) para plotar o EER."
   ]
  },
  {
   "cell_type": "markdown",
   "metadata": {},
   "source": [
    "## Inicialização do Neptune"
   ]
  },
  {
   "cell_type": "code",
   "execution_count": 1,
   "metadata": {
    "colab": {
     "base_uri": "https://localhost:8080/"
    },
    "id": "mgE0kR_P-iea",
    "outputId": "1a94287a-9a94-41fd-b4f5-8a7e6f0176ea"
   },
   "outputs": [],
   "source": [
    "import os\n",
    "import neptune.new as neptune\n",
    "\n",
    "class FakeNeptuneLogger:\n",
    "    def log(self, *args):\n",
    "        pass\n",
    "\n",
    "class FakeNeptuneClient:\n",
    "    def __setitem__(self, key, value):\n",
    "        pass\n",
    "    \n",
    "    def __getitem__(self, value):\n",
    "        return FakeNeptuneLogger()\n",
    "\n",
    "def get_neptune_client():\n",
    "    api_token = os.getenv('NEPTUNE_API_TOKEN')\n",
    "    \n",
    "    if api_token is not None:\n",
    "        return neptune.init(\n",
    "            project='pfracarolli/pfracarolli-e7',\n",
    "            api_token=api_token\n",
    "        )\n",
    "    \n",
    "    return FakeNeptuneClient()\n",
    "\n",
    "run = get_neptune_client()"
   ]
  },
  {
   "cell_type": "markdown",
   "metadata": {
    "id": "wFNf4RPxQT1w"
   },
   "source": [
    "## Importação das bibliotecas"
   ]
  },
  {
   "cell_type": "code",
   "execution_count": 2,
   "metadata": {
    "colab": {
     "base_uri": "https://localhost:8080/"
    },
    "id": "-fLUSHaCQT1x",
    "outputId": "201a1943-434f-422f-e7b4-21b2c90d0d54"
   },
   "outputs": [
    {
     "name": "stderr",
     "output_type": "stream",
     "text": [
      "Global seed set to 123\n"
     ]
    },
    {
     "data": {
      "text/plain": [
       "123"
      ]
     },
     "execution_count": 2,
     "metadata": {},
     "output_type": "execute_result"
    }
   ],
   "source": [
    "from collections import OrderedDict\n",
    "import h5py\n",
    "import numpy as np\n",
    "\n",
    "import torch\n",
    "from torch.utils.data import DataLoader\n",
    "from torch import nn\n",
    "\n",
    "import torchvision\n",
    "from torchvision import transforms\n",
    "\n",
    "import pytorch_lightning\n",
    "from pytorch_lightning import LightningModule, Trainer\n",
    "\n",
    "pytorch_lightning.utilities.seed.seed_everything(seed=123)"
   ]
  },
  {
   "cell_type": "markdown",
   "metadata": {
    "id": "jEMUsfJpQT11"
   },
   "source": [
    "## Dataset e dataloader"
   ]
  },
  {
   "cell_type": "markdown",
   "metadata": {
    "id": "dc7Rv_2BQT16"
   },
   "source": [
    "### Carregamento, criação dataset e do dataloader"
   ]
  },
  {
   "cell_type": "code",
   "execution_count": 3,
   "metadata": {
    "colab": {
     "base_uri": "https://localhost:8080/"
    },
    "id": "G0dEKCn-QT17",
    "outputId": "194e24fb-c6df-479c-e954-95c3bd878372"
   },
   "outputs": [],
   "source": [
    "if not os.path.exists('./data'):\n",
    "    !mkdir ./data\n",
    "    !gsutil -m cp -n gs://neuralresearcher_data/unicamp/ia376i_2021s1/data/xray_covid/* ./data"
   ]
  },
  {
   "cell_type": "markdown",
   "metadata": {
    "id": "Q7WcS3cH_0Q8"
   },
   "source": [
    "Aqui criamos um dataset sem aumento de dados"
   ]
  },
  {
   "cell_type": "code",
   "execution_count": 4,
   "metadata": {
    "id": "PIFbKR8wd6fg"
   },
   "outputs": [],
   "source": [
    "size_final = (224, 224)\n",
    "\n",
    "transform_train = transforms.Compose([\n",
    "    torchvision.transforms.ToTensor(),\n",
    "    torchvision.transforms.Resize(size=size_final),\n",
    "    torchvision.transforms.Lambda(lambda x: x.tile(3,1,1)),\n",
    "    # normalization params for resnet\n",
    "    torchvision.transforms.Normalize(\n",
    "        mean=[0.485, 0.456, 0.406], \n",
    "        std=[0.229, 0.224, 0.225]\n",
    "    ),\n",
    "])\n",
    "\n",
    "transform_valid = transform_train"
   ]
  },
  {
   "cell_type": "code",
   "execution_count": 5,
   "metadata": {
    "id": "-dUbG4crOU8m"
   },
   "outputs": [],
   "source": [
    "class Hdf5Dataset(torch.utils.data.Dataset):\n",
    "    def __init__(self, path, transform, n_dataset_splits=2):\n",
    "        self.h5file = h5py.File(path, 'r')    \n",
    "        self.transform = transform\n",
    "        \n",
    "        l = len(self.h5file['label'])\n",
    "        \n",
    "        self.split_size = l // n_dataset_splits\n",
    "        self.__load_split(0)\n",
    "        \n",
    "    def __load_split(self, split):\n",
    "        self.split = split\n",
    "        lo, hi = self.split, self.split + self.split_size\n",
    "        self.images = self.h5file['data'][lo:hi]\n",
    "        self.labels = self.h5file['label'][lo:hi]\n",
    "        \n",
    "    def __get_image_and_label(self, idx):\n",
    "        split = idx // self.split_size\n",
    "        \n",
    "        if split != self.split:\n",
    "            self.__load_split(split)\n",
    "            \n",
    "        index = idx - self.split * self.split_size\n",
    "        \n",
    "        return (\n",
    "            self.images[index].astype(np.uint8), \n",
    "            self.labels[index].astype(np.int64)\n",
    "        )\n",
    "\n",
    "    def __len__(self):\n",
    "        return len(self.h5file['label'])\n",
    "\n",
    "    def __getitem__(self, idx):\n",
    "        img, label = self.__get_image_and_label(idx)\n",
    "        img = self.transform(img)\n",
    "      \n",
    "        return img, label\n",
    "    \n",
    "class MemoryHdf5Dataset(torch.utils.data.Dataset):\n",
    "    def __init__(self, path, transform, ds_size=3000):\n",
    "        with h5py.File(path, 'r') as h5file:\n",
    "            self.images = h5file['data'][:ds_size]\n",
    "            self.labels = h5file['label'][:ds_size]\n",
    "            \n",
    "        self.transform = transform\n",
    "\n",
    "    def __len__(self):\n",
    "        return len(self.labels)\n",
    "\n",
    "    def __getitem__(self, idx):\n",
    "        label = self.labels[idx].astype(np.int64)\n",
    "        img = self.images[idx].astype(np.uint8)\n",
    "        img = self.transform(img)\n",
    "      \n",
    "        return img, label"
   ]
  },
  {
   "cell_type": "code",
   "execution_count": 6,
   "metadata": {
    "colab": {
     "base_uri": "https://localhost:8080/"
    },
    "id": "PW7q3WU8dR1m",
    "outputId": "3a56188b-4def-4eca-ea65-bf8807605d5b"
   },
   "outputs": [],
   "source": [
    "train_dataset = MemoryHdf5Dataset('./data/train.hdf5', transform=transform_train)\n",
    "val_dataset = MemoryHdf5Dataset('./data/valid.hdf5', transform=transform_valid)\n",
    "test_dataset = MemoryHdf5Dataset('./data/test.hdf5', transform=transform_valid)"
   ]
  },
  {
   "cell_type": "code",
   "execution_count": 7,
   "metadata": {
    "colab": {
     "base_uri": "https://localhost:8080/"
    },
    "id": "w52KGYlIQT2A",
    "outputId": "35da8d52-29a4-4004-8456-84260154a903"
   },
   "outputs": [
    {
     "name": "stdout",
     "output_type": "stream",
     "text": [
      "Number of training batches: 100\n",
      "Number of validation batches: 34\n",
      "Number of test batches: 34\n",
      "Size of a minibatch: torch.Size([30, 3, 224, 224])\n",
      "Min and max pixel values: tensor(-2.1179) tensor(2.6394)\n",
      "Image datatype: <class 'torch.Tensor'>\n",
      "Label dataype: <class 'torch.Tensor'>\n",
      "tensor([0, 1, 1, 1, 0, 0, 0, 1, 1, 1])\n"
     ]
    }
   ],
   "source": [
    "batch_size = 30\n",
    "\n",
    "train_dataloader = DataLoader(\n",
    "    train_dataset, \n",
    "    batch_size=batch_size, \n",
    "    shuffle=True\n",
    ")\n",
    "\n",
    "val_dataloader = DataLoader(\n",
    "    val_dataset, \n",
    "    batch_size=batch_size, \n",
    "    shuffle=False\n",
    ")\n",
    "\n",
    "test_dataloader = DataLoader(test_dataset, batch_size=batch_size, shuffle=False)\n",
    "\n",
    "print('Number of training batches:', len(train_dataloader))\n",
    "print('Number of validation batches:', len(val_dataloader))\n",
    "print('Number of test batches:', len(test_dataloader))\n",
    "\n",
    "x_train, y_train = next(iter(train_dataloader))\n",
    "print('Size of a minibatch:', x_train.size())\n",
    "print('Min and max pixel values:', torch.min(x_train), torch.max(x_train))\n",
    "print('Image datatype:', type(x_train))\n",
    "print('Label dataype:', type(y_train))\n",
    "print(y_train[:10])"
   ]
  },
  {
   "cell_type": "markdown",
   "metadata": {},
   "source": [
    "## Criação do modelo"
   ]
  },
  {
   "cell_type": "code",
   "execution_count": 8,
   "metadata": {},
   "outputs": [
    {
     "name": "stdout",
     "output_type": "stream",
     "text": [
      "torch.Size([30, 1])\n",
      "tensor([[0.4061],\n",
      "        [0.4276],\n",
      "        [0.4331],\n",
      "        [0.4366],\n",
      "        [0.4501],\n",
      "        [0.5482],\n",
      "        [0.5208],\n",
      "        [0.4121],\n",
      "        [0.4232],\n",
      "        [0.4808]], grad_fn=<SliceBackward>)\n"
     ]
    }
   ],
   "source": [
    "from torchvision.models import resnet50\n",
    "from torch.nn import Module, Linear, Sequential\n",
    "\n",
    "class Model(Module):\n",
    "    def __init__(self, pretrained=False):\n",
    "        super().__init__()\n",
    "        resnet = resnet50(pretrained=pretrained)\n",
    "        \n",
    "        if pretrained:\n",
    "            for param in resnet.parameters():\n",
    "                param.requires_grad = False\n",
    "                \n",
    "            # only train the fully-connected layer of the\n",
    "            # resnet when pretrained == TRue\n",
    "            for param in resnet.fc.parameters():\n",
    "                param.requires_grad = True\n",
    "        \n",
    "        backbone = Sequential(\n",
    "            resnet,\n",
    "            Linear(\n",
    "                in_features=resnet.fc.out_features,\n",
    "                out_features=1\n",
    "            )\n",
    "        )\n",
    "            \n",
    "        \n",
    "        self.__backbone = backbone\n",
    "        \n",
    "    def forward(self, x):\n",
    "        return self.__backbone.forward(x)        \n",
    "    \n",
    "    def __str__(self):\n",
    "        return str(self.__backbone)\n",
    "    \n",
    "    __repr__ = __str__\n",
    "        \n",
    "# making a prediction\n",
    "model = Model()\n",
    "\n",
    "x, _ = next(iter(train_dataloader))\n",
    "y_hat = model.forward(x).sigmoid()\n",
    "print(y_hat.size())\n",
    "print(y_hat[:10])\n",
    "    "
   ]
  },
  {
   "cell_type": "code",
   "execution_count": 9,
   "metadata": {},
   "outputs": [],
   "source": [
    "from pytorch_lightning import LightningModule\n",
    "from torch.nn import BCEWithLogitsLoss\n",
    "from torch.optim import SGD\n",
    "\n",
    "train_losses = []\n",
    "val_losses = []\n",
    "\n",
    "class LightningModel(LightningModule):\n",
    "    def __init__(\n",
    "        self, \n",
    "        lr=0.01, \n",
    "        decision_threshold=0.5, \n",
    "        loss_fn=BCEWithLogitsLoss(), \n",
    "        optimizer=SGD, \n",
    "        neptune_logger=run,\n",
    "        momentum=0.2,\n",
    "        pretrained=False\n",
    "    ):\n",
    "        super().__init__()\n",
    "        \n",
    "        self.model = Model(pretrained=pretrained)\n",
    "        self.optimizer_builder = optimizer\n",
    "        self.loss_fn = loss_fn\n",
    "        self.neptune_logger = neptune_logger\n",
    "        self.learning_rate = lr\n",
    "        self.momentum = momentum\n",
    "        self.decision_threshold = decision_threshold\n",
    "        self.neptune_logger_name = 'pretrained' if pretrained else 'not_pretrained'\n",
    "        \n",
    "        self.mean_train_losses = []\n",
    "        self.mean_train_accuracies = []\n",
    "        \n",
    "        self.mean_val_losses = []\n",
    "        self.mean_val_accuracies = []\n",
    "        \n",
    "        self.neptune_logger['hparams'] = {\n",
    "            'loss_fn': str(self.loss_fn),\n",
    "            'lr': self.learning_rate,\n",
    "            'decision_threshold': self.decision_threshold,\n",
    "            'pretrained': pretrained\n",
    "        }\n",
    "        \n",
    "    def __log_metrics(self, container_name, loss, accuracy):\n",
    "        prefix = f'{self.neptune_logger_name}/{container_name}'\n",
    "        \n",
    "        self.neptune_logger[f'{prefix}/loss'].log(loss)\n",
    "        self.neptune_logger[f'{prefix}/accuracy'].log(accuracy)\n",
    "        \n",
    "    def __get_metrics(self, batch):\n",
    "        x, y = batch\n",
    "        y_pred = self.model.forward(x)\n",
    "        \n",
    "        y_pred = y_pred.flatten().float()\n",
    "        y = y.flatten().float()\n",
    "        \n",
    "        loss = self.loss_fn(y_pred, y)\n",
    "        \n",
    "        decision = (y_pred.sigmoid() >= self.decision_threshold)\n",
    "        accuracy = decision[decision == y]\n",
    "        accuracy = len(accuracy) / len(y)\n",
    "        \n",
    "        trues = len(y[y == 1])\n",
    "        \n",
    "        tp = len(y_pred[(y == 1) & decision])\n",
    "        fp = len(y_pred[(y != 1) & decision])\n",
    "        \n",
    "        true_preds = (tp + fp)\n",
    "        \n",
    "        precision = (tp / true_preds) if true_preds > 0 else 0\n",
    "        recall = (tp / trues) if trues > 0 else 0\n",
    "        \n",
    "        return loss, accuracy, precision, recall\n",
    "    \n",
    "    def __process_mean_metrics(self, outputs, step_name):\n",
    "        mean_loss = 0\n",
    "        mean_accuracy = 0\n",
    "        mean_precision = 0\n",
    "        mean_recall = 0\n",
    "        \n",
    "        l = len(outputs)\n",
    "        \n",
    "        for output in outputs:\n",
    "            mean_loss += output['loss']\n",
    "            mean_accuracy += output['accuracy']\n",
    "            mean_precision += output['precision']\n",
    "            mean_recall += output['recall']\n",
    "              \n",
    "        mean_loss /= l \n",
    "        mean_accuracy /= l\n",
    "        mean_precision /= l\n",
    "        mean_recall /= l\n",
    "        \n",
    "        self.__log_metrics(step_name, mean_loss, mean_accuracy)\n",
    "        \n",
    "        return mean_loss, mean_accuracy, mean_precision, mean_recall\n",
    "        \n",
    "    def training_step(self, batch, batch_idx):\n",
    "        loss, accuracy, precision, recall = self.__get_metrics(batch)    \n",
    "        return {'loss': loss, 'accuracy': accuracy, 'precision': precision, 'recall': recall}\n",
    "    \n",
    "    validation_step = training_step\n",
    "    test_step = training_step\n",
    "    \n",
    "    def training_epoch_end(self, outputs):\n",
    "        loss, accuracy, _, _ = self.__process_mean_metrics(outputs, 'train')\n",
    "        \n",
    "        self.mean_train_losses.append(loss.cpu())\n",
    "        self.mean_train_accuracies.append(accuracy)\n",
    "        \n",
    "    def validation_epoch_end(self, outputs):\n",
    "        loss, accuracy, _, _ = self.__process_mean_metrics(outputs, 'validation')\n",
    "        \n",
    "        self.mean_val_losses.append(loss.cpu())\n",
    "        self.mean_val_accuracies.append(accuracy)\n",
    "        \n",
    "    def test_epoch_end(self, outputs):\n",
    "        loss, accuracy, precision, recall = self.__process_mean_metrics(outputs, 'test')\n",
    "        \n",
    "        f1 = 2 * ((precision * recall) / (precision + recall)) if precision + recall > 0 else 0\n",
    "        \n",
    "        self.log('results', {\n",
    "            'loss': loss.cpu(), \n",
    "            'accuracy': accuracy,\n",
    "            'precision': precision,\n",
    "            'recall': recall,\n",
    "            'f1': f1\n",
    "        })\n",
    "        \n",
    "    def configure_optimizers(self):\n",
    "        lr = self.learning_rate\n",
    "        optimizer = self.optimizer_builder(self.model.parameters(), lr=lr, momentum=self.momentum)\n",
    "        return optimizer"
   ]
  },
  {
   "cell_type": "markdown",
   "metadata": {},
   "source": [
    "## Treinamento"
   ]
  },
  {
   "cell_type": "code",
   "execution_count": 10,
   "metadata": {},
   "outputs": [],
   "source": [
    "from pytorch_lightning import Trainer"
   ]
  },
  {
   "cell_type": "markdown",
   "metadata": {},
   "source": [
    "### Função para plotar losses de treinamento e validação"
   ]
  },
  {
   "cell_type": "code",
   "execution_count": 11,
   "metadata": {},
   "outputs": [],
   "source": [
    "%matplotlib inline\n",
    "\n",
    "import matplotlib.pyplot as plt\n",
    "\n",
    "def plot_model_metrics(model):\n",
    "    fig, ax = plt.subplots(1,4)  \n",
    "    fig.set_figwidth(20)\n",
    "\n",
    "    ax[0].set_title('Train mean loss')\n",
    "    ax[0].set_xlabel('Epoch')\n",
    "    ax[0].set_ylabel('Loss')\n",
    "    ax[0].plot(torch.arange(len(model.mean_train_losses)), model.mean_train_losses)\n",
    "\n",
    "    ax[1].set_title('Train mean accuracy')\n",
    "    ax[1].set_xlabel('Epoch')\n",
    "    ax[1].set_ylabel('Accuracy')\n",
    "    ax[1].plot(torch.arange(len(model.mean_train_accuracies)),model.mean_train_accuracies)\n",
    "\n",
    "    ax[2].set_title('Validation mean loss')\n",
    "    ax[2].set_xlabel('Step')\n",
    "    ax[2].set_ylabel('Loss')\n",
    "    ax[2].plot(torch.arange(len(model.mean_val_losses)), model.mean_val_losses, color='r')\n",
    "\n",
    "    ax[3].set_title('Validation mean accuracy')\n",
    "    ax[3].set_xlabel('Step')\n",
    "    ax[3].set_ylabel('Accuracy')\n",
    "    ax[3].plot(torch.arange(len(model.mean_val_losses)), model.mean_val_accuracies, color='r')"
   ]
  },
  {
   "cell_type": "markdown",
   "metadata": {},
   "source": [
    "### Treinamento do modelo"
   ]
  },
  {
   "cell_type": "code",
   "execution_count": 12,
   "metadata": {},
   "outputs": [
    {
     "name": "stderr",
     "output_type": "stream",
     "text": [
      "GPU available: True, used: True\n",
      "TPU available: False, using: 0 TPU cores\n",
      "LOCAL_RANK: 0 - CUDA_VISIBLE_DEVICES: [0]\n",
      "\n",
      "  | Name    | Type              | Params\n",
      "----------------------------------------------\n",
      "0 | model   | Model             | 25.6 M\n",
      "1 | loss_fn | BCEWithLogitsLoss | 0     \n",
      "----------------------------------------------\n",
      "2.1 M     Trainable params\n",
      "23.5 M    Non-trainable params\n",
      "25.6 M    Total params\n",
      "102.232   Total estimated model params size (MB)\n"
     ]
    },
    {
     "data": {
      "application/vnd.jupyter.widget-view+json": {
       "model_id": "",
       "version_major": 2,
       "version_minor": 0
      },
      "text/plain": [
       "Validation sanity check: 0it [00:00, ?it/s]"
      ]
     },
     "metadata": {},
     "output_type": "display_data"
    },
    {
     "data": {
      "application/vnd.jupyter.widget-view+json": {
       "model_id": "60734bcaf3a049308f9fc918b85844ac",
       "version_major": 2,
       "version_minor": 0
      },
      "text/plain": [
       "Training: 0it [00:00, ?it/s]"
      ]
     },
     "metadata": {},
     "output_type": "display_data"
    },
    {
     "data": {
      "application/vnd.jupyter.widget-view+json": {
       "model_id": "",
       "version_major": 2,
       "version_minor": 0
      },
      "text/plain": [
       "Validating: 0it [00:00, ?it/s]"
      ]
     },
     "metadata": {},
     "output_type": "display_data"
    },
    {
     "data": {
      "application/vnd.jupyter.widget-view+json": {
       "model_id": "",
       "version_major": 2,
       "version_minor": 0
      },
      "text/plain": [
       "Validating: 0it [00:00, ?it/s]"
      ]
     },
     "metadata": {},
     "output_type": "display_data"
    },
    {
     "data": {
      "application/vnd.jupyter.widget-view+json": {
       "model_id": "",
       "version_major": 2,
       "version_minor": 0
      },
      "text/plain": [
       "Validating: 0it [00:00, ?it/s]"
      ]
     },
     "metadata": {},
     "output_type": "display_data"
    },
    {
     "data": {
      "application/vnd.jupyter.widget-view+json": {
       "model_id": "",
       "version_major": 2,
       "version_minor": 0
      },
      "text/plain": [
       "Validating: 0it [00:00, ?it/s]"
      ]
     },
     "metadata": {},
     "output_type": "display_data"
    },
    {
     "data": {
      "application/vnd.jupyter.widget-view+json": {
       "model_id": "",
       "version_major": 2,
       "version_minor": 0
      },
      "text/plain": [
       "Validating: 0it [00:00, ?it/s]"
      ]
     },
     "metadata": {},
     "output_type": "display_data"
    },
    {
     "data": {
      "application/vnd.jupyter.widget-view+json": {
       "model_id": "",
       "version_major": 2,
       "version_minor": 0
      },
      "text/plain": [
       "Validating: 0it [00:00, ?it/s]"
      ]
     },
     "metadata": {},
     "output_type": "display_data"
    },
    {
     "data": {
      "application/vnd.jupyter.widget-view+json": {
       "model_id": "",
       "version_major": 2,
       "version_minor": 0
      },
      "text/plain": [
       "Validating: 0it [00:00, ?it/s]"
      ]
     },
     "metadata": {},
     "output_type": "display_data"
    },
    {
     "data": {
      "application/vnd.jupyter.widget-view+json": {
       "model_id": "",
       "version_major": 2,
       "version_minor": 0
      },
      "text/plain": [
       "Validating: 0it [00:00, ?it/s]"
      ]
     },
     "metadata": {},
     "output_type": "display_data"
    },
    {
     "data": {
      "application/vnd.jupyter.widget-view+json": {
       "model_id": "",
       "version_major": 2,
       "version_minor": 0
      },
      "text/plain": [
       "Validating: 0it [00:00, ?it/s]"
      ]
     },
     "metadata": {},
     "output_type": "display_data"
    },
    {
     "data": {
      "application/vnd.jupyter.widget-view+json": {
       "model_id": "",
       "version_major": 2,
       "version_minor": 0
      },
      "text/plain": [
       "Validating: 0it [00:00, ?it/s]"
      ]
     },
     "metadata": {},
     "output_type": "display_data"
    },
    {
     "data": {
      "application/vnd.jupyter.widget-view+json": {
       "model_id": "",
       "version_major": 2,
       "version_minor": 0
      },
      "text/plain": [
       "Validating: 0it [00:00, ?it/s]"
      ]
     },
     "metadata": {},
     "output_type": "display_data"
    },
    {
     "data": {
      "application/vnd.jupyter.widget-view+json": {
       "model_id": "",
       "version_major": 2,
       "version_minor": 0
      },
      "text/plain": [
       "Validating: 0it [00:00, ?it/s]"
      ]
     },
     "metadata": {},
     "output_type": "display_data"
    },
    {
     "data": {
      "application/vnd.jupyter.widget-view+json": {
       "model_id": "",
       "version_major": 2,
       "version_minor": 0
      },
      "text/plain": [
       "Validating: 0it [00:00, ?it/s]"
      ]
     },
     "metadata": {},
     "output_type": "display_data"
    },
    {
     "data": {
      "application/vnd.jupyter.widget-view+json": {
       "model_id": "",
       "version_major": 2,
       "version_minor": 0
      },
      "text/plain": [
       "Validating: 0it [00:00, ?it/s]"
      ]
     },
     "metadata": {},
     "output_type": "display_data"
    },
    {
     "data": {
      "application/vnd.jupyter.widget-view+json": {
       "model_id": "",
       "version_major": 2,
       "version_minor": 0
      },
      "text/plain": [
       "Validating: 0it [00:00, ?it/s]"
      ]
     },
     "metadata": {},
     "output_type": "display_data"
    },
    {
     "data": {
      "application/vnd.jupyter.widget-view+json": {
       "model_id": "",
       "version_major": 2,
       "version_minor": 0
      },
      "text/plain": [
       "Validating: 0it [00:00, ?it/s]"
      ]
     },
     "metadata": {},
     "output_type": "display_data"
    },
    {
     "data": {
      "application/vnd.jupyter.widget-view+json": {
       "model_id": "",
       "version_major": 2,
       "version_minor": 0
      },
      "text/plain": [
       "Validating: 0it [00:00, ?it/s]"
      ]
     },
     "metadata": {},
     "output_type": "display_data"
    },
    {
     "data": {
      "application/vnd.jupyter.widget-view+json": {
       "model_id": "",
       "version_major": 2,
       "version_minor": 0
      },
      "text/plain": [
       "Validating: 0it [00:00, ?it/s]"
      ]
     },
     "metadata": {},
     "output_type": "display_data"
    },
    {
     "data": {
      "application/vnd.jupyter.widget-view+json": {
       "model_id": "",
       "version_major": 2,
       "version_minor": 0
      },
      "text/plain": [
       "Validating: 0it [00:00, ?it/s]"
      ]
     },
     "metadata": {},
     "output_type": "display_data"
    },
    {
     "data": {
      "application/vnd.jupyter.widget-view+json": {
       "model_id": "",
       "version_major": 2,
       "version_minor": 0
      },
      "text/plain": [
       "Validating: 0it [00:00, ?it/s]"
      ]
     },
     "metadata": {},
     "output_type": "display_data"
    },
    {
     "data": {
      "text/plain": [
       "1"
      ]
     },
     "execution_count": 12,
     "metadata": {},
     "output_type": "execute_result"
    }
   ],
   "source": [
    "trainer = Trainer(\n",
    "    gpus=1,\n",
    "    max_epochs=20,\n",
    "    checkpoint_callback=False\n",
    ")\n",
    "    \n",
    "model = LightningModel(pretrained=True)\n",
    "trainer.fit(model, train_dataloader, val_dataloader)"
   ]
  },
  {
   "cell_type": "markdown",
   "metadata": {},
   "source": [
    "### Losses de treinamento e validação"
   ]
  },
  {
   "cell_type": "code",
   "execution_count": 13,
   "metadata": {},
   "outputs": [
    {
     "data": {
      "image/png": "[encoded data removed]",
      "text/plain": [
       "<Figure size 1440x288 with 4 Axes>"
      ]
     },
     "metadata": {
      "needs_background": "light"
     },
     "output_type": "display_data"
    }
   ],
   "source": [
    "plot_model_metrics(model)\n",
    "\n",
    "\n"
   ]
  },
  {
   "cell_type": "markdown",
   "metadata": {},
   "source": [
    "### Resultados nos datasets"
   ]
  },
  {
   "cell_type": "code",
   "execution_count": 14,
   "metadata": {},
   "outputs": [
    {
     "name": "stderr",
     "output_type": "stream",
     "text": [
      "LOCAL_RANK: 0 - CUDA_VISIBLE_DEVICES: [0]\n",
      "c:\\users\\pfracarolli\\appdata\\local\\programs\\python\\python39\\lib\\site-packages\\pytorch_lightning\\utilities\\distributed.py:68: UserWarning: Your test_dataloader has `shuffle=True`, it is best practice to turn this off for validation and test dataloaders.\n",
      "  warnings.warn(*args, **kwargs)\n"
     ]
    },
    {
     "data": {
      "application/vnd.jupyter.widget-view+json": {
       "model_id": "4cdb105b284a4a74998115ad4304453b",
       "version_major": 2,
       "version_minor": 0
      },
      "text/plain": [
       "Testing: 0it [00:00, ?it/s]"
      ]
     },
     "metadata": {},
     "output_type": "display_data"
    },
    {
     "name": "stderr",
     "output_type": "stream",
     "text": [
      "LOCAL_RANK: 0 - CUDA_VISIBLE_DEVICES: [0]\n"
     ]
    },
    {
     "name": "stdout",
     "output_type": "stream",
     "text": [
      "--------------------------------------------------------------------------------\n",
      "DATALOADER:0 TEST RESULTS\n",
      "{'results': {'accuracy': 0.9540000000000001,\n",
      "             'f1': 0.943119072660478,\n",
      "             'loss': tensor(0.1347),\n",
      "             'precision': 0.9855194805194807,\n",
      "             'recall': 0.9042165922312981}}\n",
      "--------------------------------------------------------------------------------\n"
     ]
    },
    {
     "data": {
      "application/vnd.jupyter.widget-view+json": {
       "model_id": "6025e081c0dd42be852b8662f02bc8c9",
       "version_major": 2,
       "version_minor": 0
      },
      "text/plain": [
       "Testing: 0it [00:00, ?it/s]"
      ]
     },
     "metadata": {},
     "output_type": "display_data"
    },
    {
     "name": "stderr",
     "output_type": "stream",
     "text": [
      "LOCAL_RANK: 0 - CUDA_VISIBLE_DEVICES: [0]\n"
     ]
    },
    {
     "name": "stdout",
     "output_type": "stream",
     "text": [
      "--------------------------------------------------------------------------------\n",
      "DATALOADER:0 TEST RESULTS\n",
      "{'results': {'accuracy': 0.9441176470588234,\n",
      "             'f1': 0.9283066295274095,\n",
      "             'loss': tensor(0.1647),\n",
      "             'precision': 0.9905119390413508,\n",
      "             'recall': 0.8734527727174787}}\n",
      "--------------------------------------------------------------------------------\n"
     ]
    },
    {
     "data": {
      "application/vnd.jupyter.widget-view+json": {
       "model_id": "e3de2837f6e04fcf8d984c1a005c82a7",
       "version_major": 2,
       "version_minor": 0
      },
      "text/plain": [
       "Testing: 0it [00:00, ?it/s]"
      ]
     },
     "metadata": {},
     "output_type": "display_data"
    },
    {
     "name": "stdout",
     "output_type": "stream",
     "text": [
      "--------------------------------------------------------------------------------\n",
      "DATALOADER:0 TEST RESULTS\n",
      "{'results': {'accuracy': 0.9401960784313723,\n",
      "             'f1': 0.927248205242795,\n",
      "             'loss': tensor(0.1605),\n",
      "             'precision': 0.9839759913289325,\n",
      "             'recall': 0.876704775904603}}\n",
      "--------------------------------------------------------------------------------\n"
     ]
    },
    {
     "data": {
      "text/plain": [
       "[{'results': {'loss': tensor(0.1605),\n",
       "   'accuracy': 0.9401960784313723,\n",
       "   'precision': 0.9839759913289325,\n",
       "   'recall': 0.876704775904603,\n",
       "   'f1': 0.927248205242795}}]"
      ]
     },
     "execution_count": 14,
     "metadata": {},
     "output_type": "execute_result"
    }
   ],
   "source": [
    "trainer.test(model, train_dataloader)\n",
    "trainer.test(model, val_dataloader)\n",
    "trainer.test(model, test_dataloader)"
   ]
  },
  {
   "cell_type": "code",
   "execution_count": 15,
   "metadata": {},
   "outputs": [],
   "source": [
    "if not os.path.exists('./data/test2.hdf5'):\n",
    "    !gsutil -m cp -n gs://neuralresearcher_data/unicamp/ia376i_2021s1/data/xray_covid/test2.hdf5 ./data"
   ]
  },
  {
   "cell_type": "code",
   "execution_count": 16,
   "metadata": {},
   "outputs": [
    {
     "name": "stdout",
     "output_type": "stream",
     "text": [
      "0\n",
      "0\n",
      "0\n",
      "0\n",
      "0\n",
      "0\n",
      "11\n",
      "30\n",
      "30\n",
      "20\n",
      "0\n",
      "0\n",
      "0\n",
      "0\n",
      "0\n",
      "0\n",
      "0\n",
      "0\n",
      "0\n",
      "0\n",
      "0\n",
      "0\n",
      "0\n",
      "0\n",
      "0\n",
      "0\n",
      "0\n",
      "0\n",
      "0\n",
      "0\n",
      "0\n",
      "0\n",
      "0\n",
      "0\n"
     ]
    }
   ],
   "source": [
    "test_2_dataset = MemoryHdf5Dataset('./data/test2.hdf5', transform=transform_valid)\n",
    "test_2_dataloader = DataLoader(test_2_dataset, batch_size=batch_size, shuffle=False)\n",
    "\n",
    "for x, y in test_2_dataloader:\n",
    "    print(len(y[y == 1]))"
   ]
  },
  {
   "cell_type": "code",
   "execution_count": 17,
   "metadata": {},
   "outputs": [
    {
     "name": "stderr",
     "output_type": "stream",
     "text": [
      "LOCAL_RANK: 0 - CUDA_VISIBLE_DEVICES: [0]\n"
     ]
    },
    {
     "data": {
      "application/vnd.jupyter.widget-view+json": {
       "model_id": "101c9d296a4744d59edb4e251f0333d9",
       "version_major": 2,
       "version_minor": 0
      },
      "text/plain": [
       "Testing: 0it [00:00, ?it/s]"
      ]
     },
     "metadata": {},
     "output_type": "display_data"
    },
    {
     "name": "stdout",
     "output_type": "stream",
     "text": [
      "--------------------------------------------------------------------------------\n",
      "DATALOADER:0 TEST RESULTS\n",
      "{'results': {'accuracy': 0.9215686274509804,\n",
      "             'f1': 0.029212587969725135,\n",
      "             'loss': tensor(0.2370),\n",
      "             'precision': 0.08088235294117647,\n",
      "             'recall': 0.017825311942959002}}\n",
      "--------------------------------------------------------------------------------\n"
     ]
    },
    {
     "data": {
      "text/plain": [
       "[{'results': {'loss': tensor(0.2370),\n",
       "   'accuracy': 0.9215686274509804,\n",
       "   'precision': 0.08088235294117647,\n",
       "   'recall': 0.017825311942959002,\n",
       "   'f1': 0.029212587969725135}}]"
      ]
     },
     "execution_count": 17,
     "metadata": {},
     "output_type": "execute_result"
    }
   ],
   "source": [
    "trainer.test(model, test_2_dataloader)"
   ]
  },
  {
   "cell_type": "code",
   "execution_count": 38,
   "metadata": {},
   "outputs": [
    {
     "name": "stderr",
     "output_type": "stream",
     "text": [
      "100%|██████████████████████████████████████████████████████████████████████████████████| 34/34 [00:06<00:00,  5.04it/s]\n",
      "100%|██████████████████████████████████████████████████████████████████████████████████| 34/34 [00:06<00:00,  5.03it/s]\n",
      "100%|██████████████████████████████████████████████████████████████████████████████████| 34/34 [00:06<00:00,  5.03it/s]\n",
      "100%|██████████████████████████████████████████████████████████████████████████████████| 34/34 [00:06<00:00,  5.04it/s]\n",
      "100%|██████████████████████████████████████████████████████████████████████████████████| 34/34 [00:06<00:00,  5.00it/s]\n",
      "100%|██████████████████████████████████████████████████████████████████████████████████| 34/34 [00:06<00:00,  4.92it/s]\n",
      "100%|██████████████████████████████████████████████████████████████████████████████████| 34/34 [00:06<00:00,  4.91it/s]\n",
      "100%|██████████████████████████████████████████████████████████████████████████████████| 34/34 [00:06<00:00,  4.99it/s]\n",
      "100%|██████████████████████████████████████████████████████████████████████████████████| 34/34 [00:06<00:00,  4.96it/s]\n",
      "100%|██████████████████████████████████████████████████████████████████████████████████| 34/34 [00:06<00:00,  4.91it/s]\n",
      "100%|██████████████████████████████████████████████████████████████████████████████████| 34/34 [00:06<00:00,  4.93it/s]\n",
      "100%|██████████████████████████████████████████████████████████████████████████████████| 34/34 [00:06<00:00,  4.89it/s]\n",
      "100%|██████████████████████████████████████████████████████████████████████████████████| 34/34 [00:06<00:00,  4.90it/s]\n",
      "100%|██████████████████████████████████████████████████████████████████████████████████| 34/34 [00:06<00:00,  4.86it/s]\n",
      "100%|██████████████████████████████████████████████████████████████████████████████████| 34/34 [00:07<00:00,  4.69it/s]\n",
      "100%|██████████████████████████████████████████████████████████████████████████████████| 34/34 [00:06<00:00,  5.20it/s]\n",
      "100%|██████████████████████████████████████████████████████████████████████████████████| 34/34 [00:06<00:00,  5.28it/s]\n",
      "100%|██████████████████████████████████████████████████████████████████████████████████| 34/34 [00:06<00:00,  5.29it/s]\n",
      "100%|██████████████████████████████████████████████████████████████████████████████████| 34/34 [00:06<00:00,  5.16it/s]\n",
      "100%|██████████████████████████████████████████████████████████████████████████████████| 34/34 [00:06<00:00,  5.25it/s]\n",
      "100%|██████████████████████████████████████████████████████████████████████████████████| 34/34 [00:06<00:00,  5.14it/s]\n",
      "100%|██████████████████████████████████████████████████████████████████████████████████| 34/34 [00:06<00:00,  5.11it/s]\n",
      "100%|██████████████████████████████████████████████████████████████████████████████████| 34/34 [00:06<00:00,  5.20it/s]\n",
      "100%|██████████████████████████████████████████████████████████████████████████████████| 34/34 [00:06<00:00,  5.11it/s]\n",
      "100%|██████████████████████████████████████████████████████████████████████████████████| 34/34 [00:06<00:00,  5.13it/s]\n",
      "100%|██████████████████████████████████████████████████████████████████████████████████| 34/34 [00:06<00:00,  5.07it/s]\n",
      "100%|██████████████████████████████████████████████████████████████████████████████████| 34/34 [00:06<00:00,  5.15it/s]\n",
      "100%|██████████████████████████████████████████████████████████████████████████████████| 34/34 [00:06<00:00,  5.11it/s]\n",
      "100%|██████████████████████████████████████████████████████████████████████████████████| 34/34 [00:06<00:00,  5.13it/s]\n",
      "100%|██████████████████████████████████████████████████████████████████████████████████| 34/34 [00:07<00:00,  4.84it/s]\n"
     ]
    },
    {
     "data": {
      "image/png": "[encoded data removed]",
      "text/plain": [
       "<Figure size 432x288 with 1 Axes>"
      ]
     },
     "metadata": {
      "needs_background": "light"
     },
     "output_type": "display_data"
    },
    {
     "data": {
      "image/png": "[encoded data removed]",
      "text/plain": [
       "<Figure size 432x288 with 1 Axes>"
      ]
     },
     "metadata": {
      "needs_background": "light"
     },
     "output_type": "display_data"
    }
   ],
   "source": [
    "import tqdm\n",
    "\n",
    "model.model.eval()\n",
    "\n",
    "def plot_eer(dataloader, title):\n",
    "    thresholds = torch.linspace(0,1,15)\n",
    "    frr = []\n",
    "    far = []\n",
    "    \n",
    "    total_acceptance = 0\n",
    "    total_rejection = 0\n",
    "    \n",
    "    for _, y in dataloader:\n",
    "        total_acceptance += len(y[y == 1])\n",
    "        total_rejection += len(y[y == 0])\n",
    "\n",
    "    for t in thresholds:\n",
    "        acceptance = 0\n",
    "        rejection = 0\n",
    "    \n",
    "        for x, y in tqdm.tqdm(dataloader):\n",
    "            x = x.to('cuda')\n",
    "            y = y.to('cuda')\n",
    "           \n",
    "            y_pred = model.model.forward(x)\n",
    "            y_pred = (y_pred.sigmoid() >= t).flatten().float()\n",
    "        \n",
    "            acceptance += len(y_pred[(y_pred != y) & (y == 1)])\n",
    "            rejection += len(y_pred[(y_pred != y) & (y == 0)])\n",
    "    \n",
    "        ar = acceptance / total_acceptance\n",
    "        rr = rejection / total_rejection\n",
    "    \n",
    "        far.append(ar)\n",
    "        frr.append(rr)\n",
    "    \n",
    "        \n",
    "    fig, ax = plt.subplots(1,1)\n",
    "    \n",
    "    ax.set_title(title)\n",
    "    ax.plot(thresholds, far, color='r')\n",
    "    ax.plot(thresholds, frr, color='b')\n",
    "    \n",
    "plot_eer(test_dataloader, 'EER Test 1')\n",
    "plot_eer(test_2_dataloader, 'EER Test 2')"
   ]
  },
  {
   "cell_type": "code",
   "execution_count": null,
   "metadata": {},
   "outputs": [],
   "source": []
  }
 ],
 "metadata": {
  "accelerator": "GPU",
  "anaconda-cloud": {},
  "colab": {
   "collapsed_sections": [],
   "name": "Aula 7 - Exercício",
   "provenance": []
  },
  "kernelspec": {
   "display_name": "Python 3",
   "language": "python",
   "name": "python3"
  },
  "language_info": {
   "codemirror_mode": {
    "name": "ipython",
    "version": 3
   },
   "file_extension": ".py",
   "mimetype": "text/x-python",
   "name": "python",
   "nbconvert_exporter": "python",
   "pygments_lexer": "ipython3",
   "version": "3.9.2"
  },
  "toc": {
   "nav_menu": {
    "height": "318px",
    "width": "252px"
   },
   "number_sections": true,
   "sideBar": true,
   "skip_h1_title": false,
   "toc_cell": false,
   "toc_position": {},
   "toc_section_display": "block",
   "toc_window_display": false
  }
 },
 "nbformat": 4,
 "nbformat_minor": 1
}
