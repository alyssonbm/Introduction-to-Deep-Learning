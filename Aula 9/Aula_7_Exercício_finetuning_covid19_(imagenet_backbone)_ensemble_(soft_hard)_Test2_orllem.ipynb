{
  "nbformat": 4,
  "nbformat_minor": 0,
  "metadata": {
    "accelerator": "GPU",
    "anaconda-cloud": {},
    "colab": {
      "name": "Aula 7 - Exercício - finetuning covid19 (imagenet backbone) - ensemble (soft-hard) - Test2- orllem ",
      "provenance": [],
      "collapsed_sections": [],
      "toc_visible": true,
      "machine_shape": "hm"
    },
    "kernelspec": {
      "display_name": "Python 3",
      "language": "python",
      "name": "python3"
    },
    "language_info": {
      "codemirror_mode": {
        "name": "ipython",
        "version": 3
      },
      "file_extension": ".py",
      "mimetype": "text/x-python",
      "name": "python",
      "nbconvert_exporter": "python",
      "pygments_lexer": "ipython3",
      "version": "3.6.5"
    },
    "toc": {
      "nav_menu": {
        "height": "318px",
        "width": "252px"
      },
      "number_sections": true,
      "sideBar": true,
      "skip_h1_title": false,
      "toc_cell": false,
      "toc_position": {},
      "toc_section_display": "block",
      "toc_window_display": false
    },
    "widgets": {
      "application/vnd.jupyter.widget-state+json": {
        "41d10e661fdd4dd7aec7decbdf32176e": {
          "model_module": "@jupyter-widgets/controls",
          "model_name": "HBoxModel",
          "state": {
            "_view_name": "HBoxView",
            "_dom_classes": [],
            "_model_name": "HBoxModel",
            "_view_module": "@jupyter-widgets/controls",
            "_model_module_version": "1.5.0",
            "_view_count": null,
            "_view_module_version": "1.5.0",
            "box_style": "",
            "layout": "IPY_MODEL_7057773d1d104b2bbd7ca60b250dc984",
            "_model_module": "@jupyter-widgets/controls",
            "children": [
              "IPY_MODEL_8821e5ebe97b45539d589682a5717dd4",
              "IPY_MODEL_ff4faaf749124862b21c4513c8fa9cff"
            ]
          }
        },
        "7057773d1d104b2bbd7ca60b250dc984": {
          "model_module": "@jupyter-widgets/base",
          "model_name": "LayoutModel",
          "state": {
            "_view_name": "LayoutView",
            "grid_template_rows": null,
            "right": null,
            "justify_content": null,
            "_view_module": "@jupyter-widgets/base",
            "overflow": null,
            "_model_module_version": "1.2.0",
            "_view_count": null,
            "flex_flow": null,
            "width": null,
            "min_width": null,
            "border": null,
            "align_items": null,
            "bottom": null,
            "_model_module": "@jupyter-widgets/base",
            "top": null,
            "grid_column": null,
            "overflow_y": null,
            "overflow_x": null,
            "grid_auto_flow": null,
            "grid_area": null,
            "grid_template_columns": null,
            "flex": null,
            "_model_name": "LayoutModel",
            "justify_items": null,
            "grid_row": null,
            "max_height": null,
            "align_content": null,
            "visibility": null,
            "align_self": null,
            "height": null,
            "min_height": null,
            "padding": null,
            "grid_auto_rows": null,
            "grid_gap": null,
            "max_width": null,
            "order": null,
            "_view_module_version": "1.2.0",
            "grid_template_areas": null,
            "object_position": null,
            "object_fit": null,
            "grid_auto_columns": null,
            "margin": null,
            "display": null,
            "left": null
          }
        },
        "8821e5ebe97b45539d589682a5717dd4": {
          "model_module": "@jupyter-widgets/controls",
          "model_name": "FloatProgressModel",
          "state": {
            "_view_name": "ProgressView",
            "style": "IPY_MODEL_eb527b919b854536bc26053e16031b3b",
            "_dom_classes": [],
            "description": "100%",
            "_model_name": "FloatProgressModel",
            "bar_style": "success",
            "max": 21389172,
            "_view_module": "@jupyter-widgets/controls",
            "_model_module_version": "1.5.0",
            "value": 21389172,
            "_view_count": null,
            "_view_module_version": "1.5.0",
            "orientation": "horizontal",
            "min": 0,
            "description_tooltip": null,
            "_model_module": "@jupyter-widgets/controls",
            "layout": "IPY_MODEL_4049191d95a247b6910042f61cb23608"
          }
        },
        "ff4faaf749124862b21c4513c8fa9cff": {
          "model_module": "@jupyter-widgets/controls",
          "model_name": "HTMLModel",
          "state": {
            "_view_name": "HTMLView",
            "style": "IPY_MODEL_fce3c11da5654fdc920eb885e4166836",
            "_dom_classes": [],
            "description": "",
            "_model_name": "HTMLModel",
            "placeholder": "​",
            "_view_module": "@jupyter-widgets/controls",
            "_model_module_version": "1.5.0",
            "value": " 20.4M/20.4M [00:01&lt;00:00, 17.2MB/s]",
            "_view_count": null,
            "_view_module_version": "1.5.0",
            "description_tooltip": null,
            "_model_module": "@jupyter-widgets/controls",
            "layout": "IPY_MODEL_1a478471eb334e8ca137d296df45161e"
          }
        },
        "eb527b919b854536bc26053e16031b3b": {
          "model_module": "@jupyter-widgets/controls",
          "model_name": "ProgressStyleModel",
          "state": {
            "_view_name": "StyleView",
            "_model_name": "ProgressStyleModel",
            "description_width": "initial",
            "_view_module": "@jupyter-widgets/base",
            "_model_module_version": "1.5.0",
            "_view_count": null,
            "_view_module_version": "1.2.0",
            "bar_color": null,
            "_model_module": "@jupyter-widgets/controls"
          }
        },
        "4049191d95a247b6910042f61cb23608": {
          "model_module": "@jupyter-widgets/base",
          "model_name": "LayoutModel",
          "state": {
            "_view_name": "LayoutView",
            "grid_template_rows": null,
            "right": null,
            "justify_content": null,
            "_view_module": "@jupyter-widgets/base",
            "overflow": null,
            "_model_module_version": "1.2.0",
            "_view_count": null,
            "flex_flow": null,
            "width": null,
            "min_width": null,
            "border": null,
            "align_items": null,
            "bottom": null,
            "_model_module": "@jupyter-widgets/base",
            "top": null,
            "grid_column": null,
            "overflow_y": null,
            "overflow_x": null,
            "grid_auto_flow": null,
            "grid_area": null,
            "grid_template_columns": null,
            "flex": null,
            "_model_name": "LayoutModel",
            "justify_items": null,
            "grid_row": null,
            "max_height": null,
            "align_content": null,
            "visibility": null,
            "align_self": null,
            "height": null,
            "min_height": null,
            "padding": null,
            "grid_auto_rows": null,
            "grid_gap": null,
            "max_width": null,
            "order": null,
            "_view_module_version": "1.2.0",
            "grid_template_areas": null,
            "object_position": null,
            "object_fit": null,
            "grid_auto_columns": null,
            "margin": null,
            "display": null,
            "left": null
          }
        },
        "fce3c11da5654fdc920eb885e4166836": {
          "model_module": "@jupyter-widgets/controls",
          "model_name": "DescriptionStyleModel",
          "state": {
            "_view_name": "StyleView",
            "_model_name": "DescriptionStyleModel",
            "description_width": "",
            "_view_module": "@jupyter-widgets/base",
            "_model_module_version": "1.5.0",
            "_view_count": null,
            "_view_module_version": "1.2.0",
            "_model_module": "@jupyter-widgets/controls"
          }
        },
        "1a478471eb334e8ca137d296df45161e": {
          "model_module": "@jupyter-widgets/base",
          "model_name": "LayoutModel",
          "state": {
            "_view_name": "LayoutView",
            "grid_template_rows": null,
            "right": null,
            "justify_content": null,
            "_view_module": "@jupyter-widgets/base",
            "overflow": null,
            "_model_module_version": "1.2.0",
            "_view_count": null,
            "flex_flow": null,
            "width": null,
            "min_width": null,
            "border": null,
            "align_items": null,
            "bottom": null,
            "_model_module": "@jupyter-widgets/base",
            "top": null,
            "grid_column": null,
            "overflow_y": null,
            "overflow_x": null,
            "grid_auto_flow": null,
            "grid_area": null,
            "grid_template_columns": null,
            "flex": null,
            "_model_name": "LayoutModel",
            "justify_items": null,
            "grid_row": null,
            "max_height": null,
            "align_content": null,
            "visibility": null,
            "align_self": null,
            "height": null,
            "min_height": null,
            "padding": null,
            "grid_auto_rows": null,
            "grid_gap": null,
            "max_width": null,
            "order": null,
            "_view_module_version": "1.2.0",
            "grid_template_areas": null,
            "object_position": null,
            "object_fit": null,
            "grid_auto_columns": null,
            "margin": null,
            "display": null,
            "left": null
          }
        },
        "16d2605740f94e8faea3303c9acd5776": {
          "model_module": "@jupyter-widgets/controls",
          "model_name": "HBoxModel",
          "state": {
            "_view_name": "HBoxView",
            "_dom_classes": [],
            "_model_name": "HBoxModel",
            "_view_module": "@jupyter-widgets/controls",
            "_model_module_version": "1.5.0",
            "_view_count": null,
            "_view_module_version": "1.5.0",
            "box_style": "",
            "layout": "IPY_MODEL_d4e01dce273747459059aa3de3cf1ebd",
            "_model_module": "@jupyter-widgets/controls",
            "children": [
              "IPY_MODEL_e3c1eb171fcc405e955bd14827b32e21",
              "IPY_MODEL_c0d19423116f495786a0e8423a90aca8"
            ]
          }
        },
        "d4e01dce273747459059aa3de3cf1ebd": {
          "model_module": "@jupyter-widgets/base",
          "model_name": "LayoutModel",
          "state": {
            "_view_name": "LayoutView",
            "grid_template_rows": null,
            "right": null,
            "justify_content": null,
            "_view_module": "@jupyter-widgets/base",
            "overflow": null,
            "_model_module_version": "1.2.0",
            "_view_count": null,
            "flex_flow": null,
            "width": null,
            "min_width": null,
            "border": null,
            "align_items": null,
            "bottom": null,
            "_model_module": "@jupyter-widgets/base",
            "top": null,
            "grid_column": null,
            "overflow_y": null,
            "overflow_x": null,
            "grid_auto_flow": null,
            "grid_area": null,
            "grid_template_columns": null,
            "flex": null,
            "_model_name": "LayoutModel",
            "justify_items": null,
            "grid_row": null,
            "max_height": null,
            "align_content": null,
            "visibility": null,
            "align_self": null,
            "height": null,
            "min_height": null,
            "padding": null,
            "grid_auto_rows": null,
            "grid_gap": null,
            "max_width": null,
            "order": null,
            "_view_module_version": "1.2.0",
            "grid_template_areas": null,
            "object_position": null,
            "object_fit": null,
            "grid_auto_columns": null,
            "margin": null,
            "display": null,
            "left": null
          }
        },
        "e3c1eb171fcc405e955bd14827b32e21": {
          "model_module": "@jupyter-widgets/controls",
          "model_name": "FloatProgressModel",
          "state": {
            "_view_name": "ProgressView",
            "style": "IPY_MODEL_56c0c6c300474390b5be2ca69ce7fadc",
            "_dom_classes": [],
            "description": "100%",
            "_model_name": "FloatProgressModel",
            "bar_style": "success",
            "max": 31520142,
            "_view_module": "@jupyter-widgets/controls",
            "_model_module_version": "1.5.0",
            "value": 31520142,
            "_view_count": null,
            "_view_module_version": "1.5.0",
            "orientation": "horizontal",
            "min": 0,
            "description_tooltip": null,
            "_model_module": "@jupyter-widgets/controls",
            "layout": "IPY_MODEL_3e9794911bee4b1ebc9791cc67360ea5"
          }
        },
        "c0d19423116f495786a0e8423a90aca8": {
          "model_module": "@jupyter-widgets/controls",
          "model_name": "HTMLModel",
          "state": {
            "_view_name": "HTMLView",
            "style": "IPY_MODEL_905028e2ce3d497787db65ff801891a1",
            "_dom_classes": [],
            "description": "",
            "_model_name": "HTMLModel",
            "placeholder": "​",
            "_view_module": "@jupyter-widgets/controls",
            "_model_module_version": "1.5.0",
            "value": " 30.1M/30.1M [00:01&lt;00:00, 25.5MB/s]",
            "_view_count": null,
            "_view_module_version": "1.5.0",
            "description_tooltip": null,
            "_model_module": "@jupyter-widgets/controls",
            "layout": "IPY_MODEL_cc0676d0ec0246e4a43543a5a68a4906"
          }
        },
        "56c0c6c300474390b5be2ca69ce7fadc": {
          "model_module": "@jupyter-widgets/controls",
          "model_name": "ProgressStyleModel",
          "state": {
            "_view_name": "StyleView",
            "_model_name": "ProgressStyleModel",
            "description_width": "initial",
            "_view_module": "@jupyter-widgets/base",
            "_model_module_version": "1.5.0",
            "_view_count": null,
            "_view_module_version": "1.2.0",
            "bar_color": null,
            "_model_module": "@jupyter-widgets/controls"
          }
        },
        "3e9794911bee4b1ebc9791cc67360ea5": {
          "model_module": "@jupyter-widgets/base",
          "model_name": "LayoutModel",
          "state": {
            "_view_name": "LayoutView",
            "grid_template_rows": null,
            "right": null,
            "justify_content": null,
            "_view_module": "@jupyter-widgets/base",
            "overflow": null,
            "_model_module_version": "1.2.0",
            "_view_count": null,
            "flex_flow": null,
            "width": null,
            "min_width": null,
            "border": null,
            "align_items": null,
            "bottom": null,
            "_model_module": "@jupyter-widgets/base",
            "top": null,
            "grid_column": null,
            "overflow_y": null,
            "overflow_x": null,
            "grid_auto_flow": null,
            "grid_area": null,
            "grid_template_columns": null,
            "flex": null,
            "_model_name": "LayoutModel",
            "justify_items": null,
            "grid_row": null,
            "max_height": null,
            "align_content": null,
            "visibility": null,
            "align_self": null,
            "height": null,
            "min_height": null,
            "padding": null,
            "grid_auto_rows": null,
            "grid_gap": null,
            "max_width": null,
            "order": null,
            "_view_module_version": "1.2.0",
            "grid_template_areas": null,
            "object_position": null,
            "object_fit": null,
            "grid_auto_columns": null,
            "margin": null,
            "display": null,
            "left": null
          }
        },
        "905028e2ce3d497787db65ff801891a1": {
          "model_module": "@jupyter-widgets/controls",
          "model_name": "DescriptionStyleModel",
          "state": {
            "_view_name": "StyleView",
            "_model_name": "DescriptionStyleModel",
            "description_width": "",
            "_view_module": "@jupyter-widgets/base",
            "_model_module_version": "1.5.0",
            "_view_count": null,
            "_view_module_version": "1.2.0",
            "_model_module": "@jupyter-widgets/controls"
          }
        },
        "cc0676d0ec0246e4a43543a5a68a4906": {
          "model_module": "@jupyter-widgets/base",
          "model_name": "LayoutModel",
          "state": {
            "_view_name": "LayoutView",
            "grid_template_rows": null,
            "right": null,
            "justify_content": null,
            "_view_module": "@jupyter-widgets/base",
            "overflow": null,
            "_model_module_version": "1.2.0",
            "_view_count": null,
            "flex_flow": null,
            "width": null,
            "min_width": null,
            "border": null,
            "align_items": null,
            "bottom": null,
            "_model_module": "@jupyter-widgets/base",
            "top": null,
            "grid_column": null,
            "overflow_y": null,
            "overflow_x": null,
            "grid_auto_flow": null,
            "grid_area": null,
            "grid_template_columns": null,
            "flex": null,
            "_model_name": "LayoutModel",
            "justify_items": null,
            "grid_row": null,
            "max_height": null,
            "align_content": null,
            "visibility": null,
            "align_self": null,
            "height": null,
            "min_height": null,
            "padding": null,
            "grid_auto_rows": null,
            "grid_gap": null,
            "max_width": null,
            "order": null,
            "_view_module_version": "1.2.0",
            "grid_template_areas": null,
            "object_position": null,
            "object_fit": null,
            "grid_auto_columns": null,
            "margin": null,
            "display": null,
            "left": null
          }
        },
        "7b60b1bcc4994a48bbe5e71a0523879f": {
          "model_module": "@jupyter-widgets/controls",
          "model_name": "HBoxModel",
          "state": {
            "_view_name": "HBoxView",
            "_dom_classes": [],
            "_model_name": "HBoxModel",
            "_view_module": "@jupyter-widgets/controls",
            "_model_module_version": "1.5.0",
            "_view_count": null,
            "_view_module_version": "1.5.0",
            "box_style": "",
            "layout": "IPY_MODEL_ad8897bc40184cc3b97ac938a07b8217",
            "_model_module": "@jupyter-widgets/controls",
            "children": [
              "IPY_MODEL_13855e700d564cd795ca840ccd765e78",
              "IPY_MODEL_2e064b3edd154c3ab8608676ef54ef25"
            ]
          }
        },
        "ad8897bc40184cc3b97ac938a07b8217": {
          "model_module": "@jupyter-widgets/base",
          "model_name": "LayoutModel",
          "state": {
            "_view_name": "LayoutView",
            "grid_template_rows": null,
            "right": null,
            "justify_content": null,
            "_view_module": "@jupyter-widgets/base",
            "overflow": null,
            "_model_module_version": "1.2.0",
            "_view_count": null,
            "flex_flow": null,
            "width": null,
            "min_width": null,
            "border": null,
            "align_items": null,
            "bottom": null,
            "_model_module": "@jupyter-widgets/base",
            "top": null,
            "grid_column": null,
            "overflow_y": null,
            "overflow_x": null,
            "grid_auto_flow": null,
            "grid_area": null,
            "grid_template_columns": null,
            "flex": null,
            "_model_name": "LayoutModel",
            "justify_items": null,
            "grid_row": null,
            "max_height": null,
            "align_content": null,
            "visibility": null,
            "align_self": null,
            "height": null,
            "min_height": null,
            "padding": null,
            "grid_auto_rows": null,
            "grid_gap": null,
            "max_width": null,
            "order": null,
            "_view_module_version": "1.2.0",
            "grid_template_areas": null,
            "object_position": null,
            "object_fit": null,
            "grid_auto_columns": null,
            "margin": null,
            "display": null,
            "left": null
          }
        },
        "13855e700d564cd795ca840ccd765e78": {
          "model_module": "@jupyter-widgets/controls",
          "model_name": "FloatProgressModel",
          "state": {
            "_view_name": "ProgressView",
            "style": "IPY_MODEL_f8cf78d6a93e469da87498a5e89f16d0",
            "_dom_classes": [],
            "description": "100%",
            "_model_name": "FloatProgressModel",
            "bar_style": "success",
            "max": 49390103,
            "_view_module": "@jupyter-widgets/controls",
            "_model_module_version": "1.5.0",
            "value": 49390103,
            "_view_count": null,
            "_view_module_version": "1.5.0",
            "orientation": "horizontal",
            "min": 0,
            "description_tooltip": null,
            "_model_module": "@jupyter-widgets/controls",
            "layout": "IPY_MODEL_f665ce58e6134e6cb967ffe06b94f81c"
          }
        },
        "2e064b3edd154c3ab8608676ef54ef25": {
          "model_module": "@jupyter-widgets/controls",
          "model_name": "HTMLModel",
          "state": {
            "_view_name": "HTMLView",
            "style": "IPY_MODEL_5b78dd8113a24f9192df4aafa41b289f",
            "_dom_classes": [],
            "description": "",
            "_model_name": "HTMLModel",
            "placeholder": "​",
            "_view_module": "@jupyter-widgets/controls",
            "_model_module_version": "1.5.0",
            "value": " 47.1M/47.1M [00:02&lt;00:00, 20.6MB/s]",
            "_view_count": null,
            "_view_module_version": "1.5.0",
            "description_tooltip": null,
            "_model_module": "@jupyter-widgets/controls",
            "layout": "IPY_MODEL_26ac91269e9646628524e2566b0706a5"
          }
        },
        "f8cf78d6a93e469da87498a5e89f16d0": {
          "model_module": "@jupyter-widgets/controls",
          "model_name": "ProgressStyleModel",
          "state": {
            "_view_name": "StyleView",
            "_model_name": "ProgressStyleModel",
            "description_width": "initial",
            "_view_module": "@jupyter-widgets/base",
            "_model_module_version": "1.5.0",
            "_view_count": null,
            "_view_module_version": "1.2.0",
            "bar_color": null,
            "_model_module": "@jupyter-widgets/controls"
          }
        },
        "f665ce58e6134e6cb967ffe06b94f81c": {
          "model_module": "@jupyter-widgets/base",
          "model_name": "LayoutModel",
          "state": {
            "_view_name": "LayoutView",
            "grid_template_rows": null,
            "right": null,
            "justify_content": null,
            "_view_module": "@jupyter-widgets/base",
            "overflow": null,
            "_model_module_version": "1.2.0",
            "_view_count": null,
            "flex_flow": null,
            "width": null,
            "min_width": null,
            "border": null,
            "align_items": null,
            "bottom": null,
            "_model_module": "@jupyter-widgets/base",
            "top": null,
            "grid_column": null,
            "overflow_y": null,
            "overflow_x": null,
            "grid_auto_flow": null,
            "grid_area": null,
            "grid_template_columns": null,
            "flex": null,
            "_model_name": "LayoutModel",
            "justify_items": null,
            "grid_row": null,
            "max_height": null,
            "align_content": null,
            "visibility": null,
            "align_self": null,
            "height": null,
            "min_height": null,
            "padding": null,
            "grid_auto_rows": null,
            "grid_gap": null,
            "max_width": null,
            "order": null,
            "_view_module_version": "1.2.0",
            "grid_template_areas": null,
            "object_position": null,
            "object_fit": null,
            "grid_auto_columns": null,
            "margin": null,
            "display": null,
            "left": null
          }
        },
        "5b78dd8113a24f9192df4aafa41b289f": {
          "model_module": "@jupyter-widgets/controls",
          "model_name": "DescriptionStyleModel",
          "state": {
            "_view_name": "StyleView",
            "_model_name": "DescriptionStyleModel",
            "description_width": "",
            "_view_module": "@jupyter-widgets/base",
            "_model_module_version": "1.5.0",
            "_view_count": null,
            "_view_module_version": "1.2.0",
            "_model_module": "@jupyter-widgets/controls"
          }
        },
        "26ac91269e9646628524e2566b0706a5": {
          "model_module": "@jupyter-widgets/base",
          "model_name": "LayoutModel",
          "state": {
            "_view_name": "LayoutView",
            "grid_template_rows": null,
            "right": null,
            "justify_content": null,
            "_view_module": "@jupyter-widgets/base",
            "overflow": null,
            "_model_module_version": "1.2.0",
            "_view_count": null,
            "flex_flow": null,
            "width": null,
            "min_width": null,
            "border": null,
            "align_items": null,
            "bottom": null,
            "_model_module": "@jupyter-widgets/base",
            "top": null,
            "grid_column": null,
            "overflow_y": null,
            "overflow_x": null,
            "grid_auto_flow": null,
            "grid_area": null,
            "grid_template_columns": null,
            "flex": null,
            "_model_name": "LayoutModel",
            "justify_items": null,
            "grid_row": null,
            "max_height": null,
            "align_content": null,
            "visibility": null,
            "align_self": null,
            "height": null,
            "min_height": null,
            "padding": null,
            "grid_auto_rows": null,
            "grid_gap": null,
            "max_width": null,
            "order": null,
            "_view_module_version": "1.2.0",
            "grid_template_areas": null,
            "object_position": null,
            "object_fit": null,
            "grid_auto_columns": null,
            "margin": null,
            "display": null,
            "left": null
          }
        },
        "be7667942e2f4b47be6a36a96d9549cf": {
          "model_module": "@jupyter-widgets/controls",
          "model_name": "HBoxModel",
          "state": {
            "_view_name": "HBoxView",
            "_dom_classes": [],
            "_model_name": "HBoxModel",
            "_view_module": "@jupyter-widgets/controls",
            "_model_module_version": "1.5.0",
            "_view_count": null,
            "_view_module_version": "1.5.0",
            "box_style": "",
            "layout": "IPY_MODEL_a59ac5892d57415abb2b68bd77bb0147",
            "_model_module": "@jupyter-widgets/controls",
            "children": [
              "IPY_MODEL_5be4d800ea6643b09ae81ffe671a1a22",
              "IPY_MODEL_a7986bac23b84c6e80b4222e4b392778"
            ]
          }
        },
        "a59ac5892d57415abb2b68bd77bb0147": {
          "model_module": "@jupyter-widgets/base",
          "model_name": "LayoutModel",
          "state": {
            "_view_name": "LayoutView",
            "grid_template_rows": null,
            "right": null,
            "justify_content": null,
            "_view_module": "@jupyter-widgets/base",
            "overflow": null,
            "_model_module_version": "1.2.0",
            "_view_count": null,
            "flex_flow": null,
            "width": null,
            "min_width": null,
            "border": null,
            "align_items": null,
            "bottom": null,
            "_model_module": "@jupyter-widgets/base",
            "top": null,
            "grid_column": null,
            "overflow_y": null,
            "overflow_x": null,
            "grid_auto_flow": null,
            "grid_area": null,
            "grid_template_columns": null,
            "flex": null,
            "_model_name": "LayoutModel",
            "justify_items": null,
            "grid_row": null,
            "max_height": null,
            "align_content": null,
            "visibility": null,
            "align_self": null,
            "height": null,
            "min_height": null,
            "padding": null,
            "grid_auto_rows": null,
            "grid_gap": null,
            "max_width": null,
            "order": null,
            "_view_module_version": "1.2.0",
            "grid_template_areas": null,
            "object_position": null,
            "object_fit": null,
            "grid_auto_columns": null,
            "margin": null,
            "display": null,
            "left": null
          }
        },
        "5be4d800ea6643b09ae81ffe671a1a22": {
          "model_module": "@jupyter-widgets/controls",
          "model_name": "FloatProgressModel",
          "state": {
            "_view_name": "ProgressView",
            "style": "IPY_MODEL_d153083a2fbf49feb8a28ae605e5d3f9",
            "_dom_classes": [],
            "description": "100%",
            "_model_name": "FloatProgressModel",
            "bar_style": "success",
            "max": 78000637,
            "_view_module": "@jupyter-widgets/controls",
            "_model_module_version": "1.5.0",
            "value": 78000637,
            "_view_count": null,
            "_view_module_version": "1.5.0",
            "orientation": "horizontal",
            "min": 0,
            "description_tooltip": null,
            "_model_module": "@jupyter-widgets/controls",
            "layout": "IPY_MODEL_3f8edbd7254f499b9b81abf7e0c44ff5"
          }
        },
        "a7986bac23b84c6e80b4222e4b392778": {
          "model_module": "@jupyter-widgets/controls",
          "model_name": "HTMLModel",
          "state": {
            "_view_name": "HTMLView",
            "style": "IPY_MODEL_508314e1fc484f7c951741b7ecea0cbe",
            "_dom_classes": [],
            "description": "",
            "_model_name": "HTMLModel",
            "placeholder": "​",
            "_view_module": "@jupyter-widgets/controls",
            "_model_module_version": "1.5.0",
            "value": " 74.4M/74.4M [00:03&lt;00:00, 20.2MB/s]",
            "_view_count": null,
            "_view_module_version": "1.5.0",
            "description_tooltip": null,
            "_model_module": "@jupyter-widgets/controls",
            "layout": "IPY_MODEL_1bb148d49d224b3a9de8807f533a8821"
          }
        },
        "d153083a2fbf49feb8a28ae605e5d3f9": {
          "model_module": "@jupyter-widgets/controls",
          "model_name": "ProgressStyleModel",
          "state": {
            "_view_name": "StyleView",
            "_model_name": "ProgressStyleModel",
            "description_width": "initial",
            "_view_module": "@jupyter-widgets/base",
            "_model_module_version": "1.5.0",
            "_view_count": null,
            "_view_module_version": "1.2.0",
            "bar_color": null,
            "_model_module": "@jupyter-widgets/controls"
          }
        },
        "3f8edbd7254f499b9b81abf7e0c44ff5": {
          "model_module": "@jupyter-widgets/base",
          "model_name": "LayoutModel",
          "state": {
            "_view_name": "LayoutView",
            "grid_template_rows": null,
            "right": null,
            "justify_content": null,
            "_view_module": "@jupyter-widgets/base",
            "overflow": null,
            "_model_module_version": "1.2.0",
            "_view_count": null,
            "flex_flow": null,
            "width": null,
            "min_width": null,
            "border": null,
            "align_items": null,
            "bottom": null,
            "_model_module": "@jupyter-widgets/base",
            "top": null,
            "grid_column": null,
            "overflow_y": null,
            "overflow_x": null,
            "grid_auto_flow": null,
            "grid_area": null,
            "grid_template_columns": null,
            "flex": null,
            "_model_name": "LayoutModel",
            "justify_items": null,
            "grid_row": null,
            "max_height": null,
            "align_content": null,
            "visibility": null,
            "align_self": null,
            "height": null,
            "min_height": null,
            "padding": null,
            "grid_auto_rows": null,
            "grid_gap": null,
            "max_width": null,
            "order": null,
            "_view_module_version": "1.2.0",
            "grid_template_areas": null,
            "object_position": null,
            "object_fit": null,
            "grid_auto_columns": null,
            "margin": null,
            "display": null,
            "left": null
          }
        },
        "508314e1fc484f7c951741b7ecea0cbe": {
          "model_module": "@jupyter-widgets/controls",
          "model_name": "DescriptionStyleModel",
          "state": {
            "_view_name": "StyleView",
            "_model_name": "DescriptionStyleModel",
            "description_width": "",
            "_view_module": "@jupyter-widgets/base",
            "_model_module_version": "1.5.0",
            "_view_count": null,
            "_view_module_version": "1.2.0",
            "_model_module": "@jupyter-widgets/controls"
          }
        },
        "1bb148d49d224b3a9de8807f533a8821": {
          "model_module": "@jupyter-widgets/base",
          "model_name": "LayoutModel",
          "state": {
            "_view_name": "LayoutView",
            "grid_template_rows": null,
            "right": null,
            "justify_content": null,
            "_view_module": "@jupyter-widgets/base",
            "overflow": null,
            "_model_module_version": "1.2.0",
            "_view_count": null,
            "flex_flow": null,
            "width": null,
            "min_width": null,
            "border": null,
            "align_items": null,
            "bottom": null,
            "_model_module": "@jupyter-widgets/base",
            "top": null,
            "grid_column": null,
            "overflow_y": null,
            "overflow_x": null,
            "grid_auto_flow": null,
            "grid_area": null,
            "grid_template_columns": null,
            "flex": null,
            "_model_name": "LayoutModel",
            "justify_items": null,
            "grid_row": null,
            "max_height": null,
            "align_content": null,
            "visibility": null,
            "align_self": null,
            "height": null,
            "min_height": null,
            "padding": null,
            "grid_auto_rows": null,
            "grid_gap": null,
            "max_width": null,
            "order": null,
            "_view_module_version": "1.2.0",
            "grid_template_areas": null,
            "object_position": null,
            "object_fit": null,
            "grid_auto_columns": null,
            "margin": null,
            "display": null,
            "left": null
          }
        },
        "88566f65f70947f2afe7efd87b2d5048": {
          "model_module": "@jupyter-widgets/controls",
          "model_name": "HBoxModel",
          "state": {
            "_view_name": "HBoxView",
            "_dom_classes": [],
            "_model_name": "HBoxModel",
            "_view_module": "@jupyter-widgets/controls",
            "_model_module_version": "1.5.0",
            "_view_count": null,
            "_view_module_version": "1.5.0",
            "box_style": "",
            "layout": "IPY_MODEL_260eaadc5259421390a5db05958d8acd",
            "_model_module": "@jupyter-widgets/controls",
            "children": [
              "IPY_MODEL_66a1805327c24cbbb645ab51b996b103",
              "IPY_MODEL_42b8fe44dbdc4bb889b6caff33793fbb"
            ]
          }
        },
        "260eaadc5259421390a5db05958d8acd": {
          "model_module": "@jupyter-widgets/base",
          "model_name": "LayoutModel",
          "state": {
            "_view_name": "LayoutView",
            "grid_template_rows": null,
            "right": null,
            "justify_content": null,
            "_view_module": "@jupyter-widgets/base",
            "overflow": null,
            "_model_module_version": "1.2.0",
            "_view_count": null,
            "flex_flow": null,
            "width": null,
            "min_width": null,
            "border": null,
            "align_items": null,
            "bottom": null,
            "_model_module": "@jupyter-widgets/base",
            "top": null,
            "grid_column": null,
            "overflow_y": null,
            "overflow_x": null,
            "grid_auto_flow": null,
            "grid_area": null,
            "grid_template_columns": null,
            "flex": null,
            "_model_name": "LayoutModel",
            "justify_items": null,
            "grid_row": null,
            "max_height": null,
            "align_content": null,
            "visibility": null,
            "align_self": null,
            "height": null,
            "min_height": null,
            "padding": null,
            "grid_auto_rows": null,
            "grid_gap": null,
            "max_width": null,
            "order": null,
            "_view_module_version": "1.2.0",
            "grid_template_areas": null,
            "object_position": null,
            "object_fit": null,
            "grid_auto_columns": null,
            "margin": null,
            "display": null,
            "left": null
          }
        },
        "66a1805327c24cbbb645ab51b996b103": {
          "model_module": "@jupyter-widgets/controls",
          "model_name": "FloatProgressModel",
          "state": {
            "_view_name": "ProgressView",
            "style": "IPY_MODEL_58f9c5cba8ef49e0a141cee31821304f",
            "_dom_classes": [],
            "description": "100%",
            "_model_name": "FloatProgressModel",
            "bar_style": "success",
            "max": 122411812,
            "_view_module": "@jupyter-widgets/controls",
            "_model_module_version": "1.5.0",
            "value": 122411812,
            "_view_count": null,
            "_view_module_version": "1.5.0",
            "orientation": "horizontal",
            "min": 0,
            "description_tooltip": null,
            "_model_module": "@jupyter-widgets/controls",
            "layout": "IPY_MODEL_cb74f43fd4d943a48a92ee47da5bdefb"
          }
        },
        "42b8fe44dbdc4bb889b6caff33793fbb": {
          "model_module": "@jupyter-widgets/controls",
          "model_name": "HTMLModel",
          "state": {
            "_view_name": "HTMLView",
            "style": "IPY_MODEL_127a97c598184bca9ea67ec0486f9843",
            "_dom_classes": [],
            "description": "",
            "_model_name": "HTMLModel",
            "placeholder": "​",
            "_view_module": "@jupyter-widgets/controls",
            "_model_module_version": "1.5.0",
            "value": " 117M/117M [00:05&lt;00:00, 22.2MB/s]",
            "_view_count": null,
            "_view_module_version": "1.5.0",
            "description_tooltip": null,
            "_model_module": "@jupyter-widgets/controls",
            "layout": "IPY_MODEL_6cee28e6be404a5d9e564db6e419beb0"
          }
        },
        "58f9c5cba8ef49e0a141cee31821304f": {
          "model_module": "@jupyter-widgets/controls",
          "model_name": "ProgressStyleModel",
          "state": {
            "_view_name": "StyleView",
            "_model_name": "ProgressStyleModel",
            "description_width": "initial",
            "_view_module": "@jupyter-widgets/base",
            "_model_module_version": "1.5.0",
            "_view_count": null,
            "_view_module_version": "1.2.0",
            "bar_color": null,
            "_model_module": "@jupyter-widgets/controls"
          }
        },
        "cb74f43fd4d943a48a92ee47da5bdefb": {
          "model_module": "@jupyter-widgets/base",
          "model_name": "LayoutModel",
          "state": {
            "_view_name": "LayoutView",
            "grid_template_rows": null,
            "right": null,
            "justify_content": null,
            "_view_module": "@jupyter-widgets/base",
            "overflow": null,
            "_model_module_version": "1.2.0",
            "_view_count": null,
            "flex_flow": null,
            "width": null,
            "min_width": null,
            "border": null,
            "align_items": null,
            "bottom": null,
            "_model_module": "@jupyter-widgets/base",
            "top": null,
            "grid_column": null,
            "overflow_y": null,
            "overflow_x": null,
            "grid_auto_flow": null,
            "grid_area": null,
            "grid_template_columns": null,
            "flex": null,
            "_model_name": "LayoutModel",
            "justify_items": null,
            "grid_row": null,
            "max_height": null,
            "align_content": null,
            "visibility": null,
            "align_self": null,
            "height": null,
            "min_height": null,
            "padding": null,
            "grid_auto_rows": null,
            "grid_gap": null,
            "max_width": null,
            "order": null,
            "_view_module_version": "1.2.0",
            "grid_template_areas": null,
            "object_position": null,
            "object_fit": null,
            "grid_auto_columns": null,
            "margin": null,
            "display": null,
            "left": null
          }
        },
        "127a97c598184bca9ea67ec0486f9843": {
          "model_module": "@jupyter-widgets/controls",
          "model_name": "DescriptionStyleModel",
          "state": {
            "_view_name": "StyleView",
            "_model_name": "DescriptionStyleModel",
            "description_width": "",
            "_view_module": "@jupyter-widgets/base",
            "_model_module_version": "1.5.0",
            "_view_count": null,
            "_view_module_version": "1.2.0",
            "_model_module": "@jupyter-widgets/controls"
          }
        },
        "6cee28e6be404a5d9e564db6e419beb0": {
          "model_module": "@jupyter-widgets/base",
          "model_name": "LayoutModel",
          "state": {
            "_view_name": "LayoutView",
            "grid_template_rows": null,
            "right": null,
            "justify_content": null,
            "_view_module": "@jupyter-widgets/base",
            "overflow": null,
            "_model_module_version": "1.2.0",
            "_view_count": null,
            "flex_flow": null,
            "width": null,
            "min_width": null,
            "border": null,
            "align_items": null,
            "bottom": null,
            "_model_module": "@jupyter-widgets/base",
            "top": null,
            "grid_column": null,
            "overflow_y": null,
            "overflow_x": null,
            "grid_auto_flow": null,
            "grid_area": null,
            "grid_template_columns": null,
            "flex": null,
            "_model_name": "LayoutModel",
            "justify_items": null,
            "grid_row": null,
            "max_height": null,
            "align_content": null,
            "visibility": null,
            "align_self": null,
            "height": null,
            "min_height": null,
            "padding": null,
            "grid_auto_rows": null,
            "grid_gap": null,
            "max_width": null,
            "order": null,
            "_view_module_version": "1.2.0",
            "grid_template_areas": null,
            "object_position": null,
            "object_fit": null,
            "grid_auto_columns": null,
            "margin": null,
            "display": null,
            "left": null
          }
        },
        "e4f0e54702cb4043bcf9ebcb0e57097d": {
          "model_module": "@jupyter-widgets/controls",
          "model_name": "HBoxModel",
          "state": {
            "_view_name": "HBoxView",
            "_dom_classes": [],
            "_model_name": "HBoxModel",
            "_view_module": "@jupyter-widgets/controls",
            "_model_module_version": "1.5.0",
            "_view_count": null,
            "_view_module_version": "1.5.0",
            "box_style": "",
            "layout": "IPY_MODEL_67dc460423b44e08b4e06166356a3fa9",
            "_model_module": "@jupyter-widgets/controls",
            "children": [
              "IPY_MODEL_68bd2aa21a864d6e9d055ba7bff59686",
              "IPY_MODEL_71baa164ecb94904aaeb57f6535dc5e6"
            ]
          }
        },
        "67dc460423b44e08b4e06166356a3fa9": {
          "model_module": "@jupyter-widgets/base",
          "model_name": "LayoutModel",
          "state": {
            "_view_name": "LayoutView",
            "grid_template_rows": null,
            "right": null,
            "justify_content": null,
            "_view_module": "@jupyter-widgets/base",
            "overflow": null,
            "_model_module_version": "1.2.0",
            "_view_count": null,
            "flex_flow": "row wrap",
            "width": "100%",
            "min_width": null,
            "border": null,
            "align_items": null,
            "bottom": null,
            "_model_module": "@jupyter-widgets/base",
            "top": null,
            "grid_column": null,
            "overflow_y": null,
            "overflow_x": null,
            "grid_auto_flow": null,
            "grid_area": null,
            "grid_template_columns": null,
            "flex": null,
            "_model_name": "LayoutModel",
            "justify_items": null,
            "grid_row": null,
            "max_height": null,
            "align_content": null,
            "visibility": null,
            "align_self": null,
            "height": null,
            "min_height": null,
            "padding": null,
            "grid_auto_rows": null,
            "grid_gap": null,
            "max_width": null,
            "order": null,
            "_view_module_version": "1.2.0",
            "grid_template_areas": null,
            "object_position": null,
            "object_fit": null,
            "grid_auto_columns": null,
            "margin": null,
            "display": "inline-flex",
            "left": null
          }
        },
        "68bd2aa21a864d6e9d055ba7bff59686": {
          "model_module": "@jupyter-widgets/controls",
          "model_name": "FloatProgressModel",
          "state": {
            "_view_name": "ProgressView",
            "style": "IPY_MODEL_d8592cb4295a439da92fea44be43f6a4",
            "_dom_classes": [],
            "description": "Testing: 100%",
            "_model_name": "FloatProgressModel",
            "bar_style": "success",
            "max": 1,
            "_view_module": "@jupyter-widgets/controls",
            "_model_module_version": "1.5.0",
            "value": 1,
            "_view_count": null,
            "_view_module_version": "1.5.0",
            "orientation": "horizontal",
            "min": 0,
            "description_tooltip": null,
            "_model_module": "@jupyter-widgets/controls",
            "layout": "IPY_MODEL_b4afafbab6534191b5fb7f9e4c5c9b09"
          }
        },
        "71baa164ecb94904aaeb57f6535dc5e6": {
          "model_module": "@jupyter-widgets/controls",
          "model_name": "HTMLModel",
          "state": {
            "_view_name": "HTMLView",
            "style": "IPY_MODEL_b7740747a37a4c5a88636cbf8578e8e0",
            "_dom_classes": [],
            "description": "",
            "_model_name": "HTMLModel",
            "placeholder": "​",
            "_view_module": "@jupyter-widgets/controls",
            "_model_module_version": "1.5.0",
            "value": " 8/8 [00:28&lt;00:00,  3.51s/it]",
            "_view_count": null,
            "_view_module_version": "1.5.0",
            "description_tooltip": null,
            "_model_module": "@jupyter-widgets/controls",
            "layout": "IPY_MODEL_a0cce323b12f4e1b8261472a8dd83670"
          }
        },
        "d8592cb4295a439da92fea44be43f6a4": {
          "model_module": "@jupyter-widgets/controls",
          "model_name": "ProgressStyleModel",
          "state": {
            "_view_name": "StyleView",
            "_model_name": "ProgressStyleModel",
            "description_width": "initial",
            "_view_module": "@jupyter-widgets/base",
            "_model_module_version": "1.5.0",
            "_view_count": null,
            "_view_module_version": "1.2.0",
            "bar_color": null,
            "_model_module": "@jupyter-widgets/controls"
          }
        },
        "b4afafbab6534191b5fb7f9e4c5c9b09": {
          "model_module": "@jupyter-widgets/base",
          "model_name": "LayoutModel",
          "state": {
            "_view_name": "LayoutView",
            "grid_template_rows": null,
            "right": null,
            "justify_content": null,
            "_view_module": "@jupyter-widgets/base",
            "overflow": null,
            "_model_module_version": "1.2.0",
            "_view_count": null,
            "flex_flow": null,
            "width": null,
            "min_width": null,
            "border": null,
            "align_items": null,
            "bottom": null,
            "_model_module": "@jupyter-widgets/base",
            "top": null,
            "grid_column": null,
            "overflow_y": null,
            "overflow_x": null,
            "grid_auto_flow": null,
            "grid_area": null,
            "grid_template_columns": null,
            "flex": "2",
            "_model_name": "LayoutModel",
            "justify_items": null,
            "grid_row": null,
            "max_height": null,
            "align_content": null,
            "visibility": null,
            "align_self": null,
            "height": null,
            "min_height": null,
            "padding": null,
            "grid_auto_rows": null,
            "grid_gap": null,
            "max_width": null,
            "order": null,
            "_view_module_version": "1.2.0",
            "grid_template_areas": null,
            "object_position": null,
            "object_fit": null,
            "grid_auto_columns": null,
            "margin": null,
            "display": null,
            "left": null
          }
        },
        "b7740747a37a4c5a88636cbf8578e8e0": {
          "model_module": "@jupyter-widgets/controls",
          "model_name": "DescriptionStyleModel",
          "state": {
            "_view_name": "StyleView",
            "_model_name": "DescriptionStyleModel",
            "description_width": "",
            "_view_module": "@jupyter-widgets/base",
            "_model_module_version": "1.5.0",
            "_view_count": null,
            "_view_module_version": "1.2.0",
            "_model_module": "@jupyter-widgets/controls"
          }
        },
        "a0cce323b12f4e1b8261472a8dd83670": {
          "model_module": "@jupyter-widgets/base",
          "model_name": "LayoutModel",
          "state": {
            "_view_name": "LayoutView",
            "grid_template_rows": null,
            "right": null,
            "justify_content": null,
            "_view_module": "@jupyter-widgets/base",
            "overflow": null,
            "_model_module_version": "1.2.0",
            "_view_count": null,
            "flex_flow": null,
            "width": null,
            "min_width": null,
            "border": null,
            "align_items": null,
            "bottom": null,
            "_model_module": "@jupyter-widgets/base",
            "top": null,
            "grid_column": null,
            "overflow_y": null,
            "overflow_x": null,
            "grid_auto_flow": null,
            "grid_area": null,
            "grid_template_columns": null,
            "flex": null,
            "_model_name": "LayoutModel",
            "justify_items": null,
            "grid_row": null,
            "max_height": null,
            "align_content": null,
            "visibility": null,
            "align_self": null,
            "height": null,
            "min_height": null,
            "padding": null,
            "grid_auto_rows": null,
            "grid_gap": null,
            "max_width": null,
            "order": null,
            "_view_module_version": "1.2.0",
            "grid_template_areas": null,
            "object_position": null,
            "object_fit": null,
            "grid_auto_columns": null,
            "margin": null,
            "display": null,
            "left": null
          }
        },
        "a3c32bb93d0b46ed83dd2f6e70249d31": {
          "model_module": "@jupyter-widgets/controls",
          "model_name": "HBoxModel",
          "state": {
            "_view_name": "HBoxView",
            "_dom_classes": [],
            "_model_name": "HBoxModel",
            "_view_module": "@jupyter-widgets/controls",
            "_model_module_version": "1.5.0",
            "_view_count": null,
            "_view_module_version": "1.5.0",
            "box_style": "",
            "layout": "IPY_MODEL_6b67016b822f4cbbb7aeb0c58e259b63",
            "_model_module": "@jupyter-widgets/controls",
            "children": [
              "IPY_MODEL_e333dc6c164f4e27863b4a7afe341177",
              "IPY_MODEL_06885518bcb54729b93654114b5efad7"
            ]
          }
        },
        "6b67016b822f4cbbb7aeb0c58e259b63": {
          "model_module": "@jupyter-widgets/base",
          "model_name": "LayoutModel",
          "state": {
            "_view_name": "LayoutView",
            "grid_template_rows": null,
            "right": null,
            "justify_content": null,
            "_view_module": "@jupyter-widgets/base",
            "overflow": null,
            "_model_module_version": "1.2.0",
            "_view_count": null,
            "flex_flow": "row wrap",
            "width": "100%",
            "min_width": null,
            "border": null,
            "align_items": null,
            "bottom": null,
            "_model_module": "@jupyter-widgets/base",
            "top": null,
            "grid_column": null,
            "overflow_y": null,
            "overflow_x": null,
            "grid_auto_flow": null,
            "grid_area": null,
            "grid_template_columns": null,
            "flex": null,
            "_model_name": "LayoutModel",
            "justify_items": null,
            "grid_row": null,
            "max_height": null,
            "align_content": null,
            "visibility": null,
            "align_self": null,
            "height": null,
            "min_height": null,
            "padding": null,
            "grid_auto_rows": null,
            "grid_gap": null,
            "max_width": null,
            "order": null,
            "_view_module_version": "1.2.0",
            "grid_template_areas": null,
            "object_position": null,
            "object_fit": null,
            "grid_auto_columns": null,
            "margin": null,
            "display": "inline-flex",
            "left": null
          }
        },
        "e333dc6c164f4e27863b4a7afe341177": {
          "model_module": "@jupyter-widgets/controls",
          "model_name": "FloatProgressModel",
          "state": {
            "_view_name": "ProgressView",
            "style": "IPY_MODEL_364b03b000e24663a96fece9863611e5",
            "_dom_classes": [],
            "description": "Testing: 100%",
            "_model_name": "FloatProgressModel",
            "bar_style": "success",
            "max": 1,
            "_view_module": "@jupyter-widgets/controls",
            "_model_module_version": "1.5.0",
            "value": 1,
            "_view_count": null,
            "_view_module_version": "1.5.0",
            "orientation": "horizontal",
            "min": 0,
            "description_tooltip": null,
            "_model_module": "@jupyter-widgets/controls",
            "layout": "IPY_MODEL_160dde893ceb424aad4b8205ea3ceaa0"
          }
        },
        "06885518bcb54729b93654114b5efad7": {
          "model_module": "@jupyter-widgets/controls",
          "model_name": "HTMLModel",
          "state": {
            "_view_name": "HTMLView",
            "style": "IPY_MODEL_d604938e4c174b8389751f5064aef1fe",
            "_dom_classes": [],
            "description": "",
            "_model_name": "HTMLModel",
            "placeholder": "​",
            "_view_module": "@jupyter-widgets/controls",
            "_model_module_version": "1.5.0",
            "value": " 8/8 [00:13&lt;00:00,  1.72s/it]",
            "_view_count": null,
            "_view_module_version": "1.5.0",
            "description_tooltip": null,
            "_model_module": "@jupyter-widgets/controls",
            "layout": "IPY_MODEL_a72733e3932b415f95cfb5274b733fee"
          }
        },
        "364b03b000e24663a96fece9863611e5": {
          "model_module": "@jupyter-widgets/controls",
          "model_name": "ProgressStyleModel",
          "state": {
            "_view_name": "StyleView",
            "_model_name": "ProgressStyleModel",
            "description_width": "initial",
            "_view_module": "@jupyter-widgets/base",
            "_model_module_version": "1.5.0",
            "_view_count": null,
            "_view_module_version": "1.2.0",
            "bar_color": null,
            "_model_module": "@jupyter-widgets/controls"
          }
        },
        "160dde893ceb424aad4b8205ea3ceaa0": {
          "model_module": "@jupyter-widgets/base",
          "model_name": "LayoutModel",
          "state": {
            "_view_name": "LayoutView",
            "grid_template_rows": null,
            "right": null,
            "justify_content": null,
            "_view_module": "@jupyter-widgets/base",
            "overflow": null,
            "_model_module_version": "1.2.0",
            "_view_count": null,
            "flex_flow": null,
            "width": null,
            "min_width": null,
            "border": null,
            "align_items": null,
            "bottom": null,
            "_model_module": "@jupyter-widgets/base",
            "top": null,
            "grid_column": null,
            "overflow_y": null,
            "overflow_x": null,
            "grid_auto_flow": null,
            "grid_area": null,
            "grid_template_columns": null,
            "flex": "2",
            "_model_name": "LayoutModel",
            "justify_items": null,
            "grid_row": null,
            "max_height": null,
            "align_content": null,
            "visibility": null,
            "align_self": null,
            "height": null,
            "min_height": null,
            "padding": null,
            "grid_auto_rows": null,
            "grid_gap": null,
            "max_width": null,
            "order": null,
            "_view_module_version": "1.2.0",
            "grid_template_areas": null,
            "object_position": null,
            "object_fit": null,
            "grid_auto_columns": null,
            "margin": null,
            "display": null,
            "left": null
          }
        },
        "d604938e4c174b8389751f5064aef1fe": {
          "model_module": "@jupyter-widgets/controls",
          "model_name": "DescriptionStyleModel",
          "state": {
            "_view_name": "StyleView",
            "_model_name": "DescriptionStyleModel",
            "description_width": "",
            "_view_module": "@jupyter-widgets/base",
            "_model_module_version": "1.5.0",
            "_view_count": null,
            "_view_module_version": "1.2.0",
            "_model_module": "@jupyter-widgets/controls"
          }
        },
        "a72733e3932b415f95cfb5274b733fee": {
          "model_module": "@jupyter-widgets/base",
          "model_name": "LayoutModel",
          "state": {
            "_view_name": "LayoutView",
            "grid_template_rows": null,
            "right": null,
            "justify_content": null,
            "_view_module": "@jupyter-widgets/base",
            "overflow": null,
            "_model_module_version": "1.2.0",
            "_view_count": null,
            "flex_flow": null,
            "width": null,
            "min_width": null,
            "border": null,
            "align_items": null,
            "bottom": null,
            "_model_module": "@jupyter-widgets/base",
            "top": null,
            "grid_column": null,
            "overflow_y": null,
            "overflow_x": null,
            "grid_auto_flow": null,
            "grid_area": null,
            "grid_template_columns": null,
            "flex": null,
            "_model_name": "LayoutModel",
            "justify_items": null,
            "grid_row": null,
            "max_height": null,
            "align_content": null,
            "visibility": null,
            "align_self": null,
            "height": null,
            "min_height": null,
            "padding": null,
            "grid_auto_rows": null,
            "grid_gap": null,
            "max_width": null,
            "order": null,
            "_view_module_version": "1.2.0",
            "grid_template_areas": null,
            "object_position": null,
            "object_fit": null,
            "grid_auto_columns": null,
            "margin": null,
            "display": null,
            "left": null
          }
        }
      }
    }
  },
  "cells": [
    {
      "cell_type": "markdown",
      "metadata": {
        "id": "J3R2-_YuQT1r"
      },
      "source": [
        "# Deteccão de COVID-19 em imagens de raio-X\n",
        "\n",
        "O objetivo deste exercício é treinar e avaliar um classificador capaz de detectar a presença de COVID-19 em imagens de raio-X.\n",
        "\n",
        "As métricas a serem reportadas são F1 e Equal Error Rate (ERR) e seu respectivo threshold.\n",
        "\n",
        "Note que uma das dificuldades deste exercicio será processar as imagens, que tem 1100 x 1100 pixels.\n",
        "\n",
        "Dica: Utilize o [pyeer](https://pypi.org/project/pyeer/) para plotar o EER."
      ]
    },
    {
      "cell_type": "markdown",
      "metadata": {
        "id": "OJCRHPjMmudC"
      },
      "source": [
        "Nome: **Orlem Lima dos Santos**"
      ]
    },
    {
      "cell_type": "markdown",
      "metadata": {
        "id": "AjF9FzMZgk7F"
      },
      "source": [
        "# Embemble Learning\n",
        "\n",
        "\n",
        "A solution to the high variance of neural networks is to train multiple models and combine their predictions.\n",
        "\n",
        "The idea is to combine the predictions from multiple good but different models.\n",
        "\n",
        "A good model has skill, meaning that its predictions are better than random chance. Importantly, the models must be good in different ways; they must make different prediction errors.\n",
        "\n",
        "Combining the predictions from multiple neural networks adds a bias that in turn counters the variance of a single trained neural network model. The results are predictions that are less sensitive to the specifics of the training data, choice of training scheme, and the serendipity of a single training run.\n",
        "\n",
        "In addition to reducing the variance in the prediction, the ensemble can also result in better predictions than any single best model\n",
        "\n",
        "![image.png](data:image/png;base64,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)"
      ]
    },
    {
      "cell_type": "markdown",
      "metadata": {
        "id": "RHhzaEL2jH9y"
      },
      "source": [
        "# Inicialização dos parâmetros"
      ]
    },
    {
      "cell_type": "code",
      "metadata": {
        "colab": {
          "base_uri": "https://localhost:8080/"
        },
        "id": "_pVi8wv2j7MG",
        "outputId": "85316dde-2ae3-437a-9683-206c98add038"
      },
      "source": [
        "version = \"effnetB0_covid19_finetune_imagenet_ensemble_test5\" #@param {type: \"string\"}\n",
        "backbones = 'efficientnet-b0', 'efficientnet-b1', 'efficientnet-b3', 'efficientnet-b4','efficientnet-b5'#@param {type: \"raw\"}\n",
        "lr = 1e-2#@param {type: \"number\"}\n",
        "lr_final = 1e-100#@param {type: \"number\"}\n",
        "lr_epoch = 50#@param {type: \"integer\"}\n",
        "w_decay = 0#@param {type: \"number\"}\n",
        "bs = 128#@param {type: \"integer\"}\n",
        "accum_grads = 5#@param {type: \"integer\"}\n",
        "patience = 20#@param {type: \"integer\"}\n",
        "max_epochs = 100#@param {type: \"integer\"}\n",
        "drop_rate_fc = 0.3#@param {type: \"number\"}\n",
        "drop_rate_effnet = 0.5#@param {type: \"number\"}\n",
        "drop_connect_rate_effnet = 0.5#@param {type: \"number\"}\n",
        "freeze_BN = False#@param {type: \"boolean\"}\n",
        "freeze = False#@param {type: \"boolean\"}\n",
        "\n",
        "# Define hyperparameters\n",
        "hparams = {\"version\": version,\n",
        "          'backbones':backbones,\n",
        "          \"lr\": lr,\n",
        "          \"lr_final\": lr_final,\n",
        "           \"lr_epoch\": lr_epoch,\n",
        "          \"w_decay\": w_decay,\n",
        "          \"bs\": bs,\n",
        "          \"drop_rate_fc\": drop_rate_fc,\n",
        "          \"drop_rate_effnet\": drop_rate_effnet,\n",
        "          \"drop_connect_rate_effnet\": drop_connect_rate_effnet,\n",
        "          \"patience\": patience,\n",
        "          \"accum_grads\": accum_grads,\n",
        "          \"max_epochs\": max_epochs,\n",
        "          \"freeze_BN\": freeze_BN,\n",
        "          \"freeze\": freeze,}\n",
        "hparams"
      ],
      "execution_count": null,
      "outputs": [
        {
          "output_type": "execute_result",
          "data": {
            "text/plain": [
              "{'accum_grads': 5,\n",
              " 'backbones': ('efficientnet-b0',\n",
              "  'efficientnet-b1',\n",
              "  'efficientnet-b3',\n",
              "  'efficientnet-b4',\n",
              "  'efficientnet-b5'),\n",
              " 'bs': 128,\n",
              " 'drop_connect_rate_effnet': 0.5,\n",
              " 'drop_rate_effnet': 0.5,\n",
              " 'drop_rate_fc': 0.3,\n",
              " 'freeze': False,\n",
              " 'freeze_BN': False,\n",
              " 'lr': 0.01,\n",
              " 'lr_epoch': 50,\n",
              " 'lr_final': 1e-100,\n",
              " 'max_epochs': 100,\n",
              " 'patience': 20,\n",
              " 'version': 'effnetB0_covid19_finetune_imagenet_ensemble_test5',\n",
              " 'w_decay': 0}"
            ]
          },
          "metadata": {
            "tags": []
          },
          "execution_count": 1
        }
      ]
    },
    {
      "cell_type": "markdown",
      "metadata": {
        "id": "S6tHIO8O-ePC"
      },
      "source": [
        "## Inicializando o Neptune"
      ]
    },
    {
      "cell_type": "code",
      "metadata": {
        "id": "WtKt7Ey7-htu"
      },
      "source": [
        "# !pip install neptune-client\n",
        "# !pip install pytorch_lightning==1.2.10\n",
        "# !pip install efficientnet_pytorch\n",
        "# !pip install pyeer"
      ],
      "execution_count": null,
      "outputs": []
    },
    {
      "cell_type": "code",
      "metadata": {
        "id": "z2dqLKZVjXJO"
      },
      "source": [
        "from pytorch_lightning.loggers.neptune import NeptuneLogger"
      ],
      "execution_count": null,
      "outputs": []
    },
    {
      "cell_type": "code",
      "metadata": {
        "colab": {
          "base_uri": "https://localhost:8080/"
        },
        "id": "1h-4mu5ejOGI",
        "outputId": "1d72b44e-1351-47f3-e6c4-503e6270dcc3"
      },
      "source": [
        "neptune_logger = NeptuneLogger(\n",
        "    api_key=\"eyJhcGlfYWRkcmVzcyI6Imh0dHBzOi8vYXBwLm5lcHR1bmUuYWkiLCJhcGlfdXJsIjoiaHR0cHM6Ly9hcHAubmVwdHVuZS5haSIsImFwaV9rZXkiOiJjMmJkZTg1Yy1kMjQ1LTRmMjEtYjBmYy1kMjVlMmMxODcyMTgifQ==\",\n",
        "    project_name='orllem/Aula7Covid')"
      ],
      "execution_count": null,
      "outputs": [
        {
          "output_type": "stream",
          "text": [
            "NeptuneLogger will work in online mode\n"
          ],
          "name": "stderr"
        }
      ]
    },
    {
      "cell_type": "markdown",
      "metadata": {
        "id": "wFNf4RPxQT1w"
      },
      "source": [
        "## Importação das bibliotecas"
      ]
    },
    {
      "cell_type": "code",
      "metadata": {
        "id": "-fLUSHaCQT1x"
      },
      "source": [
        "from collections import OrderedDict\n",
        "import h5py\n",
        "import numpy as np\n",
        "import gc\n",
        "import os\n",
        "import matplotlib.pyplot as plt\n",
        "from random import sample\n",
        "from collections import Counter\n",
        "\n",
        "import torch\n",
        "from torch.utils.data import DataLoader\n",
        "from torch import nn\n",
        "import torch.nn.functional as F\n",
        "from google.colab import drive\n",
        "\n",
        "import torchvision\n",
        "from torchvision import transforms\n",
        "\n",
        "import pytorch_lightning as pl\n",
        "import torchmetrics\n",
        "from torchmetrics import F1\n",
        "from torchmetrics.functional import accuracy\n",
        "\n",
        "from efficientnet_pytorch import EfficientNet\n",
        "import nvidia_smi\n",
        "\n",
        "# pytorch_lightning.utilities.seed.seed_everything(seed=123)"
      ],
      "execution_count": null,
      "outputs": []
    },
    {
      "cell_type": "code",
      "metadata": {
        "id": "kyXXe4EkbAIK"
      },
      "source": [
        "f1 = F1(num_classes=2, average='weighted', compute_on_step=True)"
      ],
      "execution_count": null,
      "outputs": []
    },
    {
      "cell_type": "code",
      "metadata": {
        "colab": {
          "base_uri": "https://localhost:8080/"
        },
        "id": "qmuCL4QshVjI",
        "outputId": "100b8510-451b-4f9c-f760-cdbabbea2f96"
      },
      "source": [
        "print(f\"Pytorch Lightning Version: {pl.__version__}\")\n",
        "nvidia_smi.nvmlInit()\n",
        "handle = nvidia_smi.nvmlDeviceGetHandleByIndex(0)\n",
        "print(f\"Device name: {nvidia_smi.nvmlDeviceGetName(handle)}\")"
      ],
      "execution_count": null,
      "outputs": [
        {
          "output_type": "stream",
          "text": [
            "Pytorch Lightning Version: 1.2.10\n",
            "Device name: b'Tesla P100-PCIE-16GB'\n"
          ],
          "name": "stdout"
        }
      ]
    },
    {
      "cell_type": "code",
      "metadata": {
        "id": "jFNEz9vZzo9z"
      },
      "source": [
        "def show_batch(dataset):\n",
        "    \"\"\" Show a batch of 6 random images from a dataset.\n",
        "\n",
        "    \"\"\"\n",
        "    fig = plt.figure(1, figsize=(15, 7))\n",
        "    samples = np.random.randint(0, high=len(dataset), size=9)\n",
        "\n",
        "    for i, sample in enumerate(samples):\n",
        "        image, label = dataset[sample]\n",
        "        image = (image + 1)/2 # reverse advprop transform \n",
        "        ax = fig.add_subplot(3, 3, i+1)\n",
        "        if isinstance(image, np.ndarray):\n",
        "          ax.imshow(image)\n",
        "        else:\n",
        "          ax.imshow(image.permute(2,1,0).numpy())\n",
        "\n",
        "        ax.set_title(label)\n",
        "        ax.set_xticks([])\n",
        "        ax.set_yticks([])\n",
        "    plt.show() "
      ],
      "execution_count": null,
      "outputs": []
    },
    {
      "cell_type": "markdown",
      "metadata": {
        "id": "jEMUsfJpQT11"
      },
      "source": [
        "## Dataset e dataloader"
      ]
    },
    {
      "cell_type": "code",
      "metadata": {
        "colab": {
          "base_uri": "https://localhost:8080/"
        },
        "id": "i916oUGDjj3Q",
        "outputId": "f1d372e5-47f6-4faf-8ef6-0c29a7d394c6"
      },
      "source": [
        "drive.mount('/content/drive')"
      ],
      "execution_count": null,
      "outputs": [
        {
          "output_type": "stream",
          "text": [
            "Mounted at /content/drive\n"
          ],
          "name": "stdout"
        }
      ]
    },
    {
      "cell_type": "markdown",
      "metadata": {
        "id": "dc7Rv_2BQT16"
      },
      "source": [
        "### Carregamento, criação dataset e do dataloader"
      ]
    },
    {
      "cell_type": "code",
      "metadata": {
        "id": "cZ-PBLHJm739"
      },
      "source": [
        "# download_save flag must be seted to True to download and save to folders\n",
        "download_save = not all([os.path.isdir('test'), os.path.isdir('test2')]) "
      ],
      "execution_count": null,
      "outputs": []
    },
    {
      "cell_type": "code",
      "metadata": {
        "id": "G0dEKCn-QT17",
        "colab": {
          "base_uri": "https://localhost:8080/"
        },
        "outputId": "43da7036-c34e-41e0-e6d6-ad91259fa9ce"
      },
      "source": [
        "if download_save:\n",
        "  # O download demora.\n",
        "  !gsutil -m cp -n gs://neuralresearcher_data/unicamp/ia376i_2021s1/data/xray_covid/* .\n",
        "  !gsutil -m cp -n gs://neuralresearcher_data/unicamp/ia376i_2021s1/data/xray_covid/test2.hdf5 ."
      ],
      "execution_count": null,
      "outputs": [
        {
          "output_type": "stream",
          "text": [
            "Copying gs://neuralresearcher_data/unicamp/ia376i_2021s1/data/xray_covid/test.hdf5...\n",
            "/ [0/4 files][    0.0 B/ 12.4 GiB]   0% Done                                    \rCopying gs://neuralresearcher_data/unicamp/ia376i_2021s1/data/xray_covid/valid.hdf5...\n",
            "Copying gs://neuralresearcher_data/unicamp/ia376i_2021s1/data/xray_covid/test2.hdf5...\n",
            "Copying gs://neuralresearcher_data/unicamp/ia376i_2021s1/data/xray_covid/train.hdf5...\n",
            "/ [4/4 files][ 12.4 GiB/ 12.4 GiB] 100% Done  66.8 MiB/s ETA 00:00:00           \n",
            "Operation completed over 4 objects/12.4 GiB.                                     \n",
            "Skipping existing item: file://./test2.hdf5\n"
          ],
          "name": "stdout"
        }
      ]
    },
    {
      "cell_type": "markdown",
      "metadata": {
        "id": "HJmqb2SbpbZe"
      },
      "source": [
        "## Create folders with the train, valid  and test datasets \n",
        "\n",
        "**for each image of the hdf5 file it is created a hdf5 file in the folders**"
      ]
    },
    {
      "cell_type": "code",
      "metadata": {
        "id": "0cpsF-7PgPut"
      },
      "source": [
        "if download_save:\n",
        "  \n",
        "  # only pre-processed test and test2\n",
        "  paths = ['test', 'test2']\n",
        "\n",
        "  for path in paths:\n",
        "    !mkdir $path \n",
        "\n",
        "    path_dir = './' + path +'.hdf5'\n",
        "    h5file = h5py.File(path_dir, 'r')\n",
        "    filename = path + '.hdf5'\n",
        "    !rm $filename\n",
        "    images = h5file['data'][:]\n",
        "    labels = h5file['label'][:]\n",
        "    \n",
        "    del path_dir\n",
        "    del filename\n",
        "    del h5file\n",
        "    \n",
        "    np.save(path+'_labels.npy', labels)\n",
        "    for i in range(len(images)):\n",
        "      np.save(path + '/' + str(i) + '.npy', images[i]) \n",
        "    \n",
        "    del labels\n",
        "    del images\n",
        "\n",
        "  gc.collect()  "
      ],
      "execution_count": null,
      "outputs": []
    },
    {
      "cell_type": "markdown",
      "metadata": {
        "id": "Q7WcS3cH_0Q8"
      },
      "source": [
        "Aqui criamos um dataset sem aumento de dados"
      ]
    },
    {
      "cell_type": "code",
      "metadata": {
        "id": "PIFbKR8wd6fg"
      },
      "source": [
        "size_large = (256, 256)\n",
        "size_final = (224, 224)\n",
        "\n",
        "transform_train = transforms.Compose([                                  \n",
        "    transforms.ToPILImage(),\n",
        "    transforms.Resize(size=size_final),\n",
        "    transforms.ColorJitter(brightness=0.2, contrast=0.2, saturation=0.2, hue=0.2),\n",
        "    transforms.RandomHorizontalFlip(),\n",
        "    transforms.ToTensor(),\n",
        "    torchvision.transforms.Lambda(lambda img: img*2.0 - 1.0)])\n",
        "\n",
        "transform_valid = transforms.Compose([\n",
        "    torchvision.transforms.ToTensor(),\n",
        "    torchvision.transforms.Resize(size=size_final),\n",
        "    torchvision.transforms.Lambda(lambda img: img*2.0 - 1.0)])"
      ],
      "execution_count": null,
      "outputs": []
    },
    {
      "cell_type": "code",
      "metadata": {
        "id": "-dUbG4crOU8m"
      },
      "source": [
        "class Hdf5_Dataset(torch.utils.data.Dataset):\n",
        "\n",
        "  def __init__(self, path, transform, balance=False):\n",
        "    self.images = os.listdir(path)\n",
        "    self.images = sorted(self.images, key = lambda x: int(x[:-4])) # sort values of the folder\n",
        "    self.images = [path+'/'+s for s in self.images]\n",
        "    self.labels = np.load(path + '_labels.npy').tolist()\n",
        "    self.transform = transform\n",
        "    \n",
        "    \"\"\"\n",
        "    Increase number of covid samples of training set to balance the training dataset \n",
        "    \n",
        "    The idea here is simple, it gets enough random covid cases to match the number of normal cases\n",
        "    \"\"\"\n",
        "    if (path=='train' or path=='valid') and balance==True:\n",
        "      counter = Counter(self.labels)\n",
        "      dif = counter[0] - counter[1]\n",
        "      \n",
        "      zero_index = [i for i,x in enumerate(self.labels) if x == 1]\n",
        "      \n",
        "      comp_images = sample(zero_index, dif)\n",
        "      self.images = self.images + [self.images[i] for i in comp_images]\n",
        "      self.labels = self.labels + [self.labels[i] for i in comp_images]\n",
        "\n",
        "  def __len__(self):\n",
        "    return len(self.labels)\n",
        "\n",
        "  def __getitem__(self, idx):\n",
        "    label = self.labels[idx]\n",
        "\n",
        "    img = np.load(self.images[idx])\n",
        "    img = ((img/np.max(img))*255).astype(np.uint8)\n",
        "\n",
        "    img = self.transform(img).tile(3, 1, 1).detach().float()\n",
        "  \n",
        "    return img, label"
      ],
      "execution_count": null,
      "outputs": []
    },
    {
      "cell_type": "code",
      "metadata": {
        "id": "PW7q3WU8dR1m"
      },
      "source": [
        "test_dataset_old = Hdf5_Dataset('test', transform=transform_valid)\n",
        "\n",
        "test_dataset = Hdf5_Dataset('test2', transform=transform_valid)"
      ],
      "execution_count": null,
      "outputs": []
    },
    {
      "cell_type": "code",
      "metadata": {
        "colab": {
          "base_uri": "https://localhost:8080/"
        },
        "id": "8gbzhcZ8o218",
        "outputId": "03629f5a-4d37-4af1-ce77-7b929948fcd6"
      },
      "source": [
        "print('Número de amostras de teste:', len(test_dataset_old))\n",
        "\n",
        "print('Número de amostras de teste:', len(test_dataset))"
      ],
      "execution_count": null,
      "outputs": [
        {
          "output_type": "stream",
          "text": [
            "Número de amostras de teste: 1000\n",
            "Número de amostras de teste: 1000\n"
          ],
          "name": "stdout"
        }
      ]
    },
    {
      "cell_type": "code",
      "metadata": {
        "colab": {
          "base_uri": "https://localhost:8080/"
        },
        "id": "uuvGNDEytRGX",
        "outputId": "db661561-aa62-4309-a0d1-ec53b0319c54"
      },
      "source": [
        "test_labels = test_dataset_old.labels\n",
        "print(Counter(test_labels))\n",
        "\n",
        "test_labels = test_dataset.labels\n",
        "print(Counter(test_labels))"
      ],
      "execution_count": null,
      "outputs": [
        {
          "output_type": "stream",
          "text": [
            "Counter({0: 558, 1: 442})\n",
            "Counter({0: 909, 1: 91})\n"
          ],
          "name": "stdout"
        }
      ]
    },
    {
      "cell_type": "code",
      "metadata": {
        "colab": {
          "base_uri": "https://localhost:8080/",
          "height": 431
        },
        "id": "OSIe5YIMw2so",
        "outputId": "4027c656-1ec4-49e3-b2d4-3dfdda8171d9"
      },
      "source": [
        "show_batch(test_dataset_old)"
      ],
      "execution_count": null,
      "outputs": [
        {
          "output_type": "display_data",
          "data": {
            "image/png": "[encoded data removed]",
            "text/plain": [
              "<Figure size 1080x504 with 9 Axes>"
            ]
          },
          "metadata": {
            "tags": []
          }
        }
      ]
    },
    {
      "cell_type": "code",
      "metadata": {
        "colab": {
          "base_uri": "https://localhost:8080/",
          "height": 431
        },
        "id": "no7d-zLUz0Nu",
        "outputId": "1c877364-caa5-4e5e-9dcc-cea70f255128"
      },
      "source": [
        "show_batch(test_dataset)"
      ],
      "execution_count": null,
      "outputs": [
        {
          "output_type": "display_data",
          "data": {
            "image/png": "[encoded data removed]",
            "text/plain": [
              "<Figure size 1080x504 with 9 Axes>"
            ]
          },
          "metadata": {
            "tags": []
          }
        }
      ]
    },
    {
      "cell_type": "code",
      "metadata": {
        "colab": {
          "base_uri": "https://localhost:8080/"
        },
        "id": "w52KGYlIQT2A",
        "outputId": "fffcb852-75ba-494e-8d3a-86cc724ad074"
      },
      "source": [
        "batch_size = hparams['bs']\n",
        "\n",
        "\n",
        "test_dataloader_old = DataLoader(test_dataset_old, batch_size=batch_size, shuffle=False,  num_workers=4)\n",
        "test_dataloader = DataLoader(test_dataset, batch_size=batch_size, shuffle=False,  num_workers=4)\n",
        "\n",
        "print('Número de minibatches de teste:', len(test_dataloader_old))\n",
        "print('Número de minibatches de teste 2:', len(test_dataloader))\n",
        "\n",
        "x_test, y_test = next(iter(test_dataloader))\n",
        "print(\"\\nDimensões dos dados de um minibatch:\", x_test.size())\n",
        "print(\"Valores mínimo e máximo dos pixels: \", torch.min(x_test), torch.max(x_test))\n",
        "print(\"Tipo dos dados das imagens:         \", type(x_test))\n",
        "print(\"Tipo das classes das imagens:       \", type(y_test))"
      ],
      "execution_count": null,
      "outputs": [
        {
          "output_type": "stream",
          "text": [
            "Número de minibatches de teste: 8\n",
            "Número de minibatches de teste 2: 8\n",
            "\n",
            "Dimensões dos dados de um minibatch: torch.Size([128, 3, 224, 224])\n",
            "Valores mínimo e máximo dos pixels:  tensor(-1.) tensor(1.)\n",
            "Tipo dos dados das imagens:          <class 'torch.Tensor'>\n",
            "Tipo das classes das imagens:        <class 'torch.Tensor'>\n"
          ],
          "name": "stdout"
        }
      ]
    },
    {
      "cell_type": "markdown",
      "metadata": {
        "id": "S6GDgrq6iQzS"
      },
      "source": [
        "# Definindo o Modelo"
      ]
    },
    {
      "cell_type": "code",
      "metadata": {
        "id": "X7WBc38oibM1"
      },
      "source": [
        "def set_bn_eval(m):\n",
        "    classname = m.__class__.__name__\n",
        "    if classname.find('BatchNorm2d') != -1:\n",
        "        print('freezing ', m)\n",
        "        m.eval()"
      ],
      "execution_count": null,
      "outputs": []
    },
    {
      "cell_type": "markdown",
      "metadata": {
        "id": "LwtN1OJdisyk"
      },
      "source": [
        "## Criação do modelo Pytorch Lightning"
      ]
    },
    {
      "cell_type": "markdown",
      "metadata": {
        "id": "sA2YduQWkXQh"
      },
      "source": [
        "## Etapas do modelo\n",
        "\n",
        "**O modelo tem duas etapas:** \n",
        "\n",
        "1. No treino a predição é obtida pela média (**soft-majority vote**) das predições do 5 modelos. \n",
        "\n",
        "2. Na validação e teste é feito um **hard-majority vote** onde se pelos 3 predições (onde temos aqui 5 modelos) forem de covid (1) é classe predita é de COVID. \n",
        "\n",
        "\n"
      ]
    },
    {
      "cell_type": "code",
      "metadata": {
        "id": "zYluFVNr2OP_"
      },
      "source": [
        "class LabelSmoothingCrossEntropy(nn.Module):\n",
        "    def __init__(self):\n",
        "        super(LabelSmoothingCrossEntropy, self).__init__()\n",
        "    def forward(self, logprobs, target, smoothing=0.1):\n",
        "        confidence = 1. - smoothing\n",
        "        nll_loss = -logprobs.gather(dim=-1, index=target.unsqueeze(1))\n",
        "        nll_loss = nll_loss.squeeze(1)\n",
        "        smooth_loss = -logprobs.mean(dim=-1)\n",
        "        loss = confidence * nll_loss + smoothing * smooth_loss\n",
        "        return loss.mean()"
      ],
      "execution_count": null,
      "outputs": []
    },
    {
      "cell_type": "code",
      "metadata": {
        "id": "abkVmBu02P8x"
      },
      "source": [
        "criterion = LabelSmoothingCrossEntropy()"
      ],
      "execution_count": null,
      "outputs": []
    },
    {
      "cell_type": "code",
      "metadata": {
        "id": "B1GsqgYNguhi"
      },
      "source": [
        "class ModelEffnet(nn.Module):\n",
        "    def __init__(self, backbone):\n",
        "        super(ModelEffnet, self).__init__()\n",
        "\n",
        "        override_params = {'dropout_rate':hparams['drop_rate_effnet'],\n",
        "                           'drop_connect_rate':hparams['drop_connect_rate_effnet']}\n",
        "        \n",
        "        self.feature_extraction = EfficientNet.from_pretrained(backbone, advprop=True, **override_params)\n",
        "\n",
        "        # freeze BN\n",
        "        if hparams['freeze_BN']:\n",
        "          self.feature_extraction = self.feature_extraction.apply(set_bn_eval)\n",
        "\n",
        "        if hparams['freeze']:\n",
        "          print('freezing effnet')\n",
        "          for param in self.feature_extraction.parameters():\n",
        "            param.requires_grad = False\n",
        "\n",
        "        self._avg_pooling = nn.AdaptiveAvgPool2d(1)\n",
        "        self._dropout = nn.Dropout(hparams['drop_rate_fc'])\n",
        "        \n",
        "        if backbone=='efficientnet-b7': \n",
        "          self._fc = nn.Linear(2560, 2)\n",
        "        elif backbone=='efficientnet-b5': \n",
        "          self._fc = nn.Linear(2048, 2)  \n",
        "        elif backbone=='efficientnet-b4': \n",
        "          self._fc = nn.Linear(1792, 2)   \n",
        "        elif backbone=='efficientnet-b3':\n",
        "          self._fc = nn.Linear(1536, 2)  \n",
        "        elif backbone=='efficientnet-b2':\n",
        "          self._fc = nn.Linear(1408, 2) \n",
        "        else:\n",
        "          self._fc = nn.Linear(1280, 2) \n",
        "    \n",
        "    def forward(self, x):\n",
        "      features = self.feature_extraction.extract_features(x)\n",
        "      pool = self._avg_pooling(features)\n",
        "      \n",
        "      x = pool.flatten(start_dim=1)\n",
        "      # print('x', x.shape)\n",
        "      x = self._dropout(x)\n",
        "      logits = self._fc(x)    \n",
        "      return logits"
      ],
      "execution_count": null,
      "outputs": []
    },
    {
      "cell_type": "code",
      "metadata": {
        "id": "MQBmJRaYi1UU"
      },
      "source": [
        "class EffnetClassifier(pl.LightningModule):\n",
        "    def __init__(self, *args, **kwargs):\n",
        "        super().__init__()\n",
        "\n",
        "        self.hparams = hparams\n",
        "        \n",
        "        self._blocks = nn.ModuleList([])\n",
        "\n",
        "        for backbone in hparams['backbones']:\n",
        "          self._blocks.append(ModelEffnet(backbone))\n",
        "        \n",
        "\n",
        "    def forward(self, x):\n",
        "        \n",
        "        pred_res = []\n",
        "        for block in self._blocks:\n",
        "          logits = block(x)\n",
        "          softmaxs = F.softmax(logits, dim=1)\n",
        "          pred_res.append(softmaxs)    \n",
        "\n",
        "        pred_res = torch.stack(pred_res)\n",
        "        return pred_res  # softmax\n",
        "\n",
        "    def training_step(self, train_batch, batch_idx):\n",
        "        x, y = train_batch\n",
        "  \n",
        "        # predict \n",
        "        softs = self(x) \n",
        "        \n",
        "        # mean value of predictions - followed by log\n",
        "        softs = torch.mean(softs, dim=0)\n",
        "        log_softs = torch.log(softs)\n",
        "\n",
        "        # loss cross-entropy compute\n",
        "        cross_loss = criterion(log_softs, y)\n",
        "\n",
        "        self.log('cross_loss_step', cross_loss, prog_bar=True)\n",
        "        \n",
        "        return cross_loss\n",
        "\n",
        "    def training_epoch_end(self, outputs):\n",
        "        loss = torch.stack([x['loss'] for x in outputs]).mean()       \n",
        "\n",
        "        self.log(\"train_loss\", loss, prog_bar=True)\n",
        "  \n",
        "    def validation_step(self, val_batch, batch_idx):\n",
        "        x, y = val_batch\n",
        "        \n",
        "        # predict \n",
        "        softs = self(x)\n",
        "        softs_mean = torch.mean(softs, dim=0)\n",
        "        log_softs = torch.log(softs_mean)\n",
        "\n",
        "        val_cross_loss = F.nll_loss(log_softs, y)\n",
        "\n",
        "        pred_softs = torch.stack([torch.argmax(torch.exp(k), dim=1) for k in softs])\n",
        "        \n",
        "        \n",
        "        # if at least 3 classifiers are predicted as covid set the prediction as covid\n",
        "        preds = torch.zeros(len(y)).cuda()\n",
        "        counts_preds = torch.count_nonzero(pred_softs, dim=0)\n",
        "        preds[counts_preds>=3] = 1\n",
        "        preds = preds.type(torch.cuda.ByteTensor)\n",
        "        y = y.type(torch.cuda.ByteTensor)\n",
        "\n",
        "        val_f1 = f1(preds, y, num_classes=2, average='weighted')\n",
        "        val_acc = accuracy(preds, y)\n",
        "\n",
        "        val_f1 = torch.nan_to_num(val_f1, nan=1)\n",
        "\n",
        "        self.log('val_loss_step', val_cross_loss, prog_bar=True)\n",
        "        self.log('val_acc_step', val_acc, prog_bar=True)\n",
        "        self.log('val_f1_step', val_f1, prog_bar=True)\n",
        "\n",
        "        return {\"val_loss_step\": val_cross_loss, \"val_acc_step\": val_acc,  \n",
        "                \"val_f1_step\": val_f1}\n",
        "\n",
        "    def validation_epoch_end(self, outputs):\n",
        "        val_loss = torch.stack([x['val_loss_step'] for x in outputs]).mean()\n",
        "        val_acc = torch.stack([x['val_acc_step'] for x in outputs]).mean()\n",
        "        val_f1 = torch.stack([x['val_f1_step'] for x in outputs]).mean()\n",
        "\n",
        "        self.log(\"val_loss\", val_loss, prog_bar=True)\n",
        "        self.log(\"val_acc\", val_acc, prog_bar=True)\n",
        "        self.log(\"val_f1\", val_f1, prog_bar=True)\n",
        "  \n",
        "    def test_step(self, val_batch, batch_idx):\n",
        "        # A implementação deste método é opcional no Pytorch Lightning.\n",
        "        x, y = val_batch\n",
        "        \n",
        "        # predict \n",
        "        softs = self(x)\n",
        "        softs_mean = torch.mean(softs, dim=0)\n",
        "        log_softs = torch.log(softs_mean)\n",
        "\n",
        "        cross_loss = F.nll_loss(log_softs, y)\n",
        "        \n",
        "        # predict hard-majority vote\n",
        "        # if at least 3 classifiers are predicted as covid set the prediction as covid\n",
        "        pred_softs = torch.stack([torch.argmax(torch.exp(k), dim=1) for k in softs])\n",
        "        preds = torch.zeros(len(y))\n",
        "        counts_preds = torch.count_nonzero(pred_softs, dim=0)\n",
        "        preds[counts_preds>=3] = 1\n",
        "        \n",
        "        preds = preds.type(torch.ByteTensor)\n",
        "        # y = y.cuda()\n",
        "\n",
        "        y = y.cpu().type(torch.ByteTensor)\n",
        "\n",
        "        # print(preds.shape)\n",
        "        # print(y.shape)\n",
        "        \n",
        "        # print(softs_mean)\n",
        "        # print(preds)\n",
        "        # print(y)\n",
        "        \n",
        "        acc = accuracy(preds, y)\n",
        "        f1_test = f1(softs_mean.cpu(), y)\n",
        "\n",
        "        # print('f1', f1_test)\n",
        "        # print('--------')\n",
        "        # handle bug in the f1score when all values are 0 \n",
        "        # f1_test = torch.nan_to_num(f1_test, nan=1)\n",
        "        \n",
        "        return {\"test_loss_step\": cross_loss, \"test_acc_step\": acc, \n",
        "                \"test_f1_step\": f1_test}\n",
        "\n",
        "    def test_epoch_end(self, outputs):\n",
        "        loss = torch.stack([x['test_loss_step'] for x in outputs]).mean()\n",
        "        acc = torch.stack([x['test_acc_step'] for x in outputs]).mean()\n",
        "        f1 = torch.stack([x['test_f1_step'] for x in outputs]).mean()\n",
        "\n",
        "        self.log(\"test_loss\", loss, prog_bar=True)\n",
        "        self.log(\"test_acc\", acc, prog_bar=True)\n",
        "        self.log(\"test_f1\", f1, prog_bar=True)\n",
        "    \n",
        "    def configure_optimizers(self):\n",
        "        optimizer = torch.optim.SGD(\n",
        "            self.parameters(),\n",
        "            lr=self.hparams[\"lr\"],\n",
        "            nesterov=True,\n",
        "            momentum=0.9,\n",
        "            weight_decay=self.hparams[\"w_decay\"],\n",
        "        )\n",
        "\n",
        "        scheduler = torch.optim.lr_scheduler.CosineAnnealingLR(\n",
        "                optimizer,\n",
        "                T_max = self.hparams[\"lr_epoch\"], \n",
        "                eta_min=self.hparams[\"lr_final\"]  # total epochs to run\n",
        "            )\n",
        "        return {'optimizer': optimizer, 'lr_scheduler': scheduler, 'monitor':'val_f1'}\n",
        "    \n",
        "    def train_dataloader(self):\n",
        "      return train_dataloader    "
      ],
      "execution_count": null,
      "outputs": []
    },
    {
      "cell_type": "markdown",
      "metadata": {
        "id": "piGHEa-8xnCx"
      },
      "source": [
        "## Instância do modelo"
      ]
    },
    {
      "cell_type": "code",
      "metadata": {
        "colab": {
          "base_uri": "https://localhost:8080/",
          "height": 492,
          "referenced_widgets": [
            "41d10e661fdd4dd7aec7decbdf32176e",
            "7057773d1d104b2bbd7ca60b250dc984",
            "8821e5ebe97b45539d589682a5717dd4",
            "ff4faaf749124862b21c4513c8fa9cff",
            "eb527b919b854536bc26053e16031b3b",
            "4049191d95a247b6910042f61cb23608",
            "fce3c11da5654fdc920eb885e4166836",
            "1a478471eb334e8ca137d296df45161e",
            "16d2605740f94e8faea3303c9acd5776",
            "d4e01dce273747459059aa3de3cf1ebd",
            "e3c1eb171fcc405e955bd14827b32e21",
            "c0d19423116f495786a0e8423a90aca8",
            "56c0c6c300474390b5be2ca69ce7fadc",
            "3e9794911bee4b1ebc9791cc67360ea5",
            "905028e2ce3d497787db65ff801891a1",
            "cc0676d0ec0246e4a43543a5a68a4906",
            "7b60b1bcc4994a48bbe5e71a0523879f",
            "ad8897bc40184cc3b97ac938a07b8217",
            "13855e700d564cd795ca840ccd765e78",
            "2e064b3edd154c3ab8608676ef54ef25",
            "f8cf78d6a93e469da87498a5e89f16d0",
            "f665ce58e6134e6cb967ffe06b94f81c",
            "5b78dd8113a24f9192df4aafa41b289f",
            "26ac91269e9646628524e2566b0706a5",
            "be7667942e2f4b47be6a36a96d9549cf",
            "a59ac5892d57415abb2b68bd77bb0147",
            "5be4d800ea6643b09ae81ffe671a1a22",
            "a7986bac23b84c6e80b4222e4b392778",
            "d153083a2fbf49feb8a28ae605e5d3f9",
            "3f8edbd7254f499b9b81abf7e0c44ff5",
            "508314e1fc484f7c951741b7ecea0cbe",
            "1bb148d49d224b3a9de8807f533a8821",
            "88566f65f70947f2afe7efd87b2d5048",
            "260eaadc5259421390a5db05958d8acd",
            "66a1805327c24cbbb645ab51b996b103",
            "42b8fe44dbdc4bb889b6caff33793fbb",
            "58f9c5cba8ef49e0a141cee31821304f",
            "cb74f43fd4d943a48a92ee47da5bdefb",
            "127a97c598184bca9ea67ec0486f9843",
            "6cee28e6be404a5d9e564db6e419beb0"
          ]
        },
        "id": "EPrxY_Atxld-",
        "outputId": "5eff53f3-7b0b-4828-903b-d4750ec60304"
      },
      "source": [
        "pl_model = EffnetClassifier(hparams=hparams)\n",
        "\n",
        "trainer = pl.Trainer(gpus=1)"
      ],
      "execution_count": null,
      "outputs": [
        {
          "output_type": "stream",
          "text": [
            "Downloading: \"https://github.com/lukemelas/EfficientNet-PyTorch/releases/download/1.0/adv-efficientnet-b0-b64d5a18.pth\" to /root/.cache/torch/hub/checkpoints/adv-efficientnet-b0-b64d5a18.pth\n"
          ],
          "name": "stderr"
        },
        {
          "output_type": "display_data",
          "data": {
            "application/vnd.jupyter.widget-view+json": {
              "model_id": "41d10e661fdd4dd7aec7decbdf32176e",
              "version_minor": 0,
              "version_major": 2
            },
            "text/plain": [
              "HBox(children=(FloatProgress(value=0.0, max=21389172.0), HTML(value='')))"
            ]
          },
          "metadata": {
            "tags": []
          }
        },
        {
          "output_type": "stream",
          "text": [
            "\n",
            "Loaded pretrained weights for efficientnet-b0\n"
          ],
          "name": "stdout"
        },
        {
          "output_type": "stream",
          "text": [
            "Downloading: \"https://github.com/lukemelas/EfficientNet-PyTorch/releases/download/1.0/adv-efficientnet-b1-0f3ce85a.pth\" to /root/.cache/torch/hub/checkpoints/adv-efficientnet-b1-0f3ce85a.pth\n"
          ],
          "name": "stderr"
        },
        {
          "output_type": "display_data",
          "data": {
            "application/vnd.jupyter.widget-view+json": {
              "model_id": "16d2605740f94e8faea3303c9acd5776",
              "version_minor": 0,
              "version_major": 2
            },
            "text/plain": [
              "HBox(children=(FloatProgress(value=0.0, max=31520142.0), HTML(value='')))"
            ]
          },
          "metadata": {
            "tags": []
          }
        },
        {
          "output_type": "stream",
          "text": [
            "\n",
            "Loaded pretrained weights for efficientnet-b1\n"
          ],
          "name": "stdout"
        },
        {
          "output_type": "stream",
          "text": [
            "Downloading: \"https://github.com/lukemelas/EfficientNet-PyTorch/releases/download/1.0/adv-efficientnet-b3-cdd7c0f4.pth\" to /root/.cache/torch/hub/checkpoints/adv-efficientnet-b3-cdd7c0f4.pth\n"
          ],
          "name": "stderr"
        },
        {
          "output_type": "display_data",
          "data": {
            "application/vnd.jupyter.widget-view+json": {
              "model_id": "7b60b1bcc4994a48bbe5e71a0523879f",
              "version_minor": 0,
              "version_major": 2
            },
            "text/plain": [
              "HBox(children=(FloatProgress(value=0.0, max=49390103.0), HTML(value='')))"
            ]
          },
          "metadata": {
            "tags": []
          }
        },
        {
          "output_type": "stream",
          "text": [
            "\n",
            "Loaded pretrained weights for efficientnet-b3\n"
          ],
          "name": "stdout"
        },
        {
          "output_type": "stream",
          "text": [
            "Downloading: \"https://github.com/lukemelas/EfficientNet-PyTorch/releases/download/1.0/adv-efficientnet-b4-44fb3a87.pth\" to /root/.cache/torch/hub/checkpoints/adv-efficientnet-b4-44fb3a87.pth\n"
          ],
          "name": "stderr"
        },
        {
          "output_type": "display_data",
          "data": {
            "application/vnd.jupyter.widget-view+json": {
              "model_id": "be7667942e2f4b47be6a36a96d9549cf",
              "version_minor": 0,
              "version_major": 2
            },
            "text/plain": [
              "HBox(children=(FloatProgress(value=0.0, max=78000637.0), HTML(value='')))"
            ]
          },
          "metadata": {
            "tags": []
          }
        },
        {
          "output_type": "stream",
          "text": [
            "\n",
            "Loaded pretrained weights for efficientnet-b4\n"
          ],
          "name": "stdout"
        },
        {
          "output_type": "stream",
          "text": [
            "Downloading: \"https://github.com/lukemelas/EfficientNet-PyTorch/releases/download/1.0/adv-efficientnet-b5-86493f6b.pth\" to /root/.cache/torch/hub/checkpoints/adv-efficientnet-b5-86493f6b.pth\n"
          ],
          "name": "stderr"
        },
        {
          "output_type": "display_data",
          "data": {
            "application/vnd.jupyter.widget-view+json": {
              "model_id": "88566f65f70947f2afe7efd87b2d5048",
              "version_minor": 0,
              "version_major": 2
            },
            "text/plain": [
              "HBox(children=(FloatProgress(value=0.0, max=122411812.0), HTML(value='')))"
            ]
          },
          "metadata": {
            "tags": []
          }
        },
        {
          "output_type": "stream",
          "text": [
            "\n",
            "Loaded pretrained weights for efficientnet-b5\n"
          ],
          "name": "stdout"
        },
        {
          "output_type": "stream",
          "text": [
            "GPU available: True, used: True\n",
            "TPU available: False, using: 0 TPU cores\n"
          ],
          "name": "stderr"
        }
      ]
    },
    {
      "cell_type": "markdown",
      "metadata": {
        "id": "1HbqxP2uytWb"
      },
      "source": [
        "## Teste"
      ]
    },
    {
      "cell_type": "code",
      "metadata": {
        "id": "cqnU-yz_yvu7",
        "colab": {
          "base_uri": "https://localhost:8080/"
        },
        "outputId": "f0975b7b-24ee-451f-d343-48e9f75d7cc4"
      },
      "source": [
        "best_model = '/content/drive/MyDrive/aula7_checkpoints_AP/effnetB0_covid19_finetune_imagenet_ensemble_test5-epoch=27-val_f1=0.96.ckpt'\n",
        "print(best_model)\n",
        "test_model = EffnetClassifier.load_from_checkpoint(best_model, hparams=hparams).cuda().eval()"
      ],
      "execution_count": null,
      "outputs": [
        {
          "output_type": "stream",
          "text": [
            "/content/drive/MyDrive/aula7_checkpoints_AP/effnetB0_covid19_finetune_imagenet_ensemble_test5-epoch=27-val_f1=0.96.ckpt\n",
            "Loaded pretrained weights for efficientnet-b0\n",
            "Loaded pretrained weights for efficientnet-b1\n",
            "Loaded pretrained weights for efficientnet-b3\n",
            "Loaded pretrained weights for efficientnet-b4\n",
            "Loaded pretrained weights for efficientnet-b5\n"
          ],
          "name": "stdout"
        }
      ]
    },
    {
      "cell_type": "code",
      "metadata": {
        "colab": {
          "base_uri": "https://localhost:8080/",
          "height": 240,
          "referenced_widgets": [
            "e4f0e54702cb4043bcf9ebcb0e57097d",
            "67dc460423b44e08b4e06166356a3fa9",
            "68bd2aa21a864d6e9d055ba7bff59686",
            "71baa164ecb94904aaeb57f6535dc5e6",
            "d8592cb4295a439da92fea44be43f6a4",
            "b4afafbab6534191b5fb7f9e4c5c9b09",
            "b7740747a37a4c5a88636cbf8578e8e0",
            "a0cce323b12f4e1b8261472a8dd83670"
          ]
        },
        "id": "Hngv45ZPxDHq",
        "outputId": "877174c7-c163-490b-f43a-77f03746e858"
      },
      "source": [
        "trainer.test(test_model, test_dataloader_old)"
      ],
      "execution_count": null,
      "outputs": [
        {
          "output_type": "stream",
          "text": [
            "LOCAL_RANK: 0 - CUDA_VISIBLE_DEVICES: [0]\n"
          ],
          "name": "stderr"
        },
        {
          "output_type": "display_data",
          "data": {
            "application/vnd.jupyter.widget-view+json": {
              "model_id": "e4f0e54702cb4043bcf9ebcb0e57097d",
              "version_minor": 0,
              "version_major": 2
            },
            "text/plain": [
              "HBox(children=(FloatProgress(value=1.0, bar_style='info', description='Testing', layout=Layout(flex='2'), max=…"
            ]
          },
          "metadata": {
            "tags": []
          }
        },
        {
          "output_type": "stream",
          "text": [
            "\n",
            "--------------------------------------------------------------------------------\n",
            "DATALOADER:0 TEST RESULTS\n",
            "{'test_acc': 0.9535006284713745,\n",
            " 'test_f1': 0.956177294254303,\n",
            " 'test_loss': 0.1593714952468872}\n",
            "--------------------------------------------------------------------------------\n"
          ],
          "name": "stdout"
        },
        {
          "output_type": "execute_result",
          "data": {
            "text/plain": [
              "[{'test_acc': 0.9535006284713745,\n",
              "  'test_f1': 0.956177294254303,\n",
              "  'test_loss': 0.1593714952468872}]"
            ]
          },
          "metadata": {
            "tags": []
          },
          "execution_count": 28
        }
      ]
    },
    {
      "cell_type": "code",
      "metadata": {
        "id": "WUqb98UVyxWq",
        "colab": {
          "base_uri": "https://localhost:8080/",
          "height": 240,
          "referenced_widgets": [
            "a3c32bb93d0b46ed83dd2f6e70249d31",
            "6b67016b822f4cbbb7aeb0c58e259b63",
            "e333dc6c164f4e27863b4a7afe341177",
            "06885518bcb54729b93654114b5efad7",
            "364b03b000e24663a96fece9863611e5",
            "160dde893ceb424aad4b8205ea3ceaa0",
            "d604938e4c174b8389751f5064aef1fe",
            "a72733e3932b415f95cfb5274b733fee"
          ]
        },
        "outputId": "27128639-1f6b-46dc-8522-cd76206184f7"
      },
      "source": [
        "trainer.test(test_model, test_dataloader)"
      ],
      "execution_count": null,
      "outputs": [
        {
          "output_type": "stream",
          "text": [
            "LOCAL_RANK: 0 - CUDA_VISIBLE_DEVICES: [0]\n"
          ],
          "name": "stderr"
        },
        {
          "output_type": "display_data",
          "data": {
            "application/vnd.jupyter.widget-view+json": {
              "model_id": "a3c32bb93d0b46ed83dd2f6e70249d31",
              "version_minor": 0,
              "version_major": 2
            },
            "text/plain": [
              "HBox(children=(FloatProgress(value=1.0, bar_style='info', description='Testing', layout=Layout(flex='2'), max=…"
            ]
          },
          "metadata": {
            "tags": []
          }
        },
        {
          "output_type": "stream",
          "text": [
            "\n",
            "--------------------------------------------------------------------------------\n",
            "DATALOADER:0 TEST RESULTS\n",
            "{'test_acc': 0.9559044241905212,\n",
            " 'test_f1': 0.9675441384315491,\n",
            " 'test_loss': 0.1865096092224121}\n",
            "--------------------------------------------------------------------------------\n"
          ],
          "name": "stdout"
        },
        {
          "output_type": "execute_result",
          "data": {
            "text/plain": [
              "[{'test_acc': 0.9559044241905212,\n",
              "  'test_f1': 0.9675441384315491,\n",
              "  'test_loss': 0.1865096092224121}]"
            ]
          },
          "metadata": {
            "tags": []
          },
          "execution_count": 29
        }
      ]
    },
    {
      "cell_type": "code",
      "metadata": {
        "id": "aClNtvR2bN2m"
      },
      "source": [
        "from pyeer.eer_info import get_eer_stats\n",
        "from pyeer.report import generate_eer_report, export_error_rates\n",
        "from sklearn import metrics"
      ],
      "execution_count": null,
      "outputs": []
    },
    {
      "cell_type": "code",
      "metadata": {
        "id": "6b9o2StSb6q3"
      },
      "source": [
        "# predict hard-majority vote\n",
        "def pred_emsemble(softs):\n",
        "  pred_softs = torch.stack([torch.argmax(k, dim=1) for k in softs])\n",
        "  preds = torch.zeros(len(y)).cuda()\n",
        "  counts_preds = torch.count_nonzero(pred_softs, dim=0)\n",
        "  preds[counts_preds>=3] = 1\n",
        "\n",
        "  return preds.type(torch.cuda.ByteTensor)"
      ],
      "execution_count": null,
      "outputs": []
    },
    {
      "cell_type": "markdown",
      "metadata": {
        "id": "45IevOJuxHYT"
      },
      "source": [
        "###  Dataset da aula passada"
      ]
    },
    {
      "cell_type": "code",
      "metadata": {
        "id": "QoRfnJ8Mx_oR"
      },
      "source": [
        "y_true = list()\n",
        "y_pred = list()\n",
        "y_pred_proba = list()\n",
        "test_model.eval()\n",
        "\n",
        "with torch.no_grad():\n",
        "  for batch in test_dataloader_old:\n",
        "    inputs, y = batch\n",
        "    softs = test_model(inputs.cuda())\n",
        "    softs_mean = torch.mean(softs, dim=0)\n",
        "    # print(softs_mean)\n",
        "    pred = pred_emsemble(softs)    \n",
        "    \n",
        "    y_true.append(y.cpu().numpy())\n",
        "    y_pred.append(pred.cpu().numpy())\n",
        "    y_pred_proba.append(softs_mean.cpu().numpy())\n",
        "\n",
        "y_true = np.concatenate(y_true)\n",
        "y_pred = np.concatenate(y_pred)\n",
        "y_pred_proba = np.concatenate(y_pred_proba)"
      ],
      "execution_count": null,
      "outputs": []
    },
    {
      "cell_type": "code",
      "metadata": {
        "id": "7l5wkZs9yCXf"
      },
      "source": [
        "# given the average predict probability we compute the the class using the threshold=0.5 \n",
        "y_proba_covid = y_pred_proba[:,1] # probability of covid-19\n",
        "y_pred_class = np.zeros(len(y_proba_covid))\n",
        "y_pred_class[y_proba_covid >= 0.5] = 1\n",
        "y_pred_class[y_proba_covid < 0.5] = 0"
      ],
      "execution_count": null,
      "outputs": []
    },
    {
      "cell_type": "code",
      "metadata": {
        "colab": {
          "base_uri": "https://localhost:8080/"
        },
        "id": "M_k__TIRyEXs",
        "outputId": "023a3420-5548-421f-82cf-293a8b80ce78"
      },
      "source": [
        "# f1 score (hard-majority vote)\n",
        "print('f1 - hard-majority vote:', metrics.f1_score(y_true, y_pred, average='weighted'))\n",
        "\n",
        "# f1 score\n",
        "print('f1 - soft-majority vote:', metrics.f1_score(y_true, y_pred_class, average='weighted'))\n",
        "\n",
        "# accuracy\n",
        "print('acc:', metrics.accuracy_score(y_true, y_pred))\n",
        "\n",
        "# balanced accuracy\n",
        "print('balanced acc:', metrics.balanced_accuracy_score(y_true, y_pred))"
      ],
      "execution_count": null,
      "outputs": [
        {
          "output_type": "stream",
          "text": [
            "f1 - hard-majority vote: 0.9540402130449563\n",
            "f1 - soft-majority vote: 0.9570147655411956\n",
            "acc: 0.954\n",
            "balanced acc: 0.9543132389432201\n"
          ],
          "name": "stdout"
        }
      ]
    },
    {
      "cell_type": "code",
      "metadata": {
        "colab": {
          "base_uri": "https://localhost:8080/"
        },
        "id": "gA9DeMFLo1C3",
        "outputId": "bd6a37b7-f809-4f1e-9a86-adfb501495c3"
      },
      "source": [
        "print('classification report:', metrics.classification_report(y_true, y_pred_class))"
      ],
      "execution_count": null,
      "outputs": [
        {
          "output_type": "stream",
          "text": [
            "classification report:               precision    recall  f1-score   support\n",
            "\n",
            "           0       0.96      0.96      0.96       558\n",
            "           1       0.95      0.95      0.95       442\n",
            "\n",
            "    accuracy                           0.96      1000\n",
            "   macro avg       0.96      0.96      0.96      1000\n",
            "weighted avg       0.96      0.96      0.96      1000\n",
            "\n"
          ],
          "name": "stdout"
        }
      ]
    },
    {
      "cell_type": "code",
      "metadata": {
        "id": "mZF7cQ0YyGuK"
      },
      "source": [
        "gen_scores = y_proba_covid[y_true == 1]\n",
        "imp_scores = y_proba_covid[y_true == 0]\n",
        "\n",
        "# stats = get_eer_stats(y_true, y_proba_covid, hformat=False, ds_scores=True)\n",
        "stats = get_eer_stats(gen_scores, imp_scores)"
      ],
      "execution_count": null,
      "outputs": []
    },
    {
      "cell_type": "code",
      "metadata": {
        "colab": {
          "base_uri": "https://localhost:8080/"
        },
        "id": "0LBqPWUpyKZg",
        "outputId": "f5cdea94-47e7-4233-a155-9a224c1c0f9b"
      },
      "source": [
        "print(f'EER: {stats.eer: .4f}')"
      ],
      "execution_count": null,
      "outputs": [
        {
          "output_type": "stream",
          "text": [
            "EER:  0.0450\n"
          ],
          "name": "stdout"
        }
      ]
    },
    {
      "cell_type": "code",
      "metadata": {
        "colab": {
          "base_uri": "https://localhost:8080/",
          "height": 628
        },
        "id": "NVesydisyM5S",
        "outputId": "27bdbbee-700b-4e05-b1af-1160334d1a78"
      },
      "source": [
        "plt.figure(figsize=(10,10))\n",
        "plt.plot(stats.fnmr, color='k')\n",
        "plt.plot(stats.fmr, color='gray')\n",
        "plt.plot([0,1], [stats.eer, stats.eer], color='red', linestyle='--', alpha=0.5)\n",
        "plt.xlabel('Sensitivity', fontsize=16)\n",
        "plt.ylabel('Errors', fontsize=16)\n",
        "plt.legend(['FRR (False Reject Rate)', 'FAR (False Accept Rate)'])"
      ],
      "execution_count": null,
      "outputs": [
        {
          "output_type": "execute_result",
          "data": {
            "text/plain": [
              "<matplotlib.legend.Legend at 0x7fc1fd65b4d0>"
            ]
          },
          "metadata": {
            "tags": []
          },
          "execution_count": 38
        },
        {
          "output_type": "display_data",
          "data": {
            "image/png": "[encoded data removed]",
            "text/plain": [
              "<Figure size 720x720 with 1 Axes>"
            ]
          },
          "metadata": {
            "tags": [],
            "needs_background": "light"
          }
        }
      ]
    },
    {
      "cell_type": "markdown",
      "metadata": {
        "id": "C7o15fR5xXhy"
      },
      "source": [
        "### Dataset novo dataset (Test 2)"
      ]
    },
    {
      "cell_type": "code",
      "metadata": {
        "id": "KeM3gkSbbTqM"
      },
      "source": [
        "y_true = list()\n",
        "y_pred = list()\n",
        "y_pred_proba = list()\n",
        "test_model.eval()\n",
        "\n",
        "with torch.no_grad():\n",
        "  for batch in test_dataloader:\n",
        "    inputs, y = batch\n",
        "    softs = test_model(inputs.cuda())\n",
        "    softs_mean = torch.mean(softs, dim=0)\n",
        "    # print(softs_mean)\n",
        "    pred = pred_emsemble(softs)    \n",
        "    \n",
        "    y_true.append(y.cpu().numpy())\n",
        "    y_pred.append(pred.cpu().numpy())\n",
        "    y_pred_proba.append(softs_mean.cpu().numpy())\n",
        "\n",
        "y_true = np.concatenate(y_true)\n",
        "y_pred = np.concatenate(y_pred)\n",
        "y_pred_proba = np.concatenate(y_pred_proba)"
      ],
      "execution_count": null,
      "outputs": []
    },
    {
      "cell_type": "code",
      "metadata": {
        "id": "Rvtj8ltcr62p"
      },
      "source": [
        "# given the average predict probability we compute the the class using the threshold=0.5 \n",
        "y_proba_covid = y_pred_proba[:,1] # probability of covid-19\n",
        "y_pred_class = np.zeros(len(y_proba_covid))\n",
        "y_pred_class[y_proba_covid >= 0.5] = 1\n",
        "y_pred_class[y_proba_covid < 0.5] = 0"
      ],
      "execution_count": null,
      "outputs": []
    },
    {
      "cell_type": "code",
      "metadata": {
        "colab": {
          "base_uri": "https://localhost:8080/"
        },
        "id": "9l5h3hl5Tp1y",
        "outputId": "1aafe474-6675-4867-c8af-9d22695e938a"
      },
      "source": [
        "# f1 score (hard-majority vote)\n",
        "print('f1 - hard-majority vote:', metrics.f1_score(y_true, y_pred, average='weighted'))\n",
        "\n",
        "# f1 score\n",
        "print('f1 - soft-majority vote:', metrics.f1_score(y_true, y_pred_class, average='weighted'))\n",
        "\n",
        "# accuracy\n",
        "print('acc:', metrics.accuracy_score(y_true, y_pred))\n",
        "\n",
        "# balanced accuracy\n",
        "print('balanced acc:', metrics.balanced_accuracy_score(y_true, y_pred))"
      ],
      "execution_count": null,
      "outputs": [
        {
          "output_type": "stream",
          "text": [
            "f1 - hard-majority vote: 0.9564246067029436\n",
            "f1 - soft-majority vote: 0.9595944695913862\n",
            "acc: 0.956\n",
            "balanced acc: 0.8769085699778769\n"
          ],
          "name": "stdout"
        }
      ]
    },
    {
      "cell_type": "code",
      "metadata": {
        "colab": {
          "base_uri": "https://localhost:8080/"
        },
        "id": "SxXEQlInpD5S",
        "outputId": "2b077451-5022-4556-fd1e-724d8964a16a"
      },
      "source": [
        "print('classification report:', metrics.classification_report(y_true, y_pred_class))"
      ],
      "execution_count": null,
      "outputs": [
        {
          "output_type": "stream",
          "text": [
            "classification report:               precision    recall  f1-score   support\n",
            "\n",
            "           0       0.98      0.98      0.98       909\n",
            "           1       0.79      0.76      0.78        91\n",
            "\n",
            "    accuracy                           0.96      1000\n",
            "   macro avg       0.88      0.87      0.88      1000\n",
            "weighted avg       0.96      0.96      0.96      1000\n",
            "\n"
          ],
          "name": "stdout"
        }
      ]
    },
    {
      "cell_type": "markdown",
      "metadata": {
        "id": "GMDVAHN1vf-T"
      },
      "source": [
        "Intessante é que o F1 ficou maior que a ACC o que possível\n",
        "\n",
        "https://stats.stackexchange.com/questions/365310/can-f1-score-be-higher-than-accuracy"
      ]
    },
    {
      "cell_type": "code",
      "metadata": {
        "id": "_UBmP0FRbY2y"
      },
      "source": [
        "gen_scores = y_proba_covid[y_true == 1]\n",
        "imp_scores = y_proba_covid[y_true == 0]\n",
        "\n",
        "# stats = get_eer_stats(y_true, y_proba_covid, hformat=False, ds_scores=True)\n",
        "stats = get_eer_stats(gen_scores, imp_scores)"
      ],
      "execution_count": null,
      "outputs": []
    },
    {
      "cell_type": "code",
      "metadata": {
        "colab": {
          "base_uri": "https://localhost:8080/"
        },
        "id": "bzmrQLvybasP",
        "outputId": "819df54c-2eba-4813-e684-ce1b56d40b9f"
      },
      "source": [
        "print(f'EER: {stats.eer: .4f}')"
      ],
      "execution_count": null,
      "outputs": [
        {
          "output_type": "stream",
          "text": [
            "EER:  0.0764\n"
          ],
          "name": "stdout"
        }
      ]
    },
    {
      "cell_type": "code",
      "metadata": {
        "id": "g8UVqzi6pjSV"
      },
      "source": [
        "print(f'EER th: {stats.eer_th: .4f}')"
      ],
      "execution_count": null,
      "outputs": []
    },
    {
      "cell_type": "code",
      "metadata": {
        "colab": {
          "base_uri": "https://localhost:8080/",
          "height": 628
        },
        "id": "InpA0A-xbdnU",
        "outputId": "b74ed6a3-2fad-4ac7-b1ea-f0b6b37b7a75"
      },
      "source": [
        "plt.figure(figsize=(10,10))\n",
        "plt.plot(stats.fnmr, color='k')\n",
        "plt.plot(stats.fmr, color='gray')\n",
        "plt.plot([0,1], [stats.eer, stats.eer], color='red', linestyle='--', alpha=0.5)\n",
        "plt.xlabel('Sensitivity', fontsize=16)\n",
        "plt.ylabel('Errors', fontsize=16)\n",
        "plt.legend(['FRR (False Reject Rate)', 'FAR (False Accept Rate)'])"
      ],
      "execution_count": null,
      "outputs": [
        {
          "output_type": "execute_result",
          "data": {
            "text/plain": [
              "<matplotlib.legend.Legend at 0x7fc1fd5bc910>"
            ]
          },
          "metadata": {
            "tags": []
          },
          "execution_count": 45
        },
        {
          "output_type": "display_data",
          "data": {
            "image/png": "[encoded data removed]",
            "text/plain": [
              "<Figure size 720x720 with 1 Axes>"
            ]
          },
          "metadata": {
            "tags": [],
            "needs_background": "light"
          }
        }
      ]
    },
    {
      "cell_type": "markdown",
      "metadata": {
        "id": "mFrYgLmWjTmj"
      },
      "source": [
        "# Observações Finais"
      ]
    },
    {
      "cell_type": "markdown",
      "metadata": {
        "id": "46iYMPAhjW0V"
      },
      "source": [
        "\n",
        "\n",
        "1.   Foco do trabalho foi em tentar obter um modelo robusto (não modelo com maior ACC) que não ficasse viciado no teste, por isso o uso do ensemble.\n",
        "2.   O ensemble é formado por várias EfficientNet B0, B1, B2, B3, B4\n",
        "3.   Objetivo principal é aumentar a robustez na predição\n",
        "\n",
        "\n"
      ]
    }
  ]
}