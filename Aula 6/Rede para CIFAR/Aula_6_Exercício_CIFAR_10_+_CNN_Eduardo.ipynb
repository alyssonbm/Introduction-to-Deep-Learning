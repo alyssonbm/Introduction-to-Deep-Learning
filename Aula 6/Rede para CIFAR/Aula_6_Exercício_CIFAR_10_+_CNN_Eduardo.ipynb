{
  "nbformat": 4,
  "nbformat_minor": 0,
  "metadata": {
    "anaconda-cloud": {},
    "colab": {
      "name": "Aula 6 - Exercício - CIFAR 10 + CNN - Eduardo",
      "provenance": [],
      "collapsed_sections": [
        "jTyZCjzpFPBo"
      ]
    },
    "kernelspec": {
      "display_name": "Python 3",
      "language": "python",
      "name": "python3"
    },
    "language_info": {
      "codemirror_mode": {
        "name": "ipython",
        "version": 3
      },
      "file_extension": ".py",
      "mimetype": "text/x-python",
      "name": "python",
      "nbconvert_exporter": "python",
      "pygments_lexer": "ipython3",
      "version": "3.6.5"
    },
    "toc": {
      "nav_menu": {
        "height": "318px",
        "width": "252px"
      },
      "number_sections": true,
      "sideBar": true,
      "skip_h1_title": false,
      "toc_cell": false,
      "toc_position": {},
      "toc_section_display": "block",
      "toc_window_display": false
    },
    "widgets": {
      "application/vnd.jupyter.widget-state+json": {
        "c71a9ffb8efa43e6a056e5b132fbfe96": {
          "model_module": "@jupyter-widgets/controls",
          "model_name": "HBoxModel",
          "state": {
            "_view_name": "HBoxView",
            "_dom_classes": [],
            "_model_name": "HBoxModel",
            "_view_module": "@jupyter-widgets/controls",
            "_model_module_version": "1.5.0",
            "_view_count": null,
            "_view_module_version": "1.5.0",
            "box_style": "",
            "layout": "IPY_MODEL_7792002bd2e74b45a617687e19771f52",
            "_model_module": "@jupyter-widgets/controls",
            "children": [
              "IPY_MODEL_6318dbb28f9a44e7a471a4b9e6bc8f72",
              "IPY_MODEL_2b5efa5070da4d6ca505e21c70c74c52"
            ]
          }
        },
        "7792002bd2e74b45a617687e19771f52": {
          "model_module": "@jupyter-widgets/base",
          "model_name": "LayoutModel",
          "state": {
            "_view_name": "LayoutView",
            "grid_template_rows": null,
            "right": null,
            "justify_content": null,
            "_view_module": "@jupyter-widgets/base",
            "overflow": null,
            "_model_module_version": "1.2.0",
            "_view_count": null,
            "flex_flow": null,
            "width": null,
            "min_width": null,
            "border": null,
            "align_items": null,
            "bottom": null,
            "_model_module": "@jupyter-widgets/base",
            "top": null,
            "grid_column": null,
            "overflow_y": null,
            "overflow_x": null,
            "grid_auto_flow": null,
            "grid_area": null,
            "grid_template_columns": null,
            "flex": null,
            "_model_name": "LayoutModel",
            "justify_items": null,
            "grid_row": null,
            "max_height": null,
            "align_content": null,
            "visibility": null,
            "align_self": null,
            "height": null,
            "min_height": null,
            "padding": null,
            "grid_auto_rows": null,
            "grid_gap": null,
            "max_width": null,
            "order": null,
            "_view_module_version": "1.2.0",
            "grid_template_areas": null,
            "object_position": null,
            "object_fit": null,
            "grid_auto_columns": null,
            "margin": null,
            "display": null,
            "left": null
          }
        },
        "6318dbb28f9a44e7a471a4b9e6bc8f72": {
          "model_module": "@jupyter-widgets/controls",
          "model_name": "FloatProgressModel",
          "state": {
            "_view_name": "ProgressView",
            "style": "IPY_MODEL_445642aa475147b1b38da00e40a51202",
            "_dom_classes": [],
            "description": "",
            "_model_name": "FloatProgressModel",
            "bar_style": "success",
            "max": 170498071,
            "_view_module": "@jupyter-widgets/controls",
            "_model_module_version": "1.5.0",
            "value": 170498071,
            "_view_count": null,
            "_view_module_version": "1.5.0",
            "orientation": "horizontal",
            "min": 0,
            "description_tooltip": null,
            "_model_module": "@jupyter-widgets/controls",
            "layout": "IPY_MODEL_65da08e65750418891568c333a3fc34b"
          }
        },
        "2b5efa5070da4d6ca505e21c70c74c52": {
          "model_module": "@jupyter-widgets/controls",
          "model_name": "HTMLModel",
          "state": {
            "_view_name": "HTMLView",
            "style": "IPY_MODEL_7a0cf71a10574be59ca6265c0f898320",
            "_dom_classes": [],
            "description": "",
            "_model_name": "HTMLModel",
            "placeholder": "​",
            "_view_module": "@jupyter-widgets/controls",
            "_model_module_version": "1.5.0",
            "value": " 170499072/? [00:12&lt;00:00, 13625820.65it/s]",
            "_view_count": null,
            "_view_module_version": "1.5.0",
            "description_tooltip": null,
            "_model_module": "@jupyter-widgets/controls",
            "layout": "IPY_MODEL_d35e2ececfaa4ec78bd49e51d4d66775"
          }
        },
        "445642aa475147b1b38da00e40a51202": {
          "model_module": "@jupyter-widgets/controls",
          "model_name": "ProgressStyleModel",
          "state": {
            "_view_name": "StyleView",
            "_model_name": "ProgressStyleModel",
            "description_width": "initial",
            "_view_module": "@jupyter-widgets/base",
            "_model_module_version": "1.5.0",
            "_view_count": null,
            "_view_module_version": "1.2.0",
            "bar_color": null,
            "_model_module": "@jupyter-widgets/controls"
          }
        },
        "65da08e65750418891568c333a3fc34b": {
          "model_module": "@jupyter-widgets/base",
          "model_name": "LayoutModel",
          "state": {
            "_view_name": "LayoutView",
            "grid_template_rows": null,
            "right": null,
            "justify_content": null,
            "_view_module": "@jupyter-widgets/base",
            "overflow": null,
            "_model_module_version": "1.2.0",
            "_view_count": null,
            "flex_flow": null,
            "width": null,
            "min_width": null,
            "border": null,
            "align_items": null,
            "bottom": null,
            "_model_module": "@jupyter-widgets/base",
            "top": null,
            "grid_column": null,
            "overflow_y": null,
            "overflow_x": null,
            "grid_auto_flow": null,
            "grid_area": null,
            "grid_template_columns": null,
            "flex": null,
            "_model_name": "LayoutModel",
            "justify_items": null,
            "grid_row": null,
            "max_height": null,
            "align_content": null,
            "visibility": null,
            "align_self": null,
            "height": null,
            "min_height": null,
            "padding": null,
            "grid_auto_rows": null,
            "grid_gap": null,
            "max_width": null,
            "order": null,
            "_view_module_version": "1.2.0",
            "grid_template_areas": null,
            "object_position": null,
            "object_fit": null,
            "grid_auto_columns": null,
            "margin": null,
            "display": null,
            "left": null
          }
        },
        "7a0cf71a10574be59ca6265c0f898320": {
          "model_module": "@jupyter-widgets/controls",
          "model_name": "DescriptionStyleModel",
          "state": {
            "_view_name": "StyleView",
            "_model_name": "DescriptionStyleModel",
            "description_width": "",
            "_view_module": "@jupyter-widgets/base",
            "_model_module_version": "1.5.0",
            "_view_count": null,
            "_view_module_version": "1.2.0",
            "_model_module": "@jupyter-widgets/controls"
          }
        },
        "d35e2ececfaa4ec78bd49e51d4d66775": {
          "model_module": "@jupyter-widgets/base",
          "model_name": "LayoutModel",
          "state": {
            "_view_name": "LayoutView",
            "grid_template_rows": null,
            "right": null,
            "justify_content": null,
            "_view_module": "@jupyter-widgets/base",
            "overflow": null,
            "_model_module_version": "1.2.0",
            "_view_count": null,
            "flex_flow": null,
            "width": null,
            "min_width": null,
            "border": null,
            "align_items": null,
            "bottom": null,
            "_model_module": "@jupyter-widgets/base",
            "top": null,
            "grid_column": null,
            "overflow_y": null,
            "overflow_x": null,
            "grid_auto_flow": null,
            "grid_area": null,
            "grid_template_columns": null,
            "flex": null,
            "_model_name": "LayoutModel",
            "justify_items": null,
            "grid_row": null,
            "max_height": null,
            "align_content": null,
            "visibility": null,
            "align_self": null,
            "height": null,
            "min_height": null,
            "padding": null,
            "grid_auto_rows": null,
            "grid_gap": null,
            "max_width": null,
            "order": null,
            "_view_module_version": "1.2.0",
            "grid_template_areas": null,
            "object_position": null,
            "object_fit": null,
            "grid_auto_columns": null,
            "margin": null,
            "display": null,
            "left": null
          }
        },
        "fa7fa25438e749bbb3fd0c68d5c04ff7": {
          "model_module": "@jupyter-widgets/controls",
          "model_name": "HBoxModel",
          "state": {
            "_view_name": "HBoxView",
            "_dom_classes": [],
            "_model_name": "HBoxModel",
            "_view_module": "@jupyter-widgets/controls",
            "_model_module_version": "1.5.0",
            "_view_count": null,
            "_view_module_version": "1.5.0",
            "box_style": "",
            "layout": "IPY_MODEL_ce6c7bb69825458ebe4a777ced7a950f",
            "_model_module": "@jupyter-widgets/controls",
            "children": [
              "IPY_MODEL_f8a624ec8e36446381a7a42e4963d89a",
              "IPY_MODEL_182b5511e62643d2aa2ce37a94b47d9d"
            ]
          }
        },
        "ce6c7bb69825458ebe4a777ced7a950f": {
          "model_module": "@jupyter-widgets/base",
          "model_name": "LayoutModel",
          "state": {
            "_view_name": "LayoutView",
            "grid_template_rows": null,
            "right": null,
            "justify_content": null,
            "_view_module": "@jupyter-widgets/base",
            "overflow": null,
            "_model_module_version": "1.2.0",
            "_view_count": null,
            "flex_flow": null,
            "width": null,
            "min_width": null,
            "border": null,
            "align_items": null,
            "bottom": null,
            "_model_module": "@jupyter-widgets/base",
            "top": null,
            "grid_column": null,
            "overflow_y": null,
            "overflow_x": null,
            "grid_auto_flow": null,
            "grid_area": null,
            "grid_template_columns": null,
            "flex": null,
            "_model_name": "LayoutModel",
            "justify_items": null,
            "grid_row": null,
            "max_height": null,
            "align_content": null,
            "visibility": null,
            "align_self": null,
            "height": null,
            "min_height": null,
            "padding": null,
            "grid_auto_rows": null,
            "grid_gap": null,
            "max_width": null,
            "order": null,
            "_view_module_version": "1.2.0",
            "grid_template_areas": null,
            "object_position": null,
            "object_fit": null,
            "grid_auto_columns": null,
            "margin": null,
            "display": null,
            "left": null
          }
        },
        "f8a624ec8e36446381a7a42e4963d89a": {
          "model_module": "@jupyter-widgets/controls",
          "model_name": "FloatProgressModel",
          "state": {
            "_view_name": "ProgressView",
            "style": "IPY_MODEL_6e22cd33a39748e5990c9ab4f38f225b",
            "_dom_classes": [],
            "description": "100%",
            "_model_name": "FloatProgressModel",
            "bar_style": "success",
            "max": 46827520,
            "_view_module": "@jupyter-widgets/controls",
            "_model_module_version": "1.5.0",
            "value": 46827520,
            "_view_count": null,
            "_view_module_version": "1.5.0",
            "orientation": "horizontal",
            "min": 0,
            "description_tooltip": null,
            "_model_module": "@jupyter-widgets/controls",
            "layout": "IPY_MODEL_da3295817ec54db8abe74656f3f61a01"
          }
        },
        "182b5511e62643d2aa2ce37a94b47d9d": {
          "model_module": "@jupyter-widgets/controls",
          "model_name": "HTMLModel",
          "state": {
            "_view_name": "HTMLView",
            "style": "IPY_MODEL_0f4a92959bc2460fbdfb8bee16d92c3b",
            "_dom_classes": [],
            "description": "",
            "_model_name": "HTMLModel",
            "placeholder": "​",
            "_view_module": "@jupyter-widgets/controls",
            "_model_module_version": "1.5.0",
            "value": " 44.7M/44.7M [01:06&lt;00:00, 705kB/s]",
            "_view_count": null,
            "_view_module_version": "1.5.0",
            "description_tooltip": null,
            "_model_module": "@jupyter-widgets/controls",
            "layout": "IPY_MODEL_a9b3fe344c6147b985ae78cba4e0861e"
          }
        },
        "6e22cd33a39748e5990c9ab4f38f225b": {
          "model_module": "@jupyter-widgets/controls",
          "model_name": "ProgressStyleModel",
          "state": {
            "_view_name": "StyleView",
            "_model_name": "ProgressStyleModel",
            "description_width": "initial",
            "_view_module": "@jupyter-widgets/base",
            "_model_module_version": "1.5.0",
            "_view_count": null,
            "_view_module_version": "1.2.0",
            "bar_color": null,
            "_model_module": "@jupyter-widgets/controls"
          }
        },
        "da3295817ec54db8abe74656f3f61a01": {
          "model_module": "@jupyter-widgets/base",
          "model_name": "LayoutModel",
          "state": {
            "_view_name": "LayoutView",
            "grid_template_rows": null,
            "right": null,
            "justify_content": null,
            "_view_module": "@jupyter-widgets/base",
            "overflow": null,
            "_model_module_version": "1.2.0",
            "_view_count": null,
            "flex_flow": null,
            "width": null,
            "min_width": null,
            "border": null,
            "align_items": null,
            "bottom": null,
            "_model_module": "@jupyter-widgets/base",
            "top": null,
            "grid_column": null,
            "overflow_y": null,
            "overflow_x": null,
            "grid_auto_flow": null,
            "grid_area": null,
            "grid_template_columns": null,
            "flex": null,
            "_model_name": "LayoutModel",
            "justify_items": null,
            "grid_row": null,
            "max_height": null,
            "align_content": null,
            "visibility": null,
            "align_self": null,
            "height": null,
            "min_height": null,
            "padding": null,
            "grid_auto_rows": null,
            "grid_gap": null,
            "max_width": null,
            "order": null,
            "_view_module_version": "1.2.0",
            "grid_template_areas": null,
            "object_position": null,
            "object_fit": null,
            "grid_auto_columns": null,
            "margin": null,
            "display": null,
            "left": null
          }
        },
        "0f4a92959bc2460fbdfb8bee16d92c3b": {
          "model_module": "@jupyter-widgets/controls",
          "model_name": "DescriptionStyleModel",
          "state": {
            "_view_name": "StyleView",
            "_model_name": "DescriptionStyleModel",
            "description_width": "",
            "_view_module": "@jupyter-widgets/base",
            "_model_module_version": "1.5.0",
            "_view_count": null,
            "_view_module_version": "1.2.0",
            "_model_module": "@jupyter-widgets/controls"
          }
        },
        "a9b3fe344c6147b985ae78cba4e0861e": {
          "model_module": "@jupyter-widgets/base",
          "model_name": "LayoutModel",
          "state": {
            "_view_name": "LayoutView",
            "grid_template_rows": null,
            "right": null,
            "justify_content": null,
            "_view_module": "@jupyter-widgets/base",
            "overflow": null,
            "_model_module_version": "1.2.0",
            "_view_count": null,
            "flex_flow": null,
            "width": null,
            "min_width": null,
            "border": null,
            "align_items": null,
            "bottom": null,
            "_model_module": "@jupyter-widgets/base",
            "top": null,
            "grid_column": null,
            "overflow_y": null,
            "overflow_x": null,
            "grid_auto_flow": null,
            "grid_area": null,
            "grid_template_columns": null,
            "flex": null,
            "_model_name": "LayoutModel",
            "justify_items": null,
            "grid_row": null,
            "max_height": null,
            "align_content": null,
            "visibility": null,
            "align_self": null,
            "height": null,
            "min_height": null,
            "padding": null,
            "grid_auto_rows": null,
            "grid_gap": null,
            "max_width": null,
            "order": null,
            "_view_module_version": "1.2.0",
            "grid_template_areas": null,
            "object_position": null,
            "object_fit": null,
            "grid_auto_columns": null,
            "margin": null,
            "display": null,
            "left": null
          }
        }
      }
    },
    "accelerator": "GPU"
  },
  "cells": [
    {
      "cell_type": "markdown",
      "metadata": {
        "id": "J3R2-_YuQT1r"
      },
      "source": [
        "# Treinamento de uma CNN no CIFAR 10\n",
        "\n",
        "**Nome: Eduardo Moraes Coraça**\n"
      ]
    },
    {
      "cell_type": "markdown",
      "metadata": {
        "id": "WkfGTqMVQT1u"
      },
      "source": [
        "O objetivo deste exercício é implementar e treinar uma rede convolucional que obtenha a maior acurácia no dataset de teste do CIFAR 10.\n",
        "\n",
        "Podem definir sua própria rede ou utilizar redes pré-treinadas, como a Resnet."
      ]
    },
    {
      "cell_type": "markdown",
      "metadata": {
        "id": "S6tHIO8O-ePC"
      },
      "source": [
        "## Inicializando o Neptune"
      ]
    },
    {
      "cell_type": "code",
      "metadata": {
        "colab": {
          "base_uri": "https://localhost:8080/"
        },
        "id": "WtKt7Ey7-htu",
        "outputId": "81a8723a-27f3-40a9-bb34-da20631d304d"
      },
      "source": [
        "! pip install neptune-client==0.9.1"
      ],
      "execution_count": null,
      "outputs": [
        {
          "output_type": "stream",
          "text": [
            "Collecting neptune-client==0.9.1\n",
            "\u001b[?25l  Downloading https://files.pythonhosted.org/packages/b6/25/757d8828a31dba3e684ac2bbc29b5fee54ec1d5961333c5ba18fb5dcf67f/neptune-client-0.9.1.tar.gz (209kB)\n",
            "\r\u001b[K     |█▋                              | 10kB 19.7MB/s eta 0:00:01\r\u001b[K     |███▏                            | 20kB 20.0MB/s eta 0:00:01\r\u001b[K     |████▊                           | 30kB 15.4MB/s eta 0:00:01\r\u001b[K     |██████▎                         | 40kB 13.8MB/s eta 0:00:01\r\u001b[K     |███████▉                        | 51kB 11.3MB/s eta 0:00:01\r\u001b[K     |█████████▍                      | 61kB 10.7MB/s eta 0:00:01\r\u001b[K     |███████████                     | 71kB 11.7MB/s eta 0:00:01\r\u001b[K     |████████████▌                   | 81kB 12.8MB/s eta 0:00:01\r\u001b[K     |██████████████                  | 92kB 10.9MB/s eta 0:00:01\r\u001b[K     |███████████████▋                | 102kB 10.8MB/s eta 0:00:01\r\u001b[K     |█████████████████▏              | 112kB 10.8MB/s eta 0:00:01\r\u001b[K     |██████████████████▊             | 122kB 10.8MB/s eta 0:00:01\r\u001b[K     |████████████████████▎           | 133kB 10.8MB/s eta 0:00:01\r\u001b[K     |█████████████████████▉          | 143kB 10.8MB/s eta 0:00:01\r\u001b[K     |███████████████████████▍        | 153kB 10.8MB/s eta 0:00:01\r\u001b[K     |█████████████████████████       | 163kB 10.8MB/s eta 0:00:01\r\u001b[K     |██████████████████████████▌     | 174kB 10.8MB/s eta 0:00:01\r\u001b[K     |████████████████████████████    | 184kB 10.8MB/s eta 0:00:01\r\u001b[K     |█████████████████████████████▊  | 194kB 10.8MB/s eta 0:00:01\r\u001b[K     |███████████████████████████████▎| 204kB 10.8MB/s eta 0:00:01\r\u001b[K     |████████████████████████████████| 215kB 10.8MB/s \n",
            "\u001b[?25hCollecting bravado\n",
            "  Downloading https://files.pythonhosted.org/packages/21/ed/03b0c36b5bcafbe2938ed222f9a164a6c0367ce99a9d2d502e462853571d/bravado-11.0.3-py2.py3-none-any.whl\n",
            "Requirement already satisfied: click>=7.0 in /usr/local/lib/python3.7/dist-packages (from neptune-client==0.9.1) (7.1.2)\n",
            "Collecting future>=0.17.1\n",
            "\u001b[?25l  Downloading https://files.pythonhosted.org/packages/45/0b/38b06fd9b92dc2b68d58b75f900e97884c45bedd2ff83203d933cf5851c9/future-0.18.2.tar.gz (829kB)\n",
            "\u001b[K     |████████████████████████████████| 829kB 21.4MB/s \n",
            "\u001b[?25hRequirement already satisfied: oauthlib>=2.1.0 in /usr/local/lib/python3.7/dist-packages (from neptune-client==0.9.1) (3.1.0)\n",
            "Requirement already satisfied: pandas in /usr/local/lib/python3.7/dist-packages (from neptune-client==0.9.1) (1.1.5)\n",
            "Requirement already satisfied: Pillow>=1.1.6 in /usr/local/lib/python3.7/dist-packages (from neptune-client==0.9.1) (7.1.2)\n",
            "Collecting PyJWT\n",
            "  Downloading https://files.pythonhosted.org/packages/3f/32/d5d3cab27fee7f6b22d7cd7507547ae45d52e26030fa77d1f83d0526c6e5/PyJWT-2.1.0-py3-none-any.whl\n",
            "Requirement already satisfied: requests>=2.20.0 in /usr/local/lib/python3.7/dist-packages (from neptune-client==0.9.1) (2.23.0)\n",
            "Requirement already satisfied: requests-oauthlib>=1.0.0 in /usr/local/lib/python3.7/dist-packages (from neptune-client==0.9.1) (1.3.0)\n",
            "Requirement already satisfied: six>=1.12.0 in /usr/local/lib/python3.7/dist-packages (from neptune-client==0.9.1) (1.15.0)\n",
            "Collecting websocket-client>=0.35.0\n",
            "\u001b[?25l  Downloading https://files.pythonhosted.org/packages/f7/0c/d52a2a63512a613817846d430d16a8fbe5ea56dd889e89c68facf6b91cb6/websocket_client-0.59.0-py2.py3-none-any.whl (67kB)\n",
            "\u001b[K     |████████████████████████████████| 71kB 8.3MB/s \n",
            "\u001b[?25hCollecting GitPython>=2.0.8\n",
            "\u001b[?25l  Downloading https://files.pythonhosted.org/packages/a6/99/98019716955ba243657daedd1de8f3a88ca1f5b75057c38e959db22fb87b/GitPython-3.1.14-py3-none-any.whl (159kB)\n",
            "\u001b[K     |████████████████████████████████| 163kB 34.4MB/s \n",
            "\u001b[?25hRequirement already satisfied: packaging in /usr/local/lib/python3.7/dist-packages (from neptune-client==0.9.1) (20.9)\n",
            "Requirement already satisfied: urllib3 in /usr/local/lib/python3.7/dist-packages (from neptune-client==0.9.1) (1.24.3)\n",
            "Collecting monotonic\n",
            "  Downloading https://files.pythonhosted.org/packages/9a/67/7e8406a29b6c45be7af7740456f7f37025f0506ae2e05fb9009a53946860/monotonic-1.6-py2.py3-none-any.whl\n",
            "Requirement already satisfied: pyyaml in /usr/local/lib/python3.7/dist-packages (from bravado->neptune-client==0.9.1) (3.13)\n",
            "Requirement already satisfied: python-dateutil in /usr/local/lib/python3.7/dist-packages (from bravado->neptune-client==0.9.1) (2.8.1)\n",
            "Requirement already satisfied: msgpack in /usr/local/lib/python3.7/dist-packages (from bravado->neptune-client==0.9.1) (1.0.2)\n",
            "Collecting bravado-core>=5.16.1\n",
            "\u001b[?25l  Downloading https://files.pythonhosted.org/packages/76/11/18e9d28a156c33f2d5f15a5e155dc7130250acb0a569255a2b6b307b596d/bravado_core-5.17.0-py2.py3-none-any.whl (67kB)\n",
            "\u001b[K     |████████████████████████████████| 71kB 8.3MB/s \n",
            "\u001b[?25hRequirement already satisfied: typing-extensions in /usr/local/lib/python3.7/dist-packages (from bravado->neptune-client==0.9.1) (3.7.4.3)\n",
            "Collecting simplejson\n",
            "\u001b[?25l  Downloading https://files.pythonhosted.org/packages/a8/04/377418ac1e530ce2a196b54c6552c018fdf1fe776718053efb1f216bffcd/simplejson-3.17.2-cp37-cp37m-manylinux2010_x86_64.whl (128kB)\n",
            "\u001b[K     |████████████████████████████████| 133kB 36.7MB/s \n",
            "\u001b[?25hRequirement already satisfied: numpy>=1.15.4 in /usr/local/lib/python3.7/dist-packages (from pandas->neptune-client==0.9.1) (1.19.5)\n",
            "Requirement already satisfied: pytz>=2017.2 in /usr/local/lib/python3.7/dist-packages (from pandas->neptune-client==0.9.1) (2018.9)\n",
            "Requirement already satisfied: certifi>=2017.4.17 in /usr/local/lib/python3.7/dist-packages (from requests>=2.20.0->neptune-client==0.9.1) (2020.12.5)\n",
            "Requirement already satisfied: chardet<4,>=3.0.2 in /usr/local/lib/python3.7/dist-packages (from requests>=2.20.0->neptune-client==0.9.1) (3.0.4)\n",
            "Requirement already satisfied: idna<3,>=2.5 in /usr/local/lib/python3.7/dist-packages (from requests>=2.20.0->neptune-client==0.9.1) (2.10)\n",
            "Collecting gitdb<5,>=4.0.1\n",
            "\u001b[?25l  Downloading https://files.pythonhosted.org/packages/ea/e8/f414d1a4f0bbc668ed441f74f44c116d9816833a48bf81d22b697090dba8/gitdb-4.0.7-py3-none-any.whl (63kB)\n",
            "\u001b[K     |████████████████████████████████| 71kB 8.3MB/s \n",
            "\u001b[?25hRequirement already satisfied: pyparsing>=2.0.2 in /usr/local/lib/python3.7/dist-packages (from packaging->neptune-client==0.9.1) (2.4.7)\n",
            "Collecting swagger-spec-validator>=2.0.1\n",
            "  Downloading https://files.pythonhosted.org/packages/09/de/e78cefbf5838b434b63a789264b79821cb2267f1498fbed23ef8590133e4/swagger_spec_validator-2.7.3-py2.py3-none-any.whl\n",
            "Collecting jsonref\n",
            "  Downloading https://files.pythonhosted.org/packages/07/92/f8e4ac824b14af77e613984e480fa818397c72d4141fc466decb26752749/jsonref-0.2-py3-none-any.whl\n",
            "Requirement already satisfied: jsonschema[format]>=2.5.1 in /usr/local/lib/python3.7/dist-packages (from bravado-core>=5.16.1->bravado->neptune-client==0.9.1) (2.6.0)\n",
            "Collecting smmap<5,>=3.0.1\n",
            "  Downloading https://files.pythonhosted.org/packages/68/ee/d540eb5e5996eb81c26ceffac6ee49041d473bc5125f2aa995cf51ec1cf1/smmap-4.0.0-py2.py3-none-any.whl\n",
            "Collecting rfc3987; extra == \"format\"\n",
            "  Downloading https://files.pythonhosted.org/packages/65/d4/f7407c3d15d5ac779c3dd34fbbc6ea2090f77bd7dd12f207ccf881551208/rfc3987-1.3.8-py2.py3-none-any.whl\n",
            "Collecting strict-rfc3339; extra == \"format\"\n",
            "  Downloading https://files.pythonhosted.org/packages/56/e4/879ef1dbd6ddea1c77c0078cd59b503368b0456bcca7d063a870ca2119d3/strict-rfc3339-0.7.tar.gz\n",
            "Collecting webcolors; extra == \"format\"\n",
            "  Downloading https://files.pythonhosted.org/packages/12/05/3350559de9714b202e443a9e6312937341bd5f79f4e4f625744295e7dd17/webcolors-1.11.1-py3-none-any.whl\n",
            "Building wheels for collected packages: neptune-client, future, strict-rfc3339\n",
            "  Building wheel for neptune-client (setup.py) ... \u001b[?25l\u001b[?25hdone\n",
            "  Created wheel for neptune-client: filename=neptune_client-0.9.1-py2.py3-none-any.whl size=371716 sha256=98c4f09d78371fcb0bdbd56b31fbd4c409d107c8ca9176d8e5f0432d1b1a7adb\n",
            "  Stored in directory: /root/.cache/pip/wheels/6e/d4/60/21005f18273566da0463587bed8c69cce7f300a404edf26df8\n",
            "  Building wheel for future (setup.py) ... \u001b[?25l\u001b[?25hdone\n",
            "  Created wheel for future: filename=future-0.18.2-cp37-none-any.whl size=491058 sha256=9c9ccc653da9aea085d9d446a1927ea2a2761451acbcec551a798cb1312b695f\n",
            "  Stored in directory: /root/.cache/pip/wheels/8b/99/a0/81daf51dcd359a9377b110a8a886b3895921802d2fc1b2397e\n",
            "  Building wheel for strict-rfc3339 (setup.py) ... \u001b[?25l\u001b[?25hdone\n",
            "  Created wheel for strict-rfc3339: filename=strict_rfc3339-0.7-cp37-none-any.whl size=18121 sha256=70cc880fe32334c3318aff398d602b79280f261d8c8b65d5892265c8d3b1991a\n",
            "  Stored in directory: /root/.cache/pip/wheels/bb/af/c9/b6e9fb5f9b2470e4ed2a7241c9ab3a8cdd3bc8555ae02ca2e6\n",
            "Successfully built neptune-client future strict-rfc3339\n",
            "Installing collected packages: monotonic, swagger-spec-validator, jsonref, simplejson, bravado-core, bravado, future, PyJWT, websocket-client, smmap, gitdb, GitPython, neptune-client, rfc3987, strict-rfc3339, webcolors\n",
            "  Found existing installation: future 0.16.0\n",
            "    Uninstalling future-0.16.0:\n",
            "      Successfully uninstalled future-0.16.0\n",
            "Successfully installed GitPython-3.1.14 PyJWT-2.1.0 bravado-11.0.3 bravado-core-5.17.0 future-0.18.2 gitdb-4.0.7 jsonref-0.2 monotonic-1.6 neptune-client-0.9.1 rfc3987-1.3.8 simplejson-3.17.2 smmap-4.0.0 strict-rfc3339-0.7 swagger-spec-validator-2.7.3 webcolors-1.11.1 websocket-client-0.59.0\n"
          ],
          "name": "stdout"
        }
      ]
    },
    {
      "cell_type": "code",
      "metadata": {
        "colab": {
          "base_uri": "https://localhost:8080/"
        },
        "id": "mgE0kR_P-iea",
        "outputId": "eb64a2d4-4442-48b8-ba4a-9387051b4e68"
      },
      "source": [
        "import neptune.new as neptune\n",
        "\n",
        "# Insira seu api_token para logar os resultados do treino na sua conta do Neptune.\n",
        "# Como obter seu API token do Neptune:\n",
        "# https://docs.neptune.ai/administration/security-and-privacy/how-to-find-and-set-neptune-api-token\n",
        "\n",
        "run = neptune.init(project='eduardocoraca/aula6', api_token='eyJhcGlfYWRkcmVzcyI6Imh0dHBzOi8vYXBwLm5lcHR1bmUuYWkiLCJhcGlfdXJsIjoiaHR0cHM6Ly9hcHAubmVwdHVuZS5haSIsImFwaV9rZXkiOiJmMzZmYmY3MC01NWJjLTQ1MjItYmVjMC0zNGNjNGZiMDA4YzcifQ==')"
      ],
      "execution_count": null,
      "outputs": [
        {
          "output_type": "stream",
          "text": [
            "https://app.neptune.ai/eduardocoraca/aula6/e/A6-6\n"
          ],
          "name": "stdout"
        }
      ]
    },
    {
      "cell_type": "markdown",
      "metadata": {
        "id": "wFNf4RPxQT1w"
      },
      "source": [
        "## Importação das bibliotecas"
      ]
    },
    {
      "cell_type": "code",
      "metadata": {
        "colab": {
          "base_uri": "https://localhost:8080/"
        },
        "id": "-fLUSHaCQT1x",
        "outputId": "dd0afa34-e5d4-474a-c396-2aebde3b91aa"
      },
      "source": [
        "%matplotlib inline\n",
        "import numpy as np\n",
        "\n",
        "import torch\n",
        "from torch.utils.data import DataLoader\n",
        "\n",
        "import torchvision\n",
        "from torchvision.datasets import MNIST\n",
        "\n",
        "torch.manual_seed(123)"
      ],
      "execution_count": null,
      "outputs": [
        {
          "output_type": "execute_result",
          "data": {
            "text/plain": [
              "<torch._C.Generator at 0x7f82e2d12b10>"
            ]
          },
          "metadata": {
            "tags": []
          },
          "execution_count": 3
        }
      ]
    },
    {
      "cell_type": "markdown",
      "metadata": {
        "id": "76PDhfUW6Afv"
      },
      "source": [
        "## Download do Dataset"
      ]
    },
    {
      "cell_type": "code",
      "metadata": {
        "colab": {
          "base_uri": "https://localhost:8080/",
          "height": 122,
          "referenced_widgets": [
            "c71a9ffb8efa43e6a056e5b132fbfe96",
            "7792002bd2e74b45a617687e19771f52",
            "6318dbb28f9a44e7a471a4b9e6bc8f72",
            "2b5efa5070da4d6ca505e21c70c74c52",
            "445642aa475147b1b38da00e40a51202",
            "65da08e65750418891568c333a3fc34b",
            "7a0cf71a10574be59ca6265c0f898320",
            "d35e2ececfaa4ec78bd49e51d4d66775"
          ]
        },
        "id": "G0dEKCn-QT17",
        "outputId": "5db4efb6-93b2-44ce-bffa-b574176bdb46"
      },
      "source": [
        "!mkdir ./data\n",
        "\n",
        "transform = torchvision.transforms.Compose(\n",
        "    [torchvision.transforms.ToTensor(),\n",
        "     torchvision.transforms.Normalize((0.5, 0.5, 0.5), (0.5, 0.5, 0.5))])\n",
        "\n",
        "train_dataset = torchvision.datasets.CIFAR10(root='./data', train=True,\n",
        "                                             download=True, transform=transform)\n",
        "\n",
        "test_dataset = torchvision.datasets.CIFAR10(root='./data', train=False,\n",
        "                                            download=True, transform=transform)\n"
      ],
      "execution_count": null,
      "outputs": [
        {
          "output_type": "stream",
          "text": [
            "Downloading https://www.cs.toronto.edu/~kriz/cifar-10-python.tar.gz to ./data/cifar-10-python.tar.gz\n"
          ],
          "name": "stdout"
        },
        {
          "output_type": "display_data",
          "data": {
            "application/vnd.jupyter.widget-view+json": {
              "model_id": "c71a9ffb8efa43e6a056e5b132fbfe96",
              "version_minor": 0,
              "version_major": 2
            },
            "text/plain": [
              "HBox(children=(FloatProgress(value=0.0, max=170498071.0), HTML(value='')))"
            ]
          },
          "metadata": {
            "tags": []
          }
        },
        {
          "output_type": "stream",
          "text": [
            "\n",
            "Extracting ./data/cifar-10-python.tar.gz to ./data\n",
            "Files already downloaded and verified\n"
          ],
          "name": "stdout"
        }
      ]
    },
    {
      "cell_type": "markdown",
      "metadata": {
        "id": "jEMUsfJpQT11"
      },
      "source": [
        "## Dataset e dataloader"
      ]
    },
    {
      "cell_type": "code",
      "metadata": {
        "id": "K9sXttHBTzCM"
      },
      "source": [
        "train_size = 40000\n",
        "val_size = 10000\n",
        "train_dataset, val_dataset = torch.utils.data.random_split(train_dataset, [train_size, val_size])"
      ],
      "execution_count": null,
      "outputs": []
    },
    {
      "cell_type": "code",
      "metadata": {
        "colab": {
          "base_uri": "https://localhost:8080/"
        },
        "id": "w52KGYlIQT2A",
        "outputId": "05027730-dfc6-4eb1-8ad9-722364c96b82"
      },
      "source": [
        "batch_size = 50\n",
        "\n",
        "train_dataloader = DataLoader(train_dataset, batch_size=batch_size, shuffle=True)\n",
        "val_dataloader = DataLoader(val_dataset, batch_size=batch_size, shuffle=False)\n",
        "test_dataloader = DataLoader(test_dataset, batch_size=batch_size, shuffle=False)\n",
        "\n",
        "print('Número de minibatches de trenamento:', len(train_dataloader))\n",
        "print('Número de minibatches de validação:', len(val_dataloader))\n",
        "print('Número de minibatches de teste:', len(test_dataloader))\n",
        "\n",
        "x_train, y_train = next(iter(train_dataloader))\n",
        "print(\"\\nDimensões dos dados de um minibatch:\", x_train.size())\n",
        "print(\"Valores mínimo e máximo dos pixels: \", torch.min(x_train), torch.max(x_train))\n",
        "print(\"Tipo dos dados das imagens:         \", type(x_train))\n",
        "print(\"Tipo das classes das imagens:       \", type(y_train))"
      ],
      "execution_count": null,
      "outputs": [
        {
          "output_type": "stream",
          "text": [
            "Número de minibatches de trenamento: 800\n",
            "Número de minibatches de validação: 200\n",
            "Número de minibatches de teste: 200\n",
            "\n",
            "Dimensões dos dados de um minibatch: torch.Size([50, 3, 32, 32])\n",
            "Valores mínimo e máximo dos pixels:  tensor(-1.) tensor(1.)\n",
            "Tipo dos dados das imagens:          <class 'torch.Tensor'>\n",
            "Tipo das classes das imagens:        <class 'torch.Tensor'>\n"
          ],
          "name": "stdout"
        }
      ]
    },
    {
      "cell_type": "code",
      "metadata": {
        "id": "9yBXqGDPAPXM"
      },
      "source": [
        "# Use True, para usar o pytorch lightning original\n",
        "pl_original = False"
      ],
      "execution_count": null,
      "outputs": []
    },
    {
      "cell_type": "markdown",
      "metadata": {
        "id": "jTyZCjzpFPBo"
      },
      "source": [
        "## Usando o Pytorch Lightining \"SuperLight\" (criado apenas para o curso).\n",
        "\n",
        "Criamos um Pytorch Lightning \"básico\" que esperamos ser mais didático que o original pois o código é facil de entender caso ocorra algum erro.\n",
        "\n",
        "As classes `LightningModule` e `Trainer` não precisam ser implementadas. Entretanto, para cada nova tarefa, uma classe que herda do `LightningModule` precisa ser definida e os seguintes métodos devem ser implementados:\n",
        "\n",
        " - \\_\\_init\\_\\_\n",
        " - forward\n",
        " - train_step\n",
        " - train_epoch_end\n",
        " - validation_step\n",
        " - validation_epoch_end\n",
        " - configure_optimizers\n",
        "\n",
        "Os métodos `test_step` e `test_epoch_end` devem ser implementados apenas se trainer.test() for chamado.\n"
      ]
    },
    {
      "cell_type": "code",
      "metadata": {
        "id": "_nKeJycqGEqL"
      },
      "source": [
        "import abc\n",
        "\n",
        "\n",
        "class LightningModule:\n",
        "    @abc.abstractmethod\n",
        "    def __init(self):\n",
        "        return\n",
        "\n",
        "    @abc.abstractmethod\n",
        "    def forward(self):\n",
        "        return\n",
        "\n",
        "    @abc.abstractmethod    \n",
        "    def training_step(self):\n",
        "        return \n",
        "\n",
        "    @abc.abstractmethod    \n",
        "    def training_epoch_end(self):\n",
        "        return \n",
        "\n",
        "    @abc.abstractmethod    \n",
        "    def validation_step(self):\n",
        "        return \n",
        "\n",
        "    @abc.abstractmethod    \n",
        "    def validation_epoch_end(self):\n",
        "        return \n",
        "\n",
        "    @abc.abstractmethod    \n",
        "    def test_step(self):\n",
        "        return \n",
        "\n",
        "    @abc.abstractmethod    \n",
        "    def test_epoch_end(self):\n",
        "        return\n",
        "\n",
        "    @abc.abstractmethod\n",
        "    def configure_optimizers(self):\n",
        "        return"
      ],
      "execution_count": null,
      "outputs": []
    },
    {
      "cell_type": "code",
      "metadata": {
        "id": "njy9UHW2FOmm"
      },
      "source": [
        "class Trainer():\n",
        "    def __init__(self, max_epochs: int, gpus: int = 1):\n",
        "        self.max_epochs = max_epochs\n",
        "        dev = \"cpu\" \n",
        "        if gpus > 0:\n",
        "            if torch.cuda.is_available(): \n",
        "                dev = \"cuda:0\"\n",
        "\n",
        "        print(f'Using {dev}')\n",
        "        self.device = torch.device(dev)\n",
        "\n",
        "    def fit(self, model, train_dataloader, val_dataloader=None):\n",
        "        assert isinstance(model, LightningModule)\n",
        "        best_valid_loss = 10e9\n",
        "        optimizers, _ = model.configure_optimizers()\n",
        "        optimizer = optimizers[0]\n",
        "        model.model.to(self.device)\n",
        "        \n",
        "        for i in range(self.max_epochs):\n",
        "            outputs = []\n",
        "            model.model.train()\n",
        "            for batch_idx, (x_train, y_train) in enumerate(train_dataloader):\n",
        "                x_train = x_train.to(self.device)\n",
        "                y_train = y_train.to(self.device)\n",
        "                output_dict = model.training_step((x_train, y_train), batch_idx)\n",
        "                loss = output_dict['loss']\n",
        "                # zero, backpropagation, ajusta parâmetros pelo gradiente descendente\n",
        "                optimizer.zero_grad()\n",
        "                loss.backward()\n",
        "                optimizer.step()\n",
        "                outputs.append(output_dict)\n",
        "\n",
        "            model.training_epoch_end(outputs=outputs)\n",
        "            \n",
        "            # Laço de Validação, um a cada época.\n",
        "            if val_dataloader:\n",
        "                output_val_end = self.validate(model, val_dataloader)\n",
        "                print(f'Epoch {i} - {output_val_end[\"progress_bar\"]}')\n",
        "                # Salvando o melhor modelo de acordo com a loss de validação.\n",
        "                if output_val_end['valid_loss'] < best_valid_loss:\n",
        "                    torch.save(model.model.state_dict(), 'best_model.pt')\n",
        "                    best_valid_loss = output_val_end['valid_loss']\n",
        "\n",
        "    def validate(self, model, val_dataloader):\n",
        "        outputs = []\n",
        "        model.model.eval()\n",
        "        with torch.no_grad():\n",
        "            for batch_idx, (x, y) in enumerate(val_dataloader):\n",
        "                x = x.to(self.device)\n",
        "                y = y.to(self.device)\n",
        "                output_dict = model.validation_step((x, y), batch_idx)\n",
        "                outputs.append(output_dict)\n",
        "\n",
        "        output_dict = model.validation_epoch_end(outputs=outputs)\n",
        "        return output_dict\n",
        "\n",
        "    def test(self, model, test_dataloader):\n",
        "        outputs = []\n",
        "        model.model.eval()\n",
        "        with torch.no_grad():\n",
        "            for batch_idx, (x, y) in enumerate(test_dataloader):\n",
        "                x = x.to(self.device)\n",
        "                y = y.to(self.device)\n",
        "                output_dict = model.test_step((x, y), batch_idx)\n",
        "                outputs.append(output_dict)\n",
        "\n",
        "        output_dict = model.test_epoch_end(outputs=outputs)\n",
        "        return output_dict"
      ],
      "execution_count": null,
      "outputs": []
    },
    {
      "cell_type": "code",
      "metadata": {
        "id": "smhZCgUPwp0o"
      },
      "source": [
        "if pl_original:\n",
        "    !pip install pytorch_lightning\n",
        "    from pytorch_lightning import LightningModule, Trainer"
      ],
      "execution_count": null,
      "outputs": []
    },
    {
      "cell_type": "markdown",
      "metadata": {
        "id": "tdSWS3G2-mxl"
      },
      "source": [
        "# Arquitetura própria"
      ]
    },
    {
      "cell_type": "markdown",
      "metadata": {
        "id": "BQA9Zg7GQT2G"
      },
      "source": [
        "## Definindo o Modelo"
      ]
    },
    {
      "cell_type": "code",
      "metadata": {
        "id": "_8Eg4h_kQT2H"
      },
      "source": [
        "class Modelo(torch.nn.Module):\n",
        "    def __init__(self):\n",
        "        super(Modelo, self).__init__()\n",
        "\n",
        "        # Defina seu modelo aqui.\n",
        "        #self.dense = torch.nn.Sequential(\n",
        "        #    torch.nn.Linear(32*32*3, 500),\n",
        "        #    torch.nn.ReLU(),\n",
        "        #    torch.nn.Linear(500, 10),\n",
        "        #)\n",
        "        self.cnn = torch.nn.Sequential(\n",
        "            # camada 1\n",
        "            torch.nn.Conv2d(3, 16, (3,3)), # dim: (16,30,30)\n",
        "            torch.nn.BatchNorm2d(16),\n",
        "            torch.nn.ReLU(),\n",
        "            torch.nn.MaxPool2d((2,2)), # dim: (16,15,15)\n",
        "            # camada 2\n",
        "            torch.nn.Conv2d(16, 64, (3,3)), # dim: (64,13,13)\n",
        "            torch.nn.BatchNorm2d(64),\n",
        "            torch.nn.ReLU(),\n",
        "            torch.nn.MaxPool2d((2,2)), # dim: (64,6,6)\n",
        "            # camada 3\n",
        "            torch.nn.Conv2d(64, 128, (3,3)), # dim: (128,4,4)\n",
        "            torch.nn.BatchNorm2d(128),\n",
        "            torch.nn.ReLU(),\n",
        "            torch.nn.MaxPool2d((2,2)) # dim: (128,2,2)\n",
        "        )\n",
        "        self.dense = torch.nn.Sequential(\n",
        "            # dense 1\n",
        "            torch.nn.Dropout(0.5),\n",
        "            torch.nn.Linear(128*2*2,100),\n",
        "            torch.nn.ReLU(),\n",
        "            torch.nn.Dropout(0.1),\n",
        "            # dense 2\n",
        "            torch.nn.Linear(100,10)\n",
        "        )\n",
        "\n",
        "    def forward(self, x):\n",
        "        x = self.cnn(x)\n",
        "        x = x.reshape(-1,128*2*2)\n",
        "        return self.dense(x)"
      ],
      "execution_count": null,
      "outputs": []
    },
    {
      "cell_type": "code",
      "metadata": {
        "colab": {
          "base_uri": "https://localhost:8080/"
        },
        "id": "H4SGI3J4AOMm",
        "outputId": "19c577ef-f404-468b-a4dd-4dc1d62eb0e7"
      },
      "source": [
        "m = Modelo()\n",
        "m.forward(x_train).shape"
      ],
      "execution_count": null,
      "outputs": [
        {
          "output_type": "execute_result",
          "data": {
            "text/plain": [
              "torch.Size([50, 10])"
            ]
          },
          "metadata": {
            "tags": []
          },
          "execution_count": 12
        }
      ]
    },
    {
      "cell_type": "markdown",
      "metadata": {
        "id": "PpTybLHCKVqw"
      },
      "source": [
        "## Criação do modelo Pytorch Lightning"
      ]
    },
    {
      "cell_type": "code",
      "metadata": {
        "id": "C-9tbSvrKcSL"
      },
      "source": [
        "class LightningClassifier(LightningModule):\n",
        "    def __init__(self, hparams):\n",
        "        super().__init__()\n",
        "\n",
        "        self.hparams = hparams\n",
        "        self.criterion = torch.nn.CrossEntropyLoss(reduction='none')\n",
        "\n",
        "        # Note como a arquitetura esta dependente dos hiperparâmetros salvos.\n",
        "        self.model = Modelo()\n",
        "\n",
        "    def forward(self, x):\n",
        "        logits = self.model(x)\n",
        "        preds = logits.argmax(dim=1)\n",
        "        return logits, preds\n",
        "\n",
        "    def training_step(self, train_batch, batch_idx):\n",
        "        x, y = train_batch\n",
        "        # x = x.reshape(-1, 32*32*3) passo não utilizado\n",
        "        # predict da rede\n",
        "        logits = self.model(x)\n",
        "\n",
        "        # calcula a perda\n",
        "        batch_losses = self.criterion(logits, y)\n",
        "        loss = batch_losses.mean()\n",
        "        run['train/batch_loss'].log(loss)\n",
        "\n",
        "        # O PL sempre espera um retorno nomeado 'loss' da training_step.\n",
        "        return {'loss': loss, 'batch_losses': batch_losses}\n",
        "\n",
        "    def training_epoch_end(self, outputs):\n",
        "        avg_loss = torch.stack([output['batch_losses'] for output in outputs]).mean()\n",
        "\n",
        "        run['train/loss'].log(avg_loss)\n",
        "        return\n",
        "  \n",
        "    def validation_step(self, val_batch, batch_idx):\n",
        "        x, y = val_batch\n",
        "        \n",
        "        # Transforma a entrada para duas dimensões\n",
        "        # x = x.reshape(-1, 32*32*3) passo não utilizado\n",
        "        # predict da rede\n",
        "        logits, preds = self.forward(x)\n",
        "\n",
        "        # calcula a perda\n",
        "        batch_losses = self.criterion(logits, y)\n",
        "        # calcula a acurácia\n",
        "        batch_accuracy = (preds == y)\n",
        "        \n",
        "        # Retornamos as losses do batch para podermos fazer a média no validation_epoch_end.\n",
        "        return {'batch_losses': batch_losses, 'batch_accuracy': batch_accuracy}\n",
        "\n",
        "    def validation_epoch_end(self, outputs):\n",
        "        avg_loss = torch.stack([output['batch_losses'] for output in outputs]).mean()\n",
        "        accuracy = torch.stack([output['batch_accuracy'] for output in outputs]).float().mean()\n",
        "\n",
        "        run['valid/loss'].log(avg_loss)\n",
        "        run['valid/acuracy'].log(accuracy)\n",
        "\n",
        "        metrics = {'valid_loss': avg_loss.item(), 'accuracy': accuracy.item()}\n",
        "        output =  {'progress_bar': metrics, 'valid_loss': avg_loss.item()}\n",
        "        return output\n",
        "  \n",
        "    def test_step(self, val_batch, batch_idx):\n",
        "        # A implementação deste método é opcional no Pytorch Lightning.\n",
        "        x, y = val_batch\n",
        "        \n",
        "        # Transforma a entrada para duas dimensões\n",
        "        # x = x.reshape(-1, 32*32*3) passo não utilizado\n",
        "        # predict da rede\n",
        "        logits, preds = self.forward(x)\n",
        "\n",
        "        # calcula a perda\n",
        "        batch_losses = self.criterion(logits, y)\n",
        "        # calcula a acurácia\n",
        "        batch_accuracy = (preds == y)\n",
        "        \n",
        "        # Retornamos as losses do batch para podermos fazer a média no validation_epoch_end.\n",
        "        return {'batch_losses': batch_losses, 'batch_accuracy': batch_accuracy}\n",
        "\n",
        "    def test_epoch_end(self, outputs):\n",
        "        # A implementação deste método é opcional no Pytorch Lightning.\n",
        "        avg_loss = torch.stack([output['batch_losses'] for output in outputs]).mean()\n",
        "        accuracy = torch.stack([output['batch_accuracy'] for output in outputs]).float().mean()\n",
        "\n",
        "        run['valid/loss'].log(avg_loss)\n",
        "        run['valid/acuracy'].log(accuracy)\n",
        "        metrics = {'Test loss': avg_loss.item(), 'test accuracy': accuracy.item()}\n",
        "        output =  {'progress_bar': metrics}\n",
        "        return output\n",
        "\n",
        "    def configure_optimizers(self):\n",
        "        # Gradiente descendente\n",
        "        optimizer = torch.optim.SGD(self.model.parameters(), lr=self.hparams['learning_rate'])\n",
        "        # Aqui usamos um scheduler dummy pois o pytorch lightning original requer um.\n",
        "        scheduler = torch.optim.lr_scheduler.MultiplicativeLR(optimizer, lr_lambda=lambda epoch: 1.0)\n",
        "        return [optimizer], [scheduler]  # Forma de retorno para associar um otimizador a um scheduler."
      ],
      "execution_count": null,
      "outputs": []
    },
    {
      "cell_type": "markdown",
      "metadata": {
        "id": "nqs2JhJoQT2L"
      },
      "source": [
        "## Inicialização dos parâmetros"
      ]
    },
    {
      "cell_type": "code",
      "metadata": {
        "id": "oZuYEkn_QT2M"
      },
      "source": [
        "hparams = {\n",
        "    'max_epochs': 100,\n",
        "    'learning_rate': 0.1\n",
        "}"
      ],
      "execution_count": null,
      "outputs": []
    },
    {
      "cell_type": "markdown",
      "metadata": {
        "id": "pmXarXeIQT2O"
      },
      "source": [
        "## Treinamento"
      ]
    },
    {
      "cell_type": "code",
      "metadata": {
        "id": "L5T_jZZPQT2P"
      },
      "source": [
        "pl_model = LightningClassifier(hparams=hparams)\n",
        "trainer = Trainer(max_epochs=hparams['max_epochs'])\n",
        "trainer.fit(pl_model, train_dataloader, val_dataloader)"
      ],
      "execution_count": null,
      "outputs": []
    },
    {
      "cell_type": "markdown",
      "metadata": {
        "id": "qBGYUaQnIOTu"
      },
      "source": [
        "## Teste"
      ]
    },
    {
      "cell_type": "code",
      "metadata": {
        "id": "eDaayYS8IRIC",
        "colab": {
          "base_uri": "https://localhost:8080/"
        },
        "outputId": "db45e954-05df-4a13-f8b7-d07a04fa7e3d"
      },
      "source": [
        "trainer.test(pl_model, test_dataloader)"
      ],
      "execution_count": null,
      "outputs": [
        {
          "output_type": "execute_result",
          "data": {
            "text/plain": [
              "{'progress_bar': {'Test loss': 0.670904278755188,\n",
              "  'test accuracy': 0.7680000066757202}}"
            ]
          },
          "metadata": {
            "tags": []
          },
          "execution_count": 16
        }
      ]
    },
    {
      "cell_type": "markdown",
      "metadata": {
        "id": "14tkKOQh-eQ0"
      },
      "source": [
        "# Modelo Pré-treinado"
      ]
    },
    {
      "cell_type": "markdown",
      "metadata": {
        "id": "8WYEh3IDGf-3"
      },
      "source": [
        "*   Para realizar Transfer Learning, consultei este material: https://pytorch.org/vision/stable/models.html\n",
        "\n",
        "*   O dataset foi normalizado com \n",
        "```\n",
        "torchvision.transforms.Normalize(mean=[0.485, 0.456, 0.406],\n",
        "                                 std=[0.229, 0.224, 0.225])\n",
        "```\n",
        "*   As imagens foram redimensionadas para 224 x 224\n",
        "\n",
        "*   Estratégia: alterar a dimensão de saída da camada FC e realizar o fine-tuning da rede inteira\n",
        "\n",
        "\n",
        "\n",
        "\n",
        "\n",
        "\n",
        "\n"
      ]
    },
    {
      "cell_type": "markdown",
      "metadata": {
        "id": "tVhvCnvHHhN5"
      },
      "source": [
        "## Transformando o dataset"
      ]
    },
    {
      "cell_type": "code",
      "metadata": {
        "id": "cJ8BpBpG-gIw"
      },
      "source": [
        "# Criando os datasets com as transformações mencionadas\n",
        "\n",
        "normalize = torchvision.transforms.Normalize(mean=[0.485, 0.456, 0.406],\n",
        "                                 std=[0.229, 0.224, 0.225])\n",
        "\n",
        "transform = torchvision.transforms.Compose([\n",
        "                    torchvision.transforms.ToTensor(),\n",
        "                    torchvision.transforms.Resize((350, 350)),\n",
        "                    normalize,\n",
        "        ])\n",
        "\n",
        "train_dataset = torchvision.datasets.CIFAR10(root='./data', train=True,\n",
        "                                             download=False, transform=transform)\n",
        "\n",
        "test_dataset = torchvision.datasets.CIFAR10(root='./data', train=False,\n",
        "                                            download=False, transform=transform)\n"
      ],
      "execution_count": null,
      "outputs": []
    },
    {
      "cell_type": "markdown",
      "metadata": {
        "id": "J6kPQzeEHorH"
      },
      "source": [
        "## Criando os dataloaders"
      ]
    },
    {
      "cell_type": "code",
      "metadata": {
        "colab": {
          "base_uri": "https://localhost:8080/"
        },
        "id": "J2IGJX4LD7hg",
        "outputId": "4caaf64e-91be-4dcc-fa9f-0d0db4215b97"
      },
      "source": [
        "train_size = 40000\n",
        "val_size = 10000\n",
        "train_dataset, val_dataset = torch.utils.data.random_split(train_dataset, [train_size, val_size])\n",
        "\n",
        "batch_size = 50\n",
        "\n",
        "train_dataloader = DataLoader(train_dataset, batch_size=batch_size, shuffle=True)\n",
        "val_dataloader = DataLoader(val_dataset, batch_size=batch_size, shuffle=False)\n",
        "test_dataloader = DataLoader(test_dataset, batch_size=batch_size, shuffle=False)\n",
        "\n",
        "print('Número de minibatches de trenamento:', len(train_dataloader))\n",
        "print('Número de minibatches de validação:', len(val_dataloader))\n",
        "print('Número de minibatches de teste:', len(test_dataloader))\n",
        "\n",
        "x_train, y_train = next(iter(train_dataloader))\n",
        "print(\"\\nDimensões dos dados de um minibatch:\", x_train.size())\n",
        "print(\"Valores mínimo e máximo dos pixels: \", torch.min(x_train), torch.max(x_train))\n",
        "print(\"Tipo dos dados das imagens:         \", type(x_train))\n",
        "print(\"Tipo das classes das imagens:       \", type(y_train))"
      ],
      "execution_count": null,
      "outputs": [
        {
          "output_type": "stream",
          "text": [
            "Número de minibatches de trenamento: 800\n",
            "Número de minibatches de validação: 200\n",
            "Número de minibatches de teste: 200\n",
            "\n",
            "Dimensões dos dados de um minibatch: torch.Size([50, 3, 350, 350])\n",
            "Valores mínimo e máximo dos pixels:  tensor(-2.1179) tensor(2.6400)\n",
            "Tipo dos dados das imagens:          <class 'torch.Tensor'>\n",
            "Tipo das classes das imagens:        <class 'torch.Tensor'>\n"
          ],
          "name": "stdout"
        }
      ]
    },
    {
      "cell_type": "markdown",
      "metadata": {
        "id": "SZDgtRo6Hq-6"
      },
      "source": [
        "## Definindo o modelo"
      ]
    },
    {
      "cell_type": "code",
      "metadata": {
        "id": "l9b60UhUHxb5"
      },
      "source": [
        "import torchvision.models as models"
      ],
      "execution_count": null,
      "outputs": []
    },
    {
      "cell_type": "code",
      "metadata": {
        "id": "FuelF3VGHts9"
      },
      "source": [
        "class ModeloResnet(torch.nn.Module):\n",
        "    def __init__(self):\n",
        "        super(ModeloResnet, self).__init__()\n",
        "\n",
        "        self.resnet18 = models.resnet18(pretrained=True)\n",
        "\n",
        "        # redefinindo a camada FC\n",
        "        self.resnet18.fc = torch.nn.Linear(self.resnet18.fc.in_features, 10)\n",
        "\n",
        "    def forward(self, x):\n",
        "        return self.resnet18(x)"
      ],
      "execution_count": null,
      "outputs": []
    },
    {
      "cell_type": "markdown",
      "metadata": {
        "id": "djNvh1FSJCe4"
      },
      "source": [
        "## Modelo PyTorch Lightning"
      ]
    },
    {
      "cell_type": "code",
      "metadata": {
        "id": "Qa1OH9FYJHJK"
      },
      "source": [
        "class LightningClassifier(LightningModule):\n",
        "    def __init__(self, hparams):\n",
        "        super().__init__()\n",
        "\n",
        "        self.hparams = hparams\n",
        "        self.criterion = torch.nn.CrossEntropyLoss(reduction='none')\n",
        "\n",
        "        # Note como a arquitetura esta dependente dos hiperparâmetros salvos.\n",
        "        self.model = ModeloResnet()\n",
        "\n",
        "    def forward(self, x):\n",
        "        logits = self.model(x)\n",
        "        preds = logits.argmax(dim=1)\n",
        "        return logits, preds\n",
        "\n",
        "    def training_step(self, train_batch, batch_idx):\n",
        "        x, y = train_batch\n",
        "        # x = x.reshape(-1, 32*32*3) passo não utilizado\n",
        "        # predict da rede\n",
        "        logits = self.model(x)\n",
        "\n",
        "        # calcula a perda\n",
        "        batch_losses = self.criterion(logits, y)\n",
        "        loss = batch_losses.mean()\n",
        "        run['train/batch_loss'].log(loss)\n",
        "\n",
        "        # O PL sempre espera um retorno nomeado 'loss' da training_step.\n",
        "        return {'loss': loss, 'batch_losses': batch_losses}\n",
        "\n",
        "    def training_epoch_end(self, outputs):\n",
        "        avg_loss = torch.stack([output['batch_losses'] for output in outputs]).mean()\n",
        "\n",
        "        run['train/loss'].log(avg_loss)\n",
        "        return\n",
        "  \n",
        "    def validation_step(self, val_batch, batch_idx):\n",
        "        x, y = val_batch\n",
        "        \n",
        "        # Transforma a entrada para duas dimensões\n",
        "        # x = x.reshape(-1, 32*32*3) passo não utilizado\n",
        "        # predict da rede\n",
        "        logits, preds = self.forward(x)\n",
        "\n",
        "        # calcula a perda\n",
        "        batch_losses = self.criterion(logits, y)\n",
        "        # calcula a acurácia\n",
        "        batch_accuracy = (preds == y)\n",
        "        \n",
        "        # Retornamos as losses do batch para podermos fazer a média no validation_epoch_end.\n",
        "        return {'batch_losses': batch_losses, 'batch_accuracy': batch_accuracy}\n",
        "\n",
        "    def validation_epoch_end(self, outputs):\n",
        "        avg_loss = torch.stack([output['batch_losses'] for output in outputs]).mean()\n",
        "        accuracy = torch.stack([output['batch_accuracy'] for output in outputs]).float().mean()\n",
        "\n",
        "        run['valid/loss'].log(avg_loss)\n",
        "        run['valid/acuracy'].log(accuracy)\n",
        "\n",
        "        metrics = {'valid_loss': avg_loss.item(), 'accuracy': accuracy.item()}\n",
        "        output =  {'progress_bar': metrics, 'valid_loss': avg_loss.item()}\n",
        "        return output\n",
        "  \n",
        "    def test_step(self, val_batch, batch_idx):\n",
        "        # A implementação deste método é opcional no Pytorch Lightning.\n",
        "        x, y = val_batch\n",
        "        \n",
        "        # Transforma a entrada para duas dimensões\n",
        "        # x = x.reshape(-1, 32*32*3) passo não utilizado\n",
        "        # predict da rede\n",
        "        logits, preds = self.forward(x)\n",
        "\n",
        "        # calcula a perda\n",
        "        batch_losses = self.criterion(logits, y)\n",
        "        # calcula a acurácia\n",
        "        batch_accuracy = (preds == y)\n",
        "        \n",
        "        # Retornamos as losses do batch para podermos fazer a média no validation_epoch_end.\n",
        "        return {'batch_losses': batch_losses, 'batch_accuracy': batch_accuracy}\n",
        "\n",
        "    def test_epoch_end(self, outputs):\n",
        "        # A implementação deste método é opcional no Pytorch Lightning.\n",
        "        avg_loss = torch.stack([output['batch_losses'] for output in outputs]).mean()\n",
        "        accuracy = torch.stack([output['batch_accuracy'] for output in outputs]).float().mean()\n",
        "\n",
        "        run['valid/loss'].log(avg_loss)\n",
        "        run['valid/acuracy'].log(accuracy)\n",
        "        metrics = {'Test loss': avg_loss.item(), 'test accuracy': accuracy.item()}\n",
        "        output =  {'progress_bar': metrics}\n",
        "        return output\n",
        "\n",
        "    def configure_optimizers(self):\n",
        "        # Gradiente descendente\n",
        "        optimizer = torch.optim.SGD(self.model.parameters(), lr=self.hparams['learning_rate'])\n",
        "        # Aqui usamos um scheduler dummy pois o pytorch lightning original requer um.\n",
        "        scheduler = torch.optim.lr_scheduler.MultiplicativeLR(optimizer, lr_lambda=lambda epoch: 1.0)\n",
        "        return [optimizer], [scheduler]  # Forma de retorno para associar um otimizador a um scheduler."
      ],
      "execution_count": null,
      "outputs": []
    },
    {
      "cell_type": "markdown",
      "metadata": {
        "id": "oUinawyJIy2b"
      },
      "source": [
        "## Inicialização dos parâmetros"
      ]
    },
    {
      "cell_type": "code",
      "metadata": {
        "id": "DOz_IfC3Iz-s"
      },
      "source": [
        "hparams = {\n",
        "    'max_epochs': 10,\n",
        "    'learning_rate': 0.1\n",
        "}"
      ],
      "execution_count": null,
      "outputs": []
    },
    {
      "cell_type": "markdown",
      "metadata": {
        "id": "3FdCv4R8I4RA"
      },
      "source": [
        "## Treinamento"
      ]
    },
    {
      "cell_type": "code",
      "metadata": {
        "colab": {
          "base_uri": "https://localhost:8080/",
          "height": 285,
          "referenced_widgets": [
            "fa7fa25438e749bbb3fd0c68d5c04ff7",
            "ce6c7bb69825458ebe4a777ced7a950f",
            "f8a624ec8e36446381a7a42e4963d89a",
            "182b5511e62643d2aa2ce37a94b47d9d",
            "6e22cd33a39748e5990c9ab4f38f225b",
            "da3295817ec54db8abe74656f3f61a01",
            "0f4a92959bc2460fbdfb8bee16d92c3b",
            "a9b3fe344c6147b985ae78cba4e0861e"
          ]
        },
        "id": "-jM891N5I4t3",
        "outputId": "72175168-5a7f-495a-990b-13a2805b304a"
      },
      "source": [
        "pl_model = LightningClassifier(hparams=hparams)\n",
        "trainer = Trainer(max_epochs=hparams['max_epochs'])\n",
        "trainer.fit(pl_model, train_dataloader, val_dataloader)"
      ],
      "execution_count": null,
      "outputs": [
        {
          "output_type": "stream",
          "text": [
            "Downloading: \"https://download.pytorch.org/models/resnet18-5c106cde.pth\" to /root/.cache/torch/hub/checkpoints/resnet18-5c106cde.pth\n"
          ],
          "name": "stderr"
        },
        {
          "output_type": "display_data",
          "data": {
            "application/vnd.jupyter.widget-view+json": {
              "model_id": "fa7fa25438e749bbb3fd0c68d5c04ff7",
              "version_minor": 0,
              "version_major": 2
            },
            "text/plain": [
              "HBox(children=(FloatProgress(value=0.0, max=46827520.0), HTML(value='')))"
            ]
          },
          "metadata": {
            "tags": []
          }
        },
        {
          "output_type": "stream",
          "text": [
            "\n",
            "Using cuda:0\n",
            "Epoch 0 - {'valid_loss': 0.41539716720581055, 'accuracy': 0.8570999503135681}\n",
            "Epoch 1 - {'valid_loss': 0.33451607823371887, 'accuracy': 0.8854999542236328}\n",
            "Epoch 2 - {'valid_loss': 0.30036741495132446, 'accuracy': 0.9034000039100647}\n",
            "Epoch 3 - {'valid_loss': 0.2998550236225128, 'accuracy': 0.9077000021934509}\n",
            "Epoch 4 - {'valid_loss': 0.46621376276016235, 'accuracy': 0.8734999895095825}\n",
            "Epoch 5 - {'valid_loss': 0.28368237614631653, 'accuracy': 0.9200999736785889}\n",
            "Epoch 6 - {'valid_loss': 0.2805667519569397, 'accuracy': 0.9246999621391296}\n",
            "Epoch 7 - {'valid_loss': 0.2512226402759552, 'accuracy': 0.9317999482154846}\n",
            "Epoch 8 - {'valid_loss': 0.2658153176307678, 'accuracy': 0.9314999580383301}\n",
            "Epoch 9 - {'valid_loss': 0.23619306087493896, 'accuracy': 0.9388999938964844}\n"
          ],
          "name": "stdout"
        }
      ]
    },
    {
      "cell_type": "markdown",
      "metadata": {
        "id": "bhLNuh2CMEq_"
      },
      "source": [
        "## Teste"
      ]
    },
    {
      "cell_type": "code",
      "metadata": {
        "colab": {
          "base_uri": "https://localhost:8080/"
        },
        "id": "_RlXBU7aMFK6",
        "outputId": "3f665075-4f08-46db-e1e9-d539a6ac7b99"
      },
      "source": [
        "trainer.test(pl_model, test_dataloader)"
      ],
      "execution_count": null,
      "outputs": [
        {
          "output_type": "execute_result",
          "data": {
            "text/plain": [
              "{'progress_bar': {'Test loss': 0.26141220331192017,\n",
              "  'test accuracy': 0.936199963092804}}"
            ]
          },
          "metadata": {
            "tags": []
          },
          "execution_count": 42
        }
      ]
    }
  ]
}