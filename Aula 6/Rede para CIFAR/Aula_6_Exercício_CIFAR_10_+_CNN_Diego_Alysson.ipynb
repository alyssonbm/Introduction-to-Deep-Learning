{
  "nbformat": 4,
  "nbformat_minor": 0,
  "metadata": {
    "anaconda-cloud": {},
    "colab": {
      "name": "Aula_6_Exercício_CIFAR_10_+_CNN_Diego_Alysson.ipynb",
      "provenance": [],
      "collapsed_sections": [
        "jTyZCjzpFPBo"
      ],
      "toc_visible": true
    },
    "kernelspec": {
      "display_name": "Python 3",
      "language": "python",
      "name": "python3"
    },
    "language_info": {
      "codemirror_mode": {
        "name": "ipython",
        "version": 3
      },
      "file_extension": ".py",
      "mimetype": "text/x-python",
      "name": "python",
      "nbconvert_exporter": "python",
      "pygments_lexer": "ipython3",
      "version": "3.6.5"
    },
    "toc": {
      "nav_menu": {
        "height": "318px",
        "width": "252px"
      },
      "number_sections": true,
      "sideBar": true,
      "skip_h1_title": false,
      "toc_cell": false,
      "toc_position": {},
      "toc_section_display": "block",
      "toc_window_display": false
    },
    "accelerator": "GPU",
    "widgets": {
      "application/vnd.jupyter.widget-state+json": {
        "bd3cbfef084f4b929ab6adaec90a474d": {
          "model_module": "@jupyter-widgets/controls",
          "model_name": "HBoxModel",
          "state": {
            "_view_name": "HBoxView",
            "_dom_classes": [],
            "_model_name": "HBoxModel",
            "_view_module": "@jupyter-widgets/controls",
            "_model_module_version": "1.5.0",
            "_view_count": null,
            "_view_module_version": "1.5.0",
            "box_style": "",
            "layout": "IPY_MODEL_50b9c945afc94959b4ad074e127f66e7",
            "_model_module": "@jupyter-widgets/controls",
            "children": [
              "IPY_MODEL_f84f4913222a4df1a691269ee35c9c56",
              "IPY_MODEL_b9a66ab457404c46923a85617353bd48"
            ]
          }
        },
        "50b9c945afc94959b4ad074e127f66e7": {
          "model_module": "@jupyter-widgets/base",
          "model_name": "LayoutModel",
          "state": {
            "_view_name": "LayoutView",
            "grid_template_rows": null,
            "right": null,
            "justify_content": null,
            "_view_module": "@jupyter-widgets/base",
            "overflow": null,
            "_model_module_version": "1.2.0",
            "_view_count": null,
            "flex_flow": null,
            "width": null,
            "min_width": null,
            "border": null,
            "align_items": null,
            "bottom": null,
            "_model_module": "@jupyter-widgets/base",
            "top": null,
            "grid_column": null,
            "overflow_y": null,
            "overflow_x": null,
            "grid_auto_flow": null,
            "grid_area": null,
            "grid_template_columns": null,
            "flex": null,
            "_model_name": "LayoutModel",
            "justify_items": null,
            "grid_row": null,
            "max_height": null,
            "align_content": null,
            "visibility": null,
            "align_self": null,
            "height": null,
            "min_height": null,
            "padding": null,
            "grid_auto_rows": null,
            "grid_gap": null,
            "max_width": null,
            "order": null,
            "_view_module_version": "1.2.0",
            "grid_template_areas": null,
            "object_position": null,
            "object_fit": null,
            "grid_auto_columns": null,
            "margin": null,
            "display": null,
            "left": null
          }
        },
        "f84f4913222a4df1a691269ee35c9c56": {
          "model_module": "@jupyter-widgets/controls",
          "model_name": "FloatProgressModel",
          "state": {
            "_view_name": "ProgressView",
            "style": "IPY_MODEL_b86934878c9d46238d0dd6fbfd113fa4",
            "_dom_classes": [],
            "description": "",
            "_model_name": "FloatProgressModel",
            "bar_style": "success",
            "max": 170498071,
            "_view_module": "@jupyter-widgets/controls",
            "_model_module_version": "1.5.0",
            "value": 170498071,
            "_view_count": null,
            "_view_module_version": "1.5.0",
            "orientation": "horizontal",
            "min": 0,
            "description_tooltip": null,
            "_model_module": "@jupyter-widgets/controls",
            "layout": "IPY_MODEL_17a8f47daeeb48f18c3a3e9192757d58"
          }
        },
        "b9a66ab457404c46923a85617353bd48": {
          "model_module": "@jupyter-widgets/controls",
          "model_name": "HTMLModel",
          "state": {
            "_view_name": "HTMLView",
            "style": "IPY_MODEL_f772c7609f7048ed9e5c836db346c237",
            "_dom_classes": [],
            "description": "",
            "_model_name": "HTMLModel",
            "placeholder": "​",
            "_view_module": "@jupyter-widgets/controls",
            "_model_module_version": "1.5.0",
            "value": " 170499072/? [00:15&lt;00:00, 10928071.25it/s]",
            "_view_count": null,
            "_view_module_version": "1.5.0",
            "description_tooltip": null,
            "_model_module": "@jupyter-widgets/controls",
            "layout": "IPY_MODEL_ea0544c519ea4c4e865b758d4b3be3ca"
          }
        },
        "b86934878c9d46238d0dd6fbfd113fa4": {
          "model_module": "@jupyter-widgets/controls",
          "model_name": "ProgressStyleModel",
          "state": {
            "_view_name": "StyleView",
            "_model_name": "ProgressStyleModel",
            "description_width": "initial",
            "_view_module": "@jupyter-widgets/base",
            "_model_module_version": "1.5.0",
            "_view_count": null,
            "_view_module_version": "1.2.0",
            "bar_color": null,
            "_model_module": "@jupyter-widgets/controls"
          }
        },
        "17a8f47daeeb48f18c3a3e9192757d58": {
          "model_module": "@jupyter-widgets/base",
          "model_name": "LayoutModel",
          "state": {
            "_view_name": "LayoutView",
            "grid_template_rows": null,
            "right": null,
            "justify_content": null,
            "_view_module": "@jupyter-widgets/base",
            "overflow": null,
            "_model_module_version": "1.2.0",
            "_view_count": null,
            "flex_flow": null,
            "width": null,
            "min_width": null,
            "border": null,
            "align_items": null,
            "bottom": null,
            "_model_module": "@jupyter-widgets/base",
            "top": null,
            "grid_column": null,
            "overflow_y": null,
            "overflow_x": null,
            "grid_auto_flow": null,
            "grid_area": null,
            "grid_template_columns": null,
            "flex": null,
            "_model_name": "LayoutModel",
            "justify_items": null,
            "grid_row": null,
            "max_height": null,
            "align_content": null,
            "visibility": null,
            "align_self": null,
            "height": null,
            "min_height": null,
            "padding": null,
            "grid_auto_rows": null,
            "grid_gap": null,
            "max_width": null,
            "order": null,
            "_view_module_version": "1.2.0",
            "grid_template_areas": null,
            "object_position": null,
            "object_fit": null,
            "grid_auto_columns": null,
            "margin": null,
            "display": null,
            "left": null
          }
        },
        "f772c7609f7048ed9e5c836db346c237": {
          "model_module": "@jupyter-widgets/controls",
          "model_name": "DescriptionStyleModel",
          "state": {
            "_view_name": "StyleView",
            "_model_name": "DescriptionStyleModel",
            "description_width": "",
            "_view_module": "@jupyter-widgets/base",
            "_model_module_version": "1.5.0",
            "_view_count": null,
            "_view_module_version": "1.2.0",
            "_model_module": "@jupyter-widgets/controls"
          }
        },
        "ea0544c519ea4c4e865b758d4b3be3ca": {
          "model_module": "@jupyter-widgets/base",
          "model_name": "LayoutModel",
          "state": {
            "_view_name": "LayoutView",
            "grid_template_rows": null,
            "right": null,
            "justify_content": null,
            "_view_module": "@jupyter-widgets/base",
            "overflow": null,
            "_model_module_version": "1.2.0",
            "_view_count": null,
            "flex_flow": null,
            "width": null,
            "min_width": null,
            "border": null,
            "align_items": null,
            "bottom": null,
            "_model_module": "@jupyter-widgets/base",
            "top": null,
            "grid_column": null,
            "overflow_y": null,
            "overflow_x": null,
            "grid_auto_flow": null,
            "grid_area": null,
            "grid_template_columns": null,
            "flex": null,
            "_model_name": "LayoutModel",
            "justify_items": null,
            "grid_row": null,
            "max_height": null,
            "align_content": null,
            "visibility": null,
            "align_self": null,
            "height": null,
            "min_height": null,
            "padding": null,
            "grid_auto_rows": null,
            "grid_gap": null,
            "max_width": null,
            "order": null,
            "_view_module_version": "1.2.0",
            "grid_template_areas": null,
            "object_position": null,
            "object_fit": null,
            "grid_auto_columns": null,
            "margin": null,
            "display": null,
            "left": null
          }
        },
        "cdad4318ab1a474fbb0671fe07c8fb6b": {
          "model_module": "@jupyter-widgets/controls",
          "model_name": "HBoxModel",
          "state": {
            "_view_name": "HBoxView",
            "_dom_classes": [],
            "_model_name": "HBoxModel",
            "_view_module": "@jupyter-widgets/controls",
            "_model_module_version": "1.5.0",
            "_view_count": null,
            "_view_module_version": "1.5.0",
            "box_style": "",
            "layout": "IPY_MODEL_6bfae20810e2417696f77b73657ca774",
            "_model_module": "@jupyter-widgets/controls",
            "children": [
              "IPY_MODEL_1db8cbb6678b44a8b29ac2242e705fb9",
              "IPY_MODEL_11369dc8471d4e1892224d53d22ef9ae"
            ]
          }
        },
        "6bfae20810e2417696f77b73657ca774": {
          "model_module": "@jupyter-widgets/base",
          "model_name": "LayoutModel",
          "state": {
            "_view_name": "LayoutView",
            "grid_template_rows": null,
            "right": null,
            "justify_content": null,
            "_view_module": "@jupyter-widgets/base",
            "overflow": null,
            "_model_module_version": "1.2.0",
            "_view_count": null,
            "flex_flow": null,
            "width": null,
            "min_width": null,
            "border": null,
            "align_items": null,
            "bottom": null,
            "_model_module": "@jupyter-widgets/base",
            "top": null,
            "grid_column": null,
            "overflow_y": null,
            "overflow_x": null,
            "grid_auto_flow": null,
            "grid_area": null,
            "grid_template_columns": null,
            "flex": null,
            "_model_name": "LayoutModel",
            "justify_items": null,
            "grid_row": null,
            "max_height": null,
            "align_content": null,
            "visibility": null,
            "align_self": null,
            "height": null,
            "min_height": null,
            "padding": null,
            "grid_auto_rows": null,
            "grid_gap": null,
            "max_width": null,
            "order": null,
            "_view_module_version": "1.2.0",
            "grid_template_areas": null,
            "object_position": null,
            "object_fit": null,
            "grid_auto_columns": null,
            "margin": null,
            "display": null,
            "left": null
          }
        },
        "1db8cbb6678b44a8b29ac2242e705fb9": {
          "model_module": "@jupyter-widgets/controls",
          "model_name": "FloatProgressModel",
          "state": {
            "_view_name": "ProgressView",
            "style": "IPY_MODEL_3d64e0f1cc2d4212be5180e4e3162c04",
            "_dom_classes": [],
            "description": "100%",
            "_model_name": "FloatProgressModel",
            "bar_style": "success",
            "max": 102502400,
            "_view_module": "@jupyter-widgets/controls",
            "_model_module_version": "1.5.0",
            "value": 102502400,
            "_view_count": null,
            "_view_module_version": "1.5.0",
            "orientation": "horizontal",
            "min": 0,
            "description_tooltip": null,
            "_model_module": "@jupyter-widgets/controls",
            "layout": "IPY_MODEL_bcf3e30a24be42beaa74ace0487aea5f"
          }
        },
        "11369dc8471d4e1892224d53d22ef9ae": {
          "model_module": "@jupyter-widgets/controls",
          "model_name": "HTMLModel",
          "state": {
            "_view_name": "HTMLView",
            "style": "IPY_MODEL_3f763b792b9a4925a427702d999964d1",
            "_dom_classes": [],
            "description": "",
            "_model_name": "HTMLModel",
            "placeholder": "​",
            "_view_module": "@jupyter-widgets/controls",
            "_model_module_version": "1.5.0",
            "value": " 97.8M/97.8M [00:01&lt;00:00, 100MB/s]",
            "_view_count": null,
            "_view_module_version": "1.5.0",
            "description_tooltip": null,
            "_model_module": "@jupyter-widgets/controls",
            "layout": "IPY_MODEL_b056331137db4f4a87ac525e6d038003"
          }
        },
        "3d64e0f1cc2d4212be5180e4e3162c04": {
          "model_module": "@jupyter-widgets/controls",
          "model_name": "ProgressStyleModel",
          "state": {
            "_view_name": "StyleView",
            "_model_name": "ProgressStyleModel",
            "description_width": "initial",
            "_view_module": "@jupyter-widgets/base",
            "_model_module_version": "1.5.0",
            "_view_count": null,
            "_view_module_version": "1.2.0",
            "bar_color": null,
            "_model_module": "@jupyter-widgets/controls"
          }
        },
        "bcf3e30a24be42beaa74ace0487aea5f": {
          "model_module": "@jupyter-widgets/base",
          "model_name": "LayoutModel",
          "state": {
            "_view_name": "LayoutView",
            "grid_template_rows": null,
            "right": null,
            "justify_content": null,
            "_view_module": "@jupyter-widgets/base",
            "overflow": null,
            "_model_module_version": "1.2.0",
            "_view_count": null,
            "flex_flow": null,
            "width": null,
            "min_width": null,
            "border": null,
            "align_items": null,
            "bottom": null,
            "_model_module": "@jupyter-widgets/base",
            "top": null,
            "grid_column": null,
            "overflow_y": null,
            "overflow_x": null,
            "grid_auto_flow": null,
            "grid_area": null,
            "grid_template_columns": null,
            "flex": null,
            "_model_name": "LayoutModel",
            "justify_items": null,
            "grid_row": null,
            "max_height": null,
            "align_content": null,
            "visibility": null,
            "align_self": null,
            "height": null,
            "min_height": null,
            "padding": null,
            "grid_auto_rows": null,
            "grid_gap": null,
            "max_width": null,
            "order": null,
            "_view_module_version": "1.2.0",
            "grid_template_areas": null,
            "object_position": null,
            "object_fit": null,
            "grid_auto_columns": null,
            "margin": null,
            "display": null,
            "left": null
          }
        },
        "3f763b792b9a4925a427702d999964d1": {
          "model_module": "@jupyter-widgets/controls",
          "model_name": "DescriptionStyleModel",
          "state": {
            "_view_name": "StyleView",
            "_model_name": "DescriptionStyleModel",
            "description_width": "",
            "_view_module": "@jupyter-widgets/base",
            "_model_module_version": "1.5.0",
            "_view_count": null,
            "_view_module_version": "1.2.0",
            "_model_module": "@jupyter-widgets/controls"
          }
        },
        "b056331137db4f4a87ac525e6d038003": {
          "model_module": "@jupyter-widgets/base",
          "model_name": "LayoutModel",
          "state": {
            "_view_name": "LayoutView",
            "grid_template_rows": null,
            "right": null,
            "justify_content": null,
            "_view_module": "@jupyter-widgets/base",
            "overflow": null,
            "_model_module_version": "1.2.0",
            "_view_count": null,
            "flex_flow": null,
            "width": null,
            "min_width": null,
            "border": null,
            "align_items": null,
            "bottom": null,
            "_model_module": "@jupyter-widgets/base",
            "top": null,
            "grid_column": null,
            "overflow_y": null,
            "overflow_x": null,
            "grid_auto_flow": null,
            "grid_area": null,
            "grid_template_columns": null,
            "flex": null,
            "_model_name": "LayoutModel",
            "justify_items": null,
            "grid_row": null,
            "max_height": null,
            "align_content": null,
            "visibility": null,
            "align_self": null,
            "height": null,
            "min_height": null,
            "padding": null,
            "grid_auto_rows": null,
            "grid_gap": null,
            "max_width": null,
            "order": null,
            "_view_module_version": "1.2.0",
            "grid_template_areas": null,
            "object_position": null,
            "object_fit": null,
            "grid_auto_columns": null,
            "margin": null,
            "display": null,
            "left": null
          }
        }
      }
    }
  },
  "cells": [
    {
      "cell_type": "markdown",
      "metadata": {
        "id": "J3R2-_YuQT1r"
      },
      "source": [
        "# Treinamento de uma CNN no CIFAR 10\n",
        "\n",
        "**Nome: Diego Alysson Braga Moreira**\n"
      ]
    },
    {
      "cell_type": "markdown",
      "metadata": {
        "id": "WkfGTqMVQT1u"
      },
      "source": [
        "O objetivo deste exercício é implementar e treinar uma rede convolucional que obtenha a maior acurácia no dataset de teste do CIFAR 10.\n",
        "\n",
        "Podem definir sua própria rede ou utilizar redes pré-treinadas, como a Resnet."
      ]
    },
    {
      "cell_type": "markdown",
      "metadata": {
        "id": "S6tHIO8O-ePC"
      },
      "source": [
        "## Inicializando o Neptune"
      ]
    },
    {
      "cell_type": "code",
      "metadata": {
        "colab": {
          "base_uri": "https://localhost:8080/"
        },
        "id": "WtKt7Ey7-htu",
        "outputId": "4df7a55b-a2ce-4c87-94c3-b93006c4b01d"
      },
      "source": [
        "! pip install neptune-client==0.9.1"
      ],
      "execution_count": null,
      "outputs": [
        {
          "output_type": "stream",
          "text": [
            "Collecting neptune-client==0.9.1\n",
            "\u001b[?25l  Downloading https://files.pythonhosted.org/packages/b6/25/757d8828a31dba3e684ac2bbc29b5fee54ec1d5961333c5ba18fb5dcf67f/neptune-client-0.9.1.tar.gz (209kB)\n",
            "\u001b[K     |████████████████████████████████| 215kB 5.2MB/s \n",
            "\u001b[?25hCollecting bravado\n",
            "  Downloading https://files.pythonhosted.org/packages/21/ed/03b0c36b5bcafbe2938ed222f9a164a6c0367ce99a9d2d502e462853571d/bravado-11.0.3-py2.py3-none-any.whl\n",
            "Requirement already satisfied: click>=7.0 in /usr/local/lib/python3.7/dist-packages (from neptune-client==0.9.1) (7.1.2)\n",
            "Collecting future>=0.17.1\n",
            "\u001b[?25l  Downloading https://files.pythonhosted.org/packages/45/0b/38b06fd9b92dc2b68d58b75f900e97884c45bedd2ff83203d933cf5851c9/future-0.18.2.tar.gz (829kB)\n",
            "\u001b[K     |████████████████████████████████| 829kB 13.9MB/s \n",
            "\u001b[?25hRequirement already satisfied: oauthlib>=2.1.0 in /usr/local/lib/python3.7/dist-packages (from neptune-client==0.9.1) (3.1.0)\n",
            "Requirement already satisfied: pandas in /usr/local/lib/python3.7/dist-packages (from neptune-client==0.9.1) (1.1.5)\n",
            "Requirement already satisfied: Pillow>=1.1.6 in /usr/local/lib/python3.7/dist-packages (from neptune-client==0.9.1) (7.1.2)\n",
            "Collecting PyJWT\n",
            "  Downloading https://files.pythonhosted.org/packages/3f/32/d5d3cab27fee7f6b22d7cd7507547ae45d52e26030fa77d1f83d0526c6e5/PyJWT-2.1.0-py3-none-any.whl\n",
            "Requirement already satisfied: requests>=2.20.0 in /usr/local/lib/python3.7/dist-packages (from neptune-client==0.9.1) (2.23.0)\n",
            "Requirement already satisfied: requests-oauthlib>=1.0.0 in /usr/local/lib/python3.7/dist-packages (from neptune-client==0.9.1) (1.3.0)\n",
            "Requirement already satisfied: six>=1.12.0 in /usr/local/lib/python3.7/dist-packages (from neptune-client==0.9.1) (1.15.0)\n",
            "Collecting websocket-client>=0.35.0\n",
            "\u001b[?25l  Downloading https://files.pythonhosted.org/packages/f7/0c/d52a2a63512a613817846d430d16a8fbe5ea56dd889e89c68facf6b91cb6/websocket_client-0.59.0-py2.py3-none-any.whl (67kB)\n",
            "\u001b[K     |████████████████████████████████| 71kB 6.3MB/s \n",
            "\u001b[?25hCollecting GitPython>=2.0.8\n",
            "\u001b[?25l  Downloading https://files.pythonhosted.org/packages/a6/99/98019716955ba243657daedd1de8f3a88ca1f5b75057c38e959db22fb87b/GitPython-3.1.14-py3-none-any.whl (159kB)\n",
            "\u001b[K     |████████████████████████████████| 163kB 17.9MB/s \n",
            "\u001b[?25hRequirement already satisfied: packaging in /usr/local/lib/python3.7/dist-packages (from neptune-client==0.9.1) (20.9)\n",
            "Requirement already satisfied: urllib3 in /usr/local/lib/python3.7/dist-packages (from neptune-client==0.9.1) (1.24.3)\n",
            "Requirement already satisfied: typing-extensions in /usr/local/lib/python3.7/dist-packages (from bravado->neptune-client==0.9.1) (3.7.4.3)\n",
            "Collecting bravado-core>=5.16.1\n",
            "\u001b[?25l  Downloading https://files.pythonhosted.org/packages/76/11/18e9d28a156c33f2d5f15a5e155dc7130250acb0a569255a2b6b307b596d/bravado_core-5.17.0-py2.py3-none-any.whl (67kB)\n",
            "\u001b[K     |████████████████████████████████| 71kB 4.5MB/s \n",
            "\u001b[?25hRequirement already satisfied: python-dateutil in /usr/local/lib/python3.7/dist-packages (from bravado->neptune-client==0.9.1) (2.8.1)\n",
            "Requirement already satisfied: pyyaml in /usr/local/lib/python3.7/dist-packages (from bravado->neptune-client==0.9.1) (3.13)\n",
            "Collecting monotonic\n",
            "  Downloading https://files.pythonhosted.org/packages/9a/67/7e8406a29b6c45be7af7740456f7f37025f0506ae2e05fb9009a53946860/monotonic-1.6-py2.py3-none-any.whl\n",
            "Requirement already satisfied: msgpack in /usr/local/lib/python3.7/dist-packages (from bravado->neptune-client==0.9.1) (1.0.2)\n",
            "Collecting simplejson\n",
            "\u001b[?25l  Downloading https://files.pythonhosted.org/packages/a8/04/377418ac1e530ce2a196b54c6552c018fdf1fe776718053efb1f216bffcd/simplejson-3.17.2-cp37-cp37m-manylinux2010_x86_64.whl (128kB)\n",
            "\u001b[K     |████████████████████████████████| 133kB 19.3MB/s \n",
            "\u001b[?25hRequirement already satisfied: numpy>=1.15.4 in /usr/local/lib/python3.7/dist-packages (from pandas->neptune-client==0.9.1) (1.19.5)\n",
            "Requirement already satisfied: pytz>=2017.2 in /usr/local/lib/python3.7/dist-packages (from pandas->neptune-client==0.9.1) (2018.9)\n",
            "Requirement already satisfied: certifi>=2017.4.17 in /usr/local/lib/python3.7/dist-packages (from requests>=2.20.0->neptune-client==0.9.1) (2020.12.5)\n",
            "Requirement already satisfied: idna<3,>=2.5 in /usr/local/lib/python3.7/dist-packages (from requests>=2.20.0->neptune-client==0.9.1) (2.10)\n",
            "Requirement already satisfied: chardet<4,>=3.0.2 in /usr/local/lib/python3.7/dist-packages (from requests>=2.20.0->neptune-client==0.9.1) (3.0.4)\n",
            "Collecting gitdb<5,>=4.0.1\n",
            "\u001b[?25l  Downloading https://files.pythonhosted.org/packages/ea/e8/f414d1a4f0bbc668ed441f74f44c116d9816833a48bf81d22b697090dba8/gitdb-4.0.7-py3-none-any.whl (63kB)\n",
            "\u001b[K     |████████████████████████████████| 71kB 7.3MB/s \n",
            "\u001b[?25hRequirement already satisfied: pyparsing>=2.0.2 in /usr/local/lib/python3.7/dist-packages (from packaging->neptune-client==0.9.1) (2.4.7)\n",
            "Collecting swagger-spec-validator>=2.0.1\n",
            "  Downloading https://files.pythonhosted.org/packages/09/de/e78cefbf5838b434b63a789264b79821cb2267f1498fbed23ef8590133e4/swagger_spec_validator-2.7.3-py2.py3-none-any.whl\n",
            "Collecting jsonref\n",
            "  Downloading https://files.pythonhosted.org/packages/07/92/f8e4ac824b14af77e613984e480fa818397c72d4141fc466decb26752749/jsonref-0.2-py3-none-any.whl\n",
            "Requirement already satisfied: jsonschema[format]>=2.5.1 in /usr/local/lib/python3.7/dist-packages (from bravado-core>=5.16.1->bravado->neptune-client==0.9.1) (2.6.0)\n",
            "Collecting smmap<5,>=3.0.1\n",
            "  Downloading https://files.pythonhosted.org/packages/68/ee/d540eb5e5996eb81c26ceffac6ee49041d473bc5125f2aa995cf51ec1cf1/smmap-4.0.0-py2.py3-none-any.whl\n",
            "Collecting rfc3987; extra == \"format\"\n",
            "  Downloading https://files.pythonhosted.org/packages/65/d4/f7407c3d15d5ac779c3dd34fbbc6ea2090f77bd7dd12f207ccf881551208/rfc3987-1.3.8-py2.py3-none-any.whl\n",
            "Collecting strict-rfc3339; extra == \"format\"\n",
            "  Downloading https://files.pythonhosted.org/packages/56/e4/879ef1dbd6ddea1c77c0078cd59b503368b0456bcca7d063a870ca2119d3/strict-rfc3339-0.7.tar.gz\n",
            "Collecting webcolors; extra == \"format\"\n",
            "  Downloading https://files.pythonhosted.org/packages/12/05/3350559de9714b202e443a9e6312937341bd5f79f4e4f625744295e7dd17/webcolors-1.11.1-py3-none-any.whl\n",
            "Building wheels for collected packages: neptune-client, future, strict-rfc3339\n",
            "  Building wheel for neptune-client (setup.py) ... \u001b[?25l\u001b[?25hdone\n",
            "  Created wheel for neptune-client: filename=neptune_client-0.9.1-py2.py3-none-any.whl size=371716 sha256=cb0ee341c721621d9ecb9af4bd03294268f1df40921b0ea5aa14bce986436dba\n",
            "  Stored in directory: /root/.cache/pip/wheels/6e/d4/60/21005f18273566da0463587bed8c69cce7f300a404edf26df8\n",
            "  Building wheel for future (setup.py) ... \u001b[?25l\u001b[?25hdone\n",
            "  Created wheel for future: filename=future-0.18.2-cp37-none-any.whl size=491058 sha256=ab9a6c10493a93f7b97b399da872037e07c18eda67a6d27cf4a5b7ef511ce895\n",
            "  Stored in directory: /root/.cache/pip/wheels/8b/99/a0/81daf51dcd359a9377b110a8a886b3895921802d2fc1b2397e\n",
            "  Building wheel for strict-rfc3339 (setup.py) ... \u001b[?25l\u001b[?25hdone\n",
            "  Created wheel for strict-rfc3339: filename=strict_rfc3339-0.7-cp37-none-any.whl size=18121 sha256=44e23a2fd96d2f8819112425ac209aef960e6c28e1c291f4ba7d71624f2e0769\n",
            "  Stored in directory: /root/.cache/pip/wheels/bb/af/c9/b6e9fb5f9b2470e4ed2a7241c9ab3a8cdd3bc8555ae02ca2e6\n",
            "Successfully built neptune-client future strict-rfc3339\n",
            "Installing collected packages: swagger-spec-validator, jsonref, simplejson, bravado-core, monotonic, bravado, future, PyJWT, websocket-client, smmap, gitdb, GitPython, neptune-client, rfc3987, strict-rfc3339, webcolors\n",
            "  Found existing installation: future 0.16.0\n",
            "    Uninstalling future-0.16.0:\n",
            "      Successfully uninstalled future-0.16.0\n",
            "Successfully installed GitPython-3.1.14 PyJWT-2.1.0 bravado-11.0.3 bravado-core-5.17.0 future-0.18.2 gitdb-4.0.7 jsonref-0.2 monotonic-1.6 neptune-client-0.9.1 rfc3987-1.3.8 simplejson-3.17.2 smmap-4.0.0 strict-rfc3339-0.7 swagger-spec-validator-2.7.3 webcolors-1.11.1 websocket-client-0.59.0\n"
          ],
          "name": "stdout"
        }
      ]
    },
    {
      "cell_type": "code",
      "metadata": {
        "colab": {
          "base_uri": "https://localhost:8080/"
        },
        "id": "mgE0kR_P-iea",
        "outputId": "9cc4032e-a9f3-4316-ea0b-829bcbd7ba4a"
      },
      "source": [
        "import neptune.new as neptune\n",
        "\n",
        "# Insira seu api_token para logar os resultados do treino na sua conta do Neptune.\n",
        "# Como obter seu API token do Neptune:\n",
        "# https://docs.neptune.ai/administration/security-and-privacy/how-to-find-and-set-neptune-api-token\n",
        "\n",
        "run = neptune.init(project='d230640/Aula6-Exercicios', api_token='eyJhcGlfYWRkcmVzcyI6Imh0dHBzOi8vYXBwLm5lcHR1bmUuYWkiLCJhcGlfdXJsIjoiaHR0cHM6Ly9hcHAubmVwdHVuZS5haSIsImFwaV9rZXkiOiJmZTg1OGU3Yi1jOWE1LTRjMjEtYTJjNS1hMjMwM2Y3NDRjOTUifQ==')"
      ],
      "execution_count": null,
      "outputs": [
        {
          "output_type": "stream",
          "text": [
            "https://app.neptune.ai/d230640/Aula6-Exercicios/e/AUL6-34\n"
          ],
          "name": "stdout"
        }
      ]
    },
    {
      "cell_type": "markdown",
      "metadata": {
        "id": "wFNf4RPxQT1w"
      },
      "source": [
        "## Importação das bibliotecas"
      ]
    },
    {
      "cell_type": "code",
      "metadata": {
        "id": "-fLUSHaCQT1x",
        "colab": {
          "base_uri": "https://localhost:8080/"
        },
        "outputId": "b7924528-f945-4a50-8a50-eb1df487d2d8"
      },
      "source": [
        "%matplotlib inline\n",
        "import numpy as np\n",
        "\n",
        "import torch\n",
        "from torch.utils.data import DataLoader\n",
        "\n",
        "import torchvision\n",
        "from torchvision.datasets import MNIST\n",
        "\n",
        "torch.manual_seed(123)"
      ],
      "execution_count": null,
      "outputs": [
        {
          "output_type": "execute_result",
          "data": {
            "text/plain": [
              "<torch._C.Generator at 0x7f28f5e91090>"
            ]
          },
          "metadata": {
            "tags": []
          },
          "execution_count": 3
        }
      ]
    },
    {
      "cell_type": "markdown",
      "metadata": {
        "id": "76PDhfUW6Afv"
      },
      "source": [
        "## Download do Dataset"
      ]
    },
    {
      "cell_type": "code",
      "metadata": {
        "id": "G0dEKCn-QT17",
        "colab": {
          "base_uri": "https://localhost:8080/",
          "height": 122,
          "referenced_widgets": [
            "bd3cbfef084f4b929ab6adaec90a474d",
            "50b9c945afc94959b4ad074e127f66e7",
            "f84f4913222a4df1a691269ee35c9c56",
            "b9a66ab457404c46923a85617353bd48",
            "b86934878c9d46238d0dd6fbfd113fa4",
            "17a8f47daeeb48f18c3a3e9192757d58",
            "f772c7609f7048ed9e5c836db346c237",
            "ea0544c519ea4c4e865b758d4b3be3ca"
          ]
        },
        "outputId": "8cd2ca76-e633-4fbf-ddfb-2f186443a3f7"
      },
      "source": [
        "!mkdir ./data\n",
        "\n",
        "transform = torchvision.transforms.Compose(\n",
        "    [torchvision.transforms.ToTensor(),\n",
        "     torchvision.transforms.Normalize((0.5, 0.5, 0.5), (0.5, 0.5, 0.5))])\n",
        "\n",
        "train_dataset = torchvision.datasets.CIFAR10(root='./data', train=True,\n",
        "                                             download=True, transform=transform)\n",
        "\n",
        "test_dataset = torchvision.datasets.CIFAR10(root='./data', train=False,\n",
        "                                            download=True, transform=transform)\n"
      ],
      "execution_count": null,
      "outputs": [
        {
          "output_type": "stream",
          "text": [
            "Downloading https://www.cs.toronto.edu/~kriz/cifar-10-python.tar.gz to ./data/cifar-10-python.tar.gz\n"
          ],
          "name": "stdout"
        },
        {
          "output_type": "display_data",
          "data": {
            "application/vnd.jupyter.widget-view+json": {
              "model_id": "bd3cbfef084f4b929ab6adaec90a474d",
              "version_minor": 0,
              "version_major": 2
            },
            "text/plain": [
              "HBox(children=(FloatProgress(value=0.0, max=170498071.0), HTML(value='')))"
            ]
          },
          "metadata": {
            "tags": []
          }
        },
        {
          "output_type": "stream",
          "text": [
            "\n",
            "Extracting ./data/cifar-10-python.tar.gz to ./data\n",
            "Files already downloaded and verified\n"
          ],
          "name": "stdout"
        }
      ]
    },
    {
      "cell_type": "markdown",
      "metadata": {
        "id": "jEMUsfJpQT11"
      },
      "source": [
        "## Dataset e dataloader"
      ]
    },
    {
      "cell_type": "code",
      "metadata": {
        "id": "K9sXttHBTzCM"
      },
      "source": [
        "train_size = 40000\n",
        "val_size = 10000\n",
        "train_dataset, val_dataset = torch.utils.data.random_split(train_dataset, [train_size, val_size])"
      ],
      "execution_count": null,
      "outputs": []
    },
    {
      "cell_type": "code",
      "metadata": {
        "id": "w52KGYlIQT2A",
        "colab": {
          "base_uri": "https://localhost:8080/"
        },
        "outputId": "b1dc184b-6e9c-43bc-de06-583df790c552"
      },
      "source": [
        "batch_size = 50\n",
        "\n",
        "train_dataloader = DataLoader(train_dataset, batch_size=batch_size, shuffle=True)\n",
        "val_dataloader = DataLoader(val_dataset, batch_size=batch_size, shuffle=False)\n",
        "test_dataloader = DataLoader(test_dataset, batch_size=batch_size, shuffle=False)\n",
        "\n",
        "print('Número de minibatches de trenamento:', len(train_dataloader))\n",
        "print('Número de minibatches de validação:', len(val_dataloader))\n",
        "print('Número de minibatches de teste:', len(test_dataloader))\n",
        "\n",
        "x_train, y_train = next(iter(train_dataloader))\n",
        "print(\"\\nDimensões dos dados de um minibatch:\", x_train.size())\n",
        "print(\"Valores mínimo e máximo dos pixels: \", torch.min(x_train), torch.max(x_train))\n",
        "print(\"Tipo dos dados das imagens:         \", type(x_train))\n",
        "print(\"Tipo das classes das imagens:       \", type(y_train))"
      ],
      "execution_count": null,
      "outputs": [
        {
          "output_type": "stream",
          "text": [
            "Número de minibatches de trenamento: 800\n",
            "Número de minibatches de validação: 200\n",
            "Número de minibatches de teste: 200\n",
            "\n",
            "Dimensões dos dados de um minibatch: torch.Size([50, 3, 32, 32])\n",
            "Valores mínimo e máximo dos pixels:  tensor(-1.) tensor(1.)\n",
            "Tipo dos dados das imagens:          <class 'torch.Tensor'>\n",
            "Tipo das classes das imagens:        <class 'torch.Tensor'>\n"
          ],
          "name": "stdout"
        }
      ]
    },
    {
      "cell_type": "code",
      "metadata": {
        "id": "9yBXqGDPAPXM"
      },
      "source": [
        "# Use True, para usar o pytorch lightning original\n",
        "pl_original = False"
      ],
      "execution_count": null,
      "outputs": []
    },
    {
      "cell_type": "markdown",
      "metadata": {
        "id": "jTyZCjzpFPBo"
      },
      "source": [
        "## Usando o Pytorch Lightining \"SuperLight\" (criado apenas para o curso).\n",
        "\n",
        "Criamos um Pytorch Lightning \"básico\" que esperamos ser mais didático que o original pois o código é facil de entender caso ocorra algum erro.\n",
        "\n",
        "As classes `LightningModule` e `Trainer` não precisam ser implementadas. Entretanto, para cada nova tarefa, uma classe que herda do `LightningModule` precisa ser definida e os seguintes métodos devem ser implementados:\n",
        "\n",
        " - \\_\\_init\\_\\_\n",
        " - forward\n",
        " - train_step\n",
        " - train_epoch_end\n",
        " - validation_step\n",
        " - validation_epoch_end\n",
        " - configure_optimizers\n",
        "\n",
        "Os métodos `test_step` e `test_epoch_end` devem ser implementados apenas se trainer.test() for chamado.\n"
      ]
    },
    {
      "cell_type": "code",
      "metadata": {
        "id": "_nKeJycqGEqL"
      },
      "source": [
        "import abc\n",
        "\n",
        "\n",
        "class LightningModule:\n",
        "    @abc.abstractmethod\n",
        "    def __init(self):\n",
        "        return\n",
        "\n",
        "    @abc.abstractmethod\n",
        "    def forward(self):\n",
        "        return\n",
        "\n",
        "    @abc.abstractmethod    \n",
        "    def training_step(self):\n",
        "        return \n",
        "\n",
        "    @abc.abstractmethod    \n",
        "    def training_epoch_end(self):\n",
        "        return \n",
        "\n",
        "    @abc.abstractmethod    \n",
        "    def validation_step(self):\n",
        "        return \n",
        "\n",
        "    @abc.abstractmethod    \n",
        "    def validation_epoch_end(self):\n",
        "        return \n",
        "\n",
        "    @abc.abstractmethod    \n",
        "    def test_step(self):\n",
        "        return \n",
        "\n",
        "    @abc.abstractmethod    \n",
        "    def test_epoch_end(self):\n",
        "        return\n",
        "\n",
        "    @abc.abstractmethod\n",
        "    def configure_optimizers(self):\n",
        "        return"
      ],
      "execution_count": null,
      "outputs": []
    },
    {
      "cell_type": "code",
      "metadata": {
        "id": "njy9UHW2FOmm"
      },
      "source": [
        "class Trainer():\n",
        "    def __init__(self, max_epochs: int, gpus: int = 1):\n",
        "        self.max_epochs = max_epochs\n",
        "        dev = \"cpu\" \n",
        "        if gpus > 0:\n",
        "            if torch.cuda.is_available(): \n",
        "                dev = \"cuda:0\"\n",
        "\n",
        "        print(f'Using {dev}')\n",
        "        self.device = torch.device(dev)\n",
        "\n",
        "    def fit(self, model, train_dataloader, val_dataloader=None):\n",
        "        assert isinstance(model, LightningModule)\n",
        "        best_valid_loss = 10e9\n",
        "        optimizers, _ = model.configure_optimizers()\n",
        "        optimizer = optimizers[0]\n",
        "        model.model.to(self.device)\n",
        "        \n",
        "        for i in range(self.max_epochs):\n",
        "            outputs = []\n",
        "            model.model.train()\n",
        "            for batch_idx, (x_train, y_train) in enumerate(train_dataloader):\n",
        "                x_train = x_train.to(self.device)\n",
        "                y_train = y_train.to(self.device)\n",
        "                output_dict = model.training_step((x_train, y_train), batch_idx)\n",
        "                loss = output_dict['loss']\n",
        "                # zero, backpropagation, ajusta parâmetros pelo gradiente descendente\n",
        "                optimizer.zero_grad()\n",
        "                loss.backward()\n",
        "                optimizer.step()\n",
        "                outputs.append(output_dict)\n",
        "\n",
        "            model.training_epoch_end(outputs=outputs)\n",
        "            \n",
        "            # Laço de Validação, um a cada época.\n",
        "            if val_dataloader:\n",
        "                output_val_end = self.validate(model, val_dataloader)\n",
        "                print(f'Epoch {i} - {output_val_end[\"progress_bar\"]}')\n",
        "                # Salvando o melhor modelo de acordo com a loss de validação.\n",
        "                if output_val_end['valid_loss'] < best_valid_loss:\n",
        "                    torch.save(model.model.state_dict(), 'best_model.pt')\n",
        "                    best_valid_loss = output_val_end['valid_loss']\n",
        "\n",
        "    def validate(self, model, val_dataloader):\n",
        "        outputs = []\n",
        "        model.model.eval()\n",
        "        with torch.no_grad():\n",
        "            for batch_idx, (x, y) in enumerate(val_dataloader):\n",
        "                x = x.to(self.device)\n",
        "                y = y.to(self.device)\n",
        "                output_dict = model.validation_step((x, y), batch_idx)\n",
        "                outputs.append(output_dict)\n",
        "\n",
        "        output_dict = model.validation_epoch_end(outputs=outputs)\n",
        "        return output_dict\n",
        "\n",
        "    def test(self, model, test_dataloader):\n",
        "        outputs = []\n",
        "        model.model.eval()\n",
        "        with torch.no_grad():\n",
        "            for batch_idx, (x, y) in enumerate(test_dataloader):\n",
        "                x = x.to(self.device)\n",
        "                y = y.to(self.device)\n",
        "                output_dict = model.test_step((x, y), batch_idx)\n",
        "                outputs.append(output_dict)\n",
        "\n",
        "        output_dict = model.test_epoch_end(outputs=outputs)\n",
        "        return output_dict"
      ],
      "execution_count": null,
      "outputs": []
    },
    {
      "cell_type": "code",
      "metadata": {
        "id": "smhZCgUPwp0o"
      },
      "source": [
        "if pl_original:\n",
        "    !pip install pytorch_lightning\n",
        "    from pytorch_lightning import LightningModule, Trainer"
      ],
      "execution_count": null,
      "outputs": []
    },
    {
      "cell_type": "markdown",
      "metadata": {
        "id": "BQA9Zg7GQT2G"
      },
      "source": [
        "## Definindo o Modelo"
      ]
    },
    {
      "cell_type": "code",
      "metadata": {
        "id": "_8Eg4h_kQT2H"
      },
      "source": [
        "class Modelo(torch.nn.Module):\n",
        "    def __init__(self):\n",
        "        super(Modelo, self).__init__()\n",
        "\n",
        "        # Defina seu modelo aqui.\n",
        "        self.conv_layer = torch.nn.Sequential(\n",
        "            torch.nn.Conv2d(3,32,3), #- 30\n",
        "            torch.nn.BatchNorm2d(32),            \n",
        "            torch.nn.ReLU(), \n",
        "\n",
        "            torch.nn.Conv2d(32,64,3), #- 28\n",
        "            torch.nn.BatchNorm2d(64),\n",
        "            torch.nn.ReLU(),\n",
        "            torch.nn.MaxPool2d((2,2)), #- 14\n",
        "\n",
        "            torch.nn.Conv2d(64,128,3), #- 12\n",
        "            torch.nn.BatchNorm2d(128),\n",
        "            torch.nn.ReLU(),\n",
        "            torch.nn.MaxPool2d((2,2)), #- 6\n",
        "\n",
        "            torch.nn.Conv2d(128,256,3), #- 4\n",
        "            torch.nn.BatchNorm2d(256),\n",
        "            torch.nn.ReLU(),\n",
        "            torch.nn.MaxPool2d((2,2)), #- 2\n",
        "        )\n",
        "\n",
        "        self.dense = torch.nn.Sequential(\n",
        "            torch.nn.Dropout(0.1),\n",
        "            torch.nn.Linear(2*2*256,1000),\n",
        "            torch.nn.ReLU(),\n",
        "            torch.nn.Dropout(0.1),\n",
        "            torch.nn.Linear(1000,500),\n",
        "            torch.nn.ReLU(),\n",
        "            torch.nn.Dropout(0.1),\n",
        "            torch.nn.Linear(500,10),\n",
        "        )\n",
        "    \n",
        "    def forward(self, x):\n",
        "        x = self.conv_layer(x)\n",
        "        x = x.view(-1,2*2*256)\n",
        "        x = self.dense(x)\n",
        "        return x"
      ],
      "execution_count": null,
      "outputs": []
    },
    {
      "cell_type": "code",
      "metadata": {
        "id": "TyEHhbH4KXAS"
      },
      "source": [
        "# class Modelo(torch.nn.Module):\n",
        "#     def __init__(self):\n",
        "#         super(Modelo, self).__init__()\n",
        "\n",
        "#         # Defina seu modelo aqui.\n",
        "#         self.conv_layer1 = torch.nn.Sequential(\n",
        "#             torch.nn.Conv2d(3,32,3), #- 30\n",
        "#             torch.nn.BatchNorm2d(32),            \n",
        "#             torch.nn.ReLU(), \n",
        "\n",
        "#             torch.nn.Conv2d(32,64,3), #- 28\n",
        "#             torch.nn.BatchNorm2d(64),\n",
        "#             torch.nn.ReLU(),\n",
        "#             torch.nn.MaxPool2d((2,2)), #- 14\n",
        "\n",
        "#             torch.nn.Conv2d(64,128,5), #- 10\n",
        "#             torch.nn.BatchNorm2d(128),\n",
        "#             torch.nn.ReLU(),\n",
        "#         )\n",
        "\n",
        "#         self.conv_layer2 = torch.nn.Sequential(\n",
        "#             torch.nn.Conv2d(3,128,3), #- 30\n",
        "#             torch.nn.BatchNorm2d(128),            \n",
        "#             torch.nn.ReLU(), \n",
        "\n",
        "#             torch.nn.Conv2d(128,64,3), #- 28\n",
        "#             torch.nn.BatchNorm2d(64),\n",
        "#             torch.nn.ReLU(),\n",
        "#             torch.nn.MaxPool2d((2,2)), #- 14\n",
        "\n",
        "#             torch.nn.Conv2d(64,32,5), #- 10\n",
        "#             torch.nn.BatchNorm2d(32),\n",
        "#             torch.nn.ReLU(),\n",
        "#         )\n",
        "\n",
        "#         self.dense1 = torch.nn.Sequential(\n",
        "#             torch.nn.Dropout(0.2),\n",
        "#             torch.nn.Linear(10*10*128,128),\n",
        "#             torch.nn.ReLU(),\n",
        "#             torch.nn.Dropout(0.1),\n",
        "#             torch.nn.Linear(128,10),\n",
        "#         )\n",
        "\n",
        "#         self.dense2 = torch.nn.Sequential(\n",
        "#             torch.nn.Dropout(0.2),\n",
        "#             torch.nn.Linear(10*10*32,32),\n",
        "#             torch.nn.ReLU(),\n",
        "#             torch.nn.Dropout(0.1),\n",
        "#             torch.nn.Linear(32,10),\n",
        "#         )\n",
        "\n",
        "#         self.dense3 = torch.nn.Sequential(\n",
        "#             torch.nn.Dropout(0.2),\n",
        "#             torch.nn.ReLU(),\n",
        "#             torch.nn.Linear(20,10),\n",
        "#         )\n",
        "    \n",
        "#     def forward(self, x):\n",
        "#         x_conv1 = self.conv_layer1(x)\n",
        "#         x_conv2 = self.conv_layer2(x)\n",
        "#         x_conv1 = x_conv1.view(-1,10*10*128)\n",
        "#         x_conv2 = x_conv2.view(-1,10*10*32)\n",
        "#         x1 = self.dense1(x_conv1)\n",
        "#         x2 = self.dense2(x_conv2)\n",
        "\n",
        "#         x = torch.cat((x1, x2), 1)\n",
        "#         x = self.dense3(x)\n",
        "#         return x"
      ],
      "execution_count": null,
      "outputs": []
    },
    {
      "cell_type": "markdown",
      "metadata": {
        "id": "PpTybLHCKVqw"
      },
      "source": [
        "## Criação do modelo Pytorch Lightning"
      ]
    },
    {
      "cell_type": "code",
      "metadata": {
        "id": "C-9tbSvrKcSL"
      },
      "source": [
        "class LightningClassifier(LightningModule):\n",
        "    def __init__(self, hparams):\n",
        "        super().__init__()\n",
        "\n",
        "        self.hparams = hparams\n",
        "        self.criterion = torch.nn.CrossEntropyLoss(reduction='none')\n",
        "\n",
        "        # Note como a arquitetura esta dependente dos hiperparâmetros salvos.\n",
        "        self.model = Modelo()\n",
        "\n",
        "    def forward(self, x):\n",
        "        logits = self.model(x)\n",
        "        preds = logits.argmax(dim=1)\n",
        "        return logits, preds\n",
        "\n",
        "    def training_step(self, train_batch, batch_idx):\n",
        "        x, y = train_batch\n",
        "        # x = x.reshape(-1, 32*32*3)\n",
        "        # predict da rede\n",
        "        logits = self.model(x)\n",
        "\n",
        "        # calcula a perda\n",
        "        batch_losses = self.criterion(logits, y)\n",
        "        loss = batch_losses.mean()\n",
        "        run['train/batch_loss'].log(loss)\n",
        "\n",
        "        # O PL sempre espera um retorno nomeado 'loss' da training_step.\n",
        "        return {'loss': loss, 'batch_losses': batch_losses}\n",
        "\n",
        "    def training_epoch_end(self, outputs):\n",
        "        avg_loss = torch.stack([output['batch_losses'] for output in outputs]).mean()\n",
        "\n",
        "        run['train/loss'].log(avg_loss)\n",
        "        return\n",
        "  \n",
        "    def validation_step(self, val_batch, batch_idx):\n",
        "        x, y = val_batch\n",
        "        \n",
        "        # Transforma a entrada para duas dimensões\n",
        "        # x = x.reshape(-1, 32*32*3)\n",
        "        # predict da rede\n",
        "        logits, preds = self.forward(x)\n",
        "\n",
        "        # calcula a perda\n",
        "        batch_losses = self.criterion(logits, y)\n",
        "        # calcula a acurácia\n",
        "        batch_accuracy = (preds == y)\n",
        "        \n",
        "        # Retornamos as losses do batch para podermos fazer a média no validation_epoch_end.\n",
        "        return {'batch_losses': batch_losses, 'batch_accuracy': batch_accuracy}\n",
        "\n",
        "    def validation_epoch_end(self, outputs):\n",
        "        avg_loss = torch.stack([output['batch_losses'] for output in outputs]).mean()\n",
        "        accuracy = torch.stack([output['batch_accuracy'] for output in outputs]).float().mean()\n",
        "\n",
        "        run['valid/loss'].log(avg_loss)\n",
        "        run['valid/acuracy'].log(accuracy)\n",
        "\n",
        "        metrics = {'valid_loss': avg_loss.item(), 'accuracy': accuracy.item()}\n",
        "        output =  {'progress_bar': metrics, 'valid_loss': avg_loss.item()}\n",
        "        return output\n",
        "  \n",
        "    def test_step(self, val_batch, batch_idx):\n",
        "        # A implementação deste método é opcional no Pytorch Lightning.\n",
        "        x, y = val_batch\n",
        "        \n",
        "        # Transforma a entrada para duas dimensões\n",
        "        # x = x.reshape(-1, 32*32*3)\n",
        "        # predict da rede\n",
        "        logits, preds = self.forward(x)\n",
        "\n",
        "        # calcula a perda\n",
        "        batch_losses = self.criterion(logits, y)\n",
        "        # calcula a acurácia\n",
        "        batch_accuracy = (preds == y)\n",
        "        \n",
        "        # Retornamos as losses do batch para podermos fazer a média no validation_epoch_end.\n",
        "        return {'batch_losses': batch_losses, 'batch_accuracy': batch_accuracy}\n",
        "\n",
        "    def test_epoch_end(self, outputs):\n",
        "        # A implementação deste método é opcional no Pytorch Lightning.\n",
        "        avg_loss = torch.stack([output['batch_losses'] for output in outputs]).mean()\n",
        "        accuracy = torch.stack([output['batch_accuracy'] for output in outputs]).float().mean()\n",
        "\n",
        "        run['valid/loss'].log(avg_loss)\n",
        "        run['valid/acuracy'].log(accuracy)\n",
        "        metrics = {'Test loss': avg_loss.item(), 'test accuracy': accuracy.item()}\n",
        "        output =  {'progress_bar': metrics}\n",
        "        return output\n",
        "\n",
        "    def configure_optimizers(self):\n",
        "        # Gradiente descendente\n",
        "        optimizer = torch.optim.SGD(self.model.parameters(), lr=self.hparams['learning_rate'])\n",
        "        # Aqui usamos um scheduler dummy pois o pytorch lightning original requer um.\n",
        "        scheduler = torch.optim.lr_scheduler.MultiplicativeLR(optimizer, lr_lambda=lambda epoch: 1.0)\n",
        "        return [optimizer], [scheduler]  # Forma de retorno para associar um otimizador a um scheduler."
      ],
      "execution_count": null,
      "outputs": []
    },
    {
      "cell_type": "markdown",
      "metadata": {
        "id": "nqs2JhJoQT2L"
      },
      "source": [
        "## Inicialização dos parâmetros"
      ]
    },
    {
      "cell_type": "code",
      "metadata": {
        "id": "oZuYEkn_QT2M"
      },
      "source": [
        "hparams = {\n",
        "    'max_epochs': 100,\n",
        "    'learning_rate': 0.1\n",
        "}"
      ],
      "execution_count": null,
      "outputs": []
    },
    {
      "cell_type": "markdown",
      "metadata": {
        "id": "pmXarXeIQT2O"
      },
      "source": [
        "## Treinamento"
      ]
    },
    {
      "cell_type": "code",
      "metadata": {
        "id": "L5T_jZZPQT2P",
        "colab": {
          "base_uri": "https://localhost:8080/"
        },
        "outputId": "f22e74e2-b86a-46a0-94e5-5a8d6741c371"
      },
      "source": [
        "pl_model = LightningClassifier(hparams=hparams)\n",
        "trainer = Trainer(max_epochs=hparams['max_epochs'])\n",
        "trainer.fit(pl_model, train_dataloader, val_dataloader)"
      ],
      "execution_count": null,
      "outputs": [
        {
          "output_type": "stream",
          "text": [
            "Using cuda:0\n",
            "Epoch 0 - {'valid_loss': 1.0047228336334229, 'accuracy': 0.6502000093460083}\n",
            "Epoch 1 - {'valid_loss': 0.8556151390075684, 'accuracy': 0.6992999911308289}\n",
            "Epoch 2 - {'valid_loss': 0.7860113978385925, 'accuracy': 0.7202999591827393}\n",
            "Epoch 3 - {'valid_loss': 0.7757797837257385, 'accuracy': 0.7276999950408936}\n",
            "Epoch 4 - {'valid_loss': 0.7304831743240356, 'accuracy': 0.7550999522209167}\n",
            "Epoch 5 - {'valid_loss': 0.7685660123825073, 'accuracy': 0.7444999814033508}\n",
            "Epoch 6 - {'valid_loss': 0.6775156855583191, 'accuracy': 0.7792999744415283}\n",
            "Epoch 7 - {'valid_loss': 0.8972641229629517, 'accuracy': 0.7428999543190002}\n",
            "Epoch 8 - {'valid_loss': 0.6528781652450562, 'accuracy': 0.7910000085830688}\n",
            "Epoch 9 - {'valid_loss': 0.6629108190536499, 'accuracy': 0.7980999946594238}\n",
            "Epoch 10 - {'valid_loss': 0.7468494176864624, 'accuracy': 0.7807999849319458}\n",
            "Epoch 11 - {'valid_loss': 0.6776213645935059, 'accuracy': 0.8016999959945679}\n",
            "Epoch 12 - {'valid_loss': 0.7498254776000977, 'accuracy': 0.7979999780654907}\n",
            "Epoch 13 - {'valid_loss': 0.8912996649742126, 'accuracy': 0.7763999700546265}\n",
            "Epoch 14 - {'valid_loss': 0.6855817437171936, 'accuracy': 0.8132999539375305}\n",
            "Epoch 15 - {'valid_loss': 0.7857621908187866, 'accuracy': 0.8112999796867371}\n",
            "Epoch 16 - {'valid_loss': 0.7900352478027344, 'accuracy': 0.8120999932289124}\n",
            "Epoch 17 - {'valid_loss': 0.7868807315826416, 'accuracy': 0.8141999840736389}\n",
            "Epoch 18 - {'valid_loss': 0.8390167951583862, 'accuracy': 0.8071999549865723}\n",
            "Epoch 19 - {'valid_loss': 0.8330103158950806, 'accuracy': 0.8175999522209167}\n",
            "Epoch 20 - {'valid_loss': 0.8394899368286133, 'accuracy': 0.817799985408783}\n",
            "Epoch 21 - {'valid_loss': 0.8556769490242004, 'accuracy': 0.8173999786376953}\n",
            "Epoch 22 - {'valid_loss': 0.8438554406166077, 'accuracy': 0.817799985408783}\n",
            "Epoch 23 - {'valid_loss': 0.9091381430625916, 'accuracy': 0.8151999711990356}\n",
            "Epoch 24 - {'valid_loss': 0.86203932762146, 'accuracy': 0.8183000087738037}\n",
            "Epoch 25 - {'valid_loss': 0.893496572971344, 'accuracy': 0.814799964427948}\n",
            "Epoch 26 - {'valid_loss': 0.9041630625724792, 'accuracy': 0.8175999522209167}\n",
            "Epoch 27 - {'valid_loss': 0.9600301384925842, 'accuracy': 0.8148999810218811}\n",
            "Epoch 28 - {'valid_loss': 0.9133697152137756, 'accuracy': 0.8208999633789062}\n",
            "Epoch 29 - {'valid_loss': 1.0263344049453735, 'accuracy': 0.8057000041007996}\n",
            "Epoch 30 - {'valid_loss': 0.9583971500396729, 'accuracy': 0.8205999732017517}\n",
            "Epoch 31 - {'valid_loss': 0.9180443286895752, 'accuracy': 0.8197999596595764}\n",
            "Epoch 32 - {'valid_loss': 0.9941120743751526, 'accuracy': 0.8176999688148499}\n",
            "Epoch 33 - {'valid_loss': 0.9649002552032471, 'accuracy': 0.8199999928474426}\n",
            "Epoch 34 - {'valid_loss': 1.0011268854141235, 'accuracy': 0.8184999823570251}\n",
            "Epoch 35 - {'valid_loss': 0.9708905816078186, 'accuracy': 0.8222999572753906}\n",
            "Epoch 36 - {'valid_loss': 1.0583469867706299, 'accuracy': 0.8123999834060669}\n",
            "Epoch 37 - {'valid_loss': 0.9972186088562012, 'accuracy': 0.819599986076355}\n",
            "Epoch 38 - {'valid_loss': 1.0097033977508545, 'accuracy': 0.8166999816894531}\n",
            "Epoch 39 - {'valid_loss': 1.0227586030960083, 'accuracy': 0.8230999708175659}\n",
            "Epoch 40 - {'valid_loss': 1.0128884315490723, 'accuracy': 0.8176999688148499}\n",
            "Epoch 41 - {'valid_loss': 0.9853237867355347, 'accuracy': 0.8267999887466431}\n",
            "Epoch 42 - {'valid_loss': 1.0214054584503174, 'accuracy': 0.8227999806404114}\n",
            "Epoch 43 - {'valid_loss': 0.962811291217804, 'accuracy': 0.8241999745368958}\n",
            "Epoch 44 - {'valid_loss': 0.985213041305542, 'accuracy': 0.8245999813079834}\n",
            "Epoch 45 - {'valid_loss': 0.9859719276428223, 'accuracy': 0.8258999586105347}\n",
            "Epoch 46 - {'valid_loss': 1.0290100574493408, 'accuracy': 0.8259999752044678}\n",
            "Epoch 47 - {'valid_loss': 1.039771318435669, 'accuracy': 0.8238999843597412}\n",
            "Epoch 48 - {'valid_loss': 1.1070247888565063, 'accuracy': 0.8118000030517578}\n",
            "Epoch 49 - {'valid_loss': 1.0665515661239624, 'accuracy': 0.8226999640464783}\n",
            "Epoch 50 - {'valid_loss': 1.112845778465271, 'accuracy': 0.8149999976158142}\n",
            "Epoch 51 - {'valid_loss': 1.0583521127700806, 'accuracy': 0.824400007724762}\n",
            "Epoch 52 - {'valid_loss': 1.0962638854980469, 'accuracy': 0.8194999694824219}\n",
            "Epoch 53 - {'valid_loss': 1.016040563583374, 'accuracy': 0.8305999636650085}\n",
            "Epoch 54 - {'valid_loss': 1.0235601663589478, 'accuracy': 0.82669997215271}\n",
            "Epoch 55 - {'valid_loss': 1.0488661527633667, 'accuracy': 0.8245999813079834}\n",
            "Epoch 56 - {'valid_loss': 1.0730923414230347, 'accuracy': 0.8256999850273132}\n",
            "Epoch 57 - {'valid_loss': 1.0425220727920532, 'accuracy': 0.8269999623298645}\n",
            "Epoch 58 - {'valid_loss': 1.0717607736587524, 'accuracy': 0.8222000002861023}\n",
            "Epoch 59 - {'valid_loss': 1.2725597620010376, 'accuracy': 0.8053999543190002}\n",
            "Epoch 60 - {'valid_loss': 1.069244146347046, 'accuracy': 0.8255999684333801}\n",
            "Epoch 61 - {'valid_loss': 1.1254264116287231, 'accuracy': 0.8208999633789062}\n",
            "Epoch 62 - {'valid_loss': 1.0541675090789795, 'accuracy': 0.8269000053405762}\n",
            "Epoch 63 - {'valid_loss': 1.0722708702087402, 'accuracy': 0.8264999985694885}\n",
            "Epoch 64 - {'valid_loss': 1.1305423974990845, 'accuracy': 0.824400007724762}\n",
            "Epoch 65 - {'valid_loss': 1.1241008043289185, 'accuracy': 0.824400007724762}\n",
            "Epoch 66 - {'valid_loss': 1.0881962776184082, 'accuracy': 0.8183000087738037}\n",
            "Epoch 67 - {'valid_loss': 1.096152901649475, 'accuracy': 0.8233999609947205}\n",
            "Epoch 68 - {'valid_loss': 1.0976577997207642, 'accuracy': 0.8278999924659729}\n",
            "Epoch 69 - {'valid_loss': 1.0876833200454712, 'accuracy': 0.8215999603271484}\n",
            "Epoch 70 - {'valid_loss': 1.0749107599258423, 'accuracy': 0.8241999745368958}\n",
            "Epoch 71 - {'valid_loss': 1.1197845935821533, 'accuracy': 0.8219999670982361}\n",
            "Epoch 72 - {'valid_loss': 1.0788015127182007, 'accuracy': 0.8267999887466431}\n",
            "Epoch 73 - {'valid_loss': 1.0951627492904663, 'accuracy': 0.8252999782562256}\n",
            "Epoch 74 - {'valid_loss': 1.1029826402664185, 'accuracy': 0.8279999494552612}\n",
            "Epoch 75 - {'valid_loss': 1.120612621307373, 'accuracy': 0.8255999684333801}\n",
            "Epoch 76 - {'valid_loss': 1.100204348564148, 'accuracy': 0.8290999531745911}\n",
            "Epoch 77 - {'valid_loss': 1.1735414266586304, 'accuracy': 0.8172000050544739}\n",
            "Epoch 78 - {'valid_loss': 1.0814135074615479, 'accuracy': 0.8264999985694885}\n",
            "Epoch 79 - {'valid_loss': 1.0659856796264648, 'accuracy': 0.82669997215271}\n",
            "Epoch 80 - {'valid_loss': 1.0771499872207642, 'accuracy': 0.8260999917984009}\n",
            "Epoch 81 - {'valid_loss': 1.1494925022125244, 'accuracy': 0.8276000022888184}\n",
            "Epoch 82 - {'valid_loss': 1.1485705375671387, 'accuracy': 0.8228999972343445}\n",
            "Epoch 83 - {'valid_loss': 1.1665898561477661, 'accuracy': 0.8237999677658081}\n",
            "Epoch 84 - {'valid_loss': 1.1271352767944336, 'accuracy': 0.8267999887466431}\n",
            "Epoch 85 - {'valid_loss': 1.1198058128356934, 'accuracy': 0.8242999911308289}\n",
            "Epoch 86 - {'valid_loss': 1.113090991973877, 'accuracy': 0.8223999738693237}\n",
            "Epoch 87 - {'valid_loss': 1.1325138807296753, 'accuracy': 0.8252999782562256}\n",
            "Epoch 88 - {'valid_loss': 1.1569610834121704, 'accuracy': 0.8208999633789062}\n",
            "Epoch 89 - {'valid_loss': 1.1681071519851685, 'accuracy': 0.8226999640464783}\n",
            "Epoch 90 - {'valid_loss': 1.0990710258483887, 'accuracy': 0.8242999911308289}\n",
            "Epoch 91 - {'valid_loss': 1.1072062253952026, 'accuracy': 0.8287000060081482}\n",
            "Epoch 92 - {'valid_loss': 1.095788598060608, 'accuracy': 0.8247999548912048}\n",
            "Epoch 93 - {'valid_loss': 1.1440753936767578, 'accuracy': 0.8292999863624573}\n",
            "Epoch 94 - {'valid_loss': 1.1467357873916626, 'accuracy': 0.8251000046730042}\n",
            "Epoch 95 - {'valid_loss': 1.136084794998169, 'accuracy': 0.8281999826431274}\n",
            "Epoch 96 - {'valid_loss': 1.1093612909317017, 'accuracy': 0.827299952507019}\n",
            "Epoch 97 - {'valid_loss': 1.1710855960845947, 'accuracy': 0.8270999789237976}\n",
            "Epoch 98 - {'valid_loss': 1.1452584266662598, 'accuracy': 0.8290999531745911}\n",
            "Epoch 99 - {'valid_loss': 1.1369898319244385, 'accuracy': 0.8280999660491943}\n"
          ],
          "name": "stdout"
        }
      ]
    },
    {
      "cell_type": "markdown",
      "metadata": {
        "id": "qBGYUaQnIOTu"
      },
      "source": [
        "## Teste"
      ]
    },
    {
      "cell_type": "code",
      "metadata": {
        "id": "eDaayYS8IRIC",
        "colab": {
          "base_uri": "https://localhost:8080/"
        },
        "outputId": "a09a3d95-c655-419a-fdb9-7001007b5e87"
      },
      "source": [
        "trainer.test(pl_model, test_dataloader)"
      ],
      "execution_count": null,
      "outputs": [
        {
          "output_type": "execute_result",
          "data": {
            "text/plain": [
              "{'progress_bar': {'Test loss': 1.126685380935669,\n",
              "  'test accuracy': 0.8297999501228333}}"
            ]
          },
          "metadata": {
            "tags": []
          },
          "execution_count": 16
        }
      ]
    },
    {
      "cell_type": "markdown",
      "metadata": {
        "id": "eSp6RD4mHfo9"
      },
      "source": [
        "# Modelo com TransferLerning, ResNet50"
      ]
    },
    {
      "cell_type": "code",
      "metadata": {
        "id": "H8bRPrWSJpEH"
      },
      "source": [
        "# Criando os datasets com as transformações mencionadas\n",
        "\n",
        "transform = torchvision.transforms.Compose(\n",
        "    [torchvision.transforms.ToTensor(),\n",
        "     torchvision.transforms.Resize((224, 224)),\n",
        "     torchvision.transforms.Normalize(mean=[0.485, 0.456, 0.406], std=[0.229, 0.224, 0.225]) ])\n",
        "\n",
        "\n",
        "train_dataset = torchvision.datasets.CIFAR10(root='./data', train=True,\n",
        "                                             download=False, transform=transform)\n",
        "\n",
        "test_dataset = torchvision.datasets.CIFAR10(root='./data', train=False,\n",
        "                                            download=False, transform=transform)\n"
      ],
      "execution_count": null,
      "outputs": []
    },
    {
      "cell_type": "code",
      "metadata": {
        "id": "evujDOJtHrt8"
      },
      "source": [
        "train_size = 40000\n",
        "val_size = 10000\n",
        "train_dataset, val_dataset = torch.utils.data.random_split(train_dataset, [train_size, val_size])"
      ],
      "execution_count": null,
      "outputs": []
    },
    {
      "cell_type": "code",
      "metadata": {
        "id": "IxLm5MW5VJtj",
        "colab": {
          "base_uri": "https://localhost:8080/"
        },
        "outputId": "20cecb6e-154d-4b1a-a5b9-d361058e070a"
      },
      "source": [
        "batch_size = 50\n",
        "\n",
        "train_dataloader = DataLoader(train_dataset, batch_size=batch_size, shuffle=True)\n",
        "val_dataloader = DataLoader(val_dataset, batch_size=batch_size, shuffle=False)\n",
        "test_dataloader = DataLoader(test_dataset, batch_size=batch_size, shuffle=False)\n",
        "\n",
        "print('Número de minibatches de trenamento:', len(train_dataloader))\n",
        "print('Número de minibatches de validação:', len(val_dataloader))\n",
        "print('Número de minibatches de teste:', len(test_dataloader))\n",
        "\n",
        "x_train, y_train = next(iter(train_dataloader))\n",
        "print(\"\\nDimensões dos dados de um minibatch:\", x_train.size())\n",
        "print(\"Valores mínimo e máximo dos pixels: \", torch.min(x_train), torch.max(x_train))\n",
        "print(\"Tipo dos dados das imagens:         \", type(x_train))\n",
        "print(\"Tipo das classes das imagens:       \", type(y_train))"
      ],
      "execution_count": null,
      "outputs": [
        {
          "output_type": "stream",
          "text": [
            "Número de minibatches de trenamento: 800\n",
            "Número de minibatches de validação: 200\n",
            "Número de minibatches de teste: 200\n",
            "\n",
            "Dimensões dos dados de um minibatch: torch.Size([50, 3, 224, 224])\n",
            "Valores mínimo e máximo dos pixels:  tensor(-2.1179) tensor(2.6400)\n",
            "Tipo dos dados das imagens:          <class 'torch.Tensor'>\n",
            "Tipo das classes das imagens:        <class 'torch.Tensor'>\n"
          ],
          "name": "stdout"
        }
      ]
    },
    {
      "cell_type": "code",
      "metadata": {
        "id": "ZzjifKHTVNn-"
      },
      "source": [
        "class Modelo(torch.nn.Module):\n",
        "    def __init__(self):\n",
        "        super(Modelo, self).__init__()\n",
        "\n",
        "        # Defina seu modelo aqui.\n",
        "\n",
        "        self.model = torch.hub.load('pytorch/vision:v0.9.0', 'resnet50', pretrained=True)\n",
        "        self.model.fc.out_features=10\n",
        "    \n",
        "    def forward(self, x):\n",
        "        return self.model(x)"
      ],
      "execution_count": null,
      "outputs": []
    },
    {
      "cell_type": "code",
      "metadata": {
        "id": "C9xHwuFzVjfk"
      },
      "source": [
        "hparams = {\n",
        "    'max_epochs': 8,\n",
        "    'learning_rate': 0.1\n",
        "}"
      ],
      "execution_count": null,
      "outputs": []
    },
    {
      "cell_type": "code",
      "metadata": {
        "id": "i8W65V_VVQFP",
        "colab": {
          "base_uri": "https://localhost:8080/",
          "height": 269,
          "referenced_widgets": [
            "cdad4318ab1a474fbb0671fe07c8fb6b",
            "6bfae20810e2417696f77b73657ca774",
            "1db8cbb6678b44a8b29ac2242e705fb9",
            "11369dc8471d4e1892224d53d22ef9ae",
            "3d64e0f1cc2d4212be5180e4e3162c04",
            "bcf3e30a24be42beaa74ace0487aea5f",
            "3f763b792b9a4925a427702d999964d1",
            "b056331137db4f4a87ac525e6d038003"
          ]
        },
        "outputId": "c3f6bd8e-e87e-4ed5-e694-fa1f880408a7"
      },
      "source": [
        "pl_model2 = LightningClassifier(hparams=hparams)\n",
        "trainer2 = Trainer(max_epochs=hparams['max_epochs'])\n",
        "trainer2.fit(pl_model2, train_dataloader, val_dataloader)"
      ],
      "execution_count": null,
      "outputs": [
        {
          "output_type": "stream",
          "text": [
            "Downloading: \"https://github.com/pytorch/vision/archive/v0.9.0.zip\" to /root/.cache/torch/hub/v0.9.0.zip\n",
            "Downloading: \"https://download.pytorch.org/models/resnet50-19c8e357.pth\" to /root/.cache/torch/hub/checkpoints/resnet50-19c8e357.pth\n"
          ],
          "name": "stderr"
        },
        {
          "output_type": "display_data",
          "data": {
            "application/vnd.jupyter.widget-view+json": {
              "model_id": "cdad4318ab1a474fbb0671fe07c8fb6b",
              "version_minor": 0,
              "version_major": 2
            },
            "text/plain": [
              "HBox(children=(FloatProgress(value=0.0, max=102502400.0), HTML(value='')))"
            ]
          },
          "metadata": {
            "tags": []
          }
        },
        {
          "output_type": "stream",
          "text": [
            "\n",
            "Using cuda:0\n",
            "Epoch 0 - {'valid_loss': 0.6489839553833008, 'accuracy': 0.8458999991416931}\n",
            "Epoch 1 - {'valid_loss': 0.3159894347190857, 'accuracy': 0.896399974822998}\n",
            "Epoch 2 - {'valid_loss': 0.3112369775772095, 'accuracy': 0.9025999903678894}\n",
            "Epoch 3 - {'valid_loss': 0.25502705574035645, 'accuracy': 0.9220999479293823}\n",
            "Epoch 4 - {'valid_loss': 0.2431498020887375, 'accuracy': 0.9317999482154846}\n",
            "Epoch 5 - {'valid_loss': 0.38828393816947937, 'accuracy': 0.8996999859809875}\n",
            "Epoch 6 - {'valid_loss': 0.23032362759113312, 'accuracy': 0.9321999549865723}\n",
            "Epoch 7 - {'valid_loss': 0.239551842212677, 'accuracy': 0.9328999519348145}\n"
          ],
          "name": "stdout"
        }
      ]
    },
    {
      "cell_type": "code",
      "metadata": {
        "colab": {
          "base_uri": "https://localhost:8080/"
        },
        "id": "C1UlipM5bzCj",
        "outputId": "685935e5-afa7-497f-887c-6d24091a29cb"
      },
      "source": [
        "trainer.test(pl_model2, test_dataloader)"
      ],
      "execution_count": null,
      "outputs": [
        {
          "output_type": "execute_result",
          "data": {
            "text/plain": [
              "{'progress_bar': {'Test loss': 0.2328687161207199,\n",
              "  'test accuracy': 0.9355999827384949}}"
            ]
          },
          "metadata": {
            "tags": []
          },
          "execution_count": 23
        }
      ]
    },
    {
      "cell_type": "markdown",
      "metadata": {
        "id": "LCKqfmpL7edm"
      },
      "source": [
        "# Verificando e testando Fine Tuning "
      ]
    },
    {
      "cell_type": "code",
      "metadata": {
        "id": "gT6yDoNsxU6y"
      },
      "source": [
        "from torchvision import datasets, models, transforms\n",
        "feature_extract = True"
      ],
      "execution_count": null,
      "outputs": []
    },
    {
      "cell_type": "code",
      "metadata": {
        "id": "vdWFb2oDxs0w"
      },
      "source": [
        "def set_parameter_requires_grad(model, feature_extracting):\n",
        "    if feature_extracting:\n",
        "        for param in model.parameters():\n",
        "            param.requires_grad = False"
      ],
      "execution_count": null,
      "outputs": []
    },
    {
      "cell_type": "code",
      "metadata": {
        "id": "_4nit_DuyvCH"
      },
      "source": [
        "class Modelo(torch.nn.Module):\n",
        "    def __init__(self):\n",
        "        super(Modelo, self).__init__()\n",
        "\n",
        "        # Defina seu modelo aqui.\n",
        "        self.model = torch.hub.load('pytorch/vision:v0.9.0', 'resnet50', pretrained=True)\n",
        "        set_parameter_requires_grad(self.model, feature_extract)\n",
        "        self.model.fc.out_features=1000\n",
        "\n",
        "        self.dense = torch.nn.Sequential(\n",
        "            torch.nn.ReLU(),\n",
        "            torch.nn.Dropout(0.1),\n",
        "            torch.nn.Linear(1000,500),\n",
        "            torch.nn.ReLU(),\n",
        "            torch.nn.Dropout(0.1),\n",
        "            torch.nn.Linear(500,100),\n",
        "            torch.nn.ReLU(),\n",
        "            torch.nn.Dropout(0.1),\n",
        "            torch.nn.Linear(100,10),\n",
        "        )\n",
        "\n",
        "    \n",
        "    def forward(self, x):\n",
        "        x = self.model(x)\n",
        "        x = self.dense(x)\n",
        "\n",
        "        return x "
      ],
      "execution_count": null,
      "outputs": []
    },
    {
      "cell_type": "code",
      "metadata": {
        "colab": {
          "base_uri": "https://localhost:8080/"
        },
        "id": "jCm5UW7A1b1h",
        "outputId": "ec9813d6-8ff3-40a9-f3a8-a1479bb70e24"
      },
      "source": [
        "pl_model3 = LightningClassifier(hparams=hparams)\n",
        "trainer3 = Trainer(max_epochs=hparams['max_epochs'])\n",
        "trainer3.fit(pl_model3, train_dataloader, val_dataloader)"
      ],
      "execution_count": null,
      "outputs": [
        {
          "output_type": "stream",
          "text": [
            "Using cache found in /root/.cache/torch/hub/pytorch_vision_v0.9.0\n"
          ],
          "name": "stderr"
        },
        {
          "output_type": "stream",
          "text": [
            "Using cuda:0\n",
            "Epoch 0 - {'valid_loss': 0.7338544726371765, 'accuracy': 0.7488999962806702}\n",
            "Epoch 1 - {'valid_loss': 0.6471253037452698, 'accuracy': 0.7833999991416931}\n",
            "Epoch 2 - {'valid_loss': 0.6301283836364746, 'accuracy': 0.7879999876022339}\n",
            "Epoch 3 - {'valid_loss': 0.6204351186752319, 'accuracy': 0.7854999899864197}\n",
            "Epoch 4 - {'valid_loss': 0.605130672454834, 'accuracy': 0.7902999520301819}\n",
            "Epoch 5 - {'valid_loss': 0.5859749913215637, 'accuracy': 0.8014999628067017}\n",
            "Epoch 6 - {'valid_loss': 0.5832421779632568, 'accuracy': 0.800599992275238}\n",
            "Epoch 7 - {'valid_loss': 0.5917224287986755, 'accuracy': 0.7960999608039856}\n"
          ],
          "name": "stdout"
        }
      ]
    }
  ]
}