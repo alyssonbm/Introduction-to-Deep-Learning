{
  "nbformat": 4,
  "nbformat_minor": 0,
  "metadata": {
    "anaconda-cloud": {},
    "kernelspec": {
      "display_name": "Python 3",
      "language": "python",
      "name": "python3"
    },
    "language_info": {
      "codemirror_mode": {
        "name": "ipython",
        "version": 3
      },
      "file_extension": ".py",
      "mimetype": "text/x-python",
      "name": "python",
      "nbconvert_exporter": "python",
      "pygments_lexer": "ipython3",
      "version": "3.8.3"
    },
    "toc": {
      "nav_menu": {
        "height": "207px",
        "width": "252px"
      },
      "number_sections": true,
      "sideBar": true,
      "skip_h1_title": false,
      "toc_cell": false,
      "toc_position": {},
      "toc_section_display": "block",
      "toc_window_display": false
    },
    "varInspector": {
      "cols": {
        "lenName": 16,
        "lenType": 16,
        "lenVar": 40
      },
      "kernels_config": {
        "python": {
          "delete_cmd_postfix": "",
          "delete_cmd_prefix": "del ",
          "library": "var_list.py",
          "varRefreshCmd": "print(var_dic_list())"
        },
        "r": {
          "delete_cmd_postfix": ") ",
          "delete_cmd_prefix": "rm(",
          "library": "var_list.r",
          "varRefreshCmd": "cat(var_dic_list()) "
        }
      },
      "types_to_exclude": [
        "module",
        "function",
        "builtin_function_or_method",
        "instance",
        "_Feature"
      ],
      "window_display": false
    },
    "colab": {
      "name": "06_05_Introducao-CNN-PyTorch.ipynb",
      "provenance": [],
      "collapsed_sections": []
    }
  },
  "cells": [
    {
      "cell_type": "markdown",
      "metadata": {
        "id": "eaR-_jvaqJVu"
      },
      "source": [
        "# Introduçãos às CNNs no PyTorch\n",
        "\n",
        "## Objetivos\n",
        "\n",
        "Este notebook contém exemplo numérico de uma rede com uma camada convolucional e uma camada densa. A camada convolucional possui ativação reLU e max-pooling. Já a camada densa possui uma única saída com ativação sigmóide.\n",
        "\n",
        "Com esse exemplo, aprende-se a:\n",
        "- construir a rede utilizando subclasses de Module do PyTorch\n",
        "- inicializar os pesos e biases da rede convolucional e da rede densa\n",
        "- visualizar os dados intermediários da rede"
      ]
    },
    {
      "cell_type": "markdown",
      "metadata": {
        "id": "lPUoi7O_qJV3"
      },
      "source": [
        "## Importação dos Módulos"
      ]
    },
    {
      "cell_type": "code",
      "metadata": {
        "ExecuteTime": {
          "end_time": "2018-08-27T00:45:00.707698Z",
          "start_time": "2018-08-27T00:45:00.702811Z"
        },
        "id": "Oh8vALajqJV4"
      },
      "source": [
        "import numpy as np\n",
        "import os\n",
        "\n",
        "import torch\n",
        "import torch.nn as nn\n",
        "import torch.functional as F\n",
        "\n",
        "from collections import OrderedDict\n",
        "\n",
        "np.set_printoptions(precision=3) # ponto flutuante com 3 casas para facilitar a impressão"
      ],
      "execution_count": null,
      "outputs": []
    },
    {
      "cell_type": "markdown",
      "metadata": {
        "id": "kniHswTZqJV5"
      },
      "source": [
        "## Definição da Rede, camadas convolucionais e densas"
      ]
    },
    {
      "cell_type": "markdown",
      "metadata": {
        "id": "Y3EW6utCqJV5"
      },
      "source": [
        "### Definição de camadas\n",
        "\n",
        "Em redes neurais, uma camada é usualmente um neurônio, que inclui a soma de multiplicação de\n",
        "pesos ou convolução e uma ativação usualmente não linear. Podemos dizer que o max-pooling \n",
        "também faz parte da camada.\n",
        "\n",
        "A rede que iremos utilizar neste exemplo possui 2 camadas: uma convolucional e outra densa.\n",
        "A camada convolucional terá ativação reLU e um max-pooling, já a camada densa terá uma\n",
        "ativação sigmóide."
      ]
    },
    {
      "cell_type": "markdown",
      "metadata": {
        "ExecuteTime": {
          "end_time": "2017-05-14T20:48:42.200325",
          "start_time": "2017-05-14T20:48:42.050307"
        },
        "id": "dEVjaCHHqJV5"
      },
      "source": [
        "### Rede a ser implementada\n",
        "\n",
        "<img src='https://raw.githubusercontent.com/robertoalotufo/files/master/figures/RedeIntroKeras.png' width='600pt'>"
      ]
    },
    {
      "cell_type": "markdown",
      "metadata": {
        "id": "y8DNZedxqJV6"
      },
      "source": [
        "### Criando redes np PyTorch\n",
        "\n",
        "Uma CNN no PyTorch é criada utilizando uma classe que é subclasse do *torch.nn.Module*. Essa classe poderá ter variáveis que também são instâncias de subclasses de *torch.nn.Module*.\n",
        "\n",
        "- *torch.nn.Conv2d*\n",
        "- *torch.nn.ReLU*\n",
        "- *torch.nn.MaxPool2d*\n",
        "- *torch.nn.Linear*\n",
        "\n",
        "Todas estas classes são também subclasses de *torch.nn.Module* e podem ser instanciadas no contrutor para serem utilizadas na classe (ver [Documentação torch.nn](http://pytorch.org/docs/master/nn.html))"
      ]
    },
    {
      "cell_type": "markdown",
      "metadata": {
        "id": "z0I0REfyqJV6"
      },
      "source": [
        "### Implementação do modelo"
      ]
    },
    {
      "cell_type": "code",
      "metadata": {
        "ExecuteTime": {
          "end_time": "2018-08-27T00:45:00.721277Z",
          "start_time": "2018-08-27T00:45:00.711777Z"
        },
        "id": "6ObxpZrsqJV6"
      },
      "source": [
        "class Model(nn.Module):\n",
        "    \n",
        "    # Definição de Modules que serão utilizados na rede\n",
        "    def __init__(self):\n",
        "        super(Model, self).__init__()\n",
        "        \n",
        "        # camada convolucional\n",
        "        self.conv = nn.Conv2d(in_channels=1, out_channels=3, kernel_size=(2, 2), \n",
        "                              padding=0)\n",
        "        self.relu1 = nn.ReLU()\n",
        "        self.max_pool = nn.MaxPool2d((2, 2))\n",
        "        \n",
        "        # camada densa\n",
        "        self.dense = nn.Linear(in_features=3*4, out_features=1)\n",
        "        self.relu2 = nn.ReLU()\n",
        "    \n",
        "    # Método de definição obrigatória\n",
        "    # Sequencia que será efetivamente executada para obter a saída da rede\n",
        "    def forward(self, x):\n",
        "        # passa os dados pela camada convolucional\n",
        "        x = self.conv(x)\n",
        "        x = self.relu1(x)\n",
        "        x = self.max_pool(x)\n",
        "        \n",
        "        # faz o flatten dos dados\n",
        "        x = x.reshape(-1, 3*4)\n",
        "        \n",
        "        # passa os dados pela camada densa\n",
        "        x = self.dense(x)\n",
        "        \n",
        "        return x"
      ],
      "execution_count": null,
      "outputs": []
    },
    {
      "cell_type": "code",
      "metadata": {
        "ExecuteTime": {
          "end_time": "2018-08-27T00:45:00.731831Z",
          "start_time": "2018-08-27T00:45:00.725480Z"
        },
        "id": "_RDjF2luqJV7",
        "colab": {
          "base_uri": "https://localhost:8080/"
        },
        "outputId": "9720b94f-5f57-4f04-8ba3-e742d5c137d4"
      },
      "source": [
        "model = Model()\n",
        "print(model)"
      ],
      "execution_count": null,
      "outputs": [
        {
          "output_type": "stream",
          "text": [
            "Model(\n",
            "  (conv): Conv2d(1, 3, kernel_size=(2, 2), stride=(1, 1))\n",
            "  (relu1): ReLU()\n",
            "  (max_pool): MaxPool2d(kernel_size=(2, 2), stride=(2, 2), padding=0, dilation=1, ceil_mode=False)\n",
            "  (dense): Linear(in_features=12, out_features=1, bias=True)\n",
            "  (relu2): ReLU()\n",
            ")\n"
          ],
          "name": "stdout"
        }
      ]
    },
    {
      "cell_type": "markdown",
      "metadata": {
        "id": "FxbTU_qDqJV8"
      },
      "source": [
        "## Criação dos parâmetros da rede"
      ]
    },
    {
      "cell_type": "markdown",
      "metadata": {
        "ExecuteTime": {
          "end_time": "2017-09-22T16:12:16.773142",
          "start_time": "2017-09-22T16:12:16.769216"
        },
        "id": "AaICUQAiqJV9"
      },
      "source": [
        "Neste exemplo não haverá treinamento, iremos inicializar os parâmetros da rede com valores conhecidos, de acordo com a figura."
      ]
    },
    {
      "cell_type": "markdown",
      "metadata": {
        "id": "aSXv5akIqJV9"
      },
      "source": [
        "### Kernel da convolução"
      ]
    },
    {
      "cell_type": "code",
      "metadata": {
        "ExecuteTime": {
          "end_time": "2018-08-27T00:45:00.746223Z",
          "start_time": "2018-08-27T00:45:00.735951Z"
        },
        "id": "lXqzzFP4qJV9"
      },
      "source": [
        "# número de filtros\n",
        "n_filters = 3    \n",
        "\n",
        "# comprimento e largura dos filtros\n",
        "k_height = k_width = 2 \n",
        "kernel_shape = (k_height, k_width)\n",
        "\n",
        "W_conv = torch.FloatTensor(\n",
        "                 [[[1,2],\n",
        "                   [3,4]],\n",
        "                  [[5,6],\n",
        "                   [7,8]],\n",
        "                  [[9,10],\n",
        "                   [11,12]]]).reshape(n_filters,1,k_height,k_width)"
      ],
      "execution_count": null,
      "outputs": []
    },
    {
      "cell_type": "markdown",
      "metadata": {
        "id": "h-lRssbGqJV9"
      },
      "source": [
        "### Bias da Convolução"
      ]
    },
    {
      "cell_type": "code",
      "metadata": {
        "ExecuteTime": {
          "end_time": "2018-08-27T00:45:00.774652Z",
          "start_time": "2018-08-27T00:45:00.749824Z"
        },
        "id": "gyIisp0iqJV-",
        "colab": {
          "base_uri": "https://localhost:8080/"
        },
        "outputId": "2039c7cc-be9e-45bb-88aa-cf834e4e4124"
      },
      "source": [
        "# valor de bias\n",
        "f_bias = 0.1     \n",
        "bias_conv = torch.arange(1,n_filters+1).float() * f_bias\n",
        "print(\"Bias da convolução:\",bias_conv)"
      ],
      "execution_count": null,
      "outputs": [
        {
          "output_type": "stream",
          "text": [
            "Bias da convolução: tensor([0.1000, 0.2000, 0.3000])\n"
          ],
          "name": "stdout"
        }
      ]
    },
    {
      "cell_type": "markdown",
      "metadata": {
        "id": "ZRbHW2S9qJV-"
      },
      "source": [
        "### Pesos para a camada densa"
      ]
    },
    {
      "cell_type": "code",
      "metadata": {
        "ExecuteTime": {
          "end_time": "2018-08-27T00:45:00.787044Z",
          "start_time": "2018-08-27T00:45:00.778247Z"
        },
        "id": "ywQL1QSeqJV-",
        "colab": {
          "base_uri": "https://localhost:8080/"
        },
        "outputId": "66a48a3d-70ac-4572-d340-9439539138a1"
      },
      "source": [
        "# após o max pooling, são 3 imagens 2x2 = 12\n",
        "W_dense = torch.arange(12).float().reshape(1, 12)\n",
        "print(\"Pesos da camada densa:\\n\",W_dense)"
      ],
      "execution_count": null,
      "outputs": [
        {
          "output_type": "stream",
          "text": [
            "Pesos da camada densa:\n",
            " tensor([[ 0.,  1.,  2.,  3.,  4.,  5.,  6.,  7.,  8.,  9., 10., 11.]])\n"
          ],
          "name": "stdout"
        }
      ]
    },
    {
      "cell_type": "markdown",
      "metadata": {
        "id": "b8tIPxpPqJV_"
      },
      "source": [
        "### Bias para a camada densa"
      ]
    },
    {
      "cell_type": "code",
      "metadata": {
        "ExecuteTime": {
          "end_time": "2018-08-27T00:45:00.797179Z",
          "start_time": "2018-08-27T00:45:00.790473Z"
        },
        "id": "Ikz7mpeYqJV_",
        "colab": {
          "base_uri": "https://localhost:8080/"
        },
        "outputId": "c0f40d7f-f26c-4ebf-ef9c-16f4fdf12c92"
      },
      "source": [
        "bias_dense = torch.ones(1) * f_bias\n",
        "print(\"Bias da camanda densa:\",bias_dense)"
      ],
      "execution_count": null,
      "outputs": [
        {
          "output_type": "stream",
          "text": [
            "Bias da camanda densa: tensor([0.1000])\n"
          ],
          "name": "stdout"
        }
      ]
    },
    {
      "cell_type": "markdown",
      "metadata": {
        "id": "6zuKZ3WgqJV_"
      },
      "source": [
        "### Sumário do shape dos parâmetros"
      ]
    },
    {
      "cell_type": "code",
      "metadata": {
        "ExecuteTime": {
          "end_time": "2018-08-27T00:45:00.812200Z",
          "start_time": "2018-08-27T00:45:00.800821Z"
        },
        "id": "Dp7O07wuqJWA",
        "colab": {
          "base_uri": "https://localhost:8080/",
          "height": 143
        },
        "outputId": "6d083485-933a-4755-8241-0b1fea7a1253"
      },
      "source": [
        "from IPython.display import display,HTML\n",
        "# Mostra o shape dos pesos das camadas\n",
        "display(HTML('<h3>Shape dos pesos</h3>'))\n",
        "print('{:11} {}'.format('W_conv:', W_conv.shape))\n",
        "print('{:11} {}'.format('bias_conv:', bias_conv.shape))\n",
        "print('{:11} {}'.format('W_dense:', W_dense.shape))\n",
        "print('{:11} {}'.format('bias_dense:', bias_dense.shape))\n",
        "print()"
      ],
      "execution_count": null,
      "outputs": [
        {
          "output_type": "display_data",
          "data": {
            "text/html": [
              "<h3>Shape dos pesos</h3>"
            ],
            "text/plain": [
              "<IPython.core.display.HTML object>"
            ]
          },
          "metadata": {
            "tags": []
          }
        },
        {
          "output_type": "stream",
          "text": [
            "W_conv:     torch.Size([3, 1, 2, 2])\n",
            "bias_conv:  torch.Size([3])\n",
            "W_dense:    torch.Size([1, 12])\n",
            "bias_dense: torch.Size([1])\n",
            "\n"
          ],
          "name": "stdout"
        }
      ]
    },
    {
      "cell_type": "markdown",
      "metadata": {
        "id": "HzvLB38WqJWA"
      },
      "source": [
        "## Criação da rede model e carregamento dos pesos (parâmetros)"
      ]
    },
    {
      "cell_type": "code",
      "metadata": {
        "ExecuteTime": {
          "end_time": "2018-08-27T00:45:00.823503Z",
          "start_time": "2018-08-27T00:45:00.816190Z"
        },
        "id": "nsk01BVvqJWB",
        "colab": {
          "base_uri": "https://localhost:8080/"
        },
        "outputId": "58647233-30f6-421a-8e66-f33accfa1192"
      },
      "source": [
        "# cria o modelo\n",
        "model = Model()\n",
        "\n",
        "# Dicionário com os pesos para a rede\n",
        "my_weights = OrderedDict([\n",
        "    ('conv.weight',  W_conv),\n",
        "    ('conv.bias',    bias_conv),\n",
        "    ('dense.weight', W_dense),\n",
        "    ('dense.bias',   bias_dense),\n",
        "])\n",
        "\n",
        "# aplica os pesos criados à rede\n",
        "model.load_state_dict(my_weights)"
      ],
      "execution_count": null,
      "outputs": [
        {
          "output_type": "execute_result",
          "data": {
            "text/plain": [
              "<All keys matched successfully>"
            ]
          },
          "metadata": {
            "tags": []
          },
          "execution_count": 9
        }
      ]
    },
    {
      "cell_type": "markdown",
      "metadata": {
        "id": "y_6V3plBqJWB"
      },
      "source": [
        "### Visualização dos pesos da rede na forma de dicionário"
      ]
    },
    {
      "cell_type": "code",
      "metadata": {
        "ExecuteTime": {
          "end_time": "2018-08-27T00:45:00.836484Z",
          "start_time": "2018-08-27T00:45:00.827051Z"
        },
        "id": "FPIrXMwqqJWC",
        "colab": {
          "base_uri": "https://localhost:8080/"
        },
        "outputId": "c8470cea-2a82-4560-cc7c-0f8133881933"
      },
      "source": [
        "model.state_dict()"
      ],
      "execution_count": null,
      "outputs": [
        {
          "output_type": "execute_result",
          "data": {
            "text/plain": [
              "OrderedDict([('conv.weight', tensor([[[[ 1.,  2.],\n",
              "                        [ 3.,  4.]]],\n",
              "              \n",
              "              \n",
              "                      [[[ 5.,  6.],\n",
              "                        [ 7.,  8.]]],\n",
              "              \n",
              "              \n",
              "                      [[[ 9., 10.],\n",
              "                        [11., 12.]]]])),\n",
              "             ('conv.bias', tensor([0.1000, 0.2000, 0.3000])),\n",
              "             ('dense.weight',\n",
              "              tensor([[ 0.,  1.,  2.,  3.,  4.,  5.,  6.,  7.,  8.,  9., 10., 11.]])),\n",
              "             ('dense.bias', tensor([0.1000]))])"
            ]
          },
          "metadata": {
            "tags": []
          },
          "execution_count": 10
        }
      ]
    },
    {
      "cell_type": "markdown",
      "metadata": {
        "id": "UA9VuuP4qJWC"
      },
      "source": [
        "### Visualização dos pesos da rede na forma de tensores"
      ]
    },
    {
      "cell_type": "code",
      "metadata": {
        "ExecuteTime": {
          "end_time": "2018-08-27T00:45:00.860447Z",
          "start_time": "2018-08-27T00:45:00.839480Z"
        },
        "id": "B1fZqK98qJWC",
        "colab": {
          "base_uri": "https://localhost:8080/",
          "height": 399
        },
        "outputId": "ccd19599-590b-428c-f3aa-574b72f36913"
      },
      "source": [
        "for W_name, W in model.state_dict().items():\n",
        "    display(HTML('<h4>{}</h4>'.format(W_name)))\n",
        "    print(W)"
      ],
      "execution_count": null,
      "outputs": [
        {
          "output_type": "display_data",
          "data": {
            "text/html": [
              "<h4>conv.weight</h4>"
            ],
            "text/plain": [
              "<IPython.core.display.HTML object>"
            ]
          },
          "metadata": {
            "tags": []
          }
        },
        {
          "output_type": "stream",
          "text": [
            "tensor([[[[ 1.,  2.],\n",
            "          [ 3.,  4.]]],\n",
            "\n",
            "\n",
            "        [[[ 5.,  6.],\n",
            "          [ 7.,  8.]]],\n",
            "\n",
            "\n",
            "        [[[ 9., 10.],\n",
            "          [11., 12.]]]])\n"
          ],
          "name": "stdout"
        },
        {
          "output_type": "display_data",
          "data": {
            "text/html": [
              "<h4>conv.bias</h4>"
            ],
            "text/plain": [
              "<IPython.core.display.HTML object>"
            ]
          },
          "metadata": {
            "tags": []
          }
        },
        {
          "output_type": "stream",
          "text": [
            "tensor([0.1000, 0.2000, 0.3000])\n"
          ],
          "name": "stdout"
        },
        {
          "output_type": "display_data",
          "data": {
            "text/html": [
              "<h4>dense.weight</h4>"
            ],
            "text/plain": [
              "<IPython.core.display.HTML object>"
            ]
          },
          "metadata": {
            "tags": []
          }
        },
        {
          "output_type": "stream",
          "text": [
            "tensor([[ 0.,  1.,  2.,  3.,  4.,  5.,  6.,  7.,  8.,  9., 10., 11.]])\n"
          ],
          "name": "stdout"
        },
        {
          "output_type": "display_data",
          "data": {
            "text/html": [
              "<h4>dense.bias</h4>"
            ],
            "text/plain": [
              "<IPython.core.display.HTML object>"
            ]
          },
          "metadata": {
            "tags": []
          }
        },
        {
          "output_type": "stream",
          "text": [
            "tensor([0.1000])\n"
          ],
          "name": "stdout"
        }
      ]
    },
    {
      "cell_type": "markdown",
      "metadata": {
        "id": "gIYHkZUqqJWD"
      },
      "source": [
        "## Predição da Rede e Visualização dos tensores em cada camada"
      ]
    },
    {
      "cell_type": "markdown",
      "metadata": {
        "id": "fCeHp3wZqJWD"
      },
      "source": [
        "### Imagem de Entrada: Variable (1,1,5,6) uma amostra, um canal, 5 linhas e 6 colunas"
      ]
    },
    {
      "cell_type": "code",
      "metadata": {
        "ExecuteTime": {
          "end_time": "2018-08-27T00:45:00.878620Z",
          "start_time": "2018-08-27T00:45:00.863745Z"
        },
        "id": "DpiWu9g6qJWD",
        "colab": {
          "base_uri": "https://localhost:8080/",
          "height": 179
        },
        "outputId": "022ad9a6-030b-4b42-d242-5b77782e4a3d"
      },
      "source": [
        "X = torch.FloatTensor(\n",
        "             [[[[0,0,0,0, 0,0],\n",
        "                [0,0,1,0, 0,0],\n",
        "                [0,0,0,0, 0,0],\n",
        "                [0,0,0,0,-1,0],\n",
        "                [0,0,0,0, 0,0]]]])\n",
        "\n",
        "display(HTML('<h3>Entrada na rede</h3>'))\n",
        "display(HTML('<h4>X</h4>'))\n",
        "print(X)"
      ],
      "execution_count": null,
      "outputs": [
        {
          "output_type": "display_data",
          "data": {
            "text/html": [
              "<h3>Entrada na rede</h3>"
            ],
            "text/plain": [
              "<IPython.core.display.HTML object>"
            ]
          },
          "metadata": {
            "tags": []
          }
        },
        {
          "output_type": "display_data",
          "data": {
            "text/html": [
              "<h4>X</h4>"
            ],
            "text/plain": [
              "<IPython.core.display.HTML object>"
            ]
          },
          "metadata": {
            "tags": []
          }
        },
        {
          "output_type": "stream",
          "text": [
            "tensor([[[[ 0.,  0.,  0.,  0.,  0.,  0.],\n",
            "          [ 0.,  0.,  1.,  0.,  0.,  0.],\n",
            "          [ 0.,  0.,  0.,  0.,  0.,  0.],\n",
            "          [ 0.,  0.,  0.,  0., -1.,  0.],\n",
            "          [ 0.,  0.,  0.,  0.,  0.,  0.]]]])\n"
          ],
          "name": "stdout"
        }
      ]
    },
    {
      "cell_type": "markdown",
      "metadata": {
        "id": "5sAljchyqJWD"
      },
      "source": [
        "## Predição"
      ]
    },
    {
      "cell_type": "markdown",
      "metadata": {
        "id": "2SUxyYapqJWD"
      },
      "source": [
        "### Mostra as saídas de cada camada da rede"
      ]
    },
    {
      "cell_type": "code",
      "metadata": {
        "ExecuteTime": {
          "end_time": "2018-08-27T00:45:00.969860Z",
          "start_time": "2018-08-27T00:45:00.883187Z"
        },
        "id": "ODIVeQhrqJWE",
        "colab": {
          "base_uri": "https://localhost:8080/",
          "height": 902
        },
        "outputId": "0e6419cd-a5a3-4d6e-afc1-fe6799c6e8d4"
      },
      "source": [
        "for name, layer in model.named_children():\n",
        "    display(HTML('<h4>{}:{}</h4>'.format(name, X.shape)))\n",
        "    if name == 'dense': X = X.reshape(-1, 3*4)\n",
        "    X = layer(X)\n",
        "    print(X)"
      ],
      "execution_count": null,
      "outputs": [
        {
          "output_type": "display_data",
          "data": {
            "text/html": [
              "<h4>conv:torch.Size([1, 1, 5, 6])</h4>"
            ],
            "text/plain": [
              "<IPython.core.display.HTML object>"
            ]
          },
          "metadata": {
            "tags": []
          }
        },
        {
          "output_type": "stream",
          "text": [
            "tensor([[[[  0.1000,   4.1000,   3.1000,   0.1000,   0.1000],\n",
            "          [  0.1000,   2.1000,   1.1000,   0.1000,   0.1000],\n",
            "          [  0.1000,   0.1000,   0.1000,  -3.9000,  -2.9000],\n",
            "          [  0.1000,   0.1000,   0.1000,  -1.9000,  -0.9000]],\n",
            "\n",
            "         [[  0.2000,   8.2000,   7.2000,   0.2000,   0.2000],\n",
            "          [  0.2000,   6.2000,   5.2000,   0.2000,   0.2000],\n",
            "          [  0.2000,   0.2000,   0.2000,  -7.8000,  -6.8000],\n",
            "          [  0.2000,   0.2000,   0.2000,  -5.8000,  -4.8000]],\n",
            "\n",
            "         [[  0.3000,  12.3000,  11.3000,   0.3000,   0.3000],\n",
            "          [  0.3000,  10.3000,   9.3000,   0.3000,   0.3000],\n",
            "          [  0.3000,   0.3000,   0.3000, -11.7000, -10.7000],\n",
            "          [  0.3000,   0.3000,   0.3000,  -9.7000,  -8.7000]]]],\n",
            "       grad_fn=<ThnnConv2DBackward>)\n"
          ],
          "name": "stdout"
        },
        {
          "output_type": "display_data",
          "data": {
            "text/html": [
              "<h4>relu1:torch.Size([1, 3, 4, 5])</h4>"
            ],
            "text/plain": [
              "<IPython.core.display.HTML object>"
            ]
          },
          "metadata": {
            "tags": []
          }
        },
        {
          "output_type": "stream",
          "text": [
            "tensor([[[[ 0.1000,  4.1000,  3.1000,  0.1000,  0.1000],\n",
            "          [ 0.1000,  2.1000,  1.1000,  0.1000,  0.1000],\n",
            "          [ 0.1000,  0.1000,  0.1000,  0.0000,  0.0000],\n",
            "          [ 0.1000,  0.1000,  0.1000,  0.0000,  0.0000]],\n",
            "\n",
            "         [[ 0.2000,  8.2000,  7.2000,  0.2000,  0.2000],\n",
            "          [ 0.2000,  6.2000,  5.2000,  0.2000,  0.2000],\n",
            "          [ 0.2000,  0.2000,  0.2000,  0.0000,  0.0000],\n",
            "          [ 0.2000,  0.2000,  0.2000,  0.0000,  0.0000]],\n",
            "\n",
            "         [[ 0.3000, 12.3000, 11.3000,  0.3000,  0.3000],\n",
            "          [ 0.3000, 10.3000,  9.3000,  0.3000,  0.3000],\n",
            "          [ 0.3000,  0.3000,  0.3000,  0.0000,  0.0000],\n",
            "          [ 0.3000,  0.3000,  0.3000,  0.0000,  0.0000]]]],\n",
            "       grad_fn=<ReluBackward0>)\n"
          ],
          "name": "stdout"
        },
        {
          "output_type": "display_data",
          "data": {
            "text/html": [
              "<h4>max_pool:torch.Size([1, 3, 4, 5])</h4>"
            ],
            "text/plain": [
              "<IPython.core.display.HTML object>"
            ]
          },
          "metadata": {
            "tags": []
          }
        },
        {
          "output_type": "stream",
          "text": [
            "tensor([[[[ 4.1000,  3.1000],\n",
            "          [ 0.1000,  0.1000]],\n",
            "\n",
            "         [[ 8.2000,  7.2000],\n",
            "          [ 0.2000,  0.2000]],\n",
            "\n",
            "         [[12.3000, 11.3000],\n",
            "          [ 0.3000,  0.3000]]]], grad_fn=<MaxPool2DWithIndicesBackward>)\n"
          ],
          "name": "stdout"
        },
        {
          "output_type": "display_data",
          "data": {
            "text/html": [
              "<h4>dense:torch.Size([1, 3, 2, 2])</h4>"
            ],
            "text/plain": [
              "<IPython.core.display.HTML object>"
            ]
          },
          "metadata": {
            "tags": []
          }
        },
        {
          "output_type": "stream",
          "text": [
            "tensor([[281.5000]], grad_fn=<AddmmBackward>)\n"
          ],
          "name": "stdout"
        },
        {
          "output_type": "display_data",
          "data": {
            "text/html": [
              "<h4>relu2:torch.Size([1, 1])</h4>"
            ],
            "text/plain": [
              "<IPython.core.display.HTML object>"
            ]
          },
          "metadata": {
            "tags": []
          }
        },
        {
          "output_type": "stream",
          "text": [
            "tensor([[281.5000]], grad_fn=<ReluBackward0>)\n"
          ],
          "name": "stdout"
        }
      ]
    },
    {
      "cell_type": "markdown",
      "metadata": {
        "id": "jZc5Xn_AqJWE"
      },
      "source": [
        "# Sugestões de atividades\n",
        "\n",
        "1. Quais as vantagens de utilizar Sequential na definição do modelo?\n",
        "2. Como calcular o número de parâmetros da rede?\n",
        "3. Retirar o bias e recalcular o número de parâmetros a serem treinados\n",
        "4. A rede foi projetada para aceitar entrada com shape (1,5,6). Mudar a rede para aceitar:\n",
        "   a) entrada com shape (1,6,6)\n",
        "   b) entrada com shape (3,6,6)\n",
        "5. Inserir mais uma camada convolucional com 4 filtros de saída e kernel (3,3)"
      ]
    },
    {
      "cell_type": "markdown",
      "metadata": {
        "id": "RNcIZU_8qJWE"
      },
      "source": [
        "# Referências\n",
        "\n",
        "- [PyTorch Documentation](http://pytorch.org/docs/master/index.html)\n"
      ]
    },
    {
      "cell_type": "markdown",
      "metadata": {
        "id": "s6-EYnl8qJWE"
      },
      "source": [
        "# Aprendizados com este notebook\n"
      ]
    }
  ]
}