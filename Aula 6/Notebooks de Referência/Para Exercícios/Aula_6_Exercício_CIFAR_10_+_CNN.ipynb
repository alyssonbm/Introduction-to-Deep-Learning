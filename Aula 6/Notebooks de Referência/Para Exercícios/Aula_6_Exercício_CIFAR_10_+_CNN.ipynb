{
  "nbformat": 4,
  "nbformat_minor": 0,
  "metadata": {
    "anaconda-cloud": {},
    "colab": {
      "name": "Aula 6 - Exercício - CIFAR 10 + CNN",
      "provenance": [],
      "collapsed_sections": [
        "jTyZCjzpFPBo"
      ]
    },
    "kernelspec": {
      "display_name": "Python 3",
      "language": "python",
      "name": "python3"
    },
    "language_info": {
      "codemirror_mode": {
        "name": "ipython",
        "version": 3
      },
      "file_extension": ".py",
      "mimetype": "text/x-python",
      "name": "python",
      "nbconvert_exporter": "python",
      "pygments_lexer": "ipython3",
      "version": "3.6.5"
    },
    "toc": {
      "nav_menu": {
        "height": "318px",
        "width": "252px"
      },
      "number_sections": true,
      "sideBar": true,
      "skip_h1_title": false,
      "toc_cell": false,
      "toc_position": {},
      "toc_section_display": "block",
      "toc_window_display": false
    },
    "accelerator": "GPU",
    "widgets": {
      "application/vnd.jupyter.widget-state+json": {
        "248c13d3aa3e46e2938aaff43ea9ae60": {
          "model_module": "@jupyter-widgets/controls",
          "model_name": "HBoxModel",
          "state": {
            "_view_name": "HBoxView",
            "_dom_classes": [],
            "_model_name": "HBoxModel",
            "_view_module": "@jupyter-widgets/controls",
            "_model_module_version": "1.5.0",
            "_view_count": null,
            "_view_module_version": "1.5.0",
            "box_style": "",
            "layout": "IPY_MODEL_25c48a9c2d3d453e97a855fd2bf5bfe8",
            "_model_module": "@jupyter-widgets/controls",
            "children": [
              "IPY_MODEL_6446ef2dd59f44bca76e12c409e01099",
              "IPY_MODEL_0f0cd67a43e84f9c9926aed432f50889"
            ]
          }
        },
        "25c48a9c2d3d453e97a855fd2bf5bfe8": {
          "model_module": "@jupyter-widgets/base",
          "model_name": "LayoutModel",
          "state": {
            "_view_name": "LayoutView",
            "grid_template_rows": null,
            "right": null,
            "justify_content": null,
            "_view_module": "@jupyter-widgets/base",
            "overflow": null,
            "_model_module_version": "1.2.0",
            "_view_count": null,
            "flex_flow": null,
            "width": null,
            "min_width": null,
            "border": null,
            "align_items": null,
            "bottom": null,
            "_model_module": "@jupyter-widgets/base",
            "top": null,
            "grid_column": null,
            "overflow_y": null,
            "overflow_x": null,
            "grid_auto_flow": null,
            "grid_area": null,
            "grid_template_columns": null,
            "flex": null,
            "_model_name": "LayoutModel",
            "justify_items": null,
            "grid_row": null,
            "max_height": null,
            "align_content": null,
            "visibility": null,
            "align_self": null,
            "height": null,
            "min_height": null,
            "padding": null,
            "grid_auto_rows": null,
            "grid_gap": null,
            "max_width": null,
            "order": null,
            "_view_module_version": "1.2.0",
            "grid_template_areas": null,
            "object_position": null,
            "object_fit": null,
            "grid_auto_columns": null,
            "margin": null,
            "display": null,
            "left": null
          }
        },
        "6446ef2dd59f44bca76e12c409e01099": {
          "model_module": "@jupyter-widgets/controls",
          "model_name": "FloatProgressModel",
          "state": {
            "_view_name": "ProgressView",
            "style": "IPY_MODEL_9c1c8d2da3cb433dad8baf65c8dbd58b",
            "_dom_classes": [],
            "description": "",
            "_model_name": "FloatProgressModel",
            "bar_style": "success",
            "max": 170498071,
            "_view_module": "@jupyter-widgets/controls",
            "_model_module_version": "1.5.0",
            "value": 170498071,
            "_view_count": null,
            "_view_module_version": "1.5.0",
            "orientation": "horizontal",
            "min": 0,
            "description_tooltip": null,
            "_model_module": "@jupyter-widgets/controls",
            "layout": "IPY_MODEL_fb60c45456054d399ae92808c3e5b55c"
          }
        },
        "0f0cd67a43e84f9c9926aed432f50889": {
          "model_module": "@jupyter-widgets/controls",
          "model_name": "HTMLModel",
          "state": {
            "_view_name": "HTMLView",
            "style": "IPY_MODEL_cc108639719e4c09ae6a099c3ac53aa2",
            "_dom_classes": [],
            "description": "",
            "_model_name": "HTMLModel",
            "placeholder": "​",
            "_view_module": "@jupyter-widgets/controls",
            "_model_module_version": "1.5.0",
            "value": " 170499072/? [00:15&lt;00:00, 10819031.74it/s]",
            "_view_count": null,
            "_view_module_version": "1.5.0",
            "description_tooltip": null,
            "_model_module": "@jupyter-widgets/controls",
            "layout": "IPY_MODEL_da901e632a394354b1bb358c3176d530"
          }
        },
        "9c1c8d2da3cb433dad8baf65c8dbd58b": {
          "model_module": "@jupyter-widgets/controls",
          "model_name": "ProgressStyleModel",
          "state": {
            "_view_name": "StyleView",
            "_model_name": "ProgressStyleModel",
            "description_width": "initial",
            "_view_module": "@jupyter-widgets/base",
            "_model_module_version": "1.5.0",
            "_view_count": null,
            "_view_module_version": "1.2.0",
            "bar_color": null,
            "_model_module": "@jupyter-widgets/controls"
          }
        },
        "fb60c45456054d399ae92808c3e5b55c": {
          "model_module": "@jupyter-widgets/base",
          "model_name": "LayoutModel",
          "state": {
            "_view_name": "LayoutView",
            "grid_template_rows": null,
            "right": null,
            "justify_content": null,
            "_view_module": "@jupyter-widgets/base",
            "overflow": null,
            "_model_module_version": "1.2.0",
            "_view_count": null,
            "flex_flow": null,
            "width": null,
            "min_width": null,
            "border": null,
            "align_items": null,
            "bottom": null,
            "_model_module": "@jupyter-widgets/base",
            "top": null,
            "grid_column": null,
            "overflow_y": null,
            "overflow_x": null,
            "grid_auto_flow": null,
            "grid_area": null,
            "grid_template_columns": null,
            "flex": null,
            "_model_name": "LayoutModel",
            "justify_items": null,
            "grid_row": null,
            "max_height": null,
            "align_content": null,
            "visibility": null,
            "align_self": null,
            "height": null,
            "min_height": null,
            "padding": null,
            "grid_auto_rows": null,
            "grid_gap": null,
            "max_width": null,
            "order": null,
            "_view_module_version": "1.2.0",
            "grid_template_areas": null,
            "object_position": null,
            "object_fit": null,
            "grid_auto_columns": null,
            "margin": null,
            "display": null,
            "left": null
          }
        },
        "cc108639719e4c09ae6a099c3ac53aa2": {
          "model_module": "@jupyter-widgets/controls",
          "model_name": "DescriptionStyleModel",
          "state": {
            "_view_name": "StyleView",
            "_model_name": "DescriptionStyleModel",
            "description_width": "",
            "_view_module": "@jupyter-widgets/base",
            "_model_module_version": "1.5.0",
            "_view_count": null,
            "_view_module_version": "1.2.0",
            "_model_module": "@jupyter-widgets/controls"
          }
        },
        "da901e632a394354b1bb358c3176d530": {
          "model_module": "@jupyter-widgets/base",
          "model_name": "LayoutModel",
          "state": {
            "_view_name": "LayoutView",
            "grid_template_rows": null,
            "right": null,
            "justify_content": null,
            "_view_module": "@jupyter-widgets/base",
            "overflow": null,
            "_model_module_version": "1.2.0",
            "_view_count": null,
            "flex_flow": null,
            "width": null,
            "min_width": null,
            "border": null,
            "align_items": null,
            "bottom": null,
            "_model_module": "@jupyter-widgets/base",
            "top": null,
            "grid_column": null,
            "overflow_y": null,
            "overflow_x": null,
            "grid_auto_flow": null,
            "grid_area": null,
            "grid_template_columns": null,
            "flex": null,
            "_model_name": "LayoutModel",
            "justify_items": null,
            "grid_row": null,
            "max_height": null,
            "align_content": null,
            "visibility": null,
            "align_self": null,
            "height": null,
            "min_height": null,
            "padding": null,
            "grid_auto_rows": null,
            "grid_gap": null,
            "max_width": null,
            "order": null,
            "_view_module_version": "1.2.0",
            "grid_template_areas": null,
            "object_position": null,
            "object_fit": null,
            "grid_auto_columns": null,
            "margin": null,
            "display": null,
            "left": null
          }
        }
      }
    }
  },
  "cells": [
    {
      "cell_type": "markdown",
      "metadata": {
        "id": "J3R2-_YuQT1r"
      },
      "source": [
        "# Treinamento de uma CNN no CIFAR 10\n",
        "\n",
        "**Nome: **\n"
      ]
    },
    {
      "cell_type": "markdown",
      "metadata": {
        "id": "WkfGTqMVQT1u"
      },
      "source": [
        "O objetivo deste exercício é implementar e treinar uma rede convolucional que obtenha a maior acurácia no dataset de teste do CIFAR 10.\n",
        "\n",
        "Podem definir sua própria rede ou utilizar redes pré-treinadas, como a Resnet."
      ]
    },
    {
      "cell_type": "markdown",
      "metadata": {
        "id": "S6tHIO8O-ePC"
      },
      "source": [
        "## Inicializando o Neptune"
      ]
    },
    {
      "cell_type": "code",
      "metadata": {
        "colab": {
          "base_uri": "https://localhost:8080/"
        },
        "id": "WtKt7Ey7-htu",
        "outputId": "9356b1cd-dbf4-4b43-b68f-8601adccdba6"
      },
      "source": [
        "! pip install neptune-client==0.9.1"
      ],
      "execution_count": null,
      "outputs": [
        {
          "output_type": "stream",
          "text": [
            "Requirement already satisfied: neptune-client==0.9.1 in /usr/local/lib/python3.7/dist-packages (0.9.1)\n",
            "Requirement already satisfied: click>=7.0 in /usr/local/lib/python3.7/dist-packages (from neptune-client==0.9.1) (7.1.2)\n",
            "Requirement already satisfied: pandas in /usr/local/lib/python3.7/dist-packages (from neptune-client==0.9.1) (1.1.5)\n",
            "Requirement already satisfied: future>=0.17.1 in /usr/local/lib/python3.7/dist-packages (from neptune-client==0.9.1) (0.18.2)\n",
            "Requirement already satisfied: packaging in /usr/local/lib/python3.7/dist-packages (from neptune-client==0.9.1) (20.9)\n",
            "Requirement already satisfied: requests>=2.20.0 in /usr/local/lib/python3.7/dist-packages (from neptune-client==0.9.1) (2.23.0)\n",
            "Requirement already satisfied: urllib3 in /usr/local/lib/python3.7/dist-packages (from neptune-client==0.9.1) (1.24.3)\n",
            "Requirement already satisfied: GitPython>=2.0.8 in /usr/local/lib/python3.7/dist-packages (from neptune-client==0.9.1) (3.1.14)\n",
            "Requirement already satisfied: Pillow>=1.1.6 in /usr/local/lib/python3.7/dist-packages (from neptune-client==0.9.1) (7.1.2)\n",
            "Requirement already satisfied: bravado in /usr/local/lib/python3.7/dist-packages (from neptune-client==0.9.1) (11.0.3)\n",
            "Requirement already satisfied: PyJWT in /usr/local/lib/python3.7/dist-packages (from neptune-client==0.9.1) (2.1.0)\n",
            "Requirement already satisfied: websocket-client>=0.35.0 in /usr/local/lib/python3.7/dist-packages (from neptune-client==0.9.1) (0.58.0)\n",
            "Requirement already satisfied: six>=1.12.0 in /usr/local/lib/python3.7/dist-packages (from neptune-client==0.9.1) (1.15.0)\n",
            "Requirement already satisfied: oauthlib>=2.1.0 in /usr/local/lib/python3.7/dist-packages (from neptune-client==0.9.1) (3.1.0)\n",
            "Requirement already satisfied: requests-oauthlib>=1.0.0 in /usr/local/lib/python3.7/dist-packages (from neptune-client==0.9.1) (1.3.0)\n",
            "Requirement already satisfied: pytz>=2017.2 in /usr/local/lib/python3.7/dist-packages (from pandas->neptune-client==0.9.1) (2018.9)\n",
            "Requirement already satisfied: numpy>=1.15.4 in /usr/local/lib/python3.7/dist-packages (from pandas->neptune-client==0.9.1) (1.19.5)\n",
            "Requirement already satisfied: python-dateutil>=2.7.3 in /usr/local/lib/python3.7/dist-packages (from pandas->neptune-client==0.9.1) (2.8.1)\n",
            "Requirement already satisfied: pyparsing>=2.0.2 in /usr/local/lib/python3.7/dist-packages (from packaging->neptune-client==0.9.1) (2.4.7)\n",
            "Requirement already satisfied: idna<3,>=2.5 in /usr/local/lib/python3.7/dist-packages (from requests>=2.20.0->neptune-client==0.9.1) (2.10)\n",
            "Requirement already satisfied: chardet<4,>=3.0.2 in /usr/local/lib/python3.7/dist-packages (from requests>=2.20.0->neptune-client==0.9.1) (3.0.4)\n",
            "Requirement already satisfied: certifi>=2017.4.17 in /usr/local/lib/python3.7/dist-packages (from requests>=2.20.0->neptune-client==0.9.1) (2020.12.5)\n",
            "Requirement already satisfied: gitdb<5,>=4.0.1 in /usr/local/lib/python3.7/dist-packages (from GitPython>=2.0.8->neptune-client==0.9.1) (4.0.7)\n",
            "Requirement already satisfied: pyyaml in /usr/local/lib/python3.7/dist-packages (from bravado->neptune-client==0.9.1) (3.13)\n",
            "Requirement already satisfied: typing-extensions in /usr/local/lib/python3.7/dist-packages (from bravado->neptune-client==0.9.1) (3.7.4.3)\n",
            "Requirement already satisfied: bravado-core>=5.16.1 in /usr/local/lib/python3.7/dist-packages (from bravado->neptune-client==0.9.1) (5.17.0)\n",
            "Requirement already satisfied: simplejson in /usr/local/lib/python3.7/dist-packages (from bravado->neptune-client==0.9.1) (3.17.2)\n",
            "Requirement already satisfied: monotonic in /usr/local/lib/python3.7/dist-packages (from bravado->neptune-client==0.9.1) (1.6)\n",
            "Requirement already satisfied: msgpack in /usr/local/lib/python3.7/dist-packages (from bravado->neptune-client==0.9.1) (1.0.2)\n",
            "Requirement already satisfied: smmap<5,>=3.0.1 in /usr/local/lib/python3.7/dist-packages (from gitdb<5,>=4.0.1->GitPython>=2.0.8->neptune-client==0.9.1) (4.0.0)\n",
            "Requirement already satisfied: jsonref in /usr/local/lib/python3.7/dist-packages (from bravado-core>=5.16.1->bravado->neptune-client==0.9.1) (0.2)\n",
            "Requirement already satisfied: jsonschema[format]>=2.5.1 in /usr/local/lib/python3.7/dist-packages (from bravado-core>=5.16.1->bravado->neptune-client==0.9.1) (2.6.0)\n",
            "Requirement already satisfied: swagger-spec-validator>=2.0.1 in /usr/local/lib/python3.7/dist-packages (from bravado-core>=5.16.1->bravado->neptune-client==0.9.1) (2.7.3)\n",
            "Requirement already satisfied: rfc3987; extra == \"format\" in /usr/local/lib/python3.7/dist-packages (from jsonschema[format]>=2.5.1->bravado-core>=5.16.1->bravado->neptune-client==0.9.1) (1.3.8)\n",
            "Requirement already satisfied: webcolors; extra == \"format\" in /usr/local/lib/python3.7/dist-packages (from jsonschema[format]>=2.5.1->bravado-core>=5.16.1->bravado->neptune-client==0.9.1) (1.11.1)\n",
            "Requirement already satisfied: strict-rfc3339; extra == \"format\" in /usr/local/lib/python3.7/dist-packages (from jsonschema[format]>=2.5.1->bravado-core>=5.16.1->bravado->neptune-client==0.9.1) (0.7)\n"
          ],
          "name": "stdout"
        }
      ]
    },
    {
      "cell_type": "code",
      "metadata": {
        "colab": {
          "base_uri": "https://localhost:8080/"
        },
        "id": "mgE0kR_P-iea",
        "outputId": "64f608c0-d459-4789-a970-029c03fcf91f"
      },
      "source": [
        "import neptune.new as neptune\n",
        "\n",
        "# Insira seu api_token para logar os resultados do treino na sua conta do Neptune.\n",
        "# Como obter seu API token do Neptune:\n",
        "# https://docs.neptune.ai/administration/security-and-privacy/how-to-find-and-set-neptune-api-token\n",
        "\n",
        "run = neptune.init(project='rodrigonogueira/aula6', api_token='eyJhcGlfYWRkcmVzcyI6Imh0dHBzOi8vYXBwLm5lcHR1bmUuYWkiLCJhcGlfdXJsIjoiaHR0cHM6Ly9hcHAubmVwdHVuZS5haSIsImFwaV9rZXkiOiJhYzhlOTIxYy1lMGNhLTRiY2QtYTdjYi1jNWMyN2YxNzVhMTQifQ==')"
      ],
      "execution_count": null,
      "outputs": [
        {
          "output_type": "stream",
          "text": [
            "https://app.neptune.ai/rodrigonogueira/aula6/e/AUL2-1\n"
          ],
          "name": "stdout"
        }
      ]
    },
    {
      "cell_type": "markdown",
      "metadata": {
        "id": "wFNf4RPxQT1w"
      },
      "source": [
        "## Importação das bibliotecas"
      ]
    },
    {
      "cell_type": "code",
      "metadata": {
        "id": "-fLUSHaCQT1x",
        "colab": {
          "base_uri": "https://localhost:8080/"
        },
        "outputId": "6092d7be-e3b2-4cb9-87d5-fd12ca8a4077"
      },
      "source": [
        "%matplotlib inline\n",
        "import numpy as np\n",
        "\n",
        "import torch\n",
        "from torch.utils.data import DataLoader\n",
        "\n",
        "import torchvision\n",
        "from torchvision.datasets import MNIST\n",
        "\n",
        "torch.manual_seed(123)"
      ],
      "execution_count": null,
      "outputs": [
        {
          "output_type": "execute_result",
          "data": {
            "text/plain": [
              "<torch._C.Generator at 0x7fa045565310>"
            ]
          },
          "metadata": {
            "tags": []
          },
          "execution_count": 5
        }
      ]
    },
    {
      "cell_type": "markdown",
      "metadata": {
        "id": "76PDhfUW6Afv"
      },
      "source": [
        "## Download do Dataset"
      ]
    },
    {
      "cell_type": "code",
      "metadata": {
        "id": "G0dEKCn-QT17",
        "colab": {
          "base_uri": "https://localhost:8080/",
          "height": 118,
          "referenced_widgets": [
            "248c13d3aa3e46e2938aaff43ea9ae60",
            "25c48a9c2d3d453e97a855fd2bf5bfe8",
            "6446ef2dd59f44bca76e12c409e01099",
            "0f0cd67a43e84f9c9926aed432f50889",
            "9c1c8d2da3cb433dad8baf65c8dbd58b",
            "fb60c45456054d399ae92808c3e5b55c",
            "cc108639719e4c09ae6a099c3ac53aa2",
            "da901e632a394354b1bb358c3176d530"
          ]
        },
        "outputId": "ed951f5c-1df4-4ba3-afa7-401d725234f1"
      },
      "source": [
        "!mkdir ./data\n",
        "\n",
        "transform = torchvision.transforms.Compose(\n",
        "    [torchvision.transforms.ToTensor(),\n",
        "     torchvision.transforms.Normalize((0.5, 0.5, 0.5), (0.5, 0.5, 0.5))])\n",
        "\n",
        "train_dataset = torchvision.datasets.CIFAR10(root='./data', train=True,\n",
        "                                             download=True, transform=transform)\n",
        "\n",
        "test_dataset = torchvision.datasets.CIFAR10(root='./data', train=False,\n",
        "                                            download=True, transform=transform)\n"
      ],
      "execution_count": null,
      "outputs": [
        {
          "output_type": "stream",
          "text": [
            "Downloading https://www.cs.toronto.edu/~kriz/cifar-10-python.tar.gz to ./data/cifar-10-python.tar.gz\n"
          ],
          "name": "stdout"
        },
        {
          "output_type": "display_data",
          "data": {
            "application/vnd.jupyter.widget-view+json": {
              "model_id": "248c13d3aa3e46e2938aaff43ea9ae60",
              "version_minor": 0,
              "version_major": 2
            },
            "text/plain": [
              "HBox(children=(FloatProgress(value=0.0, max=170498071.0), HTML(value='')))"
            ]
          },
          "metadata": {
            "tags": []
          }
        },
        {
          "output_type": "stream",
          "text": [
            "\n",
            "Extracting ./data/cifar-10-python.tar.gz to ./data\n",
            "Files already downloaded and verified\n"
          ],
          "name": "stdout"
        }
      ]
    },
    {
      "cell_type": "markdown",
      "metadata": {
        "id": "jEMUsfJpQT11"
      },
      "source": [
        "## Dataset e dataloader"
      ]
    },
    {
      "cell_type": "code",
      "metadata": {
        "id": "K9sXttHBTzCM"
      },
      "source": [
        "train_size = 40000\n",
        "val_size = 10000\n",
        "train_dataset, val_dataset = torch.utils.data.random_split(train_dataset, [train_size, val_size])"
      ],
      "execution_count": null,
      "outputs": []
    },
    {
      "cell_type": "code",
      "metadata": {
        "id": "w52KGYlIQT2A",
        "colab": {
          "base_uri": "https://localhost:8080/"
        },
        "outputId": "18cbee80-6022-4395-86d9-9755fe8b8dad"
      },
      "source": [
        "batch_size = 50\n",
        "\n",
        "train_dataloader = DataLoader(train_dataset, batch_size=batch_size, shuffle=True)\n",
        "val_dataloader = DataLoader(val_dataset, batch_size=batch_size, shuffle=False)\n",
        "test_dataloader = DataLoader(test_dataset, batch_size=batch_size, shuffle=False)\n",
        "\n",
        "print('Número de minibatches de trenamento:', len(train_dataloader))\n",
        "print('Número de minibatches de validação:', len(val_dataloader))\n",
        "print('Número de minibatches de teste:', len(test_dataloader))\n",
        "\n",
        "x_train, y_train = next(iter(train_dataloader))\n",
        "print(\"\\nDimensões dos dados de um minibatch:\", x_train.size())\n",
        "print(\"Valores mínimo e máximo dos pixels: \", torch.min(x_train), torch.max(x_train))\n",
        "print(\"Tipo dos dados das imagens:         \", type(x_train))\n",
        "print(\"Tipo das classes das imagens:       \", type(y_train))"
      ],
      "execution_count": null,
      "outputs": [
        {
          "output_type": "stream",
          "text": [
            "Número de minibatches de trenamento: 800\n",
            "Número de minibatches de validação: 200\n",
            "Número de minibatches de teste: 200\n",
            "\n",
            "Dimensões dos dados de um minibatch: torch.Size([50, 3, 32, 32])\n",
            "Valores mínimo e máximo dos pixels:  tensor(-1.) tensor(1.)\n",
            "Tipo dos dados das imagens:          <class 'torch.Tensor'>\n",
            "Tipo das classes das imagens:        <class 'torch.Tensor'>\n"
          ],
          "name": "stdout"
        }
      ]
    },
    {
      "cell_type": "code",
      "metadata": {
        "id": "9yBXqGDPAPXM"
      },
      "source": [
        "# Use True, para usar o pytorch lightning original\n",
        "pl_original = False"
      ],
      "execution_count": null,
      "outputs": []
    },
    {
      "cell_type": "markdown",
      "metadata": {
        "id": "jTyZCjzpFPBo"
      },
      "source": [
        "## Usando o Pytorch Lightining \"SuperLight\" (criado apenas para o curso).\n",
        "\n",
        "Criamos um Pytorch Lightning \"básico\" que esperamos ser mais didático que o original pois o código é facil de entender caso ocorra algum erro.\n",
        "\n",
        "As classes `LightningModule` e `Trainer` não precisam ser implementadas. Entretanto, para cada nova tarefa, uma classe que herda do `LightningModule` precisa ser definida e os seguintes métodos devem ser implementados:\n",
        "\n",
        " - \\_\\_init\\_\\_\n",
        " - forward\n",
        " - train_step\n",
        " - train_epoch_end\n",
        " - validation_step\n",
        " - validation_epoch_end\n",
        " - configure_optimizers\n",
        "\n",
        "Os métodos `test_step` e `test_epoch_end` devem ser implementados apenas se trainer.test() for chamado.\n"
      ]
    },
    {
      "cell_type": "code",
      "metadata": {
        "id": "_nKeJycqGEqL"
      },
      "source": [
        "import abc\n",
        "\n",
        "\n",
        "class LightningModule:\n",
        "    @abc.abstractmethod\n",
        "    def __init(self):\n",
        "        return\n",
        "\n",
        "    @abc.abstractmethod\n",
        "    def forward(self):\n",
        "        return\n",
        "\n",
        "    @abc.abstractmethod    \n",
        "    def training_step(self):\n",
        "        return \n",
        "\n",
        "    @abc.abstractmethod    \n",
        "    def training_epoch_end(self):\n",
        "        return \n",
        "\n",
        "    @abc.abstractmethod    \n",
        "    def validation_step(self):\n",
        "        return \n",
        "\n",
        "    @abc.abstractmethod    \n",
        "    def validation_epoch_end(self):\n",
        "        return \n",
        "\n",
        "    @abc.abstractmethod    \n",
        "    def test_step(self):\n",
        "        return \n",
        "\n",
        "    @abc.abstractmethod    \n",
        "    def test_epoch_end(self):\n",
        "        return\n",
        "\n",
        "    @abc.abstractmethod\n",
        "    def configure_optimizers(self):\n",
        "        return"
      ],
      "execution_count": null,
      "outputs": []
    },
    {
      "cell_type": "code",
      "metadata": {
        "id": "njy9UHW2FOmm"
      },
      "source": [
        "class Trainer():\n",
        "    def __init__(self, max_epochs: int, gpus: int = 1):\n",
        "        self.max_epochs = max_epochs\n",
        "        dev = \"cpu\" \n",
        "        if gpus > 0:\n",
        "            if torch.cuda.is_available(): \n",
        "                dev = \"cuda:0\"\n",
        "\n",
        "        print(f'Using {dev}')\n",
        "        self.device = torch.device(dev)\n",
        "\n",
        "    def fit(self, model, train_dataloader, val_dataloader=None):\n",
        "        assert isinstance(model, LightningModule)\n",
        "        best_valid_loss = 10e9\n",
        "        optimizers, _ = model.configure_optimizers()\n",
        "        optimizer = optimizers[0]\n",
        "        model.model.to(self.device)\n",
        "        \n",
        "        for i in range(self.max_epochs):\n",
        "            outputs = []\n",
        "            model.model.train()\n",
        "            for batch_idx, (x_train, y_train) in enumerate(train_dataloader):\n",
        "                x_train = x_train.to(self.device)\n",
        "                y_train = y_train.to(self.device)\n",
        "                output_dict = model.training_step((x_train, y_train), batch_idx)\n",
        "                loss = output_dict['loss']\n",
        "                # zero, backpropagation, ajusta parâmetros pelo gradiente descendente\n",
        "                optimizer.zero_grad()\n",
        "                loss.backward()\n",
        "                optimizer.step()\n",
        "                outputs.append(output_dict)\n",
        "\n",
        "            model.training_epoch_end(outputs=outputs)\n",
        "            \n",
        "            # Laço de Validação, um a cada época.\n",
        "            if val_dataloader:\n",
        "                output_val_end = self.validate(model, val_dataloader)\n",
        "                print(f'Epoch {i} - {output_val_end[\"progress_bar\"]}')\n",
        "                # Salvando o melhor modelo de acordo com a loss de validação.\n",
        "                if output_val_end['valid_loss'] < best_valid_loss:\n",
        "                    torch.save(model.model.state_dict(), 'best_model.pt')\n",
        "                    best_valid_loss = output_val_end['valid_loss']\n",
        "\n",
        "    def validate(self, model, val_dataloader):\n",
        "        outputs = []\n",
        "        model.model.eval()\n",
        "        with torch.no_grad():\n",
        "            for batch_idx, (x, y) in enumerate(val_dataloader):\n",
        "                x = x.to(self.device)\n",
        "                y = y.to(self.device)\n",
        "                output_dict = model.validation_step((x, y), batch_idx)\n",
        "                outputs.append(output_dict)\n",
        "\n",
        "        output_dict = model.validation_epoch_end(outputs=outputs)\n",
        "        return output_dict\n",
        "\n",
        "    def test(self, model, test_dataloader):\n",
        "        outputs = []\n",
        "        model.model.eval()\n",
        "        with torch.no_grad():\n",
        "            for batch_idx, (x, y) in enumerate(test_dataloader):\n",
        "                x = x.to(self.device)\n",
        "                y = y.to(self.device)\n",
        "                output_dict = model.test_step((x, y), batch_idx)\n",
        "                outputs.append(output_dict)\n",
        "\n",
        "        output_dict = model.test_epoch_end(outputs=outputs)\n",
        "        return output_dict"
      ],
      "execution_count": null,
      "outputs": []
    },
    {
      "cell_type": "code",
      "metadata": {
        "id": "smhZCgUPwp0o"
      },
      "source": [
        "if pl_original:\n",
        "    !pip install pytorch_lightning\n",
        "    from pytorch_lightning import LightningModule, Trainer"
      ],
      "execution_count": null,
      "outputs": []
    },
    {
      "cell_type": "markdown",
      "metadata": {
        "id": "BQA9Zg7GQT2G"
      },
      "source": [
        "## Definindo o Modelo"
      ]
    },
    {
      "cell_type": "code",
      "metadata": {
        "id": "_8Eg4h_kQT2H"
      },
      "source": [
        "class Modelo(torch.nn.Module):\n",
        "    def __init__(self):\n",
        "        super(Modelo, self).__init__()\n",
        "\n",
        "        # Defina seu modelo aqui.\n",
        "        self.dense = torch.nn.Sequential(\n",
        "            torch.nn.Linear(32*32*3, 500),\n",
        "            torch.nn.ReLU(),\n",
        "            torch.nn.Linear(500, 10),\n",
        "        )\n",
        "    \n",
        "    def forward(self, x):\n",
        "        return self.dense(x)"
      ],
      "execution_count": null,
      "outputs": []
    },
    {
      "cell_type": "markdown",
      "metadata": {
        "id": "PpTybLHCKVqw"
      },
      "source": [
        "## Criação do modelo Pytorch Lightning"
      ]
    },
    {
      "cell_type": "code",
      "metadata": {
        "id": "C-9tbSvrKcSL"
      },
      "source": [
        "class LightningClassifier(LightningModule):\n",
        "    def __init__(self, hparams):\n",
        "        super().__init__()\n",
        "\n",
        "        self.hparams = hparams\n",
        "        self.criterion = torch.nn.CrossEntropyLoss(reduction='none')\n",
        "\n",
        "        # Note como a arquitetura esta dependente dos hiperparâmetros salvos.\n",
        "        self.model = Modelo()\n",
        "\n",
        "    def forward(self, x):\n",
        "        logits = self.model(x)\n",
        "        preds = logits.argmax(dim=1)\n",
        "        return logits, preds\n",
        "\n",
        "    def training_step(self, train_batch, batch_idx):\n",
        "        x, y = train_batch\n",
        "        x = x.reshape(-1, 32*32*3)\n",
        "        # predict da rede\n",
        "        logits = self.model(x)\n",
        "\n",
        "        # calcula a perda\n",
        "        batch_losses = self.criterion(logits, y)\n",
        "        loss = batch_losses.mean()\n",
        "        run['train/batch_loss'].log(loss)\n",
        "\n",
        "        # O PL sempre espera um retorno nomeado 'loss' da training_step.\n",
        "        return {'loss': loss, 'batch_losses': batch_losses}\n",
        "\n",
        "    def training_epoch_end(self, outputs):\n",
        "        avg_loss = torch.stack([output['batch_losses'] for output in outputs]).mean()\n",
        "\n",
        "        run['train/loss'].log(avg_loss)\n",
        "        return\n",
        "  \n",
        "    def validation_step(self, val_batch, batch_idx):\n",
        "        x, y = val_batch\n",
        "        \n",
        "        # Transforma a entrada para duas dimensões\n",
        "        x = x.reshape(-1, 32*32*3)\n",
        "        # predict da rede\n",
        "        logits, preds = self.forward(x)\n",
        "\n",
        "        # calcula a perda\n",
        "        batch_losses = self.criterion(logits, y)\n",
        "        # calcula a acurácia\n",
        "        batch_accuracy = (preds == y)\n",
        "        \n",
        "        # Retornamos as losses do batch para podermos fazer a média no validation_epoch_end.\n",
        "        return {'batch_losses': batch_losses, 'batch_accuracy': batch_accuracy}\n",
        "\n",
        "    def validation_epoch_end(self, outputs):\n",
        "        avg_loss = torch.stack([output['batch_losses'] for output in outputs]).mean()\n",
        "        accuracy = torch.stack([output['batch_accuracy'] for output in outputs]).float().mean()\n",
        "\n",
        "        run['valid/loss'].log(avg_loss)\n",
        "        run['valid/acuracy'].log(accuracy)\n",
        "\n",
        "        metrics = {'valid_loss': avg_loss.item(), 'accuracy': accuracy.item()}\n",
        "        output =  {'progress_bar': metrics, 'valid_loss': avg_loss.item()}\n",
        "        return output\n",
        "  \n",
        "    def test_step(self, val_batch, batch_idx):\n",
        "        # A implementação deste método é opcional no Pytorch Lightning.\n",
        "        x, y = val_batch\n",
        "        \n",
        "        # Transforma a entrada para duas dimensões\n",
        "        x = x.reshape(-1, 32*32*3)\n",
        "        # predict da rede\n",
        "        logits, preds = self.forward(x)\n",
        "\n",
        "        # calcula a perda\n",
        "        batch_losses = self.criterion(logits, y)\n",
        "        # calcula a acurácia\n",
        "        batch_accuracy = (preds == y)\n",
        "        \n",
        "        # Retornamos as losses do batch para podermos fazer a média no validation_epoch_end.\n",
        "        return {'batch_losses': batch_losses, 'batch_accuracy': batch_accuracy}\n",
        "\n",
        "    def test_epoch_end(self, outputs):\n",
        "        # A implementação deste método é opcional no Pytorch Lightning.\n",
        "        avg_loss = torch.stack([output['batch_losses'] for output in outputs]).mean()\n",
        "        accuracy = torch.stack([output['batch_accuracy'] for output in outputs]).float().mean()\n",
        "\n",
        "        run['valid/loss'].log(avg_loss)\n",
        "        run['valid/acuracy'].log(accuracy)\n",
        "        metrics = {'Test loss': avg_loss.item(), 'test accuracy': accuracy.item()}\n",
        "        output =  {'progress_bar': metrics}\n",
        "        return output\n",
        "\n",
        "    def configure_optimizers(self):\n",
        "        # Gradiente descendente\n",
        "        optimizer = torch.optim.SGD(self.model.parameters(), lr=self.hparams['learning_rate'])\n",
        "        # Aqui usamos um scheduler dummy pois o pytorch lightning original requer um.\n",
        "        scheduler = torch.optim.lr_scheduler.MultiplicativeLR(optimizer, lr_lambda=lambda epoch: 1.0)\n",
        "        return [optimizer], [scheduler]  # Forma de retorno para associar um otimizador a um scheduler."
      ],
      "execution_count": null,
      "outputs": []
    },
    {
      "cell_type": "markdown",
      "metadata": {
        "id": "nqs2JhJoQT2L"
      },
      "source": [
        "## Inicialização dos parâmetros"
      ]
    },
    {
      "cell_type": "code",
      "metadata": {
        "id": "oZuYEkn_QT2M"
      },
      "source": [
        "hparams = {\n",
        "    'max_epochs': 20,\n",
        "    'learning_rate': 0.1\n",
        "}"
      ],
      "execution_count": null,
      "outputs": []
    },
    {
      "cell_type": "markdown",
      "metadata": {
        "id": "pmXarXeIQT2O"
      },
      "source": [
        "## Treinamento"
      ]
    },
    {
      "cell_type": "code",
      "metadata": {
        "id": "L5T_jZZPQT2P",
        "colab": {
          "base_uri": "https://localhost:8080/"
        },
        "outputId": "598936ac-5550-4d68-eeb0-a425111daeaf"
      },
      "source": [
        "pl_model = LightningClassifier(hparams=hparams)\n",
        "trainer = Trainer(max_epochs=hparams['max_epochs'])\n",
        "trainer.fit(pl_model, train_dataloader, val_dataloader)"
      ],
      "execution_count": null,
      "outputs": [
        {
          "output_type": "stream",
          "text": [
            "Using cuda:0\n",
            "Epoch 0 - {'valid_loss': 1.6183146238327026, 'accuracy': 0.41999998688697815}\n",
            "Epoch 1 - {'valid_loss': 1.521377444267273, 'accuracy': 0.47279998660087585}\n",
            "Epoch 2 - {'valid_loss': 1.5088480710983276, 'accuracy': 0.4781999886035919}\n",
            "Epoch 3 - {'valid_loss': 1.452017068862915, 'accuracy': 0.5009999871253967}\n",
            "Epoch 4 - {'valid_loss': 1.533208966255188, 'accuracy': 0.49149999022483826}\n",
            "Epoch 5 - {'valid_loss': 1.4924949407577515, 'accuracy': 0.5062000155448914}\n",
            "Epoch 6 - {'valid_loss': 1.5739753246307373, 'accuracy': 0.5011000037193298}\n",
            "Epoch 7 - {'valid_loss': 1.6564335823059082, 'accuracy': 0.4957999885082245}\n",
            "Epoch 8 - {'valid_loss': 1.5728020668029785, 'accuracy': 0.5073999762535095}\n",
            "Epoch 9 - {'valid_loss': 1.6071079969406128, 'accuracy': 0.5108000040054321}\n",
            "Epoch 10 - {'valid_loss': 1.6879901885986328, 'accuracy': 0.5008000135421753}\n",
            "Epoch 11 - {'valid_loss': 1.6594011783599854, 'accuracy': 0.5160999894142151}\n",
            "Epoch 12 - {'valid_loss': 1.7527636289596558, 'accuracy': 0.5054000020027161}\n",
            "Epoch 13 - {'valid_loss': 1.7695952653884888, 'accuracy': 0.5142999887466431}\n",
            "Epoch 14 - {'valid_loss': 1.8996222019195557, 'accuracy': 0.49459999799728394}\n",
            "Epoch 15 - {'valid_loss': 1.8816710710525513, 'accuracy': 0.5054000020027161}\n",
            "Epoch 16 - {'valid_loss': 1.997471570968628, 'accuracy': 0.5056999921798706}\n",
            "Epoch 17 - {'valid_loss': 2.2410831451416016, 'accuracy': 0.4822999835014343}\n",
            "Epoch 18 - {'valid_loss': 2.087124824523926, 'accuracy': 0.5135999917984009}\n",
            "Epoch 19 - {'valid_loss': 2.1722381114959717, 'accuracy': 0.50409996509552}\n"
          ],
          "name": "stdout"
        }
      ]
    },
    {
      "cell_type": "markdown",
      "metadata": {
        "id": "qBGYUaQnIOTu"
      },
      "source": [
        "## Teste"
      ]
    },
    {
      "cell_type": "code",
      "metadata": {
        "id": "eDaayYS8IRIC",
        "colab": {
          "base_uri": "https://localhost:8080/"
        },
        "outputId": "c6d11126-3ca1-4490-f78f-7e4512062c5a"
      },
      "source": [
        "trainer.test(pl_model, test_dataloader)"
      ],
      "execution_count": null,
      "outputs": [
        {
          "output_type": "execute_result",
          "data": {
            "text/plain": [
              "{'progress_bar': {'Test loss': 2.145822286605835,\n",
              "  'test accuracy': 0.5029999613761902}}"
            ]
          },
          "metadata": {
            "tags": []
          },
          "execution_count": 17
        }
      ]
    }
  ]
}