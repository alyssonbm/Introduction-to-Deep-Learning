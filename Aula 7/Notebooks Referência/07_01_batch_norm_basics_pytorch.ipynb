{
  "nbformat": 4,
  "nbformat_minor": 0,
  "metadata": {
    "kernelspec": {
      "display_name": "Python 3",
      "language": "python",
      "name": "python3"
    },
    "language_info": {
      "codemirror_mode": {
        "name": "ipython",
        "version": 3
      },
      "file_extension": ".py",
      "mimetype": "text/x-python",
      "name": "python",
      "nbconvert_exporter": "python",
      "pygments_lexer": "ipython3",
      "version": "3.6.5"
    },
    "latex_envs": {
      "LaTeX_envs_menu_present": true,
      "autocomplete": true,
      "bibliofile": "biblio.bib",
      "cite_by": "apalike",
      "current_citInitial": 1,
      "eqLabelWithNumbers": true,
      "eqNumInitial": 1,
      "hotkeys": {
        "equation": "Ctrl-E",
        "itemize": "Ctrl-I"
      },
      "labels_anchors": false,
      "latex_user_defs": false,
      "report_style_numbering": false,
      "user_envs_cfg": false
    },
    "toc": {
      "nav_menu": {
        "height": "12px",
        "width": "252px"
      },
      "number_sections": true,
      "sideBar": true,
      "skip_h1_title": false,
      "toc_cell": false,
      "toc_position": {
        "height": "1260px",
        "left": "0px",
        "right": "2348px",
        "top": "106px",
        "width": "212px"
      },
      "toc_section_display": "block",
      "toc_window_display": false
    },
    "varInspector": {
      "cols": {
        "lenName": 16,
        "lenType": 16,
        "lenVar": 40
      },
      "kernels_config": {
        "python": {
          "delete_cmd_postfix": "",
          "delete_cmd_prefix": "del ",
          "library": "var_list.py",
          "varRefreshCmd": "print(var_dic_list())"
        },
        "r": {
          "delete_cmd_postfix": ") ",
          "delete_cmd_prefix": "rm(",
          "library": "var_list.r",
          "varRefreshCmd": "cat(var_dic_list()) "
        }
      },
      "types_to_exclude": [
        "module",
        "function",
        "builtin_function_or_method",
        "instance",
        "_Feature"
      ],
      "window_display": false
    },
    "colab": {
      "name": "07_01_batch_norm_basics_pytorch.ipynb",
      "provenance": []
    }
  },
  "cells": [
    {
      "cell_type": "markdown",
      "metadata": {
        "id": "VbS8yVF3OEe9"
      },
      "source": [
        "# Batch Normalization"
      ]
    },
    {
      "cell_type": "markdown",
      "metadata": {
        "id": "17ZfsHb2OEfF"
      },
      "source": [
        "## Introdução"
      ]
    },
    {
      "cell_type": "markdown",
      "metadata": {
        "id": "vChKr2KoOEfG"
      },
      "source": [
        "Batch Normalization é uma técnica que permite normalizar automaticamente os valores que atravessam uma camada da rede neural. Normalmente o uso do BatchNorm permite um treinamento mais rápido e com menores cuidados na inicialização dos pesos. Permite que redes profundas sejam treinadas mais facilmente. \n",
        "\n",
        "A normalização é feita para que o resultado tenha média zero e variância unitária, porém, em seguida, o resultado é\n",
        "escalado pelo fator $\\gamma$ e somado ao fator $\\beta$. Estes dois fatores são parâmetros que serão também otimizados durante o treinamento do gradiente descendente.\n",
        "\n",
        "Atualmente a técnica de batch normalization é utilizada em todas as redes profundas. \n",
        "\n",
        "A camada de batch normalization é colocada entre a camada densa ou convolucional e antes da camada de ativação."
      ]
    },
    {
      "cell_type": "markdown",
      "metadata": {
        "id": "6eLQ4uNAOEfH"
      },
      "source": [
        "**Referência:**\n",
        "- Ioffe, S. and Szegedy, C. (2015), Batch Normalization: Accelerating Deep Network Training by Reducing Internal Covariate Shift., in Francis R. Bach & David M. Blei, ed., 'ICML' , JMLR.org, , pp. 448-456. \n",
        "    [PDF:arxiv](http://arxiv.org/pdf/1502.03167.pdf) "
      ]
    },
    {
      "cell_type": "markdown",
      "metadata": {
        "id": "Gw65xQ7AOEfH"
      },
      "source": [
        "<img src='https://raw.githubusercontent.com/robertoalotufo/files/master/figures/batchnorm_neuronios.png' width=\"900\"></img>"
      ]
    },
    {
      "cell_type": "markdown",
      "metadata": {
        "id": "rpSrvGfVOEfH"
      },
      "source": [
        "<img src='https://raw.githubusercontent.com/robertoalotufo/files/master/figures/batchnorm_equations.png' width=\"500\"></a>"
      ]
    },
    {
      "cell_type": "markdown",
      "metadata": {
        "id": "9BpMazIMOEfI"
      },
      "source": [
        "## Diferença entre fase de treinamento e fase de predição ou avaliação"
      ]
    },
    {
      "cell_type": "markdown",
      "metadata": {
        "id": "___yKPYLOEfI"
      },
      "source": [
        "A normalização ocorre de forma distinta na fase de treinamento e na fase de avaliação:\n",
        "- em treinamento: a média e variância ($\\mu$ e $\\sigma^2$) são estimados a partir dos valores\n",
        "das amostras no mini-batch:\n",
        "    - `running_mean`\n",
        "    - `running_var`\n",
        "- em avaliação: a média e variância é calculada pela média móvel, definida pelo parâmetro momentum ($\\lambda$):"
      ]
    },
    {
      "cell_type": "markdown",
      "metadata": {
        "id": "iCu74z7jOEfI"
      },
      "source": [
        "\\begin{align*} \n",
        "\\boldsymbol{m}_{t} &=  \\lambda \\boldsymbol{\\mu_t} + (1 - \\lambda) \\boldsymbol{m}_{t-1} &&\n",
        "\\boldsymbol{v}_{t} =   \\lambda \\boldsymbol{\\sigma^{2}_t} + (1 - \\lambda) \\boldsymbol{v}_{t-1} \n",
        "\\end{align*}"
      ]
    },
    {
      "cell_type": "markdown",
      "metadata": {
        "id": "4Lh6CgDwOEfJ"
      },
      "source": [
        "## Importações"
      ]
    },
    {
      "cell_type": "code",
      "metadata": {
        "ExecuteTime": {
          "end_time": "2018-08-21T23:14:39.406451Z",
          "start_time": "2018-08-21T23:14:37.880838Z"
        },
        "id": "9BLxg21jOEfJ"
      },
      "source": [
        "%matplotlib inline\n",
        "import matplotlib.pyplot as plot\n",
        "from IPython import display\n",
        "\n",
        "import sys, copy\n",
        "import numpy as np\n",
        "import numpy.random as nr\n",
        "import pandas as pd\n",
        "\n",
        "import torch\n",
        "\n",
        "np.set_printoptions(precision=2, suppress=True)\n",
        "nr.seed(23456)\n"
      ],
      "execution_count": null,
      "outputs": []
    },
    {
      "cell_type": "markdown",
      "metadata": {
        "id": "zV2u_elkOEfK"
      },
      "source": [
        "## nn.BatchNorm1d - Entrada com dimensão 2"
      ]
    },
    {
      "cell_type": "markdown",
      "metadata": {
        "id": "RlzhOgt1OEfK"
      },
      "source": [
        "- Documentação oficial: http://pytorch.org/docs/master/nn.html#normalization-layers\n",
        "\n",
        "Quando a entrada da camada tem duas dimensões (amostras e atributos) a normalização por atributo. Ou seja, calcula-se a estatística (média e variância) para cada coluna da matriz de dados, em cada *mini-batch*."
      ]
    },
    {
      "cell_type": "markdown",
      "metadata": {
        "id": "9sgWJyjvOEfK"
      },
      "source": [
        "## Criação rede com apenas uma camada BatchNorm"
      ]
    },
    {
      "cell_type": "code",
      "metadata": {
        "ExecuteTime": {
          "end_time": "2018-08-21T23:22:09.141755Z",
          "start_time": "2018-08-21T23:22:09.135696Z"
        },
        "id": "h4iePDGkOEfK"
      },
      "source": [
        "torch.manual_seed(1234)\n",
        "\n",
        "momentum = 0.1\n",
        "model = torch.nn.BatchNorm1d(5, momentum=momentum)        # Rede formada de apenas uma camada BatchNorm"
      ],
      "execution_count": null,
      "outputs": []
    },
    {
      "cell_type": "markdown",
      "metadata": {
        "id": "RcjDeVqQOEfL"
      },
      "source": [
        "## Parâmetros iniciais, mv_mean = 0. e mv_var = 1."
      ]
    },
    {
      "cell_type": "code",
      "metadata": {
        "ExecuteTime": {
          "end_time": "2018-08-21T23:22:10.436776Z",
          "start_time": "2018-08-21T23:22:10.426146Z"
        },
        "colab": {
          "base_uri": "https://localhost:8080/"
        },
        "id": "RoZlAqPSOEfL",
        "outputId": "3f7031fc-c8ef-4e9a-ee1b-a9b8faa7ef8f"
      },
      "source": [
        "print('Training:', model.training)\n",
        "gamma, beta, mv_mean, mv_var, _ = copy.deepcopy(model.state_dict()).values()\n",
        "param_dict = model.state_dict()\n",
        "for name,value in param_dict.items():\n",
        "    print(name)\n",
        "    print(value.numpy())"
      ],
      "execution_count": null,
      "outputs": [
        {
          "output_type": "stream",
          "text": [
            "Training: True\n",
            "weight\n",
            "[1. 1. 1. 1. 1.]\n",
            "bias\n",
            "[0. 0. 0. 0. 0.]\n",
            "running_mean\n",
            "[0. 0. 0. 0. 0.]\n",
            "running_var\n",
            "[1. 1. 1. 1. 1.]\n",
            "num_batches_tracked\n",
            "0\n"
          ],
          "name": "stdout"
        }
      ]
    },
    {
      "cell_type": "markdown",
      "metadata": {
        "id": "nKRMSe9UOEfM"
      },
      "source": [
        "## Entrada x (não normalizada)"
      ]
    },
    {
      "cell_type": "code",
      "metadata": {
        "ExecuteTime": {
          "end_time": "2018-08-21T23:22:16.900072Z",
          "start_time": "2018-08-21T23:22:16.891059Z"
        },
        "colab": {
          "base_uri": "https://localhost:8080/"
        },
        "id": "yHwSzQyzOEfM",
        "outputId": "4775e7a8-e5bd-4582-b003-761bc29b238c"
      },
      "source": [
        "x = torch.randn(4, 5) * 100. # Entrada x\n",
        "print('x:\\n',x)"
      ],
      "execution_count": null,
      "outputs": [
        {
          "output_type": "stream",
          "text": [
            "x:\n",
            " tensor([[ -11.1719,  -49.6590,   16.3074,  -88.1688,   28.9097],\n",
            "        [  48.9871,  -38.5275,  -71.2035,   63.6913,  -71.4080],\n",
            "        [-108.3124,  -55.4724, -132.4812,   69.6981,  -66.3054],\n",
            "        [ 121.5757, -252.7335,  147.7784,  -16.9624,  -99.1857]])\n"
          ],
          "name": "stdout"
        }
      ]
    },
    {
      "cell_type": "markdown",
      "metadata": {
        "id": "E6px-WnOOEfN"
      },
      "source": [
        "## Forward em treinamento: faz predict usando média e var do mini-batch e atualiza mv_mean e mv_var"
      ]
    },
    {
      "cell_type": "code",
      "metadata": {
        "ExecuteTime": {
          "end_time": "2018-08-21T23:22:21.831863Z",
          "start_time": "2018-08-21T23:22:21.822549Z"
        },
        "colab": {
          "base_uri": "https://localhost:8080/"
        },
        "id": "mMT4gW0HOEfN",
        "outputId": "6167fb7b-cc51-41f0-9b4e-42087b34786b"
      },
      "source": [
        "print('Training:', model.training)\n",
        "y = model(x)                           # Forward"
      ],
      "execution_count": null,
      "outputs": [
        {
          "output_type": "stream",
          "text": [
            "Training: True\n"
          ],
          "name": "stdout"
        }
      ]
    },
    {
      "cell_type": "markdown",
      "metadata": {
        "id": "IQK9-YhqOEfN"
      },
      "source": [
        "## Parâmetros: running_mean e running_var estimados com momentum 10% atual e 90% do anterior"
      ]
    },
    {
      "cell_type": "code",
      "metadata": {
        "ExecuteTime": {
          "end_time": "2018-08-21T23:22:24.551134Z",
          "start_time": "2018-08-21T23:22:24.537355Z"
        },
        "colab": {
          "base_uri": "https://localhost:8080/"
        },
        "id": "Sr0UM7P8OEfO",
        "outputId": "e95baba3-48af-4e0e-941d-db72905203eb"
      },
      "source": [
        "print('Training:', model.training)\n",
        "param_dict = model.state_dict()\n",
        "for name,value in param_dict.items():\n",
        "    print(name)\n",
        "    print(value.numpy())"
      ],
      "execution_count": null,
      "outputs": [
        {
          "output_type": "stream",
          "text": [
            "Training: True\n",
            "weight\n",
            "[1. 1. 1. 1. 1.]\n",
            "bias\n",
            "[0. 0. 0. 0. 0.]\n",
            "running_mean\n",
            "[ 1.28 -9.91 -0.99  0.71 -5.2 ]\n",
            "running_var\n",
            "[ 947.05 1054.9  1478.69  560.11  312.71]\n",
            "num_batches_tracked\n",
            "1\n"
          ],
          "name": "stdout"
        }
      ]
    },
    {
      "cell_type": "markdown",
      "metadata": {
        "id": "SxAW8ZepOEfO"
      },
      "source": [
        "## Conferindo os novos valores de running_mean e running_var"
      ]
    },
    {
      "cell_type": "markdown",
      "metadata": {
        "id": "jWFn6hxOOEfO"
      },
      "source": [
        "\\begin{align*} \n",
        "\\boldsymbol{m}_{t} &=  \\lambda \\boldsymbol{\\mu_t} + (1 - \\lambda) \\boldsymbol{m}_{t-1} &&\n",
        "\\boldsymbol{v}_{t} =   \\lambda \\boldsymbol{\\sigma^{2}_t} + (1 - \\lambda) \\boldsymbol{v}_{t-1} \n",
        "\\end{align*}"
      ]
    },
    {
      "cell_type": "code",
      "metadata": {
        "ExecuteTime": {
          "end_time": "2018-08-21T23:22:42.337136Z",
          "start_time": "2018-08-21T23:22:42.323052Z"
        },
        "colab": {
          "base_uri": "https://localhost:8080/"
        },
        "id": "sUQqsTwkOEfP",
        "outputId": "2f2fa51e-93ac-4775-c8f1-f6a3d7a99416"
      },
      "source": [
        "print('old mv_mean, mv_var:', mv_mean.numpy(), mv_var.numpy())\n",
        "\n",
        "mv_mean_new = momentum * x.data.mean(0) + (1 - momentum) * mv_mean\n",
        "mv_var_new  = momentum * x.data.var(0,unbiased=True) + (1 - momentum) * mv_var\n",
        "\n",
        "print('my new running mean:',mv_mean_new.numpy())\n",
        "print('my new running var :',mv_var_new.numpy())"
      ],
      "execution_count": null,
      "outputs": [
        {
          "output_type": "stream",
          "text": [
            "old mv_mean, mv_var: [0. 0. 0. 0. 0.] [1. 1. 1. 1. 1.]\n",
            "my new running mean: [ 1.28 -9.91 -0.99  0.71 -5.2 ]\n",
            "my new running var : [ 947.05 1054.9  1478.69  560.11  312.71]\n"
          ],
          "name": "stdout"
        }
      ]
    },
    {
      "cell_type": "markdown",
      "metadata": {
        "id": "IJwg0joQOEfP"
      },
      "source": [
        "## Saída  y"
      ]
    },
    {
      "cell_type": "code",
      "metadata": {
        "ExecuteTime": {
          "end_time": "2018-08-21T23:22:53.402156Z",
          "start_time": "2018-08-21T23:22:53.395060Z"
        },
        "colab": {
          "base_uri": "https://localhost:8080/"
        },
        "id": "uPN3zuIWOEfP",
        "outputId": "79966f83-4587-44dc-84cc-09bc6f48be8a"
      },
      "source": [
        "y"
      ],
      "execution_count": null,
      "outputs": [
        {
          "output_type": "execute_result",
          "data": {
            "text/plain": [
              "tensor([[-0.2842,  0.5561,  0.2489, -1.4705,  1.6731],\n",
              "        [ 0.4299,  0.6813, -0.5823,  0.8744, -0.4014],\n",
              "        [-1.4374,  0.4907, -1.1644,  0.9671, -0.2959],\n",
              "        [ 1.2916, -1.7280,  1.4977, -0.3710, -0.9758]],\n",
              "       grad_fn=<NativeBatchNormBackward>)"
            ]
          },
          "metadata": {
            "tags": []
          },
          "execution_count": 8
        }
      ]
    },
    {
      "cell_type": "markdown",
      "metadata": {
        "id": "P3isbZu4OEfQ"
      },
      "source": [
        "## Conferindo com código próprio"
      ]
    },
    {
      "cell_type": "markdown",
      "metadata": {
        "id": "OUTQvRPpOEfQ"
      },
      "source": [
        "Em treinamento, a normalização é feita com a estatística do mini-batch"
      ]
    },
    {
      "cell_type": "markdown",
      "metadata": {
        "id": "1v6EH2nrOEfQ"
      },
      "source": [
        "$$  y = \\frac{x - mean[x]}{ \\sqrt{Var[x] + \\epsilon}} * gamma + beta $$"
      ]
    },
    {
      "cell_type": "code",
      "metadata": {
        "ExecuteTime": {
          "end_time": "2018-08-21T23:22:59.837301Z",
          "start_time": "2018-08-21T23:22:59.826581Z"
        },
        "colab": {
          "base_uri": "https://localhost:8080/"
        },
        "id": "u845T41-OEfQ",
        "outputId": "2dd20e5c-3795-4941-fb29-ec584fabb3c0"
      },
      "source": [
        "mean = x.mean(dim=0).data\n",
        "var  = x.var(dim=0, unbiased=False).data # Veja que aqui é unbiased\n",
        "print('mean:',mean.numpy())\n",
        "print('var: ',var.numpy())\n",
        "y2 = (x.data - mean) / torch.sqrt(var + model.eps) * gamma + beta\n",
        "\n",
        "print(y2)"
      ],
      "execution_count": null,
      "outputs": [
        {
          "output_type": "stream",
          "text": [
            "mean: [ 12.77 -99.1   -9.9    7.06 -52.  ]\n",
            "var:  [ 7096.13  7905.02 11083.39  4194.05  2338.55]\n",
            "tensor([[-0.2842,  0.5561,  0.2489, -1.4705,  1.6731],\n",
            "        [ 0.4299,  0.6813, -0.5823,  0.8744, -0.4014],\n",
            "        [-1.4374,  0.4907, -1.1644,  0.9671, -0.2959],\n",
            "        [ 1.2916, -1.7280,  1.4977, -0.3710, -0.9758]])\n"
          ],
          "name": "stdout"
        }
      ]
    },
    {
      "cell_type": "markdown",
      "metadata": {
        "id": "aOR-Ucj-OEfR"
      },
      "source": [
        "## Modo predict sem treinamento"
      ]
    },
    {
      "cell_type": "code",
      "metadata": {
        "ExecuteTime": {
          "end_time": "2018-08-21T23:23:16.527237Z",
          "start_time": "2018-08-21T23:23:16.522317Z"
        },
        "id": "8RA91Rv6OEfR"
      },
      "source": [
        "model.training = False\n",
        "y = model(x)                           # Forward"
      ],
      "execution_count": null,
      "outputs": []
    },
    {
      "cell_type": "markdown",
      "metadata": {
        "id": "TPBx67M3OEfR"
      },
      "source": [
        "Observe que agora, o running_mean e running_var serão utilizados"
      ]
    },
    {
      "cell_type": "code",
      "metadata": {
        "ExecuteTime": {
          "end_time": "2018-08-21T23:23:18.616154Z",
          "start_time": "2018-08-21T23:23:18.602866Z"
        },
        "colab": {
          "base_uri": "https://localhost:8080/"
        },
        "id": "0tRM_EDcOEfR",
        "outputId": "5a30e6bc-16c8-4429-dbdd-7e2aed7ead7e"
      },
      "source": [
        "print('Training:', model.training)\n",
        "param_dict = model.state_dict()\n",
        "for name,value in param_dict.items():\n",
        "    print(name)\n",
        "    print(value.numpy())"
      ],
      "execution_count": null,
      "outputs": [
        {
          "output_type": "stream",
          "text": [
            "Training: False\n",
            "weight\n",
            "[1. 1. 1. 1. 1.]\n",
            "bias\n",
            "[0. 0. 0. 0. 0.]\n",
            "running_mean\n",
            "[ 1.28 -9.91 -0.99  0.71 -5.2 ]\n",
            "running_var\n",
            "[ 947.05 1054.9  1478.69  560.11  312.71]\n",
            "num_batches_tracked\n",
            "1\n"
          ],
          "name": "stdout"
        }
      ]
    },
    {
      "cell_type": "markdown",
      "metadata": {
        "id": "oMxgjh7oOEfS"
      },
      "source": [
        "## Resultado da rede no modo eval(), note que os valores não ficaram tão normalizados (por quê?)"
      ]
    },
    {
      "cell_type": "code",
      "metadata": {
        "ExecuteTime": {
          "end_time": "2018-08-21T23:23:52.740891Z",
          "start_time": "2018-08-21T23:23:52.731312Z"
        },
        "colab": {
          "base_uri": "https://localhost:8080/"
        },
        "id": "HlZ0B4BTOEfS",
        "outputId": "51e5294c-06e8-4f0a-a39d-4d83c990aed4"
      },
      "source": [
        "y"
      ],
      "execution_count": null,
      "outputs": [
        {
          "output_type": "execute_result",
          "data": {
            "text/plain": [
              "tensor([[-0.4045, -1.2238,  0.4498, -3.7553,  1.9289],\n",
              "        [ 1.5503, -0.8811, -1.8259,  2.6613, -3.7441],\n",
              "        [-3.5611, -1.4028, -3.4195,  2.9151, -3.4555],\n",
              "        [ 3.9091, -7.4763,  3.8688, -0.7466, -5.3149]],\n",
              "       grad_fn=<NativeBatchNormBackward>)"
            ]
          },
          "metadata": {
            "tags": []
          },
          "execution_count": 12
        }
      ]
    },
    {
      "cell_type": "markdown",
      "metadata": {
        "id": "n75GCOPIOEfS"
      },
      "source": [
        "## Conferindo com código próprio, note que usa-se o running_mean e running_var"
      ]
    },
    {
      "cell_type": "code",
      "metadata": {
        "ExecuteTime": {
          "end_time": "2018-08-21T23:24:15.102879Z",
          "start_time": "2018-08-21T23:24:15.095641Z"
        },
        "colab": {
          "base_uri": "https://localhost:8080/"
        },
        "id": "9HxxatMLOEfS",
        "outputId": "58adee1e-ff1f-478d-934e-8d5f65359304"
      },
      "source": [
        "gamma, beta, mv_mean, mv_var, _ = model.state_dict().values()\n",
        "\n",
        "mean = mv_mean\n",
        "var  = mv_var\n",
        "\n",
        "y2 = (x.data - mean) / torch.sqrt(var + model.eps) * gamma + beta\n",
        "\n",
        "print(y2)"
      ],
      "execution_count": null,
      "outputs": [
        {
          "output_type": "stream",
          "text": [
            "tensor([[-0.4045, -1.2238,  0.4498, -3.7553,  1.9289],\n",
            "        [ 1.5503, -0.8811, -1.8259,  2.6613, -3.7441],\n",
            "        [-3.5611, -1.4028, -3.4195,  2.9151, -3.4555],\n",
            "        [ 3.9091, -7.4763,  3.8688, -0.7466, -5.3149]])\n"
          ],
          "name": "stdout"
        }
      ]
    },
    {
      "cell_type": "markdown",
      "metadata": {
        "collapsed": true,
        "id": "hPCBYD7XOEfT"
      },
      "source": [
        "## Exercícios"
      ]
    },
    {
      "cell_type": "markdown",
      "metadata": {
        "id": "q14IYoJ7OEfT"
      },
      "source": [
        "1. Coloque a rede no modo treinamento em um laço, de modo que a running_mean e running_var se aproximem da média e variância do mini-batch. Quantas execuções da rede serão necessárias?"
      ]
    },
    {
      "cell_type": "code",
      "metadata": {
        "id": "MeoNWr8hOEfT"
      },
      "source": [
        "model.training = True\n",
        "#for i in range(100):\n",
        "    #y = model(x)\n",
        "    # Busque aqui os valores da média móvel da média e variância que estão sendo aprendidos\n",
        "    #\n",
        "    #\n",
        "    #print(mv_mean.numpy(), mv_var.numpy())"
      ],
      "execution_count": null,
      "outputs": []
    }
  ]
}