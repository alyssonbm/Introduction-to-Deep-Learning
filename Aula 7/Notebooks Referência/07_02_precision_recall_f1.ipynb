{
  "nbformat": 4,
  "nbformat_minor": 0,
  "metadata": {
    "colab": {
      "name": "07_02_precision_recall_f1.ipynb",
      "provenance": [],
      "collapsed_sections": []
    },
    "kernelspec": {
      "display_name": "Python 3",
      "language": "python",
      "name": "python3"
    },
    "language_info": {
      "codemirror_mode": {
        "name": "ipython",
        "version": 3
      },
      "file_extension": ".py",
      "mimetype": "text/x-python",
      "name": "python",
      "nbconvert_exporter": "python",
      "pygments_lexer": "ipython3",
      "version": "3.6.5"
    },
    "toc": {
      "base_numbering": 1,
      "nav_menu": {},
      "number_sections": true,
      "sideBar": true,
      "skip_h1_title": false,
      "title_cell": "Table of Contents",
      "title_sidebar": "Contents",
      "toc_cell": false,
      "toc_position": {},
      "toc_section_display": true,
      "toc_window_display": false
    }
  },
  "cells": [
    {
      "cell_type": "code",
      "metadata": {
        "id": "gqevLOsjJltf"
      },
      "source": [
        "import numpy as np\n",
        "import torch\n",
        "import matplotlib.pyplot as plt\n",
        "import pandas as pd\n",
        "import seaborn as sn\n",
        "np.set_printoptions(precision=3, suppress=True,formatter={'float': '{: 0.3f}'.format})"
      ],
      "execution_count": null,
      "outputs": []
    },
    {
      "cell_type": "markdown",
      "metadata": {
        "id": "2qW7Wn6EPiFm"
      },
      "source": [
        "## Matriz de Confusão\n",
        "\n",
        "A matriz de confusão é uma matriz quadrada em que cada dimensão são os números possívels de categorias (classes). Usando a convenção utilizada no skicit-learn, as linhas são as classes reais oriundas do dataset e as colunas são as classes preditas pelo classificador. Cada elemento da matriz é o número de ocorrências que ocorreram com uma amostra que é da classe i e foi predita na classe j. Podemos dizer que a matriz de confusão é um histograma bidimensional associado à classe real e à classe predita."
      ]
    },
    {
      "cell_type": "markdown",
      "metadata": {
        "id": "8p2Wv4ieUSzW"
      },
      "source": [
        "![fig. matriz de confusão](https://raw.githubusercontent.com/robertoalotufo/files/master/figures/matriz_confusao.png)"
      ]
    },
    {
      "cell_type": "markdown",
      "metadata": {
        "id": "KaielaKKugtm"
      },
      "source": [
        "## NumPy implementation of Confusion Matrix"
      ]
    },
    {
      "cell_type": "code",
      "metadata": {
        "id": "9J7Uw-ZzJyok"
      },
      "source": [
        "# Slow implementation using the definition of a 2D histogram\n",
        "def build_confusion_matrix_slow(y_true, y_pred):\n",
        "    n_classes = y_true.max() + 1\n",
        "    cm = np.zeros((n_classes,n_classes), dtype=np.int)\n",
        "    for i,j in zip(y_true,y_pred):\n",
        "        cm[i,j] += 1\n",
        "    return cm"
      ],
      "execution_count": null,
      "outputs": []
    },
    {
      "cell_type": "code",
      "metadata": {
        "id": "5SY1ca45h10K"
      },
      "source": [
        "# Faster implementation using np.bincount (1D histogram)\n",
        "# need to convert the 2D matrix to 1D vector\n",
        "def build_confusion_matrix(y_true, y_pred):\n",
        "    n_classes = y_true.max() + 1\n",
        "    cm = np.bincount(y_true * n_classes + y_pred)\n",
        "    n_last = n_classes**2 - len(cm)\n",
        "    if n_last:\n",
        "        cm = np.concatenate((cm,np.zeros((n_last,),dtype=cm.dtype)))\n",
        "    return cm.reshape(n_classes, n_classes)"
      ],
      "execution_count": null,
      "outputs": []
    },
    {
      "cell_type": "markdown",
      "metadata": {
        "id": "_fopziDTulY5"
      },
      "source": [
        "## PyTorch implementation of Confusion Matrix"
      ]
    },
    {
      "cell_type": "code",
      "metadata": {
        "id": "NPYIU-cuupm_"
      },
      "source": [
        "# Slow implementation using the definition of a 2D histogram\n",
        "def build_confusion_matrix_slow_torch(y_true, y_pred):\n",
        "    n_classes = y_true.max() + 1\n",
        "    cm = torch.zeros((n_classes,n_classes), dtype=torch.int)\n",
        "    for i,j in zip(y_true,y_pred):\n",
        "        cm[i,j] += 1\n",
        "    return cm"
      ],
      "execution_count": null,
      "outputs": []
    },
    {
      "cell_type": "code",
      "metadata": {
        "id": "kpTh7xDWvrLU"
      },
      "source": [
        "# Faster implementation using np.bincount (1D histogram)\n",
        "# need to convert the 2D matrix to 1D vector\n",
        "def build_confusion_matrix_torch(y_true, y_pred):\n",
        "    n_classes = y_true.max() + 1\n",
        "    cm = torch.bincount(y_true * n_classes + y_pred)\n",
        "    n_last = n_classes**2 - len(cm)\n",
        "    if n_last:\n",
        "        cm = torch.cat((cm,torch.zeros((n_last,),dtype=cm.dtype)))\n",
        "    return cm.reshape(n_classes, n_classes)"
      ],
      "execution_count": null,
      "outputs": []
    },
    {
      "cell_type": "markdown",
      "metadata": {
        "id": "NbQoPZfmVNyf"
      },
      "source": [
        "## Precision, Recall and F1\n",
        "\n",
        "Precision of class c is the number of times the prediction is correct divided by all predictions of class c. Using the confusion matrix, it is the element (c,c) divided by all predictions of column c.\n",
        "\n",
        "Recall of class c is the number of times the prediction is correct divided by all samples of classe c. Using the confusion matrix, it is the element (c,c) divided by all elements of line c.\n",
        "\n",
        "F1 is the harmonic mean of precision and recall.\n",
        "\n",
        "Precision ($P$) is defined as the number of true positives ($T_p$)\n",
        "over the number of true positives plus the number of false positives\n",
        "($F_p$).\n",
        "\n",
        "$P = \\frac{T_p}{T_p+F_p}$\n",
        "\n",
        "Recall ($R$) is defined as the number of true positives ($T_p$)\n",
        "over the number of true positives plus the number of false negatives\n",
        "($F_n$).\n",
        "\n",
        "$R = \\frac{T_p}{T_p + F_n}$\n",
        "\n",
        "These quantities are also related to the ($F_1$) score, which is defined\n",
        "as the harmonic mean of precision and recall.\n",
        "\n",
        "$F1 = 2\\frac{P \\times R}{P+R}$\n"
      ]
    },
    {
      "cell_type": "code",
      "metadata": {
        "ExecuteTime": {
          "end_time": "2020-02-18T11:55:15.556203Z",
          "start_time": "2020-02-18T11:55:15.527500Z"
        },
        "id": "drWLOjG4KJ29"
      },
      "source": [
        "def precision_recall_f1(confusion_matrix):\n",
        "    # dataset: axis 1\n",
        "    # prediction: axis 0\n",
        "    eps = np.finfo(np.float32).eps\n",
        "    ds_sum = confusion_matrix.sum(axis=1)\n",
        "    pred_sum = confusion_matrix.sum(axis=0)\n",
        "    acc = confusion_matrix.diagonal()\n",
        "    precision = acc/pred_sum\n",
        "    recall = acc/ds_sum\n",
        "    f1 = 2*(precision*recall)/(precision+recall + eps)\n",
        "    return precision,recall,f1"
      ],
      "execution_count": null,
      "outputs": []
    },
    {
      "cell_type": "markdown",
      "metadata": {
        "id": "wsVQ_wEUTYJl"
      },
      "source": [
        "[source](https://datascience.stackexchange.com/questions/15989/micro-average-vs-macro-average-performance-in-a-multiclass-classification-settin)\n",
        "\n",
        "Micro- and macro-averages (for whatever metric) will compute slightly different things, and thus their interpretation differs. A macro-average will compute the metric independently for each class and then take the average (hence treating all classes equally), whereas a micro-average will aggregate the contributions of all classes to compute the average metric. In a multi-class classification setup, micro-average is preferable if you suspect there might be class imbalance (i.e you may have many more examples of one class than of other classes).\n",
        "\n",
        "To illustrate why, take for example precision $Pr=\\frac{TP}{(TP+FP)}$. Let's imagine you have a One-vs-All (there is only one correct class output per example) multi-class classification system with four classes and the following numbers when tested:\n",
        "\n",
        "- Class A: 1 TP and 1 FP\n",
        "- Class B: 10 TP and 90 FP\n",
        "- Class C: 1 TP and 1 FP\n",
        "- Class D: 1 TP and 1 FP\n",
        "\n",
        "You can see easily that $ 𝑃𝑟𝐴=𝑃𝑟𝐶=𝑃𝑟𝐷=0.5 $, whereas 𝑃𝑟𝐵=0.1.\n",
        "\n",
        "A macro-average will then compute: $𝑃𝑟=\\frac{0.5+0.1+0.5+0.5}{4}=0.4$\n",
        "\n",
        "A micro-average will compute: $𝑃𝑟=\\frac{1+10+1+1}{2+100+2+2}=0.123$"
      ]
    },
    {
      "cell_type": "markdown",
      "metadata": {
        "id": "p5fHWZU37gte"
      },
      "source": [
        "## Micro averaging, fazendo o cálculo com a soma dos TP, FN e FP\n",
        "\n",
        "Micro averaging é igual a acurácia neste exemplo. Ele só será diferente da acurácia quando o problema é multi label, isto é, o número de exemplos não é igual a soma de todos os valores da matriz de confusão, pois o predict de um exemplo poderá dar mais de uma classe como resultado."
      ]
    },
    {
      "cell_type": "code",
      "metadata": {
        "id": "UkvobkJujn45"
      },
      "source": [
        "def precision_recall_f1_micro(confusion_matrix):\n",
        "    eps = np.finfo(np.float32).eps\n",
        "    tp = confusion_matrix.diagonal()\n",
        "    fn_sum = (confusion_matrix.sum(axis=1) - tp).sum()\n",
        "    fp_sum = (confusion_matrix.sum(axis=0) - tp).sum()\n",
        "    tp_sum = tp.sum()\n",
        "    precision = tp_sum/(tp_sum + fp_sum)\n",
        "    recall = tp_sum/(tp_sum + fn_sum)\n",
        "    f1 = 2*(precision*recall)/(precision+recall + eps)\n",
        "    return precision,recall,f1"
      ],
      "execution_count": null,
      "outputs": []
    },
    {
      "cell_type": "markdown",
      "metadata": {
        "id": "yK-Aw6iM7eOx"
      },
      "source": [
        "## Macro averaging, é a média das métricas"
      ]
    },
    {
      "cell_type": "code",
      "metadata": {
        "id": "Nhyw-vpl7By9"
      },
      "source": [
        "def precision_recall_f1_macro(confusion_matrix):\n",
        "    p,r,f1 = precision_recall_f1(confusion_matrix)\n",
        "    return p.mean(), r.mean(), f1.mean()"
      ],
      "execution_count": null,
      "outputs": []
    },
    {
      "cell_type": "markdown",
      "metadata": {
        "id": "8cjVseP2X0lQ"
      },
      "source": [
        "## Acurácia é o número de vezes que o classificador acertou sobre o total de amostras.\n",
        "\n",
        "Pode ser calculado como a média dos acertos ou usando a matriz de confusão, como a soma dos elementos da diagonal sobre o número total de amostras."
      ]
    },
    {
      "cell_type": "code",
      "metadata": {
        "id": "7bo-bx1HmJOX"
      },
      "source": [
        "def accuracy(y_true,y_pred):\n",
        "    return (y_true == y_pred).mean()"
      ],
      "execution_count": null,
      "outputs": []
    },
    {
      "cell_type": "code",
      "metadata": {
        "id": "GPD4ooxtYV3o"
      },
      "source": [
        "def acc_from_cm(cm):\n",
        "    return cm.diagonal().sum()/cm.sum()"
      ],
      "execution_count": null,
      "outputs": []
    },
    {
      "cell_type": "markdown",
      "metadata": {
        "id": "ZaPleWZbu-ga"
      },
      "source": [
        "## Testing: Build confusion matrix - NumPy"
      ]
    },
    {
      "cell_type": "code",
      "metadata": {
        "id": "RoLWnGJNJieV",
        "colab": {
          "base_uri": "https://localhost:8080/"
        },
        "outputId": "721ff7a2-07cd-41ad-8f7a-6e7832365679"
      },
      "source": [
        "y_true = np.array([0, 0, 0, 1, 2, 0, 1, 2, 1, 2, 0, 0, 2, 2])\n",
        "y_pred = np.array([0, 0, 2, 2, 1, 0, 0, 1, 1, 2, 1, 2, 2, 2])\n",
        "cm1 = build_confusion_matrix_slow(y_true, y_pred)\n",
        "cm  = build_confusion_matrix(y_true, y_pred)\n",
        "print('slow:\\n',cm1)\n",
        "print('cm:\\n',cm)"
      ],
      "execution_count": null,
      "outputs": [
        {
          "output_type": "stream",
          "text": [
            "slow:\n",
            " [[3 1 2]\n",
            " [1 1 1]\n",
            " [0 2 3]]\n",
            "cm:\n",
            " [[3 1 2]\n",
            " [1 1 1]\n",
            " [0 2 3]]\n"
          ],
          "name": "stdout"
        }
      ]
    },
    {
      "cell_type": "markdown",
      "metadata": {
        "id": "irb8aOlLvDXI"
      },
      "source": [
        "## Testing Build confusion Matriz - PyTorch"
      ]
    },
    {
      "cell_type": "code",
      "metadata": {
        "id": "AERXCkvjvHGt",
        "colab": {
          "base_uri": "https://localhost:8080/"
        },
        "outputId": "1b4c692a-c5a3-4974-a871-96e8e40cdda2"
      },
      "source": [
        "t_y_true = torch.tensor([0, 0, 0, 1, 2, 0, 1, 2, 1, 2, 0, 0, 2, 2])\n",
        "t_y_pred = torch.tensor([0, 0, 2, 2, 1, 0, 0, 1, 1, 2, 1, 2, 2, 2])\n",
        "t_cm1 = build_confusion_matrix_slow_torch(t_y_true, t_y_pred)\n",
        "t_cm  = build_confusion_matrix_torch(t_y_true, t_y_pred)\n",
        "print('slow:\\n', t_cm1)\n",
        "print('cm:\\n', t_cm)"
      ],
      "execution_count": null,
      "outputs": [
        {
          "output_type": "stream",
          "text": [
            "slow:\n",
            " tensor([[3, 1, 2],\n",
            "        [1, 1, 1],\n",
            "        [0, 2, 3]], dtype=torch.int32)\n",
            "cm:\n",
            " tensor([[3, 1, 2],\n",
            "        [1, 1, 1],\n",
            "        [0, 2, 3]])\n"
          ],
          "name": "stdout"
        }
      ]
    },
    {
      "cell_type": "markdown",
      "metadata": {
        "id": "MgFX4lZ0d9xc"
      },
      "source": [
        "## Visualização da Matriz de Confusão com o Pandas e Seaborn"
      ]
    },
    {
      "cell_type": "code",
      "metadata": {
        "id": "mlQi6197WqAt",
        "colab": {
          "base_uri": "https://localhost:8080/",
          "height": 182
        },
        "outputId": "d5e50335-b5b9-4ff5-c147-2265274a7e5f"
      },
      "source": [
        "df_cm = pd.DataFrame(cm, \n",
        "                     index = [i for i in [\"True 0\", \"True 1\", \"True 2\"]],\n",
        "                     columns = [i for i in [\"Pred 0\", \"Pred 1\", \"Pred 2\"]])\n",
        "plt.figure(figsize = (2,2))\n",
        "sn.heatmap(df_cm, annot=True,cmap='gray');"
      ],
      "execution_count": null,
      "outputs": [
        {
          "output_type": "display_data",
          "data": {
            "image/png": "[encoded data removed]",
            "text/plain": [
              "<Figure size 144x144 with 2 Axes>"
            ]
          },
          "metadata": {
            "tags": [],
            "needs_background": "light"
          }
        }
      ]
    },
    {
      "cell_type": "code",
      "metadata": {
        "id": "zocxiQayT8qV",
        "colab": {
          "base_uri": "https://localhost:8080/"
        },
        "outputId": "4fa8b757-a98a-46ba-e63a-ee45ca13b205"
      },
      "source": [
        "p, r, f1 = precision_recall_f1(cm)\n",
        "print('precision:',p)\n",
        "print('recal:    ',r)\n",
        "print('f1:       ',f1)"
      ],
      "execution_count": null,
      "outputs": [
        {
          "output_type": "stream",
          "text": [
            "precision: [ 0.750  0.250  0.500]\n",
            "recal:     [ 0.500  0.333  0.600]\n",
            "f1:        [ 0.600  0.286  0.545]\n"
          ],
          "name": "stdout"
        }
      ]
    },
    {
      "cell_type": "markdown",
      "metadata": {
        "id": "FuQKJ1i4jCzt"
      },
      "source": [
        "## Testando Macro averaging, é a média das métricas"
      ]
    },
    {
      "cell_type": "code",
      "metadata": {
        "id": "MwVp4rRreXl0",
        "colab": {
          "base_uri": "https://localhost:8080/"
        },
        "outputId": "25e9d04c-c323-43a7-e348-a2250835bcb3"
      },
      "source": [
        "p_macro, r_macro, f1_macro = precision_recall_f1_macro(cm)\n",
        "print('precision (macro): {:0.3f}'.format( p_macro))\n",
        "print('recall    (macro): {:0.3f}'.format( r_macro))\n",
        "print('f1        (macro): {:0.3f}'.format( f1_macro))\n"
      ],
      "execution_count": null,
      "outputs": [
        {
          "output_type": "stream",
          "text": [
            "precision (macro): 0.500\n",
            "recall    (macro): 0.478\n",
            "f1        (macro): 0.477\n"
          ],
          "name": "stdout"
        }
      ]
    },
    {
      "cell_type": "markdown",
      "metadata": {
        "id": "IfaeNyBSjO8F"
      },
      "source": [
        "## Micro averaging, usa o cálculo dos TPs, FNs e FPs"
      ]
    },
    {
      "cell_type": "code",
      "metadata": {
        "id": "No7HONNhjZdK",
        "colab": {
          "base_uri": "https://localhost:8080/"
        },
        "outputId": "3e28eaf2-e7e5-43a8-8e41-7c72176f42ef"
      },
      "source": [
        "p_micro, r_micro, f1_micro = precision_recall_f1_micro(cm)\n",
        "print('precision (micro): {:0.3f}'.format( p_micro))\n",
        "print('recall    (micro): {:0.3f}'.format( r_micro))\n",
        "print('f1        (micro): {:0.3f}'.format( f1_micro))\n"
      ],
      "execution_count": null,
      "outputs": [
        {
          "output_type": "stream",
          "text": [
            "precision (micro): 0.500\n",
            "recall    (micro): 0.500\n",
            "f1        (micro): 0.500\n"
          ],
          "name": "stdout"
        }
      ]
    },
    {
      "cell_type": "code",
      "metadata": {
        "id": "QpkpHZANmqQW",
        "colab": {
          "base_uri": "https://localhost:8080/"
        },
        "outputId": "a5ab5f18-b6d0-48fe-8c52-75258566b46c"
      },
      "source": [
        "acc = accuracy(y_true,y_pred)\n",
        "acc"
      ],
      "execution_count": null,
      "outputs": [
        {
          "output_type": "execute_result",
          "data": {
            "text/plain": [
              "0.5"
            ]
          },
          "metadata": {
            "tags": []
          },
          "execution_count": 17
        }
      ]
    },
    {
      "cell_type": "code",
      "metadata": {
        "id": "OA_XnN3gYtBd",
        "colab": {
          "base_uri": "https://localhost:8080/"
        },
        "outputId": "2dd3ee50-ce0e-4ba4-b640-17d705590e86"
      },
      "source": [
        "acc = acc_from_cm(cm)\n",
        "acc"
      ],
      "execution_count": null,
      "outputs": [
        {
          "output_type": "execute_result",
          "data": {
            "text/plain": [
              "0.5"
            ]
          },
          "metadata": {
            "tags": []
          },
          "execution_count": 18
        }
      ]
    },
    {
      "cell_type": "markdown",
      "metadata": {
        "id": "CQsD9xr_WcVm"
      },
      "source": [
        "## Comparando com Scikit-learn"
      ]
    },
    {
      "cell_type": "code",
      "metadata": {
        "id": "0-1xifQCWhx2",
        "colab": {
          "base_uri": "https://localhost:8080/"
        },
        "outputId": "5660b881-ccb1-4f47-b843-605378f923e7"
      },
      "source": [
        "from sklearn.metrics import f1_score, precision_score, recall_score\n",
        "print('precision:',precision_score(y_true,y_pred,average=None))\n",
        "print('recal:    ',recall_score(y_true,y_pred,average=None))\n",
        "print('f1:       ',f1_score(y_true, y_pred, average=None))"
      ],
      "execution_count": null,
      "outputs": [
        {
          "output_type": "stream",
          "text": [
            "precision: [ 0.750  0.250  0.500]\n",
            "recal:     [ 0.500  0.333  0.600]\n",
            "f1:        [ 0.600  0.286  0.545]\n"
          ],
          "name": "stdout"
        }
      ]
    },
    {
      "cell_type": "code",
      "metadata": {
        "id": "aeqB1ko3dsf-",
        "colab": {
          "base_uri": "https://localhost:8080/"
        },
        "outputId": "f89aff50-ff67-43d9-d494-a9a15ad280c5"
      },
      "source": [
        "from sklearn.metrics import classification_report\n",
        "print(classification_report(y_true, y_pred, digits=2))"
      ],
      "execution_count": null,
      "outputs": [
        {
          "output_type": "stream",
          "text": [
            "              precision    recall  f1-score   support\n",
            "\n",
            "           0       0.75      0.50      0.60         6\n",
            "           1       0.25      0.33      0.29         3\n",
            "           2       0.50      0.60      0.55         5\n",
            "\n",
            "    accuracy                           0.50        14\n",
            "   macro avg       0.50      0.48      0.48        14\n",
            "weighted avg       0.55      0.50      0.51        14\n",
            "\n"
          ],
          "name": "stdout"
        }
      ]
    },
    {
      "cell_type": "code",
      "metadata": {
        "id": "xUsF-Bjv0Kvy",
        "colab": {
          "base_uri": "https://localhost:8080/"
        },
        "outputId": "d6e5d46c-690a-42bd-d2f3-86f06db5ff03"
      },
      "source": [
        "precision_score(y_true,y_pred,average='micro'),recall_score(y_true,y_pred,average='micro'),f1_score(y_true,y_pred,average='micro')"
      ],
      "execution_count": null,
      "outputs": [
        {
          "output_type": "execute_result",
          "data": {
            "text/plain": [
              "(0.5, 0.5, 0.5)"
            ]
          },
          "metadata": {
            "tags": []
          },
          "execution_count": 21
        }
      ]
    },
    {
      "cell_type": "code",
      "metadata": {
        "id": "LKwJh1AHJhAE"
      },
      "source": [
        ""
      ],
      "execution_count": null,
      "outputs": []
    }
  ]
}