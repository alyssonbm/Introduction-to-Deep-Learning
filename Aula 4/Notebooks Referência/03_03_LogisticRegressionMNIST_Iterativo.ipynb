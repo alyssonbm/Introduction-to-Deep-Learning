{
 "cells": [
  {
   "cell_type": "markdown",
   "metadata": {
    "id": "LmkL31s841xc"
   },
   "source": [
    "# Regressão Softmax com dados do MNIST"
   ]
  },
  {
   "cell_type": "markdown",
   "metadata": {
    "id": "ulLdebJZ41xm"
   },
   "source": [
    "## Objetivo"
   ]
  },
  {
   "cell_type": "markdown",
   "metadata": {
    "id": "6Ewu-X1d41xn"
   },
   "source": [
    "O objetivo deste notebook é visualizar a matriz de pesos do classificador\n",
    "dos dígitos do MNIST e visualizar a matriz do gradiente destes pesos\n",
    "para observar a sua convergência observando a formação da matriz de pesos\n",
    "enquanto que o gradiente diminui a cada iteração."
   ]
  },
  {
   "cell_type": "markdown",
   "metadata": {
    "id": "zgYHaWUX41xo"
   },
   "source": [
    "## Importação das bibliotecas"
   ]
  },
  {
   "cell_type": "code",
   "execution_count": null,
   "metadata": {
    "ExecuteTime": {
     "end_time": "2018-05-01T10:33:45.965595Z",
     "start_time": "2018-05-01T10:33:45.950247Z"
    },
    "collapsed": true,
    "id": "n13mqheu41xo"
   },
   "outputs": [],
   "source": [
    "%matplotlib inline\n",
    "import numpy as np\n",
    "import matplotlib.pyplot as plt\n",
    "import pandas as pd\n",
    "\n",
    "import torch\n",
    "from torch.autograd import Variable\n",
    "\n",
    "import torchvision"
   ]
  },
  {
   "cell_type": "markdown",
   "metadata": {
    "id": "6t-ZgFyBm1c7"
   },
   "source": [
    "## Acessando o dataset MNIST\n",
    "\n",
    "O dataset MNIST é o dataset \"hello world\" do deep learning, criado por LeCun.\n",
    " Estamos usando aqui uma\n",
    "versão menor com 20 mil amostras disponibilizados pelo próprio Colab.\n",
    "\n",
    "A matriz tem 19999 linhas e 785 colunas, sendo que a primeira coluna é a classe\n",
    "do caractere, de 0 a 9 e as 784 colunas restantes contém o raster unidimensional\n",
    "da imagem 32x32 de valores entre 0 e 255."
   ]
  },
  {
   "cell_type": "code",
   "execution_count": null,
   "metadata": {
    "id": "g75pxuRwmoE5"
   },
   "outputs": [],
   "source": [
    "xy = np.array(pd.read_csv('sample_data/mnist_train_small.csv'))"
   ]
  },
  {
   "cell_type": "code",
   "execution_count": null,
   "metadata": {
    "colab": {
     "base_uri": "https://localhost:8080/"
    },
    "id": "qnwEcWRmEDyk",
    "outputId": "1298244e-6b06-4791-a223-4cc20ec6bcbf"
   },
   "outputs": [
    {
     "data": {
      "text/plain": [
       "((19999, 784), (19999,))"
      ]
     },
     "execution_count": 3,
     "metadata": {
      "tags": []
     },
     "output_type": "execute_result"
    }
   ],
   "source": [
    "x_raw = xy[:,1:] # shape (19999,784) dtype int64\n",
    "y_raw = xy[:,0 ] # shape (19999,)   dtype int64\n",
    "x_raw.shape, y_raw.shape"
   ]
  },
  {
   "cell_type": "markdown",
   "metadata": {
    "id": "IC9Kr2AzEFZ8"
   },
   "source": [
    "### Carregamento, normalização e seleção dos dados do MNIST\n"
   ]
  },
  {
   "cell_type": "code",
   "execution_count": null,
   "metadata": {
    "ExecuteTime": {
     "end_time": "2018-08-20T21:06:55.785306Z",
     "start_time": "2018-08-20T21:06:54.936460Z"
    },
    "colab": {
     "base_uri": "https://localhost:8080/"
    },
    "id": "doVw4vkyEFZ-",
    "outputId": "96889529-5e33-4593-b788-4a8938dc9d54"
   },
   "outputs": [
    {
     "name": "stdout",
     "output_type": "stream",
     "text": [
      "\n",
      "Dimensões dos dados das imagens:    torch.Size([19999, 784])\n",
      "Valores mínimo e máximo dos pixels: tensor(0.) tensor(1.)\n",
      "Tipo dos dados das imagens:         torch.float32\n",
      "Tipo das classes das imagens:       torch.int64\n"
     ]
    }
   ],
   "source": [
    "x_train = torch.FloatTensor(x_raw / 255.)\n",
    "y_train = torch.LongTensor(y_raw)\n",
    "\n",
    "print(\"\\nDimensões dos dados das imagens:   \", x_train.shape)\n",
    "print(\"Valores mínimo e máximo dos pixels:\", torch.min(x_train), torch.max(x_train))\n",
    "print(\"Tipo dos dados das imagens:        \", x_train.dtype)\n",
    "print(\"Tipo das classes das imagens:      \", y_train.dtype)"
   ]
  },
  {
   "cell_type": "markdown",
   "metadata": {
    "id": "ty6kkAfiEFaB"
   },
   "source": [
    "### Visualizando os dados"
   ]
  },
  {
   "cell_type": "code",
   "execution_count": null,
   "metadata": {
    "id": "I_NY0T2JLA1V"
   },
   "outputs": [],
   "source": [
    "def to_pil(img):\n",
    "    return torchvision.transforms.functional.to_pil_image(img, mode=None)"
   ]
  },
  {
   "cell_type": "markdown",
   "metadata": {
    "id": "F9vpvDCM41xv"
   },
   "source": [
    "## Modelo"
   ]
  },
  {
   "cell_type": "code",
   "execution_count": null,
   "metadata": {
    "ExecuteTime": {
     "end_time": "2018-05-01T10:33:47.394399Z",
     "start_time": "2018-05-01T10:33:47.390216Z"
    },
    "collapsed": true,
    "id": "Ext6TgAR41xv"
   },
   "outputs": [],
   "source": [
    "model = torch.nn.Linear(28*28, 10) # 28*28 atributos de entrada e 10 neurônios na sáida"
   ]
  },
  {
   "cell_type": "markdown",
   "metadata": {
    "id": "pbcf_OS841xw"
   },
   "source": [
    "## Treinamento"
   ]
  },
  {
   "cell_type": "markdown",
   "metadata": {
    "id": "Gupz1ZWv41xw"
   },
   "source": [
    "### Inicialização dos parâmetros"
   ]
  },
  {
   "cell_type": "code",
   "execution_count": null,
   "metadata": {
    "ExecuteTime": {
     "end_time": "2018-05-01T10:33:47.402537Z",
     "start_time": "2018-05-01T10:33:47.397121Z"
    },
    "collapsed": true,
    "id": "8KB_Qu7R41xw"
   },
   "outputs": [],
   "source": [
    "epochs = 100\n",
    "learningRate = 0.8\n",
    "\n",
    "# Utilizaremos CrossEntropyLoss como função de perda\n",
    "criterion = torch.nn.CrossEntropyLoss()\n",
    "\n",
    "# Gradiente descendente\n",
    "optimizer = torch.optim.SGD(model.parameters(), lr=learningRate)"
   ]
  },
  {
   "cell_type": "markdown",
   "metadata": {
    "id": "qyL6CgXR41xy"
   },
   "source": [
    "### Laço de treinamento dos pesos"
   ]
  },
  {
   "cell_type": "code",
   "execution_count": null,
   "metadata": {
    "ExecuteTime": {
     "end_time": "2018-05-01T10:33:54.323093Z",
     "start_time": "2018-05-01T10:33:51.310950Z"
    },
    "colab": {
     "base_uri": "https://localhost:8080/",
     "height": 291
    },
    "id": "cftiNEsr41xy",
    "outputId": "4a14b7cc-e739-4b95-db93-8a43ab10a6c7"
   },
   "outputs": [
    {
     "name": "stdout",
     "output_type": "stream",
     "text": [
      "\n"
     ]
    },
    {
     "data": {
      "image/png": "[encoded data removed]",
      "text/plain": [
       "<Figure size 1296x432 with 1 Axes>"
      ]
     },
     "metadata": {
      "tags": []
     },
     "output_type": "display_data"
    }
   ],
   "source": [
    "from IPython import display\n",
    "a = 5\n",
    "j = 0\n",
    "losses = []\n",
    "fig = plt.figure(figsize=(18, 6))\n",
    "\n",
    "try:\n",
    "    for i in range(epochs):\n",
    "        # Predict da rede\n",
    "        outputs = model(x_train)\n",
    "\n",
    "        # calcula a perda\n",
    "        loss = criterion(outputs, y_train)\n",
    "\n",
    "        # zero, backpropagation, ajusta parâmetros pelo gradiente descendente\n",
    "        optimizer.zero_grad()\n",
    "        loss.backward()\n",
    "        if i > 0:\n",
    "            optimizer.step()\n",
    "            losses.e(loss.data.item())\n",
    "        \n",
    "        wv = model.weight.data.reshape(10,28,28).unsqueeze(1)\n",
    "        wg = model.weight.grad.data.reshape(10,28,28).unsqueeze(1)\n",
    "        wc = torch.cat((wv,wg),0)\n",
    "        wc -= wc.min()\n",
    "        wc /= wc.max()\n",
    "        grid = torchvision.utils.make_grid(wc, nrow=10, pad_value=1.0, padding=1)\n",
    "        plt.imshow(grid.numpy().transpose(1, 2, 0))\n",
    "\n",
    "        display.display(fig)\n",
    "        display.clear_output(wait=True)\n",
    "        input(j)\n",
    "except KeyboardInterrupt:\n",
    "    pass"
   ]
  },
  {
   "cell_type": "code",
   "execution_count": null,
   "metadata": {
    "ExecuteTime": {
     "end_time": "2018-05-01T10:30:57.826404Z",
     "start_time": "2018-05-01T13:30:53.292Z"
    },
    "id": "lftaYf2Q41xz"
   },
   "outputs": [],
   "source": [
    "print('Final loss:', loss.data[0])"
   ]
  },
  {
   "cell_type": "markdown",
   "metadata": {
    "id": "W-Lau5j941xz"
   },
   "source": [
    "### Visualizando gráfico de perda durante o treinamento"
   ]
  },
  {
   "cell_type": "code",
   "execution_count": null,
   "metadata": {
    "ExecuteTime": {
     "end_time": "2018-05-01T10:30:57.826900Z",
     "start_time": "2018-05-01T13:30:53.296Z"
    },
    "id": "DMIRzI6X41xz"
   },
   "outputs": [],
   "source": [
    "plt.plot(losses)"
   ]
  },
  {
   "cell_type": "markdown",
   "metadata": {
    "id": "2bHBnvmR41x0"
   },
   "source": [
    "## Avaliação"
   ]
  },
  {
   "cell_type": "markdown",
   "metadata": {
    "id": "wMjtHrE041x0"
   },
   "source": [
    "### Acurácia tanto no conjunto de treinamento como no conjunto de testes"
   ]
  },
  {
   "cell_type": "code",
   "execution_count": null,
   "metadata": {
    "ExecuteTime": {
     "end_time": "2018-05-01T10:30:57.827361Z",
     "start_time": "2018-05-01T13:30:53.301Z"
    },
    "id": "KEhuu5t541x0"
   },
   "outputs": [],
   "source": [
    "def predict(model, input_data):\n",
    "    outputs = model(Variable(input_data))\n",
    "    _, predicts = torch.max(outputs, 1)\n",
    "    \n",
    "    return predicts.data\n",
    "\n",
    "y_pred = predict(model, x_train.view(-1, 28*28))\n",
    "accuracy = (y_pred.numpy() == y_train.numpy()).mean()\n",
    "print('Accuracy:', accuracy)"
   ]
  },
  {
   "cell_type": "markdown",
   "metadata": {
    "id": "gwH6pme941x0"
   },
   "source": [
    "### Matriz de confusão com dados de treinamento e teste"
   ]
  },
  {
   "cell_type": "code",
   "execution_count": null,
   "metadata": {
    "ExecuteTime": {
     "end_time": "2018-05-01T10:30:57.827826Z",
     "start_time": "2018-05-01T13:30:53.308Z"
    },
    "id": "fIwgW1Kt41x0"
   },
   "outputs": [],
   "source": [
    "print('Matriz de confusão:')\n",
    "pd.crosstab(y_pred.numpy(), y_train.numpy())"
   ]
  },
  {
   "cell_type": "markdown",
   "metadata": {
    "id": "u7L962tn41x1"
   },
   "source": [
    "## Visualizando a matriz de pesos treinados"
   ]
  },
  {
   "cell_type": "markdown",
   "metadata": {
    "id": "Bg9Ltwak41x1"
   },
   "source": [
    "Observe que a matriz de peso treinado para cada classe mostra a importância dos pesos associados aos caracteres de cada classe."
   ]
  },
  {
   "cell_type": "code",
   "execution_count": null,
   "metadata": {
    "ExecuteTime": {
     "end_time": "2018-05-01T10:30:57.828560Z",
     "start_time": "2018-05-01T13:30:53.317Z"
    },
    "id": "16eH79Ki41x1"
   },
   "outputs": [],
   "source": [
    "weights = model.state_dict()['weight']\n",
    "print('weights:', weights.shape)\n",
    "\n",
    "bias = model.state_dict()['bias']\n",
    "print('bias:   ', bias.shape)\n",
    "\n",
    "# Visualizando pesos da classe 3\n",
    "plt.imshow(weights[3, :].numpy().reshape((28,28)),cmap = 'gray')\n",
    "plt.show()"
   ]
  },
  {
   "cell_type": "markdown",
   "metadata": {
    "id": "AugQ__J541x1"
   },
   "source": [
    "### Visualizando os pesos de todas as classes"
   ]
  },
  {
   "cell_type": "code",
   "execution_count": null,
   "metadata": {
    "ExecuteTime": {
     "end_time": "2018-05-01T10:30:57.829618Z",
     "start_time": "2018-05-01T13:30:53.321Z"
    },
    "id": "bFeOaHjU41x2"
   },
   "outputs": [],
   "source": [
    "# cria um grid com as imagens\n",
    "grid = torchvision.utils.make_grid(weights.view(-1, 1, 28, 28), normalize=True, pad_value=1.0, padding=1, nrow=10)\n",
    "\n",
    "plt.figure(figsize=(15, 10))\n",
    "plt.imshow(grid.numpy().transpose(1, 2, 0))\n",
    "plt.axis('off');"
   ]
  },
  {
   "cell_type": "markdown",
   "metadata": {
    "id": "rbpikyPI41x2"
   },
   "source": [
    "### Diagrama da regressão softmax com visualização dos pesos W"
   ]
  },
  {
   "cell_type": "markdown",
   "metadata": {
    "id": "a-NcQl8O41x2"
   },
   "source": [
    "<img src=\"../figures/RegressaoSoftmaxArgmaxNMIST.png\",width = 400>"
   ]
  },
  {
   "cell_type": "markdown",
   "metadata": {
    "id": "9l450gda41x2"
   },
   "source": [
    "# Atividades"
   ]
  },
  {
   "cell_type": "markdown",
   "metadata": {
    "id": "XKCvI8Xv41x3"
   },
   "source": [
    "## Exercícios"
   ]
  },
  {
   "cell_type": "markdown",
   "metadata": {
    "id": "WDKSqrpn41x3"
   },
   "source": [
    "- 1) Na configuração da figura acima, mostre os valores de z0 até z9, os valores das probabilidades y_hat, após o softmax, quando a rede recebe como entrada a nona amostra que contém o manuscrito do dígito '4':"
   ]
  },
  {
   "cell_type": "code",
   "execution_count": null,
   "metadata": {
    "ExecuteTime": {
     "end_time": "2018-05-01T10:30:57.830923Z",
     "start_time": "2018-05-01T13:30:53.538Z"
    },
    "id": "miNJCKHl41x3"
   },
   "outputs": [],
   "source": [
    "image  = x_train[9]\n",
    "target = y_train[9]\n",
    "\n",
    "plt.imshow(image.numpy().reshape(28,28), cmap='gray')\n",
    "print('class:', target)"
   ]
  },
  {
   "cell_type": "markdown",
   "metadata": {
    "id": "aezYxHp041x3"
   },
   "source": [
    "- 2) Insira código no laço do treinamento para que no final de cada época, \n",
    "     seja impresso: o número da época e a perda e a acurácia"
   ]
  },
  {
   "cell_type": "markdown",
   "metadata": {
    "id": "xODL4JGJ41x4"
   },
   "source": [
    "- 3) Insira código no laço do treinamento para visualização dos valores dos gradientes referentes à classe do dígito 4, no final de cada época."
   ]
  },
  {
   "cell_type": "markdown",
   "metadata": {
    "heading_collapsed": true,
    "id": "D3UciM2Z41x4"
   },
   "source": [
    "## Perguntas"
   ]
  },
  {
   "cell_type": "markdown",
   "metadata": {
    "hidden": true,
    "id": "ZW1Qe1-h41x5"
   },
   "source": [
    "1. Qual é o shape da matriz de entrada na rede?\n",
    "2. Qual é o shape da saída da rede?\n",
    "3. Qual é o número total de parâmetros da rede, incluindo o bias?"
   ]
  },
  {
   "cell_type": "markdown",
   "metadata": {
    "id": "rTOIx6ze41x5"
   },
   "source": [
    "# Aprendizados\n"
   ]
  },
  {
   "cell_type": "code",
   "execution_count": null,
   "metadata": {
    "collapsed": true,
    "id": "mV7yKzFD41x5"
   },
   "outputs": [],
   "source": [
    "\n",
    "\n",
    "\n"
   ]
  }
 ],
 "metadata": {
  "anaconda-cloud": {},
  "colab": {
   "collapsed_sections": [],
   "name": "03_03_LogisticRegressionMNIST-Iterativo.ipynb",
   "provenance": []
  },
  "kernelspec": {
   "display_name": "Python 3",
   "language": "python",
   "name": "python3"
  },
  "language_info": {
   "codemirror_mode": {
    "name": "ipython",
    "version": 3
   },
   "file_extension": ".py",
   "mimetype": "text/x-python",
   "name": "python",
   "nbconvert_exporter": "python",
   "pygments_lexer": "ipython3",
   "version": "3.9.2"
  },
  "toc": {
   "nav_menu": {
    "height": "318px",
    "width": "252px"
   },
   "number_sections": true,
   "sideBar": true,
   "skip_h1_title": false,
   "toc_cell": false,
   "toc_position": {},
   "toc_section_display": "block",
   "toc_window_display": false
  }
 },
 "nbformat": 4,
 "nbformat_minor": 1
}
