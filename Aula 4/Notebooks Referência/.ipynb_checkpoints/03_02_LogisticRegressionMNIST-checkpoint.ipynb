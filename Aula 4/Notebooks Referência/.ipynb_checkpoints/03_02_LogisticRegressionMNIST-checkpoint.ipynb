{
 "cells": [
  {
   "cell_type": "markdown",
   "metadata": {
    "id": "nQSXWGZ9EFZq"
   },
   "source": [
    "# Regressão Softmax com dados do MNIST"
   ]
  },
  {
   "cell_type": "markdown",
   "metadata": {
    "id": "cBLh4cOGEFZu"
   },
   "source": [
    "## Objetivo"
   ]
  },
  {
   "cell_type": "markdown",
   "metadata": {
    "id": "orm0jedgEFZv"
   },
   "source": [
    "O objetivo deste notebook é ilustrar o uso de praticamente a mesma rede desenvolvida para a classificação das flores Íris, porém agora com o problema de classificação de dígitos manuscritos utilizando o dataset MNIST.\n",
    "As principais diferenças são:\n",
    "- tipo do dado, agora imagem com muito atributos: 28 x 28 pixels\n",
    "- número de amostras, muito maior, 60 mil\n",
    "Neste exercício será possível a interpretação do significado dos parâmetros treinados"
   ]
  },
  {
   "cell_type": "markdown",
   "metadata": {
    "id": "87frcOGoEFZw"
   },
   "source": [
    "## Importação das bibliotecas"
   ]
  },
  {
   "cell_type": "code",
   "execution_count": null,
   "metadata": {
    "ExecuteTime": {
     "end_time": "2018-08-21T14:07:17.998413Z",
     "start_time": "2018-08-21T14:07:09.414743Z"
    },
    "id": "ynkq9pc4EFZy"
   },
   "outputs": [],
   "source": [
    "%matplotlib inline\n",
    "import numpy as np\n",
    "import matplotlib.pyplot as plt\n",
    "import pandas as pd\n",
    "\n",
    "import torch\n",
    "import torchvision\n",
    "\n",
    "from torchvision.datasets import MNIST"
   ]
  },
  {
   "cell_type": "markdown",
   "metadata": {
    "id": "6t-ZgFyBm1c7"
   },
   "source": [
    "## Acessando o dataset MNIST\n",
    "\n",
    "O dataset MNIST é o dataset \"hello world\" do deep learning, criado por LeCun.\n",
    "A versão do PyTorch é muito lenta para o download. Estamos usando aqui uma\n",
    "versão menor com 20 mil amostras disponibilizados pelo próprio Colab.\n"
   ]
  },
  {
   "cell_type": "code",
   "execution_count": null,
   "metadata": {
    "id": "g75pxuRwmoE5"
   },
   "outputs": [],
   "source": [
    "xy = np.array(pd.read_csv('sample_data/mnist_train_small.csv'))"
   ]
  },
  {
   "cell_type": "code",
   "execution_count": null,
   "metadata": {
    "colab": {
     "base_uri": "https://localhost:8080/"
    },
    "id": "qnwEcWRmEDyk",
    "outputId": "5fe214a8-7c20-4cf7-aee8-76dd2337a864"
   },
   "outputs": [
    {
     "data": {
      "text/plain": [
       "((19999, 784), (19999,))"
      ]
     },
     "execution_count": 3,
     "metadata": {
      "tags": []
     },
     "output_type": "execute_result"
    }
   ],
   "source": [
    "x_raw = xy[:,1:] # shape (19999,784) dtype int64\n",
    "y_raw = xy[:,0 ] # shape (19999,)   dtype int64\n",
    "x_raw.shape, y_raw.shape"
   ]
  },
  {
   "cell_type": "markdown",
   "metadata": {
    "id": "IC9Kr2AzEFZ8"
   },
   "source": [
    "### Carregamento, normalização e seleção dos dados do MNIST\n",
    "\n",
    "Neste exemplo utilizaremos apenas 1000 amostras de treinamento."
   ]
  },
  {
   "cell_type": "code",
   "execution_count": null,
   "metadata": {
    "ExecuteTime": {
     "end_time": "2018-08-20T21:06:55.785306Z",
     "start_time": "2018-08-20T21:06:54.936460Z"
    },
    "colab": {
     "base_uri": "https://localhost:8080/"
    },
    "id": "doVw4vkyEFZ-",
    "outputId": "fe9245da-3620-41ab-c4cd-e36b2ba1b249"
   },
   "outputs": [
    {
     "name": "stdout",
     "output_type": "stream",
     "text": [
      "Amostras de treinamento: 19999\n",
      "\n",
      "Dimensões dos dados das imagens:    torch.Size([19999, 784])\n",
      "Valores mínimo e máximo dos pixels: tensor(0.) tensor(1.)\n",
      "Tipo dos dados das imagens:         torch.float32\n",
      "Tipo das classes das imagens:       torch.int64\n"
     ]
    }
   ],
   "source": [
    "x_train = torch.FloatTensor(x_raw / 255.)\n",
    "y_train = torch.LongTensor(y_raw)\n",
    "\n",
    "if False:\n",
    "    n_samples_train = 1000\n",
    "\n",
    "    x_train = x_train[:n_samples_train]\n",
    "    y_train = y_train[:n_samples_train]\n",
    "\n",
    "print(\"Amostras de treinamento:\", x_train.shape[0])\n",
    "\n",
    "print(\"\\nDimensões dos dados das imagens:   \", x_train.shape)\n",
    "print(\"Valores mínimo e máximo dos pixels:\", torch.min(x_train), torch.max(x_train))\n",
    "print(\"Tipo dos dados das imagens:        \", x_train.dtype)\n",
    "print(\"Tipo das classes das imagens:      \", y_train.dtype)"
   ]
  },
  {
   "cell_type": "markdown",
   "metadata": {
    "id": "ty6kkAfiEFaB"
   },
   "source": [
    "### Visualizando os dados"
   ]
  },
  {
   "cell_type": "code",
   "execution_count": null,
   "metadata": {
    "id": "I_NY0T2JLA1V"
   },
   "outputs": [],
   "source": [
    "def to_pil(img):\n",
    "    return torchvision.transforms.functional.to_pil_image(img, mode=None)"
   ]
  },
  {
   "cell_type": "markdown",
   "metadata": {
    "id": "8jcyyq9LL0Jq"
   },
   "source": [
    "## make_grid é muito útil para mostrar mosaico de imagens no formato batch 4D:\n",
    "(sample, channel, height, width)"
   ]
  },
  {
   "cell_type": "code",
   "execution_count": null,
   "metadata": {
    "ExecuteTime": {
     "end_time": "2018-08-20T21:06:57.405364Z",
     "start_time": "2018-08-20T21:06:57.016124Z"
    },
    "colab": {
     "base_uri": "https://localhost:8080/",
     "height": 105
    },
    "id": "6KL5klr9EFaC",
    "outputId": "6e298516-62ba-4d44-cf52-ee76a609998b"
   },
   "outputs": [
    {
     "data": {
      "image/png": "[encoded data removed]",
      "text/plain": [
       "<PIL.Image.Image image mode=RGB size=233x88 at 0x7FE180C8B350>"
      ]
     },
     "execution_count": 6,
     "metadata": {
      "tags": []
     },
     "output_type": "execute_result"
    }
   ],
   "source": [
    "n_samples = 24\n",
    "\n",
    "# cria um grid com as imagens\n",
    "grid = torchvision.utils.make_grid(x_train[:n_samples].reshape(-1,1,28,28), pad_value=1.0, padding=1)\n",
    "\n",
    "to_pil(grid)"
   ]
  },
  {
   "cell_type": "markdown",
   "metadata": {
    "id": "X7rSsB7AEFaG"
   },
   "source": [
    "### Visualizando uma imagem com o matplotlib"
   ]
  },
  {
   "cell_type": "code",
   "execution_count": null,
   "metadata": {
    "ExecuteTime": {
     "end_time": "2018-08-20T21:06:58.717746Z",
     "start_time": "2018-08-20T21:06:58.529698Z"
    },
    "colab": {
     "base_uri": "https://localhost:8080/",
     "height": 282
    },
    "id": "rWs-mZ7MEFaH",
    "outputId": "7730cb63-7270-4d96-b631-dc76b00200ea"
   },
   "outputs": [
    {
     "name": "stdout",
     "output_type": "stream",
     "text": [
      "class: tensor(5)\n"
     ]
    },
    {
     "data": {
      "image/png": "[encoded data removed]",
      "text/plain": [
       "<Figure size 432x288 with 1 Axes>"
      ]
     },
     "metadata": {
      "needs_background": "light",
      "tags": []
     },
     "output_type": "display_data"
    }
   ],
   "source": [
    "image  = x_train[0]\n",
    "target = y_train[0]\n",
    "\n",
    "plt.imshow(image.numpy().reshape(28,28), cmap='gray')\n",
    "print('class:', target)"
   ]
  },
  {
   "cell_type": "markdown",
   "metadata": {
    "id": "P-nY9AIoEFaL"
   },
   "source": [
    "## Modelo"
   ]
  },
  {
   "cell_type": "code",
   "execution_count": null,
   "metadata": {
    "ExecuteTime": {
     "end_time": "2018-08-20T21:07:01.941956Z",
     "start_time": "2018-08-20T21:07:01.937390Z"
    },
    "id": "QFGJ4vxAEFaM"
   },
   "outputs": [],
   "source": [
    "model = torch.nn.Linear(28*28, 10) # 28*28 atributos de entrada e 10 neurônios na sáida"
   ]
  },
  {
   "cell_type": "markdown",
   "metadata": {
    "id": "9XgtOubQEFaQ"
   },
   "source": [
    "### Testando um predict com poucas amostras"
   ]
  },
  {
   "cell_type": "code",
   "execution_count": null,
   "metadata": {
    "colab": {
     "base_uri": "https://localhost:8080/"
    },
    "id": "H0ABr25yEFaR",
    "outputId": "98905c52-8dcd-4c7b-93e2-a980bc862eb8"
   },
   "outputs": [
    {
     "data": {
      "text/plain": [
       "tensor([[ 0.1150, -0.2250, -0.1190, -0.2539, -0.1949,  0.1037,  0.2203, -0.1310,\n",
       "         -0.0629,  0.1655],\n",
       "        [-0.0549, -0.0333,  0.1015, -0.1785, -0.3348,  0.0276, -0.0030,  0.0620,\n",
       "          0.2528, -0.0534]], grad_fn=<AddmmBackward>)"
      ]
     },
     "execution_count": 9,
     "metadata": {
      "tags": []
     },
     "output_type": "execute_result"
    }
   ],
   "source": [
    "model(x_train[:2])"
   ]
  },
  {
   "cell_type": "markdown",
   "metadata": {
    "id": "PHCzRWHBEFaU"
   },
   "source": [
    "## Treinamento"
   ]
  },
  {
   "cell_type": "markdown",
   "metadata": {
    "id": "FL0uKNO7EFaV"
   },
   "source": [
    "### Inicialização dos parâmetros"
   ]
  },
  {
   "cell_type": "code",
   "execution_count": null,
   "metadata": {
    "ExecuteTime": {
     "end_time": "2018-08-20T21:07:05.456544Z",
     "start_time": "2018-08-20T21:07:05.452663Z"
    },
    "id": "8ORARyxIEFaW"
   },
   "outputs": [],
   "source": [
    "epochs = 100\n",
    "learningRate = 0.5\n",
    "\n",
    "# Utilizaremos CrossEntropyLoss como função de perda\n",
    "criterion = torch.nn.CrossEntropyLoss()\n",
    "\n",
    "# Gradiente descendente\n",
    "optimizer = torch.optim.SGD(model.parameters(), lr=learningRate)"
   ]
  },
  {
   "cell_type": "markdown",
   "metadata": {
    "id": "SeilthNtEFaa"
   },
   "source": [
    "### Visualização do grafo computacional da perda (loss)"
   ]
  },
  {
   "cell_type": "code",
   "execution_count": null,
   "metadata": {
    "ExecuteTime": {
     "end_time": "2018-08-20T21:07:07.704349Z",
     "start_time": "2018-08-20T21:07:06.885783Z"
    },
    "id": "qI0uUOfrEFab"
   },
   "outputs": [],
   "source": [
    "y_pred = model(x_train)\n",
    "loss = criterion(y_pred, y_train)"
   ]
  },
  {
   "cell_type": "code",
   "execution_count": null,
   "metadata": {
    "colab": {
     "base_uri": "https://localhost:8080/"
    },
    "id": "xgfQDIRlPnml",
    "outputId": "e955e6e6-28f6-48d7-ec29-46ee0d8dda86"
   },
   "outputs": [
    {
     "name": "stdout",
     "output_type": "stream",
     "text": [
      "Requirement already satisfied: torchviz in /usr/local/lib/python3.7/dist-packages (0.0.2)\n",
      "Requirement already satisfied: torch in /usr/local/lib/python3.7/dist-packages (from torchviz) (1.8.1+cu101)\n",
      "Requirement already satisfied: graphviz in /usr/local/lib/python3.7/dist-packages (from torchviz) (0.10.1)\n",
      "Requirement already satisfied: typing-extensions in /usr/local/lib/python3.7/dist-packages (from torch->torchviz) (3.7.4.3)\n",
      "Requirement already satisfied: numpy in /usr/local/lib/python3.7/dist-packages (from torch->torchviz) (1.19.5)\n"
     ]
    }
   ],
   "source": [
    "!pip install torchviz\n",
    "import torchviz"
   ]
  },
  {
   "cell_type": "code",
   "execution_count": null,
   "metadata": {
    "colab": {
     "base_uri": "https://localhost:8080/",
     "height": 542
    },
    "id": "P_u90QBCPvP9",
    "outputId": "d0d33fad-07a6-4017-e32c-4b22a60dffef"
   },
   "outputs": [
    {
     "data": {
      "image/svg+xml": [
       "<?xml version=\"1.0\" encoding=\"UTF-8\" standalone=\"no\"?>\n",
       "<!DOCTYPE svg PUBLIC \"-//W3C//DTD SVG 1.1//EN\"\n",
       " \"http://www.w3.org/Graphics/SVG/1.1/DTD/svg11.dtd\">\n",
       "<!-- Generated by graphviz version 2.40.1 (20161225.0304)\n",
       " -->\n",
       "<!-- Title: %3 Pages: 1 -->\n",
       "<svg width=\"213pt\" height=\"391pt\"\n",
       " viewBox=\"0.00 0.00 213.00 391.00\" xmlns=\"http://www.w3.org/2000/svg\" xmlns:xlink=\"http://www.w3.org/1999/xlink\">\n",
       "<g id=\"graph0\" class=\"graph\" transform=\"scale(1 1) rotate(0) translate(4 387)\">\n",
       "<title>%3</title>\n",
       "<polygon fill=\"#ffffff\" stroke=\"transparent\" points=\"-4,4 -4,-387 209,-387 209,4 -4,4\"/>\n",
       "<!-- 140606496714656 -->\n",
       "<g id=\"node1\" class=\"node\">\n",
       "<title>140606496714656</title>\n",
       "<polygon fill=\"#caff70\" stroke=\"#000000\" points=\"129.5,-31 75.5,-31 75.5,0 129.5,0 129.5,-31\"/>\n",
       "<text text-anchor=\"middle\" x=\"102.5\" y=\"-7\" font-family=\"monospace\" font-size=\"10.00\" fill=\"#000000\"> ()</text>\n",
       "</g>\n",
       "<!-- 140606484127568 -->\n",
       "<g id=\"node2\" class=\"node\">\n",
       "<title>140606484127568</title>\n",
       "<polygon fill=\"#d3d3d3\" stroke=\"#000000\" points=\"156,-86 49,-86 49,-67 156,-67 156,-86\"/>\n",
       "<text text-anchor=\"middle\" x=\"102.5\" y=\"-74\" font-family=\"monospace\" font-size=\"10.00\" fill=\"#000000\">NllLossBackward</text>\n",
       "</g>\n",
       "<!-- 140606484127568&#45;&gt;140606496714656 -->\n",
       "<g id=\"edge8\" class=\"edge\">\n",
       "<title>140606484127568&#45;&gt;140606496714656</title>\n",
       "<path fill=\"none\" stroke=\"#000000\" d=\"M102.5,-66.9688C102.5,-60.1289 102.5,-50.5621 102.5,-41.5298\"/>\n",
       "<polygon fill=\"#000000\" stroke=\"#000000\" points=\"106.0001,-41.3678 102.5,-31.3678 99.0001,-41.3678 106.0001,-41.3678\"/>\n",
       "</g>\n",
       "<!-- 140606484127632 -->\n",
       "<g id=\"node3\" class=\"node\">\n",
       "<title>140606484127632</title>\n",
       "<polygon fill=\"#d3d3d3\" stroke=\"#000000\" points=\"165,-141 40,-141 40,-122 165,-122 165,-141\"/>\n",
       "<text text-anchor=\"middle\" x=\"102.5\" y=\"-129\" font-family=\"monospace\" font-size=\"10.00\" fill=\"#000000\">LogSoftmaxBackward</text>\n",
       "</g>\n",
       "<!-- 140606484127632&#45;&gt;140606484127568 -->\n",
       "<g id=\"edge1\" class=\"edge\">\n",
       "<title>140606484127632&#45;&gt;140606484127568</title>\n",
       "<path fill=\"none\" stroke=\"#000000\" d=\"M102.5,-121.9197C102.5,-114.9083 102.5,-105.1442 102.5,-96.4652\"/>\n",
       "<polygon fill=\"#000000\" stroke=\"#000000\" points=\"106.0001,-96.3408 102.5,-86.3408 99.0001,-96.3409 106.0001,-96.3408\"/>\n",
       "</g>\n",
       "<!-- 140606484127376 -->\n",
       "<g id=\"node4\" class=\"node\">\n",
       "<title>140606484127376</title>\n",
       "<polygon fill=\"#d3d3d3\" stroke=\"#000000\" points=\"150,-196 55,-196 55,-177 150,-177 150,-196\"/>\n",
       "<text text-anchor=\"middle\" x=\"102.5\" y=\"-184\" font-family=\"monospace\" font-size=\"10.00\" fill=\"#000000\">AddmmBackward</text>\n",
       "</g>\n",
       "<!-- 140606484127376&#45;&gt;140606484127632 -->\n",
       "<g id=\"edge2\" class=\"edge\">\n",
       "<title>140606484127376&#45;&gt;140606484127632</title>\n",
       "<path fill=\"none\" stroke=\"#000000\" d=\"M102.5,-176.9197C102.5,-169.9083 102.5,-160.1442 102.5,-151.4652\"/>\n",
       "<polygon fill=\"#000000\" stroke=\"#000000\" points=\"106.0001,-151.3408 102.5,-141.3408 99.0001,-151.3409 106.0001,-151.3408\"/>\n",
       "</g>\n",
       "<!-- 140606484152464 -->\n",
       "<g id=\"node5\" class=\"node\">\n",
       "<title>140606484152464</title>\n",
       "<polygon fill=\"#d3d3d3\" stroke=\"#000000\" points=\"101,-251 0,-251 0,-232 101,-232 101,-251\"/>\n",
       "<text text-anchor=\"middle\" x=\"50.5\" y=\"-239\" font-family=\"monospace\" font-size=\"10.00\" fill=\"#000000\">AccumulateGrad</text>\n",
       "</g>\n",
       "<!-- 140606484152464&#45;&gt;140606484127376 -->\n",
       "<g id=\"edge3\" class=\"edge\">\n",
       "<title>140606484152464&#45;&gt;140606484127376</title>\n",
       "<path fill=\"none\" stroke=\"#000000\" d=\"M59.5577,-231.9197C66.9232,-224.1293 77.5017,-212.9405 86.3161,-203.6176\"/>\n",
       "<polygon fill=\"#000000\" stroke=\"#000000\" points=\"88.8691,-206.0119 93.1959,-196.3408 83.7825,-201.2028 88.8691,-206.0119\"/>\n",
       "</g>\n",
       "<!-- 140606495413904 -->\n",
       "<g id=\"node6\" class=\"node\">\n",
       "<title>140606495413904</title>\n",
       "<polygon fill=\"#add8e6\" stroke=\"#000000\" points=\"77.5,-317 23.5,-317 23.5,-287 77.5,-287 77.5,-317\"/>\n",
       "<text text-anchor=\"middle\" x=\"50.5\" y=\"-305\" font-family=\"monospace\" font-size=\"10.00\" fill=\"#000000\">bias</text>\n",
       "<text text-anchor=\"middle\" x=\"50.5\" y=\"-294\" font-family=\"monospace\" font-size=\"10.00\" fill=\"#000000\"> (10)</text>\n",
       "</g>\n",
       "<!-- 140606495413904&#45;&gt;140606484152464 -->\n",
       "<g id=\"edge4\" class=\"edge\">\n",
       "<title>140606495413904&#45;&gt;140606484152464</title>\n",
       "<path fill=\"none\" stroke=\"#000000\" d=\"M50.5,-286.7333C50.5,-279.0322 50.5,-269.5977 50.5,-261.3414\"/>\n",
       "<polygon fill=\"#000000\" stroke=\"#000000\" points=\"54.0001,-261.0864 50.5,-251.0864 47.0001,-261.0864 54.0001,-261.0864\"/>\n",
       "</g>\n",
       "<!-- 140606484152720 -->\n",
       "<g id=\"node7\" class=\"node\">\n",
       "<title>140606484152720</title>\n",
       "<polygon fill=\"#d3d3d3\" stroke=\"#000000\" points=\"190,-251 119,-251 119,-232 190,-232 190,-251\"/>\n",
       "<text text-anchor=\"middle\" x=\"154.5\" y=\"-239\" font-family=\"monospace\" font-size=\"10.00\" fill=\"#000000\">TBackward</text>\n",
       "</g>\n",
       "<!-- 140606484152720&#45;&gt;140606484127376 -->\n",
       "<g id=\"edge5\" class=\"edge\">\n",
       "<title>140606484152720&#45;&gt;140606484127376</title>\n",
       "<path fill=\"none\" stroke=\"#000000\" d=\"M145.4423,-231.9197C138.0768,-224.1293 127.4983,-212.9405 118.6839,-203.6176\"/>\n",
       "<polygon fill=\"#000000\" stroke=\"#000000\" points=\"121.2175,-201.2028 111.8041,-196.3408 116.1309,-206.0119 121.2175,-201.2028\"/>\n",
       "</g>\n",
       "<!-- 140606484152592 -->\n",
       "<g id=\"node8\" class=\"node\">\n",
       "<title>140606484152592</title>\n",
       "<polygon fill=\"#d3d3d3\" stroke=\"#000000\" points=\"205,-311.5 104,-311.5 104,-292.5 205,-292.5 205,-311.5\"/>\n",
       "<text text-anchor=\"middle\" x=\"154.5\" y=\"-299.5\" font-family=\"monospace\" font-size=\"10.00\" fill=\"#000000\">AccumulateGrad</text>\n",
       "</g>\n",
       "<!-- 140606484152592&#45;&gt;140606484152720 -->\n",
       "<g id=\"edge6\" class=\"edge\">\n",
       "<title>140606484152592&#45;&gt;140606484152720</title>\n",
       "<path fill=\"none\" stroke=\"#000000\" d=\"M154.5,-292.2796C154.5,-284.0376 154.5,-271.9457 154.5,-261.629\"/>\n",
       "<polygon fill=\"#000000\" stroke=\"#000000\" points=\"158.0001,-261.3972 154.5,-251.3972 151.0001,-261.3973 158.0001,-261.3972\"/>\n",
       "</g>\n",
       "<!-- 140606495414944 -->\n",
       "<g id=\"node9\" class=\"node\">\n",
       "<title>140606495414944</title>\n",
       "<polygon fill=\"#add8e6\" stroke=\"#000000\" points=\"193,-383 116,-383 116,-353 193,-353 193,-383\"/>\n",
       "<text text-anchor=\"middle\" x=\"154.5\" y=\"-371\" font-family=\"monospace\" font-size=\"10.00\" fill=\"#000000\">weight</text>\n",
       "<text text-anchor=\"middle\" x=\"154.5\" y=\"-360\" font-family=\"monospace\" font-size=\"10.00\" fill=\"#000000\"> (10, 784)</text>\n",
       "</g>\n",
       "<!-- 140606495414944&#45;&gt;140606484152592 -->\n",
       "<g id=\"edge7\" class=\"edge\">\n",
       "<title>140606495414944&#45;&gt;140606484152592</title>\n",
       "<path fill=\"none\" stroke=\"#000000\" d=\"M154.5,-352.6924C154.5,-343.5067 154.5,-331.7245 154.5,-321.8312\"/>\n",
       "<polygon fill=\"#000000\" stroke=\"#000000\" points=\"158.0001,-321.703 154.5,-311.7031 151.0001,-321.7031 158.0001,-321.703\"/>\n",
       "</g>\n",
       "</g>\n",
       "</svg>\n"
      ],
      "text/plain": [
       "<graphviz.dot.Digraph at 0x7fe17f8a1ed0>"
      ]
     },
     "execution_count": 13,
     "metadata": {
      "tags": []
     },
     "output_type": "execute_result"
    }
   ],
   "source": [
    "p = torchviz.make_dot(loss, dict(model.named_parameters()))\n",
    "p"
   ]
  },
  {
   "cell_type": "markdown",
   "metadata": {
    "id": "eBfK8Jz1EFae"
   },
   "source": [
    "### Laço de treinamento dos pesos"
   ]
  },
  {
   "cell_type": "code",
   "execution_count": null,
   "metadata": {
    "ExecuteTime": {
     "end_time": "2018-08-20T21:07:18.685776Z",
     "start_time": "2018-08-20T21:07:18.338268Z"
    },
    "id": "2TWhZ9_VEFaf"
   },
   "outputs": [],
   "source": [
    "losses = []\n",
    "\n",
    "for i in range(epochs):\n",
    "    # Predict da rede\n",
    "    logits = model( x_train)\n",
    "\n",
    "    # calcula a perda\n",
    "    loss = criterion(logits, y_train)\n",
    "\n",
    "    # zero, backpropagation, ajusta parâmetros pelo gradiente descendente\n",
    "    optimizer.zero_grad()\n",
    "    loss.backward()\n",
    "    optimizer.step()\n",
    "\n",
    "    losses.append(loss.item())"
   ]
  },
  {
   "cell_type": "code",
   "execution_count": null,
   "metadata": {
    "ExecuteTime": {
     "end_time": "2018-08-20T21:07:20.157187Z",
     "start_time": "2018-08-20T21:07:20.147356Z"
    },
    "colab": {
     "base_uri": "https://localhost:8080/"
    },
    "id": "clOXSBCiEFaj",
    "outputId": "11cf9f38-392b-4e46-820c-6000b590c26a"
   },
   "outputs": [
    {
     "name": "stdout",
     "output_type": "stream",
     "text": [
      "Final loss: 0.38383591175079346\n"
     ]
    }
   ],
   "source": [
    "print('Final loss:', loss.item())"
   ]
  },
  {
   "cell_type": "markdown",
   "metadata": {
    "id": "BYKybU3fEFao"
   },
   "source": [
    "### Visualizando gráfico de perda durante o treinamento"
   ]
  },
  {
   "cell_type": "code",
   "execution_count": null,
   "metadata": {
    "ExecuteTime": {
     "end_time": "2018-08-20T21:07:22.357424Z",
     "start_time": "2018-08-20T21:07:22.089769Z"
    },
    "colab": {
     "base_uri": "https://localhost:8080/",
     "height": 282
    },
    "id": "6-Mc7PdbEFap",
    "outputId": "46a86728-81f4-42dc-f718-be496344f75f"
   },
   "outputs": [
    {
     "data": {
      "text/plain": [
       "[<matplotlib.lines.Line2D at 0x7fe17f85c650>]"
      ]
     },
     "execution_count": 16,
     "metadata": {
      "tags": []
     },
     "output_type": "execute_result"
    },
    {
     "data": {
      "image/png": "[encoded data removed]",
      "text/plain": [
       "<Figure size 432x288 with 1 Axes>"
      ]
     },
     "metadata": {
      "needs_background": "light",
      "tags": []
     },
     "output_type": "display_data"
    }
   ],
   "source": [
    "plt.plot(losses)"
   ]
  },
  {
   "cell_type": "markdown",
   "metadata": {
    "id": "rDWepzaBEFat"
   },
   "source": [
    "## Avaliação"
   ]
  },
  {
   "cell_type": "markdown",
   "metadata": {
    "id": "R_gsur1REFav"
   },
   "source": [
    "### Acurácia tanto no conjunto de treinamento como no conjunto de testes"
   ]
  },
  {
   "cell_type": "code",
   "execution_count": null,
   "metadata": {
    "ExecuteTime": {
     "end_time": "2018-08-20T21:07:26.762339Z",
     "start_time": "2018-08-20T21:07:26.752102Z"
    },
    "colab": {
     "base_uri": "https://localhost:8080/"
    },
    "id": "9EobiYa_EFaw",
    "outputId": "f5b19feb-b140-4acc-b280-854870e714de"
   },
   "outputs": [
    {
     "name": "stdout",
     "output_type": "stream",
     "text": [
      "Accuracy: 0.8979948997449873\n"
     ]
    }
   ],
   "source": [
    "def predict(model, input_data):\n",
    "    outputs = model(input_data)\n",
    "    _, predicts = torch.max(outputs, 1)\n",
    "    \n",
    "    return predicts.data\n",
    "\n",
    "y_pred = predict(model, x_train.view(-1, 28*28))\n",
    "accuracy = (y_pred.numpy() == y_train.numpy()).mean()\n",
    "print('Accuracy:', accuracy)"
   ]
  },
  {
   "cell_type": "markdown",
   "metadata": {
    "id": "M7dDsoA9EFa0"
   },
   "source": [
    "### Matriz de confusão com dados de treinamento e teste"
   ]
  },
  {
   "cell_type": "code",
   "execution_count": null,
   "metadata": {
    "ExecuteTime": {
     "end_time": "2018-08-20T21:07:28.780614Z",
     "start_time": "2018-08-20T21:07:28.696618Z"
    },
    "colab": {
     "base_uri": "https://localhost:8080/",
     "height": 405
    },
    "id": "k-NSwwkKEFa1",
    "outputId": "4f8b9845-909c-4004-9bb0-bac2e87929ab"
   },
   "outputs": [
    {
     "name": "stdout",
     "output_type": "stream",
     "text": [
      "Matriz de confusão:\n"
     ]
    },
    {
     "data": {
      "text/html": [
       "<div>\n",
       "<style scoped>\n",
       "    .dataframe tbody tr th:only-of-type {\n",
       "        vertical-align: middle;\n",
       "    }\n",
       "\n",
       "    .dataframe tbody tr th {\n",
       "        vertical-align: top;\n",
       "    }\n",
       "\n",
       "    .dataframe thead th {\n",
       "        text-align: right;\n",
       "    }\n",
       "</style>\n",
       "<table border=\"1\" class=\"dataframe\">\n",
       "  <thead>\n",
       "    <tr style=\"text-align: right;\">\n",
       "      <th>col_0</th>\n",
       "      <th>0</th>\n",
       "      <th>1</th>\n",
       "      <th>2</th>\n",
       "      <th>3</th>\n",
       "      <th>4</th>\n",
       "      <th>5</th>\n",
       "      <th>6</th>\n",
       "      <th>7</th>\n",
       "      <th>8</th>\n",
       "      <th>9</th>\n",
       "    </tr>\n",
       "    <tr>\n",
       "      <th>row_0</th>\n",
       "      <th></th>\n",
       "      <th></th>\n",
       "      <th></th>\n",
       "      <th></th>\n",
       "      <th></th>\n",
       "      <th></th>\n",
       "      <th></th>\n",
       "      <th></th>\n",
       "      <th></th>\n",
       "      <th></th>\n",
       "    </tr>\n",
       "  </thead>\n",
       "  <tbody>\n",
       "    <tr>\n",
       "      <th>0</th>\n",
       "      <td>1889</td>\n",
       "      <td>0</td>\n",
       "      <td>22</td>\n",
       "      <td>9</td>\n",
       "      <td>4</td>\n",
       "      <td>31</td>\n",
       "      <td>15</td>\n",
       "      <td>11</td>\n",
       "      <td>8</td>\n",
       "      <td>19</td>\n",
       "    </tr>\n",
       "    <tr>\n",
       "      <th>1</th>\n",
       "      <td>0</td>\n",
       "      <td>2165</td>\n",
       "      <td>25</td>\n",
       "      <td>16</td>\n",
       "      <td>15</td>\n",
       "      <td>21</td>\n",
       "      <td>6</td>\n",
       "      <td>26</td>\n",
       "      <td>57</td>\n",
       "      <td>16</td>\n",
       "    </tr>\n",
       "    <tr>\n",
       "      <th>2</th>\n",
       "      <td>7</td>\n",
       "      <td>12</td>\n",
       "      <td>1707</td>\n",
       "      <td>45</td>\n",
       "      <td>20</td>\n",
       "      <td>13</td>\n",
       "      <td>23</td>\n",
       "      <td>34</td>\n",
       "      <td>27</td>\n",
       "      <td>14</td>\n",
       "    </tr>\n",
       "    <tr>\n",
       "      <th>3</th>\n",
       "      <td>5</td>\n",
       "      <td>13</td>\n",
       "      <td>36</td>\n",
       "      <td>1744</td>\n",
       "      <td>2</td>\n",
       "      <td>81</td>\n",
       "      <td>1</td>\n",
       "      <td>7</td>\n",
       "      <td>56</td>\n",
       "      <td>33</td>\n",
       "    </tr>\n",
       "    <tr>\n",
       "      <th>4</th>\n",
       "      <td>4</td>\n",
       "      <td>4</td>\n",
       "      <td>46</td>\n",
       "      <td>0</td>\n",
       "      <td>1743</td>\n",
       "      <td>35</td>\n",
       "      <td>13</td>\n",
       "      <td>30</td>\n",
       "      <td>7</td>\n",
       "      <td>87</td>\n",
       "    </tr>\n",
       "    <tr>\n",
       "      <th>5</th>\n",
       "      <td>10</td>\n",
       "      <td>15</td>\n",
       "      <td>6</td>\n",
       "      <td>82</td>\n",
       "      <td>3</td>\n",
       "      <td>1436</td>\n",
       "      <td>28</td>\n",
       "      <td>2</td>\n",
       "      <td>47</td>\n",
       "      <td>10</td>\n",
       "    </tr>\n",
       "    <tr>\n",
       "      <th>6</th>\n",
       "      <td>22</td>\n",
       "      <td>5</td>\n",
       "      <td>43</td>\n",
       "      <td>18</td>\n",
       "      <td>20</td>\n",
       "      <td>32</td>\n",
       "      <td>1935</td>\n",
       "      <td>2</td>\n",
       "      <td>12</td>\n",
       "      <td>0</td>\n",
       "    </tr>\n",
       "    <tr>\n",
       "      <th>7</th>\n",
       "      <td>3</td>\n",
       "      <td>3</td>\n",
       "      <td>36</td>\n",
       "      <td>27</td>\n",
       "      <td>8</td>\n",
       "      <td>10</td>\n",
       "      <td>0</td>\n",
       "      <td>1933</td>\n",
       "      <td>16</td>\n",
       "      <td>60</td>\n",
       "    </tr>\n",
       "    <tr>\n",
       "      <th>8</th>\n",
       "      <td>20</td>\n",
       "      <td>24</td>\n",
       "      <td>54</td>\n",
       "      <td>48</td>\n",
       "      <td>13</td>\n",
       "      <td>72</td>\n",
       "      <td>15</td>\n",
       "      <td>9</td>\n",
       "      <td>1646</td>\n",
       "      <td>23</td>\n",
       "    </tr>\n",
       "    <tr>\n",
       "      <th>9</th>\n",
       "      <td>2</td>\n",
       "      <td>2</td>\n",
       "      <td>14</td>\n",
       "      <td>32</td>\n",
       "      <td>96</td>\n",
       "      <td>30</td>\n",
       "      <td>2</td>\n",
       "      <td>72</td>\n",
       "      <td>36</td>\n",
       "      <td>1761</td>\n",
       "    </tr>\n",
       "  </tbody>\n",
       "</table>\n",
       "</div>"
      ],
      "text/plain": [
       "col_0     0     1     2     3     4     5     6     7     8     9\n",
       "row_0                                                            \n",
       "0      1889     0    22     9     4    31    15    11     8    19\n",
       "1         0  2165    25    16    15    21     6    26    57    16\n",
       "2         7    12  1707    45    20    13    23    34    27    14\n",
       "3         5    13    36  1744     2    81     1     7    56    33\n",
       "4         4     4    46     0  1743    35    13    30     7    87\n",
       "5        10    15     6    82     3  1436    28     2    47    10\n",
       "6        22     5    43    18    20    32  1935     2    12     0\n",
       "7         3     3    36    27     8    10     0  1933    16    60\n",
       "8        20    24    54    48    13    72    15     9  1646    23\n",
       "9         2     2    14    32    96    30     2    72    36  1761"
      ]
     },
     "execution_count": 18,
     "metadata": {
      "tags": []
     },
     "output_type": "execute_result"
    }
   ],
   "source": [
    "print('Matriz de confusão:')\n",
    "pd.crosstab(y_pred.numpy(), y_train.numpy())"
   ]
  },
  {
   "cell_type": "markdown",
   "metadata": {
    "id": "gFKvj9ZiEFa5"
   },
   "source": [
    "## Visualizando a matriz de pesos treinados"
   ]
  },
  {
   "cell_type": "markdown",
   "metadata": {
    "id": "KJpBhMXMEFa6"
   },
   "source": [
    "Observe que a matriz de peso treinado para cada classe mostra a importância dos pesos associados aos caracteres de cada classe."
   ]
  },
  {
   "cell_type": "code",
   "execution_count": null,
   "metadata": {
    "ExecuteTime": {
     "end_time": "2018-08-20T21:07:30.947279Z",
     "start_time": "2018-08-20T21:07:30.735095Z"
    },
    "colab": {
     "base_uri": "https://localhost:8080/",
     "height": 299
    },
    "id": "LMBmP2OKEFa-",
    "outputId": "832d4d70-2c29-4bf6-a07d-3a903ff1ad09"
   },
   "outputs": [
    {
     "name": "stdout",
     "output_type": "stream",
     "text": [
      "weights: torch.Size([10, 784])\n",
      "bias:    torch.Size([10])\n"
     ]
    },
    {
     "data": {
      "image/png": "[encoded data removed]",
      "text/plain": [
       "<Figure size 432x288 with 1 Axes>"
      ]
     },
     "metadata": {
      "needs_background": "light",
      "tags": []
     },
     "output_type": "display_data"
    }
   ],
   "source": [
    "weights = model.state_dict()['weight']\n",
    "print('weights:', weights.shape)\n",
    "\n",
    "bias = model.state_dict()['bias']\n",
    "print('bias:   ', bias.shape)\n",
    "\n",
    "# Visualizando pesos da classe 3\n",
    "plt.imshow(weights[3, :].numpy().reshape((28,28)),cmap = 'gray')\n",
    "plt.show()"
   ]
  },
  {
   "cell_type": "markdown",
   "metadata": {
    "id": "8MymC9KEEFbF"
   },
   "source": [
    "### Visualizando os pesos de todas as classes"
   ]
  },
  {
   "cell_type": "code",
   "execution_count": null,
   "metadata": {
    "ExecuteTime": {
     "end_time": "2018-08-20T21:07:33.407081Z",
     "start_time": "2018-08-20T21:07:32.980285Z"
    },
    "colab": {
     "base_uri": "https://localhost:8080/",
     "height": 117
    },
    "id": "fiNK2H5MEFbH",
    "outputId": "1784f8a7-4412-4b3a-cd07-9e5efe80daa9"
   },
   "outputs": [
    {
     "data": {
      "image/png": "[encoded data removed]",
      "text/plain": [
       "<Figure size 1080x720 with 1 Axes>"
      ]
     },
     "metadata": {
      "needs_background": "light",
      "tags": []
     },
     "output_type": "display_data"
    }
   ],
   "source": [
    "# cria um grid com as imagens\n",
    "grid = torchvision.utils.make_grid(weights.view(-1, 1, 28, 28), normalize=True, pad_value=1.0, padding=1, nrow=10)\n",
    "\n",
    "plt.figure(figsize=(15, 10))\n",
    "plt.imshow(grid.numpy().transpose(1, 2, 0))\n",
    "plt.axis('off');"
   ]
  },
  {
   "cell_type": "markdown",
   "metadata": {
    "id": "MbVGQVEHEFbL"
   },
   "source": [
    "### Diagrama da regressão softmax com visualização dos pesos W"
   ]
  },
  {
   "cell_type": "markdown",
   "metadata": {
    "id": "RxOy6qIYEFbM"
   },
   "source": [
    "<img src=\"https://raw.githubusercontent.com/robertoalotufo/files/master/figures/RegressaoSoftmaxArgmaxNMIST.png\" width = \"400\">"
   ]
  },
  {
   "cell_type": "markdown",
   "metadata": {
    "id": "RPUrGTmVEFbN"
   },
   "source": [
    "# Atividades"
   ]
  },
  {
   "cell_type": "markdown",
   "metadata": {
    "id": "R-4YMw3ZEFbO"
   },
   "source": [
    "## Exercícios"
   ]
  },
  {
   "cell_type": "markdown",
   "metadata": {
    "id": "61qa4GyKEFbP"
   },
   "source": [
    "- 1) Na configuração da figura acima, mostre os valores de z0 até z9, os valores das probabilidades y_hat, após o softmax, quando a rede recebe como entrada a nona amostra que contém o manuscrito do dígito '4':"
   ]
  },
  {
   "cell_type": "code",
   "execution_count": null,
   "metadata": {
    "ExecuteTime": {
     "end_time": "2018-08-20T21:02:26.658663Z",
     "start_time": "2018-08-20T21:02:26.476702Z"
    },
    "colab": {
     "base_uri": "https://localhost:8080/",
     "height": 282
    },
    "id": "6bxHH6GgEFbQ",
    "outputId": "f68bb3c7-aba9-4b97-b6c8-50f2e7db2235"
   },
   "outputs": [
    {
     "name": "stdout",
     "output_type": "stream",
     "text": [
      "class: tensor(2)\n"
     ]
    },
    {
     "data": {
      "image/png": "[encoded data removed]",
      "text/plain": [
       "<Figure size 432x288 with 1 Axes>"
      ]
     },
     "metadata": {
      "needs_background": "light",
      "tags": []
     },
     "output_type": "display_data"
    }
   ],
   "source": [
    "image  = x_train[9]\n",
    "target = y_train[9]\n",
    "\n",
    "plt.imshow(image.numpy().reshape(28,28), cmap='gray')\n",
    "print('class:', target)"
   ]
  },
  {
   "cell_type": "markdown",
   "metadata": {
    "id": "tfPv362FEFbU"
   },
   "source": [
    "- 2) Insira código no laço do treinamento para que no final de cada época, \n",
    "     seja impresso: o número da época e a perda e a acurácia"
   ]
  },
  {
   "cell_type": "markdown",
   "metadata": {
    "id": "HMv-NixREFbV"
   },
   "source": [
    "- 3) Insira código no laço do treinamento para visualização dos valores dos gradientes referentes à classe do dígito 4, no final de cada época."
   ]
  },
  {
   "cell_type": "markdown",
   "metadata": {
    "id": "a1b9Y0mjEFbW"
   },
   "source": [
    "## Perguntas"
   ]
  },
  {
   "cell_type": "markdown",
   "metadata": {
    "id": "44dwCdL9EFbX"
   },
   "source": [
    "1. Qual é o shape da matriz de entrada na rede?\n",
    "2. Qual é o shape da saída da rede?\n",
    "3. Qual é o número total de parâmetros da rede, incluindo o bias?"
   ]
  },
  {
   "cell_type": "markdown",
   "metadata": {
    "heading_collapsed": true,
    "id": "MSybZvZ3EFbY"
   },
   "source": [
    "# Aprendizados\n"
   ]
  },
  {
   "cell_type": "code",
   "execution_count": null,
   "metadata": {
    "hidden": true,
    "id": "5zu78OWgEFbZ"
   },
   "outputs": [],
   "source": []
  }
 ],
 "metadata": {
  "anaconda-cloud": {},
  "colab": {
   "collapsed_sections": [],
   "name": "03_02_LogisticRegressionMNIST.ipynb",
   "provenance": []
  },
  "kernelspec": {
   "display_name": "Python 3",
   "language": "python",
   "name": "python3"
  },
  "language_info": {
   "codemirror_mode": {
    "name": "ipython",
    "version": 3
   },
   "file_extension": ".py",
   "mimetype": "text/x-python",
   "name": "python",
   "nbconvert_exporter": "python",
   "pygments_lexer": "ipython3",
   "version": "3.9.2"
  },
  "toc": {
   "nav_menu": {
    "height": "318px",
    "width": "252px"
   },
   "number_sections": true,
   "sideBar": true,
   "skip_h1_title": false,
   "toc_cell": false,
   "toc_position": {},
   "toc_section_display": "block",
   "toc_window_display": false
  }
 },
 "nbformat": 4,
 "nbformat_minor": 1
}
