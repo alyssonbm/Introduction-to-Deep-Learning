{
 "cells": [
  {
   "cell_type": "markdown",
   "metadata": {
    "id": "2szUrx4aAHY1"
   },
   "source": [
    "# Iris dataset - Regressão Logística - 3 classes"
   ]
  },
  {
   "cell_type": "markdown",
   "metadata": {
    "id": "tWbSeffTAHY2"
   },
   "source": [
    "## Objetivos"
   ]
  },
  {
   "cell_type": "markdown",
   "metadata": {
    "id": "E65C-CTEAHY3"
   },
   "source": [
    "Este notebook ilustra o problema de classificação.\n",
    "\n",
    "O objetivo é classificar as amostras da Íris em 3 classes.\n",
    "- o alvo é o índice da classe: 0, 1 ou 2\n",
    "- função de perda é Entropia Cruzada\n",
    "- rede é uma camada densa linear com duas entradas e três saídas (n. de classes)"
   ]
  },
  {
   "cell_type": "markdown",
   "metadata": {
    "id": "75lMJrkRAHY4"
   },
   "source": [
    "<img src='https://raw.githubusercontent.com/robertoalotufo/files/master/figures/RegressaoSoftmax_CrossEntropy_Otimizacao.png' width=\"700\"></img>\n",
    "<img src='https://raw.githubusercontent.com/robertoalotufo/files/master/figures/softmax.png' width=\"600\">"
   ]
  },
  {
   "cell_type": "markdown",
   "metadata": {
    "id": "VHhfeBF_AHY5"
   },
   "source": [
    "## Entropia Cruzada"
   ]
  },
  {
   "cell_type": "markdown",
   "metadata": {
    "id": "tsqph6arAHY6"
   },
   "source": [
    "$$ H(p,q) = - \\sum_i p_i log(q_i) $$ q é a predição e p é o target. Lembrar que $log(q_i)$ é sempre negativo e a entropia cruzada é sempre positiva."
   ]
  },
  {
   "cell_type": "markdown",
   "metadata": {
    "id": "umNxCL6PAHY7"
   },
   "source": [
    "com hot encoding: $p_i = 0$ para $ i \\neq c$ onde $c$ é a classe target ($ p_c = 1$). Assim:"
   ]
  },
  {
   "cell_type": "markdown",
   "metadata": {
    "id": "KyVwgcLMAHY8"
   },
   "source": [
    "$$ H(c,q) = - log(q_c) $$ onde $c$ é o índice da classe target e $q_c$ e a probabilidade da classe $c$."
   ]
  },
  {
   "cell_type": "markdown",
   "metadata": {
    "id": "0qYbH8AvAHY9"
   },
   "source": [
    "## Entropia Cruzada do Softmax via hot-encoding"
   ]
  },
  {
   "cell_type": "markdown",
   "metadata": {
    "id": "kWn1_ahrAHY-"
   },
   "source": [
    "$$ S(z_i) = \\frac{e^{z_i}}{\\sum_j e^{z_j}} $$\n",
    "onde $z_i$ são os logitos da saída da rede."
   ]
  },
  {
   "cell_type": "markdown",
   "metadata": {
    "id": "ueOREfzgAHY_"
   },
   "source": [
    "$$ q_i = S(z_i) $$\n",
    "$$ H(c, S(z)) = -log(S(z_c))$$"
   ]
  },
  {
   "cell_type": "markdown",
   "metadata": {
    "id": "iuhMIwxHAHY_"
   },
   "source": [
    "A entropia cruzada em função dos logitos e da classe alvo ($c$) é dada por:\n",
    "$$ H(c,z) = -z_c + log( \\sum_j e^{z_j} ) $$"
   ]
  },
  {
   "cell_type": "markdown",
   "metadata": {
    "id": "UXKoQy1LAHZA"
   },
   "source": [
    "## Importação das bibliotecas"
   ]
  },
  {
   "cell_type": "code",
   "execution_count": null,
   "metadata": {
    "ExecuteTime": {
     "end_time": "2019-11-25T00:34:53.236718Z",
     "start_time": "2019-11-25T00:34:49.260665Z"
    },
    "id": "Y7gIjqy6AHZB"
   },
   "outputs": [],
   "source": [
    "%matplotlib inline\n",
    "import os\n",
    "from sklearn.datasets import load_iris\n",
    "import numpy as np\n",
    "import matplotlib.pyplot as plt\n",
    "import pandas as pd\n",
    "\n",
    "import torch\n",
    "import torch.nn as nn\n",
    "import torch.nn.functional as F\n",
    "\n",
    "from IPython import display"
   ]
  },
  {
   "cell_type": "markdown",
   "metadata": {
    "id": "DiyA-F4pAYYZ"
   },
   "source": [
    "### Uso do Neptune.ai"
   ]
  },
  {
   "cell_type": "code",
   "execution_count": null,
   "metadata": {
    "colab": {
     "base_uri": "https://localhost:8080/"
    },
    "id": "VUm59mgbAbeo",
    "outputId": "bc1f8ed0-cb99-4967-e46f-767972b9b2d4"
   },
   "outputs": [
    {
     "name": "stdout",
     "output_type": "stream",
     "text": [
      "Collecting neptune-client==0.9.1\n",
      "\u001b[?25l  Downloading https://files.pythonhosted.org/packages/b6/25/757d8828a31dba3e684ac2bbc29b5fee54ec1d5961333c5ba18fb5dcf67f/neptune-client-0.9.1.tar.gz (209kB)\n",
      "\r",
      "\u001b[K     |█▋                              | 10kB 22.2MB/s eta 0:00:01\r",
      "\u001b[K     |███▏                            | 20kB 19.2MB/s eta 0:00:01\r",
      "\u001b[K     |████▊                           | 30kB 11.6MB/s eta 0:00:01\r",
      "\u001b[K     |██████▎                         | 40kB 9.6MB/s eta 0:00:01\r",
      "\u001b[K     |███████▉                        | 51kB 7.9MB/s eta 0:00:01\r",
      "\u001b[K     |█████████▍                      | 61kB 8.3MB/s eta 0:00:01\r",
      "\u001b[K     |███████████                     | 71kB 8.1MB/s eta 0:00:01\r",
      "\u001b[K     |████████████▌                   | 81kB 8.3MB/s eta 0:00:01\r",
      "\u001b[K     |██████████████                  | 92kB 8.2MB/s eta 0:00:01\r",
      "\u001b[K     |███████████████▋                | 102kB 8.7MB/s eta 0:00:01\r",
      "\u001b[K     |█████████████████▏              | 112kB 8.7MB/s eta 0:00:01\r",
      "\u001b[K     |██████████████████▊             | 122kB 8.7MB/s eta 0:00:01\r",
      "\u001b[K     |████████████████████▎           | 133kB 8.7MB/s eta 0:00:01\r",
      "\u001b[K     |█████████████████████▉          | 143kB 8.7MB/s eta 0:00:01\r",
      "\u001b[K     |███████████████████████▍        | 153kB 8.7MB/s eta 0:00:01\r",
      "\u001b[K     |█████████████████████████       | 163kB 8.7MB/s eta 0:00:01\r",
      "\u001b[K     |██████████████████████████▌     | 174kB 8.7MB/s eta 0:00:01\r",
      "\u001b[K     |████████████████████████████    | 184kB 8.7MB/s eta 0:00:01\r",
      "\u001b[K     |█████████████████████████████▊  | 194kB 8.7MB/s eta 0:00:01\r",
      "\u001b[K     |███████████████████████████████▎| 204kB 8.7MB/s eta 0:00:01\r",
      "\u001b[K     |████████████████████████████████| 215kB 8.7MB/s \n",
      "\u001b[?25hCollecting bravado\n",
      "  Downloading https://files.pythonhosted.org/packages/21/ed/03b0c36b5bcafbe2938ed222f9a164a6c0367ce99a9d2d502e462853571d/bravado-11.0.3-py2.py3-none-any.whl\n",
      "Requirement already satisfied: click>=7.0 in /usr/local/lib/python3.7/dist-packages (from neptune-client==0.9.1) (7.1.2)\n",
      "Collecting future>=0.17.1\n",
      "\u001b[?25l  Downloading https://files.pythonhosted.org/packages/45/0b/38b06fd9b92dc2b68d58b75f900e97884c45bedd2ff83203d933cf5851c9/future-0.18.2.tar.gz (829kB)\n",
      "\u001b[K     |████████████████████████████████| 829kB 11.4MB/s \n",
      "\u001b[?25hRequirement already satisfied: oauthlib>=2.1.0 in /usr/local/lib/python3.7/dist-packages (from neptune-client==0.9.1) (3.1.0)\n",
      "Requirement already satisfied: pandas in /usr/local/lib/python3.7/dist-packages (from neptune-client==0.9.1) (1.1.5)\n",
      "Requirement already satisfied: Pillow>=1.1.6 in /usr/local/lib/python3.7/dist-packages (from neptune-client==0.9.1) (7.1.2)\n",
      "Collecting PyJWT\n",
      "  Downloading https://files.pythonhosted.org/packages/b4/9b/8850f99027ed029af6828199cc87179eaccbbf1f9e6e373e7f0177d32dad/PyJWT-2.0.1-py3-none-any.whl\n",
      "Requirement already satisfied: requests>=2.20.0 in /usr/local/lib/python3.7/dist-packages (from neptune-client==0.9.1) (2.23.0)\n",
      "Requirement already satisfied: requests-oauthlib>=1.0.0 in /usr/local/lib/python3.7/dist-packages (from neptune-client==0.9.1) (1.3.0)\n",
      "Requirement already satisfied: six>=1.12.0 in /usr/local/lib/python3.7/dist-packages (from neptune-client==0.9.1) (1.15.0)\n",
      "Collecting websocket-client>=0.35.0\n",
      "\u001b[?25l  Downloading https://files.pythonhosted.org/packages/08/33/80e0d4f60e84a1ddd9a03f340be1065a2a363c47ce65c4bd3bae65ce9631/websocket_client-0.58.0-py2.py3-none-any.whl (61kB)\n",
      "\u001b[K     |████████████████████████████████| 61kB 8.7MB/s \n",
      "\u001b[?25hCollecting GitPython>=2.0.8\n",
      "\u001b[?25l  Downloading https://files.pythonhosted.org/packages/a6/99/98019716955ba243657daedd1de8f3a88ca1f5b75057c38e959db22fb87b/GitPython-3.1.14-py3-none-any.whl (159kB)\n",
      "\u001b[K     |████████████████████████████████| 163kB 22.0MB/s \n",
      "\u001b[?25hRequirement already satisfied: packaging in /usr/local/lib/python3.7/dist-packages (from neptune-client==0.9.1) (20.9)\n",
      "Requirement already satisfied: urllib3 in /usr/local/lib/python3.7/dist-packages (from neptune-client==0.9.1) (1.24.3)\n",
      "Requirement already satisfied: typing-extensions in /usr/local/lib/python3.7/dist-packages (from bravado->neptune-client==0.9.1) (3.7.4.3)\n",
      "Collecting monotonic\n",
      "  Downloading https://files.pythonhosted.org/packages/9a/67/7e8406a29b6c45be7af7740456f7f37025f0506ae2e05fb9009a53946860/monotonic-1.6-py2.py3-none-any.whl\n",
      "Requirement already satisfied: msgpack in /usr/local/lib/python3.7/dist-packages (from bravado->neptune-client==0.9.1) (1.0.2)\n",
      "Requirement already satisfied: pyyaml in /usr/local/lib/python3.7/dist-packages (from bravado->neptune-client==0.9.1) (3.13)\n",
      "Collecting bravado-core>=5.16.1\n",
      "\u001b[?25l  Downloading https://files.pythonhosted.org/packages/76/11/18e9d28a156c33f2d5f15a5e155dc7130250acb0a569255a2b6b307b596d/bravado_core-5.17.0-py2.py3-none-any.whl (67kB)\n",
      "\u001b[K     |████████████████████████████████| 71kB 9.3MB/s \n",
      "\u001b[?25hRequirement already satisfied: python-dateutil in /usr/local/lib/python3.7/dist-packages (from bravado->neptune-client==0.9.1) (2.8.1)\n",
      "Collecting simplejson\n",
      "\u001b[?25l  Downloading https://files.pythonhosted.org/packages/a8/04/377418ac1e530ce2a196b54c6552c018fdf1fe776718053efb1f216bffcd/simplejson-3.17.2-cp37-cp37m-manylinux2010_x86_64.whl (128kB)\n",
      "\u001b[K     |████████████████████████████████| 133kB 23.6MB/s \n",
      "\u001b[?25hRequirement already satisfied: numpy>=1.15.4 in /usr/local/lib/python3.7/dist-packages (from pandas->neptune-client==0.9.1) (1.19.5)\n",
      "Requirement already satisfied: pytz>=2017.2 in /usr/local/lib/python3.7/dist-packages (from pandas->neptune-client==0.9.1) (2018.9)\n",
      "Requirement already satisfied: certifi>=2017.4.17 in /usr/local/lib/python3.7/dist-packages (from requests>=2.20.0->neptune-client==0.9.1) (2020.12.5)\n",
      "Requirement already satisfied: idna<3,>=2.5 in /usr/local/lib/python3.7/dist-packages (from requests>=2.20.0->neptune-client==0.9.1) (2.10)\n",
      "Requirement already satisfied: chardet<4,>=3.0.2 in /usr/local/lib/python3.7/dist-packages (from requests>=2.20.0->neptune-client==0.9.1) (3.0.4)\n",
      "Collecting gitdb<5,>=4.0.1\n",
      "\u001b[?25l  Downloading https://files.pythonhosted.org/packages/ea/e8/f414d1a4f0bbc668ed441f74f44c116d9816833a48bf81d22b697090dba8/gitdb-4.0.7-py3-none-any.whl (63kB)\n",
      "\u001b[K     |████████████████████████████████| 71kB 10.0MB/s \n",
      "\u001b[?25hRequirement already satisfied: pyparsing>=2.0.2 in /usr/local/lib/python3.7/dist-packages (from packaging->neptune-client==0.9.1) (2.4.7)\n",
      "Requirement already satisfied: jsonschema[format]>=2.5.1 in /usr/local/lib/python3.7/dist-packages (from bravado-core>=5.16.1->bravado->neptune-client==0.9.1) (2.6.0)\n",
      "Collecting jsonref\n",
      "  Downloading https://files.pythonhosted.org/packages/07/92/f8e4ac824b14af77e613984e480fa818397c72d4141fc466decb26752749/jsonref-0.2-py3-none-any.whl\n",
      "Collecting swagger-spec-validator>=2.0.1\n",
      "  Downloading https://files.pythonhosted.org/packages/09/de/e78cefbf5838b434b63a789264b79821cb2267f1498fbed23ef8590133e4/swagger_spec_validator-2.7.3-py2.py3-none-any.whl\n",
      "Collecting smmap<5,>=3.0.1\n",
      "  Downloading https://files.pythonhosted.org/packages/68/ee/d540eb5e5996eb81c26ceffac6ee49041d473bc5125f2aa995cf51ec1cf1/smmap-4.0.0-py2.py3-none-any.whl\n",
      "Collecting webcolors; extra == \"format\"\n",
      "  Downloading https://files.pythonhosted.org/packages/12/05/3350559de9714b202e443a9e6312937341bd5f79f4e4f625744295e7dd17/webcolors-1.11.1-py3-none-any.whl\n",
      "Collecting rfc3987; extra == \"format\"\n",
      "  Downloading https://files.pythonhosted.org/packages/65/d4/f7407c3d15d5ac779c3dd34fbbc6ea2090f77bd7dd12f207ccf881551208/rfc3987-1.3.8-py2.py3-none-any.whl\n",
      "Collecting strict-rfc3339; extra == \"format\"\n",
      "  Downloading https://files.pythonhosted.org/packages/56/e4/879ef1dbd6ddea1c77c0078cd59b503368b0456bcca7d063a870ca2119d3/strict-rfc3339-0.7.tar.gz\n",
      "Building wheels for collected packages: neptune-client, future, strict-rfc3339\n",
      "  Building wheel for neptune-client (setup.py) ... \u001b[?25l\u001b[?25hdone\n",
      "  Created wheel for neptune-client: filename=neptune_client-0.9.1-py2.py3-none-any.whl size=371716 sha256=c0c9b46453863f95d05b543a9cf662bde400044063e1c57377dd1c688bb8be71\n",
      "  Stored in directory: /root/.cache/pip/wheels/6e/d4/60/21005f18273566da0463587bed8c69cce7f300a404edf26df8\n",
      "  Building wheel for future (setup.py) ... \u001b[?25l\u001b[?25hdone\n",
      "  Created wheel for future: filename=future-0.18.2-cp37-none-any.whl size=491058 sha256=57bf83f463547b5e6236c621ec227e852f13c38dac912b845a054f297268c610\n",
      "  Stored in directory: /root/.cache/pip/wheels/8b/99/a0/81daf51dcd359a9377b110a8a886b3895921802d2fc1b2397e\n",
      "  Building wheel for strict-rfc3339 (setup.py) ... \u001b[?25l\u001b[?25hdone\n",
      "  Created wheel for strict-rfc3339: filename=strict_rfc3339-0.7-cp37-none-any.whl size=18121 sha256=61ba2e4795bde90b8dec1c42b68bc0b1f69777d207ff00449b320a127a2741d8\n",
      "  Stored in directory: /root/.cache/pip/wheels/bb/af/c9/b6e9fb5f9b2470e4ed2a7241c9ab3a8cdd3bc8555ae02ca2e6\n",
      "Successfully built neptune-client future strict-rfc3339\n",
      "Installing collected packages: monotonic, jsonref, swagger-spec-validator, simplejson, bravado-core, bravado, future, PyJWT, websocket-client, smmap, gitdb, GitPython, neptune-client, webcolors, rfc3987, strict-rfc3339\n",
      "  Found existing installation: future 0.16.0\n",
      "    Uninstalling future-0.16.0:\n",
      "      Successfully uninstalled future-0.16.0\n",
      "Successfully installed GitPython-3.1.14 PyJWT-2.0.1 bravado-11.0.3 bravado-core-5.17.0 future-0.18.2 gitdb-4.0.7 jsonref-0.2 monotonic-1.6 neptune-client-0.9.1 rfc3987-1.3.8 simplejson-3.17.2 smmap-4.0.0 strict-rfc3339-0.7 swagger-spec-validator-2.7.3 webcolors-1.11.1 websocket-client-0.58.0\n"
     ]
    }
   ],
   "source": [
    "! pip install neptune-client==0.9.1"
   ]
  },
  {
   "cell_type": "markdown",
   "metadata": {
    "id": "SOnfJbTxAtVh"
   },
   "source": [
    "### Novo experimento registrado no Neptune"
   ]
  },
  {
   "cell_type": "code",
   "execution_count": null,
   "metadata": {
    "colab": {
     "base_uri": "https://localhost:8080/"
    },
    "id": "VIPFUrg_A0Us",
    "outputId": "f62bff59-14b2-453d-8554-ec615b6bbd63"
   },
   "outputs": [
    {
     "name": "stdout",
     "output_type": "stream",
     "text": [
      "https://app.neptune.ai/robertoalotufo/Aula-3/e/AUL-19\n"
     ]
    }
   ],
   "source": [
    "import neptune.new as neptune\n",
    "\n",
    "run = neptune.init(project='robertoalotufo/Aula-3', api_token='eyJhcGlfYWRkcmVzcyI6Imh0dHBzOi8vYXBwLm5lcHR1bmUuYWkiLCJhcGlfdXJsIjoiaHR0cHM6Ly9hcHAubmVwdHVuZS5haSIsImFwaV9rZXkiOiJiOTFjMjc3Zi1kNzYxLTQ1ZWItOTcwZS1iOWMxYmQ1MWE5MjIifQ==')"
   ]
  },
  {
   "cell_type": "markdown",
   "metadata": {
    "id": "fc61F1YTAHZD"
   },
   "source": [
    "## Dataset: Leitura, normalização e visualização dos dados\n",
    "**Exercício**: No cálculo de Xc abaixo, qual é a dimensão de Xc? Por que os valores de min e max foram calculados com axis=0? O que acontece se tirar o parâmetros axis?"
   ]
  },
  {
   "cell_type": "code",
   "execution_count": null,
   "metadata": {
    "ExecuteTime": {
     "end_time": "2019-11-25T00:34:53.836273Z",
     "start_time": "2019-11-25T00:34:53.240278Z"
    },
    "colab": {
     "base_uri": "https://localhost:8080/",
     "height": 279
    },
    "id": "bysKIOA_AHZE",
    "outputId": "68526a8d-2a95-42a4-ac20-c741ffd4665f"
   },
   "outputs": [
    {
     "data": {
      "image/png": "[encoded data removed]",
      "text/plain": [
       "<Figure size 432x288 with 1 Axes>"
      ]
     },
     "metadata": {
      "needs_background": "light",
      "tags": []
     },
     "output_type": "display_data"
    }
   ],
   "source": [
    "iris = load_iris()\n",
    "X = iris.data[:,::2]  # comprimento das sépalas e pétalas, indices 0 e 2\n",
    "# normalização\n",
    "Xc = (X - X.min(axis=0))/(X.max(axis=0) - X.min(axis=0))\n",
    "\n",
    "Y = iris.target\n",
    "colors = np.array(['r','y','b'])\n",
    "plt.scatter(Xc[:, 0], Xc[:, 1], c=colors[Y])\n",
    "plt.xlabel('Sepal length')\n",
    "plt.ylabel('Sepal width')\n",
    "plt.show()"
   ]
  },
  {
   "cell_type": "markdown",
   "metadata": {
    "id": "oim2-uC8AHZI"
   },
   "source": [
    "### Prepara os dados para o PyTorch"
   ]
  },
  {
   "cell_type": "code",
   "execution_count": null,
   "metadata": {
    "ExecuteTime": {
     "end_time": "2019-11-25T00:34:53.866356Z",
     "start_time": "2019-11-25T00:34:53.844748Z"
    },
    "id": "Q9u_46Y4AHZI"
   },
   "outputs": [],
   "source": [
    "X_tensor = torch.FloatTensor(Xc)  # Entrada é FloatTensor\n",
    "Y_tensor = torch.LongTensor(Y)    # Classe é LongTensor"
   ]
  },
  {
   "cell_type": "markdown",
   "metadata": {
    "id": "zCBJu7XoAHZL"
   },
   "source": [
    "## Construindo o modelo da rede"
   ]
  },
  {
   "cell_type": "markdown",
   "metadata": {
    "id": "um8zN3kNAHZM"
   },
   "source": [
    "A saída da rede é composta por um neurônio para cada classe. A saída é denominada *scores* ou logitos:\n",
    "\n",
    "<img src='https://raw.githubusercontent.com/robertoalotufo/files/master/figures/RegressaoLogisticaRede_2_3.png' width=\"400\"></a>"
   ]
  },
  {
   "cell_type": "code",
   "execution_count": null,
   "metadata": {
    "ExecuteTime": {
     "end_time": "2019-11-25T00:34:53.891482Z",
     "start_time": "2019-11-25T00:34:53.870156Z"
    },
    "id": "Oi987Y7QAHZN"
   },
   "outputs": [],
   "source": [
    "model = nn.Linear(2,3)  # 2 entradas e 3 saídas"
   ]
  },
  {
   "cell_type": "markdown",
   "metadata": {
    "id": "PaU3lkxiAHZP"
   },
   "source": [
    "### Fazendo um predict"
   ]
  },
  {
   "cell_type": "code",
   "execution_count": null,
   "metadata": {
    "ExecuteTime": {
     "end_time": "2019-11-25T00:34:53.972455Z",
     "start_time": "2019-11-25T00:34:53.900981Z"
    },
    "colab": {
     "base_uri": "https://localhost:8080/"
    },
    "id": "60nio-mYAHZQ",
    "outputId": "d2818c77-638e-45c8-b7f6-677ba5f5a9c1"
   },
   "outputs": [
    {
     "data": {
      "text/plain": [
       "tensor([[-0.4159, -0.1892, -0.4247],\n",
       "        [-0.4531, -0.2049, -0.4426],\n",
       "        [-0.4943, -0.2213, -0.4615],\n",
       "        [-0.5050, -0.2278, -0.4685]], grad_fn=<AddmmBackward>)"
      ]
     },
     "execution_count": 8,
     "metadata": {
      "tags": []
     },
     "output_type": "execute_result"
    }
   ],
   "source": [
    "out = model( X_tensor[:4,:]) # 4 amostras\n",
    "out"
   ]
  },
  {
   "cell_type": "markdown",
   "metadata": {
    "id": "hSPu48voAHZS"
   },
   "source": [
    "### Calculando as probabilidades com Softmax"
   ]
  },
  {
   "cell_type": "markdown",
   "metadata": {
    "id": "XLfLPA6PAHZT"
   },
   "source": [
    "- [Wikipedia:Softmax_function](https://en.wikipedia.org/wiki/Softmax_function)"
   ]
  },
  {
   "cell_type": "markdown",
   "metadata": {
    "id": "fgAYTlP5AHZU"
   },
   "source": [
    "<img src='https://raw.githubusercontent.com/robertoalotufo/files/master/figures/softmax.png' width=\"600\">"
   ]
  },
  {
   "cell_type": "code",
   "execution_count": null,
   "metadata": {
    "ExecuteTime": {
     "end_time": "2019-11-25T00:34:53.995504Z",
     "start_time": "2019-11-25T00:34:53.975979Z"
    },
    "colab": {
     "base_uri": "https://localhost:8080/"
    },
    "id": "BM-4qdlkAHZU",
    "outputId": "dab654e4-8bbf-4d4e-9413-2aae0ed1efb4"
   },
   "outputs": [
    {
     "data": {
      "text/plain": [
       "tensor([[30.8103, 38.6501, 30.5396],\n",
       "        [30.3740, 38.9316, 30.6945],\n",
       "        [29.8758, 39.2532, 30.8710],\n",
       "        [29.7912, 39.3094, 30.8994]], grad_fn=<MulBackward0>)"
      ]
     },
     "execution_count": 12,
     "metadata": {
      "tags": []
     },
     "output_type": "execute_result"
    }
   ],
   "source": [
    "p = F.softmax(out,dim=1)*100\n",
    "p"
   ]
  },
  {
   "cell_type": "markdown",
   "metadata": {
    "id": "sRr36SWEAHZX"
   },
   "source": [
    "### Predição da classe"
   ]
  },
  {
   "cell_type": "code",
   "execution_count": null,
   "metadata": {
    "ExecuteTime": {
     "end_time": "2019-11-25T00:34:54.014365Z",
     "start_time": "2019-11-25T00:34:54.001320Z"
    },
    "colab": {
     "base_uri": "https://localhost:8080/"
    },
    "id": "uil4Z9JIAHZX",
    "outputId": "79e13207-9238-4aa0-f490-8006150876cf"
   },
   "outputs": [
    {
     "data": {
      "text/plain": [
       "(tensor([-0.1892, -0.2049, -0.2213, -0.2278], grad_fn=<MaxBackward0>),\n",
       " tensor([1, 1, 1, 1]))"
      ]
     },
     "execution_count": 14,
     "metadata": {
      "tags": []
     },
     "output_type": "execute_result"
    }
   ],
   "source": [
    "v,y_pred = torch.max(out,1)\n",
    "v, y_pred"
   ]
  },
  {
   "cell_type": "markdown",
   "metadata": {
    "id": "htDCwQh-AHZa"
   },
   "source": [
    "## Treinamento"
   ]
  },
  {
   "cell_type": "markdown",
   "metadata": {
    "id": "yfA71t0ZAHZb"
   },
   "source": [
    "### Classe para visualização dinâmica"
   ]
  },
  {
   "cell_type": "code",
   "execution_count": null,
   "metadata": {
    "ExecuteTime": {
     "end_time": "2019-11-25T00:34:54.061703Z",
     "start_time": "2019-11-25T00:34:54.018879Z"
    },
    "id": "MiQxkcucAHZb"
   },
   "outputs": [],
   "source": [
    "def predict(model, inputs):\n",
    "    outputs = model(inputs)\n",
    "    _, predicts = torch.max(outputs, 1)\n",
    "    \n",
    "    return predicts.data.numpy()\n",
    "\n",
    "def predict_prob(model, inputs):\n",
    "    outputs = model(inputs)\n",
    "    outputs = F.softmax(outputs,dim=1)\n",
    "    predicts, _ = torch.max(outputs, 1)\n",
    "    \n",
    "    return predicts.data.numpy()\n",
    "\n",
    "class MyPlotter():\n",
    "    def __init__(self, model, X, Y, n_epoch, filepath=None, h = .01):\n",
    "        self.model = model\n",
    "        self.X = X\n",
    "        self.Y = Y\n",
    "        self.n_epoch = n_epoch\n",
    "        self.filepath = filepath\n",
    "        x_min, x_max = X[:, 0].min() - .5, X[:, 0].max() + .5\n",
    "        y_min, y_max = X[:, 1].min() - .5, X[:, 1].max() + .5\n",
    "        self.xx, self.yy = np.meshgrid(np.arange(x_min, x_max, h), np.arange(y_min, y_max, h))\n",
    "        self.loss_hist = []\n",
    "        self.val_loss_hist = []\n",
    "        self.X_grid = np.c_[self.xx.ravel(), self.yy.ravel()]\n",
    "        \n",
    "        #Gráficos a serem mostrados pelo callback\n",
    "        self.fig = plt.figure(figsize=(12, 4), dpi=100)\n",
    "        self.ax1 = self.fig.add_subplot(1, 3, 1)\n",
    "        self.ax1.set_xlim(0, self.n_epoch)\n",
    "        self.ax1.set_xlabel('Epoca')#,fontsize=28)\n",
    "        self.ax1.set_ylabel('Perda')#,fontsize=28)\n",
    "        self.ax1.set_title('Perda x Época')\n",
    "        self.ax1.plot([],[],'b',linewidth = 2.0,label = \"Treino\")\n",
    "        self.ax1.grid(True)\n",
    "\n",
    "        self.ax2 = self.fig.add_subplot(1, 3, 2)\n",
    "        self.ax2.set_xlim(Xc[:,0].min(), Xc[:,0].max())\n",
    "        self.ax2.set_ylim(Xc[:,1].min(), Xc[:,1].max())\n",
    "        self.ax2.set_xlabel('Comprimento da Sepala')#,fontsize=28)\n",
    "        self.ax2.set_ylabel('Largura da Sepala')#,fontsize=28)\n",
    "        self.ax2.set_title('Fronteiras de decisão')\n",
    "\n",
    "        self.ax3 = self.fig.add_subplot(1, 3, 3)\n",
    "        self.ax3.set_xlim(Xc[:,0].min(), Xc[:,0].max())\n",
    "        self.ax3.set_ylim(Xc[:,1].min(), Xc[:,1].max())\n",
    "        self.ax3.set_xlabel('Comprimento da Sepala')#,fontsize=28)\n",
    "        self.ax3.set_ylabel('Largura da Sepala')#,fontsize=28)\n",
    "        self.ax3.set_title('Máxima probabilidade')\n",
    "\n",
    "    def on_train_begin(self, logs={}):\n",
    "        display.display(self.fig)\n",
    "        display.clear_output(wait=True)\n",
    "\n",
    "    def on_epoch_end(self, epoch, logs={}):\n",
    "        if 'loss' in logs.keys():\n",
    "            self.loss_hist.append(logs['loss'])\n",
    "            \n",
    "            if epoch%250==0:\n",
    "                self.ax1.plot(np.arange(epoch+1), self.loss_hist, 'b', linewidth = 2.0)\n",
    "                \n",
    "                #Z = predict(self.model, torch.from_numpy(self.X_grid).type(torch.FloatTensor))\n",
    "                Zc = predict(self.model,torch.FloatTensor(self.X_grid))\n",
    "                Zc = Zc.reshape(self.xx.shape)\n",
    "                \n",
    "                self.ax2.pcolormesh(self.xx, self.yy, Zc, cmap=plt.cm.Paired)\n",
    "                colors = np.array(['r','y','b'])\n",
    "                self.ax2.scatter(self.X[:, 0], self.X[:, 1], s=40, c=colors[self.Y], edgecolors='k', cmap=plt.cm.Paired)\n",
    "                    \n",
    "                Zp = predict_prob(self.model,torch.FloatTensor(self.X_grid))\n",
    "                Zp = Zp.reshape(self.xx.shape)\n",
    "\n",
    "                self.ax3.pcolormesh(self.xx, self.yy, Zp, cmap=plt.cm.magma)\n",
    "                colors = np.array(['r','y','b'])\n",
    "                self.ax3.scatter(self.X[:, 0], self.X[:, 1], s=40, c=colors[self.Y], edgecolors='k', cmap=plt.cm.Paired)\n",
    "\n",
    "                display.display(self.fig)\n",
    "                display.clear_output(wait=True)"
   ]
  },
  {
   "cell_type": "markdown",
   "metadata": {
    "id": "tpkSoiCBAHZd"
   },
   "source": [
    "### Laço principal de treinamento da Regressão Logística por Softmax"
   ]
  },
  {
   "cell_type": "code",
   "execution_count": null,
   "metadata": {
    "id": "2N22F4chpyCY"
   },
   "outputs": [],
   "source": [
    "# Define parameters\n",
    "PARAMS = {'nb_epoch': 100000,\n",
    "          'lr': 0.2,\n",
    "          'Loss': 'CrossEntropyLoss',\n",
    "          'optimizer': 'SGD',\n",
    "         }\n",
    "\n",
    "# Pass parameters\n",
    "run['parameters'] = PARAMS"
   ]
  },
  {
   "cell_type": "code",
   "execution_count": null,
   "metadata": {
    "ExecuteTime": {
     "end_time": "2019-11-25T00:34:54.071286Z",
     "start_time": "2019-11-25T00:34:54.064752Z"
    },
    "id": "aP7eNW6FAHZe"
   },
   "outputs": [],
   "source": [
    "\n",
    "optimizer = torch.optim.SGD(model.parameters(), lr=PARAMS['lr'])\n",
    "criterion = nn.CrossEntropyLoss()"
   ]
  },
  {
   "cell_type": "code",
   "execution_count": null,
   "metadata": {
    "ExecuteTime": {
     "end_time": "2019-11-25T00:35:16.709158Z",
     "start_time": "2019-11-25T00:34:54.094382Z"
    },
    "colab": {
     "base_uri": "https://localhost:8080/",
     "height": 424
    },
    "id": "_ZJphY9ZAHZg",
    "outputId": "4aad2ee8-4400-4351-8af1-03abfe7eeb27",
    "scrolled": false
   },
   "outputs": [
    {
     "name": "stdout",
     "output_type": "stream",
     "text": [
      "Final loss: 0.09218860417604446\n"
     ]
    },
    {
     "data": {
      "image/png": "[encoded data removed]",
      "text/plain": [
       "<Figure size 1200x400 with 3 Axes>"
      ]
     },
     "metadata": {
      "needs_background": "light",
      "tags": []
     },
     "output_type": "display_data"
    }
   ],
   "source": [
    "#Definindo o plotter\n",
    "my_plot = MyPlotter(model, Xc, Y, PARAMS['nb_epoch'])\n",
    "\n",
    "losses = []\n",
    "for i in range(PARAMS['nb_epoch']):\n",
    "    # predict da rede\n",
    "    output = model(X_tensor)\n",
    "\n",
    "    # calcula a perda\n",
    "    loss = criterion(output, Y_tensor)\n",
    "\n",
    "    # Faz o backpropagation para calcular os gradientes e otimizar parâmetros\n",
    "    optimizer.zero_grad()\n",
    "    loss.backward()\n",
    "    optimizer.step()\n",
    "    \n",
    "    losses.append(loss.item())\n",
    "    run['train/loss'].log(loss.item())\n",
    "    \n",
    "    my_plot.on_epoch_end(i, {'loss': loss.item()});\n",
    "    \n",
    "print('Final loss:', loss.item())"
   ]
  },
  {
   "cell_type": "markdown",
   "metadata": {
    "id": "0xsWhFnSAHZj"
   },
   "source": [
    "## Avaliação"
   ]
  },
  {
   "cell_type": "markdown",
   "metadata": {
    "id": "HuWO_efIAHZj"
   },
   "source": [
    "### Parâmetros após treinamento"
   ]
  },
  {
   "cell_type": "code",
   "execution_count": null,
   "metadata": {
    "ExecuteTime": {
     "end_time": "2019-11-25T00:35:16.729900Z",
     "start_time": "2019-11-25T00:35:16.712640Z"
    },
    "colab": {
     "base_uri": "https://localhost:8080/"
    },
    "id": "vvrEshyjAHZk",
    "outputId": "a81c64b2-bd58-433f-c4ca-e807cb261a32",
    "scrolled": false
   },
   "outputs": [
    {
     "data": {
      "text/plain": [
       "OrderedDict([('weight', tensor([[  0.3317, -34.9797],\n",
       "                      [  4.8666,  -6.8342],\n",
       "                      [ -3.9232,  42.1381]])),\n",
       "             ('bias', tensor([ 14.5053,   5.7983, -21.6427]))])"
      ]
     },
     "execution_count": 20,
     "metadata": {
      "tags": []
     },
     "output_type": "execute_result"
    }
   ],
   "source": [
    "model.state_dict()"
   ]
  },
  {
   "cell_type": "markdown",
   "metadata": {
    "id": "kAj0uUu6AHZn"
   },
   "source": [
    "### Salvando os parâmetros treinados"
   ]
  },
  {
   "cell_type": "code",
   "execution_count": null,
   "metadata": {
    "ExecuteTime": {
     "end_time": "2019-11-25T00:35:16.822696Z",
     "start_time": "2019-11-25T00:35:16.736504Z"
    },
    "id": "QewzaYmpAHZo"
   },
   "outputs": [],
   "source": [
    "os.makedirs('models',exist_ok=True)\n",
    "torch.save(model.state_dict(),'models/RegrLog_Iris.pt')"
   ]
  },
  {
   "cell_type": "code",
   "execution_count": null,
   "metadata": {
    "ExecuteTime": {
     "end_time": "2019-11-25T00:35:16.873718Z",
     "start_time": "2019-11-25T00:35:16.831094Z"
    },
    "colab": {
     "base_uri": "https://localhost:8080/"
    },
    "id": "W-fhdPCrAHZt",
    "outputId": "f67f9f63-106e-4594-bdc0-6ede195d270e"
   },
   "outputs": [
    {
     "data": {
      "text/plain": [
       "Parameter containing:\n",
       "tensor([[0., 0.],\n",
       "        [0., 0.],\n",
       "        [0., 0.]], requires_grad=True)"
      ]
     },
     "execution_count": 16,
     "metadata": {
      "tags": []
     },
     "output_type": "execute_result"
    }
   ],
   "source": [
    "nn.init.constant_(model.weight,0)"
   ]
  },
  {
   "cell_type": "markdown",
   "metadata": {
    "id": "hwuRafV5AHZw"
   },
   "source": [
    "### Recuperando os pesos salvos"
   ]
  },
  {
   "cell_type": "code",
   "execution_count": null,
   "metadata": {
    "ExecuteTime": {
     "end_time": "2019-11-25T00:35:16.919553Z",
     "start_time": "2019-11-25T00:35:16.882260Z"
    },
    "colab": {
     "base_uri": "https://localhost:8080/"
    },
    "id": "-_T9ucaCAHZx",
    "outputId": "a3af5e43-933a-4e44-b1ee-82c5ca8c6a50"
   },
   "outputs": [
    {
     "data": {
      "text/plain": [
       "<All keys matched successfully>"
      ]
     },
     "execution_count": 17,
     "metadata": {
      "tags": []
     },
     "output_type": "execute_result"
    }
   ],
   "source": [
    "param_saved = torch.load('models/RegrLog_Iris.pt')\n",
    "model.load_state_dict(param_saved)"
   ]
  },
  {
   "cell_type": "markdown",
   "metadata": {
    "id": "PH_BxYOQAHZz"
   },
   "source": [
    "### Exatidão (acurácia) do classificador"
   ]
  },
  {
   "cell_type": "markdown",
   "metadata": {
    "id": "BOYmhfNlAHZ0"
   },
   "source": [
    "Acurácia indica o número de acertos sobre o número total de amostras"
   ]
  },
  {
   "cell_type": "code",
   "execution_count": null,
   "metadata": {
    "ExecuteTime": {
     "end_time": "2019-11-25T00:35:16.937812Z",
     "start_time": "2019-11-25T00:35:16.923927Z"
    },
    "colab": {
     "base_uri": "https://localhost:8080/"
    },
    "id": "o96bbFysAHZ1",
    "outputId": "74c0adc8-0683-42fc-a363-751a7991d847"
   },
   "outputs": [
    {
     "name": "stdout",
     "output_type": "stream",
     "text": [
      "Training Accuracy:  0.9666666666666667\n"
     ]
    }
   ],
   "source": [
    "Y_pred = predict(model, X_tensor)\n",
    "accuracy = (Y_pred == Y).mean()\n",
    "print('Training Accuracy: ', accuracy)\n",
    "run['metric'].log(accuracy)"
   ]
  },
  {
   "cell_type": "markdown",
   "metadata": {
    "id": "7a15dqDsAHZ3"
   },
   "source": [
    "### Matriz de confusão"
   ]
  },
  {
   "cell_type": "code",
   "execution_count": null,
   "metadata": {
    "ExecuteTime": {
     "end_time": "2019-11-25T00:35:17.120330Z",
     "start_time": "2019-11-25T00:35:16.951741Z"
    },
    "colab": {
     "base_uri": "https://localhost:8080/",
     "height": 172
    },
    "id": "2-_JbMdcAHZ4",
    "outputId": "56297509-acb3-4489-d7e8-fab3bdb20a19"
   },
   "outputs": [
    {
     "data": {
      "text/html": [
       "<div>\n",
       "<style scoped>\n",
       "    .dataframe tbody tr th:only-of-type {\n",
       "        vertical-align: middle;\n",
       "    }\n",
       "\n",
       "    .dataframe tbody tr th {\n",
       "        vertical-align: top;\n",
       "    }\n",
       "\n",
       "    .dataframe thead th {\n",
       "        text-align: right;\n",
       "    }\n",
       "</style>\n",
       "<table border=\"1\" class=\"dataframe\">\n",
       "  <thead>\n",
       "    <tr style=\"text-align: right;\">\n",
       "      <th>col_0</th>\n",
       "      <th>0</th>\n",
       "      <th>1</th>\n",
       "      <th>2</th>\n",
       "    </tr>\n",
       "    <tr>\n",
       "      <th>row_0</th>\n",
       "      <th></th>\n",
       "      <th></th>\n",
       "      <th></th>\n",
       "    </tr>\n",
       "  </thead>\n",
       "  <tbody>\n",
       "    <tr>\n",
       "      <th>0</th>\n",
       "      <td>50</td>\n",
       "      <td>0</td>\n",
       "      <td>0</td>\n",
       "    </tr>\n",
       "    <tr>\n",
       "      <th>1</th>\n",
       "      <td>0</td>\n",
       "      <td>47</td>\n",
       "      <td>2</td>\n",
       "    </tr>\n",
       "    <tr>\n",
       "      <th>2</th>\n",
       "      <td>0</td>\n",
       "      <td>3</td>\n",
       "      <td>48</td>\n",
       "    </tr>\n",
       "  </tbody>\n",
       "</table>\n",
       "</div>"
      ],
      "text/plain": [
       "col_0   0   1   2\n",
       "row_0            \n",
       "0      50   0   0\n",
       "1       0  47   2\n",
       "2       0   3  48"
      ]
     },
     "execution_count": 19,
     "metadata": {
      "tags": []
     },
     "output_type": "execute_result"
    }
   ],
   "source": [
    "import pandas as pd\n",
    "pd.crosstab(Y_pred, Y)"
   ]
  },
  {
   "cell_type": "markdown",
   "metadata": {
    "id": "3RBO8KqUAHZ6"
   },
   "source": [
    "## Atividades"
   ]
  },
  {
   "cell_type": "markdown",
   "metadata": {
    "id": "dKsv5LTwAHZ7"
   },
   "source": [
    "### Perguntas:"
   ]
  },
  {
   "cell_type": "markdown",
   "metadata": {
    "id": "UkpothbPAHZ8"
   },
   "source": [
    "1. Observe que se após o treinamento, a célula for executada novamente, ela continua utilizando os parâmetros treinados até sua última execução. O que é preciso fazer para que o treinamento comece deste o início, como da primeira vez que foi executado?\n",
    "2. Quantos parâmetros possui esta rede? Quantos são da camada densa e quantos são de bias?\n",
    "3. Quantas entradas e quantas saídas esta rede possui?\n",
    "4. Como se pode calcular a acurácia a partir da matriz de confusão?\n",
    "5. O que faz a função `torch.max`? Quantos parâmetros ela retorna e quais seus significados?\n",
    "    - https://pytorch.org/docs/master/generated/torch.max.html#torch.max"
   ]
  },
  {
   "cell_type": "markdown",
   "metadata": {
    "id": "YUNLtC7EAHZ8"
   },
   "source": [
    "### Exercícios:"
   ]
  },
  {
   "cell_type": "markdown",
   "metadata": {
    "id": "oUAsE_IkAHZ9"
   },
   "source": [
    "1. Experimente refazer o treinamento com diferentes valores de learning rate\n",
    "2. Na opção de mostrar o valor das probabilidades no gráfico do espaço de atributos,\n",
    "troque a tabela de cores **magma** utilizada no `pcolormesh` que está com o parâmetro `cmap=plt.cm.magma`. Escolha a tabela de cores consultando o manual do matplotlib:\n",
    "    - https://matplotlib.org/users/colormaps.html\n",
    "3. Observando o gráfico de máxima probabilidade, responda:\n",
    "    1. Qual é a amostra classificada corretamente, com maior probabilidade?\n",
    "    2. Qual é a amostra classificada erradamente, com maior probabilidade?\n",
    "    3. Qual é a amostra classificada corretamente, com menor probabilidade?\n",
    "    4. Qual é a amostra classificada erradamente, com menor probabilidade?"
   ]
  },
  {
   "cell_type": "markdown",
   "metadata": {
    "id": "tDCqYyESAHZ-"
   },
   "source": [
    "## Principais aprendizados"
   ]
  },
  {
   "cell_type": "code",
   "execution_count": null,
   "metadata": {
    "id": "8BUT-EN3AHZ_"
   },
   "outputs": [],
   "source": []
  }
 ],
 "metadata": {
  "colab": {
   "collapsed_sections": [],
   "name": "03_01_Neptune_LogisticRegressionIris.ipynb",
   "provenance": []
  },
  "kernelspec": {
   "display_name": "Python 3",
   "language": "python",
   "name": "python3"
  },
  "language_info": {
   "codemirror_mode": {
    "name": "ipython",
    "version": 3
   },
   "file_extension": ".py",
   "mimetype": "text/x-python",
   "name": "python",
   "nbconvert_exporter": "python",
   "pygments_lexer": "ipython3",
   "version": "3.9.2"
  },
  "toc": {
   "base_numbering": 1,
   "nav_menu": {
    "height": "248px",
    "width": "252px"
   },
   "number_sections": true,
   "sideBar": true,
   "skip_h1_title": false,
   "title_cell": "Table of Contents",
   "title_sidebar": "Contents",
   "toc_cell": false,
   "toc_position": {},
   "toc_section_display": "block",
   "toc_window_display": false
  },
  "varInspector": {
   "cols": {
    "lenName": 16,
    "lenType": 16,
    "lenVar": 40
   },
   "kernels_config": {
    "python": {
     "delete_cmd_postfix": "",
     "delete_cmd_prefix": "del ",
     "library": "var_list.py",
     "varRefreshCmd": "print(var_dic_list())"
    },
    "r": {
     "delete_cmd_postfix": ") ",
     "delete_cmd_prefix": "rm(",
     "library": "var_list.r",
     "varRefreshCmd": "cat(var_dic_list()) "
    }
   },
   "types_to_exclude": [
    "module",
    "function",
    "builtin_function_or_method",
    "instance",
    "_Feature"
   ],
   "window_display": false
  }
 },
 "nbformat": 4,
 "nbformat_minor": 1
}
